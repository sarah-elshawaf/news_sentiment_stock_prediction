{
  "nbformat": 4,
  "nbformat_minor": 0,
  "metadata": {
    "colab": {
      "provenance": []
    },
    "kernelspec": {
      "name": "python3",
      "display_name": "Python 3"
    },
    "language_info": {
      "name": "python"
    },
    "widgets": {
      "application/vnd.jupyter.widget-state+json": {
        "c2c3854977df4072ae0d79255b23ff74": {
          "model_module": "@jupyter-widgets/controls",
          "model_name": "HBoxModel",
          "model_module_version": "1.5.0",
          "state": {
            "_dom_classes": [],
            "_model_module": "@jupyter-widgets/controls",
            "_model_module_version": "1.5.0",
            "_model_name": "HBoxModel",
            "_view_count": null,
            "_view_module": "@jupyter-widgets/controls",
            "_view_module_version": "1.5.0",
            "_view_name": "HBoxView",
            "box_style": "",
            "children": [
              "IPY_MODEL_d0d597d376a448eea1d6d4e8490ac151",
              "IPY_MODEL_7c5f2b667ec846cb894ce1f06ba92753",
              "IPY_MODEL_30f0fec60e3442d4b82b1205578691a7"
            ],
            "layout": "IPY_MODEL_79e7694eca234095aee959d588f13981"
          }
        },
        "d0d597d376a448eea1d6d4e8490ac151": {
          "model_module": "@jupyter-widgets/controls",
          "model_name": "HTMLModel",
          "model_module_version": "1.5.0",
          "state": {
            "_dom_classes": [],
            "_model_module": "@jupyter-widgets/controls",
            "_model_module_version": "1.5.0",
            "_model_name": "HTMLModel",
            "_view_count": null,
            "_view_module": "@jupyter-widgets/controls",
            "_view_module_version": "1.5.0",
            "_view_name": "HTMLView",
            "description": "",
            "description_tooltip": null,
            "layout": "IPY_MODEL_30a4e4f3e7b44b779e4a392c98616ce1",
            "placeholder": "​",
            "style": "IPY_MODEL_2e88d170fb104bf3a5dd0bd114528665",
            "value": "Best trial: 21. Best value: 0.0364854: 100%"
          }
        },
        "7c5f2b667ec846cb894ce1f06ba92753": {
          "model_module": "@jupyter-widgets/controls",
          "model_name": "FloatProgressModel",
          "model_module_version": "1.5.0",
          "state": {
            "_dom_classes": [],
            "_model_module": "@jupyter-widgets/controls",
            "_model_module_version": "1.5.0",
            "_model_name": "FloatProgressModel",
            "_view_count": null,
            "_view_module": "@jupyter-widgets/controls",
            "_view_module_version": "1.5.0",
            "_view_name": "ProgressView",
            "bar_style": "success",
            "description": "",
            "description_tooltip": null,
            "layout": "IPY_MODEL_187c5e789782467dbffe6a68a0be2439",
            "max": 30,
            "min": 0,
            "orientation": "horizontal",
            "style": "IPY_MODEL_a76b88dff6374addb275fd27e18915a7",
            "value": 30
          }
        },
        "30f0fec60e3442d4b82b1205578691a7": {
          "model_module": "@jupyter-widgets/controls",
          "model_name": "HTMLModel",
          "model_module_version": "1.5.0",
          "state": {
            "_dom_classes": [],
            "_model_module": "@jupyter-widgets/controls",
            "_model_module_version": "1.5.0",
            "_model_name": "HTMLModel",
            "_view_count": null,
            "_view_module": "@jupyter-widgets/controls",
            "_view_module_version": "1.5.0",
            "_view_name": "HTMLView",
            "description": "",
            "description_tooltip": null,
            "layout": "IPY_MODEL_614399177dde493aabdfa876d389286c",
            "placeholder": "​",
            "style": "IPY_MODEL_2a2ddb6060c4493a81860b41dad0d5c6",
            "value": " 30/30 [08:09&lt;00:00, 17.12s/it]"
          }
        },
        "79e7694eca234095aee959d588f13981": {
          "model_module": "@jupyter-widgets/base",
          "model_name": "LayoutModel",
          "model_module_version": "1.2.0",
          "state": {
            "_model_module": "@jupyter-widgets/base",
            "_model_module_version": "1.2.0",
            "_model_name": "LayoutModel",
            "_view_count": null,
            "_view_module": "@jupyter-widgets/base",
            "_view_module_version": "1.2.0",
            "_view_name": "LayoutView",
            "align_content": null,
            "align_items": null,
            "align_self": null,
            "border": null,
            "bottom": null,
            "display": null,
            "flex": null,
            "flex_flow": null,
            "grid_area": null,
            "grid_auto_columns": null,
            "grid_auto_flow": null,
            "grid_auto_rows": null,
            "grid_column": null,
            "grid_gap": null,
            "grid_row": null,
            "grid_template_areas": null,
            "grid_template_columns": null,
            "grid_template_rows": null,
            "height": null,
            "justify_content": null,
            "justify_items": null,
            "left": null,
            "margin": null,
            "max_height": null,
            "max_width": null,
            "min_height": null,
            "min_width": null,
            "object_fit": null,
            "object_position": null,
            "order": null,
            "overflow": null,
            "overflow_x": null,
            "overflow_y": null,
            "padding": null,
            "right": null,
            "top": null,
            "visibility": null,
            "width": null
          }
        },
        "30a4e4f3e7b44b779e4a392c98616ce1": {
          "model_module": "@jupyter-widgets/base",
          "model_name": "LayoutModel",
          "model_module_version": "1.2.0",
          "state": {
            "_model_module": "@jupyter-widgets/base",
            "_model_module_version": "1.2.0",
            "_model_name": "LayoutModel",
            "_view_count": null,
            "_view_module": "@jupyter-widgets/base",
            "_view_module_version": "1.2.0",
            "_view_name": "LayoutView",
            "align_content": null,
            "align_items": null,
            "align_self": null,
            "border": null,
            "bottom": null,
            "display": null,
            "flex": null,
            "flex_flow": null,
            "grid_area": null,
            "grid_auto_columns": null,
            "grid_auto_flow": null,
            "grid_auto_rows": null,
            "grid_column": null,
            "grid_gap": null,
            "grid_row": null,
            "grid_template_areas": null,
            "grid_template_columns": null,
            "grid_template_rows": null,
            "height": null,
            "justify_content": null,
            "justify_items": null,
            "left": null,
            "margin": null,
            "max_height": null,
            "max_width": null,
            "min_height": null,
            "min_width": null,
            "object_fit": null,
            "object_position": null,
            "order": null,
            "overflow": null,
            "overflow_x": null,
            "overflow_y": null,
            "padding": null,
            "right": null,
            "top": null,
            "visibility": null,
            "width": null
          }
        },
        "2e88d170fb104bf3a5dd0bd114528665": {
          "model_module": "@jupyter-widgets/controls",
          "model_name": "DescriptionStyleModel",
          "model_module_version": "1.5.0",
          "state": {
            "_model_module": "@jupyter-widgets/controls",
            "_model_module_version": "1.5.0",
            "_model_name": "DescriptionStyleModel",
            "_view_count": null,
            "_view_module": "@jupyter-widgets/base",
            "_view_module_version": "1.2.0",
            "_view_name": "StyleView",
            "description_width": ""
          }
        },
        "187c5e789782467dbffe6a68a0be2439": {
          "model_module": "@jupyter-widgets/base",
          "model_name": "LayoutModel",
          "model_module_version": "1.2.0",
          "state": {
            "_model_module": "@jupyter-widgets/base",
            "_model_module_version": "1.2.0",
            "_model_name": "LayoutModel",
            "_view_count": null,
            "_view_module": "@jupyter-widgets/base",
            "_view_module_version": "1.2.0",
            "_view_name": "LayoutView",
            "align_content": null,
            "align_items": null,
            "align_self": null,
            "border": null,
            "bottom": null,
            "display": null,
            "flex": null,
            "flex_flow": null,
            "grid_area": null,
            "grid_auto_columns": null,
            "grid_auto_flow": null,
            "grid_auto_rows": null,
            "grid_column": null,
            "grid_gap": null,
            "grid_row": null,
            "grid_template_areas": null,
            "grid_template_columns": null,
            "grid_template_rows": null,
            "height": null,
            "justify_content": null,
            "justify_items": null,
            "left": null,
            "margin": null,
            "max_height": null,
            "max_width": null,
            "min_height": null,
            "min_width": null,
            "object_fit": null,
            "object_position": null,
            "order": null,
            "overflow": null,
            "overflow_x": null,
            "overflow_y": null,
            "padding": null,
            "right": null,
            "top": null,
            "visibility": null,
            "width": null
          }
        },
        "a76b88dff6374addb275fd27e18915a7": {
          "model_module": "@jupyter-widgets/controls",
          "model_name": "ProgressStyleModel",
          "model_module_version": "1.5.0",
          "state": {
            "_model_module": "@jupyter-widgets/controls",
            "_model_module_version": "1.5.0",
            "_model_name": "ProgressStyleModel",
            "_view_count": null,
            "_view_module": "@jupyter-widgets/base",
            "_view_module_version": "1.2.0",
            "_view_name": "StyleView",
            "bar_color": null,
            "description_width": ""
          }
        },
        "614399177dde493aabdfa876d389286c": {
          "model_module": "@jupyter-widgets/base",
          "model_name": "LayoutModel",
          "model_module_version": "1.2.0",
          "state": {
            "_model_module": "@jupyter-widgets/base",
            "_model_module_version": "1.2.0",
            "_model_name": "LayoutModel",
            "_view_count": null,
            "_view_module": "@jupyter-widgets/base",
            "_view_module_version": "1.2.0",
            "_view_name": "LayoutView",
            "align_content": null,
            "align_items": null,
            "align_self": null,
            "border": null,
            "bottom": null,
            "display": null,
            "flex": null,
            "flex_flow": null,
            "grid_area": null,
            "grid_auto_columns": null,
            "grid_auto_flow": null,
            "grid_auto_rows": null,
            "grid_column": null,
            "grid_gap": null,
            "grid_row": null,
            "grid_template_areas": null,
            "grid_template_columns": null,
            "grid_template_rows": null,
            "height": null,
            "justify_content": null,
            "justify_items": null,
            "left": null,
            "margin": null,
            "max_height": null,
            "max_width": null,
            "min_height": null,
            "min_width": null,
            "object_fit": null,
            "object_position": null,
            "order": null,
            "overflow": null,
            "overflow_x": null,
            "overflow_y": null,
            "padding": null,
            "right": null,
            "top": null,
            "visibility": null,
            "width": null
          }
        },
        "2a2ddb6060c4493a81860b41dad0d5c6": {
          "model_module": "@jupyter-widgets/controls",
          "model_name": "DescriptionStyleModel",
          "model_module_version": "1.5.0",
          "state": {
            "_model_module": "@jupyter-widgets/controls",
            "_model_module_version": "1.5.0",
            "_model_name": "DescriptionStyleModel",
            "_view_count": null,
            "_view_module": "@jupyter-widgets/base",
            "_view_module_version": "1.2.0",
            "_view_name": "StyleView",
            "description_width": ""
          }
        },
        "1f90a3fd3bf8484298b6cbf4eeb85127": {
          "model_module": "@jupyter-widgets/controls",
          "model_name": "HBoxModel",
          "model_module_version": "1.5.0",
          "state": {
            "_dom_classes": [],
            "_model_module": "@jupyter-widgets/controls",
            "_model_module_version": "1.5.0",
            "_model_name": "HBoxModel",
            "_view_count": null,
            "_view_module": "@jupyter-widgets/controls",
            "_view_module_version": "1.5.0",
            "_view_name": "HBoxView",
            "box_style": "",
            "children": [
              "IPY_MODEL_c4e4607c25164f0cb938f38104ab158d",
              "IPY_MODEL_ba033a50f24843c58c14a432bb8256a8",
              "IPY_MODEL_540e3115168a45a28d29e5b861aa58aa"
            ],
            "layout": "IPY_MODEL_ae0fee12844a4d2da4fb54e37dfd5a29"
          }
        },
        "c4e4607c25164f0cb938f38104ab158d": {
          "model_module": "@jupyter-widgets/controls",
          "model_name": "HTMLModel",
          "model_module_version": "1.5.0",
          "state": {
            "_dom_classes": [],
            "_model_module": "@jupyter-widgets/controls",
            "_model_module_version": "1.5.0",
            "_model_name": "HTMLModel",
            "_view_count": null,
            "_view_module": "@jupyter-widgets/controls",
            "_view_module_version": "1.5.0",
            "_view_name": "HTMLView",
            "description": "",
            "description_tooltip": null,
            "layout": "IPY_MODEL_cf655b10c8b6413ebba1636139f56307",
            "placeholder": "​",
            "style": "IPY_MODEL_bbb92e5b2dc64ed9b941213b923253a7",
            "value": "Best trial: 26. Best value: 0.0309694: 100%"
          }
        },
        "ba033a50f24843c58c14a432bb8256a8": {
          "model_module": "@jupyter-widgets/controls",
          "model_name": "FloatProgressModel",
          "model_module_version": "1.5.0",
          "state": {
            "_dom_classes": [],
            "_model_module": "@jupyter-widgets/controls",
            "_model_module_version": "1.5.0",
            "_model_name": "FloatProgressModel",
            "_view_count": null,
            "_view_module": "@jupyter-widgets/controls",
            "_view_module_version": "1.5.0",
            "_view_name": "ProgressView",
            "bar_style": "success",
            "description": "",
            "description_tooltip": null,
            "layout": "IPY_MODEL_299bf72be1b54efd830fb4a4aa998b1e",
            "max": 30,
            "min": 0,
            "orientation": "horizontal",
            "style": "IPY_MODEL_154e9ec2f5684dde90a81e6b108387fc",
            "value": 30
          }
        },
        "540e3115168a45a28d29e5b861aa58aa": {
          "model_module": "@jupyter-widgets/controls",
          "model_name": "HTMLModel",
          "model_module_version": "1.5.0",
          "state": {
            "_dom_classes": [],
            "_model_module": "@jupyter-widgets/controls",
            "_model_module_version": "1.5.0",
            "_model_name": "HTMLModel",
            "_view_count": null,
            "_view_module": "@jupyter-widgets/controls",
            "_view_module_version": "1.5.0",
            "_view_name": "HTMLView",
            "description": "",
            "description_tooltip": null,
            "layout": "IPY_MODEL_6717ab47e3544566bb95a2a89313971f",
            "placeholder": "​",
            "style": "IPY_MODEL_88b4a09a52e64e0fa4a7e692b39b7461",
            "value": " 30/30 [09:55&lt;00:00, 13.00s/it]"
          }
        },
        "ae0fee12844a4d2da4fb54e37dfd5a29": {
          "model_module": "@jupyter-widgets/base",
          "model_name": "LayoutModel",
          "model_module_version": "1.2.0",
          "state": {
            "_model_module": "@jupyter-widgets/base",
            "_model_module_version": "1.2.0",
            "_model_name": "LayoutModel",
            "_view_count": null,
            "_view_module": "@jupyter-widgets/base",
            "_view_module_version": "1.2.0",
            "_view_name": "LayoutView",
            "align_content": null,
            "align_items": null,
            "align_self": null,
            "border": null,
            "bottom": null,
            "display": null,
            "flex": null,
            "flex_flow": null,
            "grid_area": null,
            "grid_auto_columns": null,
            "grid_auto_flow": null,
            "grid_auto_rows": null,
            "grid_column": null,
            "grid_gap": null,
            "grid_row": null,
            "grid_template_areas": null,
            "grid_template_columns": null,
            "grid_template_rows": null,
            "height": null,
            "justify_content": null,
            "justify_items": null,
            "left": null,
            "margin": null,
            "max_height": null,
            "max_width": null,
            "min_height": null,
            "min_width": null,
            "object_fit": null,
            "object_position": null,
            "order": null,
            "overflow": null,
            "overflow_x": null,
            "overflow_y": null,
            "padding": null,
            "right": null,
            "top": null,
            "visibility": null,
            "width": null
          }
        },
        "cf655b10c8b6413ebba1636139f56307": {
          "model_module": "@jupyter-widgets/base",
          "model_name": "LayoutModel",
          "model_module_version": "1.2.0",
          "state": {
            "_model_module": "@jupyter-widgets/base",
            "_model_module_version": "1.2.0",
            "_model_name": "LayoutModel",
            "_view_count": null,
            "_view_module": "@jupyter-widgets/base",
            "_view_module_version": "1.2.0",
            "_view_name": "LayoutView",
            "align_content": null,
            "align_items": null,
            "align_self": null,
            "border": null,
            "bottom": null,
            "display": null,
            "flex": null,
            "flex_flow": null,
            "grid_area": null,
            "grid_auto_columns": null,
            "grid_auto_flow": null,
            "grid_auto_rows": null,
            "grid_column": null,
            "grid_gap": null,
            "grid_row": null,
            "grid_template_areas": null,
            "grid_template_columns": null,
            "grid_template_rows": null,
            "height": null,
            "justify_content": null,
            "justify_items": null,
            "left": null,
            "margin": null,
            "max_height": null,
            "max_width": null,
            "min_height": null,
            "min_width": null,
            "object_fit": null,
            "object_position": null,
            "order": null,
            "overflow": null,
            "overflow_x": null,
            "overflow_y": null,
            "padding": null,
            "right": null,
            "top": null,
            "visibility": null,
            "width": null
          }
        },
        "bbb92e5b2dc64ed9b941213b923253a7": {
          "model_module": "@jupyter-widgets/controls",
          "model_name": "DescriptionStyleModel",
          "model_module_version": "1.5.0",
          "state": {
            "_model_module": "@jupyter-widgets/controls",
            "_model_module_version": "1.5.0",
            "_model_name": "DescriptionStyleModel",
            "_view_count": null,
            "_view_module": "@jupyter-widgets/base",
            "_view_module_version": "1.2.0",
            "_view_name": "StyleView",
            "description_width": ""
          }
        },
        "299bf72be1b54efd830fb4a4aa998b1e": {
          "model_module": "@jupyter-widgets/base",
          "model_name": "LayoutModel",
          "model_module_version": "1.2.0",
          "state": {
            "_model_module": "@jupyter-widgets/base",
            "_model_module_version": "1.2.0",
            "_model_name": "LayoutModel",
            "_view_count": null,
            "_view_module": "@jupyter-widgets/base",
            "_view_module_version": "1.2.0",
            "_view_name": "LayoutView",
            "align_content": null,
            "align_items": null,
            "align_self": null,
            "border": null,
            "bottom": null,
            "display": null,
            "flex": null,
            "flex_flow": null,
            "grid_area": null,
            "grid_auto_columns": null,
            "grid_auto_flow": null,
            "grid_auto_rows": null,
            "grid_column": null,
            "grid_gap": null,
            "grid_row": null,
            "grid_template_areas": null,
            "grid_template_columns": null,
            "grid_template_rows": null,
            "height": null,
            "justify_content": null,
            "justify_items": null,
            "left": null,
            "margin": null,
            "max_height": null,
            "max_width": null,
            "min_height": null,
            "min_width": null,
            "object_fit": null,
            "object_position": null,
            "order": null,
            "overflow": null,
            "overflow_x": null,
            "overflow_y": null,
            "padding": null,
            "right": null,
            "top": null,
            "visibility": null,
            "width": null
          }
        },
        "154e9ec2f5684dde90a81e6b108387fc": {
          "model_module": "@jupyter-widgets/controls",
          "model_name": "ProgressStyleModel",
          "model_module_version": "1.5.0",
          "state": {
            "_model_module": "@jupyter-widgets/controls",
            "_model_module_version": "1.5.0",
            "_model_name": "ProgressStyleModel",
            "_view_count": null,
            "_view_module": "@jupyter-widgets/base",
            "_view_module_version": "1.2.0",
            "_view_name": "StyleView",
            "bar_color": null,
            "description_width": ""
          }
        },
        "6717ab47e3544566bb95a2a89313971f": {
          "model_module": "@jupyter-widgets/base",
          "model_name": "LayoutModel",
          "model_module_version": "1.2.0",
          "state": {
            "_model_module": "@jupyter-widgets/base",
            "_model_module_version": "1.2.0",
            "_model_name": "LayoutModel",
            "_view_count": null,
            "_view_module": "@jupyter-widgets/base",
            "_view_module_version": "1.2.0",
            "_view_name": "LayoutView",
            "align_content": null,
            "align_items": null,
            "align_self": null,
            "border": null,
            "bottom": null,
            "display": null,
            "flex": null,
            "flex_flow": null,
            "grid_area": null,
            "grid_auto_columns": null,
            "grid_auto_flow": null,
            "grid_auto_rows": null,
            "grid_column": null,
            "grid_gap": null,
            "grid_row": null,
            "grid_template_areas": null,
            "grid_template_columns": null,
            "grid_template_rows": null,
            "height": null,
            "justify_content": null,
            "justify_items": null,
            "left": null,
            "margin": null,
            "max_height": null,
            "max_width": null,
            "min_height": null,
            "min_width": null,
            "object_fit": null,
            "object_position": null,
            "order": null,
            "overflow": null,
            "overflow_x": null,
            "overflow_y": null,
            "padding": null,
            "right": null,
            "top": null,
            "visibility": null,
            "width": null
          }
        },
        "88b4a09a52e64e0fa4a7e692b39b7461": {
          "model_module": "@jupyter-widgets/controls",
          "model_name": "DescriptionStyleModel",
          "model_module_version": "1.5.0",
          "state": {
            "_model_module": "@jupyter-widgets/controls",
            "_model_module_version": "1.5.0",
            "_model_name": "DescriptionStyleModel",
            "_view_count": null,
            "_view_module": "@jupyter-widgets/base",
            "_view_module_version": "1.2.0",
            "_view_name": "StyleView",
            "description_width": ""
          }
        },
        "9862fa2ebe15420a9161a2bcc64d584e": {
          "model_module": "@jupyter-widgets/controls",
          "model_name": "HBoxModel",
          "model_module_version": "1.5.0",
          "state": {
            "_dom_classes": [],
            "_model_module": "@jupyter-widgets/controls",
            "_model_module_version": "1.5.0",
            "_model_name": "HBoxModel",
            "_view_count": null,
            "_view_module": "@jupyter-widgets/controls",
            "_view_module_version": "1.5.0",
            "_view_name": "HBoxView",
            "box_style": "",
            "children": [
              "IPY_MODEL_3c5b642cd47747a79eb5f8b54fbeb5cd",
              "IPY_MODEL_70ed8eba04e4464db6c3cb20bc70f6a8",
              "IPY_MODEL_bf8efd1a7e254776ba2b7a3d17e4474a"
            ],
            "layout": "IPY_MODEL_51c4747d882d4a0dbb4c1b77a6974bf8"
          }
        },
        "3c5b642cd47747a79eb5f8b54fbeb5cd": {
          "model_module": "@jupyter-widgets/controls",
          "model_name": "HTMLModel",
          "model_module_version": "1.5.0",
          "state": {
            "_dom_classes": [],
            "_model_module": "@jupyter-widgets/controls",
            "_model_module_version": "1.5.0",
            "_model_name": "HTMLModel",
            "_view_count": null,
            "_view_module": "@jupyter-widgets/controls",
            "_view_module_version": "1.5.0",
            "_view_name": "HTMLView",
            "description": "",
            "description_tooltip": null,
            "layout": "IPY_MODEL_94633daf6ccd47dba8d62e817bfcf606",
            "placeholder": "​",
            "style": "IPY_MODEL_0c86ed483cac43058c309be7afc7fc0f",
            "value": "Best trial: 15. Best value: 0.0465719: 100%"
          }
        },
        "70ed8eba04e4464db6c3cb20bc70f6a8": {
          "model_module": "@jupyter-widgets/controls",
          "model_name": "FloatProgressModel",
          "model_module_version": "1.5.0",
          "state": {
            "_dom_classes": [],
            "_model_module": "@jupyter-widgets/controls",
            "_model_module_version": "1.5.0",
            "_model_name": "FloatProgressModel",
            "_view_count": null,
            "_view_module": "@jupyter-widgets/controls",
            "_view_module_version": "1.5.0",
            "_view_name": "ProgressView",
            "bar_style": "success",
            "description": "",
            "description_tooltip": null,
            "layout": "IPY_MODEL_2e553f2231c84d66999cf880fcc2b567",
            "max": 30,
            "min": 0,
            "orientation": "horizontal",
            "style": "IPY_MODEL_3186cbb323f74b649d07b68c4f0ae71e",
            "value": 30
          }
        },
        "bf8efd1a7e254776ba2b7a3d17e4474a": {
          "model_module": "@jupyter-widgets/controls",
          "model_name": "HTMLModel",
          "model_module_version": "1.5.0",
          "state": {
            "_dom_classes": [],
            "_model_module": "@jupyter-widgets/controls",
            "_model_module_version": "1.5.0",
            "_model_name": "HTMLModel",
            "_view_count": null,
            "_view_module": "@jupyter-widgets/controls",
            "_view_module_version": "1.5.0",
            "_view_name": "HTMLView",
            "description": "",
            "description_tooltip": null,
            "layout": "IPY_MODEL_5e60c14c8bd345779cc4f0f5a682a322",
            "placeholder": "​",
            "style": "IPY_MODEL_e7e1fcc904624bf3bb88c239fffc7426",
            "value": " 30/30 [11:01&lt;00:00, 20.65s/it]"
          }
        },
        "51c4747d882d4a0dbb4c1b77a6974bf8": {
          "model_module": "@jupyter-widgets/base",
          "model_name": "LayoutModel",
          "model_module_version": "1.2.0",
          "state": {
            "_model_module": "@jupyter-widgets/base",
            "_model_module_version": "1.2.0",
            "_model_name": "LayoutModel",
            "_view_count": null,
            "_view_module": "@jupyter-widgets/base",
            "_view_module_version": "1.2.0",
            "_view_name": "LayoutView",
            "align_content": null,
            "align_items": null,
            "align_self": null,
            "border": null,
            "bottom": null,
            "display": null,
            "flex": null,
            "flex_flow": null,
            "grid_area": null,
            "grid_auto_columns": null,
            "grid_auto_flow": null,
            "grid_auto_rows": null,
            "grid_column": null,
            "grid_gap": null,
            "grid_row": null,
            "grid_template_areas": null,
            "grid_template_columns": null,
            "grid_template_rows": null,
            "height": null,
            "justify_content": null,
            "justify_items": null,
            "left": null,
            "margin": null,
            "max_height": null,
            "max_width": null,
            "min_height": null,
            "min_width": null,
            "object_fit": null,
            "object_position": null,
            "order": null,
            "overflow": null,
            "overflow_x": null,
            "overflow_y": null,
            "padding": null,
            "right": null,
            "top": null,
            "visibility": null,
            "width": null
          }
        },
        "94633daf6ccd47dba8d62e817bfcf606": {
          "model_module": "@jupyter-widgets/base",
          "model_name": "LayoutModel",
          "model_module_version": "1.2.0",
          "state": {
            "_model_module": "@jupyter-widgets/base",
            "_model_module_version": "1.2.0",
            "_model_name": "LayoutModel",
            "_view_count": null,
            "_view_module": "@jupyter-widgets/base",
            "_view_module_version": "1.2.0",
            "_view_name": "LayoutView",
            "align_content": null,
            "align_items": null,
            "align_self": null,
            "border": null,
            "bottom": null,
            "display": null,
            "flex": null,
            "flex_flow": null,
            "grid_area": null,
            "grid_auto_columns": null,
            "grid_auto_flow": null,
            "grid_auto_rows": null,
            "grid_column": null,
            "grid_gap": null,
            "grid_row": null,
            "grid_template_areas": null,
            "grid_template_columns": null,
            "grid_template_rows": null,
            "height": null,
            "justify_content": null,
            "justify_items": null,
            "left": null,
            "margin": null,
            "max_height": null,
            "max_width": null,
            "min_height": null,
            "min_width": null,
            "object_fit": null,
            "object_position": null,
            "order": null,
            "overflow": null,
            "overflow_x": null,
            "overflow_y": null,
            "padding": null,
            "right": null,
            "top": null,
            "visibility": null,
            "width": null
          }
        },
        "0c86ed483cac43058c309be7afc7fc0f": {
          "model_module": "@jupyter-widgets/controls",
          "model_name": "DescriptionStyleModel",
          "model_module_version": "1.5.0",
          "state": {
            "_model_module": "@jupyter-widgets/controls",
            "_model_module_version": "1.5.0",
            "_model_name": "DescriptionStyleModel",
            "_view_count": null,
            "_view_module": "@jupyter-widgets/base",
            "_view_module_version": "1.2.0",
            "_view_name": "StyleView",
            "description_width": ""
          }
        },
        "2e553f2231c84d66999cf880fcc2b567": {
          "model_module": "@jupyter-widgets/base",
          "model_name": "LayoutModel",
          "model_module_version": "1.2.0",
          "state": {
            "_model_module": "@jupyter-widgets/base",
            "_model_module_version": "1.2.0",
            "_model_name": "LayoutModel",
            "_view_count": null,
            "_view_module": "@jupyter-widgets/base",
            "_view_module_version": "1.2.0",
            "_view_name": "LayoutView",
            "align_content": null,
            "align_items": null,
            "align_self": null,
            "border": null,
            "bottom": null,
            "display": null,
            "flex": null,
            "flex_flow": null,
            "grid_area": null,
            "grid_auto_columns": null,
            "grid_auto_flow": null,
            "grid_auto_rows": null,
            "grid_column": null,
            "grid_gap": null,
            "grid_row": null,
            "grid_template_areas": null,
            "grid_template_columns": null,
            "grid_template_rows": null,
            "height": null,
            "justify_content": null,
            "justify_items": null,
            "left": null,
            "margin": null,
            "max_height": null,
            "max_width": null,
            "min_height": null,
            "min_width": null,
            "object_fit": null,
            "object_position": null,
            "order": null,
            "overflow": null,
            "overflow_x": null,
            "overflow_y": null,
            "padding": null,
            "right": null,
            "top": null,
            "visibility": null,
            "width": null
          }
        },
        "3186cbb323f74b649d07b68c4f0ae71e": {
          "model_module": "@jupyter-widgets/controls",
          "model_name": "ProgressStyleModel",
          "model_module_version": "1.5.0",
          "state": {
            "_model_module": "@jupyter-widgets/controls",
            "_model_module_version": "1.5.0",
            "_model_name": "ProgressStyleModel",
            "_view_count": null,
            "_view_module": "@jupyter-widgets/base",
            "_view_module_version": "1.2.0",
            "_view_name": "StyleView",
            "bar_color": null,
            "description_width": ""
          }
        },
        "5e60c14c8bd345779cc4f0f5a682a322": {
          "model_module": "@jupyter-widgets/base",
          "model_name": "LayoutModel",
          "model_module_version": "1.2.0",
          "state": {
            "_model_module": "@jupyter-widgets/base",
            "_model_module_version": "1.2.0",
            "_model_name": "LayoutModel",
            "_view_count": null,
            "_view_module": "@jupyter-widgets/base",
            "_view_module_version": "1.2.0",
            "_view_name": "LayoutView",
            "align_content": null,
            "align_items": null,
            "align_self": null,
            "border": null,
            "bottom": null,
            "display": null,
            "flex": null,
            "flex_flow": null,
            "grid_area": null,
            "grid_auto_columns": null,
            "grid_auto_flow": null,
            "grid_auto_rows": null,
            "grid_column": null,
            "grid_gap": null,
            "grid_row": null,
            "grid_template_areas": null,
            "grid_template_columns": null,
            "grid_template_rows": null,
            "height": null,
            "justify_content": null,
            "justify_items": null,
            "left": null,
            "margin": null,
            "max_height": null,
            "max_width": null,
            "min_height": null,
            "min_width": null,
            "object_fit": null,
            "object_position": null,
            "order": null,
            "overflow": null,
            "overflow_x": null,
            "overflow_y": null,
            "padding": null,
            "right": null,
            "top": null,
            "visibility": null,
            "width": null
          }
        },
        "e7e1fcc904624bf3bb88c239fffc7426": {
          "model_module": "@jupyter-widgets/controls",
          "model_name": "DescriptionStyleModel",
          "model_module_version": "1.5.0",
          "state": {
            "_model_module": "@jupyter-widgets/controls",
            "_model_module_version": "1.5.0",
            "_model_name": "DescriptionStyleModel",
            "_view_count": null,
            "_view_module": "@jupyter-widgets/base",
            "_view_module_version": "1.2.0",
            "_view_name": "StyleView",
            "description_width": ""
          }
        },
        "5cc3884e10d442fb994b82026a0257b6": {
          "model_module": "@jupyter-widgets/controls",
          "model_name": "HBoxModel",
          "model_module_version": "1.5.0",
          "state": {
            "_dom_classes": [],
            "_model_module": "@jupyter-widgets/controls",
            "_model_module_version": "1.5.0",
            "_model_name": "HBoxModel",
            "_view_count": null,
            "_view_module": "@jupyter-widgets/controls",
            "_view_module_version": "1.5.0",
            "_view_name": "HBoxView",
            "box_style": "",
            "children": [
              "IPY_MODEL_4b1d1bfcbb7840fbb1b9c4d0959d46bb",
              "IPY_MODEL_e14a9ef55b314f568ba2c117d8d6047a",
              "IPY_MODEL_fa85acb325d04a27bc32445c06b1b4ac"
            ],
            "layout": "IPY_MODEL_95fde403f3964fb8818fb556fcc35951"
          }
        },
        "4b1d1bfcbb7840fbb1b9c4d0959d46bb": {
          "model_module": "@jupyter-widgets/controls",
          "model_name": "HTMLModel",
          "model_module_version": "1.5.0",
          "state": {
            "_dom_classes": [],
            "_model_module": "@jupyter-widgets/controls",
            "_model_module_version": "1.5.0",
            "_model_name": "HTMLModel",
            "_view_count": null,
            "_view_module": "@jupyter-widgets/controls",
            "_view_module_version": "1.5.0",
            "_view_name": "HTMLView",
            "description": "",
            "description_tooltip": null,
            "layout": "IPY_MODEL_a08a624518c141309852f815bc082456",
            "placeholder": "​",
            "style": "IPY_MODEL_e428b0024fa64187a7adc36020623c87",
            "value": "Best trial: 15. Best value: 0.0241759: 100%"
          }
        },
        "e14a9ef55b314f568ba2c117d8d6047a": {
          "model_module": "@jupyter-widgets/controls",
          "model_name": "FloatProgressModel",
          "model_module_version": "1.5.0",
          "state": {
            "_dom_classes": [],
            "_model_module": "@jupyter-widgets/controls",
            "_model_module_version": "1.5.0",
            "_model_name": "FloatProgressModel",
            "_view_count": null,
            "_view_module": "@jupyter-widgets/controls",
            "_view_module_version": "1.5.0",
            "_view_name": "ProgressView",
            "bar_style": "success",
            "description": "",
            "description_tooltip": null,
            "layout": "IPY_MODEL_9498fd919846430ab81eba1196df5d6e",
            "max": 30,
            "min": 0,
            "orientation": "horizontal",
            "style": "IPY_MODEL_9dd94a8e94e447b4bd7087f4b6b92078",
            "value": 30
          }
        },
        "fa85acb325d04a27bc32445c06b1b4ac": {
          "model_module": "@jupyter-widgets/controls",
          "model_name": "HTMLModel",
          "model_module_version": "1.5.0",
          "state": {
            "_dom_classes": [],
            "_model_module": "@jupyter-widgets/controls",
            "_model_module_version": "1.5.0",
            "_model_name": "HTMLModel",
            "_view_count": null,
            "_view_module": "@jupyter-widgets/controls",
            "_view_module_version": "1.5.0",
            "_view_name": "HTMLView",
            "description": "",
            "description_tooltip": null,
            "layout": "IPY_MODEL_d73aa42c4c394041abb682ff1af087d7",
            "placeholder": "​",
            "style": "IPY_MODEL_804399c7fdbf4f9c9c5ec589a3ad34eb",
            "value": " 30/30 [11:48&lt;00:00, 15.86s/it]"
          }
        },
        "95fde403f3964fb8818fb556fcc35951": {
          "model_module": "@jupyter-widgets/base",
          "model_name": "LayoutModel",
          "model_module_version": "1.2.0",
          "state": {
            "_model_module": "@jupyter-widgets/base",
            "_model_module_version": "1.2.0",
            "_model_name": "LayoutModel",
            "_view_count": null,
            "_view_module": "@jupyter-widgets/base",
            "_view_module_version": "1.2.0",
            "_view_name": "LayoutView",
            "align_content": null,
            "align_items": null,
            "align_self": null,
            "border": null,
            "bottom": null,
            "display": null,
            "flex": null,
            "flex_flow": null,
            "grid_area": null,
            "grid_auto_columns": null,
            "grid_auto_flow": null,
            "grid_auto_rows": null,
            "grid_column": null,
            "grid_gap": null,
            "grid_row": null,
            "grid_template_areas": null,
            "grid_template_columns": null,
            "grid_template_rows": null,
            "height": null,
            "justify_content": null,
            "justify_items": null,
            "left": null,
            "margin": null,
            "max_height": null,
            "max_width": null,
            "min_height": null,
            "min_width": null,
            "object_fit": null,
            "object_position": null,
            "order": null,
            "overflow": null,
            "overflow_x": null,
            "overflow_y": null,
            "padding": null,
            "right": null,
            "top": null,
            "visibility": null,
            "width": null
          }
        },
        "a08a624518c141309852f815bc082456": {
          "model_module": "@jupyter-widgets/base",
          "model_name": "LayoutModel",
          "model_module_version": "1.2.0",
          "state": {
            "_model_module": "@jupyter-widgets/base",
            "_model_module_version": "1.2.0",
            "_model_name": "LayoutModel",
            "_view_count": null,
            "_view_module": "@jupyter-widgets/base",
            "_view_module_version": "1.2.0",
            "_view_name": "LayoutView",
            "align_content": null,
            "align_items": null,
            "align_self": null,
            "border": null,
            "bottom": null,
            "display": null,
            "flex": null,
            "flex_flow": null,
            "grid_area": null,
            "grid_auto_columns": null,
            "grid_auto_flow": null,
            "grid_auto_rows": null,
            "grid_column": null,
            "grid_gap": null,
            "grid_row": null,
            "grid_template_areas": null,
            "grid_template_columns": null,
            "grid_template_rows": null,
            "height": null,
            "justify_content": null,
            "justify_items": null,
            "left": null,
            "margin": null,
            "max_height": null,
            "max_width": null,
            "min_height": null,
            "min_width": null,
            "object_fit": null,
            "object_position": null,
            "order": null,
            "overflow": null,
            "overflow_x": null,
            "overflow_y": null,
            "padding": null,
            "right": null,
            "top": null,
            "visibility": null,
            "width": null
          }
        },
        "e428b0024fa64187a7adc36020623c87": {
          "model_module": "@jupyter-widgets/controls",
          "model_name": "DescriptionStyleModel",
          "model_module_version": "1.5.0",
          "state": {
            "_model_module": "@jupyter-widgets/controls",
            "_model_module_version": "1.5.0",
            "_model_name": "DescriptionStyleModel",
            "_view_count": null,
            "_view_module": "@jupyter-widgets/base",
            "_view_module_version": "1.2.0",
            "_view_name": "StyleView",
            "description_width": ""
          }
        },
        "9498fd919846430ab81eba1196df5d6e": {
          "model_module": "@jupyter-widgets/base",
          "model_name": "LayoutModel",
          "model_module_version": "1.2.0",
          "state": {
            "_model_module": "@jupyter-widgets/base",
            "_model_module_version": "1.2.0",
            "_model_name": "LayoutModel",
            "_view_count": null,
            "_view_module": "@jupyter-widgets/base",
            "_view_module_version": "1.2.0",
            "_view_name": "LayoutView",
            "align_content": null,
            "align_items": null,
            "align_self": null,
            "border": null,
            "bottom": null,
            "display": null,
            "flex": null,
            "flex_flow": null,
            "grid_area": null,
            "grid_auto_columns": null,
            "grid_auto_flow": null,
            "grid_auto_rows": null,
            "grid_column": null,
            "grid_gap": null,
            "grid_row": null,
            "grid_template_areas": null,
            "grid_template_columns": null,
            "grid_template_rows": null,
            "height": null,
            "justify_content": null,
            "justify_items": null,
            "left": null,
            "margin": null,
            "max_height": null,
            "max_width": null,
            "min_height": null,
            "min_width": null,
            "object_fit": null,
            "object_position": null,
            "order": null,
            "overflow": null,
            "overflow_x": null,
            "overflow_y": null,
            "padding": null,
            "right": null,
            "top": null,
            "visibility": null,
            "width": null
          }
        },
        "9dd94a8e94e447b4bd7087f4b6b92078": {
          "model_module": "@jupyter-widgets/controls",
          "model_name": "ProgressStyleModel",
          "model_module_version": "1.5.0",
          "state": {
            "_model_module": "@jupyter-widgets/controls",
            "_model_module_version": "1.5.0",
            "_model_name": "ProgressStyleModel",
            "_view_count": null,
            "_view_module": "@jupyter-widgets/base",
            "_view_module_version": "1.2.0",
            "_view_name": "StyleView",
            "bar_color": null,
            "description_width": ""
          }
        },
        "d73aa42c4c394041abb682ff1af087d7": {
          "model_module": "@jupyter-widgets/base",
          "model_name": "LayoutModel",
          "model_module_version": "1.2.0",
          "state": {
            "_model_module": "@jupyter-widgets/base",
            "_model_module_version": "1.2.0",
            "_model_name": "LayoutModel",
            "_view_count": null,
            "_view_module": "@jupyter-widgets/base",
            "_view_module_version": "1.2.0",
            "_view_name": "LayoutView",
            "align_content": null,
            "align_items": null,
            "align_self": null,
            "border": null,
            "bottom": null,
            "display": null,
            "flex": null,
            "flex_flow": null,
            "grid_area": null,
            "grid_auto_columns": null,
            "grid_auto_flow": null,
            "grid_auto_rows": null,
            "grid_column": null,
            "grid_gap": null,
            "grid_row": null,
            "grid_template_areas": null,
            "grid_template_columns": null,
            "grid_template_rows": null,
            "height": null,
            "justify_content": null,
            "justify_items": null,
            "left": null,
            "margin": null,
            "max_height": null,
            "max_width": null,
            "min_height": null,
            "min_width": null,
            "object_fit": null,
            "object_position": null,
            "order": null,
            "overflow": null,
            "overflow_x": null,
            "overflow_y": null,
            "padding": null,
            "right": null,
            "top": null,
            "visibility": null,
            "width": null
          }
        },
        "804399c7fdbf4f9c9c5ec589a3ad34eb": {
          "model_module": "@jupyter-widgets/controls",
          "model_name": "DescriptionStyleModel",
          "model_module_version": "1.5.0",
          "state": {
            "_model_module": "@jupyter-widgets/controls",
            "_model_module_version": "1.5.0",
            "_model_name": "DescriptionStyleModel",
            "_view_count": null,
            "_view_module": "@jupyter-widgets/base",
            "_view_module_version": "1.2.0",
            "_view_name": "StyleView",
            "description_width": ""
          }
        },
        "44fa94e904484be4b46e235651b20046": {
          "model_module": "@jupyter-widgets/controls",
          "model_name": "HBoxModel",
          "model_module_version": "1.5.0",
          "state": {
            "_dom_classes": [],
            "_model_module": "@jupyter-widgets/controls",
            "_model_module_version": "1.5.0",
            "_model_name": "HBoxModel",
            "_view_count": null,
            "_view_module": "@jupyter-widgets/controls",
            "_view_module_version": "1.5.0",
            "_view_name": "HBoxView",
            "box_style": "",
            "children": [
              "IPY_MODEL_dcda69417e4648f7a0ebc2709fb035d7",
              "IPY_MODEL_f480c75f28f54256926fb30bd9eff4be",
              "IPY_MODEL_8bff3b07b84c4e07a9e2a6e3b7f83124"
            ],
            "layout": "IPY_MODEL_26874152ce784fe38a5dc7d9d0beaa33"
          }
        },
        "dcda69417e4648f7a0ebc2709fb035d7": {
          "model_module": "@jupyter-widgets/controls",
          "model_name": "HTMLModel",
          "model_module_version": "1.5.0",
          "state": {
            "_dom_classes": [],
            "_model_module": "@jupyter-widgets/controls",
            "_model_module_version": "1.5.0",
            "_model_name": "HTMLModel",
            "_view_count": null,
            "_view_module": "@jupyter-widgets/controls",
            "_view_module_version": "1.5.0",
            "_view_name": "HTMLView",
            "description": "",
            "description_tooltip": null,
            "layout": "IPY_MODEL_e8ce74e4f2044c1aa9839ed90166e4df",
            "placeholder": "​",
            "style": "IPY_MODEL_b0fdf31f8fa1440b979b8ec534953247",
            "value": "Best trial: 23. Best value: 0.0198528: 100%"
          }
        },
        "f480c75f28f54256926fb30bd9eff4be": {
          "model_module": "@jupyter-widgets/controls",
          "model_name": "FloatProgressModel",
          "model_module_version": "1.5.0",
          "state": {
            "_dom_classes": [],
            "_model_module": "@jupyter-widgets/controls",
            "_model_module_version": "1.5.0",
            "_model_name": "FloatProgressModel",
            "_view_count": null,
            "_view_module": "@jupyter-widgets/controls",
            "_view_module_version": "1.5.0",
            "_view_name": "ProgressView",
            "bar_style": "success",
            "description": "",
            "description_tooltip": null,
            "layout": "IPY_MODEL_65e73c1753e145a69e66f971901d0297",
            "max": 30,
            "min": 0,
            "orientation": "horizontal",
            "style": "IPY_MODEL_8baf8d91fc6e46dbad889a2b9b70cea0",
            "value": 30
          }
        },
        "8bff3b07b84c4e07a9e2a6e3b7f83124": {
          "model_module": "@jupyter-widgets/controls",
          "model_name": "HTMLModel",
          "model_module_version": "1.5.0",
          "state": {
            "_dom_classes": [],
            "_model_module": "@jupyter-widgets/controls",
            "_model_module_version": "1.5.0",
            "_model_name": "HTMLModel",
            "_view_count": null,
            "_view_module": "@jupyter-widgets/controls",
            "_view_module_version": "1.5.0",
            "_view_name": "HTMLView",
            "description": "",
            "description_tooltip": null,
            "layout": "IPY_MODEL_467d4fe6514c477fad600beab21e8eb1",
            "placeholder": "​",
            "style": "IPY_MODEL_7d2d93ccbfa54c43bceb8fc4d249cb04",
            "value": " 30/30 [09:54&lt;00:00, 15.45s/it]"
          }
        },
        "26874152ce784fe38a5dc7d9d0beaa33": {
          "model_module": "@jupyter-widgets/base",
          "model_name": "LayoutModel",
          "model_module_version": "1.2.0",
          "state": {
            "_model_module": "@jupyter-widgets/base",
            "_model_module_version": "1.2.0",
            "_model_name": "LayoutModel",
            "_view_count": null,
            "_view_module": "@jupyter-widgets/base",
            "_view_module_version": "1.2.0",
            "_view_name": "LayoutView",
            "align_content": null,
            "align_items": null,
            "align_self": null,
            "border": null,
            "bottom": null,
            "display": null,
            "flex": null,
            "flex_flow": null,
            "grid_area": null,
            "grid_auto_columns": null,
            "grid_auto_flow": null,
            "grid_auto_rows": null,
            "grid_column": null,
            "grid_gap": null,
            "grid_row": null,
            "grid_template_areas": null,
            "grid_template_columns": null,
            "grid_template_rows": null,
            "height": null,
            "justify_content": null,
            "justify_items": null,
            "left": null,
            "margin": null,
            "max_height": null,
            "max_width": null,
            "min_height": null,
            "min_width": null,
            "object_fit": null,
            "object_position": null,
            "order": null,
            "overflow": null,
            "overflow_x": null,
            "overflow_y": null,
            "padding": null,
            "right": null,
            "top": null,
            "visibility": null,
            "width": null
          }
        },
        "e8ce74e4f2044c1aa9839ed90166e4df": {
          "model_module": "@jupyter-widgets/base",
          "model_name": "LayoutModel",
          "model_module_version": "1.2.0",
          "state": {
            "_model_module": "@jupyter-widgets/base",
            "_model_module_version": "1.2.0",
            "_model_name": "LayoutModel",
            "_view_count": null,
            "_view_module": "@jupyter-widgets/base",
            "_view_module_version": "1.2.0",
            "_view_name": "LayoutView",
            "align_content": null,
            "align_items": null,
            "align_self": null,
            "border": null,
            "bottom": null,
            "display": null,
            "flex": null,
            "flex_flow": null,
            "grid_area": null,
            "grid_auto_columns": null,
            "grid_auto_flow": null,
            "grid_auto_rows": null,
            "grid_column": null,
            "grid_gap": null,
            "grid_row": null,
            "grid_template_areas": null,
            "grid_template_columns": null,
            "grid_template_rows": null,
            "height": null,
            "justify_content": null,
            "justify_items": null,
            "left": null,
            "margin": null,
            "max_height": null,
            "max_width": null,
            "min_height": null,
            "min_width": null,
            "object_fit": null,
            "object_position": null,
            "order": null,
            "overflow": null,
            "overflow_x": null,
            "overflow_y": null,
            "padding": null,
            "right": null,
            "top": null,
            "visibility": null,
            "width": null
          }
        },
        "b0fdf31f8fa1440b979b8ec534953247": {
          "model_module": "@jupyter-widgets/controls",
          "model_name": "DescriptionStyleModel",
          "model_module_version": "1.5.0",
          "state": {
            "_model_module": "@jupyter-widgets/controls",
            "_model_module_version": "1.5.0",
            "_model_name": "DescriptionStyleModel",
            "_view_count": null,
            "_view_module": "@jupyter-widgets/base",
            "_view_module_version": "1.2.0",
            "_view_name": "StyleView",
            "description_width": ""
          }
        },
        "65e73c1753e145a69e66f971901d0297": {
          "model_module": "@jupyter-widgets/base",
          "model_name": "LayoutModel",
          "model_module_version": "1.2.0",
          "state": {
            "_model_module": "@jupyter-widgets/base",
            "_model_module_version": "1.2.0",
            "_model_name": "LayoutModel",
            "_view_count": null,
            "_view_module": "@jupyter-widgets/base",
            "_view_module_version": "1.2.0",
            "_view_name": "LayoutView",
            "align_content": null,
            "align_items": null,
            "align_self": null,
            "border": null,
            "bottom": null,
            "display": null,
            "flex": null,
            "flex_flow": null,
            "grid_area": null,
            "grid_auto_columns": null,
            "grid_auto_flow": null,
            "grid_auto_rows": null,
            "grid_column": null,
            "grid_gap": null,
            "grid_row": null,
            "grid_template_areas": null,
            "grid_template_columns": null,
            "grid_template_rows": null,
            "height": null,
            "justify_content": null,
            "justify_items": null,
            "left": null,
            "margin": null,
            "max_height": null,
            "max_width": null,
            "min_height": null,
            "min_width": null,
            "object_fit": null,
            "object_position": null,
            "order": null,
            "overflow": null,
            "overflow_x": null,
            "overflow_y": null,
            "padding": null,
            "right": null,
            "top": null,
            "visibility": null,
            "width": null
          }
        },
        "8baf8d91fc6e46dbad889a2b9b70cea0": {
          "model_module": "@jupyter-widgets/controls",
          "model_name": "ProgressStyleModel",
          "model_module_version": "1.5.0",
          "state": {
            "_model_module": "@jupyter-widgets/controls",
            "_model_module_version": "1.5.0",
            "_model_name": "ProgressStyleModel",
            "_view_count": null,
            "_view_module": "@jupyter-widgets/base",
            "_view_module_version": "1.2.0",
            "_view_name": "StyleView",
            "bar_color": null,
            "description_width": ""
          }
        },
        "467d4fe6514c477fad600beab21e8eb1": {
          "model_module": "@jupyter-widgets/base",
          "model_name": "LayoutModel",
          "model_module_version": "1.2.0",
          "state": {
            "_model_module": "@jupyter-widgets/base",
            "_model_module_version": "1.2.0",
            "_model_name": "LayoutModel",
            "_view_count": null,
            "_view_module": "@jupyter-widgets/base",
            "_view_module_version": "1.2.0",
            "_view_name": "LayoutView",
            "align_content": null,
            "align_items": null,
            "align_self": null,
            "border": null,
            "bottom": null,
            "display": null,
            "flex": null,
            "flex_flow": null,
            "grid_area": null,
            "grid_auto_columns": null,
            "grid_auto_flow": null,
            "grid_auto_rows": null,
            "grid_column": null,
            "grid_gap": null,
            "grid_row": null,
            "grid_template_areas": null,
            "grid_template_columns": null,
            "grid_template_rows": null,
            "height": null,
            "justify_content": null,
            "justify_items": null,
            "left": null,
            "margin": null,
            "max_height": null,
            "max_width": null,
            "min_height": null,
            "min_width": null,
            "object_fit": null,
            "object_position": null,
            "order": null,
            "overflow": null,
            "overflow_x": null,
            "overflow_y": null,
            "padding": null,
            "right": null,
            "top": null,
            "visibility": null,
            "width": null
          }
        },
        "7d2d93ccbfa54c43bceb8fc4d249cb04": {
          "model_module": "@jupyter-widgets/controls",
          "model_name": "DescriptionStyleModel",
          "model_module_version": "1.5.0",
          "state": {
            "_model_module": "@jupyter-widgets/controls",
            "_model_module_version": "1.5.0",
            "_model_name": "DescriptionStyleModel",
            "_view_count": null,
            "_view_module": "@jupyter-widgets/base",
            "_view_module_version": "1.2.0",
            "_view_name": "StyleView",
            "description_width": ""
          }
        },
        "5bb911df147f45888255f316e960c753": {
          "model_module": "@jupyter-widgets/controls",
          "model_name": "HBoxModel",
          "model_module_version": "1.5.0",
          "state": {
            "_dom_classes": [],
            "_model_module": "@jupyter-widgets/controls",
            "_model_module_version": "1.5.0",
            "_model_name": "HBoxModel",
            "_view_count": null,
            "_view_module": "@jupyter-widgets/controls",
            "_view_module_version": "1.5.0",
            "_view_name": "HBoxView",
            "box_style": "",
            "children": [
              "IPY_MODEL_df27c67d57c2406db0f802c9c0137a77",
              "IPY_MODEL_d589a47e126748989e2555a8a04fcea9",
              "IPY_MODEL_ac2849c20e0e479cb6030c323ea341d2"
            ],
            "layout": "IPY_MODEL_47603e24dec245ad9265086a8ebf554b"
          }
        },
        "df27c67d57c2406db0f802c9c0137a77": {
          "model_module": "@jupyter-widgets/controls",
          "model_name": "HTMLModel",
          "model_module_version": "1.5.0",
          "state": {
            "_dom_classes": [],
            "_model_module": "@jupyter-widgets/controls",
            "_model_module_version": "1.5.0",
            "_model_name": "HTMLModel",
            "_view_count": null,
            "_view_module": "@jupyter-widgets/controls",
            "_view_module_version": "1.5.0",
            "_view_name": "HTMLView",
            "description": "",
            "description_tooltip": null,
            "layout": "IPY_MODEL_ee5ff0ba276d4f96adbe153cd04bba41",
            "placeholder": "​",
            "style": "IPY_MODEL_39b063cd18fb432ea30cc7da320b12cd",
            "value": "Best trial: 15. Best value: 0.0339503: 100%"
          }
        },
        "d589a47e126748989e2555a8a04fcea9": {
          "model_module": "@jupyter-widgets/controls",
          "model_name": "FloatProgressModel",
          "model_module_version": "1.5.0",
          "state": {
            "_dom_classes": [],
            "_model_module": "@jupyter-widgets/controls",
            "_model_module_version": "1.5.0",
            "_model_name": "FloatProgressModel",
            "_view_count": null,
            "_view_module": "@jupyter-widgets/controls",
            "_view_module_version": "1.5.0",
            "_view_name": "ProgressView",
            "bar_style": "success",
            "description": "",
            "description_tooltip": null,
            "layout": "IPY_MODEL_1acc8fd4c3c54333b503f53fd1b8d559",
            "max": 30,
            "min": 0,
            "orientation": "horizontal",
            "style": "IPY_MODEL_54d39a30e58245fc96a1bf0838b3f194",
            "value": 30
          }
        },
        "ac2849c20e0e479cb6030c323ea341d2": {
          "model_module": "@jupyter-widgets/controls",
          "model_name": "HTMLModel",
          "model_module_version": "1.5.0",
          "state": {
            "_dom_classes": [],
            "_model_module": "@jupyter-widgets/controls",
            "_model_module_version": "1.5.0",
            "_model_name": "HTMLModel",
            "_view_count": null,
            "_view_module": "@jupyter-widgets/controls",
            "_view_module_version": "1.5.0",
            "_view_name": "HTMLView",
            "description": "",
            "description_tooltip": null,
            "layout": "IPY_MODEL_5a39e2a1e19e4066a7ba2d32649da6d7",
            "placeholder": "​",
            "style": "IPY_MODEL_1e9a46c96cb7415781d651f732cbc0f0",
            "value": " 30/30 [09:43&lt;00:00, 19.34s/it]"
          }
        },
        "47603e24dec245ad9265086a8ebf554b": {
          "model_module": "@jupyter-widgets/base",
          "model_name": "LayoutModel",
          "model_module_version": "1.2.0",
          "state": {
            "_model_module": "@jupyter-widgets/base",
            "_model_module_version": "1.2.0",
            "_model_name": "LayoutModel",
            "_view_count": null,
            "_view_module": "@jupyter-widgets/base",
            "_view_module_version": "1.2.0",
            "_view_name": "LayoutView",
            "align_content": null,
            "align_items": null,
            "align_self": null,
            "border": null,
            "bottom": null,
            "display": null,
            "flex": null,
            "flex_flow": null,
            "grid_area": null,
            "grid_auto_columns": null,
            "grid_auto_flow": null,
            "grid_auto_rows": null,
            "grid_column": null,
            "grid_gap": null,
            "grid_row": null,
            "grid_template_areas": null,
            "grid_template_columns": null,
            "grid_template_rows": null,
            "height": null,
            "justify_content": null,
            "justify_items": null,
            "left": null,
            "margin": null,
            "max_height": null,
            "max_width": null,
            "min_height": null,
            "min_width": null,
            "object_fit": null,
            "object_position": null,
            "order": null,
            "overflow": null,
            "overflow_x": null,
            "overflow_y": null,
            "padding": null,
            "right": null,
            "top": null,
            "visibility": null,
            "width": null
          }
        },
        "ee5ff0ba276d4f96adbe153cd04bba41": {
          "model_module": "@jupyter-widgets/base",
          "model_name": "LayoutModel",
          "model_module_version": "1.2.0",
          "state": {
            "_model_module": "@jupyter-widgets/base",
            "_model_module_version": "1.2.0",
            "_model_name": "LayoutModel",
            "_view_count": null,
            "_view_module": "@jupyter-widgets/base",
            "_view_module_version": "1.2.0",
            "_view_name": "LayoutView",
            "align_content": null,
            "align_items": null,
            "align_self": null,
            "border": null,
            "bottom": null,
            "display": null,
            "flex": null,
            "flex_flow": null,
            "grid_area": null,
            "grid_auto_columns": null,
            "grid_auto_flow": null,
            "grid_auto_rows": null,
            "grid_column": null,
            "grid_gap": null,
            "grid_row": null,
            "grid_template_areas": null,
            "grid_template_columns": null,
            "grid_template_rows": null,
            "height": null,
            "justify_content": null,
            "justify_items": null,
            "left": null,
            "margin": null,
            "max_height": null,
            "max_width": null,
            "min_height": null,
            "min_width": null,
            "object_fit": null,
            "object_position": null,
            "order": null,
            "overflow": null,
            "overflow_x": null,
            "overflow_y": null,
            "padding": null,
            "right": null,
            "top": null,
            "visibility": null,
            "width": null
          }
        },
        "39b063cd18fb432ea30cc7da320b12cd": {
          "model_module": "@jupyter-widgets/controls",
          "model_name": "DescriptionStyleModel",
          "model_module_version": "1.5.0",
          "state": {
            "_model_module": "@jupyter-widgets/controls",
            "_model_module_version": "1.5.0",
            "_model_name": "DescriptionStyleModel",
            "_view_count": null,
            "_view_module": "@jupyter-widgets/base",
            "_view_module_version": "1.2.0",
            "_view_name": "StyleView",
            "description_width": ""
          }
        },
        "1acc8fd4c3c54333b503f53fd1b8d559": {
          "model_module": "@jupyter-widgets/base",
          "model_name": "LayoutModel",
          "model_module_version": "1.2.0",
          "state": {
            "_model_module": "@jupyter-widgets/base",
            "_model_module_version": "1.2.0",
            "_model_name": "LayoutModel",
            "_view_count": null,
            "_view_module": "@jupyter-widgets/base",
            "_view_module_version": "1.2.0",
            "_view_name": "LayoutView",
            "align_content": null,
            "align_items": null,
            "align_self": null,
            "border": null,
            "bottom": null,
            "display": null,
            "flex": null,
            "flex_flow": null,
            "grid_area": null,
            "grid_auto_columns": null,
            "grid_auto_flow": null,
            "grid_auto_rows": null,
            "grid_column": null,
            "grid_gap": null,
            "grid_row": null,
            "grid_template_areas": null,
            "grid_template_columns": null,
            "grid_template_rows": null,
            "height": null,
            "justify_content": null,
            "justify_items": null,
            "left": null,
            "margin": null,
            "max_height": null,
            "max_width": null,
            "min_height": null,
            "min_width": null,
            "object_fit": null,
            "object_position": null,
            "order": null,
            "overflow": null,
            "overflow_x": null,
            "overflow_y": null,
            "padding": null,
            "right": null,
            "top": null,
            "visibility": null,
            "width": null
          }
        },
        "54d39a30e58245fc96a1bf0838b3f194": {
          "model_module": "@jupyter-widgets/controls",
          "model_name": "ProgressStyleModel",
          "model_module_version": "1.5.0",
          "state": {
            "_model_module": "@jupyter-widgets/controls",
            "_model_module_version": "1.5.0",
            "_model_name": "ProgressStyleModel",
            "_view_count": null,
            "_view_module": "@jupyter-widgets/base",
            "_view_module_version": "1.2.0",
            "_view_name": "StyleView",
            "bar_color": null,
            "description_width": ""
          }
        },
        "5a39e2a1e19e4066a7ba2d32649da6d7": {
          "model_module": "@jupyter-widgets/base",
          "model_name": "LayoutModel",
          "model_module_version": "1.2.0",
          "state": {
            "_model_module": "@jupyter-widgets/base",
            "_model_module_version": "1.2.0",
            "_model_name": "LayoutModel",
            "_view_count": null,
            "_view_module": "@jupyter-widgets/base",
            "_view_module_version": "1.2.0",
            "_view_name": "LayoutView",
            "align_content": null,
            "align_items": null,
            "align_self": null,
            "border": null,
            "bottom": null,
            "display": null,
            "flex": null,
            "flex_flow": null,
            "grid_area": null,
            "grid_auto_columns": null,
            "grid_auto_flow": null,
            "grid_auto_rows": null,
            "grid_column": null,
            "grid_gap": null,
            "grid_row": null,
            "grid_template_areas": null,
            "grid_template_columns": null,
            "grid_template_rows": null,
            "height": null,
            "justify_content": null,
            "justify_items": null,
            "left": null,
            "margin": null,
            "max_height": null,
            "max_width": null,
            "min_height": null,
            "min_width": null,
            "object_fit": null,
            "object_position": null,
            "order": null,
            "overflow": null,
            "overflow_x": null,
            "overflow_y": null,
            "padding": null,
            "right": null,
            "top": null,
            "visibility": null,
            "width": null
          }
        },
        "1e9a46c96cb7415781d651f732cbc0f0": {
          "model_module": "@jupyter-widgets/controls",
          "model_name": "DescriptionStyleModel",
          "model_module_version": "1.5.0",
          "state": {
            "_model_module": "@jupyter-widgets/controls",
            "_model_module_version": "1.5.0",
            "_model_name": "DescriptionStyleModel",
            "_view_count": null,
            "_view_module": "@jupyter-widgets/base",
            "_view_module_version": "1.2.0",
            "_view_name": "StyleView",
            "description_width": ""
          }
        },
        "9d14b4fe83d44cdfa29d8f07e6448f40": {
          "model_module": "@jupyter-widgets/controls",
          "model_name": "HBoxModel",
          "model_module_version": "1.5.0",
          "state": {
            "_dom_classes": [],
            "_model_module": "@jupyter-widgets/controls",
            "_model_module_version": "1.5.0",
            "_model_name": "HBoxModel",
            "_view_count": null,
            "_view_module": "@jupyter-widgets/controls",
            "_view_module_version": "1.5.0",
            "_view_name": "HBoxView",
            "box_style": "",
            "children": [
              "IPY_MODEL_3a215d45e7154effb99434878fc9825e",
              "IPY_MODEL_d19c784ffe0f41b9ae6e0cb85d20b9c1",
              "IPY_MODEL_e2d4894b1b8b43918cacfedbe046874d"
            ],
            "layout": "IPY_MODEL_a073482138ce40afb744ca607d418e54"
          }
        },
        "3a215d45e7154effb99434878fc9825e": {
          "model_module": "@jupyter-widgets/controls",
          "model_name": "HTMLModel",
          "model_module_version": "1.5.0",
          "state": {
            "_dom_classes": [],
            "_model_module": "@jupyter-widgets/controls",
            "_model_module_version": "1.5.0",
            "_model_name": "HTMLModel",
            "_view_count": null,
            "_view_module": "@jupyter-widgets/controls",
            "_view_module_version": "1.5.0",
            "_view_name": "HTMLView",
            "description": "",
            "description_tooltip": null,
            "layout": "IPY_MODEL_87a87be23f094655bbf725536e6c42c7",
            "placeholder": "​",
            "style": "IPY_MODEL_6d90ca2b22734fe2b4240e080405a3b6",
            "value": "Best trial: 21. Best value: 0.0215017: 100%"
          }
        },
        "d19c784ffe0f41b9ae6e0cb85d20b9c1": {
          "model_module": "@jupyter-widgets/controls",
          "model_name": "FloatProgressModel",
          "model_module_version": "1.5.0",
          "state": {
            "_dom_classes": [],
            "_model_module": "@jupyter-widgets/controls",
            "_model_module_version": "1.5.0",
            "_model_name": "FloatProgressModel",
            "_view_count": null,
            "_view_module": "@jupyter-widgets/controls",
            "_view_module_version": "1.5.0",
            "_view_name": "ProgressView",
            "bar_style": "success",
            "description": "",
            "description_tooltip": null,
            "layout": "IPY_MODEL_ff46addb1e584f8b9ba94b99cdc1557d",
            "max": 30,
            "min": 0,
            "orientation": "horizontal",
            "style": "IPY_MODEL_7cf65ed5db644c4fa134766ee284fb77",
            "value": 30
          }
        },
        "e2d4894b1b8b43918cacfedbe046874d": {
          "model_module": "@jupyter-widgets/controls",
          "model_name": "HTMLModel",
          "model_module_version": "1.5.0",
          "state": {
            "_dom_classes": [],
            "_model_module": "@jupyter-widgets/controls",
            "_model_module_version": "1.5.0",
            "_model_name": "HTMLModel",
            "_view_count": null,
            "_view_module": "@jupyter-widgets/controls",
            "_view_module_version": "1.5.0",
            "_view_name": "HTMLView",
            "description": "",
            "description_tooltip": null,
            "layout": "IPY_MODEL_3ee0b8be445a4a10aa3d80a47579a66d",
            "placeholder": "​",
            "style": "IPY_MODEL_a4c2022e2a5f4c5b9ef363dd2ddc5472",
            "value": " 30/30 [08:48&lt;00:00, 14.36s/it]"
          }
        },
        "a073482138ce40afb744ca607d418e54": {
          "model_module": "@jupyter-widgets/base",
          "model_name": "LayoutModel",
          "model_module_version": "1.2.0",
          "state": {
            "_model_module": "@jupyter-widgets/base",
            "_model_module_version": "1.2.0",
            "_model_name": "LayoutModel",
            "_view_count": null,
            "_view_module": "@jupyter-widgets/base",
            "_view_module_version": "1.2.0",
            "_view_name": "LayoutView",
            "align_content": null,
            "align_items": null,
            "align_self": null,
            "border": null,
            "bottom": null,
            "display": null,
            "flex": null,
            "flex_flow": null,
            "grid_area": null,
            "grid_auto_columns": null,
            "grid_auto_flow": null,
            "grid_auto_rows": null,
            "grid_column": null,
            "grid_gap": null,
            "grid_row": null,
            "grid_template_areas": null,
            "grid_template_columns": null,
            "grid_template_rows": null,
            "height": null,
            "justify_content": null,
            "justify_items": null,
            "left": null,
            "margin": null,
            "max_height": null,
            "max_width": null,
            "min_height": null,
            "min_width": null,
            "object_fit": null,
            "object_position": null,
            "order": null,
            "overflow": null,
            "overflow_x": null,
            "overflow_y": null,
            "padding": null,
            "right": null,
            "top": null,
            "visibility": null,
            "width": null
          }
        },
        "87a87be23f094655bbf725536e6c42c7": {
          "model_module": "@jupyter-widgets/base",
          "model_name": "LayoutModel",
          "model_module_version": "1.2.0",
          "state": {
            "_model_module": "@jupyter-widgets/base",
            "_model_module_version": "1.2.0",
            "_model_name": "LayoutModel",
            "_view_count": null,
            "_view_module": "@jupyter-widgets/base",
            "_view_module_version": "1.2.0",
            "_view_name": "LayoutView",
            "align_content": null,
            "align_items": null,
            "align_self": null,
            "border": null,
            "bottom": null,
            "display": null,
            "flex": null,
            "flex_flow": null,
            "grid_area": null,
            "grid_auto_columns": null,
            "grid_auto_flow": null,
            "grid_auto_rows": null,
            "grid_column": null,
            "grid_gap": null,
            "grid_row": null,
            "grid_template_areas": null,
            "grid_template_columns": null,
            "grid_template_rows": null,
            "height": null,
            "justify_content": null,
            "justify_items": null,
            "left": null,
            "margin": null,
            "max_height": null,
            "max_width": null,
            "min_height": null,
            "min_width": null,
            "object_fit": null,
            "object_position": null,
            "order": null,
            "overflow": null,
            "overflow_x": null,
            "overflow_y": null,
            "padding": null,
            "right": null,
            "top": null,
            "visibility": null,
            "width": null
          }
        },
        "6d90ca2b22734fe2b4240e080405a3b6": {
          "model_module": "@jupyter-widgets/controls",
          "model_name": "DescriptionStyleModel",
          "model_module_version": "1.5.0",
          "state": {
            "_model_module": "@jupyter-widgets/controls",
            "_model_module_version": "1.5.0",
            "_model_name": "DescriptionStyleModel",
            "_view_count": null,
            "_view_module": "@jupyter-widgets/base",
            "_view_module_version": "1.2.0",
            "_view_name": "StyleView",
            "description_width": ""
          }
        },
        "ff46addb1e584f8b9ba94b99cdc1557d": {
          "model_module": "@jupyter-widgets/base",
          "model_name": "LayoutModel",
          "model_module_version": "1.2.0",
          "state": {
            "_model_module": "@jupyter-widgets/base",
            "_model_module_version": "1.2.0",
            "_model_name": "LayoutModel",
            "_view_count": null,
            "_view_module": "@jupyter-widgets/base",
            "_view_module_version": "1.2.0",
            "_view_name": "LayoutView",
            "align_content": null,
            "align_items": null,
            "align_self": null,
            "border": null,
            "bottom": null,
            "display": null,
            "flex": null,
            "flex_flow": null,
            "grid_area": null,
            "grid_auto_columns": null,
            "grid_auto_flow": null,
            "grid_auto_rows": null,
            "grid_column": null,
            "grid_gap": null,
            "grid_row": null,
            "grid_template_areas": null,
            "grid_template_columns": null,
            "grid_template_rows": null,
            "height": null,
            "justify_content": null,
            "justify_items": null,
            "left": null,
            "margin": null,
            "max_height": null,
            "max_width": null,
            "min_height": null,
            "min_width": null,
            "object_fit": null,
            "object_position": null,
            "order": null,
            "overflow": null,
            "overflow_x": null,
            "overflow_y": null,
            "padding": null,
            "right": null,
            "top": null,
            "visibility": null,
            "width": null
          }
        },
        "7cf65ed5db644c4fa134766ee284fb77": {
          "model_module": "@jupyter-widgets/controls",
          "model_name": "ProgressStyleModel",
          "model_module_version": "1.5.0",
          "state": {
            "_model_module": "@jupyter-widgets/controls",
            "_model_module_version": "1.5.0",
            "_model_name": "ProgressStyleModel",
            "_view_count": null,
            "_view_module": "@jupyter-widgets/base",
            "_view_module_version": "1.2.0",
            "_view_name": "StyleView",
            "bar_color": null,
            "description_width": ""
          }
        },
        "3ee0b8be445a4a10aa3d80a47579a66d": {
          "model_module": "@jupyter-widgets/base",
          "model_name": "LayoutModel",
          "model_module_version": "1.2.0",
          "state": {
            "_model_module": "@jupyter-widgets/base",
            "_model_module_version": "1.2.0",
            "_model_name": "LayoutModel",
            "_view_count": null,
            "_view_module": "@jupyter-widgets/base",
            "_view_module_version": "1.2.0",
            "_view_name": "LayoutView",
            "align_content": null,
            "align_items": null,
            "align_self": null,
            "border": null,
            "bottom": null,
            "display": null,
            "flex": null,
            "flex_flow": null,
            "grid_area": null,
            "grid_auto_columns": null,
            "grid_auto_flow": null,
            "grid_auto_rows": null,
            "grid_column": null,
            "grid_gap": null,
            "grid_row": null,
            "grid_template_areas": null,
            "grid_template_columns": null,
            "grid_template_rows": null,
            "height": null,
            "justify_content": null,
            "justify_items": null,
            "left": null,
            "margin": null,
            "max_height": null,
            "max_width": null,
            "min_height": null,
            "min_width": null,
            "object_fit": null,
            "object_position": null,
            "order": null,
            "overflow": null,
            "overflow_x": null,
            "overflow_y": null,
            "padding": null,
            "right": null,
            "top": null,
            "visibility": null,
            "width": null
          }
        },
        "a4c2022e2a5f4c5b9ef363dd2ddc5472": {
          "model_module": "@jupyter-widgets/controls",
          "model_name": "DescriptionStyleModel",
          "model_module_version": "1.5.0",
          "state": {
            "_model_module": "@jupyter-widgets/controls",
            "_model_module_version": "1.5.0",
            "_model_name": "DescriptionStyleModel",
            "_view_count": null,
            "_view_module": "@jupyter-widgets/base",
            "_view_module_version": "1.2.0",
            "_view_name": "StyleView",
            "description_width": ""
          }
        },
        "65376e2c48d74c06a0d769051ebda18e": {
          "model_module": "@jupyter-widgets/controls",
          "model_name": "HBoxModel",
          "model_module_version": "1.5.0",
          "state": {
            "_dom_classes": [],
            "_model_module": "@jupyter-widgets/controls",
            "_model_module_version": "1.5.0",
            "_model_name": "HBoxModel",
            "_view_count": null,
            "_view_module": "@jupyter-widgets/controls",
            "_view_module_version": "1.5.0",
            "_view_name": "HBoxView",
            "box_style": "",
            "children": [
              "IPY_MODEL_6e3636bc60794048a7813c31ac036312",
              "IPY_MODEL_0db5373c4e384f6ba5821228ea448861",
              "IPY_MODEL_6cf8f9a8341b488eb0b50e2f45c3cd31"
            ],
            "layout": "IPY_MODEL_9f19183a0fbb49ed8c1d5a9a53b6fbc9"
          }
        },
        "6e3636bc60794048a7813c31ac036312": {
          "model_module": "@jupyter-widgets/controls",
          "model_name": "HTMLModel",
          "model_module_version": "1.5.0",
          "state": {
            "_dom_classes": [],
            "_model_module": "@jupyter-widgets/controls",
            "_model_module_version": "1.5.0",
            "_model_name": "HTMLModel",
            "_view_count": null,
            "_view_module": "@jupyter-widgets/controls",
            "_view_module_version": "1.5.0",
            "_view_name": "HTMLView",
            "description": "",
            "description_tooltip": null,
            "layout": "IPY_MODEL_e6e1acfafb874082b8c8e6094a81a64a",
            "placeholder": "​",
            "style": "IPY_MODEL_5c94e83bc65e4d71945cfdf929817ac0",
            "value": "Best trial: 27. Best value: 0.0344165: 100%"
          }
        },
        "0db5373c4e384f6ba5821228ea448861": {
          "model_module": "@jupyter-widgets/controls",
          "model_name": "FloatProgressModel",
          "model_module_version": "1.5.0",
          "state": {
            "_dom_classes": [],
            "_model_module": "@jupyter-widgets/controls",
            "_model_module_version": "1.5.0",
            "_model_name": "FloatProgressModel",
            "_view_count": null,
            "_view_module": "@jupyter-widgets/controls",
            "_view_module_version": "1.5.0",
            "_view_name": "ProgressView",
            "bar_style": "success",
            "description": "",
            "description_tooltip": null,
            "layout": "IPY_MODEL_447feadbb7e94ae28501f29c095b32d8",
            "max": 30,
            "min": 0,
            "orientation": "horizontal",
            "style": "IPY_MODEL_1fb9906f9c4c4d838a29e371963044be",
            "value": 30
          }
        },
        "6cf8f9a8341b488eb0b50e2f45c3cd31": {
          "model_module": "@jupyter-widgets/controls",
          "model_name": "HTMLModel",
          "model_module_version": "1.5.0",
          "state": {
            "_dom_classes": [],
            "_model_module": "@jupyter-widgets/controls",
            "_model_module_version": "1.5.0",
            "_model_name": "HTMLModel",
            "_view_count": null,
            "_view_module": "@jupyter-widgets/controls",
            "_view_module_version": "1.5.0",
            "_view_name": "HTMLView",
            "description": "",
            "description_tooltip": null,
            "layout": "IPY_MODEL_2401d504f8474850be70cd2747160bed",
            "placeholder": "​",
            "style": "IPY_MODEL_36b72abbcb62456b912c97f29380e08d",
            "value": " 30/30 [08:25&lt;00:00, 17.99s/it]"
          }
        },
        "9f19183a0fbb49ed8c1d5a9a53b6fbc9": {
          "model_module": "@jupyter-widgets/base",
          "model_name": "LayoutModel",
          "model_module_version": "1.2.0",
          "state": {
            "_model_module": "@jupyter-widgets/base",
            "_model_module_version": "1.2.0",
            "_model_name": "LayoutModel",
            "_view_count": null,
            "_view_module": "@jupyter-widgets/base",
            "_view_module_version": "1.2.0",
            "_view_name": "LayoutView",
            "align_content": null,
            "align_items": null,
            "align_self": null,
            "border": null,
            "bottom": null,
            "display": null,
            "flex": null,
            "flex_flow": null,
            "grid_area": null,
            "grid_auto_columns": null,
            "grid_auto_flow": null,
            "grid_auto_rows": null,
            "grid_column": null,
            "grid_gap": null,
            "grid_row": null,
            "grid_template_areas": null,
            "grid_template_columns": null,
            "grid_template_rows": null,
            "height": null,
            "justify_content": null,
            "justify_items": null,
            "left": null,
            "margin": null,
            "max_height": null,
            "max_width": null,
            "min_height": null,
            "min_width": null,
            "object_fit": null,
            "object_position": null,
            "order": null,
            "overflow": null,
            "overflow_x": null,
            "overflow_y": null,
            "padding": null,
            "right": null,
            "top": null,
            "visibility": null,
            "width": null
          }
        },
        "e6e1acfafb874082b8c8e6094a81a64a": {
          "model_module": "@jupyter-widgets/base",
          "model_name": "LayoutModel",
          "model_module_version": "1.2.0",
          "state": {
            "_model_module": "@jupyter-widgets/base",
            "_model_module_version": "1.2.0",
            "_model_name": "LayoutModel",
            "_view_count": null,
            "_view_module": "@jupyter-widgets/base",
            "_view_module_version": "1.2.0",
            "_view_name": "LayoutView",
            "align_content": null,
            "align_items": null,
            "align_self": null,
            "border": null,
            "bottom": null,
            "display": null,
            "flex": null,
            "flex_flow": null,
            "grid_area": null,
            "grid_auto_columns": null,
            "grid_auto_flow": null,
            "grid_auto_rows": null,
            "grid_column": null,
            "grid_gap": null,
            "grid_row": null,
            "grid_template_areas": null,
            "grid_template_columns": null,
            "grid_template_rows": null,
            "height": null,
            "justify_content": null,
            "justify_items": null,
            "left": null,
            "margin": null,
            "max_height": null,
            "max_width": null,
            "min_height": null,
            "min_width": null,
            "object_fit": null,
            "object_position": null,
            "order": null,
            "overflow": null,
            "overflow_x": null,
            "overflow_y": null,
            "padding": null,
            "right": null,
            "top": null,
            "visibility": null,
            "width": null
          }
        },
        "5c94e83bc65e4d71945cfdf929817ac0": {
          "model_module": "@jupyter-widgets/controls",
          "model_name": "DescriptionStyleModel",
          "model_module_version": "1.5.0",
          "state": {
            "_model_module": "@jupyter-widgets/controls",
            "_model_module_version": "1.5.0",
            "_model_name": "DescriptionStyleModel",
            "_view_count": null,
            "_view_module": "@jupyter-widgets/base",
            "_view_module_version": "1.2.0",
            "_view_name": "StyleView",
            "description_width": ""
          }
        },
        "447feadbb7e94ae28501f29c095b32d8": {
          "model_module": "@jupyter-widgets/base",
          "model_name": "LayoutModel",
          "model_module_version": "1.2.0",
          "state": {
            "_model_module": "@jupyter-widgets/base",
            "_model_module_version": "1.2.0",
            "_model_name": "LayoutModel",
            "_view_count": null,
            "_view_module": "@jupyter-widgets/base",
            "_view_module_version": "1.2.0",
            "_view_name": "LayoutView",
            "align_content": null,
            "align_items": null,
            "align_self": null,
            "border": null,
            "bottom": null,
            "display": null,
            "flex": null,
            "flex_flow": null,
            "grid_area": null,
            "grid_auto_columns": null,
            "grid_auto_flow": null,
            "grid_auto_rows": null,
            "grid_column": null,
            "grid_gap": null,
            "grid_row": null,
            "grid_template_areas": null,
            "grid_template_columns": null,
            "grid_template_rows": null,
            "height": null,
            "justify_content": null,
            "justify_items": null,
            "left": null,
            "margin": null,
            "max_height": null,
            "max_width": null,
            "min_height": null,
            "min_width": null,
            "object_fit": null,
            "object_position": null,
            "order": null,
            "overflow": null,
            "overflow_x": null,
            "overflow_y": null,
            "padding": null,
            "right": null,
            "top": null,
            "visibility": null,
            "width": null
          }
        },
        "1fb9906f9c4c4d838a29e371963044be": {
          "model_module": "@jupyter-widgets/controls",
          "model_name": "ProgressStyleModel",
          "model_module_version": "1.5.0",
          "state": {
            "_model_module": "@jupyter-widgets/controls",
            "_model_module_version": "1.5.0",
            "_model_name": "ProgressStyleModel",
            "_view_count": null,
            "_view_module": "@jupyter-widgets/base",
            "_view_module_version": "1.2.0",
            "_view_name": "StyleView",
            "bar_color": null,
            "description_width": ""
          }
        },
        "2401d504f8474850be70cd2747160bed": {
          "model_module": "@jupyter-widgets/base",
          "model_name": "LayoutModel",
          "model_module_version": "1.2.0",
          "state": {
            "_model_module": "@jupyter-widgets/base",
            "_model_module_version": "1.2.0",
            "_model_name": "LayoutModel",
            "_view_count": null,
            "_view_module": "@jupyter-widgets/base",
            "_view_module_version": "1.2.0",
            "_view_name": "LayoutView",
            "align_content": null,
            "align_items": null,
            "align_self": null,
            "border": null,
            "bottom": null,
            "display": null,
            "flex": null,
            "flex_flow": null,
            "grid_area": null,
            "grid_auto_columns": null,
            "grid_auto_flow": null,
            "grid_auto_rows": null,
            "grid_column": null,
            "grid_gap": null,
            "grid_row": null,
            "grid_template_areas": null,
            "grid_template_columns": null,
            "grid_template_rows": null,
            "height": null,
            "justify_content": null,
            "justify_items": null,
            "left": null,
            "margin": null,
            "max_height": null,
            "max_width": null,
            "min_height": null,
            "min_width": null,
            "object_fit": null,
            "object_position": null,
            "order": null,
            "overflow": null,
            "overflow_x": null,
            "overflow_y": null,
            "padding": null,
            "right": null,
            "top": null,
            "visibility": null,
            "width": null
          }
        },
        "36b72abbcb62456b912c97f29380e08d": {
          "model_module": "@jupyter-widgets/controls",
          "model_name": "DescriptionStyleModel",
          "model_module_version": "1.5.0",
          "state": {
            "_model_module": "@jupyter-widgets/controls",
            "_model_module_version": "1.5.0",
            "_model_name": "DescriptionStyleModel",
            "_view_count": null,
            "_view_module": "@jupyter-widgets/base",
            "_view_module_version": "1.2.0",
            "_view_name": "StyleView",
            "description_width": ""
          }
        },
        "be154605b53e431db4d2ddec9a41224c": {
          "model_module": "@jupyter-widgets/controls",
          "model_name": "HBoxModel",
          "model_module_version": "1.5.0",
          "state": {
            "_dom_classes": [],
            "_model_module": "@jupyter-widgets/controls",
            "_model_module_version": "1.5.0",
            "_model_name": "HBoxModel",
            "_view_count": null,
            "_view_module": "@jupyter-widgets/controls",
            "_view_module_version": "1.5.0",
            "_view_name": "HBoxView",
            "box_style": "",
            "children": [
              "IPY_MODEL_4431bd995ce748eda5b04747282287e7",
              "IPY_MODEL_39ce6dece5994a5a9e2048b270c12f23",
              "IPY_MODEL_4ffea7bf3c5f43dea5d0781555d7330e"
            ],
            "layout": "IPY_MODEL_d97d0b1d68c841919c3c3dde07b39a17"
          }
        },
        "4431bd995ce748eda5b04747282287e7": {
          "model_module": "@jupyter-widgets/controls",
          "model_name": "HTMLModel",
          "model_module_version": "1.5.0",
          "state": {
            "_dom_classes": [],
            "_model_module": "@jupyter-widgets/controls",
            "_model_module_version": "1.5.0",
            "_model_name": "HTMLModel",
            "_view_count": null,
            "_view_module": "@jupyter-widgets/controls",
            "_view_module_version": "1.5.0",
            "_view_name": "HTMLView",
            "description": "",
            "description_tooltip": null,
            "layout": "IPY_MODEL_07f8c65e6a3d4ddd9d12bebd7de80f19",
            "placeholder": "​",
            "style": "IPY_MODEL_4460784a73c24b83a44f272383386c3f",
            "value": "Best trial: 23. Best value: 0.0363223: 100%"
          }
        },
        "39ce6dece5994a5a9e2048b270c12f23": {
          "model_module": "@jupyter-widgets/controls",
          "model_name": "FloatProgressModel",
          "model_module_version": "1.5.0",
          "state": {
            "_dom_classes": [],
            "_model_module": "@jupyter-widgets/controls",
            "_model_module_version": "1.5.0",
            "_model_name": "FloatProgressModel",
            "_view_count": null,
            "_view_module": "@jupyter-widgets/controls",
            "_view_module_version": "1.5.0",
            "_view_name": "ProgressView",
            "bar_style": "success",
            "description": "",
            "description_tooltip": null,
            "layout": "IPY_MODEL_0aaa8a60361e4dc19f2ffafa3fbaf1fa",
            "max": 30,
            "min": 0,
            "orientation": "horizontal",
            "style": "IPY_MODEL_fe9b96c75e7b4991800ee4c727ebb46c",
            "value": 30
          }
        },
        "4ffea7bf3c5f43dea5d0781555d7330e": {
          "model_module": "@jupyter-widgets/controls",
          "model_name": "HTMLModel",
          "model_module_version": "1.5.0",
          "state": {
            "_dom_classes": [],
            "_model_module": "@jupyter-widgets/controls",
            "_model_module_version": "1.5.0",
            "_model_name": "HTMLModel",
            "_view_count": null,
            "_view_module": "@jupyter-widgets/controls",
            "_view_module_version": "1.5.0",
            "_view_name": "HTMLView",
            "description": "",
            "description_tooltip": null,
            "layout": "IPY_MODEL_de0eba6b1c884ed98fee60a14bd9d7e6",
            "placeholder": "​",
            "style": "IPY_MODEL_a70756aeb3154b489593693a4c6f2763",
            "value": " 30/30 [12:57&lt;00:00, 30.50s/it]"
          }
        },
        "d97d0b1d68c841919c3c3dde07b39a17": {
          "model_module": "@jupyter-widgets/base",
          "model_name": "LayoutModel",
          "model_module_version": "1.2.0",
          "state": {
            "_model_module": "@jupyter-widgets/base",
            "_model_module_version": "1.2.0",
            "_model_name": "LayoutModel",
            "_view_count": null,
            "_view_module": "@jupyter-widgets/base",
            "_view_module_version": "1.2.0",
            "_view_name": "LayoutView",
            "align_content": null,
            "align_items": null,
            "align_self": null,
            "border": null,
            "bottom": null,
            "display": null,
            "flex": null,
            "flex_flow": null,
            "grid_area": null,
            "grid_auto_columns": null,
            "grid_auto_flow": null,
            "grid_auto_rows": null,
            "grid_column": null,
            "grid_gap": null,
            "grid_row": null,
            "grid_template_areas": null,
            "grid_template_columns": null,
            "grid_template_rows": null,
            "height": null,
            "justify_content": null,
            "justify_items": null,
            "left": null,
            "margin": null,
            "max_height": null,
            "max_width": null,
            "min_height": null,
            "min_width": null,
            "object_fit": null,
            "object_position": null,
            "order": null,
            "overflow": null,
            "overflow_x": null,
            "overflow_y": null,
            "padding": null,
            "right": null,
            "top": null,
            "visibility": null,
            "width": null
          }
        },
        "07f8c65e6a3d4ddd9d12bebd7de80f19": {
          "model_module": "@jupyter-widgets/base",
          "model_name": "LayoutModel",
          "model_module_version": "1.2.0",
          "state": {
            "_model_module": "@jupyter-widgets/base",
            "_model_module_version": "1.2.0",
            "_model_name": "LayoutModel",
            "_view_count": null,
            "_view_module": "@jupyter-widgets/base",
            "_view_module_version": "1.2.0",
            "_view_name": "LayoutView",
            "align_content": null,
            "align_items": null,
            "align_self": null,
            "border": null,
            "bottom": null,
            "display": null,
            "flex": null,
            "flex_flow": null,
            "grid_area": null,
            "grid_auto_columns": null,
            "grid_auto_flow": null,
            "grid_auto_rows": null,
            "grid_column": null,
            "grid_gap": null,
            "grid_row": null,
            "grid_template_areas": null,
            "grid_template_columns": null,
            "grid_template_rows": null,
            "height": null,
            "justify_content": null,
            "justify_items": null,
            "left": null,
            "margin": null,
            "max_height": null,
            "max_width": null,
            "min_height": null,
            "min_width": null,
            "object_fit": null,
            "object_position": null,
            "order": null,
            "overflow": null,
            "overflow_x": null,
            "overflow_y": null,
            "padding": null,
            "right": null,
            "top": null,
            "visibility": null,
            "width": null
          }
        },
        "4460784a73c24b83a44f272383386c3f": {
          "model_module": "@jupyter-widgets/controls",
          "model_name": "DescriptionStyleModel",
          "model_module_version": "1.5.0",
          "state": {
            "_model_module": "@jupyter-widgets/controls",
            "_model_module_version": "1.5.0",
            "_model_name": "DescriptionStyleModel",
            "_view_count": null,
            "_view_module": "@jupyter-widgets/base",
            "_view_module_version": "1.2.0",
            "_view_name": "StyleView",
            "description_width": ""
          }
        },
        "0aaa8a60361e4dc19f2ffafa3fbaf1fa": {
          "model_module": "@jupyter-widgets/base",
          "model_name": "LayoutModel",
          "model_module_version": "1.2.0",
          "state": {
            "_model_module": "@jupyter-widgets/base",
            "_model_module_version": "1.2.0",
            "_model_name": "LayoutModel",
            "_view_count": null,
            "_view_module": "@jupyter-widgets/base",
            "_view_module_version": "1.2.0",
            "_view_name": "LayoutView",
            "align_content": null,
            "align_items": null,
            "align_self": null,
            "border": null,
            "bottom": null,
            "display": null,
            "flex": null,
            "flex_flow": null,
            "grid_area": null,
            "grid_auto_columns": null,
            "grid_auto_flow": null,
            "grid_auto_rows": null,
            "grid_column": null,
            "grid_gap": null,
            "grid_row": null,
            "grid_template_areas": null,
            "grid_template_columns": null,
            "grid_template_rows": null,
            "height": null,
            "justify_content": null,
            "justify_items": null,
            "left": null,
            "margin": null,
            "max_height": null,
            "max_width": null,
            "min_height": null,
            "min_width": null,
            "object_fit": null,
            "object_position": null,
            "order": null,
            "overflow": null,
            "overflow_x": null,
            "overflow_y": null,
            "padding": null,
            "right": null,
            "top": null,
            "visibility": null,
            "width": null
          }
        },
        "fe9b96c75e7b4991800ee4c727ebb46c": {
          "model_module": "@jupyter-widgets/controls",
          "model_name": "ProgressStyleModel",
          "model_module_version": "1.5.0",
          "state": {
            "_model_module": "@jupyter-widgets/controls",
            "_model_module_version": "1.5.0",
            "_model_name": "ProgressStyleModel",
            "_view_count": null,
            "_view_module": "@jupyter-widgets/base",
            "_view_module_version": "1.2.0",
            "_view_name": "StyleView",
            "bar_color": null,
            "description_width": ""
          }
        },
        "de0eba6b1c884ed98fee60a14bd9d7e6": {
          "model_module": "@jupyter-widgets/base",
          "model_name": "LayoutModel",
          "model_module_version": "1.2.0",
          "state": {
            "_model_module": "@jupyter-widgets/base",
            "_model_module_version": "1.2.0",
            "_model_name": "LayoutModel",
            "_view_count": null,
            "_view_module": "@jupyter-widgets/base",
            "_view_module_version": "1.2.0",
            "_view_name": "LayoutView",
            "align_content": null,
            "align_items": null,
            "align_self": null,
            "border": null,
            "bottom": null,
            "display": null,
            "flex": null,
            "flex_flow": null,
            "grid_area": null,
            "grid_auto_columns": null,
            "grid_auto_flow": null,
            "grid_auto_rows": null,
            "grid_column": null,
            "grid_gap": null,
            "grid_row": null,
            "grid_template_areas": null,
            "grid_template_columns": null,
            "grid_template_rows": null,
            "height": null,
            "justify_content": null,
            "justify_items": null,
            "left": null,
            "margin": null,
            "max_height": null,
            "max_width": null,
            "min_height": null,
            "min_width": null,
            "object_fit": null,
            "object_position": null,
            "order": null,
            "overflow": null,
            "overflow_x": null,
            "overflow_y": null,
            "padding": null,
            "right": null,
            "top": null,
            "visibility": null,
            "width": null
          }
        },
        "a70756aeb3154b489593693a4c6f2763": {
          "model_module": "@jupyter-widgets/controls",
          "model_name": "DescriptionStyleModel",
          "model_module_version": "1.5.0",
          "state": {
            "_model_module": "@jupyter-widgets/controls",
            "_model_module_version": "1.5.0",
            "_model_name": "DescriptionStyleModel",
            "_view_count": null,
            "_view_module": "@jupyter-widgets/base",
            "_view_module_version": "1.2.0",
            "_view_name": "StyleView",
            "description_width": ""
          }
        },
        "7d46607163264730b57487b930ca8547": {
          "model_module": "@jupyter-widgets/controls",
          "model_name": "HBoxModel",
          "model_module_version": "1.5.0",
          "state": {
            "_dom_classes": [],
            "_model_module": "@jupyter-widgets/controls",
            "_model_module_version": "1.5.0",
            "_model_name": "HBoxModel",
            "_view_count": null,
            "_view_module": "@jupyter-widgets/controls",
            "_view_module_version": "1.5.0",
            "_view_name": "HBoxView",
            "box_style": "",
            "children": [
              "IPY_MODEL_0cdb52a8fa644df5a47c30b8785bdb56",
              "IPY_MODEL_1e237eb491a844e7a9f77261656fc3af",
              "IPY_MODEL_c5277e33da70497996e66096aa41d1db"
            ],
            "layout": "IPY_MODEL_34d477c9fb6047048698c3f83de334cb"
          }
        },
        "0cdb52a8fa644df5a47c30b8785bdb56": {
          "model_module": "@jupyter-widgets/controls",
          "model_name": "HTMLModel",
          "model_module_version": "1.5.0",
          "state": {
            "_dom_classes": [],
            "_model_module": "@jupyter-widgets/controls",
            "_model_module_version": "1.5.0",
            "_model_name": "HTMLModel",
            "_view_count": null,
            "_view_module": "@jupyter-widgets/controls",
            "_view_module_version": "1.5.0",
            "_view_name": "HTMLView",
            "description": "",
            "description_tooltip": null,
            "layout": "IPY_MODEL_7499dd3b0db443f3b27d994baa49e677",
            "placeholder": "​",
            "style": "IPY_MODEL_be1f71217b9f472485fe6a04d335dfae",
            "value": "Best trial: 21. Best value: 0.029035: 100%"
          }
        },
        "1e237eb491a844e7a9f77261656fc3af": {
          "model_module": "@jupyter-widgets/controls",
          "model_name": "FloatProgressModel",
          "model_module_version": "1.5.0",
          "state": {
            "_dom_classes": [],
            "_model_module": "@jupyter-widgets/controls",
            "_model_module_version": "1.5.0",
            "_model_name": "FloatProgressModel",
            "_view_count": null,
            "_view_module": "@jupyter-widgets/controls",
            "_view_module_version": "1.5.0",
            "_view_name": "ProgressView",
            "bar_style": "success",
            "description": "",
            "description_tooltip": null,
            "layout": "IPY_MODEL_59bafe6b1e6543dfb6637d9638004ac4",
            "max": 30,
            "min": 0,
            "orientation": "horizontal",
            "style": "IPY_MODEL_bdcdc92997b0433c9e64c21301ea96f3",
            "value": 30
          }
        },
        "c5277e33da70497996e66096aa41d1db": {
          "model_module": "@jupyter-widgets/controls",
          "model_name": "HTMLModel",
          "model_module_version": "1.5.0",
          "state": {
            "_dom_classes": [],
            "_model_module": "@jupyter-widgets/controls",
            "_model_module_version": "1.5.0",
            "_model_name": "HTMLModel",
            "_view_count": null,
            "_view_module": "@jupyter-widgets/controls",
            "_view_module_version": "1.5.0",
            "_view_name": "HTMLView",
            "description": "",
            "description_tooltip": null,
            "layout": "IPY_MODEL_894a4d6c40754948b52a602dd9a90f28",
            "placeholder": "​",
            "style": "IPY_MODEL_cd7168f189cb4c54b968257d5d4b3c56",
            "value": " 30/30 [05:29&lt;00:00, 11.95s/it]"
          }
        },
        "34d477c9fb6047048698c3f83de334cb": {
          "model_module": "@jupyter-widgets/base",
          "model_name": "LayoutModel",
          "model_module_version": "1.2.0",
          "state": {
            "_model_module": "@jupyter-widgets/base",
            "_model_module_version": "1.2.0",
            "_model_name": "LayoutModel",
            "_view_count": null,
            "_view_module": "@jupyter-widgets/base",
            "_view_module_version": "1.2.0",
            "_view_name": "LayoutView",
            "align_content": null,
            "align_items": null,
            "align_self": null,
            "border": null,
            "bottom": null,
            "display": null,
            "flex": null,
            "flex_flow": null,
            "grid_area": null,
            "grid_auto_columns": null,
            "grid_auto_flow": null,
            "grid_auto_rows": null,
            "grid_column": null,
            "grid_gap": null,
            "grid_row": null,
            "grid_template_areas": null,
            "grid_template_columns": null,
            "grid_template_rows": null,
            "height": null,
            "justify_content": null,
            "justify_items": null,
            "left": null,
            "margin": null,
            "max_height": null,
            "max_width": null,
            "min_height": null,
            "min_width": null,
            "object_fit": null,
            "object_position": null,
            "order": null,
            "overflow": null,
            "overflow_x": null,
            "overflow_y": null,
            "padding": null,
            "right": null,
            "top": null,
            "visibility": null,
            "width": null
          }
        },
        "7499dd3b0db443f3b27d994baa49e677": {
          "model_module": "@jupyter-widgets/base",
          "model_name": "LayoutModel",
          "model_module_version": "1.2.0",
          "state": {
            "_model_module": "@jupyter-widgets/base",
            "_model_module_version": "1.2.0",
            "_model_name": "LayoutModel",
            "_view_count": null,
            "_view_module": "@jupyter-widgets/base",
            "_view_module_version": "1.2.0",
            "_view_name": "LayoutView",
            "align_content": null,
            "align_items": null,
            "align_self": null,
            "border": null,
            "bottom": null,
            "display": null,
            "flex": null,
            "flex_flow": null,
            "grid_area": null,
            "grid_auto_columns": null,
            "grid_auto_flow": null,
            "grid_auto_rows": null,
            "grid_column": null,
            "grid_gap": null,
            "grid_row": null,
            "grid_template_areas": null,
            "grid_template_columns": null,
            "grid_template_rows": null,
            "height": null,
            "justify_content": null,
            "justify_items": null,
            "left": null,
            "margin": null,
            "max_height": null,
            "max_width": null,
            "min_height": null,
            "min_width": null,
            "object_fit": null,
            "object_position": null,
            "order": null,
            "overflow": null,
            "overflow_x": null,
            "overflow_y": null,
            "padding": null,
            "right": null,
            "top": null,
            "visibility": null,
            "width": null
          }
        },
        "be1f71217b9f472485fe6a04d335dfae": {
          "model_module": "@jupyter-widgets/controls",
          "model_name": "DescriptionStyleModel",
          "model_module_version": "1.5.0",
          "state": {
            "_model_module": "@jupyter-widgets/controls",
            "_model_module_version": "1.5.0",
            "_model_name": "DescriptionStyleModel",
            "_view_count": null,
            "_view_module": "@jupyter-widgets/base",
            "_view_module_version": "1.2.0",
            "_view_name": "StyleView",
            "description_width": ""
          }
        },
        "59bafe6b1e6543dfb6637d9638004ac4": {
          "model_module": "@jupyter-widgets/base",
          "model_name": "LayoutModel",
          "model_module_version": "1.2.0",
          "state": {
            "_model_module": "@jupyter-widgets/base",
            "_model_module_version": "1.2.0",
            "_model_name": "LayoutModel",
            "_view_count": null,
            "_view_module": "@jupyter-widgets/base",
            "_view_module_version": "1.2.0",
            "_view_name": "LayoutView",
            "align_content": null,
            "align_items": null,
            "align_self": null,
            "border": null,
            "bottom": null,
            "display": null,
            "flex": null,
            "flex_flow": null,
            "grid_area": null,
            "grid_auto_columns": null,
            "grid_auto_flow": null,
            "grid_auto_rows": null,
            "grid_column": null,
            "grid_gap": null,
            "grid_row": null,
            "grid_template_areas": null,
            "grid_template_columns": null,
            "grid_template_rows": null,
            "height": null,
            "justify_content": null,
            "justify_items": null,
            "left": null,
            "margin": null,
            "max_height": null,
            "max_width": null,
            "min_height": null,
            "min_width": null,
            "object_fit": null,
            "object_position": null,
            "order": null,
            "overflow": null,
            "overflow_x": null,
            "overflow_y": null,
            "padding": null,
            "right": null,
            "top": null,
            "visibility": null,
            "width": null
          }
        },
        "bdcdc92997b0433c9e64c21301ea96f3": {
          "model_module": "@jupyter-widgets/controls",
          "model_name": "ProgressStyleModel",
          "model_module_version": "1.5.0",
          "state": {
            "_model_module": "@jupyter-widgets/controls",
            "_model_module_version": "1.5.0",
            "_model_name": "ProgressStyleModel",
            "_view_count": null,
            "_view_module": "@jupyter-widgets/base",
            "_view_module_version": "1.2.0",
            "_view_name": "StyleView",
            "bar_color": null,
            "description_width": ""
          }
        },
        "894a4d6c40754948b52a602dd9a90f28": {
          "model_module": "@jupyter-widgets/base",
          "model_name": "LayoutModel",
          "model_module_version": "1.2.0",
          "state": {
            "_model_module": "@jupyter-widgets/base",
            "_model_module_version": "1.2.0",
            "_model_name": "LayoutModel",
            "_view_count": null,
            "_view_module": "@jupyter-widgets/base",
            "_view_module_version": "1.2.0",
            "_view_name": "LayoutView",
            "align_content": null,
            "align_items": null,
            "align_self": null,
            "border": null,
            "bottom": null,
            "display": null,
            "flex": null,
            "flex_flow": null,
            "grid_area": null,
            "grid_auto_columns": null,
            "grid_auto_flow": null,
            "grid_auto_rows": null,
            "grid_column": null,
            "grid_gap": null,
            "grid_row": null,
            "grid_template_areas": null,
            "grid_template_columns": null,
            "grid_template_rows": null,
            "height": null,
            "justify_content": null,
            "justify_items": null,
            "left": null,
            "margin": null,
            "max_height": null,
            "max_width": null,
            "min_height": null,
            "min_width": null,
            "object_fit": null,
            "object_position": null,
            "order": null,
            "overflow": null,
            "overflow_x": null,
            "overflow_y": null,
            "padding": null,
            "right": null,
            "top": null,
            "visibility": null,
            "width": null
          }
        },
        "cd7168f189cb4c54b968257d5d4b3c56": {
          "model_module": "@jupyter-widgets/controls",
          "model_name": "DescriptionStyleModel",
          "model_module_version": "1.5.0",
          "state": {
            "_model_module": "@jupyter-widgets/controls",
            "_model_module_version": "1.5.0",
            "_model_name": "DescriptionStyleModel",
            "_view_count": null,
            "_view_module": "@jupyter-widgets/base",
            "_view_module_version": "1.2.0",
            "_view_name": "StyleView",
            "description_width": ""
          }
        },
        "71ce76c6d1d3461b99c62e4f2d6d43aa": {
          "model_module": "@jupyter-widgets/controls",
          "model_name": "HBoxModel",
          "model_module_version": "1.5.0",
          "state": {
            "_dom_classes": [],
            "_model_module": "@jupyter-widgets/controls",
            "_model_module_version": "1.5.0",
            "_model_name": "HBoxModel",
            "_view_count": null,
            "_view_module": "@jupyter-widgets/controls",
            "_view_module_version": "1.5.0",
            "_view_name": "HBoxView",
            "box_style": "",
            "children": [
              "IPY_MODEL_5665ac5e1ae94114bb9f7598375b6cfc",
              "IPY_MODEL_bb507d74456740b29985cadde6faa1db",
              "IPY_MODEL_3466a755f2a34213abfb8633dc7a6694"
            ],
            "layout": "IPY_MODEL_617b4e6f8a07430e8dc8076fcfe5bdc5"
          }
        },
        "5665ac5e1ae94114bb9f7598375b6cfc": {
          "model_module": "@jupyter-widgets/controls",
          "model_name": "HTMLModel",
          "model_module_version": "1.5.0",
          "state": {
            "_dom_classes": [],
            "_model_module": "@jupyter-widgets/controls",
            "_model_module_version": "1.5.0",
            "_model_name": "HTMLModel",
            "_view_count": null,
            "_view_module": "@jupyter-widgets/controls",
            "_view_module_version": "1.5.0",
            "_view_name": "HTMLView",
            "description": "",
            "description_tooltip": null,
            "layout": "IPY_MODEL_497379bdb4024c67a19a4f5c1b46f1ec",
            "placeholder": "​",
            "style": "IPY_MODEL_787b64c1e33346f4a4567c6130ab73c0",
            "value": "Best trial: 25. Best value: 0.0371694: 100%"
          }
        },
        "bb507d74456740b29985cadde6faa1db": {
          "model_module": "@jupyter-widgets/controls",
          "model_name": "FloatProgressModel",
          "model_module_version": "1.5.0",
          "state": {
            "_dom_classes": [],
            "_model_module": "@jupyter-widgets/controls",
            "_model_module_version": "1.5.0",
            "_model_name": "FloatProgressModel",
            "_view_count": null,
            "_view_module": "@jupyter-widgets/controls",
            "_view_module_version": "1.5.0",
            "_view_name": "ProgressView",
            "bar_style": "success",
            "description": "",
            "description_tooltip": null,
            "layout": "IPY_MODEL_0a4a725dda274175bbda4fec14e6c674",
            "max": 30,
            "min": 0,
            "orientation": "horizontal",
            "style": "IPY_MODEL_8062757d239b40d69243713e30ebde8a",
            "value": 30
          }
        },
        "3466a755f2a34213abfb8633dc7a6694": {
          "model_module": "@jupyter-widgets/controls",
          "model_name": "HTMLModel",
          "model_module_version": "1.5.0",
          "state": {
            "_dom_classes": [],
            "_model_module": "@jupyter-widgets/controls",
            "_model_module_version": "1.5.0",
            "_model_name": "HTMLModel",
            "_view_count": null,
            "_view_module": "@jupyter-widgets/controls",
            "_view_module_version": "1.5.0",
            "_view_name": "HTMLView",
            "description": "",
            "description_tooltip": null,
            "layout": "IPY_MODEL_c0d6b5762e18433a81292b2349224e76",
            "placeholder": "​",
            "style": "IPY_MODEL_3fc5cb6564154ec89fc716548d7d3ce1",
            "value": " 30/30 [13:51&lt;00:00, 17.03s/it]"
          }
        },
        "617b4e6f8a07430e8dc8076fcfe5bdc5": {
          "model_module": "@jupyter-widgets/base",
          "model_name": "LayoutModel",
          "model_module_version": "1.2.0",
          "state": {
            "_model_module": "@jupyter-widgets/base",
            "_model_module_version": "1.2.0",
            "_model_name": "LayoutModel",
            "_view_count": null,
            "_view_module": "@jupyter-widgets/base",
            "_view_module_version": "1.2.0",
            "_view_name": "LayoutView",
            "align_content": null,
            "align_items": null,
            "align_self": null,
            "border": null,
            "bottom": null,
            "display": null,
            "flex": null,
            "flex_flow": null,
            "grid_area": null,
            "grid_auto_columns": null,
            "grid_auto_flow": null,
            "grid_auto_rows": null,
            "grid_column": null,
            "grid_gap": null,
            "grid_row": null,
            "grid_template_areas": null,
            "grid_template_columns": null,
            "grid_template_rows": null,
            "height": null,
            "justify_content": null,
            "justify_items": null,
            "left": null,
            "margin": null,
            "max_height": null,
            "max_width": null,
            "min_height": null,
            "min_width": null,
            "object_fit": null,
            "object_position": null,
            "order": null,
            "overflow": null,
            "overflow_x": null,
            "overflow_y": null,
            "padding": null,
            "right": null,
            "top": null,
            "visibility": null,
            "width": null
          }
        },
        "497379bdb4024c67a19a4f5c1b46f1ec": {
          "model_module": "@jupyter-widgets/base",
          "model_name": "LayoutModel",
          "model_module_version": "1.2.0",
          "state": {
            "_model_module": "@jupyter-widgets/base",
            "_model_module_version": "1.2.0",
            "_model_name": "LayoutModel",
            "_view_count": null,
            "_view_module": "@jupyter-widgets/base",
            "_view_module_version": "1.2.0",
            "_view_name": "LayoutView",
            "align_content": null,
            "align_items": null,
            "align_self": null,
            "border": null,
            "bottom": null,
            "display": null,
            "flex": null,
            "flex_flow": null,
            "grid_area": null,
            "grid_auto_columns": null,
            "grid_auto_flow": null,
            "grid_auto_rows": null,
            "grid_column": null,
            "grid_gap": null,
            "grid_row": null,
            "grid_template_areas": null,
            "grid_template_columns": null,
            "grid_template_rows": null,
            "height": null,
            "justify_content": null,
            "justify_items": null,
            "left": null,
            "margin": null,
            "max_height": null,
            "max_width": null,
            "min_height": null,
            "min_width": null,
            "object_fit": null,
            "object_position": null,
            "order": null,
            "overflow": null,
            "overflow_x": null,
            "overflow_y": null,
            "padding": null,
            "right": null,
            "top": null,
            "visibility": null,
            "width": null
          }
        },
        "787b64c1e33346f4a4567c6130ab73c0": {
          "model_module": "@jupyter-widgets/controls",
          "model_name": "DescriptionStyleModel",
          "model_module_version": "1.5.0",
          "state": {
            "_model_module": "@jupyter-widgets/controls",
            "_model_module_version": "1.5.0",
            "_model_name": "DescriptionStyleModel",
            "_view_count": null,
            "_view_module": "@jupyter-widgets/base",
            "_view_module_version": "1.2.0",
            "_view_name": "StyleView",
            "description_width": ""
          }
        },
        "0a4a725dda274175bbda4fec14e6c674": {
          "model_module": "@jupyter-widgets/base",
          "model_name": "LayoutModel",
          "model_module_version": "1.2.0",
          "state": {
            "_model_module": "@jupyter-widgets/base",
            "_model_module_version": "1.2.0",
            "_model_name": "LayoutModel",
            "_view_count": null,
            "_view_module": "@jupyter-widgets/base",
            "_view_module_version": "1.2.0",
            "_view_name": "LayoutView",
            "align_content": null,
            "align_items": null,
            "align_self": null,
            "border": null,
            "bottom": null,
            "display": null,
            "flex": null,
            "flex_flow": null,
            "grid_area": null,
            "grid_auto_columns": null,
            "grid_auto_flow": null,
            "grid_auto_rows": null,
            "grid_column": null,
            "grid_gap": null,
            "grid_row": null,
            "grid_template_areas": null,
            "grid_template_columns": null,
            "grid_template_rows": null,
            "height": null,
            "justify_content": null,
            "justify_items": null,
            "left": null,
            "margin": null,
            "max_height": null,
            "max_width": null,
            "min_height": null,
            "min_width": null,
            "object_fit": null,
            "object_position": null,
            "order": null,
            "overflow": null,
            "overflow_x": null,
            "overflow_y": null,
            "padding": null,
            "right": null,
            "top": null,
            "visibility": null,
            "width": null
          }
        },
        "8062757d239b40d69243713e30ebde8a": {
          "model_module": "@jupyter-widgets/controls",
          "model_name": "ProgressStyleModel",
          "model_module_version": "1.5.0",
          "state": {
            "_model_module": "@jupyter-widgets/controls",
            "_model_module_version": "1.5.0",
            "_model_name": "ProgressStyleModel",
            "_view_count": null,
            "_view_module": "@jupyter-widgets/base",
            "_view_module_version": "1.2.0",
            "_view_name": "StyleView",
            "bar_color": null,
            "description_width": ""
          }
        },
        "c0d6b5762e18433a81292b2349224e76": {
          "model_module": "@jupyter-widgets/base",
          "model_name": "LayoutModel",
          "model_module_version": "1.2.0",
          "state": {
            "_model_module": "@jupyter-widgets/base",
            "_model_module_version": "1.2.0",
            "_model_name": "LayoutModel",
            "_view_count": null,
            "_view_module": "@jupyter-widgets/base",
            "_view_module_version": "1.2.0",
            "_view_name": "LayoutView",
            "align_content": null,
            "align_items": null,
            "align_self": null,
            "border": null,
            "bottom": null,
            "display": null,
            "flex": null,
            "flex_flow": null,
            "grid_area": null,
            "grid_auto_columns": null,
            "grid_auto_flow": null,
            "grid_auto_rows": null,
            "grid_column": null,
            "grid_gap": null,
            "grid_row": null,
            "grid_template_areas": null,
            "grid_template_columns": null,
            "grid_template_rows": null,
            "height": null,
            "justify_content": null,
            "justify_items": null,
            "left": null,
            "margin": null,
            "max_height": null,
            "max_width": null,
            "min_height": null,
            "min_width": null,
            "object_fit": null,
            "object_position": null,
            "order": null,
            "overflow": null,
            "overflow_x": null,
            "overflow_y": null,
            "padding": null,
            "right": null,
            "top": null,
            "visibility": null,
            "width": null
          }
        },
        "3fc5cb6564154ec89fc716548d7d3ce1": {
          "model_module": "@jupyter-widgets/controls",
          "model_name": "DescriptionStyleModel",
          "model_module_version": "1.5.0",
          "state": {
            "_model_module": "@jupyter-widgets/controls",
            "_model_module_version": "1.5.0",
            "_model_name": "DescriptionStyleModel",
            "_view_count": null,
            "_view_module": "@jupyter-widgets/base",
            "_view_module_version": "1.2.0",
            "_view_name": "StyleView",
            "description_width": ""
          }
        },
        "f855b701669e4b1ca72425886ddd50c0": {
          "model_module": "@jupyter-widgets/controls",
          "model_name": "HBoxModel",
          "model_module_version": "1.5.0",
          "state": {
            "_dom_classes": [],
            "_model_module": "@jupyter-widgets/controls",
            "_model_module_version": "1.5.0",
            "_model_name": "HBoxModel",
            "_view_count": null,
            "_view_module": "@jupyter-widgets/controls",
            "_view_module_version": "1.5.0",
            "_view_name": "HBoxView",
            "box_style": "",
            "children": [
              "IPY_MODEL_a1ea71ecf464436b9639e0ffa329644d",
              "IPY_MODEL_997a34acacba48b883d99f10e8594880",
              "IPY_MODEL_75c65852ed444ce08f709a13bf0b22dc"
            ],
            "layout": "IPY_MODEL_cf5a06f9abb141ed9dc5b6c536273cfd"
          }
        },
        "a1ea71ecf464436b9639e0ffa329644d": {
          "model_module": "@jupyter-widgets/controls",
          "model_name": "HTMLModel",
          "model_module_version": "1.5.0",
          "state": {
            "_dom_classes": [],
            "_model_module": "@jupyter-widgets/controls",
            "_model_module_version": "1.5.0",
            "_model_name": "HTMLModel",
            "_view_count": null,
            "_view_module": "@jupyter-widgets/controls",
            "_view_module_version": "1.5.0",
            "_view_name": "HTMLView",
            "description": "",
            "description_tooltip": null,
            "layout": "IPY_MODEL_d9ef994c128e4f0cb3c9fdef409d2263",
            "placeholder": "​",
            "style": "IPY_MODEL_f4cc587928ea43ceb861dbf34c0c73f1",
            "value": "Best trial: 27. Best value: 0.0279222: 100%"
          }
        },
        "997a34acacba48b883d99f10e8594880": {
          "model_module": "@jupyter-widgets/controls",
          "model_name": "FloatProgressModel",
          "model_module_version": "1.5.0",
          "state": {
            "_dom_classes": [],
            "_model_module": "@jupyter-widgets/controls",
            "_model_module_version": "1.5.0",
            "_model_name": "FloatProgressModel",
            "_view_count": null,
            "_view_module": "@jupyter-widgets/controls",
            "_view_module_version": "1.5.0",
            "_view_name": "ProgressView",
            "bar_style": "success",
            "description": "",
            "description_tooltip": null,
            "layout": "IPY_MODEL_dc39518d20114158a1dd6a9de563dfc8",
            "max": 30,
            "min": 0,
            "orientation": "horizontal",
            "style": "IPY_MODEL_3c693786b4e749469494f6c9ec947fb1",
            "value": 30
          }
        },
        "75c65852ed444ce08f709a13bf0b22dc": {
          "model_module": "@jupyter-widgets/controls",
          "model_name": "HTMLModel",
          "model_module_version": "1.5.0",
          "state": {
            "_dom_classes": [],
            "_model_module": "@jupyter-widgets/controls",
            "_model_module_version": "1.5.0",
            "_model_name": "HTMLModel",
            "_view_count": null,
            "_view_module": "@jupyter-widgets/controls",
            "_view_module_version": "1.5.0",
            "_view_name": "HTMLView",
            "description": "",
            "description_tooltip": null,
            "layout": "IPY_MODEL_ec26c7bbe5454035bba0515aa15c987c",
            "placeholder": "​",
            "style": "IPY_MODEL_06c1bbdfa8f14073b2a3f5742f4286c9",
            "value": " 30/30 [09:34&lt;00:00, 17.27s/it]"
          }
        },
        "cf5a06f9abb141ed9dc5b6c536273cfd": {
          "model_module": "@jupyter-widgets/base",
          "model_name": "LayoutModel",
          "model_module_version": "1.2.0",
          "state": {
            "_model_module": "@jupyter-widgets/base",
            "_model_module_version": "1.2.0",
            "_model_name": "LayoutModel",
            "_view_count": null,
            "_view_module": "@jupyter-widgets/base",
            "_view_module_version": "1.2.0",
            "_view_name": "LayoutView",
            "align_content": null,
            "align_items": null,
            "align_self": null,
            "border": null,
            "bottom": null,
            "display": null,
            "flex": null,
            "flex_flow": null,
            "grid_area": null,
            "grid_auto_columns": null,
            "grid_auto_flow": null,
            "grid_auto_rows": null,
            "grid_column": null,
            "grid_gap": null,
            "grid_row": null,
            "grid_template_areas": null,
            "grid_template_columns": null,
            "grid_template_rows": null,
            "height": null,
            "justify_content": null,
            "justify_items": null,
            "left": null,
            "margin": null,
            "max_height": null,
            "max_width": null,
            "min_height": null,
            "min_width": null,
            "object_fit": null,
            "object_position": null,
            "order": null,
            "overflow": null,
            "overflow_x": null,
            "overflow_y": null,
            "padding": null,
            "right": null,
            "top": null,
            "visibility": null,
            "width": null
          }
        },
        "d9ef994c128e4f0cb3c9fdef409d2263": {
          "model_module": "@jupyter-widgets/base",
          "model_name": "LayoutModel",
          "model_module_version": "1.2.0",
          "state": {
            "_model_module": "@jupyter-widgets/base",
            "_model_module_version": "1.2.0",
            "_model_name": "LayoutModel",
            "_view_count": null,
            "_view_module": "@jupyter-widgets/base",
            "_view_module_version": "1.2.0",
            "_view_name": "LayoutView",
            "align_content": null,
            "align_items": null,
            "align_self": null,
            "border": null,
            "bottom": null,
            "display": null,
            "flex": null,
            "flex_flow": null,
            "grid_area": null,
            "grid_auto_columns": null,
            "grid_auto_flow": null,
            "grid_auto_rows": null,
            "grid_column": null,
            "grid_gap": null,
            "grid_row": null,
            "grid_template_areas": null,
            "grid_template_columns": null,
            "grid_template_rows": null,
            "height": null,
            "justify_content": null,
            "justify_items": null,
            "left": null,
            "margin": null,
            "max_height": null,
            "max_width": null,
            "min_height": null,
            "min_width": null,
            "object_fit": null,
            "object_position": null,
            "order": null,
            "overflow": null,
            "overflow_x": null,
            "overflow_y": null,
            "padding": null,
            "right": null,
            "top": null,
            "visibility": null,
            "width": null
          }
        },
        "f4cc587928ea43ceb861dbf34c0c73f1": {
          "model_module": "@jupyter-widgets/controls",
          "model_name": "DescriptionStyleModel",
          "model_module_version": "1.5.0",
          "state": {
            "_model_module": "@jupyter-widgets/controls",
            "_model_module_version": "1.5.0",
            "_model_name": "DescriptionStyleModel",
            "_view_count": null,
            "_view_module": "@jupyter-widgets/base",
            "_view_module_version": "1.2.0",
            "_view_name": "StyleView",
            "description_width": ""
          }
        },
        "dc39518d20114158a1dd6a9de563dfc8": {
          "model_module": "@jupyter-widgets/base",
          "model_name": "LayoutModel",
          "model_module_version": "1.2.0",
          "state": {
            "_model_module": "@jupyter-widgets/base",
            "_model_module_version": "1.2.0",
            "_model_name": "LayoutModel",
            "_view_count": null,
            "_view_module": "@jupyter-widgets/base",
            "_view_module_version": "1.2.0",
            "_view_name": "LayoutView",
            "align_content": null,
            "align_items": null,
            "align_self": null,
            "border": null,
            "bottom": null,
            "display": null,
            "flex": null,
            "flex_flow": null,
            "grid_area": null,
            "grid_auto_columns": null,
            "grid_auto_flow": null,
            "grid_auto_rows": null,
            "grid_column": null,
            "grid_gap": null,
            "grid_row": null,
            "grid_template_areas": null,
            "grid_template_columns": null,
            "grid_template_rows": null,
            "height": null,
            "justify_content": null,
            "justify_items": null,
            "left": null,
            "margin": null,
            "max_height": null,
            "max_width": null,
            "min_height": null,
            "min_width": null,
            "object_fit": null,
            "object_position": null,
            "order": null,
            "overflow": null,
            "overflow_x": null,
            "overflow_y": null,
            "padding": null,
            "right": null,
            "top": null,
            "visibility": null,
            "width": null
          }
        },
        "3c693786b4e749469494f6c9ec947fb1": {
          "model_module": "@jupyter-widgets/controls",
          "model_name": "ProgressStyleModel",
          "model_module_version": "1.5.0",
          "state": {
            "_model_module": "@jupyter-widgets/controls",
            "_model_module_version": "1.5.0",
            "_model_name": "ProgressStyleModel",
            "_view_count": null,
            "_view_module": "@jupyter-widgets/base",
            "_view_module_version": "1.2.0",
            "_view_name": "StyleView",
            "bar_color": null,
            "description_width": ""
          }
        },
        "ec26c7bbe5454035bba0515aa15c987c": {
          "model_module": "@jupyter-widgets/base",
          "model_name": "LayoutModel",
          "model_module_version": "1.2.0",
          "state": {
            "_model_module": "@jupyter-widgets/base",
            "_model_module_version": "1.2.0",
            "_model_name": "LayoutModel",
            "_view_count": null,
            "_view_module": "@jupyter-widgets/base",
            "_view_module_version": "1.2.0",
            "_view_name": "LayoutView",
            "align_content": null,
            "align_items": null,
            "align_self": null,
            "border": null,
            "bottom": null,
            "display": null,
            "flex": null,
            "flex_flow": null,
            "grid_area": null,
            "grid_auto_columns": null,
            "grid_auto_flow": null,
            "grid_auto_rows": null,
            "grid_column": null,
            "grid_gap": null,
            "grid_row": null,
            "grid_template_areas": null,
            "grid_template_columns": null,
            "grid_template_rows": null,
            "height": null,
            "justify_content": null,
            "justify_items": null,
            "left": null,
            "margin": null,
            "max_height": null,
            "max_width": null,
            "min_height": null,
            "min_width": null,
            "object_fit": null,
            "object_position": null,
            "order": null,
            "overflow": null,
            "overflow_x": null,
            "overflow_y": null,
            "padding": null,
            "right": null,
            "top": null,
            "visibility": null,
            "width": null
          }
        },
        "06c1bbdfa8f14073b2a3f5742f4286c9": {
          "model_module": "@jupyter-widgets/controls",
          "model_name": "DescriptionStyleModel",
          "model_module_version": "1.5.0",
          "state": {
            "_model_module": "@jupyter-widgets/controls",
            "_model_module_version": "1.5.0",
            "_model_name": "DescriptionStyleModel",
            "_view_count": null,
            "_view_module": "@jupyter-widgets/base",
            "_view_module_version": "1.2.0",
            "_view_name": "StyleView",
            "description_width": ""
          }
        },
        "0ddd74da7f084f02a41de4b33d37deb6": {
          "model_module": "@jupyter-widgets/controls",
          "model_name": "HBoxModel",
          "model_module_version": "1.5.0",
          "state": {
            "_dom_classes": [],
            "_model_module": "@jupyter-widgets/controls",
            "_model_module_version": "1.5.0",
            "_model_name": "HBoxModel",
            "_view_count": null,
            "_view_module": "@jupyter-widgets/controls",
            "_view_module_version": "1.5.0",
            "_view_name": "HBoxView",
            "box_style": "",
            "children": [
              "IPY_MODEL_6ba2032cf6784af7b825e55a39712620",
              "IPY_MODEL_5e6f59070b3b48769c8fe3ac0a8836e7",
              "IPY_MODEL_ec4829024cb0429f8fd9b3325070272e"
            ],
            "layout": "IPY_MODEL_e5b9724ec8f04b66bf4c96d97ceb3c1d"
          }
        },
        "6ba2032cf6784af7b825e55a39712620": {
          "model_module": "@jupyter-widgets/controls",
          "model_name": "HTMLModel",
          "model_module_version": "1.5.0",
          "state": {
            "_dom_classes": [],
            "_model_module": "@jupyter-widgets/controls",
            "_model_module_version": "1.5.0",
            "_model_name": "HTMLModel",
            "_view_count": null,
            "_view_module": "@jupyter-widgets/controls",
            "_view_module_version": "1.5.0",
            "_view_name": "HTMLView",
            "description": "",
            "description_tooltip": null,
            "layout": "IPY_MODEL_805f534bdf85421ea558952ba85f3780",
            "placeholder": "​",
            "style": "IPY_MODEL_975a0ff0594b4ec3a7dde619fa76fc2d",
            "value": "Best trial: 11. Best value: 0.0234209: 100%"
          }
        },
        "5e6f59070b3b48769c8fe3ac0a8836e7": {
          "model_module": "@jupyter-widgets/controls",
          "model_name": "FloatProgressModel",
          "model_module_version": "1.5.0",
          "state": {
            "_dom_classes": [],
            "_model_module": "@jupyter-widgets/controls",
            "_model_module_version": "1.5.0",
            "_model_name": "FloatProgressModel",
            "_view_count": null,
            "_view_module": "@jupyter-widgets/controls",
            "_view_module_version": "1.5.0",
            "_view_name": "ProgressView",
            "bar_style": "success",
            "description": "",
            "description_tooltip": null,
            "layout": "IPY_MODEL_bce52764c3b642f687d1b6eb09db2c8b",
            "max": 30,
            "min": 0,
            "orientation": "horizontal",
            "style": "IPY_MODEL_ea5f0176e4684d8a84b03572a99ba0cf",
            "value": 30
          }
        },
        "ec4829024cb0429f8fd9b3325070272e": {
          "model_module": "@jupyter-widgets/controls",
          "model_name": "HTMLModel",
          "model_module_version": "1.5.0",
          "state": {
            "_dom_classes": [],
            "_model_module": "@jupyter-widgets/controls",
            "_model_module_version": "1.5.0",
            "_model_name": "HTMLModel",
            "_view_count": null,
            "_view_module": "@jupyter-widgets/controls",
            "_view_module_version": "1.5.0",
            "_view_name": "HTMLView",
            "description": "",
            "description_tooltip": null,
            "layout": "IPY_MODEL_2506a0417d9b462e8e69a78235a38cb7",
            "placeholder": "​",
            "style": "IPY_MODEL_e84ec580522e4b8ca9a2c1f2d6cd6c95",
            "value": " 30/30 [09:03&lt;00:00, 18.38s/it]"
          }
        },
        "e5b9724ec8f04b66bf4c96d97ceb3c1d": {
          "model_module": "@jupyter-widgets/base",
          "model_name": "LayoutModel",
          "model_module_version": "1.2.0",
          "state": {
            "_model_module": "@jupyter-widgets/base",
            "_model_module_version": "1.2.0",
            "_model_name": "LayoutModel",
            "_view_count": null,
            "_view_module": "@jupyter-widgets/base",
            "_view_module_version": "1.2.0",
            "_view_name": "LayoutView",
            "align_content": null,
            "align_items": null,
            "align_self": null,
            "border": null,
            "bottom": null,
            "display": null,
            "flex": null,
            "flex_flow": null,
            "grid_area": null,
            "grid_auto_columns": null,
            "grid_auto_flow": null,
            "grid_auto_rows": null,
            "grid_column": null,
            "grid_gap": null,
            "grid_row": null,
            "grid_template_areas": null,
            "grid_template_columns": null,
            "grid_template_rows": null,
            "height": null,
            "justify_content": null,
            "justify_items": null,
            "left": null,
            "margin": null,
            "max_height": null,
            "max_width": null,
            "min_height": null,
            "min_width": null,
            "object_fit": null,
            "object_position": null,
            "order": null,
            "overflow": null,
            "overflow_x": null,
            "overflow_y": null,
            "padding": null,
            "right": null,
            "top": null,
            "visibility": null,
            "width": null
          }
        },
        "805f534bdf85421ea558952ba85f3780": {
          "model_module": "@jupyter-widgets/base",
          "model_name": "LayoutModel",
          "model_module_version": "1.2.0",
          "state": {
            "_model_module": "@jupyter-widgets/base",
            "_model_module_version": "1.2.0",
            "_model_name": "LayoutModel",
            "_view_count": null,
            "_view_module": "@jupyter-widgets/base",
            "_view_module_version": "1.2.0",
            "_view_name": "LayoutView",
            "align_content": null,
            "align_items": null,
            "align_self": null,
            "border": null,
            "bottom": null,
            "display": null,
            "flex": null,
            "flex_flow": null,
            "grid_area": null,
            "grid_auto_columns": null,
            "grid_auto_flow": null,
            "grid_auto_rows": null,
            "grid_column": null,
            "grid_gap": null,
            "grid_row": null,
            "grid_template_areas": null,
            "grid_template_columns": null,
            "grid_template_rows": null,
            "height": null,
            "justify_content": null,
            "justify_items": null,
            "left": null,
            "margin": null,
            "max_height": null,
            "max_width": null,
            "min_height": null,
            "min_width": null,
            "object_fit": null,
            "object_position": null,
            "order": null,
            "overflow": null,
            "overflow_x": null,
            "overflow_y": null,
            "padding": null,
            "right": null,
            "top": null,
            "visibility": null,
            "width": null
          }
        },
        "975a0ff0594b4ec3a7dde619fa76fc2d": {
          "model_module": "@jupyter-widgets/controls",
          "model_name": "DescriptionStyleModel",
          "model_module_version": "1.5.0",
          "state": {
            "_model_module": "@jupyter-widgets/controls",
            "_model_module_version": "1.5.0",
            "_model_name": "DescriptionStyleModel",
            "_view_count": null,
            "_view_module": "@jupyter-widgets/base",
            "_view_module_version": "1.2.0",
            "_view_name": "StyleView",
            "description_width": ""
          }
        },
        "bce52764c3b642f687d1b6eb09db2c8b": {
          "model_module": "@jupyter-widgets/base",
          "model_name": "LayoutModel",
          "model_module_version": "1.2.0",
          "state": {
            "_model_module": "@jupyter-widgets/base",
            "_model_module_version": "1.2.0",
            "_model_name": "LayoutModel",
            "_view_count": null,
            "_view_module": "@jupyter-widgets/base",
            "_view_module_version": "1.2.0",
            "_view_name": "LayoutView",
            "align_content": null,
            "align_items": null,
            "align_self": null,
            "border": null,
            "bottom": null,
            "display": null,
            "flex": null,
            "flex_flow": null,
            "grid_area": null,
            "grid_auto_columns": null,
            "grid_auto_flow": null,
            "grid_auto_rows": null,
            "grid_column": null,
            "grid_gap": null,
            "grid_row": null,
            "grid_template_areas": null,
            "grid_template_columns": null,
            "grid_template_rows": null,
            "height": null,
            "justify_content": null,
            "justify_items": null,
            "left": null,
            "margin": null,
            "max_height": null,
            "max_width": null,
            "min_height": null,
            "min_width": null,
            "object_fit": null,
            "object_position": null,
            "order": null,
            "overflow": null,
            "overflow_x": null,
            "overflow_y": null,
            "padding": null,
            "right": null,
            "top": null,
            "visibility": null,
            "width": null
          }
        },
        "ea5f0176e4684d8a84b03572a99ba0cf": {
          "model_module": "@jupyter-widgets/controls",
          "model_name": "ProgressStyleModel",
          "model_module_version": "1.5.0",
          "state": {
            "_model_module": "@jupyter-widgets/controls",
            "_model_module_version": "1.5.0",
            "_model_name": "ProgressStyleModel",
            "_view_count": null,
            "_view_module": "@jupyter-widgets/base",
            "_view_module_version": "1.2.0",
            "_view_name": "StyleView",
            "bar_color": null,
            "description_width": ""
          }
        },
        "2506a0417d9b462e8e69a78235a38cb7": {
          "model_module": "@jupyter-widgets/base",
          "model_name": "LayoutModel",
          "model_module_version": "1.2.0",
          "state": {
            "_model_module": "@jupyter-widgets/base",
            "_model_module_version": "1.2.0",
            "_model_name": "LayoutModel",
            "_view_count": null,
            "_view_module": "@jupyter-widgets/base",
            "_view_module_version": "1.2.0",
            "_view_name": "LayoutView",
            "align_content": null,
            "align_items": null,
            "align_self": null,
            "border": null,
            "bottom": null,
            "display": null,
            "flex": null,
            "flex_flow": null,
            "grid_area": null,
            "grid_auto_columns": null,
            "grid_auto_flow": null,
            "grid_auto_rows": null,
            "grid_column": null,
            "grid_gap": null,
            "grid_row": null,
            "grid_template_areas": null,
            "grid_template_columns": null,
            "grid_template_rows": null,
            "height": null,
            "justify_content": null,
            "justify_items": null,
            "left": null,
            "margin": null,
            "max_height": null,
            "max_width": null,
            "min_height": null,
            "min_width": null,
            "object_fit": null,
            "object_position": null,
            "order": null,
            "overflow": null,
            "overflow_x": null,
            "overflow_y": null,
            "padding": null,
            "right": null,
            "top": null,
            "visibility": null,
            "width": null
          }
        },
        "e84ec580522e4b8ca9a2c1f2d6cd6c95": {
          "model_module": "@jupyter-widgets/controls",
          "model_name": "DescriptionStyleModel",
          "model_module_version": "1.5.0",
          "state": {
            "_model_module": "@jupyter-widgets/controls",
            "_model_module_version": "1.5.0",
            "_model_name": "DescriptionStyleModel",
            "_view_count": null,
            "_view_module": "@jupyter-widgets/base",
            "_view_module_version": "1.2.0",
            "_view_name": "StyleView",
            "description_width": ""
          }
        },
        "4af876bd4c14478b82c0e33105a55e9d": {
          "model_module": "@jupyter-widgets/controls",
          "model_name": "HBoxModel",
          "model_module_version": "1.5.0",
          "state": {
            "_dom_classes": [],
            "_model_module": "@jupyter-widgets/controls",
            "_model_module_version": "1.5.0",
            "_model_name": "HBoxModel",
            "_view_count": null,
            "_view_module": "@jupyter-widgets/controls",
            "_view_module_version": "1.5.0",
            "_view_name": "HBoxView",
            "box_style": "",
            "children": [
              "IPY_MODEL_2648fd1b56864391b0714f75755b9b88",
              "IPY_MODEL_6618b03d0a004d39aec6e0551964b748",
              "IPY_MODEL_356c6c3ed4654bb2a50b7a6740c340ce"
            ],
            "layout": "IPY_MODEL_d2964a7a03444bd6901d92e0eebdb4cf"
          }
        },
        "2648fd1b56864391b0714f75755b9b88": {
          "model_module": "@jupyter-widgets/controls",
          "model_name": "HTMLModel",
          "model_module_version": "1.5.0",
          "state": {
            "_dom_classes": [],
            "_model_module": "@jupyter-widgets/controls",
            "_model_module_version": "1.5.0",
            "_model_name": "HTMLModel",
            "_view_count": null,
            "_view_module": "@jupyter-widgets/controls",
            "_view_module_version": "1.5.0",
            "_view_name": "HTMLView",
            "description": "",
            "description_tooltip": null,
            "layout": "IPY_MODEL_11bad51668084cd4a3caff47575fd9be",
            "placeholder": "​",
            "style": "IPY_MODEL_24b8f0a9b6a0495592b29b5de220ac1c",
            "value": "Best trial: 20. Best value: 0.0265136: 100%"
          }
        },
        "6618b03d0a004d39aec6e0551964b748": {
          "model_module": "@jupyter-widgets/controls",
          "model_name": "FloatProgressModel",
          "model_module_version": "1.5.0",
          "state": {
            "_dom_classes": [],
            "_model_module": "@jupyter-widgets/controls",
            "_model_module_version": "1.5.0",
            "_model_name": "FloatProgressModel",
            "_view_count": null,
            "_view_module": "@jupyter-widgets/controls",
            "_view_module_version": "1.5.0",
            "_view_name": "ProgressView",
            "bar_style": "success",
            "description": "",
            "description_tooltip": null,
            "layout": "IPY_MODEL_95878ec1ebd64e9e86de4acc16d630ec",
            "max": 30,
            "min": 0,
            "orientation": "horizontal",
            "style": "IPY_MODEL_31fa11d68b1a45bfb8f12d058e55051d",
            "value": 30
          }
        },
        "356c6c3ed4654bb2a50b7a6740c340ce": {
          "model_module": "@jupyter-widgets/controls",
          "model_name": "HTMLModel",
          "model_module_version": "1.5.0",
          "state": {
            "_dom_classes": [],
            "_model_module": "@jupyter-widgets/controls",
            "_model_module_version": "1.5.0",
            "_model_name": "HTMLModel",
            "_view_count": null,
            "_view_module": "@jupyter-widgets/controls",
            "_view_module_version": "1.5.0",
            "_view_name": "HTMLView",
            "description": "",
            "description_tooltip": null,
            "layout": "IPY_MODEL_26e879697d244d388d549a474843779b",
            "placeholder": "​",
            "style": "IPY_MODEL_b194f0817cf54f01b3f4d12ec10393d3",
            "value": " 30/30 [11:34&lt;00:00, 16.85s/it]"
          }
        },
        "d2964a7a03444bd6901d92e0eebdb4cf": {
          "model_module": "@jupyter-widgets/base",
          "model_name": "LayoutModel",
          "model_module_version": "1.2.0",
          "state": {
            "_model_module": "@jupyter-widgets/base",
            "_model_module_version": "1.2.0",
            "_model_name": "LayoutModel",
            "_view_count": null,
            "_view_module": "@jupyter-widgets/base",
            "_view_module_version": "1.2.0",
            "_view_name": "LayoutView",
            "align_content": null,
            "align_items": null,
            "align_self": null,
            "border": null,
            "bottom": null,
            "display": null,
            "flex": null,
            "flex_flow": null,
            "grid_area": null,
            "grid_auto_columns": null,
            "grid_auto_flow": null,
            "grid_auto_rows": null,
            "grid_column": null,
            "grid_gap": null,
            "grid_row": null,
            "grid_template_areas": null,
            "grid_template_columns": null,
            "grid_template_rows": null,
            "height": null,
            "justify_content": null,
            "justify_items": null,
            "left": null,
            "margin": null,
            "max_height": null,
            "max_width": null,
            "min_height": null,
            "min_width": null,
            "object_fit": null,
            "object_position": null,
            "order": null,
            "overflow": null,
            "overflow_x": null,
            "overflow_y": null,
            "padding": null,
            "right": null,
            "top": null,
            "visibility": null,
            "width": null
          }
        },
        "11bad51668084cd4a3caff47575fd9be": {
          "model_module": "@jupyter-widgets/base",
          "model_name": "LayoutModel",
          "model_module_version": "1.2.0",
          "state": {
            "_model_module": "@jupyter-widgets/base",
            "_model_module_version": "1.2.0",
            "_model_name": "LayoutModel",
            "_view_count": null,
            "_view_module": "@jupyter-widgets/base",
            "_view_module_version": "1.2.0",
            "_view_name": "LayoutView",
            "align_content": null,
            "align_items": null,
            "align_self": null,
            "border": null,
            "bottom": null,
            "display": null,
            "flex": null,
            "flex_flow": null,
            "grid_area": null,
            "grid_auto_columns": null,
            "grid_auto_flow": null,
            "grid_auto_rows": null,
            "grid_column": null,
            "grid_gap": null,
            "grid_row": null,
            "grid_template_areas": null,
            "grid_template_columns": null,
            "grid_template_rows": null,
            "height": null,
            "justify_content": null,
            "justify_items": null,
            "left": null,
            "margin": null,
            "max_height": null,
            "max_width": null,
            "min_height": null,
            "min_width": null,
            "object_fit": null,
            "object_position": null,
            "order": null,
            "overflow": null,
            "overflow_x": null,
            "overflow_y": null,
            "padding": null,
            "right": null,
            "top": null,
            "visibility": null,
            "width": null
          }
        },
        "24b8f0a9b6a0495592b29b5de220ac1c": {
          "model_module": "@jupyter-widgets/controls",
          "model_name": "DescriptionStyleModel",
          "model_module_version": "1.5.0",
          "state": {
            "_model_module": "@jupyter-widgets/controls",
            "_model_module_version": "1.5.0",
            "_model_name": "DescriptionStyleModel",
            "_view_count": null,
            "_view_module": "@jupyter-widgets/base",
            "_view_module_version": "1.2.0",
            "_view_name": "StyleView",
            "description_width": ""
          }
        },
        "95878ec1ebd64e9e86de4acc16d630ec": {
          "model_module": "@jupyter-widgets/base",
          "model_name": "LayoutModel",
          "model_module_version": "1.2.0",
          "state": {
            "_model_module": "@jupyter-widgets/base",
            "_model_module_version": "1.2.0",
            "_model_name": "LayoutModel",
            "_view_count": null,
            "_view_module": "@jupyter-widgets/base",
            "_view_module_version": "1.2.0",
            "_view_name": "LayoutView",
            "align_content": null,
            "align_items": null,
            "align_self": null,
            "border": null,
            "bottom": null,
            "display": null,
            "flex": null,
            "flex_flow": null,
            "grid_area": null,
            "grid_auto_columns": null,
            "grid_auto_flow": null,
            "grid_auto_rows": null,
            "grid_column": null,
            "grid_gap": null,
            "grid_row": null,
            "grid_template_areas": null,
            "grid_template_columns": null,
            "grid_template_rows": null,
            "height": null,
            "justify_content": null,
            "justify_items": null,
            "left": null,
            "margin": null,
            "max_height": null,
            "max_width": null,
            "min_height": null,
            "min_width": null,
            "object_fit": null,
            "object_position": null,
            "order": null,
            "overflow": null,
            "overflow_x": null,
            "overflow_y": null,
            "padding": null,
            "right": null,
            "top": null,
            "visibility": null,
            "width": null
          }
        },
        "31fa11d68b1a45bfb8f12d058e55051d": {
          "model_module": "@jupyter-widgets/controls",
          "model_name": "ProgressStyleModel",
          "model_module_version": "1.5.0",
          "state": {
            "_model_module": "@jupyter-widgets/controls",
            "_model_module_version": "1.5.0",
            "_model_name": "ProgressStyleModel",
            "_view_count": null,
            "_view_module": "@jupyter-widgets/base",
            "_view_module_version": "1.2.0",
            "_view_name": "StyleView",
            "bar_color": null,
            "description_width": ""
          }
        },
        "26e879697d244d388d549a474843779b": {
          "model_module": "@jupyter-widgets/base",
          "model_name": "LayoutModel",
          "model_module_version": "1.2.0",
          "state": {
            "_model_module": "@jupyter-widgets/base",
            "_model_module_version": "1.2.0",
            "_model_name": "LayoutModel",
            "_view_count": null,
            "_view_module": "@jupyter-widgets/base",
            "_view_module_version": "1.2.0",
            "_view_name": "LayoutView",
            "align_content": null,
            "align_items": null,
            "align_self": null,
            "border": null,
            "bottom": null,
            "display": null,
            "flex": null,
            "flex_flow": null,
            "grid_area": null,
            "grid_auto_columns": null,
            "grid_auto_flow": null,
            "grid_auto_rows": null,
            "grid_column": null,
            "grid_gap": null,
            "grid_row": null,
            "grid_template_areas": null,
            "grid_template_columns": null,
            "grid_template_rows": null,
            "height": null,
            "justify_content": null,
            "justify_items": null,
            "left": null,
            "margin": null,
            "max_height": null,
            "max_width": null,
            "min_height": null,
            "min_width": null,
            "object_fit": null,
            "object_position": null,
            "order": null,
            "overflow": null,
            "overflow_x": null,
            "overflow_y": null,
            "padding": null,
            "right": null,
            "top": null,
            "visibility": null,
            "width": null
          }
        },
        "b194f0817cf54f01b3f4d12ec10393d3": {
          "model_module": "@jupyter-widgets/controls",
          "model_name": "DescriptionStyleModel",
          "model_module_version": "1.5.0",
          "state": {
            "_model_module": "@jupyter-widgets/controls",
            "_model_module_version": "1.5.0",
            "_model_name": "DescriptionStyleModel",
            "_view_count": null,
            "_view_module": "@jupyter-widgets/base",
            "_view_module_version": "1.2.0",
            "_view_name": "StyleView",
            "description_width": ""
          }
        },
        "a9260fb357cb44f1a7be4090e41d93a4": {
          "model_module": "@jupyter-widgets/controls",
          "model_name": "HBoxModel",
          "model_module_version": "1.5.0",
          "state": {
            "_dom_classes": [],
            "_model_module": "@jupyter-widgets/controls",
            "_model_module_version": "1.5.0",
            "_model_name": "HBoxModel",
            "_view_count": null,
            "_view_module": "@jupyter-widgets/controls",
            "_view_module_version": "1.5.0",
            "_view_name": "HBoxView",
            "box_style": "",
            "children": [
              "IPY_MODEL_8c9e8aa697d84eac86195fd9874244dd",
              "IPY_MODEL_8874ef70a4024711997783a336a0b392",
              "IPY_MODEL_689b06ad4dff4cb7ae3d5921507b9d4b"
            ],
            "layout": "IPY_MODEL_a477e662ada84d7e86319b264cedd970"
          }
        },
        "8c9e8aa697d84eac86195fd9874244dd": {
          "model_module": "@jupyter-widgets/controls",
          "model_name": "HTMLModel",
          "model_module_version": "1.5.0",
          "state": {
            "_dom_classes": [],
            "_model_module": "@jupyter-widgets/controls",
            "_model_module_version": "1.5.0",
            "_model_name": "HTMLModel",
            "_view_count": null,
            "_view_module": "@jupyter-widgets/controls",
            "_view_module_version": "1.5.0",
            "_view_name": "HTMLView",
            "description": "",
            "description_tooltip": null,
            "layout": "IPY_MODEL_28cd44ce995e4138a95cae939bda13c8",
            "placeholder": "​",
            "style": "IPY_MODEL_82fa95ce56a34319bf5b8dd392ac81c8",
            "value": "Best trial: 22. Best value: 0.0207686: 100%"
          }
        },
        "8874ef70a4024711997783a336a0b392": {
          "model_module": "@jupyter-widgets/controls",
          "model_name": "FloatProgressModel",
          "model_module_version": "1.5.0",
          "state": {
            "_dom_classes": [],
            "_model_module": "@jupyter-widgets/controls",
            "_model_module_version": "1.5.0",
            "_model_name": "FloatProgressModel",
            "_view_count": null,
            "_view_module": "@jupyter-widgets/controls",
            "_view_module_version": "1.5.0",
            "_view_name": "ProgressView",
            "bar_style": "success",
            "description": "",
            "description_tooltip": null,
            "layout": "IPY_MODEL_3df987491a184785a5212ba92a5fc71e",
            "max": 30,
            "min": 0,
            "orientation": "horizontal",
            "style": "IPY_MODEL_a401c678ecbc426db4ac927dcb8c3af0",
            "value": 30
          }
        },
        "689b06ad4dff4cb7ae3d5921507b9d4b": {
          "model_module": "@jupyter-widgets/controls",
          "model_name": "HTMLModel",
          "model_module_version": "1.5.0",
          "state": {
            "_dom_classes": [],
            "_model_module": "@jupyter-widgets/controls",
            "_model_module_version": "1.5.0",
            "_model_name": "HTMLModel",
            "_view_count": null,
            "_view_module": "@jupyter-widgets/controls",
            "_view_module_version": "1.5.0",
            "_view_name": "HTMLView",
            "description": "",
            "description_tooltip": null,
            "layout": "IPY_MODEL_6274224354624673ab7c8e2cd60c6c8c",
            "placeholder": "​",
            "style": "IPY_MODEL_a1c0c561984f4a0c96f37eedbe570823",
            "value": " 30/30 [06:34&lt;00:00, 16.27s/it]"
          }
        },
        "a477e662ada84d7e86319b264cedd970": {
          "model_module": "@jupyter-widgets/base",
          "model_name": "LayoutModel",
          "model_module_version": "1.2.0",
          "state": {
            "_model_module": "@jupyter-widgets/base",
            "_model_module_version": "1.2.0",
            "_model_name": "LayoutModel",
            "_view_count": null,
            "_view_module": "@jupyter-widgets/base",
            "_view_module_version": "1.2.0",
            "_view_name": "LayoutView",
            "align_content": null,
            "align_items": null,
            "align_self": null,
            "border": null,
            "bottom": null,
            "display": null,
            "flex": null,
            "flex_flow": null,
            "grid_area": null,
            "grid_auto_columns": null,
            "grid_auto_flow": null,
            "grid_auto_rows": null,
            "grid_column": null,
            "grid_gap": null,
            "grid_row": null,
            "grid_template_areas": null,
            "grid_template_columns": null,
            "grid_template_rows": null,
            "height": null,
            "justify_content": null,
            "justify_items": null,
            "left": null,
            "margin": null,
            "max_height": null,
            "max_width": null,
            "min_height": null,
            "min_width": null,
            "object_fit": null,
            "object_position": null,
            "order": null,
            "overflow": null,
            "overflow_x": null,
            "overflow_y": null,
            "padding": null,
            "right": null,
            "top": null,
            "visibility": null,
            "width": null
          }
        },
        "28cd44ce995e4138a95cae939bda13c8": {
          "model_module": "@jupyter-widgets/base",
          "model_name": "LayoutModel",
          "model_module_version": "1.2.0",
          "state": {
            "_model_module": "@jupyter-widgets/base",
            "_model_module_version": "1.2.0",
            "_model_name": "LayoutModel",
            "_view_count": null,
            "_view_module": "@jupyter-widgets/base",
            "_view_module_version": "1.2.0",
            "_view_name": "LayoutView",
            "align_content": null,
            "align_items": null,
            "align_self": null,
            "border": null,
            "bottom": null,
            "display": null,
            "flex": null,
            "flex_flow": null,
            "grid_area": null,
            "grid_auto_columns": null,
            "grid_auto_flow": null,
            "grid_auto_rows": null,
            "grid_column": null,
            "grid_gap": null,
            "grid_row": null,
            "grid_template_areas": null,
            "grid_template_columns": null,
            "grid_template_rows": null,
            "height": null,
            "justify_content": null,
            "justify_items": null,
            "left": null,
            "margin": null,
            "max_height": null,
            "max_width": null,
            "min_height": null,
            "min_width": null,
            "object_fit": null,
            "object_position": null,
            "order": null,
            "overflow": null,
            "overflow_x": null,
            "overflow_y": null,
            "padding": null,
            "right": null,
            "top": null,
            "visibility": null,
            "width": null
          }
        },
        "82fa95ce56a34319bf5b8dd392ac81c8": {
          "model_module": "@jupyter-widgets/controls",
          "model_name": "DescriptionStyleModel",
          "model_module_version": "1.5.0",
          "state": {
            "_model_module": "@jupyter-widgets/controls",
            "_model_module_version": "1.5.0",
            "_model_name": "DescriptionStyleModel",
            "_view_count": null,
            "_view_module": "@jupyter-widgets/base",
            "_view_module_version": "1.2.0",
            "_view_name": "StyleView",
            "description_width": ""
          }
        },
        "3df987491a184785a5212ba92a5fc71e": {
          "model_module": "@jupyter-widgets/base",
          "model_name": "LayoutModel",
          "model_module_version": "1.2.0",
          "state": {
            "_model_module": "@jupyter-widgets/base",
            "_model_module_version": "1.2.0",
            "_model_name": "LayoutModel",
            "_view_count": null,
            "_view_module": "@jupyter-widgets/base",
            "_view_module_version": "1.2.0",
            "_view_name": "LayoutView",
            "align_content": null,
            "align_items": null,
            "align_self": null,
            "border": null,
            "bottom": null,
            "display": null,
            "flex": null,
            "flex_flow": null,
            "grid_area": null,
            "grid_auto_columns": null,
            "grid_auto_flow": null,
            "grid_auto_rows": null,
            "grid_column": null,
            "grid_gap": null,
            "grid_row": null,
            "grid_template_areas": null,
            "grid_template_columns": null,
            "grid_template_rows": null,
            "height": null,
            "justify_content": null,
            "justify_items": null,
            "left": null,
            "margin": null,
            "max_height": null,
            "max_width": null,
            "min_height": null,
            "min_width": null,
            "object_fit": null,
            "object_position": null,
            "order": null,
            "overflow": null,
            "overflow_x": null,
            "overflow_y": null,
            "padding": null,
            "right": null,
            "top": null,
            "visibility": null,
            "width": null
          }
        },
        "a401c678ecbc426db4ac927dcb8c3af0": {
          "model_module": "@jupyter-widgets/controls",
          "model_name": "ProgressStyleModel",
          "model_module_version": "1.5.0",
          "state": {
            "_model_module": "@jupyter-widgets/controls",
            "_model_module_version": "1.5.0",
            "_model_name": "ProgressStyleModel",
            "_view_count": null,
            "_view_module": "@jupyter-widgets/base",
            "_view_module_version": "1.2.0",
            "_view_name": "StyleView",
            "bar_color": null,
            "description_width": ""
          }
        },
        "6274224354624673ab7c8e2cd60c6c8c": {
          "model_module": "@jupyter-widgets/base",
          "model_name": "LayoutModel",
          "model_module_version": "1.2.0",
          "state": {
            "_model_module": "@jupyter-widgets/base",
            "_model_module_version": "1.2.0",
            "_model_name": "LayoutModel",
            "_view_count": null,
            "_view_module": "@jupyter-widgets/base",
            "_view_module_version": "1.2.0",
            "_view_name": "LayoutView",
            "align_content": null,
            "align_items": null,
            "align_self": null,
            "border": null,
            "bottom": null,
            "display": null,
            "flex": null,
            "flex_flow": null,
            "grid_area": null,
            "grid_auto_columns": null,
            "grid_auto_flow": null,
            "grid_auto_rows": null,
            "grid_column": null,
            "grid_gap": null,
            "grid_row": null,
            "grid_template_areas": null,
            "grid_template_columns": null,
            "grid_template_rows": null,
            "height": null,
            "justify_content": null,
            "justify_items": null,
            "left": null,
            "margin": null,
            "max_height": null,
            "max_width": null,
            "min_height": null,
            "min_width": null,
            "object_fit": null,
            "object_position": null,
            "order": null,
            "overflow": null,
            "overflow_x": null,
            "overflow_y": null,
            "padding": null,
            "right": null,
            "top": null,
            "visibility": null,
            "width": null
          }
        },
        "a1c0c561984f4a0c96f37eedbe570823": {
          "model_module": "@jupyter-widgets/controls",
          "model_name": "DescriptionStyleModel",
          "model_module_version": "1.5.0",
          "state": {
            "_model_module": "@jupyter-widgets/controls",
            "_model_module_version": "1.5.0",
            "_model_name": "DescriptionStyleModel",
            "_view_count": null,
            "_view_module": "@jupyter-widgets/base",
            "_view_module_version": "1.2.0",
            "_view_name": "StyleView",
            "description_width": ""
          }
        },
        "8635f06b9c0946698d0303bf563e9263": {
          "model_module": "@jupyter-widgets/controls",
          "model_name": "HBoxModel",
          "model_module_version": "1.5.0",
          "state": {
            "_dom_classes": [],
            "_model_module": "@jupyter-widgets/controls",
            "_model_module_version": "1.5.0",
            "_model_name": "HBoxModel",
            "_view_count": null,
            "_view_module": "@jupyter-widgets/controls",
            "_view_module_version": "1.5.0",
            "_view_name": "HBoxView",
            "box_style": "",
            "children": [
              "IPY_MODEL_0cbfa938d14c4510b522cbc2c6a7c3b5",
              "IPY_MODEL_63dadc6009a642239a6d37703d04a339",
              "IPY_MODEL_f2db3e941bed4490b0571daf0da68d8e"
            ],
            "layout": "IPY_MODEL_e73f70a6dbc64e658ec99af4db2f3ae3"
          }
        },
        "0cbfa938d14c4510b522cbc2c6a7c3b5": {
          "model_module": "@jupyter-widgets/controls",
          "model_name": "HTMLModel",
          "model_module_version": "1.5.0",
          "state": {
            "_dom_classes": [],
            "_model_module": "@jupyter-widgets/controls",
            "_model_module_version": "1.5.0",
            "_model_name": "HTMLModel",
            "_view_count": null,
            "_view_module": "@jupyter-widgets/controls",
            "_view_module_version": "1.5.0",
            "_view_name": "HTMLView",
            "description": "",
            "description_tooltip": null,
            "layout": "IPY_MODEL_013c1a1cba7846a98a1a2f8a26f146de",
            "placeholder": "​",
            "style": "IPY_MODEL_1f65b191b8fd42188fa23b62990228a7",
            "value": "Best trial: 15. Best value: 0.0367902: 100%"
          }
        },
        "63dadc6009a642239a6d37703d04a339": {
          "model_module": "@jupyter-widgets/controls",
          "model_name": "FloatProgressModel",
          "model_module_version": "1.5.0",
          "state": {
            "_dom_classes": [],
            "_model_module": "@jupyter-widgets/controls",
            "_model_module_version": "1.5.0",
            "_model_name": "FloatProgressModel",
            "_view_count": null,
            "_view_module": "@jupyter-widgets/controls",
            "_view_module_version": "1.5.0",
            "_view_name": "ProgressView",
            "bar_style": "success",
            "description": "",
            "description_tooltip": null,
            "layout": "IPY_MODEL_79467876b5544527882bc88b4a074335",
            "max": 30,
            "min": 0,
            "orientation": "horizontal",
            "style": "IPY_MODEL_f1dce53081914925805851f06b1baab3",
            "value": 30
          }
        },
        "f2db3e941bed4490b0571daf0da68d8e": {
          "model_module": "@jupyter-widgets/controls",
          "model_name": "HTMLModel",
          "model_module_version": "1.5.0",
          "state": {
            "_dom_classes": [],
            "_model_module": "@jupyter-widgets/controls",
            "_model_module_version": "1.5.0",
            "_model_name": "HTMLModel",
            "_view_count": null,
            "_view_module": "@jupyter-widgets/controls",
            "_view_module_version": "1.5.0",
            "_view_name": "HTMLView",
            "description": "",
            "description_tooltip": null,
            "layout": "IPY_MODEL_a6f140bc6d2248f88a234c61f889c474",
            "placeholder": "​",
            "style": "IPY_MODEL_7ec6d07ab49c408b8c5b584ef486a44f",
            "value": " 30/30 [12:18&lt;00:00, 22.52s/it]"
          }
        },
        "e73f70a6dbc64e658ec99af4db2f3ae3": {
          "model_module": "@jupyter-widgets/base",
          "model_name": "LayoutModel",
          "model_module_version": "1.2.0",
          "state": {
            "_model_module": "@jupyter-widgets/base",
            "_model_module_version": "1.2.0",
            "_model_name": "LayoutModel",
            "_view_count": null,
            "_view_module": "@jupyter-widgets/base",
            "_view_module_version": "1.2.0",
            "_view_name": "LayoutView",
            "align_content": null,
            "align_items": null,
            "align_self": null,
            "border": null,
            "bottom": null,
            "display": null,
            "flex": null,
            "flex_flow": null,
            "grid_area": null,
            "grid_auto_columns": null,
            "grid_auto_flow": null,
            "grid_auto_rows": null,
            "grid_column": null,
            "grid_gap": null,
            "grid_row": null,
            "grid_template_areas": null,
            "grid_template_columns": null,
            "grid_template_rows": null,
            "height": null,
            "justify_content": null,
            "justify_items": null,
            "left": null,
            "margin": null,
            "max_height": null,
            "max_width": null,
            "min_height": null,
            "min_width": null,
            "object_fit": null,
            "object_position": null,
            "order": null,
            "overflow": null,
            "overflow_x": null,
            "overflow_y": null,
            "padding": null,
            "right": null,
            "top": null,
            "visibility": null,
            "width": null
          }
        },
        "013c1a1cba7846a98a1a2f8a26f146de": {
          "model_module": "@jupyter-widgets/base",
          "model_name": "LayoutModel",
          "model_module_version": "1.2.0",
          "state": {
            "_model_module": "@jupyter-widgets/base",
            "_model_module_version": "1.2.0",
            "_model_name": "LayoutModel",
            "_view_count": null,
            "_view_module": "@jupyter-widgets/base",
            "_view_module_version": "1.2.0",
            "_view_name": "LayoutView",
            "align_content": null,
            "align_items": null,
            "align_self": null,
            "border": null,
            "bottom": null,
            "display": null,
            "flex": null,
            "flex_flow": null,
            "grid_area": null,
            "grid_auto_columns": null,
            "grid_auto_flow": null,
            "grid_auto_rows": null,
            "grid_column": null,
            "grid_gap": null,
            "grid_row": null,
            "grid_template_areas": null,
            "grid_template_columns": null,
            "grid_template_rows": null,
            "height": null,
            "justify_content": null,
            "justify_items": null,
            "left": null,
            "margin": null,
            "max_height": null,
            "max_width": null,
            "min_height": null,
            "min_width": null,
            "object_fit": null,
            "object_position": null,
            "order": null,
            "overflow": null,
            "overflow_x": null,
            "overflow_y": null,
            "padding": null,
            "right": null,
            "top": null,
            "visibility": null,
            "width": null
          }
        },
        "1f65b191b8fd42188fa23b62990228a7": {
          "model_module": "@jupyter-widgets/controls",
          "model_name": "DescriptionStyleModel",
          "model_module_version": "1.5.0",
          "state": {
            "_model_module": "@jupyter-widgets/controls",
            "_model_module_version": "1.5.0",
            "_model_name": "DescriptionStyleModel",
            "_view_count": null,
            "_view_module": "@jupyter-widgets/base",
            "_view_module_version": "1.2.0",
            "_view_name": "StyleView",
            "description_width": ""
          }
        },
        "79467876b5544527882bc88b4a074335": {
          "model_module": "@jupyter-widgets/base",
          "model_name": "LayoutModel",
          "model_module_version": "1.2.0",
          "state": {
            "_model_module": "@jupyter-widgets/base",
            "_model_module_version": "1.2.0",
            "_model_name": "LayoutModel",
            "_view_count": null,
            "_view_module": "@jupyter-widgets/base",
            "_view_module_version": "1.2.0",
            "_view_name": "LayoutView",
            "align_content": null,
            "align_items": null,
            "align_self": null,
            "border": null,
            "bottom": null,
            "display": null,
            "flex": null,
            "flex_flow": null,
            "grid_area": null,
            "grid_auto_columns": null,
            "grid_auto_flow": null,
            "grid_auto_rows": null,
            "grid_column": null,
            "grid_gap": null,
            "grid_row": null,
            "grid_template_areas": null,
            "grid_template_columns": null,
            "grid_template_rows": null,
            "height": null,
            "justify_content": null,
            "justify_items": null,
            "left": null,
            "margin": null,
            "max_height": null,
            "max_width": null,
            "min_height": null,
            "min_width": null,
            "object_fit": null,
            "object_position": null,
            "order": null,
            "overflow": null,
            "overflow_x": null,
            "overflow_y": null,
            "padding": null,
            "right": null,
            "top": null,
            "visibility": null,
            "width": null
          }
        },
        "f1dce53081914925805851f06b1baab3": {
          "model_module": "@jupyter-widgets/controls",
          "model_name": "ProgressStyleModel",
          "model_module_version": "1.5.0",
          "state": {
            "_model_module": "@jupyter-widgets/controls",
            "_model_module_version": "1.5.0",
            "_model_name": "ProgressStyleModel",
            "_view_count": null,
            "_view_module": "@jupyter-widgets/base",
            "_view_module_version": "1.2.0",
            "_view_name": "StyleView",
            "bar_color": null,
            "description_width": ""
          }
        },
        "a6f140bc6d2248f88a234c61f889c474": {
          "model_module": "@jupyter-widgets/base",
          "model_name": "LayoutModel",
          "model_module_version": "1.2.0",
          "state": {
            "_model_module": "@jupyter-widgets/base",
            "_model_module_version": "1.2.0",
            "_model_name": "LayoutModel",
            "_view_count": null,
            "_view_module": "@jupyter-widgets/base",
            "_view_module_version": "1.2.0",
            "_view_name": "LayoutView",
            "align_content": null,
            "align_items": null,
            "align_self": null,
            "border": null,
            "bottom": null,
            "display": null,
            "flex": null,
            "flex_flow": null,
            "grid_area": null,
            "grid_auto_columns": null,
            "grid_auto_flow": null,
            "grid_auto_rows": null,
            "grid_column": null,
            "grid_gap": null,
            "grid_row": null,
            "grid_template_areas": null,
            "grid_template_columns": null,
            "grid_template_rows": null,
            "height": null,
            "justify_content": null,
            "justify_items": null,
            "left": null,
            "margin": null,
            "max_height": null,
            "max_width": null,
            "min_height": null,
            "min_width": null,
            "object_fit": null,
            "object_position": null,
            "order": null,
            "overflow": null,
            "overflow_x": null,
            "overflow_y": null,
            "padding": null,
            "right": null,
            "top": null,
            "visibility": null,
            "width": null
          }
        },
        "7ec6d07ab49c408b8c5b584ef486a44f": {
          "model_module": "@jupyter-widgets/controls",
          "model_name": "DescriptionStyleModel",
          "model_module_version": "1.5.0",
          "state": {
            "_model_module": "@jupyter-widgets/controls",
            "_model_module_version": "1.5.0",
            "_model_name": "DescriptionStyleModel",
            "_view_count": null,
            "_view_module": "@jupyter-widgets/base",
            "_view_module_version": "1.2.0",
            "_view_name": "StyleView",
            "description_width": ""
          }
        },
        "059a18f508434e168ad4f786ce0f6eff": {
          "model_module": "@jupyter-widgets/controls",
          "model_name": "HBoxModel",
          "model_module_version": "1.5.0",
          "state": {
            "_dom_classes": [],
            "_model_module": "@jupyter-widgets/controls",
            "_model_module_version": "1.5.0",
            "_model_name": "HBoxModel",
            "_view_count": null,
            "_view_module": "@jupyter-widgets/controls",
            "_view_module_version": "1.5.0",
            "_view_name": "HBoxView",
            "box_style": "",
            "children": [
              "IPY_MODEL_cf96788b54084fa2af331a71ff05c815",
              "IPY_MODEL_ce2a181ed28f44a1bc24291ca4ac4d91",
              "IPY_MODEL_aa07cd160f95449e9ba63c94ead9bd1d"
            ],
            "layout": "IPY_MODEL_8b4cebaf4f64410dab1dc63196bff5c2"
          }
        },
        "cf96788b54084fa2af331a71ff05c815": {
          "model_module": "@jupyter-widgets/controls",
          "model_name": "HTMLModel",
          "model_module_version": "1.5.0",
          "state": {
            "_dom_classes": [],
            "_model_module": "@jupyter-widgets/controls",
            "_model_module_version": "1.5.0",
            "_model_name": "HTMLModel",
            "_view_count": null,
            "_view_module": "@jupyter-widgets/controls",
            "_view_module_version": "1.5.0",
            "_view_name": "HTMLView",
            "description": "",
            "description_tooltip": null,
            "layout": "IPY_MODEL_344c3a15c9e74c95a8131d1a6dfddd08",
            "placeholder": "​",
            "style": "IPY_MODEL_3fa757e034ec47d784233ab73423b96a",
            "value": "Best trial: 21. Best value: 0.0295309: 100%"
          }
        },
        "ce2a181ed28f44a1bc24291ca4ac4d91": {
          "model_module": "@jupyter-widgets/controls",
          "model_name": "FloatProgressModel",
          "model_module_version": "1.5.0",
          "state": {
            "_dom_classes": [],
            "_model_module": "@jupyter-widgets/controls",
            "_model_module_version": "1.5.0",
            "_model_name": "FloatProgressModel",
            "_view_count": null,
            "_view_module": "@jupyter-widgets/controls",
            "_view_module_version": "1.5.0",
            "_view_name": "ProgressView",
            "bar_style": "success",
            "description": "",
            "description_tooltip": null,
            "layout": "IPY_MODEL_48ab324696ac4324bbce0fea50a7a07b",
            "max": 30,
            "min": 0,
            "orientation": "horizontal",
            "style": "IPY_MODEL_76e4602666634737aba20b562f3366bf",
            "value": 30
          }
        },
        "aa07cd160f95449e9ba63c94ead9bd1d": {
          "model_module": "@jupyter-widgets/controls",
          "model_name": "HTMLModel",
          "model_module_version": "1.5.0",
          "state": {
            "_dom_classes": [],
            "_model_module": "@jupyter-widgets/controls",
            "_model_module_version": "1.5.0",
            "_model_name": "HTMLModel",
            "_view_count": null,
            "_view_module": "@jupyter-widgets/controls",
            "_view_module_version": "1.5.0",
            "_view_name": "HTMLView",
            "description": "",
            "description_tooltip": null,
            "layout": "IPY_MODEL_e6ec334f07bd43aab44347a0853c0233",
            "placeholder": "​",
            "style": "IPY_MODEL_d13ce21332da4f979d21a6238c980ca4",
            "value": " 30/30 [11:38&lt;00:00, 15.84s/it]"
          }
        },
        "8b4cebaf4f64410dab1dc63196bff5c2": {
          "model_module": "@jupyter-widgets/base",
          "model_name": "LayoutModel",
          "model_module_version": "1.2.0",
          "state": {
            "_model_module": "@jupyter-widgets/base",
            "_model_module_version": "1.2.0",
            "_model_name": "LayoutModel",
            "_view_count": null,
            "_view_module": "@jupyter-widgets/base",
            "_view_module_version": "1.2.0",
            "_view_name": "LayoutView",
            "align_content": null,
            "align_items": null,
            "align_self": null,
            "border": null,
            "bottom": null,
            "display": null,
            "flex": null,
            "flex_flow": null,
            "grid_area": null,
            "grid_auto_columns": null,
            "grid_auto_flow": null,
            "grid_auto_rows": null,
            "grid_column": null,
            "grid_gap": null,
            "grid_row": null,
            "grid_template_areas": null,
            "grid_template_columns": null,
            "grid_template_rows": null,
            "height": null,
            "justify_content": null,
            "justify_items": null,
            "left": null,
            "margin": null,
            "max_height": null,
            "max_width": null,
            "min_height": null,
            "min_width": null,
            "object_fit": null,
            "object_position": null,
            "order": null,
            "overflow": null,
            "overflow_x": null,
            "overflow_y": null,
            "padding": null,
            "right": null,
            "top": null,
            "visibility": null,
            "width": null
          }
        },
        "344c3a15c9e74c95a8131d1a6dfddd08": {
          "model_module": "@jupyter-widgets/base",
          "model_name": "LayoutModel",
          "model_module_version": "1.2.0",
          "state": {
            "_model_module": "@jupyter-widgets/base",
            "_model_module_version": "1.2.0",
            "_model_name": "LayoutModel",
            "_view_count": null,
            "_view_module": "@jupyter-widgets/base",
            "_view_module_version": "1.2.0",
            "_view_name": "LayoutView",
            "align_content": null,
            "align_items": null,
            "align_self": null,
            "border": null,
            "bottom": null,
            "display": null,
            "flex": null,
            "flex_flow": null,
            "grid_area": null,
            "grid_auto_columns": null,
            "grid_auto_flow": null,
            "grid_auto_rows": null,
            "grid_column": null,
            "grid_gap": null,
            "grid_row": null,
            "grid_template_areas": null,
            "grid_template_columns": null,
            "grid_template_rows": null,
            "height": null,
            "justify_content": null,
            "justify_items": null,
            "left": null,
            "margin": null,
            "max_height": null,
            "max_width": null,
            "min_height": null,
            "min_width": null,
            "object_fit": null,
            "object_position": null,
            "order": null,
            "overflow": null,
            "overflow_x": null,
            "overflow_y": null,
            "padding": null,
            "right": null,
            "top": null,
            "visibility": null,
            "width": null
          }
        },
        "3fa757e034ec47d784233ab73423b96a": {
          "model_module": "@jupyter-widgets/controls",
          "model_name": "DescriptionStyleModel",
          "model_module_version": "1.5.0",
          "state": {
            "_model_module": "@jupyter-widgets/controls",
            "_model_module_version": "1.5.0",
            "_model_name": "DescriptionStyleModel",
            "_view_count": null,
            "_view_module": "@jupyter-widgets/base",
            "_view_module_version": "1.2.0",
            "_view_name": "StyleView",
            "description_width": ""
          }
        },
        "48ab324696ac4324bbce0fea50a7a07b": {
          "model_module": "@jupyter-widgets/base",
          "model_name": "LayoutModel",
          "model_module_version": "1.2.0",
          "state": {
            "_model_module": "@jupyter-widgets/base",
            "_model_module_version": "1.2.0",
            "_model_name": "LayoutModel",
            "_view_count": null,
            "_view_module": "@jupyter-widgets/base",
            "_view_module_version": "1.2.0",
            "_view_name": "LayoutView",
            "align_content": null,
            "align_items": null,
            "align_self": null,
            "border": null,
            "bottom": null,
            "display": null,
            "flex": null,
            "flex_flow": null,
            "grid_area": null,
            "grid_auto_columns": null,
            "grid_auto_flow": null,
            "grid_auto_rows": null,
            "grid_column": null,
            "grid_gap": null,
            "grid_row": null,
            "grid_template_areas": null,
            "grid_template_columns": null,
            "grid_template_rows": null,
            "height": null,
            "justify_content": null,
            "justify_items": null,
            "left": null,
            "margin": null,
            "max_height": null,
            "max_width": null,
            "min_height": null,
            "min_width": null,
            "object_fit": null,
            "object_position": null,
            "order": null,
            "overflow": null,
            "overflow_x": null,
            "overflow_y": null,
            "padding": null,
            "right": null,
            "top": null,
            "visibility": null,
            "width": null
          }
        },
        "76e4602666634737aba20b562f3366bf": {
          "model_module": "@jupyter-widgets/controls",
          "model_name": "ProgressStyleModel",
          "model_module_version": "1.5.0",
          "state": {
            "_model_module": "@jupyter-widgets/controls",
            "_model_module_version": "1.5.0",
            "_model_name": "ProgressStyleModel",
            "_view_count": null,
            "_view_module": "@jupyter-widgets/base",
            "_view_module_version": "1.2.0",
            "_view_name": "StyleView",
            "bar_color": null,
            "description_width": ""
          }
        },
        "e6ec334f07bd43aab44347a0853c0233": {
          "model_module": "@jupyter-widgets/base",
          "model_name": "LayoutModel",
          "model_module_version": "1.2.0",
          "state": {
            "_model_module": "@jupyter-widgets/base",
            "_model_module_version": "1.2.0",
            "_model_name": "LayoutModel",
            "_view_count": null,
            "_view_module": "@jupyter-widgets/base",
            "_view_module_version": "1.2.0",
            "_view_name": "LayoutView",
            "align_content": null,
            "align_items": null,
            "align_self": null,
            "border": null,
            "bottom": null,
            "display": null,
            "flex": null,
            "flex_flow": null,
            "grid_area": null,
            "grid_auto_columns": null,
            "grid_auto_flow": null,
            "grid_auto_rows": null,
            "grid_column": null,
            "grid_gap": null,
            "grid_row": null,
            "grid_template_areas": null,
            "grid_template_columns": null,
            "grid_template_rows": null,
            "height": null,
            "justify_content": null,
            "justify_items": null,
            "left": null,
            "margin": null,
            "max_height": null,
            "max_width": null,
            "min_height": null,
            "min_width": null,
            "object_fit": null,
            "object_position": null,
            "order": null,
            "overflow": null,
            "overflow_x": null,
            "overflow_y": null,
            "padding": null,
            "right": null,
            "top": null,
            "visibility": null,
            "width": null
          }
        },
        "d13ce21332da4f979d21a6238c980ca4": {
          "model_module": "@jupyter-widgets/controls",
          "model_name": "DescriptionStyleModel",
          "model_module_version": "1.5.0",
          "state": {
            "_model_module": "@jupyter-widgets/controls",
            "_model_module_version": "1.5.0",
            "_model_name": "DescriptionStyleModel",
            "_view_count": null,
            "_view_module": "@jupyter-widgets/base",
            "_view_module_version": "1.2.0",
            "_view_name": "StyleView",
            "description_width": ""
          }
        },
        "74c1ef9715ef4ca4b99caa2d17d27c46": {
          "model_module": "@jupyter-widgets/controls",
          "model_name": "HBoxModel",
          "model_module_version": "1.5.0",
          "state": {
            "_dom_classes": [],
            "_model_module": "@jupyter-widgets/controls",
            "_model_module_version": "1.5.0",
            "_model_name": "HBoxModel",
            "_view_count": null,
            "_view_module": "@jupyter-widgets/controls",
            "_view_module_version": "1.5.0",
            "_view_name": "HBoxView",
            "box_style": "",
            "children": [
              "IPY_MODEL_d9c5d68c6ef14d3b85f27175698d03ad",
              "IPY_MODEL_d1b7d8e7c403439f92499bc07bd0d3b7",
              "IPY_MODEL_249b9787c7a448a7b9edc380987db843"
            ],
            "layout": "IPY_MODEL_90798ebdb5e14067bc414d0d54a27fe4"
          }
        },
        "d9c5d68c6ef14d3b85f27175698d03ad": {
          "model_module": "@jupyter-widgets/controls",
          "model_name": "HTMLModel",
          "model_module_version": "1.5.0",
          "state": {
            "_dom_classes": [],
            "_model_module": "@jupyter-widgets/controls",
            "_model_module_version": "1.5.0",
            "_model_name": "HTMLModel",
            "_view_count": null,
            "_view_module": "@jupyter-widgets/controls",
            "_view_module_version": "1.5.0",
            "_view_name": "HTMLView",
            "description": "",
            "description_tooltip": null,
            "layout": "IPY_MODEL_576e9f2959184e72aa1e8a583f5ae326",
            "placeholder": "​",
            "style": "IPY_MODEL_b1a70e4423204845a65998f397de0441",
            "value": "Best trial: 22. Best value: 0.0327214: 100%"
          }
        },
        "d1b7d8e7c403439f92499bc07bd0d3b7": {
          "model_module": "@jupyter-widgets/controls",
          "model_name": "FloatProgressModel",
          "model_module_version": "1.5.0",
          "state": {
            "_dom_classes": [],
            "_model_module": "@jupyter-widgets/controls",
            "_model_module_version": "1.5.0",
            "_model_name": "FloatProgressModel",
            "_view_count": null,
            "_view_module": "@jupyter-widgets/controls",
            "_view_module_version": "1.5.0",
            "_view_name": "ProgressView",
            "bar_style": "success",
            "description": "",
            "description_tooltip": null,
            "layout": "IPY_MODEL_cb892fa1e61d43c9b8455af4ab3c0de7",
            "max": 30,
            "min": 0,
            "orientation": "horizontal",
            "style": "IPY_MODEL_316b0d81711a4306bdd7aebf2c31747a",
            "value": 30
          }
        },
        "249b9787c7a448a7b9edc380987db843": {
          "model_module": "@jupyter-widgets/controls",
          "model_name": "HTMLModel",
          "model_module_version": "1.5.0",
          "state": {
            "_dom_classes": [],
            "_model_module": "@jupyter-widgets/controls",
            "_model_module_version": "1.5.0",
            "_model_name": "HTMLModel",
            "_view_count": null,
            "_view_module": "@jupyter-widgets/controls",
            "_view_module_version": "1.5.0",
            "_view_name": "HTMLView",
            "description": "",
            "description_tooltip": null,
            "layout": "IPY_MODEL_395a75da425d46df8bfd783e7553d4c2",
            "placeholder": "​",
            "style": "IPY_MODEL_4717a4a656384efaab2edf8e0be7c4f7",
            "value": " 30/30 [13:22&lt;00:00, 24.11s/it]"
          }
        },
        "90798ebdb5e14067bc414d0d54a27fe4": {
          "model_module": "@jupyter-widgets/base",
          "model_name": "LayoutModel",
          "model_module_version": "1.2.0",
          "state": {
            "_model_module": "@jupyter-widgets/base",
            "_model_module_version": "1.2.0",
            "_model_name": "LayoutModel",
            "_view_count": null,
            "_view_module": "@jupyter-widgets/base",
            "_view_module_version": "1.2.0",
            "_view_name": "LayoutView",
            "align_content": null,
            "align_items": null,
            "align_self": null,
            "border": null,
            "bottom": null,
            "display": null,
            "flex": null,
            "flex_flow": null,
            "grid_area": null,
            "grid_auto_columns": null,
            "grid_auto_flow": null,
            "grid_auto_rows": null,
            "grid_column": null,
            "grid_gap": null,
            "grid_row": null,
            "grid_template_areas": null,
            "grid_template_columns": null,
            "grid_template_rows": null,
            "height": null,
            "justify_content": null,
            "justify_items": null,
            "left": null,
            "margin": null,
            "max_height": null,
            "max_width": null,
            "min_height": null,
            "min_width": null,
            "object_fit": null,
            "object_position": null,
            "order": null,
            "overflow": null,
            "overflow_x": null,
            "overflow_y": null,
            "padding": null,
            "right": null,
            "top": null,
            "visibility": null,
            "width": null
          }
        },
        "576e9f2959184e72aa1e8a583f5ae326": {
          "model_module": "@jupyter-widgets/base",
          "model_name": "LayoutModel",
          "model_module_version": "1.2.0",
          "state": {
            "_model_module": "@jupyter-widgets/base",
            "_model_module_version": "1.2.0",
            "_model_name": "LayoutModel",
            "_view_count": null,
            "_view_module": "@jupyter-widgets/base",
            "_view_module_version": "1.2.0",
            "_view_name": "LayoutView",
            "align_content": null,
            "align_items": null,
            "align_self": null,
            "border": null,
            "bottom": null,
            "display": null,
            "flex": null,
            "flex_flow": null,
            "grid_area": null,
            "grid_auto_columns": null,
            "grid_auto_flow": null,
            "grid_auto_rows": null,
            "grid_column": null,
            "grid_gap": null,
            "grid_row": null,
            "grid_template_areas": null,
            "grid_template_columns": null,
            "grid_template_rows": null,
            "height": null,
            "justify_content": null,
            "justify_items": null,
            "left": null,
            "margin": null,
            "max_height": null,
            "max_width": null,
            "min_height": null,
            "min_width": null,
            "object_fit": null,
            "object_position": null,
            "order": null,
            "overflow": null,
            "overflow_x": null,
            "overflow_y": null,
            "padding": null,
            "right": null,
            "top": null,
            "visibility": null,
            "width": null
          }
        },
        "b1a70e4423204845a65998f397de0441": {
          "model_module": "@jupyter-widgets/controls",
          "model_name": "DescriptionStyleModel",
          "model_module_version": "1.5.0",
          "state": {
            "_model_module": "@jupyter-widgets/controls",
            "_model_module_version": "1.5.0",
            "_model_name": "DescriptionStyleModel",
            "_view_count": null,
            "_view_module": "@jupyter-widgets/base",
            "_view_module_version": "1.2.0",
            "_view_name": "StyleView",
            "description_width": ""
          }
        },
        "cb892fa1e61d43c9b8455af4ab3c0de7": {
          "model_module": "@jupyter-widgets/base",
          "model_name": "LayoutModel",
          "model_module_version": "1.2.0",
          "state": {
            "_model_module": "@jupyter-widgets/base",
            "_model_module_version": "1.2.0",
            "_model_name": "LayoutModel",
            "_view_count": null,
            "_view_module": "@jupyter-widgets/base",
            "_view_module_version": "1.2.0",
            "_view_name": "LayoutView",
            "align_content": null,
            "align_items": null,
            "align_self": null,
            "border": null,
            "bottom": null,
            "display": null,
            "flex": null,
            "flex_flow": null,
            "grid_area": null,
            "grid_auto_columns": null,
            "grid_auto_flow": null,
            "grid_auto_rows": null,
            "grid_column": null,
            "grid_gap": null,
            "grid_row": null,
            "grid_template_areas": null,
            "grid_template_columns": null,
            "grid_template_rows": null,
            "height": null,
            "justify_content": null,
            "justify_items": null,
            "left": null,
            "margin": null,
            "max_height": null,
            "max_width": null,
            "min_height": null,
            "min_width": null,
            "object_fit": null,
            "object_position": null,
            "order": null,
            "overflow": null,
            "overflow_x": null,
            "overflow_y": null,
            "padding": null,
            "right": null,
            "top": null,
            "visibility": null,
            "width": null
          }
        },
        "316b0d81711a4306bdd7aebf2c31747a": {
          "model_module": "@jupyter-widgets/controls",
          "model_name": "ProgressStyleModel",
          "model_module_version": "1.5.0",
          "state": {
            "_model_module": "@jupyter-widgets/controls",
            "_model_module_version": "1.5.0",
            "_model_name": "ProgressStyleModel",
            "_view_count": null,
            "_view_module": "@jupyter-widgets/base",
            "_view_module_version": "1.2.0",
            "_view_name": "StyleView",
            "bar_color": null,
            "description_width": ""
          }
        },
        "395a75da425d46df8bfd783e7553d4c2": {
          "model_module": "@jupyter-widgets/base",
          "model_name": "LayoutModel",
          "model_module_version": "1.2.0",
          "state": {
            "_model_module": "@jupyter-widgets/base",
            "_model_module_version": "1.2.0",
            "_model_name": "LayoutModel",
            "_view_count": null,
            "_view_module": "@jupyter-widgets/base",
            "_view_module_version": "1.2.0",
            "_view_name": "LayoutView",
            "align_content": null,
            "align_items": null,
            "align_self": null,
            "border": null,
            "bottom": null,
            "display": null,
            "flex": null,
            "flex_flow": null,
            "grid_area": null,
            "grid_auto_columns": null,
            "grid_auto_flow": null,
            "grid_auto_rows": null,
            "grid_column": null,
            "grid_gap": null,
            "grid_row": null,
            "grid_template_areas": null,
            "grid_template_columns": null,
            "grid_template_rows": null,
            "height": null,
            "justify_content": null,
            "justify_items": null,
            "left": null,
            "margin": null,
            "max_height": null,
            "max_width": null,
            "min_height": null,
            "min_width": null,
            "object_fit": null,
            "object_position": null,
            "order": null,
            "overflow": null,
            "overflow_x": null,
            "overflow_y": null,
            "padding": null,
            "right": null,
            "top": null,
            "visibility": null,
            "width": null
          }
        },
        "4717a4a656384efaab2edf8e0be7c4f7": {
          "model_module": "@jupyter-widgets/controls",
          "model_name": "DescriptionStyleModel",
          "model_module_version": "1.5.0",
          "state": {
            "_model_module": "@jupyter-widgets/controls",
            "_model_module_version": "1.5.0",
            "_model_name": "DescriptionStyleModel",
            "_view_count": null,
            "_view_module": "@jupyter-widgets/base",
            "_view_module_version": "1.2.0",
            "_view_name": "StyleView",
            "description_width": ""
          }
        },
        "972e018da1424ee39c2316a0295f84cf": {
          "model_module": "@jupyter-widgets/controls",
          "model_name": "HBoxModel",
          "model_module_version": "1.5.0",
          "state": {
            "_dom_classes": [],
            "_model_module": "@jupyter-widgets/controls",
            "_model_module_version": "1.5.0",
            "_model_name": "HBoxModel",
            "_view_count": null,
            "_view_module": "@jupyter-widgets/controls",
            "_view_module_version": "1.5.0",
            "_view_name": "HBoxView",
            "box_style": "",
            "children": [
              "IPY_MODEL_ac2747cc92974078ac0ecd1fb194ab34",
              "IPY_MODEL_407d7b8f0dfe411f9dd78b446136944e",
              "IPY_MODEL_e4ca2cda62bb44baa68b9fe48e48ccb4"
            ],
            "layout": "IPY_MODEL_eb5d98e02b8c453b80a730a13d02521a"
          }
        },
        "ac2747cc92974078ac0ecd1fb194ab34": {
          "model_module": "@jupyter-widgets/controls",
          "model_name": "HTMLModel",
          "model_module_version": "1.5.0",
          "state": {
            "_dom_classes": [],
            "_model_module": "@jupyter-widgets/controls",
            "_model_module_version": "1.5.0",
            "_model_name": "HTMLModel",
            "_view_count": null,
            "_view_module": "@jupyter-widgets/controls",
            "_view_module_version": "1.5.0",
            "_view_name": "HTMLView",
            "description": "",
            "description_tooltip": null,
            "layout": "IPY_MODEL_a2bb6f51386d439c9d8a901ab0aa4558",
            "placeholder": "​",
            "style": "IPY_MODEL_fb8f569190504727baac3d195368baa0",
            "value": "Best trial: 18. Best value: 0.0171936: 100%"
          }
        },
        "407d7b8f0dfe411f9dd78b446136944e": {
          "model_module": "@jupyter-widgets/controls",
          "model_name": "FloatProgressModel",
          "model_module_version": "1.5.0",
          "state": {
            "_dom_classes": [],
            "_model_module": "@jupyter-widgets/controls",
            "_model_module_version": "1.5.0",
            "_model_name": "FloatProgressModel",
            "_view_count": null,
            "_view_module": "@jupyter-widgets/controls",
            "_view_module_version": "1.5.0",
            "_view_name": "ProgressView",
            "bar_style": "success",
            "description": "",
            "description_tooltip": null,
            "layout": "IPY_MODEL_fb501687c49042548596d9a8779b8a1d",
            "max": 30,
            "min": 0,
            "orientation": "horizontal",
            "style": "IPY_MODEL_56c11c3fdb8a44f7890f27ab9b3685fd",
            "value": 30
          }
        },
        "e4ca2cda62bb44baa68b9fe48e48ccb4": {
          "model_module": "@jupyter-widgets/controls",
          "model_name": "HTMLModel",
          "model_module_version": "1.5.0",
          "state": {
            "_dom_classes": [],
            "_model_module": "@jupyter-widgets/controls",
            "_model_module_version": "1.5.0",
            "_model_name": "HTMLModel",
            "_view_count": null,
            "_view_module": "@jupyter-widgets/controls",
            "_view_module_version": "1.5.0",
            "_view_name": "HTMLView",
            "description": "",
            "description_tooltip": null,
            "layout": "IPY_MODEL_14c8a6b22eed4f4886a753fdc2197bf5",
            "placeholder": "​",
            "style": "IPY_MODEL_a3a4e913c2ee4447ba76325cd143f3ea",
            "value": " 30/30 [11:29&lt;00:00, 32.48s/it]"
          }
        },
        "eb5d98e02b8c453b80a730a13d02521a": {
          "model_module": "@jupyter-widgets/base",
          "model_name": "LayoutModel",
          "model_module_version": "1.2.0",
          "state": {
            "_model_module": "@jupyter-widgets/base",
            "_model_module_version": "1.2.0",
            "_model_name": "LayoutModel",
            "_view_count": null,
            "_view_module": "@jupyter-widgets/base",
            "_view_module_version": "1.2.0",
            "_view_name": "LayoutView",
            "align_content": null,
            "align_items": null,
            "align_self": null,
            "border": null,
            "bottom": null,
            "display": null,
            "flex": null,
            "flex_flow": null,
            "grid_area": null,
            "grid_auto_columns": null,
            "grid_auto_flow": null,
            "grid_auto_rows": null,
            "grid_column": null,
            "grid_gap": null,
            "grid_row": null,
            "grid_template_areas": null,
            "grid_template_columns": null,
            "grid_template_rows": null,
            "height": null,
            "justify_content": null,
            "justify_items": null,
            "left": null,
            "margin": null,
            "max_height": null,
            "max_width": null,
            "min_height": null,
            "min_width": null,
            "object_fit": null,
            "object_position": null,
            "order": null,
            "overflow": null,
            "overflow_x": null,
            "overflow_y": null,
            "padding": null,
            "right": null,
            "top": null,
            "visibility": null,
            "width": null
          }
        },
        "a2bb6f51386d439c9d8a901ab0aa4558": {
          "model_module": "@jupyter-widgets/base",
          "model_name": "LayoutModel",
          "model_module_version": "1.2.0",
          "state": {
            "_model_module": "@jupyter-widgets/base",
            "_model_module_version": "1.2.0",
            "_model_name": "LayoutModel",
            "_view_count": null,
            "_view_module": "@jupyter-widgets/base",
            "_view_module_version": "1.2.0",
            "_view_name": "LayoutView",
            "align_content": null,
            "align_items": null,
            "align_self": null,
            "border": null,
            "bottom": null,
            "display": null,
            "flex": null,
            "flex_flow": null,
            "grid_area": null,
            "grid_auto_columns": null,
            "grid_auto_flow": null,
            "grid_auto_rows": null,
            "grid_column": null,
            "grid_gap": null,
            "grid_row": null,
            "grid_template_areas": null,
            "grid_template_columns": null,
            "grid_template_rows": null,
            "height": null,
            "justify_content": null,
            "justify_items": null,
            "left": null,
            "margin": null,
            "max_height": null,
            "max_width": null,
            "min_height": null,
            "min_width": null,
            "object_fit": null,
            "object_position": null,
            "order": null,
            "overflow": null,
            "overflow_x": null,
            "overflow_y": null,
            "padding": null,
            "right": null,
            "top": null,
            "visibility": null,
            "width": null
          }
        },
        "fb8f569190504727baac3d195368baa0": {
          "model_module": "@jupyter-widgets/controls",
          "model_name": "DescriptionStyleModel",
          "model_module_version": "1.5.0",
          "state": {
            "_model_module": "@jupyter-widgets/controls",
            "_model_module_version": "1.5.0",
            "_model_name": "DescriptionStyleModel",
            "_view_count": null,
            "_view_module": "@jupyter-widgets/base",
            "_view_module_version": "1.2.0",
            "_view_name": "StyleView",
            "description_width": ""
          }
        },
        "fb501687c49042548596d9a8779b8a1d": {
          "model_module": "@jupyter-widgets/base",
          "model_name": "LayoutModel",
          "model_module_version": "1.2.0",
          "state": {
            "_model_module": "@jupyter-widgets/base",
            "_model_module_version": "1.2.0",
            "_model_name": "LayoutModel",
            "_view_count": null,
            "_view_module": "@jupyter-widgets/base",
            "_view_module_version": "1.2.0",
            "_view_name": "LayoutView",
            "align_content": null,
            "align_items": null,
            "align_self": null,
            "border": null,
            "bottom": null,
            "display": null,
            "flex": null,
            "flex_flow": null,
            "grid_area": null,
            "grid_auto_columns": null,
            "grid_auto_flow": null,
            "grid_auto_rows": null,
            "grid_column": null,
            "grid_gap": null,
            "grid_row": null,
            "grid_template_areas": null,
            "grid_template_columns": null,
            "grid_template_rows": null,
            "height": null,
            "justify_content": null,
            "justify_items": null,
            "left": null,
            "margin": null,
            "max_height": null,
            "max_width": null,
            "min_height": null,
            "min_width": null,
            "object_fit": null,
            "object_position": null,
            "order": null,
            "overflow": null,
            "overflow_x": null,
            "overflow_y": null,
            "padding": null,
            "right": null,
            "top": null,
            "visibility": null,
            "width": null
          }
        },
        "56c11c3fdb8a44f7890f27ab9b3685fd": {
          "model_module": "@jupyter-widgets/controls",
          "model_name": "ProgressStyleModel",
          "model_module_version": "1.5.0",
          "state": {
            "_model_module": "@jupyter-widgets/controls",
            "_model_module_version": "1.5.0",
            "_model_name": "ProgressStyleModel",
            "_view_count": null,
            "_view_module": "@jupyter-widgets/base",
            "_view_module_version": "1.2.0",
            "_view_name": "StyleView",
            "bar_color": null,
            "description_width": ""
          }
        },
        "14c8a6b22eed4f4886a753fdc2197bf5": {
          "model_module": "@jupyter-widgets/base",
          "model_name": "LayoutModel",
          "model_module_version": "1.2.0",
          "state": {
            "_model_module": "@jupyter-widgets/base",
            "_model_module_version": "1.2.0",
            "_model_name": "LayoutModel",
            "_view_count": null,
            "_view_module": "@jupyter-widgets/base",
            "_view_module_version": "1.2.0",
            "_view_name": "LayoutView",
            "align_content": null,
            "align_items": null,
            "align_self": null,
            "border": null,
            "bottom": null,
            "display": null,
            "flex": null,
            "flex_flow": null,
            "grid_area": null,
            "grid_auto_columns": null,
            "grid_auto_flow": null,
            "grid_auto_rows": null,
            "grid_column": null,
            "grid_gap": null,
            "grid_row": null,
            "grid_template_areas": null,
            "grid_template_columns": null,
            "grid_template_rows": null,
            "height": null,
            "justify_content": null,
            "justify_items": null,
            "left": null,
            "margin": null,
            "max_height": null,
            "max_width": null,
            "min_height": null,
            "min_width": null,
            "object_fit": null,
            "object_position": null,
            "order": null,
            "overflow": null,
            "overflow_x": null,
            "overflow_y": null,
            "padding": null,
            "right": null,
            "top": null,
            "visibility": null,
            "width": null
          }
        },
        "a3a4e913c2ee4447ba76325cd143f3ea": {
          "model_module": "@jupyter-widgets/controls",
          "model_name": "DescriptionStyleModel",
          "model_module_version": "1.5.0",
          "state": {
            "_model_module": "@jupyter-widgets/controls",
            "_model_module_version": "1.5.0",
            "_model_name": "DescriptionStyleModel",
            "_view_count": null,
            "_view_module": "@jupyter-widgets/base",
            "_view_module_version": "1.2.0",
            "_view_name": "StyleView",
            "description_width": ""
          }
        },
        "768fea709c5a474aa39c488358bd3afb": {
          "model_module": "@jupyter-widgets/controls",
          "model_name": "HBoxModel",
          "model_module_version": "1.5.0",
          "state": {
            "_dom_classes": [],
            "_model_module": "@jupyter-widgets/controls",
            "_model_module_version": "1.5.0",
            "_model_name": "HBoxModel",
            "_view_count": null,
            "_view_module": "@jupyter-widgets/controls",
            "_view_module_version": "1.5.0",
            "_view_name": "HBoxView",
            "box_style": "",
            "children": [
              "IPY_MODEL_77430fc8ab9f4d7b8062543757ae05ed",
              "IPY_MODEL_33d14944c76a4705bfa56eddb0e63f29",
              "IPY_MODEL_7a0d69a4e675447abc22b77cc122c45e"
            ],
            "layout": "IPY_MODEL_175c762d55b94e59b2c764d98de5bce3"
          }
        },
        "77430fc8ab9f4d7b8062543757ae05ed": {
          "model_module": "@jupyter-widgets/controls",
          "model_name": "HTMLModel",
          "model_module_version": "1.5.0",
          "state": {
            "_dom_classes": [],
            "_model_module": "@jupyter-widgets/controls",
            "_model_module_version": "1.5.0",
            "_model_name": "HTMLModel",
            "_view_count": null,
            "_view_module": "@jupyter-widgets/controls",
            "_view_module_version": "1.5.0",
            "_view_name": "HTMLView",
            "description": "",
            "description_tooltip": null,
            "layout": "IPY_MODEL_949e5acd2a9141678520253cf9aa357a",
            "placeholder": "​",
            "style": "IPY_MODEL_b3d75bc5bbbc40478573f1fe1593bd1b",
            "value": "Best trial: 29. Best value: 0.0429327: 100%"
          }
        },
        "33d14944c76a4705bfa56eddb0e63f29": {
          "model_module": "@jupyter-widgets/controls",
          "model_name": "FloatProgressModel",
          "model_module_version": "1.5.0",
          "state": {
            "_dom_classes": [],
            "_model_module": "@jupyter-widgets/controls",
            "_model_module_version": "1.5.0",
            "_model_name": "FloatProgressModel",
            "_view_count": null,
            "_view_module": "@jupyter-widgets/controls",
            "_view_module_version": "1.5.0",
            "_view_name": "ProgressView",
            "bar_style": "success",
            "description": "",
            "description_tooltip": null,
            "layout": "IPY_MODEL_8d56812b3522492d80f1345709070e94",
            "max": 30,
            "min": 0,
            "orientation": "horizontal",
            "style": "IPY_MODEL_98d6de272f4b49548e41c3381cab7786",
            "value": 30
          }
        },
        "7a0d69a4e675447abc22b77cc122c45e": {
          "model_module": "@jupyter-widgets/controls",
          "model_name": "HTMLModel",
          "model_module_version": "1.5.0",
          "state": {
            "_dom_classes": [],
            "_model_module": "@jupyter-widgets/controls",
            "_model_module_version": "1.5.0",
            "_model_name": "HTMLModel",
            "_view_count": null,
            "_view_module": "@jupyter-widgets/controls",
            "_view_module_version": "1.5.0",
            "_view_name": "HTMLView",
            "description": "",
            "description_tooltip": null,
            "layout": "IPY_MODEL_f2384bd0f4fd4dcd8a8575ebf40e7d87",
            "placeholder": "​",
            "style": "IPY_MODEL_24a6327559c84e20bae9031dd32f7f7b",
            "value": " 30/30 [14:28&lt;00:00, 17.67s/it]"
          }
        },
        "175c762d55b94e59b2c764d98de5bce3": {
          "model_module": "@jupyter-widgets/base",
          "model_name": "LayoutModel",
          "model_module_version": "1.2.0",
          "state": {
            "_model_module": "@jupyter-widgets/base",
            "_model_module_version": "1.2.0",
            "_model_name": "LayoutModel",
            "_view_count": null,
            "_view_module": "@jupyter-widgets/base",
            "_view_module_version": "1.2.0",
            "_view_name": "LayoutView",
            "align_content": null,
            "align_items": null,
            "align_self": null,
            "border": null,
            "bottom": null,
            "display": null,
            "flex": null,
            "flex_flow": null,
            "grid_area": null,
            "grid_auto_columns": null,
            "grid_auto_flow": null,
            "grid_auto_rows": null,
            "grid_column": null,
            "grid_gap": null,
            "grid_row": null,
            "grid_template_areas": null,
            "grid_template_columns": null,
            "grid_template_rows": null,
            "height": null,
            "justify_content": null,
            "justify_items": null,
            "left": null,
            "margin": null,
            "max_height": null,
            "max_width": null,
            "min_height": null,
            "min_width": null,
            "object_fit": null,
            "object_position": null,
            "order": null,
            "overflow": null,
            "overflow_x": null,
            "overflow_y": null,
            "padding": null,
            "right": null,
            "top": null,
            "visibility": null,
            "width": null
          }
        },
        "949e5acd2a9141678520253cf9aa357a": {
          "model_module": "@jupyter-widgets/base",
          "model_name": "LayoutModel",
          "model_module_version": "1.2.0",
          "state": {
            "_model_module": "@jupyter-widgets/base",
            "_model_module_version": "1.2.0",
            "_model_name": "LayoutModel",
            "_view_count": null,
            "_view_module": "@jupyter-widgets/base",
            "_view_module_version": "1.2.0",
            "_view_name": "LayoutView",
            "align_content": null,
            "align_items": null,
            "align_self": null,
            "border": null,
            "bottom": null,
            "display": null,
            "flex": null,
            "flex_flow": null,
            "grid_area": null,
            "grid_auto_columns": null,
            "grid_auto_flow": null,
            "grid_auto_rows": null,
            "grid_column": null,
            "grid_gap": null,
            "grid_row": null,
            "grid_template_areas": null,
            "grid_template_columns": null,
            "grid_template_rows": null,
            "height": null,
            "justify_content": null,
            "justify_items": null,
            "left": null,
            "margin": null,
            "max_height": null,
            "max_width": null,
            "min_height": null,
            "min_width": null,
            "object_fit": null,
            "object_position": null,
            "order": null,
            "overflow": null,
            "overflow_x": null,
            "overflow_y": null,
            "padding": null,
            "right": null,
            "top": null,
            "visibility": null,
            "width": null
          }
        },
        "b3d75bc5bbbc40478573f1fe1593bd1b": {
          "model_module": "@jupyter-widgets/controls",
          "model_name": "DescriptionStyleModel",
          "model_module_version": "1.5.0",
          "state": {
            "_model_module": "@jupyter-widgets/controls",
            "_model_module_version": "1.5.0",
            "_model_name": "DescriptionStyleModel",
            "_view_count": null,
            "_view_module": "@jupyter-widgets/base",
            "_view_module_version": "1.2.0",
            "_view_name": "StyleView",
            "description_width": ""
          }
        },
        "8d56812b3522492d80f1345709070e94": {
          "model_module": "@jupyter-widgets/base",
          "model_name": "LayoutModel",
          "model_module_version": "1.2.0",
          "state": {
            "_model_module": "@jupyter-widgets/base",
            "_model_module_version": "1.2.0",
            "_model_name": "LayoutModel",
            "_view_count": null,
            "_view_module": "@jupyter-widgets/base",
            "_view_module_version": "1.2.0",
            "_view_name": "LayoutView",
            "align_content": null,
            "align_items": null,
            "align_self": null,
            "border": null,
            "bottom": null,
            "display": null,
            "flex": null,
            "flex_flow": null,
            "grid_area": null,
            "grid_auto_columns": null,
            "grid_auto_flow": null,
            "grid_auto_rows": null,
            "grid_column": null,
            "grid_gap": null,
            "grid_row": null,
            "grid_template_areas": null,
            "grid_template_columns": null,
            "grid_template_rows": null,
            "height": null,
            "justify_content": null,
            "justify_items": null,
            "left": null,
            "margin": null,
            "max_height": null,
            "max_width": null,
            "min_height": null,
            "min_width": null,
            "object_fit": null,
            "object_position": null,
            "order": null,
            "overflow": null,
            "overflow_x": null,
            "overflow_y": null,
            "padding": null,
            "right": null,
            "top": null,
            "visibility": null,
            "width": null
          }
        },
        "98d6de272f4b49548e41c3381cab7786": {
          "model_module": "@jupyter-widgets/controls",
          "model_name": "ProgressStyleModel",
          "model_module_version": "1.5.0",
          "state": {
            "_model_module": "@jupyter-widgets/controls",
            "_model_module_version": "1.5.0",
            "_model_name": "ProgressStyleModel",
            "_view_count": null,
            "_view_module": "@jupyter-widgets/base",
            "_view_module_version": "1.2.0",
            "_view_name": "StyleView",
            "bar_color": null,
            "description_width": ""
          }
        },
        "f2384bd0f4fd4dcd8a8575ebf40e7d87": {
          "model_module": "@jupyter-widgets/base",
          "model_name": "LayoutModel",
          "model_module_version": "1.2.0",
          "state": {
            "_model_module": "@jupyter-widgets/base",
            "_model_module_version": "1.2.0",
            "_model_name": "LayoutModel",
            "_view_count": null,
            "_view_module": "@jupyter-widgets/base",
            "_view_module_version": "1.2.0",
            "_view_name": "LayoutView",
            "align_content": null,
            "align_items": null,
            "align_self": null,
            "border": null,
            "bottom": null,
            "display": null,
            "flex": null,
            "flex_flow": null,
            "grid_area": null,
            "grid_auto_columns": null,
            "grid_auto_flow": null,
            "grid_auto_rows": null,
            "grid_column": null,
            "grid_gap": null,
            "grid_row": null,
            "grid_template_areas": null,
            "grid_template_columns": null,
            "grid_template_rows": null,
            "height": null,
            "justify_content": null,
            "justify_items": null,
            "left": null,
            "margin": null,
            "max_height": null,
            "max_width": null,
            "min_height": null,
            "min_width": null,
            "object_fit": null,
            "object_position": null,
            "order": null,
            "overflow": null,
            "overflow_x": null,
            "overflow_y": null,
            "padding": null,
            "right": null,
            "top": null,
            "visibility": null,
            "width": null
          }
        },
        "24a6327559c84e20bae9031dd32f7f7b": {
          "model_module": "@jupyter-widgets/controls",
          "model_name": "DescriptionStyleModel",
          "model_module_version": "1.5.0",
          "state": {
            "_model_module": "@jupyter-widgets/controls",
            "_model_module_version": "1.5.0",
            "_model_name": "DescriptionStyleModel",
            "_view_count": null,
            "_view_module": "@jupyter-widgets/base",
            "_view_module_version": "1.2.0",
            "_view_name": "StyleView",
            "description_width": ""
          }
        },
        "3a8a08e5bb854af098252e2e7403e34c": {
          "model_module": "@jupyter-widgets/controls",
          "model_name": "HBoxModel",
          "model_module_version": "1.5.0",
          "state": {
            "_dom_classes": [],
            "_model_module": "@jupyter-widgets/controls",
            "_model_module_version": "1.5.0",
            "_model_name": "HBoxModel",
            "_view_count": null,
            "_view_module": "@jupyter-widgets/controls",
            "_view_module_version": "1.5.0",
            "_view_name": "HBoxView",
            "box_style": "",
            "children": [
              "IPY_MODEL_8cff6cce50914b6fa886b7d5edc1b131",
              "IPY_MODEL_189c8e7ede2245458d29d54d70dded84",
              "IPY_MODEL_8a884375387e4411842c6285c14780e0"
            ],
            "layout": "IPY_MODEL_fc764e760662465f876f62ac2c1519df"
          }
        },
        "8cff6cce50914b6fa886b7d5edc1b131": {
          "model_module": "@jupyter-widgets/controls",
          "model_name": "HTMLModel",
          "model_module_version": "1.5.0",
          "state": {
            "_dom_classes": [],
            "_model_module": "@jupyter-widgets/controls",
            "_model_module_version": "1.5.0",
            "_model_name": "HTMLModel",
            "_view_count": null,
            "_view_module": "@jupyter-widgets/controls",
            "_view_module_version": "1.5.0",
            "_view_name": "HTMLView",
            "description": "",
            "description_tooltip": null,
            "layout": "IPY_MODEL_7396be736ea84c218c329c2070e708c4",
            "placeholder": "​",
            "style": "IPY_MODEL_39bc0928dc244fbf989968b30d645d87",
            "value": "Best trial: 15. Best value: 0.0304342: 100%"
          }
        },
        "189c8e7ede2245458d29d54d70dded84": {
          "model_module": "@jupyter-widgets/controls",
          "model_name": "FloatProgressModel",
          "model_module_version": "1.5.0",
          "state": {
            "_dom_classes": [],
            "_model_module": "@jupyter-widgets/controls",
            "_model_module_version": "1.5.0",
            "_model_name": "FloatProgressModel",
            "_view_count": null,
            "_view_module": "@jupyter-widgets/controls",
            "_view_module_version": "1.5.0",
            "_view_name": "ProgressView",
            "bar_style": "success",
            "description": "",
            "description_tooltip": null,
            "layout": "IPY_MODEL_6ee3d132ff864716a71b319b1d17e2ad",
            "max": 30,
            "min": 0,
            "orientation": "horizontal",
            "style": "IPY_MODEL_d9295087940c431a9d0aa3c424f6c3aa",
            "value": 30
          }
        },
        "8a884375387e4411842c6285c14780e0": {
          "model_module": "@jupyter-widgets/controls",
          "model_name": "HTMLModel",
          "model_module_version": "1.5.0",
          "state": {
            "_dom_classes": [],
            "_model_module": "@jupyter-widgets/controls",
            "_model_module_version": "1.5.0",
            "_model_name": "HTMLModel",
            "_view_count": null,
            "_view_module": "@jupyter-widgets/controls",
            "_view_module_version": "1.5.0",
            "_view_name": "HTMLView",
            "description": "",
            "description_tooltip": null,
            "layout": "IPY_MODEL_a0cd0dbaffeb4378ab3f41bdb4d26493",
            "placeholder": "​",
            "style": "IPY_MODEL_a304a149b3ec411bb9cccf7df2ac3e29",
            "value": " 30/30 [11:38&lt;00:00, 23.72s/it]"
          }
        },
        "fc764e760662465f876f62ac2c1519df": {
          "model_module": "@jupyter-widgets/base",
          "model_name": "LayoutModel",
          "model_module_version": "1.2.0",
          "state": {
            "_model_module": "@jupyter-widgets/base",
            "_model_module_version": "1.2.0",
            "_model_name": "LayoutModel",
            "_view_count": null,
            "_view_module": "@jupyter-widgets/base",
            "_view_module_version": "1.2.0",
            "_view_name": "LayoutView",
            "align_content": null,
            "align_items": null,
            "align_self": null,
            "border": null,
            "bottom": null,
            "display": null,
            "flex": null,
            "flex_flow": null,
            "grid_area": null,
            "grid_auto_columns": null,
            "grid_auto_flow": null,
            "grid_auto_rows": null,
            "grid_column": null,
            "grid_gap": null,
            "grid_row": null,
            "grid_template_areas": null,
            "grid_template_columns": null,
            "grid_template_rows": null,
            "height": null,
            "justify_content": null,
            "justify_items": null,
            "left": null,
            "margin": null,
            "max_height": null,
            "max_width": null,
            "min_height": null,
            "min_width": null,
            "object_fit": null,
            "object_position": null,
            "order": null,
            "overflow": null,
            "overflow_x": null,
            "overflow_y": null,
            "padding": null,
            "right": null,
            "top": null,
            "visibility": null,
            "width": null
          }
        },
        "7396be736ea84c218c329c2070e708c4": {
          "model_module": "@jupyter-widgets/base",
          "model_name": "LayoutModel",
          "model_module_version": "1.2.0",
          "state": {
            "_model_module": "@jupyter-widgets/base",
            "_model_module_version": "1.2.0",
            "_model_name": "LayoutModel",
            "_view_count": null,
            "_view_module": "@jupyter-widgets/base",
            "_view_module_version": "1.2.0",
            "_view_name": "LayoutView",
            "align_content": null,
            "align_items": null,
            "align_self": null,
            "border": null,
            "bottom": null,
            "display": null,
            "flex": null,
            "flex_flow": null,
            "grid_area": null,
            "grid_auto_columns": null,
            "grid_auto_flow": null,
            "grid_auto_rows": null,
            "grid_column": null,
            "grid_gap": null,
            "grid_row": null,
            "grid_template_areas": null,
            "grid_template_columns": null,
            "grid_template_rows": null,
            "height": null,
            "justify_content": null,
            "justify_items": null,
            "left": null,
            "margin": null,
            "max_height": null,
            "max_width": null,
            "min_height": null,
            "min_width": null,
            "object_fit": null,
            "object_position": null,
            "order": null,
            "overflow": null,
            "overflow_x": null,
            "overflow_y": null,
            "padding": null,
            "right": null,
            "top": null,
            "visibility": null,
            "width": null
          }
        },
        "39bc0928dc244fbf989968b30d645d87": {
          "model_module": "@jupyter-widgets/controls",
          "model_name": "DescriptionStyleModel",
          "model_module_version": "1.5.0",
          "state": {
            "_model_module": "@jupyter-widgets/controls",
            "_model_module_version": "1.5.0",
            "_model_name": "DescriptionStyleModel",
            "_view_count": null,
            "_view_module": "@jupyter-widgets/base",
            "_view_module_version": "1.2.0",
            "_view_name": "StyleView",
            "description_width": ""
          }
        },
        "6ee3d132ff864716a71b319b1d17e2ad": {
          "model_module": "@jupyter-widgets/base",
          "model_name": "LayoutModel",
          "model_module_version": "1.2.0",
          "state": {
            "_model_module": "@jupyter-widgets/base",
            "_model_module_version": "1.2.0",
            "_model_name": "LayoutModel",
            "_view_count": null,
            "_view_module": "@jupyter-widgets/base",
            "_view_module_version": "1.2.0",
            "_view_name": "LayoutView",
            "align_content": null,
            "align_items": null,
            "align_self": null,
            "border": null,
            "bottom": null,
            "display": null,
            "flex": null,
            "flex_flow": null,
            "grid_area": null,
            "grid_auto_columns": null,
            "grid_auto_flow": null,
            "grid_auto_rows": null,
            "grid_column": null,
            "grid_gap": null,
            "grid_row": null,
            "grid_template_areas": null,
            "grid_template_columns": null,
            "grid_template_rows": null,
            "height": null,
            "justify_content": null,
            "justify_items": null,
            "left": null,
            "margin": null,
            "max_height": null,
            "max_width": null,
            "min_height": null,
            "min_width": null,
            "object_fit": null,
            "object_position": null,
            "order": null,
            "overflow": null,
            "overflow_x": null,
            "overflow_y": null,
            "padding": null,
            "right": null,
            "top": null,
            "visibility": null,
            "width": null
          }
        },
        "d9295087940c431a9d0aa3c424f6c3aa": {
          "model_module": "@jupyter-widgets/controls",
          "model_name": "ProgressStyleModel",
          "model_module_version": "1.5.0",
          "state": {
            "_model_module": "@jupyter-widgets/controls",
            "_model_module_version": "1.5.0",
            "_model_name": "ProgressStyleModel",
            "_view_count": null,
            "_view_module": "@jupyter-widgets/base",
            "_view_module_version": "1.2.0",
            "_view_name": "StyleView",
            "bar_color": null,
            "description_width": ""
          }
        },
        "a0cd0dbaffeb4378ab3f41bdb4d26493": {
          "model_module": "@jupyter-widgets/base",
          "model_name": "LayoutModel",
          "model_module_version": "1.2.0",
          "state": {
            "_model_module": "@jupyter-widgets/base",
            "_model_module_version": "1.2.0",
            "_model_name": "LayoutModel",
            "_view_count": null,
            "_view_module": "@jupyter-widgets/base",
            "_view_module_version": "1.2.0",
            "_view_name": "LayoutView",
            "align_content": null,
            "align_items": null,
            "align_self": null,
            "border": null,
            "bottom": null,
            "display": null,
            "flex": null,
            "flex_flow": null,
            "grid_area": null,
            "grid_auto_columns": null,
            "grid_auto_flow": null,
            "grid_auto_rows": null,
            "grid_column": null,
            "grid_gap": null,
            "grid_row": null,
            "grid_template_areas": null,
            "grid_template_columns": null,
            "grid_template_rows": null,
            "height": null,
            "justify_content": null,
            "justify_items": null,
            "left": null,
            "margin": null,
            "max_height": null,
            "max_width": null,
            "min_height": null,
            "min_width": null,
            "object_fit": null,
            "object_position": null,
            "order": null,
            "overflow": null,
            "overflow_x": null,
            "overflow_y": null,
            "padding": null,
            "right": null,
            "top": null,
            "visibility": null,
            "width": null
          }
        },
        "a304a149b3ec411bb9cccf7df2ac3e29": {
          "model_module": "@jupyter-widgets/controls",
          "model_name": "DescriptionStyleModel",
          "model_module_version": "1.5.0",
          "state": {
            "_model_module": "@jupyter-widgets/controls",
            "_model_module_version": "1.5.0",
            "_model_name": "DescriptionStyleModel",
            "_view_count": null,
            "_view_module": "@jupyter-widgets/base",
            "_view_module_version": "1.2.0",
            "_view_name": "StyleView",
            "description_width": ""
          }
        },
        "dd06452fbb94436ba6b6acaf9f74f616": {
          "model_module": "@jupyter-widgets/controls",
          "model_name": "HBoxModel",
          "model_module_version": "1.5.0",
          "state": {
            "_dom_classes": [],
            "_model_module": "@jupyter-widgets/controls",
            "_model_module_version": "1.5.0",
            "_model_name": "HBoxModel",
            "_view_count": null,
            "_view_module": "@jupyter-widgets/controls",
            "_view_module_version": "1.5.0",
            "_view_name": "HBoxView",
            "box_style": "",
            "children": [
              "IPY_MODEL_dd734e3441574f07b0731498577a1306",
              "IPY_MODEL_ef02b5cef1e24a24bba49733f99f5cd1",
              "IPY_MODEL_f28e6e3f50c943018ba14f0f42adb2e0"
            ],
            "layout": "IPY_MODEL_2436b301ae7d407f83e680419647b50f"
          }
        },
        "dd734e3441574f07b0731498577a1306": {
          "model_module": "@jupyter-widgets/controls",
          "model_name": "HTMLModel",
          "model_module_version": "1.5.0",
          "state": {
            "_dom_classes": [],
            "_model_module": "@jupyter-widgets/controls",
            "_model_module_version": "1.5.0",
            "_model_name": "HTMLModel",
            "_view_count": null,
            "_view_module": "@jupyter-widgets/controls",
            "_view_module_version": "1.5.0",
            "_view_name": "HTMLView",
            "description": "",
            "description_tooltip": null,
            "layout": "IPY_MODEL_03b64cdf1c70480a9d88d974638ce48b",
            "placeholder": "​",
            "style": "IPY_MODEL_3d3f99e7ebe94fb2814ee7058253b3d9",
            "value": "Best trial: 16. Best value: 0.0166038: 100%"
          }
        },
        "ef02b5cef1e24a24bba49733f99f5cd1": {
          "model_module": "@jupyter-widgets/controls",
          "model_name": "FloatProgressModel",
          "model_module_version": "1.5.0",
          "state": {
            "_dom_classes": [],
            "_model_module": "@jupyter-widgets/controls",
            "_model_module_version": "1.5.0",
            "_model_name": "FloatProgressModel",
            "_view_count": null,
            "_view_module": "@jupyter-widgets/controls",
            "_view_module_version": "1.5.0",
            "_view_name": "ProgressView",
            "bar_style": "success",
            "description": "",
            "description_tooltip": null,
            "layout": "IPY_MODEL_a1d3b76df9a84c8e97c361241b8544cf",
            "max": 30,
            "min": 0,
            "orientation": "horizontal",
            "style": "IPY_MODEL_350bf625966846558e14c9adfb9808b1",
            "value": 30
          }
        },
        "f28e6e3f50c943018ba14f0f42adb2e0": {
          "model_module": "@jupyter-widgets/controls",
          "model_name": "HTMLModel",
          "model_module_version": "1.5.0",
          "state": {
            "_dom_classes": [],
            "_model_module": "@jupyter-widgets/controls",
            "_model_module_version": "1.5.0",
            "_model_name": "HTMLModel",
            "_view_count": null,
            "_view_module": "@jupyter-widgets/controls",
            "_view_module_version": "1.5.0",
            "_view_name": "HTMLView",
            "description": "",
            "description_tooltip": null,
            "layout": "IPY_MODEL_b94f63e8570e4fd9bb3e73ebb1492a2f",
            "placeholder": "​",
            "style": "IPY_MODEL_19c1f691511e49da87545c11b1488ef4",
            "value": " 30/30 [10:24&lt;00:00, 17.46s/it]"
          }
        },
        "2436b301ae7d407f83e680419647b50f": {
          "model_module": "@jupyter-widgets/base",
          "model_name": "LayoutModel",
          "model_module_version": "1.2.0",
          "state": {
            "_model_module": "@jupyter-widgets/base",
            "_model_module_version": "1.2.0",
            "_model_name": "LayoutModel",
            "_view_count": null,
            "_view_module": "@jupyter-widgets/base",
            "_view_module_version": "1.2.0",
            "_view_name": "LayoutView",
            "align_content": null,
            "align_items": null,
            "align_self": null,
            "border": null,
            "bottom": null,
            "display": null,
            "flex": null,
            "flex_flow": null,
            "grid_area": null,
            "grid_auto_columns": null,
            "grid_auto_flow": null,
            "grid_auto_rows": null,
            "grid_column": null,
            "grid_gap": null,
            "grid_row": null,
            "grid_template_areas": null,
            "grid_template_columns": null,
            "grid_template_rows": null,
            "height": null,
            "justify_content": null,
            "justify_items": null,
            "left": null,
            "margin": null,
            "max_height": null,
            "max_width": null,
            "min_height": null,
            "min_width": null,
            "object_fit": null,
            "object_position": null,
            "order": null,
            "overflow": null,
            "overflow_x": null,
            "overflow_y": null,
            "padding": null,
            "right": null,
            "top": null,
            "visibility": null,
            "width": null
          }
        },
        "03b64cdf1c70480a9d88d974638ce48b": {
          "model_module": "@jupyter-widgets/base",
          "model_name": "LayoutModel",
          "model_module_version": "1.2.0",
          "state": {
            "_model_module": "@jupyter-widgets/base",
            "_model_module_version": "1.2.0",
            "_model_name": "LayoutModel",
            "_view_count": null,
            "_view_module": "@jupyter-widgets/base",
            "_view_module_version": "1.2.0",
            "_view_name": "LayoutView",
            "align_content": null,
            "align_items": null,
            "align_self": null,
            "border": null,
            "bottom": null,
            "display": null,
            "flex": null,
            "flex_flow": null,
            "grid_area": null,
            "grid_auto_columns": null,
            "grid_auto_flow": null,
            "grid_auto_rows": null,
            "grid_column": null,
            "grid_gap": null,
            "grid_row": null,
            "grid_template_areas": null,
            "grid_template_columns": null,
            "grid_template_rows": null,
            "height": null,
            "justify_content": null,
            "justify_items": null,
            "left": null,
            "margin": null,
            "max_height": null,
            "max_width": null,
            "min_height": null,
            "min_width": null,
            "object_fit": null,
            "object_position": null,
            "order": null,
            "overflow": null,
            "overflow_x": null,
            "overflow_y": null,
            "padding": null,
            "right": null,
            "top": null,
            "visibility": null,
            "width": null
          }
        },
        "3d3f99e7ebe94fb2814ee7058253b3d9": {
          "model_module": "@jupyter-widgets/controls",
          "model_name": "DescriptionStyleModel",
          "model_module_version": "1.5.0",
          "state": {
            "_model_module": "@jupyter-widgets/controls",
            "_model_module_version": "1.5.0",
            "_model_name": "DescriptionStyleModel",
            "_view_count": null,
            "_view_module": "@jupyter-widgets/base",
            "_view_module_version": "1.2.0",
            "_view_name": "StyleView",
            "description_width": ""
          }
        },
        "a1d3b76df9a84c8e97c361241b8544cf": {
          "model_module": "@jupyter-widgets/base",
          "model_name": "LayoutModel",
          "model_module_version": "1.2.0",
          "state": {
            "_model_module": "@jupyter-widgets/base",
            "_model_module_version": "1.2.0",
            "_model_name": "LayoutModel",
            "_view_count": null,
            "_view_module": "@jupyter-widgets/base",
            "_view_module_version": "1.2.0",
            "_view_name": "LayoutView",
            "align_content": null,
            "align_items": null,
            "align_self": null,
            "border": null,
            "bottom": null,
            "display": null,
            "flex": null,
            "flex_flow": null,
            "grid_area": null,
            "grid_auto_columns": null,
            "grid_auto_flow": null,
            "grid_auto_rows": null,
            "grid_column": null,
            "grid_gap": null,
            "grid_row": null,
            "grid_template_areas": null,
            "grid_template_columns": null,
            "grid_template_rows": null,
            "height": null,
            "justify_content": null,
            "justify_items": null,
            "left": null,
            "margin": null,
            "max_height": null,
            "max_width": null,
            "min_height": null,
            "min_width": null,
            "object_fit": null,
            "object_position": null,
            "order": null,
            "overflow": null,
            "overflow_x": null,
            "overflow_y": null,
            "padding": null,
            "right": null,
            "top": null,
            "visibility": null,
            "width": null
          }
        },
        "350bf625966846558e14c9adfb9808b1": {
          "model_module": "@jupyter-widgets/controls",
          "model_name": "ProgressStyleModel",
          "model_module_version": "1.5.0",
          "state": {
            "_model_module": "@jupyter-widgets/controls",
            "_model_module_version": "1.5.0",
            "_model_name": "ProgressStyleModel",
            "_view_count": null,
            "_view_module": "@jupyter-widgets/base",
            "_view_module_version": "1.2.0",
            "_view_name": "StyleView",
            "bar_color": null,
            "description_width": ""
          }
        },
        "b94f63e8570e4fd9bb3e73ebb1492a2f": {
          "model_module": "@jupyter-widgets/base",
          "model_name": "LayoutModel",
          "model_module_version": "1.2.0",
          "state": {
            "_model_module": "@jupyter-widgets/base",
            "_model_module_version": "1.2.0",
            "_model_name": "LayoutModel",
            "_view_count": null,
            "_view_module": "@jupyter-widgets/base",
            "_view_module_version": "1.2.0",
            "_view_name": "LayoutView",
            "align_content": null,
            "align_items": null,
            "align_self": null,
            "border": null,
            "bottom": null,
            "display": null,
            "flex": null,
            "flex_flow": null,
            "grid_area": null,
            "grid_auto_columns": null,
            "grid_auto_flow": null,
            "grid_auto_rows": null,
            "grid_column": null,
            "grid_gap": null,
            "grid_row": null,
            "grid_template_areas": null,
            "grid_template_columns": null,
            "grid_template_rows": null,
            "height": null,
            "justify_content": null,
            "justify_items": null,
            "left": null,
            "margin": null,
            "max_height": null,
            "max_width": null,
            "min_height": null,
            "min_width": null,
            "object_fit": null,
            "object_position": null,
            "order": null,
            "overflow": null,
            "overflow_x": null,
            "overflow_y": null,
            "padding": null,
            "right": null,
            "top": null,
            "visibility": null,
            "width": null
          }
        },
        "19c1f691511e49da87545c11b1488ef4": {
          "model_module": "@jupyter-widgets/controls",
          "model_name": "DescriptionStyleModel",
          "model_module_version": "1.5.0",
          "state": {
            "_model_module": "@jupyter-widgets/controls",
            "_model_module_version": "1.5.0",
            "_model_name": "DescriptionStyleModel",
            "_view_count": null,
            "_view_module": "@jupyter-widgets/base",
            "_view_module_version": "1.2.0",
            "_view_name": "StyleView",
            "description_width": ""
          }
        }
      }
    }
  },
  "cells": [
    {
      "cell_type": "code",
      "execution_count": null,
      "metadata": {
        "colab": {
          "base_uri": "https://localhost:8080/"
        },
        "id": "oGTnaiEt39Ua",
        "outputId": "3dbac26c-3312-4dfd-8341-606831f55d64"
      },
      "outputs": [
        {
          "output_type": "stream",
          "name": "stdout",
          "text": [
            "Collecting optuna\n",
            "  Downloading optuna-4.3.0-py3-none-any.whl.metadata (17 kB)\n",
            "Collecting alembic>=1.5.0 (from optuna)\n",
            "  Downloading alembic-1.15.2-py3-none-any.whl.metadata (7.3 kB)\n",
            "Collecting colorlog (from optuna)\n",
            "  Downloading colorlog-6.9.0-py3-none-any.whl.metadata (10 kB)\n",
            "Requirement already satisfied: numpy in /usr/local/lib/python3.11/dist-packages (from optuna) (2.0.2)\n",
            "Requirement already satisfied: packaging>=20.0 in /usr/local/lib/python3.11/dist-packages (from optuna) (24.2)\n",
            "Requirement already satisfied: sqlalchemy>=1.4.2 in /usr/local/lib/python3.11/dist-packages (from optuna) (2.0.40)\n",
            "Requirement already satisfied: tqdm in /usr/local/lib/python3.11/dist-packages (from optuna) (4.67.1)\n",
            "Requirement already satisfied: PyYAML in /usr/local/lib/python3.11/dist-packages (from optuna) (6.0.2)\n",
            "Requirement already satisfied: Mako in /usr/lib/python3/dist-packages (from alembic>=1.5.0->optuna) (1.1.3)\n",
            "Requirement already satisfied: typing-extensions>=4.12 in /usr/local/lib/python3.11/dist-packages (from alembic>=1.5.0->optuna) (4.13.2)\n",
            "Requirement already satisfied: greenlet>=1 in /usr/local/lib/python3.11/dist-packages (from sqlalchemy>=1.4.2->optuna) (3.2.1)\n",
            "Downloading optuna-4.3.0-py3-none-any.whl (386 kB)\n",
            "\u001b[2K   \u001b[90m━━━━━━━━━━━━━━━━━━━━━━━━━━━━━━━━━━━━━━━━\u001b[0m \u001b[32m386.6/386.6 kB\u001b[0m \u001b[31m10.7 MB/s\u001b[0m eta \u001b[36m0:00:00\u001b[0m\n",
            "\u001b[?25hDownloading alembic-1.15.2-py3-none-any.whl (231 kB)\n",
            "\u001b[2K   \u001b[90m━━━━━━━━━━━━━━━━━━━━━━━━━━━━━━━━━━━━━━━━\u001b[0m \u001b[32m231.9/231.9 kB\u001b[0m \u001b[31m15.2 MB/s\u001b[0m eta \u001b[36m0:00:00\u001b[0m\n",
            "\u001b[?25hDownloading colorlog-6.9.0-py3-none-any.whl (11 kB)\n",
            "Installing collected packages: colorlog, alembic, optuna\n",
            "Successfully installed alembic-1.15.2 colorlog-6.9.0 optuna-4.3.0\n"
          ]
        }
      ],
      "source": [
        "pip install optuna"
      ]
    },
    {
      "cell_type": "code",
      "source": [
        "import pandas as pd\n",
        "import numpy as np\n",
        "import optuna\n",
        "import os\n",
        "import json\n",
        "import warnings\n",
        "from tqdm import tqdm\n",
        "from sklearn.preprocessing import MinMaxScaler\n",
        "from sklearn.metrics import mean_squared_error\n",
        "from tensorflow.keras.models import Sequential\n",
        "from tensorflow.keras.layers import LSTM, Dense, Dropout\n",
        "from tensorflow.keras.optimizers import Adam\n",
        "from tensorflow.keras.callbacks import EarlyStopping\n",
        "\n",
        "warnings.filterwarnings(\"ignore\")\n",
        "\n",
        "# === Load and prepare dataset ===\n",
        "df = pd.read_csv(\"cleaned_stock_data_without_arm.csv\")\n",
        "df['Date'] = pd.to_datetime(df['Date'])\n",
        "df = df.sort_values(['Company', 'Date'])\n",
        "\n",
        "# Fix commas to save as numeric\n",
        "df['Price Close'] = df['Price Close'].astype(str).str.replace(\",\", \".\", regex=False)\n",
        "df['Price Close'] = pd.to_numeric(df['Price Close'], errors='coerce')\n",
        "\n",
        "# === Lag the Fama-French factors by 1 day ===\n",
        "for col in ['Mkt-RF', 'SMB', 'HML', 'RMW', 'CMA']:\n",
        "    df[col] = df.groupby('Company')[col].shift(1)\n",
        "\n",
        "df = df.dropna(subset=['Price Close', 'Mkt-RF', 'SMB', 'HML', 'RMW', 'CMA'])\n",
        "\n",
        "# === Create output folders ===\n",
        "os.makedirs(\"optuna_results\", exist_ok=True)\n",
        "os.makedirs(\"optuna_models\", exist_ok=True)\n",
        "\n",
        "# === Sequence generator ===\n",
        "def create_sequences(features, target, lookback):\n",
        "    X, y = [], []\n",
        "    for i in range(lookback, len(features)):\n",
        "        X.append(features[i - lookback:i])\n",
        "        y.append(target[i])\n",
        "    return np.array(X), np.array(y)\n",
        "\n",
        "# === Optimization function ===\n",
        "def optimize_lstm(company_data, company_name):\n",
        "    def objective(trial):\n",
        "        lookback = trial.suggest_int('lookback', 1, 60, step=5)\n",
        "        units = trial.suggest_int('units', 32, 256)\n",
        "        dropout = trial.suggest_float('dropout', 0.1, 0.5)\n",
        "        batch_size = trial.suggest_categorical('batch_size', [32, 64])\n",
        "        epochs = trial.suggest_int('epochs', 20, 35)\n",
        "\n",
        "        features = company_data[['Mkt-RF', 'SMB', 'HML', 'RMW', 'CMA']].values\n",
        "        target = company_data['Price Close'].values.reshape(-1, 1)\n",
        "\n",
        "        f_scaler = MinMaxScaler()\n",
        "        t_scaler = MinMaxScaler()\n",
        "        features_scaled = f_scaler.fit_transform(features)\n",
        "        target_scaled = t_scaler.fit_transform(target)\n",
        "\n",
        "        full_data = np.hstack((features_scaled, target_scaled))\n",
        "        X, y = create_sequences(full_data, target_scaled, lookback)\n",
        "\n",
        "        split = int(len(X) * 0.8)\n",
        "        X_train, X_val = X[:split], X[split:]\n",
        "        y_train, y_val = y[:split], y[split:]\n",
        "\n",
        "        model = Sequential()\n",
        "        model.add(LSTM(units, input_shape=(X.shape[1], X.shape[2])))\n",
        "        model.add(Dropout(dropout))\n",
        "        model.add(Dense(1))\n",
        "        model.compile(optimizer=Adam(learning_rate=0.001), loss='mse')\n",
        "\n",
        "        es = EarlyStopping(patience=5, restore_best_weights=True, verbose=0)\n",
        "        model.fit(X_train, y_train, epochs=epochs, batch_size=batch_size,\n",
        "                  validation_data=(X_val, y_val), callbacks=[es], verbose=0)\n",
        "\n",
        "        y_pred = model.predict(X_val)\n",
        "        rmse = np.sqrt(mean_squared_error(y_val, y_pred))\n",
        "\n",
        "        trial.set_user_attr(\"Company\", company_name)\n",
        "        return rmse\n",
        "\n",
        "    study = optuna.create_study(direction=\"minimize\")\n",
        "    study.optimize(objective, n_trials=30, show_progress_bar=True)\n",
        "\n",
        "    trial_df = study.trials_dataframe()\n",
        "    trial_df['Company'] = company_name\n",
        "\n",
        "    return study.best_trial.params, trial_df\n",
        "\n",
        "# === Select chunk to run ===\n",
        "chunk_number = 2  # Set this manually: 0, 1, 2, or 3\n",
        "num_chunks = 4\n",
        "all_companies = sorted(df['Company'].unique())\n",
        "chunk_size = len(all_companies) // num_chunks\n",
        "chunks = [all_companies[i*chunk_size : (i+1)*chunk_size] for i in range(num_chunks - 1)]\n",
        "chunks.append(all_companies[(num_chunks - 1)*chunk_size:])\n",
        "companies_to_run = chunks[chunk_number]\n",
        "\n",
        "# === Store all results ===\n",
        "all_results = []\n",
        "all_trials_df = []\n",
        "\n",
        "# === Run optimization per company in this chunk ===\n",
        "for company in tqdm(companies_to_run, desc=f\"Optimizing chunk {chunk_number}\"):\n",
        "    company_data = df[df['Company'] == company].dropna()\n",
        "    if len(company_data) < 100:\n",
        "        continue\n",
        "\n",
        "    print(f\"\\n🔍 Optimizing for {company}...\")\n",
        "    best_params, trial_df = optimize_lstm(company_data, company)\n",
        "\n",
        "    result = {\"Company\": company}\n",
        "    result.update(best_params)\n",
        "    all_results.append(result)\n",
        "    all_trials_df.append(trial_df)\n",
        "\n",
        "    print(f\"✅ Done: {company} — Best Params: {best_params}\")\n",
        "\n",
        "# === Save outputs for this chunk ===\n",
        "pd.DataFrame(all_results).to_csv(f\"optuna_best_params_chunk{chunk_number}.csv\", index=False)\n",
        "pd.concat(all_trials_df, ignore_index=True).to_csv(f\"optuna_trials_chunk{chunk_number}.csv\", index=False)"
      ],
      "metadata": {
        "colab": {
          "base_uri": "https://localhost:8080/",
          "height": 1000,
          "referenced_widgets": [
            "c2c3854977df4072ae0d79255b23ff74",
            "d0d597d376a448eea1d6d4e8490ac151",
            "7c5f2b667ec846cb894ce1f06ba92753",
            "30f0fec60e3442d4b82b1205578691a7",
            "79e7694eca234095aee959d588f13981",
            "30a4e4f3e7b44b779e4a392c98616ce1",
            "2e88d170fb104bf3a5dd0bd114528665",
            "187c5e789782467dbffe6a68a0be2439",
            "a76b88dff6374addb275fd27e18915a7",
            "614399177dde493aabdfa876d389286c",
            "2a2ddb6060c4493a81860b41dad0d5c6",
            "1f90a3fd3bf8484298b6cbf4eeb85127",
            "c4e4607c25164f0cb938f38104ab158d",
            "ba033a50f24843c58c14a432bb8256a8",
            "540e3115168a45a28d29e5b861aa58aa",
            "ae0fee12844a4d2da4fb54e37dfd5a29",
            "cf655b10c8b6413ebba1636139f56307",
            "bbb92e5b2dc64ed9b941213b923253a7",
            "299bf72be1b54efd830fb4a4aa998b1e",
            "154e9ec2f5684dde90a81e6b108387fc",
            "6717ab47e3544566bb95a2a89313971f",
            "88b4a09a52e64e0fa4a7e692b39b7461",
            "9862fa2ebe15420a9161a2bcc64d584e",
            "3c5b642cd47747a79eb5f8b54fbeb5cd",
            "70ed8eba04e4464db6c3cb20bc70f6a8",
            "bf8efd1a7e254776ba2b7a3d17e4474a",
            "51c4747d882d4a0dbb4c1b77a6974bf8",
            "94633daf6ccd47dba8d62e817bfcf606",
            "0c86ed483cac43058c309be7afc7fc0f",
            "2e553f2231c84d66999cf880fcc2b567",
            "3186cbb323f74b649d07b68c4f0ae71e",
            "5e60c14c8bd345779cc4f0f5a682a322",
            "e7e1fcc904624bf3bb88c239fffc7426",
            "5cc3884e10d442fb994b82026a0257b6",
            "4b1d1bfcbb7840fbb1b9c4d0959d46bb",
            "e14a9ef55b314f568ba2c117d8d6047a",
            "fa85acb325d04a27bc32445c06b1b4ac",
            "95fde403f3964fb8818fb556fcc35951",
            "a08a624518c141309852f815bc082456",
            "e428b0024fa64187a7adc36020623c87",
            "9498fd919846430ab81eba1196df5d6e",
            "9dd94a8e94e447b4bd7087f4b6b92078",
            "d73aa42c4c394041abb682ff1af087d7",
            "804399c7fdbf4f9c9c5ec589a3ad34eb",
            "44fa94e904484be4b46e235651b20046",
            "dcda69417e4648f7a0ebc2709fb035d7",
            "f480c75f28f54256926fb30bd9eff4be",
            "8bff3b07b84c4e07a9e2a6e3b7f83124",
            "26874152ce784fe38a5dc7d9d0beaa33",
            "e8ce74e4f2044c1aa9839ed90166e4df",
            "b0fdf31f8fa1440b979b8ec534953247",
            "65e73c1753e145a69e66f971901d0297",
            "8baf8d91fc6e46dbad889a2b9b70cea0",
            "467d4fe6514c477fad600beab21e8eb1",
            "7d2d93ccbfa54c43bceb8fc4d249cb04",
            "5bb911df147f45888255f316e960c753",
            "df27c67d57c2406db0f802c9c0137a77",
            "d589a47e126748989e2555a8a04fcea9",
            "ac2849c20e0e479cb6030c323ea341d2",
            "47603e24dec245ad9265086a8ebf554b",
            "ee5ff0ba276d4f96adbe153cd04bba41",
            "39b063cd18fb432ea30cc7da320b12cd",
            "1acc8fd4c3c54333b503f53fd1b8d559",
            "54d39a30e58245fc96a1bf0838b3f194",
            "5a39e2a1e19e4066a7ba2d32649da6d7",
            "1e9a46c96cb7415781d651f732cbc0f0",
            "9d14b4fe83d44cdfa29d8f07e6448f40",
            "3a215d45e7154effb99434878fc9825e",
            "d19c784ffe0f41b9ae6e0cb85d20b9c1",
            "e2d4894b1b8b43918cacfedbe046874d",
            "a073482138ce40afb744ca607d418e54",
            "87a87be23f094655bbf725536e6c42c7",
            "6d90ca2b22734fe2b4240e080405a3b6",
            "ff46addb1e584f8b9ba94b99cdc1557d",
            "7cf65ed5db644c4fa134766ee284fb77",
            "3ee0b8be445a4a10aa3d80a47579a66d",
            "a4c2022e2a5f4c5b9ef363dd2ddc5472",
            "65376e2c48d74c06a0d769051ebda18e",
            "6e3636bc60794048a7813c31ac036312",
            "0db5373c4e384f6ba5821228ea448861",
            "6cf8f9a8341b488eb0b50e2f45c3cd31",
            "9f19183a0fbb49ed8c1d5a9a53b6fbc9",
            "e6e1acfafb874082b8c8e6094a81a64a",
            "5c94e83bc65e4d71945cfdf929817ac0",
            "447feadbb7e94ae28501f29c095b32d8",
            "1fb9906f9c4c4d838a29e371963044be",
            "2401d504f8474850be70cd2747160bed",
            "36b72abbcb62456b912c97f29380e08d",
            "be154605b53e431db4d2ddec9a41224c",
            "4431bd995ce748eda5b04747282287e7",
            "39ce6dece5994a5a9e2048b270c12f23",
            "4ffea7bf3c5f43dea5d0781555d7330e",
            "d97d0b1d68c841919c3c3dde07b39a17",
            "07f8c65e6a3d4ddd9d12bebd7de80f19",
            "4460784a73c24b83a44f272383386c3f",
            "0aaa8a60361e4dc19f2ffafa3fbaf1fa",
            "fe9b96c75e7b4991800ee4c727ebb46c",
            "de0eba6b1c884ed98fee60a14bd9d7e6",
            "a70756aeb3154b489593693a4c6f2763",
            "7d46607163264730b57487b930ca8547",
            "0cdb52a8fa644df5a47c30b8785bdb56",
            "1e237eb491a844e7a9f77261656fc3af",
            "c5277e33da70497996e66096aa41d1db",
            "34d477c9fb6047048698c3f83de334cb",
            "7499dd3b0db443f3b27d994baa49e677",
            "be1f71217b9f472485fe6a04d335dfae",
            "59bafe6b1e6543dfb6637d9638004ac4",
            "bdcdc92997b0433c9e64c21301ea96f3",
            "894a4d6c40754948b52a602dd9a90f28",
            "cd7168f189cb4c54b968257d5d4b3c56",
            "71ce76c6d1d3461b99c62e4f2d6d43aa",
            "5665ac5e1ae94114bb9f7598375b6cfc",
            "bb507d74456740b29985cadde6faa1db",
            "3466a755f2a34213abfb8633dc7a6694",
            "617b4e6f8a07430e8dc8076fcfe5bdc5",
            "497379bdb4024c67a19a4f5c1b46f1ec",
            "787b64c1e33346f4a4567c6130ab73c0",
            "0a4a725dda274175bbda4fec14e6c674",
            "8062757d239b40d69243713e30ebde8a",
            "c0d6b5762e18433a81292b2349224e76",
            "3fc5cb6564154ec89fc716548d7d3ce1"
          ]
        },
        "id": "nt4aHbJw4ky8",
        "outputId": "a9b5c300-ffd5-404c-b540-7878cdd6c51b"
      },
      "execution_count": null,
      "outputs": [
        {
          "output_type": "stream",
          "name": "stderr",
          "text": [
            "\rOptimizing chunk 2:   0%|          | 0/11 [00:00<?, ?it/s][I 2025-05-01 09:08:09,159] A new study created in memory with name: no-name-33d2701a-8508-422b-a6fd-d55b0b1efd2d\n"
          ]
        },
        {
          "output_type": "stream",
          "name": "stdout",
          "text": [
            "\n",
            "🔍 Optimizing for KLAC.O...\n"
          ]
        },
        {
          "output_type": "display_data",
          "data": {
            "text/plain": [
              "  0%|          | 0/30 [00:00<?, ?it/s]"
            ],
            "application/vnd.jupyter.widget-view+json": {
              "version_major": 2,
              "version_minor": 0,
              "model_id": "c2c3854977df4072ae0d79255b23ff74"
            }
          },
          "metadata": {}
        },
        {
          "output_type": "stream",
          "name": "stdout",
          "text": [
            "\u001b[1m6/6\u001b[0m \u001b[32m━━━━━━━━━━━━━━━━━━━━\u001b[0m\u001b[37m\u001b[0m \u001b[1m0s\u001b[0m 16ms/step\n"
          ]
        },
        {
          "output_type": "stream",
          "name": "stderr",
          "text": [
            "Optimizing chunk 2:   0%|          | 0/11 [00:14<?, ?it/s]"
          ]
        },
        {
          "output_type": "stream",
          "name": "stdout",
          "text": [
            "[I 2025-05-01 09:08:23,527] Trial 0 finished with value: 0.06569515828225314 and parameters: {'lookback': 46, 'units': 90, 'dropout': 0.22718257633087818, 'batch_size': 64, 'epochs': 23}. Best is trial 0 with value: 0.06569515828225314.\n",
            "\u001b[1m7/7\u001b[0m \u001b[32m━━━━━━━━━━━━━━━━━━━━\u001b[0m\u001b[37m\u001b[0m \u001b[1m0s\u001b[0m 32ms/step\n"
          ]
        },
        {
          "output_type": "stream",
          "name": "stderr",
          "text": [
            "Optimizing chunk 2:   0%|          | 0/11 [00:21<?, ?it/s]"
          ]
        },
        {
          "output_type": "stream",
          "name": "stdout",
          "text": [
            "[I 2025-05-01 09:08:30,921] Trial 1 finished with value: 0.04765248171150058 and parameters: {'lookback': 11, 'units': 43, 'dropout': 0.3143482314047177, 'batch_size': 32, 'epochs': 31}. Best is trial 1 with value: 0.04765248171150058.\n",
            "\u001b[1m7/7\u001b[0m \u001b[32m━━━━━━━━━━━━━━━━━━━━\u001b[0m\u001b[37m\u001b[0m \u001b[1m0s\u001b[0m 39ms/step\n"
          ]
        },
        {
          "output_type": "stream",
          "name": "stderr",
          "text": [
            "Optimizing chunk 2:   0%|          | 0/11 [00:31<?, ?it/s]"
          ]
        },
        {
          "output_type": "stream",
          "name": "stdout",
          "text": [
            "[I 2025-05-01 09:08:40,188] Trial 2 finished with value: 0.05201503401246366 and parameters: {'lookback': 16, 'units': 83, 'dropout': 0.39379109326338413, 'batch_size': 64, 'epochs': 25}. Best is trial 1 with value: 0.04765248171150058.\n"
          ]
        },
        {
          "output_type": "stream",
          "name": "stderr",
          "text": [
            "WARNING:tensorflow:5 out of the last 15 calls to <function TensorFlowTrainer.make_predict_function.<locals>.one_step_on_data_distributed at 0x79832a812de0> triggered tf.function retracing. Tracing is expensive and the excessive number of tracings could be due to (1) creating @tf.function repeatedly in a loop, (2) passing tensors with different shapes, (3) passing Python objects instead of tensors. For (1), please define your @tf.function outside of the loop. For (2), @tf.function has reduce_retracing=True option that can avoid unnecessary retracing. For (3), please refer to https://www.tensorflow.org/guide/function#controlling_retracing and https://www.tensorflow.org/api_docs/python/tf/function for  more details.\n"
          ]
        },
        {
          "output_type": "stream",
          "name": "stdout",
          "text": [
            "\u001b[1m7/7\u001b[0m \u001b[32m━━━━━━━━━━━━━━━━━━━━\u001b[0m\u001b[37m\u001b[0m \u001b[1m0s\u001b[0m 34ms/step\n"
          ]
        },
        {
          "output_type": "stream",
          "name": "stderr",
          "text": [
            "Optimizing chunk 2:   0%|          | 0/11 [00:43<?, ?it/s]"
          ]
        },
        {
          "output_type": "stream",
          "name": "stdout",
          "text": [
            "[I 2025-05-01 09:08:53,095] Trial 3 finished with value: 0.045588809425427236 and parameters: {'lookback': 11, 'units': 71, 'dropout': 0.13957100914012896, 'batch_size': 32, 'epochs': 29}. Best is trial 3 with value: 0.045588809425427236.\n"
          ]
        },
        {
          "output_type": "stream",
          "name": "stderr",
          "text": [
            "WARNING:tensorflow:5 out of the last 15 calls to <function TensorFlowTrainer.make_predict_function.<locals>.one_step_on_data_distributed at 0x798329d31940> triggered tf.function retracing. Tracing is expensive and the excessive number of tracings could be due to (1) creating @tf.function repeatedly in a loop, (2) passing tensors with different shapes, (3) passing Python objects instead of tensors. For (1), please define your @tf.function outside of the loop. For (2), @tf.function has reduce_retracing=True option that can avoid unnecessary retracing. For (3), please refer to https://www.tensorflow.org/guide/function#controlling_retracing and https://www.tensorflow.org/api_docs/python/tf/function for  more details.\n"
          ]
        },
        {
          "output_type": "stream",
          "name": "stdout",
          "text": [
            "\u001b[1m7/7\u001b[0m \u001b[32m━━━━━━━━━━━━━━━━━━━━\u001b[0m\u001b[37m\u001b[0m \u001b[1m0s\u001b[0m 43ms/step\n"
          ]
        },
        {
          "output_type": "stream",
          "name": "stderr",
          "text": [
            "Optimizing chunk 2:   0%|          | 0/11 [01:01<?, ?it/s]"
          ]
        },
        {
          "output_type": "stream",
          "name": "stdout",
          "text": [
            "[I 2025-05-01 09:09:10,834] Trial 4 finished with value: 0.053755862432721555 and parameters: {'lookback': 16, 'units': 253, 'dropout': 0.43824434352364694, 'batch_size': 32, 'epochs': 29}. Best is trial 3 with value: 0.045588809425427236.\n",
            "\u001b[1m7/7\u001b[0m \u001b[32m━━━━━━━━━━━━━━━━━━━━\u001b[0m\u001b[37m\u001b[0m \u001b[1m0s\u001b[0m 41ms/step\n"
          ]
        },
        {
          "output_type": "stream",
          "name": "stderr",
          "text": [
            "Optimizing chunk 2:   0%|          | 0/11 [01:13<?, ?it/s]"
          ]
        },
        {
          "output_type": "stream",
          "name": "stdout",
          "text": [
            "[I 2025-05-01 09:09:22,447] Trial 5 finished with value: 0.0566256726861871 and parameters: {'lookback': 11, 'units': 230, 'dropout': 0.21948108274811343, 'batch_size': 32, 'epochs': 30}. Best is trial 3 with value: 0.045588809425427236.\n",
            "\u001b[1m7/7\u001b[0m \u001b[32m━━━━━━━━━━━━━━━━━━━━\u001b[0m\u001b[37m\u001b[0m \u001b[1m0s\u001b[0m 36ms/step\n"
          ]
        },
        {
          "output_type": "stream",
          "name": "stderr",
          "text": [
            "Optimizing chunk 2:   0%|          | 0/11 [01:23<?, ?it/s]"
          ]
        },
        {
          "output_type": "stream",
          "name": "stdout",
          "text": [
            "[I 2025-05-01 09:09:32,591] Trial 6 finished with value: 0.05355599848587124 and parameters: {'lookback': 31, 'units': 81, 'dropout': 0.32001784337302286, 'batch_size': 64, 'epochs': 24}. Best is trial 3 with value: 0.045588809425427236.\n",
            "\u001b[1m7/7\u001b[0m \u001b[32m━━━━━━━━━━━━━━━━━━━━\u001b[0m\u001b[37m\u001b[0m \u001b[1m1s\u001b[0m 64ms/step\n"
          ]
        },
        {
          "output_type": "stream",
          "name": "stderr",
          "text": [
            "Optimizing chunk 2:   0%|          | 0/11 [01:40<?, ?it/s]"
          ]
        },
        {
          "output_type": "stream",
          "name": "stdout",
          "text": [
            "[I 2025-05-01 09:09:49,896] Trial 7 finished with value: 0.05413874138394892 and parameters: {'lookback': 26, 'units': 174, 'dropout': 0.12732226140126923, 'batch_size': 32, 'epochs': 22}. Best is trial 3 with value: 0.045588809425427236.\n",
            "\u001b[1m7/7\u001b[0m \u001b[32m━━━━━━━━━━━━━━━━━━━━\u001b[0m\u001b[37m\u001b[0m \u001b[1m0s\u001b[0m 40ms/step\n"
          ]
        },
        {
          "output_type": "stream",
          "name": "stderr",
          "text": [
            "Optimizing chunk 2:   0%|          | 0/11 [02:08<?, ?it/s]"
          ]
        },
        {
          "output_type": "stream",
          "name": "stdout",
          "text": [
            "[I 2025-05-01 09:10:17,809] Trial 8 finished with value: 0.04885316829338635 and parameters: {'lookback': 21, 'units': 175, 'dropout': 0.29480899710554576, 'batch_size': 32, 'epochs': 31}. Best is trial 3 with value: 0.045588809425427236.\n",
            "\u001b[1m7/7\u001b[0m \u001b[32m━━━━━━━━━━━━━━━━━━━━\u001b[0m\u001b[37m\u001b[0m \u001b[1m0s\u001b[0m 39ms/step\n"
          ]
        },
        {
          "output_type": "stream",
          "name": "stderr",
          "text": [
            "Optimizing chunk 2:   0%|          | 0/11 [02:27<?, ?it/s]"
          ]
        },
        {
          "output_type": "stream",
          "name": "stdout",
          "text": [
            "[I 2025-05-01 09:10:36,318] Trial 9 finished with value: 0.05385375649121161 and parameters: {'lookback': 26, 'units': 127, 'dropout': 0.22495973321533336, 'batch_size': 64, 'epochs': 29}. Best is trial 3 with value: 0.045588809425427236.\n",
            "\u001b[1m7/7\u001b[0m \u001b[32m━━━━━━━━━━━━━━━━━━━━\u001b[0m\u001b[37m\u001b[0m \u001b[1m0s\u001b[0m 36ms/step\n"
          ]
        },
        {
          "output_type": "stream",
          "name": "stderr",
          "text": [
            "Optimizing chunk 2:   0%|          | 0/11 [02:36<?, ?it/s]"
          ]
        },
        {
          "output_type": "stream",
          "name": "stdout",
          "text": [
            "[I 2025-05-01 09:10:45,309] Trial 10 finished with value: 0.037435055312096205 and parameters: {'lookback': 1, 'units': 51, 'dropout': 0.11977261052162916, 'batch_size': 32, 'epochs': 35}. Best is trial 10 with value: 0.037435055312096205.\n",
            "\u001b[1m7/7\u001b[0m \u001b[32m━━━━━━━━━━━━━━━━━━━━\u001b[0m\u001b[37m\u001b[0m \u001b[1m0s\u001b[0m 33ms/step\n"
          ]
        },
        {
          "output_type": "stream",
          "name": "stderr",
          "text": [
            "Optimizing chunk 2:   0%|          | 0/11 [02:48<?, ?it/s]"
          ]
        },
        {
          "output_type": "stream",
          "name": "stdout",
          "text": [
            "[I 2025-05-01 09:10:57,738] Trial 11 finished with value: 0.037460040927124454 and parameters: {'lookback': 1, 'units': 32, 'dropout': 0.11227304651802476, 'batch_size': 32, 'epochs': 35}. Best is trial 10 with value: 0.037435055312096205.\n",
            "\u001b[1m7/7\u001b[0m \u001b[32m━━━━━━━━━━━━━━━━━━━━\u001b[0m\u001b[37m\u001b[0m \u001b[1m0s\u001b[0m 34ms/step\n"
          ]
        },
        {
          "output_type": "stream",
          "name": "stderr",
          "text": [
            "Optimizing chunk 2:   0%|          | 0/11 [02:58<?, ?it/s]"
          ]
        },
        {
          "output_type": "stream",
          "name": "stdout",
          "text": [
            "[I 2025-05-01 09:11:07,554] Trial 12 finished with value: 0.03797826068155372 and parameters: {'lookback': 1, 'units': 34, 'dropout': 0.11822690505557965, 'batch_size': 32, 'epochs': 35}. Best is trial 10 with value: 0.037435055312096205.\n",
            "\u001b[1m7/7\u001b[0m \u001b[32m━━━━━━━━━━━━━━━━━━━━\u001b[0m\u001b[37m\u001b[0m \u001b[1m0s\u001b[0m 32ms/step\n"
          ]
        },
        {
          "output_type": "stream",
          "name": "stderr",
          "text": [
            "Optimizing chunk 2:   0%|          | 0/11 [03:05<?, ?it/s]"
          ]
        },
        {
          "output_type": "stream",
          "name": "stdout",
          "text": [
            "[I 2025-05-01 09:11:14,179] Trial 13 finished with value: 0.03657290120013913 and parameters: {'lookback': 1, 'units': 124, 'dropout': 0.17917272913326238, 'batch_size': 32, 'epochs': 35}. Best is trial 13 with value: 0.03657290120013913.\n",
            "\u001b[1m6/6\u001b[0m \u001b[32m━━━━━━━━━━━━━━━━━━━━\u001b[0m\u001b[37m\u001b[0m \u001b[1m1s\u001b[0m 59ms/step\n"
          ]
        },
        {
          "output_type": "stream",
          "name": "stderr",
          "text": [
            "Optimizing chunk 2:   0%|          | 0/11 [04:12<?, ?it/s]"
          ]
        },
        {
          "output_type": "stream",
          "name": "stdout",
          "text": [
            "[I 2025-05-01 09:12:21,443] Trial 14 finished with value: 0.04744986690696457 and parameters: {'lookback': 56, 'units': 128, 'dropout': 0.18096832331788332, 'batch_size': 32, 'epochs': 33}. Best is trial 13 with value: 0.03657290120013913.\n",
            "\u001b[1m7/7\u001b[0m \u001b[32m━━━━━━━━━━━━━━━━━━━━\u001b[0m\u001b[37m\u001b[0m \u001b[1m1s\u001b[0m 57ms/step\n"
          ]
        },
        {
          "output_type": "stream",
          "name": "stderr",
          "text": [
            "Optimizing chunk 2:   0%|          | 0/11 [04:33<?, ?it/s]"
          ]
        },
        {
          "output_type": "stream",
          "name": "stdout",
          "text": [
            "[I 2025-05-01 09:12:42,795] Trial 15 finished with value: 0.0514778629144588 and parameters: {'lookback': 36, 'units': 113, 'dropout': 0.17589643800910337, 'batch_size': 32, 'epochs': 20}. Best is trial 13 with value: 0.03657290120013913.\n",
            "\u001b[1m7/7\u001b[0m \u001b[32m━━━━━━━━━━━━━━━━━━━━\u001b[0m\u001b[37m\u001b[0m \u001b[1m0s\u001b[0m 31ms/step\n"
          ]
        },
        {
          "output_type": "stream",
          "name": "stderr",
          "text": [
            "Optimizing chunk 2:   0%|          | 0/11 [04:40<?, ?it/s]"
          ]
        },
        {
          "output_type": "stream",
          "name": "stdout",
          "text": [
            "[I 2025-05-01 09:12:49,516] Trial 16 finished with value: 0.03662847280866744 and parameters: {'lookback': 1, 'units': 174, 'dropout': 0.26743094602227435, 'batch_size': 32, 'epochs': 33}. Best is trial 13 with value: 0.03657290120013913.\n",
            "\u001b[1m7/7\u001b[0m \u001b[32m━━━━━━━━━━━━━━━━━━━━\u001b[0m\u001b[37m\u001b[0m \u001b[1m1s\u001b[0m 57ms/step\n"
          ]
        },
        {
          "output_type": "stream",
          "name": "stderr",
          "text": [
            "Optimizing chunk 2:   0%|          | 0/11 [04:58<?, ?it/s]"
          ]
        },
        {
          "output_type": "stream",
          "name": "stdout",
          "text": [
            "[I 2025-05-01 09:13:07,447] Trial 17 finished with value: 0.04836929461059079 and parameters: {'lookback': 6, 'units': 173, 'dropout': 0.27899664402489716, 'batch_size': 32, 'epochs': 33}. Best is trial 13 with value: 0.03657290120013913.\n",
            "\u001b[1m7/7\u001b[0m \u001b[32m━━━━━━━━━━━━━━━━━━━━\u001b[0m\u001b[37m\u001b[0m \u001b[1m1s\u001b[0m 50ms/step\n"
          ]
        },
        {
          "output_type": "stream",
          "name": "stderr",
          "text": [
            "Optimizing chunk 2:   0%|          | 0/11 [05:22<?, ?it/s]"
          ]
        },
        {
          "output_type": "stream",
          "name": "stdout",
          "text": [
            "[I 2025-05-01 09:13:31,655] Trial 18 finished with value: 0.05852988846441246 and parameters: {'lookback': 41, 'units': 202, 'dropout': 0.36859261298250406, 'batch_size': 64, 'epochs': 26}. Best is trial 13 with value: 0.03657290120013913.\n",
            "\u001b[1m7/7\u001b[0m \u001b[32m━━━━━━━━━━━━━━━━━━━━\u001b[0m\u001b[37m\u001b[0m \u001b[1m0s\u001b[0m 37ms/step\n"
          ]
        },
        {
          "output_type": "stream",
          "name": "stderr",
          "text": [
            "Optimizing chunk 2:   0%|          | 0/11 [05:33<?, ?it/s]"
          ]
        },
        {
          "output_type": "stream",
          "name": "stdout",
          "text": [
            "[I 2025-05-01 09:13:42,897] Trial 19 finished with value: 0.047284433769376716 and parameters: {'lookback': 6, 'units': 154, 'dropout': 0.4920763556082953, 'batch_size': 32, 'epochs': 33}. Best is trial 13 with value: 0.03657290120013913.\n",
            "\u001b[1m7/7\u001b[0m \u001b[32m━━━━━━━━━━━━━━━━━━━━\u001b[0m\u001b[37m\u001b[0m \u001b[1m0s\u001b[0m 45ms/step\n"
          ]
        },
        {
          "output_type": "stream",
          "name": "stderr",
          "text": [
            "Optimizing chunk 2:   0%|          | 0/11 [06:06<?, ?it/s]"
          ]
        },
        {
          "output_type": "stream",
          "name": "stdout",
          "text": [
            "[I 2025-05-01 09:14:15,942] Trial 20 finished with value: 0.04818516790706746 and parameters: {'lookback': 21, 'units': 204, 'dropout': 0.2678035918865336, 'batch_size': 32, 'epochs': 27}. Best is trial 13 with value: 0.03657290120013913.\n",
            "\u001b[1m7/7\u001b[0m \u001b[32m━━━━━━━━━━━━━━━━━━━━\u001b[0m\u001b[37m\u001b[0m \u001b[1m1s\u001b[0m 48ms/step\n"
          ]
        },
        {
          "output_type": "stream",
          "name": "stderr",
          "text": [
            "Optimizing chunk 2:   0%|          | 0/11 [06:14<?, ?it/s]"
          ]
        },
        {
          "output_type": "stream",
          "name": "stdout",
          "text": [
            "[I 2025-05-01 09:14:23,465] Trial 21 finished with value: 0.03648535758015576 and parameters: {'lookback': 1, 'units': 104, 'dropout': 0.17499349239579592, 'batch_size': 32, 'epochs': 35}. Best is trial 21 with value: 0.03648535758015576.\n",
            "\u001b[1m7/7\u001b[0m \u001b[32m━━━━━━━━━━━━━━━━━━━━\u001b[0m\u001b[37m\u001b[0m \u001b[1m0s\u001b[0m 40ms/step\n"
          ]
        },
        {
          "output_type": "stream",
          "name": "stderr",
          "text": [
            "Optimizing chunk 2:   0%|          | 0/11 [06:23<?, ?it/s]"
          ]
        },
        {
          "output_type": "stream",
          "name": "stdout",
          "text": [
            "[I 2025-05-01 09:14:32,684] Trial 22 finished with value: 0.04933535369522448 and parameters: {'lookback': 6, 'units': 107, 'dropout': 0.17833611550695966, 'batch_size': 32, 'epochs': 33}. Best is trial 21 with value: 0.03648535758015576.\n",
            "\u001b[1m7/7\u001b[0m \u001b[32m━━━━━━━━━━━━━━━━━━━━\u001b[0m\u001b[37m\u001b[0m \u001b[1m0s\u001b[0m 31ms/step\n"
          ]
        },
        {
          "output_type": "stream",
          "name": "stderr",
          "text": [
            "Optimizing chunk 2:   0%|          | 0/11 [06:33<?, ?it/s]"
          ]
        },
        {
          "output_type": "stream",
          "name": "stdout",
          "text": [
            "[I 2025-05-01 09:14:42,248] Trial 23 finished with value: 0.036646986394882154 and parameters: {'lookback': 1, 'units': 147, 'dropout': 0.24547940615581196, 'batch_size': 32, 'epochs': 34}. Best is trial 21 with value: 0.03648535758015576.\n",
            "\u001b[1m7/7\u001b[0m \u001b[32m━━━━━━━━━━━━━━━━━━━━\u001b[0m\u001b[37m\u001b[0m \u001b[1m1s\u001b[0m 171ms/step\n"
          ]
        },
        {
          "output_type": "stream",
          "name": "stderr",
          "text": [
            "Optimizing chunk 2:   0%|          | 0/11 [06:43<?, ?it/s]"
          ]
        },
        {
          "output_type": "stream",
          "name": "stdout",
          "text": [
            "[I 2025-05-01 09:14:52,367] Trial 24 finished with value: 0.049713775864486213 and parameters: {'lookback': 6, 'units': 127, 'dropout': 0.16985802699673902, 'batch_size': 32, 'epochs': 32}. Best is trial 21 with value: 0.03648535758015576.\n",
            "\u001b[1m7/7\u001b[0m \u001b[32m━━━━━━━━━━━━━━━━━━━━\u001b[0m\u001b[37m\u001b[0m \u001b[1m1s\u001b[0m 53ms/step\n"
          ]
        },
        {
          "output_type": "stream",
          "name": "stderr",
          "text": [
            "Optimizing chunk 2:   0%|          | 0/11 [07:10<?, ?it/s]"
          ]
        },
        {
          "output_type": "stream",
          "name": "stdout",
          "text": [
            "[I 2025-05-01 09:15:19,461] Trial 25 finished with value: 0.05112765235579932 and parameters: {'lookback': 16, 'units': 156, 'dropout': 0.15694733067062303, 'batch_size': 32, 'epochs': 34}. Best is trial 21 with value: 0.03648535758015576.\n",
            "\u001b[1m7/7\u001b[0m \u001b[32m━━━━━━━━━━━━━━━━━━━━\u001b[0m\u001b[37m\u001b[0m \u001b[1m0s\u001b[0m 40ms/step\n"
          ]
        },
        {
          "output_type": "stream",
          "name": "stderr",
          "text": [
            "Optimizing chunk 2:   0%|          | 0/11 [07:20<?, ?it/s]"
          ]
        },
        {
          "output_type": "stream",
          "name": "stdout",
          "text": [
            "[I 2025-05-01 09:15:29,341] Trial 26 finished with value: 0.03723437442348042 and parameters: {'lookback': 1, 'units': 196, 'dropout': 0.2089846471702524, 'batch_size': 64, 'epochs': 31}. Best is trial 21 with value: 0.03648535758015576.\n",
            "\u001b[1m7/7\u001b[0m \u001b[32m━━━━━━━━━━━━━━━━━━━━\u001b[0m\u001b[37m\u001b[0m \u001b[1m1s\u001b[0m 52ms/step\n"
          ]
        },
        {
          "output_type": "stream",
          "name": "stderr",
          "text": [
            "Optimizing chunk 2:   0%|          | 0/11 [07:32<?, ?it/s]"
          ]
        },
        {
          "output_type": "stream",
          "name": "stdout",
          "text": [
            "[I 2025-05-01 09:15:41,419] Trial 27 finished with value: 0.057072987592284026 and parameters: {'lookback': 11, 'units': 96, 'dropout': 0.33811888959506853, 'batch_size': 32, 'epochs': 35}. Best is trial 21 with value: 0.03648535758015576.\n",
            "\u001b[1m7/7\u001b[0m \u001b[32m━━━━━━━━━━━━━━━━━━━━\u001b[0m\u001b[37m\u001b[0m \u001b[1m1s\u001b[0m 55ms/step\n"
          ]
        },
        {
          "output_type": "stream",
          "name": "stderr",
          "text": [
            "Optimizing chunk 2:   0%|          | 0/11 [07:41<?, ?it/s]"
          ]
        },
        {
          "output_type": "stream",
          "name": "stdout",
          "text": [
            "[I 2025-05-01 09:15:50,533] Trial 28 finished with value: 0.051184426938497875 and parameters: {'lookback': 6, 'units': 65, 'dropout': 0.26318068486957424, 'batch_size': 32, 'epochs': 32}. Best is trial 21 with value: 0.03648535758015576.\n",
            "\u001b[1m6/6\u001b[0m \u001b[32m━━━━━━━━━━━━━━━━━━━━\u001b[0m\u001b[37m\u001b[0m \u001b[1m0s\u001b[0m 53ms/step\n"
          ]
        },
        {
          "output_type": "stream",
          "name": "stderr",
          "text": [
            "Optimizing chunk 2:   9%|▉         | 1/11 [08:09<1:21:32, 489.23s/it][I 2025-05-01 09:16:18,384] A new study created in memory with name: no-name-e95d6f36-2d6a-475c-90b5-41a6dd03e828\n"
          ]
        },
        {
          "output_type": "stream",
          "name": "stdout",
          "text": [
            "[I 2025-05-01 09:16:18,354] Trial 29 finished with value: 0.051272413375177725 and parameters: {'lookback': 56, 'units': 108, 'dropout': 0.20695012925078152, 'batch_size': 64, 'epochs': 34}. Best is trial 21 with value: 0.03648535758015576.\n",
            "✅ Done: KLAC.O — Best Params: {'lookback': 1, 'units': 104, 'dropout': 0.17499349239579592, 'batch_size': 32, 'epochs': 35}\n",
            "\n",
            "🔍 Optimizing for LRCX.O...\n"
          ]
        },
        {
          "output_type": "display_data",
          "data": {
            "text/plain": [
              "  0%|          | 0/30 [00:00<?, ?it/s]"
            ],
            "application/vnd.jupyter.widget-view+json": {
              "version_major": 2,
              "version_minor": 0,
              "model_id": "1f90a3fd3bf8484298b6cbf4eeb85127"
            }
          },
          "metadata": {}
        },
        {
          "output_type": "stream",
          "name": "stdout",
          "text": [
            "\u001b[1m7/7\u001b[0m \u001b[32m━━━━━━━━━━━━━━━━━━━━\u001b[0m\u001b[37m\u001b[0m \u001b[1m0s\u001b[0m 31ms/step\n"
          ]
        },
        {
          "output_type": "stream",
          "name": "stderr",
          "text": [
            "Optimizing chunk 2:   9%|▉         | 1/11 [08:20<1:21:32, 489.23s/it]"
          ]
        },
        {
          "output_type": "stream",
          "name": "stdout",
          "text": [
            "[I 2025-05-01 09:16:30,011] Trial 0 finished with value: 0.031030089377368706 and parameters: {'lookback': 1, 'units': 82, 'dropout': 0.31592246737528096, 'batch_size': 64, 'epochs': 34}. Best is trial 0 with value: 0.031030089377368706.\n",
            "\u001b[1m6/6\u001b[0m \u001b[32m━━━━━━━━━━━━━━━━━━━━\u001b[0m\u001b[37m\u001b[0m \u001b[1m0s\u001b[0m 48ms/step\n"
          ]
        },
        {
          "output_type": "stream",
          "name": "stderr",
          "text": [
            "Optimizing chunk 2:   9%|▉         | 1/11 [08:35<1:21:32, 489.23s/it]"
          ]
        },
        {
          "output_type": "stream",
          "name": "stdout",
          "text": [
            "[I 2025-05-01 09:16:44,764] Trial 1 finished with value: 0.0538046391497144 and parameters: {'lookback': 51, 'units': 93, 'dropout': 0.45802957678625744, 'batch_size': 32, 'epochs': 27}. Best is trial 0 with value: 0.031030089377368706.\n",
            "\u001b[1m6/6\u001b[0m \u001b[32m━━━━━━━━━━━━━━━━━━━━\u001b[0m\u001b[37m\u001b[0m \u001b[1m1s\u001b[0m 67ms/step\n"
          ]
        },
        {
          "output_type": "stream",
          "name": "stderr",
          "text": [
            "Optimizing chunk 2:   9%|▉         | 1/11 [09:07<1:21:32, 489.23s/it]"
          ]
        },
        {
          "output_type": "stream",
          "name": "stdout",
          "text": [
            "[I 2025-05-01 09:17:16,638] Trial 2 finished with value: 0.045013000823402344 and parameters: {'lookback': 51, 'units': 62, 'dropout': 0.14870222197774524, 'batch_size': 32, 'epochs': 26}. Best is trial 0 with value: 0.031030089377368706.\n",
            "\u001b[1m7/7\u001b[0m \u001b[32m━━━━━━━━━━━━━━━━━━━━\u001b[0m\u001b[37m\u001b[0m \u001b[1m1s\u001b[0m 48ms/step\n"
          ]
        },
        {
          "output_type": "stream",
          "name": "stderr",
          "text": [
            "Optimizing chunk 2:   9%|▉         | 1/11 [09:24<1:21:32, 489.23s/it]"
          ]
        },
        {
          "output_type": "stream",
          "name": "stdout",
          "text": [
            "[I 2025-05-01 09:17:33,405] Trial 3 finished with value: 0.04454409443842781 and parameters: {'lookback': 6, 'units': 217, 'dropout': 0.12206198420790555, 'batch_size': 32, 'epochs': 24}. Best is trial 0 with value: 0.031030089377368706.\n",
            "\u001b[1m7/7\u001b[0m \u001b[32m━━━━━━━━━━━━━━━━━━━━\u001b[0m\u001b[37m\u001b[0m \u001b[1m1s\u001b[0m 71ms/step\n"
          ]
        },
        {
          "output_type": "stream",
          "name": "stderr",
          "text": [
            "Optimizing chunk 2:   9%|▉         | 1/11 [09:31<1:21:32, 489.23s/it]"
          ]
        },
        {
          "output_type": "stream",
          "name": "stdout",
          "text": [
            "[I 2025-05-01 09:17:41,043] Trial 4 finished with value: 0.05914848652237428 and parameters: {'lookback': 16, 'units': 67, 'dropout': 0.2197266822599131, 'batch_size': 64, 'epochs': 35}. Best is trial 0 with value: 0.031030089377368706.\n",
            "\u001b[1m7/7\u001b[0m \u001b[32m━━━━━━━━━━━━━━━━━━━━\u001b[0m\u001b[37m\u001b[0m \u001b[1m1s\u001b[0m 46ms/step\n"
          ]
        },
        {
          "output_type": "stream",
          "name": "stderr",
          "text": [
            "Optimizing chunk 2:   9%|▉         | 1/11 [10:17<1:21:32, 489.23s/it]"
          ]
        },
        {
          "output_type": "stream",
          "name": "stdout",
          "text": [
            "[I 2025-05-01 09:18:26,856] Trial 5 finished with value: 0.04153304081729825 and parameters: {'lookback': 16, 'units': 256, 'dropout': 0.14393020213722718, 'batch_size': 32, 'epochs': 24}. Best is trial 0 with value: 0.031030089377368706.\n",
            "\u001b[1m7/7\u001b[0m \u001b[32m━━━━━━━━━━━━━━━━━━━━\u001b[0m\u001b[37m\u001b[0m \u001b[1m1s\u001b[0m 50ms/step\n"
          ]
        },
        {
          "output_type": "stream",
          "name": "stderr",
          "text": [
            "Optimizing chunk 2:   9%|▉         | 1/11 [10:35<1:21:32, 489.23s/it]"
          ]
        },
        {
          "output_type": "stream",
          "name": "stdout",
          "text": [
            "[I 2025-05-01 09:18:44,975] Trial 6 finished with value: 0.044475009449929735 and parameters: {'lookback': 16, 'units': 45, 'dropout': 0.3164744878176651, 'batch_size': 32, 'epochs': 28}. Best is trial 0 with value: 0.031030089377368706.\n",
            "\u001b[1m7/7\u001b[0m \u001b[32m━━━━━━━━━━━━━━━━━━━━\u001b[0m\u001b[37m\u001b[0m \u001b[1m1s\u001b[0m 47ms/step\n"
          ]
        },
        {
          "output_type": "stream",
          "name": "stderr",
          "text": [
            "Optimizing chunk 2:   9%|▉         | 1/11 [11:04<1:21:32, 489.23s/it]"
          ]
        },
        {
          "output_type": "stream",
          "name": "stdout",
          "text": [
            "[I 2025-05-01 09:19:13,385] Trial 7 finished with value: 0.04348898007419301 and parameters: {'lookback': 26, 'units': 104, 'dropout': 0.16560355689534478, 'batch_size': 64, 'epochs': 34}. Best is trial 0 with value: 0.031030089377368706.\n",
            "\u001b[1m7/7\u001b[0m \u001b[32m━━━━━━━━━━━━━━━━━━━━\u001b[0m\u001b[37m\u001b[0m \u001b[1m0s\u001b[0m 40ms/step\n"
          ]
        },
        {
          "output_type": "stream",
          "name": "stderr",
          "text": [
            "Optimizing chunk 2:   9%|▉         | 1/11 [11:17<1:21:32, 489.23s/it]"
          ]
        },
        {
          "output_type": "stream",
          "name": "stdout",
          "text": [
            "[I 2025-05-01 09:19:26,523] Trial 8 finished with value: 0.03234011898528883 and parameters: {'lookback': 1, 'units': 133, 'dropout': 0.21429756260014352, 'batch_size': 32, 'epochs': 34}. Best is trial 0 with value: 0.031030089377368706.\n",
            "\u001b[1m6/6\u001b[0m \u001b[32m━━━━━━━━━━━━━━━━━━━━\u001b[0m\u001b[37m\u001b[0m \u001b[1m1s\u001b[0m 91ms/step\n"
          ]
        },
        {
          "output_type": "stream",
          "name": "stderr",
          "text": [
            "Optimizing chunk 2:   9%|▉         | 1/11 [13:04<1:21:32, 489.23s/it]"
          ]
        },
        {
          "output_type": "stream",
          "name": "stdout",
          "text": [
            "[I 2025-05-01 09:21:13,843] Trial 9 finished with value: 0.043827796510138885 and parameters: {'lookback': 56, 'units': 253, 'dropout': 0.25477445053993164, 'batch_size': 64, 'epochs': 22}. Best is trial 0 with value: 0.031030089377368706.\n",
            "\u001b[1m7/7\u001b[0m \u001b[32m━━━━━━━━━━━━━━━━━━━━\u001b[0m\u001b[37m\u001b[0m \u001b[1m1s\u001b[0m 52ms/step\n"
          ]
        },
        {
          "output_type": "stream",
          "name": "stderr",
          "text": [
            "Optimizing chunk 2:   9%|▉         | 1/11 [13:49<1:21:32, 489.23s/it]"
          ]
        },
        {
          "output_type": "stream",
          "name": "stdout",
          "text": [
            "[I 2025-05-01 09:21:58,414] Trial 10 finished with value: 0.04427397071662883 and parameters: {'lookback': 36, 'units': 173, 'dropout': 0.37323597508169143, 'batch_size': 64, 'epochs': 31}. Best is trial 0 with value: 0.031030089377368706.\n",
            "\u001b[1m7/7\u001b[0m \u001b[32m━━━━━━━━━━━━━━━━━━━━\u001b[0m\u001b[37m\u001b[0m \u001b[1m0s\u001b[0m 35ms/step\n"
          ]
        },
        {
          "output_type": "stream",
          "name": "stderr",
          "text": [
            "Optimizing chunk 2:   9%|▉         | 1/11 [13:58<1:21:32, 489.23s/it]"
          ]
        },
        {
          "output_type": "stream",
          "name": "stdout",
          "text": [
            "[I 2025-05-01 09:22:07,977] Trial 11 finished with value: 0.03161994353958882 and parameters: {'lookback': 1, 'units': 142, 'dropout': 0.32162940293688286, 'batch_size': 64, 'epochs': 32}. Best is trial 0 with value: 0.031030089377368706.\n",
            "\u001b[1m7/7\u001b[0m \u001b[32m━━━━━━━━━━━━━━━━━━━━\u001b[0m\u001b[37m\u001b[0m \u001b[1m0s\u001b[0m 32ms/step\n"
          ]
        },
        {
          "output_type": "stream",
          "name": "stderr",
          "text": [
            "Optimizing chunk 2:   9%|▉         | 1/11 [14:08<1:21:32, 489.23s/it]"
          ]
        },
        {
          "output_type": "stream",
          "name": "stdout",
          "text": [
            "[I 2025-05-01 09:22:17,733] Trial 12 finished with value: 0.03205866227794743 and parameters: {'lookback': 1, 'units': 158, 'dropout': 0.3641735289036, 'batch_size': 64, 'epochs': 31}. Best is trial 0 with value: 0.031030089377368706.\n",
            "\u001b[1m7/7\u001b[0m \u001b[32m━━━━━━━━━━━━━━━━━━━━\u001b[0m\u001b[37m\u001b[0m \u001b[1m0s\u001b[0m 34ms/step\n"
          ]
        },
        {
          "output_type": "stream",
          "name": "stderr",
          "text": [
            "Optimizing chunk 2:   9%|▉         | 1/11 [14:21<1:21:32, 489.23s/it]"
          ]
        },
        {
          "output_type": "stream",
          "name": "stdout",
          "text": [
            "[I 2025-05-01 09:22:31,135] Trial 13 finished with value: 0.05055573019040252 and parameters: {'lookback': 11, 'units': 116, 'dropout': 0.442407348850687, 'batch_size': 64, 'epochs': 31}. Best is trial 0 with value: 0.031030089377368706.\n",
            "\u001b[1m7/7\u001b[0m \u001b[32m━━━━━━━━━━━━━━━━━━━━\u001b[0m\u001b[37m\u001b[0m \u001b[1m1s\u001b[0m 48ms/step\n"
          ]
        },
        {
          "output_type": "stream",
          "name": "stderr",
          "text": [
            "Optimizing chunk 2:   9%|▉         | 1/11 [15:04<1:21:32, 489.23s/it]"
          ]
        },
        {
          "output_type": "stream",
          "name": "stdout",
          "text": [
            "[I 2025-05-01 09:23:13,824] Trial 14 finished with value: 0.04505542208337295 and parameters: {'lookback': 31, 'units': 174, 'dropout': 0.3188052373907051, 'batch_size': 64, 'epochs': 32}. Best is trial 0 with value: 0.031030089377368706.\n",
            "\u001b[1m7/7\u001b[0m \u001b[32m━━━━━━━━━━━━━━━━━━━━\u001b[0m\u001b[37m\u001b[0m \u001b[1m0s\u001b[0m 42ms/step\n"
          ]
        },
        {
          "output_type": "stream",
          "name": "stderr",
          "text": [
            "Optimizing chunk 2:   9%|▉         | 1/11 [15:16<1:21:32, 489.23s/it]"
          ]
        },
        {
          "output_type": "stream",
          "name": "stdout",
          "text": [
            "[I 2025-05-01 09:23:25,539] Trial 15 finished with value: 0.03113567521970006 and parameters: {'lookback': 1, 'units': 200, 'dropout': 0.3856722161236215, 'batch_size': 64, 'epochs': 29}. Best is trial 0 with value: 0.031030089377368706.\n",
            "\u001b[1m7/7\u001b[0m \u001b[32m━━━━━━━━━━━━━━━━━━━━\u001b[0m\u001b[37m\u001b[0m \u001b[1m0s\u001b[0m 47ms/step\n"
          ]
        },
        {
          "output_type": "stream",
          "name": "stderr",
          "text": [
            "Optimizing chunk 2:   9%|▉         | 1/11 [15:38<1:21:32, 489.23s/it]"
          ]
        },
        {
          "output_type": "stream",
          "name": "stdout",
          "text": [
            "[I 2025-05-01 09:23:47,721] Trial 16 finished with value: 0.049542387172136486 and parameters: {'lookback': 26, 'units': 207, 'dropout': 0.39922649650201425, 'batch_size': 64, 'epochs': 29}. Best is trial 0 with value: 0.031030089377368706.\n",
            "\u001b[1m7/7\u001b[0m \u001b[32m━━━━━━━━━━━━━━━━━━━━\u001b[0m\u001b[37m\u001b[0m \u001b[1m0s\u001b[0m 37ms/step\n"
          ]
        },
        {
          "output_type": "stream",
          "name": "stderr",
          "text": [
            "Optimizing chunk 2:   9%|▉         | 1/11 [16:00<1:21:32, 489.23s/it]"
          ]
        },
        {
          "output_type": "stream",
          "name": "stdout",
          "text": [
            "[I 2025-05-01 09:24:09,166] Trial 17 finished with value: 0.044430111581510674 and parameters: {'lookback': 11, 'units': 207, 'dropout': 0.2721629260669612, 'batch_size': 64, 'epochs': 29}. Best is trial 0 with value: 0.031030089377368706.\n",
            "\u001b[1m7/7\u001b[0m \u001b[32m━━━━━━━━━━━━━━━━━━━━\u001b[0m\u001b[37m\u001b[0m \u001b[1m0s\u001b[0m 37ms/step\n"
          ]
        },
        {
          "output_type": "stream",
          "name": "stderr",
          "text": [
            "Optimizing chunk 2:   9%|▉         | 1/11 [16:11<1:21:32, 489.23s/it]"
          ]
        },
        {
          "output_type": "stream",
          "name": "stdout",
          "text": [
            "[I 2025-05-01 09:24:20,249] Trial 18 finished with value: 0.05041075956844542 and parameters: {'lookback': 36, 'units': 79, 'dropout': 0.42254155624597134, 'batch_size': 64, 'epochs': 33}. Best is trial 0 with value: 0.031030089377368706.\n",
            "\u001b[1m7/7\u001b[0m \u001b[32m━━━━━━━━━━━━━━━━━━━━\u001b[0m\u001b[37m\u001b[0m \u001b[1m0s\u001b[0m 31ms/step\n"
          ]
        },
        {
          "output_type": "stream",
          "name": "stderr",
          "text": [
            "Optimizing chunk 2:   9%|▉         | 1/11 [16:17<1:21:32, 489.23s/it]"
          ]
        },
        {
          "output_type": "stream",
          "name": "stdout",
          "text": [
            "[I 2025-05-01 09:24:27,122] Trial 19 finished with value: 0.04544353191039567 and parameters: {'lookback': 6, 'units': 33, 'dropout': 0.4957045461807478, 'batch_size': 64, 'epochs': 20}. Best is trial 0 with value: 0.031030089377368706.\n",
            "\u001b[1m7/7\u001b[0m \u001b[32m━━━━━━━━━━━━━━━━━━━━\u001b[0m\u001b[37m\u001b[0m \u001b[1m0s\u001b[0m 45ms/step\n"
          ]
        },
        {
          "output_type": "stream",
          "name": "stderr",
          "text": [
            "Optimizing chunk 2:   9%|▉         | 1/11 [16:32<1:21:32, 489.23s/it]"
          ]
        },
        {
          "output_type": "stream",
          "name": "stdout",
          "text": [
            "[I 2025-05-01 09:24:42,119] Trial 20 finished with value: 0.05349258788289629 and parameters: {'lookback': 21, 'units': 226, 'dropout': 0.3582052181453891, 'batch_size': 64, 'epochs': 25}. Best is trial 0 with value: 0.031030089377368706.\n",
            "\u001b[1m7/7\u001b[0m \u001b[32m━━━━━━━━━━━━━━━━━━━━\u001b[0m\u001b[37m\u001b[0m \u001b[1m0s\u001b[0m 36ms/step\n"
          ]
        },
        {
          "output_type": "stream",
          "name": "stderr",
          "text": [
            "Optimizing chunk 2:   9%|▉         | 1/11 [16:41<1:21:32, 489.23s/it]"
          ]
        },
        {
          "output_type": "stream",
          "name": "stdout",
          "text": [
            "[I 2025-05-01 09:24:50,563] Trial 21 finished with value: 0.031111170060599873 and parameters: {'lookback': 1, 'units': 132, 'dropout': 0.33198909699673107, 'batch_size': 64, 'epochs': 30}. Best is trial 0 with value: 0.031030089377368706.\n",
            "\u001b[1m7/7\u001b[0m \u001b[32m━━━━━━━━━━━━━━━━━━━━\u001b[0m\u001b[37m\u001b[0m \u001b[1m0s\u001b[0m 38ms/step\n"
          ]
        },
        {
          "output_type": "stream",
          "name": "stderr",
          "text": [
            "Optimizing chunk 2:   9%|▉         | 1/11 [16:49<1:21:32, 489.23s/it]"
          ]
        },
        {
          "output_type": "stream",
          "name": "stdout",
          "text": [
            "[I 2025-05-01 09:24:58,201] Trial 22 finished with value: 0.04899480306026113 and parameters: {'lookback': 6, 'units': 122, 'dropout': 0.2745231571735416, 'batch_size': 64, 'epochs': 29}. Best is trial 0 with value: 0.031030089377368706.\n",
            "\u001b[1m7/7\u001b[0m \u001b[32m━━━━━━━━━━━━━━━━━━━━\u001b[0m\u001b[37m\u001b[0m \u001b[1m0s\u001b[0m 33ms/step\n"
          ]
        },
        {
          "output_type": "stream",
          "name": "stderr",
          "text": [
            "Optimizing chunk 2:   9%|▉         | 1/11 [16:53<1:21:32, 489.23s/it]"
          ]
        },
        {
          "output_type": "stream",
          "name": "stdout",
          "text": [
            "[I 2025-05-01 09:25:02,898] Trial 23 finished with value: 0.28152564976732813 and parameters: {'lookback': 1, 'units': 186, 'dropout': 0.3447674064120579, 'batch_size': 64, 'epochs': 30}. Best is trial 0 with value: 0.031030089377368706.\n",
            "\u001b[1m7/7\u001b[0m \u001b[32m━━━━━━━━━━━━━━━━━━━━\u001b[0m\u001b[37m\u001b[0m \u001b[1m0s\u001b[0m 34ms/step\n"
          ]
        },
        {
          "output_type": "stream",
          "name": "stderr",
          "text": [
            "Optimizing chunk 2:   9%|▉         | 1/11 [17:01<1:21:32, 489.23s/it]"
          ]
        },
        {
          "output_type": "stream",
          "name": "stdout",
          "text": [
            "[I 2025-05-01 09:25:10,749] Trial 24 finished with value: 0.04896451839941867 and parameters: {'lookback': 11, 'units': 96, 'dropout': 0.39734883826680545, 'batch_size': 64, 'epochs': 27}. Best is trial 0 with value: 0.031030089377368706.\n",
            "\u001b[1m7/7\u001b[0m \u001b[32m━━━━━━━━━━━━━━━━━━━━\u001b[0m\u001b[37m\u001b[0m \u001b[1m0s\u001b[0m 36ms/step\n"
          ]
        },
        {
          "output_type": "stream",
          "name": "stderr",
          "text": [
            "Optimizing chunk 2:   9%|▉         | 1/11 [17:08<1:21:32, 489.23s/it]"
          ]
        },
        {
          "output_type": "stream",
          "name": "stdout",
          "text": [
            "[I 2025-05-01 09:25:17,556] Trial 25 finished with value: 0.043371276648045354 and parameters: {'lookback': 6, 'units': 141, 'dropout': 0.28382392626833886, 'batch_size': 64, 'epochs': 35}. Best is trial 0 with value: 0.031030089377368706.\n",
            "\u001b[1m7/7\u001b[0m \u001b[32m━━━━━━━━━━━━━━━━━━━━\u001b[0m\u001b[37m\u001b[0m \u001b[1m0s\u001b[0m 35ms/step\n"
          ]
        },
        {
          "output_type": "stream",
          "name": "stderr",
          "text": [
            "Optimizing chunk 2:   9%|▉         | 1/11 [17:20<1:21:32, 489.23s/it]"
          ]
        },
        {
          "output_type": "stream",
          "name": "stdout",
          "text": [
            "[I 2025-05-01 09:25:29,458] Trial 26 finished with value: 0.0309693892875508 and parameters: {'lookback': 1, 'units': 159, 'dropout': 0.23036191429541863, 'batch_size': 64, 'epochs': 33}. Best is trial 26 with value: 0.0309693892875508.\n",
            "\u001b[1m7/7\u001b[0m \u001b[32m━━━━━━━━━━━━━━━━━━━━\u001b[0m\u001b[37m\u001b[0m \u001b[1m0s\u001b[0m 41ms/step\n"
          ]
        },
        {
          "output_type": "stream",
          "name": "stderr",
          "text": [
            "Optimizing chunk 2:   9%|▉         | 1/11 [17:31<1:21:32, 489.23s/it]"
          ]
        },
        {
          "output_type": "stream",
          "name": "stdout",
          "text": [
            "[I 2025-05-01 09:25:41,123] Trial 27 finished with value: 0.049070778484825314 and parameters: {'lookback': 11, 'units': 159, 'dropout': 0.2205303171973486, 'batch_size': 64, 'epochs': 33}. Best is trial 26 with value: 0.0309693892875508.\n",
            "\u001b[1m7/7\u001b[0m \u001b[32m━━━━━━━━━━━━━━━━━━━━\u001b[0m\u001b[37m\u001b[0m \u001b[1m0s\u001b[0m 44ms/step\n"
          ]
        },
        {
          "output_type": "stream",
          "name": "stderr",
          "text": [
            "Optimizing chunk 2:   9%|▉         | 1/11 [17:51<1:21:32, 489.23s/it]"
          ]
        },
        {
          "output_type": "stream",
          "name": "stdout",
          "text": [
            "[I 2025-05-01 09:26:00,906] Trial 28 finished with value: 0.05477089979612907 and parameters: {'lookback': 41, 'units': 106, 'dropout': 0.19426524871557777, 'batch_size': 64, 'epochs': 33}. Best is trial 26 with value: 0.0309693892875508.\n",
            "\u001b[1m7/7\u001b[0m \u001b[32m━━━━━━━━━━━━━━━━━━━━\u001b[0m\u001b[37m\u001b[0m \u001b[1m0s\u001b[0m 35ms/step\n"
          ]
        },
        {
          "output_type": "stream",
          "name": "stderr",
          "text": [
            "Optimizing chunk 2:  18%|█▊        | 2/11 [18:04<1:22:45, 551.77s/it][I 2025-05-01 09:26:13,941] A new study created in memory with name: no-name-cc6c2060-b1f4-4997-95d3-de8deec14c0a\n"
          ]
        },
        {
          "output_type": "stream",
          "name": "stdout",
          "text": [
            "[I 2025-05-01 09:26:13,911] Trial 29 finished with value: 0.04956400161899004 and parameters: {'lookback': 21, 'units': 86, 'dropout': 0.24578150870701188, 'batch_size': 32, 'epochs': 34}. Best is trial 26 with value: 0.0309693892875508.\n",
            "✅ Done: LRCX.O — Best Params: {'lookback': 1, 'units': 159, 'dropout': 0.23036191429541863, 'batch_size': 64, 'epochs': 33}\n",
            "\n",
            "🔍 Optimizing for MCHP.O...\n"
          ]
        },
        {
          "output_type": "display_data",
          "data": {
            "text/plain": [
              "  0%|          | 0/30 [00:00<?, ?it/s]"
            ],
            "application/vnd.jupyter.widget-view+json": {
              "version_major": 2,
              "version_minor": 0,
              "model_id": "9862fa2ebe15420a9161a2bcc64d584e"
            }
          },
          "metadata": {}
        },
        {
          "output_type": "stream",
          "name": "stdout",
          "text": [
            "\u001b[1m7/7\u001b[0m \u001b[32m━━━━━━━━━━━━━━━━━━━━\u001b[0m\u001b[37m\u001b[0m \u001b[1m1s\u001b[0m 58ms/step\n"
          ]
        },
        {
          "output_type": "stream",
          "name": "stderr",
          "text": [
            "Optimizing chunk 2:  18%|█▊        | 2/11 [18:59<1:22:45, 551.77s/it]"
          ]
        },
        {
          "output_type": "stream",
          "name": "stdout",
          "text": [
            "[I 2025-05-01 09:27:08,595] Trial 0 finished with value: 0.05976443677430258 and parameters: {'lookback': 41, 'units': 210, 'dropout': 0.33898836702362123, 'batch_size': 32, 'epochs': 22}. Best is trial 0 with value: 0.05976443677430258.\n",
            "\u001b[1m6/6\u001b[0m \u001b[32m━━━━━━━━━━━━━━━━━━━━\u001b[0m\u001b[37m\u001b[0m \u001b[1m1s\u001b[0m 65ms/step\n"
          ]
        },
        {
          "output_type": "stream",
          "name": "stderr",
          "text": [
            "Optimizing chunk 2:  18%|█▊        | 2/11 [19:58<1:22:45, 551.77s/it]"
          ]
        },
        {
          "output_type": "stream",
          "name": "stdout",
          "text": [
            "[I 2025-05-01 09:28:07,551] Trial 1 finished with value: 0.06283380894071328 and parameters: {'lookback': 51, 'units': 218, 'dropout': 0.25681957376311726, 'batch_size': 64, 'epochs': 23}. Best is trial 0 with value: 0.05976443677430258.\n",
            "\u001b[1m7/7\u001b[0m \u001b[32m━━━━━━━━━━━━━━━━━━━━\u001b[0m\u001b[37m\u001b[0m \u001b[1m0s\u001b[0m 35ms/step\n"
          ]
        },
        {
          "output_type": "stream",
          "name": "stderr",
          "text": [
            "Optimizing chunk 2:  18%|█▊        | 2/11 [20:13<1:22:45, 551.77s/it]"
          ]
        },
        {
          "output_type": "stream",
          "name": "stdout",
          "text": [
            "[I 2025-05-01 09:28:23,002] Trial 2 finished with value: 0.07002512208195309 and parameters: {'lookback': 21, 'units': 80, 'dropout': 0.2012389130623654, 'batch_size': 64, 'epochs': 24}. Best is trial 0 with value: 0.05976443677430258.\n",
            "\u001b[1m7/7\u001b[0m \u001b[32m━━━━━━━━━━━━━━━━━━━━\u001b[0m\u001b[37m\u001b[0m \u001b[1m0s\u001b[0m 37ms/step\n"
          ]
        },
        {
          "output_type": "stream",
          "name": "stderr",
          "text": [
            "Optimizing chunk 2:  18%|█▊        | 2/11 [20:33<1:22:45, 551.77s/it]"
          ]
        },
        {
          "output_type": "stream",
          "name": "stdout",
          "text": [
            "[I 2025-05-01 09:28:42,601] Trial 3 finished with value: 0.06050278293927437 and parameters: {'lookback': 21, 'units': 115, 'dropout': 0.23299533998062674, 'batch_size': 64, 'epochs': 27}. Best is trial 0 with value: 0.05976443677430258.\n",
            "\u001b[1m7/7\u001b[0m \u001b[32m━━━━━━━━━━━━━━━━━━━━\u001b[0m\u001b[37m\u001b[0m \u001b[1m0s\u001b[0m 40ms/step\n"
          ]
        },
        {
          "output_type": "stream",
          "name": "stderr",
          "text": [
            "Optimizing chunk 2:  18%|█▊        | 2/11 [20:45<1:22:45, 551.77s/it]"
          ]
        },
        {
          "output_type": "stream",
          "name": "stdout",
          "text": [
            "[I 2025-05-01 09:28:54,814] Trial 4 finished with value: 0.07721580563499637 and parameters: {'lookback': 41, 'units': 70, 'dropout': 0.25445527850629257, 'batch_size': 64, 'epochs': 26}. Best is trial 0 with value: 0.05976443677430258.\n",
            "\u001b[1m7/7\u001b[0m \u001b[32m━━━━━━━━━━━━━━━━━━━━\u001b[0m\u001b[37m\u001b[0m \u001b[1m1s\u001b[0m 45ms/step\n"
          ]
        },
        {
          "output_type": "stream",
          "name": "stderr",
          "text": [
            "Optimizing chunk 2:  18%|█▊        | 2/11 [20:54<1:22:45, 551.77s/it]"
          ]
        },
        {
          "output_type": "stream",
          "name": "stdout",
          "text": [
            "[I 2025-05-01 09:29:03,780] Trial 5 finished with value: 0.04689329114580896 and parameters: {'lookback': 1, 'units': 122, 'dropout': 0.11831176008987457, 'batch_size': 32, 'epochs': 22}. Best is trial 5 with value: 0.04689329114580896.\n",
            "\u001b[1m7/7\u001b[0m \u001b[32m━━━━━━━━━━━━━━━━━━━━\u001b[0m\u001b[37m\u001b[0m \u001b[1m0s\u001b[0m 32ms/step\n"
          ]
        },
        {
          "output_type": "stream",
          "name": "stderr",
          "text": [
            "Optimizing chunk 2:  18%|█▊        | 2/11 [21:01<1:22:45, 551.77s/it]"
          ]
        },
        {
          "output_type": "stream",
          "name": "stdout",
          "text": [
            "[I 2025-05-01 09:29:10,660] Trial 6 finished with value: 0.07940043861468038 and parameters: {'lookback': 11, 'units': 70, 'dropout': 0.36092727815069425, 'batch_size': 64, 'epochs': 34}. Best is trial 5 with value: 0.04689329114580896.\n",
            "\u001b[1m7/7\u001b[0m \u001b[32m━━━━━━━━━━━━━━━━━━━━\u001b[0m\u001b[37m\u001b[0m \u001b[1m0s\u001b[0m 45ms/step\n"
          ]
        },
        {
          "output_type": "stream",
          "name": "stderr",
          "text": [
            "Optimizing chunk 2:  18%|█▊        | 2/11 [21:37<1:22:45, 551.77s/it]"
          ]
        },
        {
          "output_type": "stream",
          "name": "stdout",
          "text": [
            "[I 2025-05-01 09:29:47,128] Trial 7 finished with value: 0.056184516130479166 and parameters: {'lookback': 26, 'units': 156, 'dropout': 0.40020863653494076, 'batch_size': 32, 'epochs': 26}. Best is trial 5 with value: 0.04689329114580896.\n",
            "\u001b[1m6/6\u001b[0m \u001b[32m━━━━━━━━━━━━━━━━━━━━\u001b[0m\u001b[37m\u001b[0m \u001b[1m1s\u001b[0m 75ms/step\n"
          ]
        },
        {
          "output_type": "stream",
          "name": "stderr",
          "text": [
            "Optimizing chunk 2:  18%|█▊        | 2/11 [22:38<1:22:45, 551.77s/it]"
          ]
        },
        {
          "output_type": "stream",
          "name": "stdout",
          "text": [
            "[I 2025-05-01 09:30:47,411] Trial 8 finished with value: 0.0667258142539061 and parameters: {'lookback': 51, 'units': 253, 'dropout': 0.4795272693541175, 'batch_size': 32, 'epochs': 30}. Best is trial 5 with value: 0.04689329114580896.\n",
            "\u001b[1m7/7\u001b[0m \u001b[32m━━━━━━━━━━━━━━━━━━━━\u001b[0m\u001b[37m\u001b[0m \u001b[1m0s\u001b[0m 50ms/step\n"
          ]
        },
        {
          "output_type": "stream",
          "name": "stderr",
          "text": [
            "Optimizing chunk 2:  18%|█▊        | 2/11 [23:22<1:22:45, 551.77s/it]"
          ]
        },
        {
          "output_type": "stream",
          "name": "stdout",
          "text": [
            "[I 2025-05-01 09:31:31,246] Trial 9 finished with value: 0.06504514065712322 and parameters: {'lookback': 36, 'units': 199, 'dropout': 0.4778161628498534, 'batch_size': 32, 'epochs': 33}. Best is trial 5 with value: 0.04689329114580896.\n",
            "\u001b[1m7/7\u001b[0m \u001b[32m━━━━━━━━━━━━━━━━━━━━\u001b[0m\u001b[37m\u001b[0m \u001b[1m0s\u001b[0m 34ms/step\n"
          ]
        },
        {
          "output_type": "stream",
          "name": "stderr",
          "text": [
            "Optimizing chunk 2:  18%|█▊        | 2/11 [23:33<1:22:45, 551.77s/it]"
          ]
        },
        {
          "output_type": "stream",
          "name": "stdout",
          "text": [
            "[I 2025-05-01 09:31:42,672] Trial 10 finished with value: 0.04705461023376008 and parameters: {'lookback': 1, 'units': 139, 'dropout': 0.10820864169594746, 'batch_size': 32, 'epochs': 20}. Best is trial 5 with value: 0.04689329114580896.\n",
            "\u001b[1m7/7\u001b[0m \u001b[32m━━━━━━━━━━━━━━━━━━━━\u001b[0m\u001b[37m\u001b[0m \u001b[1m0s\u001b[0m 34ms/step\n"
          ]
        },
        {
          "output_type": "stream",
          "name": "stderr",
          "text": [
            "Optimizing chunk 2:  18%|█▊        | 2/11 [23:42<1:22:45, 551.77s/it]"
          ]
        },
        {
          "output_type": "stream",
          "name": "stdout",
          "text": [
            "[I 2025-05-01 09:31:51,944] Trial 11 finished with value: 0.04717434225775489 and parameters: {'lookback': 1, 'units': 131, 'dropout': 0.10590978049330718, 'batch_size': 32, 'epochs': 20}. Best is trial 5 with value: 0.04689329114580896.\n",
            "\u001b[1m7/7\u001b[0m \u001b[32m━━━━━━━━━━━━━━━━━━━━\u001b[0m\u001b[37m\u001b[0m \u001b[1m0s\u001b[0m 33ms/step\n"
          ]
        },
        {
          "output_type": "stream",
          "name": "stderr",
          "text": [
            "Optimizing chunk 2:  18%|█▊        | 2/11 [23:52<1:22:45, 551.77s/it]"
          ]
        },
        {
          "output_type": "stream",
          "name": "stdout",
          "text": [
            "[I 2025-05-01 09:32:02,096] Trial 12 finished with value: 0.04682355050969678 and parameters: {'lookback': 1, 'units': 168, 'dropout': 0.11505592370094601, 'batch_size': 32, 'epochs': 20}. Best is trial 12 with value: 0.04682355050969678.\n",
            "\u001b[1m7/7\u001b[0m \u001b[32m━━━━━━━━━━━━━━━━━━━━\u001b[0m\u001b[37m\u001b[0m \u001b[1m0s\u001b[0m 36ms/step\n"
          ]
        },
        {
          "output_type": "stream",
          "name": "stderr",
          "text": [
            "Optimizing chunk 2:  18%|█▊        | 2/11 [24:07<1:22:45, 551.77s/it]"
          ]
        },
        {
          "output_type": "stream",
          "name": "stdout",
          "text": [
            "[I 2025-05-01 09:32:16,680] Trial 13 finished with value: 0.05660992768738932 and parameters: {'lookback': 11, 'units': 109, 'dropout': 0.174337303226002, 'batch_size': 32, 'epochs': 22}. Best is trial 12 with value: 0.04682355050969678.\n",
            "\u001b[1m7/7\u001b[0m \u001b[32m━━━━━━━━━━━━━━━━━━━━\u001b[0m\u001b[37m\u001b[0m \u001b[1m0s\u001b[0m 44ms/step\n"
          ]
        },
        {
          "output_type": "stream",
          "name": "stderr",
          "text": [
            "Optimizing chunk 2:  18%|█▊        | 2/11 [24:34<1:22:45, 551.77s/it]"
          ]
        },
        {
          "output_type": "stream",
          "name": "stdout",
          "text": [
            "[I 2025-05-01 09:32:43,618] Trial 14 finished with value: 0.05494647757210532 and parameters: {'lookback': 11, 'units': 177, 'dropout': 0.1602724702698788, 'batch_size': 32, 'epochs': 29}. Best is trial 12 with value: 0.04682355050969678.\n",
            "\u001b[1m7/7\u001b[0m \u001b[32m━━━━━━━━━━━━━━━━━━━━\u001b[0m\u001b[37m\u001b[0m \u001b[1m0s\u001b[0m 34ms/step\n"
          ]
        },
        {
          "output_type": "stream",
          "name": "stderr",
          "text": [
            "Optimizing chunk 2:  18%|█▊        | 2/11 [24:44<1:22:45, 551.77s/it]"
          ]
        },
        {
          "output_type": "stream",
          "name": "stdout",
          "text": [
            "[I 2025-05-01 09:32:53,418] Trial 15 finished with value: 0.04657193502316606 and parameters: {'lookback': 1, 'units': 169, 'dropout': 0.14732587512311157, 'batch_size': 32, 'epochs': 20}. Best is trial 15 with value: 0.04657193502316606.\n",
            "\u001b[1m7/7\u001b[0m \u001b[32m━━━━━━━━━━━━━━━━━━━━\u001b[0m\u001b[37m\u001b[0m \u001b[1m0s\u001b[0m 36ms/step\n"
          ]
        },
        {
          "output_type": "stream",
          "name": "stderr",
          "text": [
            "Optimizing chunk 2:  18%|█▊        | 2/11 [25:03<1:22:45, 551.77s/it]"
          ]
        },
        {
          "output_type": "stream",
          "name": "stdout",
          "text": [
            "[I 2025-05-01 09:33:13,008] Trial 16 finished with value: 0.05646740883594802 and parameters: {'lookback': 11, 'units': 175, 'dropout': 0.15148362416726086, 'batch_size': 32, 'epochs': 20}. Best is trial 15 with value: 0.04657193502316606.\n",
            "\u001b[1m7/7\u001b[0m \u001b[32m━━━━━━━━━━━━━━━━━━━━\u001b[0m\u001b[37m\u001b[0m \u001b[1m0s\u001b[0m 32ms/step\n"
          ]
        },
        {
          "output_type": "stream",
          "name": "stderr",
          "text": [
            "Optimizing chunk 2:  18%|█▊        | 2/11 [25:10<1:22:45, 551.77s/it]"
          ]
        },
        {
          "output_type": "stream",
          "name": "stdout",
          "text": [
            "[I 2025-05-01 09:33:19,251] Trial 17 finished with value: 0.06531180435824187 and parameters: {'lookback': 6, 'units': 40, 'dropout': 0.2936452071142437, 'batch_size': 32, 'epochs': 24}. Best is trial 15 with value: 0.04657193502316606.\n",
            "\u001b[1m7/7\u001b[0m \u001b[32m━━━━━━━━━━━━━━━━━━━━\u001b[0m\u001b[37m\u001b[0m \u001b[1m0s\u001b[0m 44ms/step\n"
          ]
        },
        {
          "output_type": "stream",
          "name": "stderr",
          "text": [
            "Optimizing chunk 2:  18%|█▊        | 2/11 [25:45<1:22:45, 551.77s/it]"
          ]
        },
        {
          "output_type": "stream",
          "name": "stdout",
          "text": [
            "[I 2025-05-01 09:33:54,328] Trial 18 finished with value: 0.05345106725519773 and parameters: {'lookback': 16, 'units': 181, 'dropout': 0.20622499369732256, 'batch_size': 32, 'epochs': 31}. Best is trial 15 with value: 0.04657193502316606.\n",
            "\u001b[1m7/7\u001b[0m \u001b[32m━━━━━━━━━━━━━━━━━━━━\u001b[0m\u001b[37m\u001b[0m \u001b[1m1s\u001b[0m 65ms/step\n"
          ]
        },
        {
          "output_type": "stream",
          "name": "stderr",
          "text": [
            "Optimizing chunk 2:  18%|█▊        | 2/11 [26:31<1:22:45, 551.77s/it]"
          ]
        },
        {
          "output_type": "stream",
          "name": "stdout",
          "text": [
            "[I 2025-05-01 09:34:40,447] Trial 19 finished with value: 0.058763462413781956 and parameters: {'lookback': 31, 'units': 238, 'dropout': 0.16598830779368606, 'batch_size': 32, 'epochs': 25}. Best is trial 15 with value: 0.04657193502316606.\n",
            "\u001b[1m7/7\u001b[0m \u001b[32m━━━━━━━━━━━━━━━━━━━━\u001b[0m\u001b[37m\u001b[0m \u001b[1m0s\u001b[0m 33ms/step\n"
          ]
        },
        {
          "output_type": "stream",
          "name": "stderr",
          "text": [
            "Optimizing chunk 2:  18%|█▊        | 2/11 [26:48<1:22:45, 551.77s/it]"
          ]
        },
        {
          "output_type": "stream",
          "name": "stdout",
          "text": [
            "[I 2025-05-01 09:34:57,389] Trial 20 finished with value: 0.059810614339154466 and parameters: {'lookback': 6, 'units': 159, 'dropout': 0.30022298865167346, 'batch_size': 32, 'epochs': 21}. Best is trial 15 with value: 0.04657193502316606.\n",
            "\u001b[1m7/7\u001b[0m \u001b[32m━━━━━━━━━━━━━━━━━━━━\u001b[0m\u001b[37m\u001b[0m \u001b[1m0s\u001b[0m 31ms/step\n"
          ]
        },
        {
          "output_type": "stream",
          "name": "stderr",
          "text": [
            "Optimizing chunk 2:  18%|█▊        | 2/11 [26:57<1:22:45, 551.77s/it]"
          ]
        },
        {
          "output_type": "stream",
          "name": "stdout",
          "text": [
            "[I 2025-05-01 09:35:06,849] Trial 21 finished with value: 0.04669329750381995 and parameters: {'lookback': 1, 'units': 111, 'dropout': 0.1295009512829824, 'batch_size': 32, 'epochs': 22}. Best is trial 15 with value: 0.04657193502316606.\n",
            "\u001b[1m7/7\u001b[0m \u001b[32m━━━━━━━━━━━━━━━━━━━━\u001b[0m\u001b[37m\u001b[0m \u001b[1m0s\u001b[0m 31ms/step\n"
          ]
        },
        {
          "output_type": "stream",
          "name": "stderr",
          "text": [
            "Optimizing chunk 2:  18%|█▊        | 2/11 [27:03<1:22:45, 551.77s/it]"
          ]
        },
        {
          "output_type": "stream",
          "name": "stdout",
          "text": [
            "[I 2025-05-01 09:35:12,387] Trial 22 finished with value: 0.06354379493012854 and parameters: {'lookback': 6, 'units': 94, 'dropout': 0.1374151270513546, 'batch_size': 32, 'epochs': 21}. Best is trial 15 with value: 0.04657193502316606.\n",
            "\u001b[1m7/7\u001b[0m \u001b[32m━━━━━━━━━━━━━━━━━━━━\u001b[0m\u001b[37m\u001b[0m \u001b[1m0s\u001b[0m 33ms/step\n"
          ]
        },
        {
          "output_type": "stream",
          "name": "stderr",
          "text": [
            "Optimizing chunk 2:  18%|█▊        | 2/11 [27:13<1:22:45, 551.77s/it]"
          ]
        },
        {
          "output_type": "stream",
          "name": "stdout",
          "text": [
            "[I 2025-05-01 09:35:22,544] Trial 23 finished with value: 0.046699936303940905 and parameters: {'lookback': 1, 'units': 151, 'dropout': 0.18383982800098875, 'batch_size': 32, 'epochs': 23}. Best is trial 15 with value: 0.04657193502316606.\n",
            "\u001b[1m7/7\u001b[0m \u001b[32m━━━━━━━━━━━━━━━━━━━━\u001b[0m\u001b[37m\u001b[0m \u001b[1m0s\u001b[0m 38ms/step\n"
          ]
        },
        {
          "output_type": "stream",
          "name": "stderr",
          "text": [
            "Optimizing chunk 2:  18%|█▊        | 2/11 [27:38<1:22:45, 551.77s/it]"
          ]
        },
        {
          "output_type": "stream",
          "name": "stdout",
          "text": [
            "[I 2025-05-01 09:35:47,883] Trial 24 finished with value: 0.05733776038299261 and parameters: {'lookback': 16, 'units': 149, 'dropout': 0.20374075992374982, 'batch_size': 32, 'epochs': 24}. Best is trial 15 with value: 0.04657193502316606.\n",
            "\u001b[1m7/7\u001b[0m \u001b[32m━━━━━━━━━━━━━━━━━━━━\u001b[0m\u001b[37m\u001b[0m \u001b[1m0s\u001b[0m 34ms/step\n"
          ]
        },
        {
          "output_type": "stream",
          "name": "stderr",
          "text": [
            "Optimizing chunk 2:  18%|█▊        | 2/11 [27:50<1:22:45, 551.77s/it]"
          ]
        },
        {
          "output_type": "stream",
          "name": "stdout",
          "text": [
            "[I 2025-05-01 09:35:59,912] Trial 25 finished with value: 0.06382018816221932 and parameters: {'lookback': 6, 'units': 193, 'dropout': 0.18831074267196357, 'batch_size': 32, 'epochs': 23}. Best is trial 15 with value: 0.04657193502316606.\n",
            "\u001b[1m7/7\u001b[0m \u001b[32m━━━━━━━━━━━━━━━━━━━━\u001b[0m\u001b[37m\u001b[0m \u001b[1m0s\u001b[0m 46ms/step\n"
          ]
        },
        {
          "output_type": "stream",
          "name": "stderr",
          "text": [
            "Optimizing chunk 2:  18%|█▊        | 2/11 [28:03<1:22:45, 551.77s/it]"
          ]
        },
        {
          "output_type": "stream",
          "name": "stdout",
          "text": [
            "[I 2025-05-01 09:36:12,233] Trial 26 finished with value: 0.07435162619358739 and parameters: {'lookback': 16, 'units': 98, 'dropout': 0.23538908772694417, 'batch_size': 64, 'epochs': 28}. Best is trial 15 with value: 0.04657193502316606.\n",
            "\u001b[1m7/7\u001b[0m \u001b[32m━━━━━━━━━━━━━━━━━━━━\u001b[0m\u001b[37m\u001b[0m \u001b[1m0s\u001b[0m 38ms/step\n"
          ]
        },
        {
          "output_type": "stream",
          "name": "stderr",
          "text": [
            "Optimizing chunk 2:  18%|█▊        | 2/11 [28:13<1:22:45, 551.77s/it]"
          ]
        },
        {
          "output_type": "stream",
          "name": "stdout",
          "text": [
            "[I 2025-05-01 09:36:22,443] Trial 27 finished with value: 0.047258731292784614 and parameters: {'lookback': 1, 'units': 138, 'dropout': 0.13892798588679034, 'batch_size': 32, 'epochs': 23}. Best is trial 15 with value: 0.04657193502316606.\n",
            "\u001b[1m6/6\u001b[0m \u001b[32m━━━━━━━━━━━━━━━━━━━━\u001b[0m\u001b[37m\u001b[0m \u001b[1m0s\u001b[0m 44ms/step\n"
          ]
        },
        {
          "output_type": "stream",
          "name": "stderr",
          "text": [
            "Optimizing chunk 2:  18%|█▊        | 2/11 [28:33<1:22:45, 551.77s/it]"
          ]
        },
        {
          "output_type": "stream",
          "name": "stdout",
          "text": [
            "[I 2025-05-01 09:36:43,083] Trial 28 finished with value: 0.06506936889365905 and parameters: {'lookback': 56, 'units': 39, 'dropout': 0.22796646991169012, 'batch_size': 32, 'epochs': 21}. Best is trial 15 with value: 0.04657193502316606.\n",
            "\u001b[1m7/7\u001b[0m \u001b[32m━━━━━━━━━━━━━━━━━━━━\u001b[0m\u001b[37m\u001b[0m \u001b[1m1s\u001b[0m 51ms/step\n"
          ]
        },
        {
          "output_type": "stream",
          "name": "stderr",
          "text": [
            "Optimizing chunk 2:  27%|██▋       | 3/11 [29:06<1:20:15, 601.94s/it][I 2025-05-01 09:37:15,576] A new study created in memory with name: no-name-276beac3-97c6-4707-b9e1-062bba75d617\n"
          ]
        },
        {
          "output_type": "stream",
          "name": "stdout",
          "text": [
            "[I 2025-05-01 09:37:15,547] Trial 29 finished with value: 0.05737858679402887 and parameters: {'lookback': 21, 'units': 197, 'dropout': 0.2826917136431982, 'batch_size': 32, 'epochs': 22}. Best is trial 15 with value: 0.04657193502316606.\n",
            "✅ Done: MCHP.O — Best Params: {'lookback': 1, 'units': 169, 'dropout': 0.14732587512311157, 'batch_size': 32, 'epochs': 20}\n",
            "\n",
            "🔍 Optimizing for MDB.O...\n"
          ]
        },
        {
          "output_type": "display_data",
          "data": {
            "text/plain": [
              "  0%|          | 0/30 [00:00<?, ?it/s]"
            ],
            "application/vnd.jupyter.widget-view+json": {
              "version_major": 2,
              "version_minor": 0,
              "model_id": "5cc3884e10d442fb994b82026a0257b6"
            }
          },
          "metadata": {}
        },
        {
          "output_type": "stream",
          "name": "stdout",
          "text": [
            "\u001b[1m7/7\u001b[0m \u001b[32m━━━━━━━━━━━━━━━━━━━━\u001b[0m\u001b[37m\u001b[0m \u001b[1m0s\u001b[0m 32ms/step\n"
          ]
        },
        {
          "output_type": "stream",
          "name": "stderr",
          "text": [
            "Optimizing chunk 2:  27%|██▋       | 3/11 [29:15<1:20:15, 601.94s/it]"
          ]
        },
        {
          "output_type": "stream",
          "name": "stdout",
          "text": [
            "[I 2025-05-01 09:37:24,384] Trial 0 finished with value: 0.024463907092993904 and parameters: {'lookback': 1, 'units': 69, 'dropout': 0.2738769021979648, 'batch_size': 32, 'epochs': 22}. Best is trial 0 with value: 0.024463907092993904.\n",
            "\u001b[1m7/7\u001b[0m \u001b[32m━━━━━━━━━━━━━━━━━━━━\u001b[0m\u001b[37m\u001b[0m \u001b[1m0s\u001b[0m 35ms/step\n"
          ]
        },
        {
          "output_type": "stream",
          "name": "stderr",
          "text": [
            "Optimizing chunk 2:  27%|██▋       | 3/11 [29:26<1:20:15, 601.94s/it]"
          ]
        },
        {
          "output_type": "stream",
          "name": "stdout",
          "text": [
            "[I 2025-05-01 09:37:35,953] Trial 1 finished with value: 0.05210284369392922 and parameters: {'lookback': 36, 'units': 34, 'dropout': 0.3449076761591423, 'batch_size': 32, 'epochs': 29}. Best is trial 0 with value: 0.024463907092993904.\n",
            "\u001b[1m7/7\u001b[0m \u001b[32m━━━━━━━━━━━━━━━━━━━━\u001b[0m\u001b[37m\u001b[0m \u001b[1m1s\u001b[0m 77ms/step\n"
          ]
        },
        {
          "output_type": "stream",
          "name": "stderr",
          "text": [
            "Optimizing chunk 2:  27%|██▋       | 3/11 [30:24<1:20:15, 601.94s/it]"
          ]
        },
        {
          "output_type": "stream",
          "name": "stdout",
          "text": [
            "[I 2025-05-01 09:38:33,623] Trial 2 finished with value: 0.03771903567871655 and parameters: {'lookback': 31, 'units': 228, 'dropout': 0.3845867847369555, 'batch_size': 32, 'epochs': 26}. Best is trial 0 with value: 0.024463907092993904.\n",
            "\u001b[1m6/6\u001b[0m \u001b[32m━━━━━━━━━━━━━━━━━━━━\u001b[0m\u001b[37m\u001b[0m \u001b[1m0s\u001b[0m 53ms/step\n"
          ]
        },
        {
          "output_type": "stream",
          "name": "stderr",
          "text": [
            "Optimizing chunk 2:  27%|██▋       | 3/11 [31:05<1:20:15, 601.94s/it]"
          ]
        },
        {
          "output_type": "stream",
          "name": "stdout",
          "text": [
            "[I 2025-05-01 09:39:14,712] Trial 3 finished with value: 0.046437246308002264 and parameters: {'lookback': 56, 'units': 108, 'dropout': 0.2084081797928916, 'batch_size': 32, 'epochs': 35}. Best is trial 0 with value: 0.024463907092993904.\n",
            "\u001b[1m7/7\u001b[0m \u001b[32m━━━━━━━━━━━━━━━━━━━━\u001b[0m\u001b[37m\u001b[0m \u001b[1m1s\u001b[0m 61ms/step\n"
          ]
        },
        {
          "output_type": "stream",
          "name": "stderr",
          "text": [
            "Optimizing chunk 2:  27%|██▋       | 3/11 [32:05<1:20:15, 601.94s/it]"
          ]
        },
        {
          "output_type": "stream",
          "name": "stdout",
          "text": [
            "[I 2025-05-01 09:40:14,873] Trial 4 finished with value: 0.044282686572204945 and parameters: {'lookback': 36, 'units': 253, 'dropout': 0.4750268012209591, 'batch_size': 64, 'epochs': 31}. Best is trial 0 with value: 0.024463907092993904.\n",
            "\u001b[1m7/7\u001b[0m \u001b[32m━━━━━━━━━━━━━━━━━━━━\u001b[0m\u001b[37m\u001b[0m \u001b[1m1s\u001b[0m 82ms/step\n"
          ]
        },
        {
          "output_type": "stream",
          "name": "stderr",
          "text": [
            "Optimizing chunk 2:  27%|██▋       | 3/11 [32:52<1:20:15, 601.94s/it]"
          ]
        },
        {
          "output_type": "stream",
          "name": "stdout",
          "text": [
            "[I 2025-05-01 09:41:01,420] Trial 5 finished with value: 0.04130449656111739 and parameters: {'lookback': 36, 'units': 232, 'dropout': 0.11131263583992586, 'batch_size': 32, 'epochs': 21}. Best is trial 0 with value: 0.024463907092993904.\n",
            "\u001b[1m6/6\u001b[0m \u001b[32m━━━━━━━━━━━━━━━━━━━━\u001b[0m\u001b[37m\u001b[0m \u001b[1m1s\u001b[0m 73ms/step\n"
          ]
        },
        {
          "output_type": "stream",
          "name": "stderr",
          "text": [
            "Optimizing chunk 2:  27%|██▋       | 3/11 [34:33<1:20:15, 601.94s/it]"
          ]
        },
        {
          "output_type": "stream",
          "name": "stdout",
          "text": [
            "[I 2025-05-01 09:42:42,594] Trial 6 finished with value: 0.03904213316770854 and parameters: {'lookback': 51, 'units': 238, 'dropout': 0.43134118281179534, 'batch_size': 32, 'epochs': 28}. Best is trial 0 with value: 0.024463907092993904.\n",
            "\u001b[1m6/6\u001b[0m \u001b[32m━━━━━━━━━━━━━━━━━━━━\u001b[0m\u001b[37m\u001b[0m \u001b[1m0s\u001b[0m 31ms/step\n"
          ]
        },
        {
          "output_type": "stream",
          "name": "stderr",
          "text": [
            "Optimizing chunk 2:  27%|██▋       | 3/11 [35:22<1:20:15, 601.94s/it]"
          ]
        },
        {
          "output_type": "stream",
          "name": "stdout",
          "text": [
            "[I 2025-05-01 09:43:32,129] Trial 7 finished with value: 0.04666299895756045 and parameters: {'lookback': 46, 'units': 213, 'dropout': 0.11879897073208086, 'batch_size': 64, 'epochs': 26}. Best is trial 0 with value: 0.024463907092993904.\n",
            "\u001b[1m7/7\u001b[0m \u001b[32m━━━━━━━━━━━━━━━━━━━━\u001b[0m\u001b[37m\u001b[0m \u001b[1m0s\u001b[0m 35ms/step\n"
          ]
        },
        {
          "output_type": "stream",
          "name": "stderr",
          "text": [
            "Optimizing chunk 2:  27%|██▋       | 3/11 [35:32<1:20:15, 601.94s/it]"
          ]
        },
        {
          "output_type": "stream",
          "name": "stdout",
          "text": [
            "[I 2025-05-01 09:43:41,196] Trial 8 finished with value: 0.05007106419826113 and parameters: {'lookback': 16, 'units': 40, 'dropout': 0.2558782387047403, 'batch_size': 32, 'epochs': 33}. Best is trial 0 with value: 0.024463907092993904.\n",
            "\u001b[1m7/7\u001b[0m \u001b[32m━━━━━━━━━━━━━━━━━━━━\u001b[0m\u001b[37m\u001b[0m \u001b[1m0s\u001b[0m 31ms/step\n"
          ]
        },
        {
          "output_type": "stream",
          "name": "stderr",
          "text": [
            "Optimizing chunk 2:  27%|██▋       | 3/11 [35:40<1:20:15, 601.94s/it]"
          ]
        },
        {
          "output_type": "stream",
          "name": "stdout",
          "text": [
            "[I 2025-05-01 09:43:49,908] Trial 9 finished with value: 0.02484847135711734 and parameters: {'lookback': 1, 'units': 118, 'dropout': 0.23364517737493823, 'batch_size': 32, 'epochs': 33}. Best is trial 0 with value: 0.024463907092993904.\n",
            "\u001b[1m7/7\u001b[0m \u001b[32m━━━━━━━━━━━━━━━━━━━━\u001b[0m\u001b[37m\u001b[0m \u001b[1m0s\u001b[0m 32ms/step\n"
          ]
        },
        {
          "output_type": "stream",
          "name": "stderr",
          "text": [
            "Optimizing chunk 2:  27%|██▋       | 3/11 [35:44<1:20:15, 601.94s/it]"
          ]
        },
        {
          "output_type": "stream",
          "name": "stdout",
          "text": [
            "[I 2025-05-01 09:43:53,965] Trial 10 finished with value: 0.10901401865802055 and parameters: {'lookback': 1, 'units': 76, 'dropout': 0.31553888903827293, 'batch_size': 64, 'epochs': 20}. Best is trial 0 with value: 0.024463907092993904.\n",
            "\u001b[1m7/7\u001b[0m \u001b[32m━━━━━━━━━━━━━━━━━━━━\u001b[0m\u001b[37m\u001b[0m \u001b[1m0s\u001b[0m 34ms/step\n"
          ]
        },
        {
          "output_type": "stream",
          "name": "stderr",
          "text": [
            "Optimizing chunk 2:  27%|██▋       | 3/11 [35:53<1:20:15, 601.94s/it]"
          ]
        },
        {
          "output_type": "stream",
          "name": "stdout",
          "text": [
            "[I 2025-05-01 09:44:02,313] Trial 11 finished with value: 0.02432470586111522 and parameters: {'lookback': 1, 'units': 157, 'dropout': 0.21929640517633828, 'batch_size': 32, 'epochs': 23}. Best is trial 11 with value: 0.02432470586111522.\n",
            "\u001b[1m7/7\u001b[0m \u001b[32m━━━━━━━━━━━━━━━━━━━━\u001b[0m\u001b[37m\u001b[0m \u001b[1m0s\u001b[0m 39ms/step\n"
          ]
        },
        {
          "output_type": "stream",
          "name": "stderr",
          "text": [
            "Optimizing chunk 2:  27%|██▋       | 3/11 [36:19<1:20:15, 601.94s/it]"
          ]
        },
        {
          "output_type": "stream",
          "name": "stdout",
          "text": [
            "[I 2025-05-01 09:44:28,985] Trial 12 finished with value: 0.03972034655625021 and parameters: {'lookback': 16, 'units': 176, 'dropout': 0.18787901824859005, 'batch_size': 32, 'epochs': 23}. Best is trial 11 with value: 0.02432470586111522.\n",
            "\u001b[1m7/7\u001b[0m \u001b[32m━━━━━━━━━━━━━━━━━━━━\u001b[0m\u001b[37m\u001b[0m \u001b[1m0s\u001b[0m 34ms/step\n"
          ]
        },
        {
          "output_type": "stream",
          "name": "stderr",
          "text": [
            "Optimizing chunk 2:  27%|██▋       | 3/11 [36:38<1:20:15, 601.94s/it]"
          ]
        },
        {
          "output_type": "stream",
          "name": "stdout",
          "text": [
            "[I 2025-05-01 09:44:48,078] Trial 13 finished with value: 0.045030321948373954 and parameters: {'lookback': 11, 'units': 162, 'dropout': 0.2781074261254241, 'batch_size': 32, 'epochs': 23}. Best is trial 11 with value: 0.02432470586111522.\n",
            "\u001b[1m7/7\u001b[0m \u001b[32m━━━━━━━━━━━━━━━━━━━━\u001b[0m\u001b[37m\u001b[0m \u001b[1m0s\u001b[0m 39ms/step\n"
          ]
        },
        {
          "output_type": "stream",
          "name": "stderr",
          "text": [
            "Optimizing chunk 2:  27%|██▋       | 3/11 [36:53<1:20:15, 601.94s/it]"
          ]
        },
        {
          "output_type": "stream",
          "name": "stdout",
          "text": [
            "[I 2025-05-01 09:45:02,961] Trial 14 finished with value: 0.04597715881715491 and parameters: {'lookback': 11, 'units': 126, 'dropout': 0.17573890097760328, 'batch_size': 64, 'epochs': 23}. Best is trial 11 with value: 0.02432470586111522.\n",
            "\u001b[1m7/7\u001b[0m \u001b[32m━━━━━━━━━━━━━━━━━━━━\u001b[0m\u001b[37m\u001b[0m \u001b[1m3s\u001b[0m 425ms/step\n"
          ]
        },
        {
          "output_type": "stream",
          "name": "stderr",
          "text": [
            "Optimizing chunk 2:  27%|██▋       | 3/11 [37:07<1:20:15, 601.94s/it]"
          ]
        },
        {
          "output_type": "stream",
          "name": "stdout",
          "text": [
            "[I 2025-05-01 09:45:16,545] Trial 15 finished with value: 0.02417591746806483 and parameters: {'lookback': 1, 'units': 75, 'dropout': 0.3289241446845871, 'batch_size': 32, 'epochs': 25}. Best is trial 15 with value: 0.02417591746806483.\n",
            "\u001b[1m7/7\u001b[0m \u001b[32m━━━━━━━━━━━━━━━━━━━━\u001b[0m\u001b[37m\u001b[0m \u001b[1m0s\u001b[0m 46ms/step\n"
          ]
        },
        {
          "output_type": "stream",
          "name": "stderr",
          "text": [
            "Optimizing chunk 2:  27%|██▋       | 3/11 [37:42<1:20:15, 601.94s/it]"
          ]
        },
        {
          "output_type": "stream",
          "name": "stdout",
          "text": [
            "[I 2025-05-01 09:45:51,726] Trial 16 finished with value: 0.04030513922950111 and parameters: {'lookback': 21, 'units': 185, 'dropout': 0.35949291185992976, 'batch_size': 32, 'epochs': 25}. Best is trial 15 with value: 0.02417591746806483.\n",
            "\u001b[1m7/7\u001b[0m \u001b[32m━━━━━━━━━━━━━━━━━━━━\u001b[0m\u001b[37m\u001b[0m \u001b[1m0s\u001b[0m 38ms/step\n"
          ]
        },
        {
          "output_type": "stream",
          "name": "stderr",
          "text": [
            "Optimizing chunk 2:  27%|██▋       | 3/11 [37:59<1:20:15, 601.94s/it]"
          ]
        },
        {
          "output_type": "stream",
          "name": "stdout",
          "text": [
            "[I 2025-05-01 09:46:08,533] Trial 17 finished with value: 0.04102915856905307 and parameters: {'lookback': 6, 'units': 147, 'dropout': 0.40497651024854187, 'batch_size': 32, 'epochs': 25}. Best is trial 15 with value: 0.02417591746806483.\n",
            "\u001b[1m7/7\u001b[0m \u001b[32m━━━━━━━━━━━━━━━━━━━━\u001b[0m\u001b[37m\u001b[0m \u001b[1m0s\u001b[0m 40ms/step\n"
          ]
        },
        {
          "output_type": "stream",
          "name": "stderr",
          "text": [
            "Optimizing chunk 2:  27%|██▋       | 3/11 [38:19<1:20:15, 601.94s/it]"
          ]
        },
        {
          "output_type": "stream",
          "name": "stdout",
          "text": [
            "[I 2025-05-01 09:46:28,365] Trial 18 finished with value: 0.04784076364236926 and parameters: {'lookback': 26, 'units': 86, 'dropout': 0.3000828664415834, 'batch_size': 64, 'epochs': 29}. Best is trial 15 with value: 0.02417591746806483.\n",
            "\u001b[1m7/7\u001b[0m \u001b[32m━━━━━━━━━━━━━━━━━━━━\u001b[0m\u001b[37m\u001b[0m \u001b[1m0s\u001b[0m 41ms/step\n"
          ]
        },
        {
          "output_type": "stream",
          "name": "stderr",
          "text": [
            "Optimizing chunk 2:  27%|██▋       | 3/11 [38:43<1:20:15, 601.94s/it]"
          ]
        },
        {
          "output_type": "stream",
          "name": "stdout",
          "text": [
            "[I 2025-05-01 09:46:53,119] Trial 19 finished with value: 0.04013675308524476 and parameters: {'lookback': 11, 'units': 199, 'dropout': 0.14768049812102496, 'batch_size': 32, 'epochs': 24}. Best is trial 15 with value: 0.02417591746806483.\n",
            "\u001b[1m7/7\u001b[0m \u001b[32m━━━━━━━━━━━━━━━━━━━━\u001b[0m\u001b[37m\u001b[0m \u001b[1m0s\u001b[0m 35ms/step\n"
          ]
        },
        {
          "output_type": "stream",
          "name": "stderr",
          "text": [
            "Optimizing chunk 2:  27%|██▋       | 3/11 [38:59<1:20:15, 601.94s/it]"
          ]
        },
        {
          "output_type": "stream",
          "name": "stdout",
          "text": [
            "[I 2025-05-01 09:47:08,321] Trial 20 finished with value: 0.043066801307051754 and parameters: {'lookback': 6, 'units': 144, 'dropout': 0.22434604643164513, 'batch_size': 32, 'epochs': 27}. Best is trial 15 with value: 0.02417591746806483.\n",
            "\u001b[1m7/7\u001b[0m \u001b[32m━━━━━━━━━━━━━━━━━━━━\u001b[0m\u001b[37m\u001b[0m \u001b[1m0s\u001b[0m 34ms/step\n"
          ]
        },
        {
          "output_type": "stream",
          "name": "stderr",
          "text": [
            "Optimizing chunk 2:  27%|██▋       | 3/11 [39:08<1:20:15, 601.94s/it]"
          ]
        },
        {
          "output_type": "stream",
          "name": "stdout",
          "text": [
            "[I 2025-05-01 09:47:17,429] Trial 21 finished with value: 0.02470238387394682 and parameters: {'lookback': 1, 'units': 64, 'dropout': 0.3216164434359317, 'batch_size': 32, 'epochs': 21}. Best is trial 15 with value: 0.02417591746806483.\n",
            "\u001b[1m7/7\u001b[0m \u001b[32m━━━━━━━━━━━━━━━━━━━━\u001b[0m\u001b[37m\u001b[0m \u001b[1m0s\u001b[0m 35ms/step\n"
          ]
        },
        {
          "output_type": "stream",
          "name": "stderr",
          "text": [
            "Optimizing chunk 2:  27%|██▋       | 3/11 [39:18<1:20:15, 601.94s/it]"
          ]
        },
        {
          "output_type": "stream",
          "name": "stdout",
          "text": [
            "[I 2025-05-01 09:47:27,728] Trial 22 finished with value: 0.04213820327510616 and parameters: {'lookback': 6, 'units': 89, 'dropout': 0.26164805089575693, 'batch_size': 32, 'epochs': 22}. Best is trial 15 with value: 0.02417591746806483.\n",
            "\u001b[1m7/7\u001b[0m \u001b[32m━━━━━━━━━━━━━━━━━━━━\u001b[0m\u001b[37m\u001b[0m \u001b[1m0s\u001b[0m 31ms/step\n"
          ]
        },
        {
          "output_type": "stream",
          "name": "stderr",
          "text": [
            "Optimizing chunk 2:  27%|██▋       | 3/11 [39:23<1:20:15, 601.94s/it]"
          ]
        },
        {
          "output_type": "stream",
          "name": "stdout",
          "text": [
            "[I 2025-05-01 09:47:32,276] Trial 23 finished with value: 0.10317565147741445 and parameters: {'lookback': 1, 'units': 57, 'dropout': 0.2827427010196938, 'batch_size': 32, 'epochs': 20}. Best is trial 15 with value: 0.02417591746806483.\n",
            "\u001b[1m7/7\u001b[0m \u001b[32m━━━━━━━━━━━━━━━━━━━━\u001b[0m\u001b[37m\u001b[0m \u001b[1m0s\u001b[0m 34ms/step\n"
          ]
        },
        {
          "output_type": "stream",
          "name": "stderr",
          "text": [
            "Optimizing chunk 2:  27%|██▋       | 3/11 [39:40<1:20:15, 601.94s/it]"
          ]
        },
        {
          "output_type": "stream",
          "name": "stdout",
          "text": [
            "[I 2025-05-01 09:47:49,231] Trial 24 finished with value: 0.04189912014588519 and parameters: {'lookback': 16, 'units': 108, 'dropout': 0.3475545264354709, 'batch_size': 32, 'epochs': 22}. Best is trial 15 with value: 0.02417591746806483.\n",
            "\u001b[1m7/7\u001b[0m \u001b[32m━━━━━━━━━━━━━━━━━━━━\u001b[0m\u001b[37m\u001b[0m \u001b[1m0s\u001b[0m 35ms/step\n"
          ]
        },
        {
          "output_type": "stream",
          "name": "stderr",
          "text": [
            "Optimizing chunk 2:  27%|██▋       | 3/11 [39:51<1:20:15, 601.94s/it]"
          ]
        },
        {
          "output_type": "stream",
          "name": "stdout",
          "text": [
            "[I 2025-05-01 09:48:01,010] Trial 25 finished with value: 0.04183519193502701 and parameters: {'lookback': 6, 'units': 129, 'dropout': 0.23880376456145624, 'batch_size': 32, 'epochs': 24}. Best is trial 15 with value: 0.02417591746806483.\n",
            "\u001b[1m7/7\u001b[0m \u001b[32m━━━━━━━━━━━━━━━━━━━━\u001b[0m\u001b[37m\u001b[0m \u001b[1m0s\u001b[0m 38ms/step\n"
          ]
        },
        {
          "output_type": "stream",
          "name": "stderr",
          "text": [
            "Optimizing chunk 2:  27%|██▋       | 3/11 [40:08<1:20:15, 601.94s/it]"
          ]
        },
        {
          "output_type": "stream",
          "name": "stdout",
          "text": [
            "[I 2025-05-01 09:48:17,334] Trial 26 finished with value: 0.04752106190703559 and parameters: {'lookback': 21, 'units': 96, 'dropout': 0.1640448199590819, 'batch_size': 64, 'epochs': 25}. Best is trial 15 with value: 0.02417591746806483.\n",
            "\u001b[1m7/7\u001b[0m \u001b[32m━━━━━━━━━━━━━━━━━━━━\u001b[0m\u001b[37m\u001b[0m \u001b[1m0s\u001b[0m 34ms/step\n"
          ]
        },
        {
          "output_type": "stream",
          "name": "stderr",
          "text": [
            "Optimizing chunk 2:  27%|██▋       | 3/11 [40:16<1:20:15, 601.94s/it]"
          ]
        },
        {
          "output_type": "stream",
          "name": "stdout",
          "text": [
            "[I 2025-05-01 09:48:25,480] Trial 27 finished with value: 0.02623126895491551 and parameters: {'lookback': 1, 'units': 57, 'dropout': 0.20846059785587445, 'batch_size': 32, 'epochs': 22}. Best is trial 15 with value: 0.02417591746806483.\n",
            "\u001b[1m7/7\u001b[0m \u001b[32m━━━━━━━━━━━━━━━━━━━━\u001b[0m\u001b[37m\u001b[0m \u001b[1m0s\u001b[0m 40ms/step\n"
          ]
        },
        {
          "output_type": "stream",
          "name": "stderr",
          "text": [
            "Optimizing chunk 2:  27%|██▋       | 3/11 [40:36<1:20:15, 601.94s/it]"
          ]
        },
        {
          "output_type": "stream",
          "name": "stdout",
          "text": [
            "[I 2025-05-01 09:48:45,180] Trial 28 finished with value: 0.04087395101783379 and parameters: {'lookback': 11, 'units': 146, 'dropout': 0.31192386414316464, 'batch_size': 32, 'epochs': 27}. Best is trial 15 with value: 0.02417591746806483.\n",
            "\u001b[1m7/7\u001b[0m \u001b[32m━━━━━━━━━━━━━━━━━━━━\u001b[0m\u001b[37m\u001b[0m \u001b[1m0s\u001b[0m 37ms/step\n"
          ]
        },
        {
          "output_type": "stream",
          "name": "stderr",
          "text": [
            "Optimizing chunk 2:  36%|███▋      | 4/11 [40:55<1:15:09, 644.15s/it][I 2025-05-01 09:49:04,429] A new study created in memory with name: no-name-15d5543c-6185-4471-bb8a-6510cee73751\n"
          ]
        },
        {
          "output_type": "stream",
          "name": "stdout",
          "text": [
            "[I 2025-05-01 09:49:04,394] Trial 29 finished with value: 0.05364442357105334 and parameters: {'lookback': 41, 'units': 37, 'dropout': 0.3786889066255182, 'batch_size': 32, 'epochs': 24}. Best is trial 15 with value: 0.02417591746806483.\n",
            "✅ Done: MDB.O — Best Params: {'lookback': 1, 'units': 75, 'dropout': 0.3289241446845871, 'batch_size': 32, 'epochs': 25}\n",
            "\n",
            "🔍 Optimizing for META.O...\n"
          ]
        },
        {
          "output_type": "display_data",
          "data": {
            "text/plain": [
              "  0%|          | 0/30 [00:00<?, ?it/s]"
            ],
            "application/vnd.jupyter.widget-view+json": {
              "version_major": 2,
              "version_minor": 0,
              "model_id": "44fa94e904484be4b46e235651b20046"
            }
          },
          "metadata": {}
        },
        {
          "output_type": "stream",
          "name": "stdout",
          "text": [
            "\u001b[1m6/6\u001b[0m \u001b[32m━━━━━━━━━━━━━━━━━━━━\u001b[0m\u001b[37m\u001b[0m \u001b[1m0s\u001b[0m 33ms/step\n"
          ]
        },
        {
          "output_type": "stream",
          "name": "stderr",
          "text": [
            "Optimizing chunk 2:  36%|███▋      | 4/11 [42:02<1:15:09, 644.15s/it]"
          ]
        },
        {
          "output_type": "stream",
          "name": "stdout",
          "text": [
            "[I 2025-05-01 09:50:11,635] Trial 0 finished with value: 0.031178650672445758 and parameters: {'lookback': 46, 'units': 225, 'dropout': 0.47557589287825963, 'batch_size': 32, 'epochs': 23}. Best is trial 0 with value: 0.031178650672445758.\n",
            "\u001b[1m6/6\u001b[0m \u001b[32m━━━━━━━━━━━━━━━━━━━━\u001b[0m\u001b[37m\u001b[0m \u001b[1m0s\u001b[0m 48ms/step\n"
          ]
        },
        {
          "output_type": "stream",
          "name": "stderr",
          "text": [
            "Optimizing chunk 2:  36%|███▋      | 4/11 [42:25<1:15:09, 644.15s/it]"
          ]
        },
        {
          "output_type": "stream",
          "name": "stdout",
          "text": [
            "[I 2025-05-01 09:50:34,307] Trial 1 finished with value: 0.03347131443750409 and parameters: {'lookback': 56, 'units': 39, 'dropout': 0.3444469601433119, 'batch_size': 32, 'epochs': 24}. Best is trial 0 with value: 0.031178650672445758.\n",
            "\u001b[1m7/7\u001b[0m \u001b[32m━━━━━━━━━━━━━━━━━━━━\u001b[0m\u001b[37m\u001b[0m \u001b[1m0s\u001b[0m 40ms/step\n"
          ]
        },
        {
          "output_type": "stream",
          "name": "stderr",
          "text": [
            "Optimizing chunk 2:  36%|███▋      | 4/11 [42:46<1:15:09, 644.15s/it]"
          ]
        },
        {
          "output_type": "stream",
          "name": "stdout",
          "text": [
            "[I 2025-05-01 09:50:55,935] Trial 2 finished with value: 0.029946016791403577 and parameters: {'lookback': 16, 'units': 119, 'dropout': 0.44113197841505414, 'batch_size': 32, 'epochs': 26}. Best is trial 2 with value: 0.029946016791403577.\n",
            "\u001b[1m7/7\u001b[0m \u001b[32m━━━━━━━━━━━━━━━━━━━━\u001b[0m\u001b[37m\u001b[0m \u001b[1m1s\u001b[0m 59ms/step\n"
          ]
        },
        {
          "output_type": "stream",
          "name": "stderr",
          "text": [
            "Optimizing chunk 2:  36%|███▋      | 4/11 [42:54<1:15:09, 644.15s/it]"
          ]
        },
        {
          "output_type": "stream",
          "name": "stdout",
          "text": [
            "[I 2025-05-01 09:51:03,917] Trial 3 finished with value: 0.04072774898511817 and parameters: {'lookback': 36, 'units': 72, 'dropout': 0.45023560739713875, 'batch_size': 64, 'epochs': 29}. Best is trial 2 with value: 0.029946016791403577.\n",
            "\u001b[1m7/7\u001b[0m \u001b[32m━━━━━━━━━━━━━━━━━━━━\u001b[0m\u001b[37m\u001b[0m \u001b[1m0s\u001b[0m 46ms/step\n"
          ]
        },
        {
          "output_type": "stream",
          "name": "stderr",
          "text": [
            "Optimizing chunk 2:  36%|███▋      | 4/11 [43:30<1:15:09, 644.15s/it]"
          ]
        },
        {
          "output_type": "stream",
          "name": "stdout",
          "text": [
            "[I 2025-05-01 09:51:40,018] Trial 4 finished with value: 0.03218201005104056 and parameters: {'lookback': 41, 'units': 146, 'dropout': 0.11093454942691526, 'batch_size': 64, 'epochs': 26}. Best is trial 2 with value: 0.029946016791403577.\n",
            "\u001b[1m6/6\u001b[0m \u001b[32m━━━━━━━━━━━━━━━━━━━━\u001b[0m\u001b[37m\u001b[0m \u001b[1m0s\u001b[0m 42ms/step\n"
          ]
        },
        {
          "output_type": "stream",
          "name": "stderr",
          "text": [
            "Optimizing chunk 2:  36%|███▋      | 4/11 [43:50<1:15:09, 644.15s/it]"
          ]
        },
        {
          "output_type": "stream",
          "name": "stdout",
          "text": [
            "[I 2025-05-01 09:51:59,851] Trial 5 finished with value: 0.033864805040319614 and parameters: {'lookback': 51, 'units': 51, 'dropout': 0.2806405083848499, 'batch_size': 64, 'epochs': 30}. Best is trial 2 with value: 0.029946016791403577.\n",
            "\u001b[1m7/7\u001b[0m \u001b[32m━━━━━━━━━━━━━━━━━━━━\u001b[0m\u001b[37m\u001b[0m \u001b[1m0s\u001b[0m 44ms/step\n"
          ]
        },
        {
          "output_type": "stream",
          "name": "stderr",
          "text": [
            "Optimizing chunk 2:  36%|███▋      | 4/11 [44:07<1:15:09, 644.15s/it]"
          ]
        },
        {
          "output_type": "stream",
          "name": "stdout",
          "text": [
            "[I 2025-05-01 09:52:16,759] Trial 6 finished with value: 0.03113465626276356 and parameters: {'lookback': 11, 'units': 222, 'dropout': 0.28011503349702616, 'batch_size': 64, 'epochs': 32}. Best is trial 2 with value: 0.029946016791403577.\n",
            "\u001b[1m7/7\u001b[0m \u001b[32m━━━━━━━━━━━━━━━━━━━━\u001b[0m\u001b[37m\u001b[0m \u001b[1m1s\u001b[0m 52ms/step\n"
          ]
        },
        {
          "output_type": "stream",
          "name": "stderr",
          "text": [
            "Optimizing chunk 2:  36%|███▋      | 4/11 [45:02<1:15:09, 644.15s/it]"
          ]
        },
        {
          "output_type": "stream",
          "name": "stdout",
          "text": [
            "[I 2025-05-01 09:53:11,823] Trial 7 finished with value: 0.031779666143058306 and parameters: {'lookback': 41, 'units': 206, 'dropout': 0.36661362970727485, 'batch_size': 64, 'epochs': 26}. Best is trial 2 with value: 0.029946016791403577.\n",
            "\u001b[1m7/7\u001b[0m \u001b[32m━━━━━━━━━━━━━━━━━━━━\u001b[0m\u001b[37m\u001b[0m \u001b[1m1s\u001b[0m 52ms/step\n"
          ]
        },
        {
          "output_type": "stream",
          "name": "stderr",
          "text": [
            "Optimizing chunk 2:  36%|███▋      | 4/11 [45:43<1:15:09, 644.15s/it]"
          ]
        },
        {
          "output_type": "stream",
          "name": "stdout",
          "text": [
            "[I 2025-05-01 09:53:52,524] Trial 8 finished with value: 0.03112119102564752 and parameters: {'lookback': 21, 'units': 235, 'dropout': 0.40669227329709323, 'batch_size': 32, 'epochs': 33}. Best is trial 2 with value: 0.029946016791403577.\n",
            "\u001b[1m7/7\u001b[0m \u001b[32m━━━━━━━━━━━━━━━━━━━━\u001b[0m\u001b[37m\u001b[0m \u001b[1m1s\u001b[0m 53ms/step\n"
          ]
        },
        {
          "output_type": "stream",
          "name": "stderr",
          "text": [
            "Optimizing chunk 2:  36%|███▋      | 4/11 [46:29<1:15:09, 644.15s/it]"
          ]
        },
        {
          "output_type": "stream",
          "name": "stdout",
          "text": [
            "[I 2025-05-01 09:54:38,287] Trial 9 finished with value: 0.03416821092607956 and parameters: {'lookback': 36, 'units': 175, 'dropout': 0.31055844294921076, 'batch_size': 64, 'epochs': 33}. Best is trial 2 with value: 0.029946016791403577.\n",
            "\u001b[1m7/7\u001b[0m \u001b[32m━━━━━━━━━━━━━━━━━━━━\u001b[0m\u001b[37m\u001b[0m \u001b[1m1s\u001b[0m 53ms/step\n"
          ]
        },
        {
          "output_type": "stream",
          "name": "stderr",
          "text": [
            "Optimizing chunk 2:  36%|███▋      | 4/11 [46:37<1:15:09, 644.15s/it]"
          ]
        },
        {
          "output_type": "stream",
          "name": "stdout",
          "text": [
            "[I 2025-05-01 09:54:46,829] Trial 10 finished with value: 0.020170835390300828 and parameters: {'lookback': 1, 'units': 100, 'dropout': 0.20573596526758503, 'batch_size': 32, 'epochs': 20}. Best is trial 10 with value: 0.020170835390300828.\n",
            "\u001b[1m7/7\u001b[0m \u001b[32m━━━━━━━━━━━━━━━━━━━━\u001b[0m\u001b[37m\u001b[0m \u001b[1m0s\u001b[0m 32ms/step\n"
          ]
        },
        {
          "output_type": "stream",
          "name": "stderr",
          "text": [
            "Optimizing chunk 2:  36%|███▋      | 4/11 [46:45<1:15:09, 644.15s/it]"
          ]
        },
        {
          "output_type": "stream",
          "name": "stdout",
          "text": [
            "[I 2025-05-01 09:54:55,015] Trial 11 finished with value: 0.020944849650373305 and parameters: {'lookback': 1, 'units': 100, 'dropout': 0.20082295524777127, 'batch_size': 32, 'epochs': 20}. Best is trial 10 with value: 0.020170835390300828.\n",
            "\u001b[1m7/7\u001b[0m \u001b[32m━━━━━━━━━━━━━━━━━━━━\u001b[0m\u001b[37m\u001b[0m \u001b[1m0s\u001b[0m 34ms/step\n"
          ]
        },
        {
          "output_type": "stream",
          "name": "stderr",
          "text": [
            "Optimizing chunk 2:  36%|███▋      | 4/11 [46:53<1:15:09, 644.15s/it]"
          ]
        },
        {
          "output_type": "stream",
          "name": "stdout",
          "text": [
            "[I 2025-05-01 09:55:02,850] Trial 12 finished with value: 0.0204416753903657 and parameters: {'lookback': 1, 'units': 95, 'dropout': 0.18159353839589343, 'batch_size': 32, 'epochs': 21}. Best is trial 10 with value: 0.020170835390300828.\n",
            "\u001b[1m7/7\u001b[0m \u001b[32m━━━━━━━━━━━━━━━━━━━━\u001b[0m\u001b[37m\u001b[0m \u001b[1m0s\u001b[0m 35ms/step\n"
          ]
        },
        {
          "output_type": "stream",
          "name": "stderr",
          "text": [
            "Optimizing chunk 2:  36%|███▋      | 4/11 [47:00<1:15:09, 644.15s/it]"
          ]
        },
        {
          "output_type": "stream",
          "name": "stdout",
          "text": [
            "[I 2025-05-01 09:55:09,809] Trial 13 finished with value: 0.020566365862769973 and parameters: {'lookback': 1, 'units': 92, 'dropout': 0.1752241897669773, 'batch_size': 32, 'epochs': 20}. Best is trial 10 with value: 0.020170835390300828.\n",
            "\u001b[1m7/7\u001b[0m \u001b[32m━━━━━━━━━━━━━━━━━━━━\u001b[0m\u001b[37m\u001b[0m \u001b[1m0s\u001b[0m 37ms/step\n"
          ]
        },
        {
          "output_type": "stream",
          "name": "stderr",
          "text": [
            "Optimizing chunk 2:  36%|███▋      | 4/11 [47:12<1:15:09, 644.15s/it]"
          ]
        },
        {
          "output_type": "stream",
          "name": "stdout",
          "text": [
            "[I 2025-05-01 09:55:21,640] Trial 14 finished with value: 0.03022854283496786 and parameters: {'lookback': 6, 'units': 139, 'dropout': 0.2122720377137882, 'batch_size': 32, 'epochs': 22}. Best is trial 10 with value: 0.020170835390300828.\n",
            "\u001b[1m7/7\u001b[0m \u001b[32m━━━━━━━━━━━━━━━━━━━━\u001b[0m\u001b[37m\u001b[0m \u001b[1m0s\u001b[0m 34ms/step\n"
          ]
        },
        {
          "output_type": "stream",
          "name": "stderr",
          "text": [
            "Optimizing chunk 2:  36%|███▋      | 4/11 [47:25<1:15:09, 644.15s/it]"
          ]
        },
        {
          "output_type": "stream",
          "name": "stdout",
          "text": [
            "[I 2025-05-01 09:55:34,960] Trial 15 finished with value: 0.035939340564264635 and parameters: {'lookback': 26, 'units': 70, 'dropout': 0.10463902130187194, 'batch_size': 32, 'epochs': 22}. Best is trial 10 with value: 0.020170835390300828.\n",
            "\u001b[1m7/7\u001b[0m \u001b[32m━━━━━━━━━━━━━━━━━━━━\u001b[0m\u001b[37m\u001b[0m \u001b[1m0s\u001b[0m 39ms/step\n"
          ]
        },
        {
          "output_type": "stream",
          "name": "stderr",
          "text": [
            "Optimizing chunk 2:  36%|███▋      | 4/11 [47:42<1:15:09, 644.15s/it]"
          ]
        },
        {
          "output_type": "stream",
          "name": "stdout",
          "text": [
            "[I 2025-05-01 09:55:51,924] Trial 16 finished with value: 0.03132457072233342 and parameters: {'lookback': 11, 'units': 164, 'dropout': 0.16421447147120458, 'batch_size': 32, 'epochs': 20}. Best is trial 10 with value: 0.020170835390300828.\n",
            "\u001b[1m7/7\u001b[0m \u001b[32m━━━━━━━━━━━━━━━━━━━━\u001b[0m\u001b[37m\u001b[0m \u001b[1m0s\u001b[0m 31ms/step\n"
          ]
        },
        {
          "output_type": "stream",
          "name": "stderr",
          "text": [
            "Optimizing chunk 2:  36%|███▋      | 4/11 [47:49<1:15:09, 644.15s/it]"
          ]
        },
        {
          "output_type": "stream",
          "name": "stdout",
          "text": [
            "[I 2025-05-01 09:55:59,120] Trial 17 finished with value: 0.020909179254118542 and parameters: {'lookback': 1, 'units': 109, 'dropout': 0.2507577734614307, 'batch_size': 32, 'epochs': 35}. Best is trial 10 with value: 0.020170835390300828.\n",
            "\u001b[1m7/7\u001b[0m \u001b[32m━━━━━━━━━━━━━━━━━━━━\u001b[0m\u001b[37m\u001b[0m \u001b[1m0s\u001b[0m 39ms/step\n"
          ]
        },
        {
          "output_type": "stream",
          "name": "stderr",
          "text": [
            "Optimizing chunk 2:  36%|███▋      | 4/11 [48:01<1:15:09, 644.15s/it]"
          ]
        },
        {
          "output_type": "stream",
          "name": "stdout",
          "text": [
            "[I 2025-05-01 09:56:10,454] Trial 18 finished with value: 0.031679452904293075 and parameters: {'lookback': 11, 'units': 73, 'dropout': 0.22702937170577878, 'batch_size': 32, 'epochs': 24}. Best is trial 10 with value: 0.020170835390300828.\n",
            "\u001b[1m7/7\u001b[0m \u001b[32m━━━━━━━━━━━━━━━━━━━━\u001b[0m\u001b[37m\u001b[0m \u001b[1m0s\u001b[0m 37ms/step\n"
          ]
        },
        {
          "output_type": "stream",
          "name": "stderr",
          "text": [
            "Optimizing chunk 2:  36%|███▋      | 4/11 [48:26<1:15:09, 644.15s/it]"
          ]
        },
        {
          "output_type": "stream",
          "name": "stdout",
          "text": [
            "[I 2025-05-01 09:56:35,614] Trial 19 finished with value: 0.02919542078852976 and parameters: {'lookback': 21, 'units': 122, 'dropout': 0.15928601003115347, 'batch_size': 32, 'epochs': 22}. Best is trial 10 with value: 0.020170835390300828.\n",
            "\u001b[1m7/7\u001b[0m \u001b[32m━━━━━━━━━━━━━━━━━━━━\u001b[0m\u001b[37m\u001b[0m \u001b[1m0s\u001b[0m 35ms/step\n"
          ]
        },
        {
          "output_type": "stream",
          "name": "stderr",
          "text": [
            "Optimizing chunk 2:  36%|███▋      | 4/11 [48:40<1:15:09, 644.15s/it]"
          ]
        },
        {
          "output_type": "stream",
          "name": "stdout",
          "text": [
            "[I 2025-05-01 09:56:49,487] Trial 20 finished with value: 0.029769645661182308 and parameters: {'lookback': 6, 'units': 184, 'dropout': 0.1412027829566427, 'batch_size': 32, 'epochs': 24}. Best is trial 10 with value: 0.020170835390300828.\n",
            "\u001b[1m7/7\u001b[0m \u001b[32m━━━━━━━━━━━━━━━━━━━━\u001b[0m\u001b[37m\u001b[0m \u001b[1m0s\u001b[0m 36ms/step\n"
          ]
        },
        {
          "output_type": "stream",
          "name": "stderr",
          "text": [
            "Optimizing chunk 2:  36%|███▋      | 4/11 [48:49<1:15:09, 644.15s/it]"
          ]
        },
        {
          "output_type": "stream",
          "name": "stdout",
          "text": [
            "[I 2025-05-01 09:56:58,332] Trial 21 finished with value: 0.02116872216756233 and parameters: {'lookback': 1, 'units': 99, 'dropout': 0.19416015975382403, 'batch_size': 32, 'epochs': 20}. Best is trial 10 with value: 0.020170835390300828.\n",
            "\u001b[1m7/7\u001b[0m \u001b[32m━━━━━━━━━━━━━━━━━━━━\u001b[0m\u001b[37m\u001b[0m \u001b[1m0s\u001b[0m 33ms/step\n"
          ]
        },
        {
          "output_type": "stream",
          "name": "stderr",
          "text": [
            "Optimizing chunk 2:  36%|███▋      | 4/11 [48:57<1:15:09, 644.15s/it]"
          ]
        },
        {
          "output_type": "stream",
          "name": "stdout",
          "text": [
            "[I 2025-05-01 09:57:06,821] Trial 22 finished with value: 0.03117013035352622 and parameters: {'lookback': 6, 'units': 86, 'dropout': 0.25149452778842607, 'batch_size': 32, 'epochs': 21}. Best is trial 10 with value: 0.020170835390300828.\n",
            "\u001b[1m7/7\u001b[0m \u001b[32m━━━━━━━━━━━━━━━━━━━━\u001b[0m\u001b[37m\u001b[0m \u001b[1m0s\u001b[0m 34ms/step\n"
          ]
        },
        {
          "output_type": "stream",
          "name": "stderr",
          "text": [
            "Optimizing chunk 2:  36%|███▋      | 4/11 [49:04<1:15:09, 644.15s/it]"
          ]
        },
        {
          "output_type": "stream",
          "name": "stdout",
          "text": [
            "[I 2025-05-01 09:57:13,826] Trial 23 finished with value: 0.01985283096256112 and parameters: {'lookback': 1, 'units': 140, 'dropout': 0.1830631248510303, 'batch_size': 32, 'epochs': 21}. Best is trial 23 with value: 0.01985283096256112.\n",
            "\u001b[1m7/7\u001b[0m \u001b[32m━━━━━━━━━━━━━━━━━━━━\u001b[0m\u001b[37m\u001b[0m \u001b[1m0s\u001b[0m 40ms/step\n"
          ]
        },
        {
          "output_type": "stream",
          "name": "stderr",
          "text": [
            "Optimizing chunk 2:  36%|███▋      | 4/11 [49:26<1:15:09, 644.15s/it]"
          ]
        },
        {
          "output_type": "stream",
          "name": "stdout",
          "text": [
            "[I 2025-05-01 09:57:35,467] Trial 24 finished with value: 0.030588003479435633 and parameters: {'lookback': 16, 'units': 136, 'dropout': 0.1338197128266696, 'batch_size': 32, 'epochs': 22}. Best is trial 23 with value: 0.01985283096256112.\n",
            "\u001b[1m7/7\u001b[0m \u001b[32m━━━━━━━━━━━━━━━━━━━━\u001b[0m\u001b[37m\u001b[0m \u001b[1m0s\u001b[0m 36ms/step\n"
          ]
        },
        {
          "output_type": "stream",
          "name": "stderr",
          "text": [
            "Optimizing chunk 2:  36%|███▋      | 4/11 [49:40<1:15:09, 644.15s/it]"
          ]
        },
        {
          "output_type": "stream",
          "name": "stdout",
          "text": [
            "[I 2025-05-01 09:57:49,614] Trial 25 finished with value: 0.02823670921049197 and parameters: {'lookback': 6, 'units': 126, 'dropout': 0.23943165930732585, 'batch_size': 32, 'epochs': 25}. Best is trial 23 with value: 0.01985283096256112.\n",
            "\u001b[1m7/7\u001b[0m \u001b[32m━━━━━━━━━━━━━━━━━━━━\u001b[0m\u001b[37m\u001b[0m \u001b[1m0s\u001b[0m 37ms/step\n"
          ]
        },
        {
          "output_type": "stream",
          "name": "stderr",
          "text": [
            "Optimizing chunk 2:  36%|███▋      | 4/11 [49:57<1:15:09, 644.15s/it]"
          ]
        },
        {
          "output_type": "stream",
          "name": "stdout",
          "text": [
            "[I 2025-05-01 09:58:06,734] Trial 26 finished with value: 0.031598402125029595 and parameters: {'lookback': 16, 'units': 162, 'dropout': 0.1850257596599323, 'batch_size': 32, 'epochs': 28}. Best is trial 23 with value: 0.01985283096256112.\n",
            "\u001b[1m7/7\u001b[0m \u001b[32m━━━━━━━━━━━━━━━━━━━━\u001b[0m\u001b[37m\u001b[0m \u001b[1m1s\u001b[0m 63ms/step\n"
          ]
        },
        {
          "output_type": "stream",
          "name": "stderr",
          "text": [
            "Optimizing chunk 2:  36%|███▋      | 4/11 [50:20<1:15:09, 644.15s/it]"
          ]
        },
        {
          "output_type": "stream",
          "name": "stdout",
          "text": [
            "[I 2025-05-01 09:58:29,546] Trial 27 finished with value: 0.03465153025112263 and parameters: {'lookback': 26, 'units': 151, 'dropout': 0.13524787136160796, 'batch_size': 32, 'epochs': 21}. Best is trial 23 with value: 0.01985283096256112.\n",
            "\u001b[1m7/7\u001b[0m \u001b[32m━━━━━━━━━━━━━━━━━━━━\u001b[0m\u001b[37m\u001b[0m \u001b[1m0s\u001b[0m 44ms/step\n"
          ]
        },
        {
          "output_type": "stream",
          "name": "stderr",
          "text": [
            "Optimizing chunk 2:  36%|███▋      | 4/11 [50:41<1:15:09, 644.15s/it]"
          ]
        },
        {
          "output_type": "stream",
          "name": "stdout",
          "text": [
            "[I 2025-05-01 09:58:50,167] Trial 28 finished with value: 0.03075553125120562 and parameters: {'lookback': 11, 'units': 254, 'dropout': 0.31087161603292507, 'batch_size': 32, 'epochs': 23}. Best is trial 23 with value: 0.01985283096256112.\n",
            "\u001b[1m7/7\u001b[0m \u001b[32m━━━━━━━━━━━━━━━━━━━━\u001b[0m\u001b[37m\u001b[0m \u001b[1m0s\u001b[0m 35ms/step\n"
          ]
        },
        {
          "output_type": "stream",
          "name": "stderr",
          "text": [
            "Optimizing chunk 2:  45%|████▌     | 5/11 [50:49<1:02:37, 626.29s/it][I 2025-05-01 09:58:59,067] A new study created in memory with name: no-name-65e08c37-bbd0-48ea-9bfc-82f67d254694\n"
          ]
        },
        {
          "output_type": "stream",
          "name": "stdout",
          "text": [
            "[I 2025-05-01 09:58:59,036] Trial 29 finished with value: 0.020616528024304435 and parameters: {'lookback': 1, 'units': 54, 'dropout': 0.213393056766711, 'batch_size': 32, 'epochs': 23}. Best is trial 23 with value: 0.01985283096256112.\n",
            "✅ Done: META.O — Best Params: {'lookback': 1, 'units': 140, 'dropout': 0.1830631248510303, 'batch_size': 32, 'epochs': 21}\n",
            "\n",
            "🔍 Optimizing for MRVL.O...\n"
          ]
        },
        {
          "output_type": "display_data",
          "data": {
            "text/plain": [
              "  0%|          | 0/30 [00:00<?, ?it/s]"
            ],
            "application/vnd.jupyter.widget-view+json": {
              "version_major": 2,
              "version_minor": 0,
              "model_id": "5bb911df147f45888255f316e960c753"
            }
          },
          "metadata": {}
        },
        {
          "output_type": "stream",
          "name": "stdout",
          "text": [
            "\u001b[1m7/7\u001b[0m \u001b[32m━━━━━━━━━━━━━━━━━━━━\u001b[0m\u001b[37m\u001b[0m \u001b[1m0s\u001b[0m 41ms/step\n"
          ]
        },
        {
          "output_type": "stream",
          "name": "stderr",
          "text": [
            "Optimizing chunk 2:  45%|████▌     | 5/11 [51:15<1:02:37, 626.29s/it]"
          ]
        },
        {
          "output_type": "stream",
          "name": "stdout",
          "text": [
            "[I 2025-05-01 09:59:24,691] Trial 0 finished with value: 0.043107749654336294 and parameters: {'lookback': 36, 'units': 102, 'dropout': 0.224974505232901, 'batch_size': 64, 'epochs': 30}. Best is trial 0 with value: 0.043107749654336294.\n",
            "\u001b[1m7/7\u001b[0m \u001b[32m━━━━━━━━━━━━━━━━━━━━\u001b[0m\u001b[37m\u001b[0m \u001b[1m0s\u001b[0m 36ms/step\n"
          ]
        },
        {
          "output_type": "stream",
          "name": "stderr",
          "text": [
            "Optimizing chunk 2:  45%|████▌     | 5/11 [51:24<1:02:37, 626.29s/it]"
          ]
        },
        {
          "output_type": "stream",
          "name": "stdout",
          "text": [
            "[I 2025-05-01 09:59:33,319] Trial 1 finished with value: 0.05526787319182074 and parameters: {'lookback': 36, 'units': 32, 'dropout': 0.18851559317621414, 'batch_size': 64, 'epochs': 28}. Best is trial 0 with value: 0.043107749654336294.\n",
            "\u001b[1m7/7\u001b[0m \u001b[32m━━━━━━━━━━━━━━━━━━━━\u001b[0m\u001b[37m\u001b[0m \u001b[1m1s\u001b[0m 64ms/step\n"
          ]
        },
        {
          "output_type": "stream",
          "name": "stderr",
          "text": [
            "Optimizing chunk 2:  45%|████▌     | 5/11 [52:20<1:02:37, 626.29s/it]"
          ]
        },
        {
          "output_type": "stream",
          "name": "stdout",
          "text": [
            "[I 2025-05-01 10:00:29,479] Trial 2 finished with value: 0.045597639593059666 and parameters: {'lookback': 41, 'units': 249, 'dropout': 0.25974089106380915, 'batch_size': 64, 'epochs': 20}. Best is trial 0 with value: 0.043107749654336294.\n",
            "\u001b[1m7/7\u001b[0m \u001b[32m━━━━━━━━━━━━━━━━━━━━\u001b[0m\u001b[37m\u001b[0m \u001b[1m1s\u001b[0m 83ms/step\n"
          ]
        },
        {
          "output_type": "stream",
          "name": "stderr",
          "text": [
            "Optimizing chunk 2:  45%|████▌     | 5/11 [53:02<1:02:37, 626.29s/it]"
          ]
        },
        {
          "output_type": "stream",
          "name": "stdout",
          "text": [
            "[I 2025-05-01 10:01:11,425] Trial 3 finished with value: 0.04289290950738807 and parameters: {'lookback': 31, 'units': 164, 'dropout': 0.16884070536146806, 'batch_size': 64, 'epochs': 30}. Best is trial 3 with value: 0.04289290950738807.\n",
            "\u001b[1m7/7\u001b[0m \u001b[32m━━━━━━━━━━━━━━━━━━━━\u001b[0m\u001b[37m\u001b[0m \u001b[1m0s\u001b[0m 37ms/step\n"
          ]
        },
        {
          "output_type": "stream",
          "name": "stderr",
          "text": [
            "Optimizing chunk 2:  45%|████▌     | 5/11 [53:17<1:02:37, 626.29s/it]"
          ]
        },
        {
          "output_type": "stream",
          "name": "stdout",
          "text": [
            "[I 2025-05-01 10:01:26,318] Trial 4 finished with value: 0.051123008284298416 and parameters: {'lookback': 21, 'units': 32, 'dropout': 0.4153253139403984, 'batch_size': 32, 'epochs': 30}. Best is trial 3 with value: 0.04289290950738807.\n",
            "\u001b[1m7/7\u001b[0m \u001b[32m━━━━━━━━━━━━━━━━━━━━\u001b[0m\u001b[37m\u001b[0m \u001b[1m1s\u001b[0m 63ms/step\n"
          ]
        },
        {
          "output_type": "stream",
          "name": "stderr",
          "text": [
            "Optimizing chunk 2:  45%|████▌     | 5/11 [53:39<1:02:37, 626.29s/it]"
          ]
        },
        {
          "output_type": "stream",
          "name": "stdout",
          "text": [
            "[I 2025-05-01 10:01:48,335] Trial 5 finished with value: 0.04217417587881875 and parameters: {'lookback': 11, 'units': 238, 'dropout': 0.4249161961620064, 'batch_size': 32, 'epochs': 34}. Best is trial 5 with value: 0.04217417587881875.\n",
            "\u001b[1m7/7\u001b[0m \u001b[32m━━━━━━━━━━━━━━━━━━━━\u001b[0m\u001b[37m\u001b[0m \u001b[1m0s\u001b[0m 43ms/step\n"
          ]
        },
        {
          "output_type": "stream",
          "name": "stderr",
          "text": [
            "Optimizing chunk 2:  45%|████▌     | 5/11 [54:06<1:02:37, 626.29s/it]"
          ]
        },
        {
          "output_type": "stream",
          "name": "stdout",
          "text": [
            "[I 2025-05-01 10:02:16,143] Trial 6 finished with value: 0.04916260677481706 and parameters: {'lookback': 41, 'units': 95, 'dropout': 0.43053912201972844, 'batch_size': 64, 'epochs': 30}. Best is trial 5 with value: 0.04217417587881875.\n",
            "\u001b[1m6/6\u001b[0m \u001b[32m━━━━━━━━━━━━━━━━━━━━\u001b[0m\u001b[37m\u001b[0m \u001b[1m0s\u001b[0m 48ms/step\n"
          ]
        },
        {
          "output_type": "stream",
          "name": "stderr",
          "text": [
            "Optimizing chunk 2:  45%|████▌     | 5/11 [54:22<1:02:37, 626.29s/it]"
          ]
        },
        {
          "output_type": "stream",
          "name": "stdout",
          "text": [
            "[I 2025-05-01 10:02:31,616] Trial 7 finished with value: 0.04637624058901359 and parameters: {'lookback': 56, 'units': 34, 'dropout': 0.15030767867827044, 'batch_size': 32, 'epochs': 26}. Best is trial 5 with value: 0.04217417587881875.\n",
            "\u001b[1m7/7\u001b[0m \u001b[32m━━━━━━━━━━━━━━━━━━━━\u001b[0m\u001b[37m\u001b[0m \u001b[1m0s\u001b[0m 37ms/step\n"
          ]
        },
        {
          "output_type": "stream",
          "name": "stderr",
          "text": [
            "Optimizing chunk 2:  45%|████▌     | 5/11 [54:31<1:02:37, 626.29s/it]"
          ]
        },
        {
          "output_type": "stream",
          "name": "stdout",
          "text": [
            "[I 2025-05-01 10:02:40,488] Trial 8 finished with value: 0.034370735369432234 and parameters: {'lookback': 1, 'units': 164, 'dropout': 0.4349596069154339, 'batch_size': 64, 'epochs': 24}. Best is trial 8 with value: 0.034370735369432234.\n",
            "\u001b[1m7/7\u001b[0m \u001b[32m━━━━━━━━━━━━━━━━━━━━\u001b[0m\u001b[37m\u001b[0m \u001b[1m0s\u001b[0m 38ms/step\n"
          ]
        },
        {
          "output_type": "stream",
          "name": "stderr",
          "text": [
            "Optimizing chunk 2:  45%|████▌     | 5/11 [54:46<1:02:37, 626.29s/it]"
          ]
        },
        {
          "output_type": "stream",
          "name": "stdout",
          "text": [
            "[I 2025-05-01 10:02:55,887] Trial 9 finished with value: 0.0443644703112237 and parameters: {'lookback': 11, 'units': 125, 'dropout': 0.3617190464829465, 'batch_size': 32, 'epochs': 20}. Best is trial 8 with value: 0.034370735369432234.\n",
            "\u001b[1m7/7\u001b[0m \u001b[32m━━━━━━━━━━━━━━━━━━━━\u001b[0m\u001b[37m\u001b[0m \u001b[1m0s\u001b[0m 34ms/step\n"
          ]
        },
        {
          "output_type": "stream",
          "name": "stderr",
          "text": [
            "Optimizing chunk 2:  45%|████▌     | 5/11 [54:56<1:02:37, 626.29s/it]"
          ]
        },
        {
          "output_type": "stream",
          "name": "stdout",
          "text": [
            "[I 2025-05-01 10:03:05,547] Trial 10 finished with value: 0.03445116661567611 and parameters: {'lookback': 1, 'units': 189, 'dropout': 0.3207021679811948, 'batch_size': 64, 'epochs': 24}. Best is trial 8 with value: 0.034370735369432234.\n",
            "\u001b[1m7/7\u001b[0m \u001b[32m━━━━━━━━━━━━━━━━━━━━\u001b[0m\u001b[37m\u001b[0m \u001b[1m0s\u001b[0m 31ms/step\n"
          ]
        },
        {
          "output_type": "stream",
          "name": "stderr",
          "text": [
            "Optimizing chunk 2:  45%|████▌     | 5/11 [55:05<1:02:37, 626.29s/it]"
          ]
        },
        {
          "output_type": "stream",
          "name": "stdout",
          "text": [
            "[I 2025-05-01 10:03:14,660] Trial 11 finished with value: 0.03419195623499669 and parameters: {'lookback': 1, 'units': 187, 'dropout': 0.3247177921397507, 'batch_size': 64, 'epochs': 24}. Best is trial 11 with value: 0.03419195623499669.\n",
            "\u001b[1m7/7\u001b[0m \u001b[32m━━━━━━━━━━━━━━━━━━━━\u001b[0m\u001b[37m\u001b[0m \u001b[1m0s\u001b[0m 34ms/step\n"
          ]
        },
        {
          "output_type": "stream",
          "name": "stderr",
          "text": [
            "Optimizing chunk 2:  45%|████▌     | 5/11 [55:14<1:02:37, 626.29s/it]"
          ]
        },
        {
          "output_type": "stream",
          "name": "stdout",
          "text": [
            "[I 2025-05-01 10:03:23,163] Trial 12 finished with value: 0.034053527276927495 and parameters: {'lookback': 1, 'units': 199, 'dropout': 0.49881244670264835, 'batch_size': 64, 'epochs': 23}. Best is trial 12 with value: 0.034053527276927495.\n",
            "\u001b[1m7/7\u001b[0m \u001b[32m━━━━━━━━━━━━━━━━━━━━\u001b[0m\u001b[37m\u001b[0m \u001b[1m0s\u001b[0m 36ms/step\n"
          ]
        },
        {
          "output_type": "stream",
          "name": "stderr",
          "text": [
            "Optimizing chunk 2:  45%|████▌     | 5/11 [55:31<1:02:37, 626.29s/it]"
          ]
        },
        {
          "output_type": "stream",
          "name": "stdout",
          "text": [
            "[I 2025-05-01 10:03:40,851] Trial 13 finished with value: 0.04487727998343598 and parameters: {'lookback': 11, 'units': 206, 'dropout': 0.495613822036964, 'batch_size': 64, 'epochs': 23}. Best is trial 12 with value: 0.034053527276927495.\n",
            "\u001b[1m7/7\u001b[0m \u001b[32m━━━━━━━━━━━━━━━━━━━━\u001b[0m\u001b[37m\u001b[0m \u001b[1m0s\u001b[0m 44ms/step\n"
          ]
        },
        {
          "output_type": "stream",
          "name": "stderr",
          "text": [
            "Optimizing chunk 2:  45%|████▌     | 5/11 [55:58<1:02:37, 626.29s/it]"
          ]
        },
        {
          "output_type": "stream",
          "name": "stdout",
          "text": [
            "[I 2025-05-01 10:04:07,827] Trial 14 finished with value: 0.04377155478821507 and parameters: {'lookback': 21, 'units': 213, 'dropout': 0.3112784206166354, 'batch_size': 64, 'epochs': 22}. Best is trial 12 with value: 0.034053527276927495.\n",
            "\u001b[1m7/7\u001b[0m \u001b[32m━━━━━━━━━━━━━━━━━━━━\u001b[0m\u001b[37m\u001b[0m \u001b[1m0s\u001b[0m 32ms/step\n"
          ]
        },
        {
          "output_type": "stream",
          "name": "stderr",
          "text": [
            "Optimizing chunk 2:  45%|████▌     | 5/11 [56:08<1:02:37, 626.29s/it]"
          ]
        },
        {
          "output_type": "stream",
          "name": "stdout",
          "text": [
            "[I 2025-05-01 10:04:17,174] Trial 15 finished with value: 0.033950349394851066 and parameters: {'lookback': 1, 'units': 182, 'dropout': 0.49253455680526137, 'batch_size': 64, 'epochs': 26}. Best is trial 15 with value: 0.033950349394851066.\n",
            "\u001b[1m7/7\u001b[0m \u001b[32m━━━━━━━━━━━━━━━━━━━━\u001b[0m\u001b[37m\u001b[0m \u001b[1m0s\u001b[0m 39ms/step\n"
          ]
        },
        {
          "output_type": "stream",
          "name": "stderr",
          "text": [
            "Optimizing chunk 2:  45%|████▌     | 5/11 [56:23<1:02:37, 626.29s/it]"
          ]
        },
        {
          "output_type": "stream",
          "name": "stdout",
          "text": [
            "[I 2025-05-01 10:04:33,136] Trial 16 finished with value: 0.04691215454407836 and parameters: {'lookback': 21, 'units': 145, 'dropout': 0.4903449390603209, 'batch_size': 64, 'epochs': 27}. Best is trial 15 with value: 0.033950349394851066.\n",
            "\u001b[1m7/7\u001b[0m \u001b[32m━━━━━━━━━━━━━━━━━━━━\u001b[0m\u001b[37m\u001b[0m \u001b[1m0s\u001b[0m 34ms/step\n"
          ]
        },
        {
          "output_type": "stream",
          "name": "stderr",
          "text": [
            "Optimizing chunk 2:  45%|████▌     | 5/11 [56:35<1:02:37, 626.29s/it]"
          ]
        },
        {
          "output_type": "stream",
          "name": "stdout",
          "text": [
            "[I 2025-05-01 10:04:45,027] Trial 17 finished with value: 0.04433040246634159 and parameters: {'lookback': 6, 'units': 220, 'dropout': 0.46796268074480735, 'batch_size': 64, 'epochs': 26}. Best is trial 15 with value: 0.033950349394851066.\n",
            "\u001b[1m7/7\u001b[0m \u001b[32m━━━━━━━━━━━━━━━━━━━━\u001b[0m\u001b[37m\u001b[0m \u001b[1m0s\u001b[0m 37ms/step\n"
          ]
        },
        {
          "output_type": "stream",
          "name": "stderr",
          "text": [
            "Optimizing chunk 2:  45%|████▌     | 5/11 [57:09<1:02:37, 626.29s/it]"
          ]
        },
        {
          "output_type": "stream",
          "name": "stdout",
          "text": [
            "[I 2025-05-01 10:05:18,941] Trial 18 finished with value: 0.04226234352840985 and parameters: {'lookback': 16, 'units': 173, 'dropout': 0.3756732727644852, 'batch_size': 32, 'epochs': 33}. Best is trial 15 with value: 0.033950349394851066.\n",
            "\u001b[1m6/6\u001b[0m \u001b[32m━━━━━━━━━━━━━━━━━━━━\u001b[0m\u001b[37m\u001b[0m \u001b[1m0s\u001b[0m 57ms/step\n"
          ]
        },
        {
          "output_type": "stream",
          "name": "stderr",
          "text": [
            "Optimizing chunk 2:  45%|████▌     | 5/11 [57:42<1:02:37, 626.29s/it]"
          ]
        },
        {
          "output_type": "stream",
          "name": "stdout",
          "text": [
            "[I 2025-05-01 10:05:51,593] Trial 19 finished with value: 0.045841540849217724 and parameters: {'lookback': 51, 'units': 136, 'dropout': 0.37888719123180603, 'batch_size': 64, 'epochs': 22}. Best is trial 15 with value: 0.033950349394851066.\n",
            "\u001b[1m7/7\u001b[0m \u001b[32m━━━━━━━━━━━━━━━━━━━━\u001b[0m\u001b[37m\u001b[0m \u001b[1m0s\u001b[0m 34ms/step\n"
          ]
        },
        {
          "output_type": "stream",
          "name": "stderr",
          "text": [
            "Optimizing chunk 2:  45%|████▌     | 5/11 [57:48<1:02:37, 626.29s/it]"
          ]
        },
        {
          "output_type": "stream",
          "name": "stdout",
          "text": [
            "[I 2025-05-01 10:05:57,839] Trial 20 finished with value: 0.04706898812350086 and parameters: {'lookback': 6, 'units': 72, 'dropout': 0.4736859376095075, 'batch_size': 64, 'epochs': 28}. Best is trial 15 with value: 0.033950349394851066.\n",
            "\u001b[1m7/7\u001b[0m \u001b[32m━━━━━━━━━━━━━━━━━━━━\u001b[0m\u001b[37m\u001b[0m \u001b[1m0s\u001b[0m 34ms/step\n"
          ]
        },
        {
          "output_type": "stream",
          "name": "stderr",
          "text": [
            "Optimizing chunk 2:  45%|████▌     | 5/11 [57:58<1:02:37, 626.29s/it]"
          ]
        },
        {
          "output_type": "stream",
          "name": "stdout",
          "text": [
            "[I 2025-05-01 10:06:07,773] Trial 21 finished with value: 0.034241036279063664 and parameters: {'lookback': 1, 'units': 191, 'dropout': 0.2585802118654025, 'batch_size': 64, 'epochs': 25}. Best is trial 15 with value: 0.033950349394851066.\n",
            "\u001b[1m7/7\u001b[0m \u001b[32m━━━━━━━━━━━━━━━━━━━━\u001b[0m\u001b[37m\u001b[0m \u001b[1m0s\u001b[0m 40ms/step\n"
          ]
        },
        {
          "output_type": "stream",
          "name": "stderr",
          "text": [
            "Optimizing chunk 2:  45%|████▌     | 5/11 [58:10<1:02:37, 626.29s/it]"
          ]
        },
        {
          "output_type": "stream",
          "name": "stdout",
          "text": [
            "[I 2025-05-01 10:06:19,993] Trial 22 finished with value: 0.04413845960248519 and parameters: {'lookback': 6, 'units': 188, 'dropout': 0.3358727436026208, 'batch_size': 64, 'epochs': 22}. Best is trial 15 with value: 0.033950349394851066.\n",
            "\u001b[1m7/7\u001b[0m \u001b[32m━━━━━━━━━━━━━━━━━━━━\u001b[0m\u001b[37m\u001b[0m \u001b[1m0s\u001b[0m 33ms/step\n"
          ]
        },
        {
          "output_type": "stream",
          "name": "stderr",
          "text": [
            "Optimizing chunk 2:  45%|████▌     | 5/11 [58:19<1:02:37, 626.29s/it]"
          ]
        },
        {
          "output_type": "stream",
          "name": "stdout",
          "text": [
            "[I 2025-05-01 10:06:28,634] Trial 23 finished with value: 0.033986245990127936 and parameters: {'lookback': 1, 'units': 229, 'dropout': 0.12106352926423639, 'batch_size': 64, 'epochs': 24}. Best is trial 15 with value: 0.033950349394851066.\n",
            "\u001b[1m7/7\u001b[0m \u001b[32m━━━━━━━━━━━━━━━━━━━━\u001b[0m\u001b[37m\u001b[0m \u001b[1m0s\u001b[0m 47ms/step\n"
          ]
        },
        {
          "output_type": "stream",
          "name": "stderr",
          "text": [
            "Optimizing chunk 2:  45%|████▌     | 5/11 [58:43<1:02:37, 626.29s/it]"
          ]
        },
        {
          "output_type": "stream",
          "name": "stdout",
          "text": [
            "[I 2025-05-01 10:06:52,303] Trial 24 finished with value: 0.04423491623422829 and parameters: {'lookback': 16, 'units': 231, 'dropout': 0.10570358873925778, 'batch_size': 64, 'epochs': 26}. Best is trial 15 with value: 0.033950349394851066.\n",
            "\u001b[1m7/7\u001b[0m \u001b[32m━━━━━━━━━━━━━━━━━━━━\u001b[0m\u001b[37m\u001b[0m \u001b[1m0s\u001b[0m 36ms/step\n"
          ]
        },
        {
          "output_type": "stream",
          "name": "stderr",
          "text": [
            "Optimizing chunk 2:  45%|████▌     | 5/11 [58:55<1:02:37, 626.29s/it]"
          ]
        },
        {
          "output_type": "stream",
          "name": "stdout",
          "text": [
            "[I 2025-05-01 10:07:04,914] Trial 25 finished with value: 0.046554773377870014 and parameters: {'lookback': 6, 'units': 251, 'dropout': 0.10773335694482614, 'batch_size': 64, 'epochs': 21}. Best is trial 15 with value: 0.033950349394851066.\n",
            "\u001b[1m7/7\u001b[0m \u001b[32m━━━━━━━━━━━━━━━━━━━━\u001b[0m\u001b[37m\u001b[0m \u001b[1m0s\u001b[0m 42ms/step\n"
          ]
        },
        {
          "output_type": "stream",
          "name": "stderr",
          "text": [
            "Optimizing chunk 2:  45%|████▌     | 5/11 [59:27<1:02:37, 626.29s/it]"
          ]
        },
        {
          "output_type": "stream",
          "name": "stdout",
          "text": [
            "[I 2025-05-01 10:07:36,151] Trial 26 finished with value: 0.04076277782288095 and parameters: {'lookback': 16, 'units': 207, 'dropout': 0.27833077747819324, 'batch_size': 32, 'epochs': 23}. Best is trial 15 with value: 0.033950349394851066.\n",
            "\u001b[1m7/7\u001b[0m \u001b[32m━━━━━━━━━━━━━━━━━━━━\u001b[0m\u001b[37m\u001b[0m \u001b[1m0s\u001b[0m 49ms/step\n"
          ]
        },
        {
          "output_type": "stream",
          "name": "stderr",
          "text": [
            "Optimizing chunk 2:  45%|████▌     | 5/11 [1:00:04<1:02:37, 626.29s/it]"
          ]
        },
        {
          "output_type": "stream",
          "name": "stdout",
          "text": [
            "[I 2025-05-01 10:08:13,226] Trial 27 finished with value: 0.04400388871726452 and parameters: {'lookback': 26, 'units': 227, 'dropout': 0.46189596023628027, 'batch_size': 64, 'epochs': 25}. Best is trial 15 with value: 0.033950349394851066.\n",
            "\u001b[1m7/7\u001b[0m \u001b[32m━━━━━━━━━━━━━━━━━━━━\u001b[0m\u001b[37m\u001b[0m \u001b[1m0s\u001b[0m 38ms/step\n"
          ]
        },
        {
          "output_type": "stream",
          "name": "stderr",
          "text": [
            "Optimizing chunk 2:  45%|████▌     | 5/11 [1:00:22<1:02:37, 626.29s/it]"
          ]
        },
        {
          "output_type": "stream",
          "name": "stdout",
          "text": [
            "[I 2025-05-01 10:08:32,031] Trial 28 finished with value: 0.04266659528380223 and parameters: {'lookback': 11, 'units': 156, 'dropout': 0.39903782602569604, 'batch_size': 64, 'epochs': 28}. Best is trial 15 with value: 0.033950349394851066.\n",
            "\u001b[1m7/7\u001b[0m \u001b[32m━━━━━━━━━━━━━━━━━━━━\u001b[0m\u001b[37m\u001b[0m \u001b[1m0s\u001b[0m 34ms/step\n"
          ]
        },
        {
          "output_type": "stream",
          "name": "stderr",
          "text": [
            "Optimizing chunk 2:  55%|█████▍    | 6/11 [1:00:33<50:58, 611.68s/it]  [I 2025-05-01 10:08:42,370] A new study created in memory with name: no-name-213a06d3-bc60-499f-88a1-8a8e8faae667\n"
          ]
        },
        {
          "output_type": "stream",
          "name": "stdout",
          "text": [
            "[I 2025-05-01 10:08:42,336] Trial 29 finished with value: 0.03418151795707756 and parameters: {'lookback': 1, 'units': 200, 'dropout': 0.19588055314208497, 'batch_size': 64, 'epochs': 27}. Best is trial 15 with value: 0.033950349394851066.\n",
            "✅ Done: MRVL.O — Best Params: {'lookback': 1, 'units': 182, 'dropout': 0.49253455680526137, 'batch_size': 64, 'epochs': 26}\n",
            "\n",
            "🔍 Optimizing for MSFT.O...\n"
          ]
        },
        {
          "output_type": "display_data",
          "data": {
            "text/plain": [
              "  0%|          | 0/30 [00:00<?, ?it/s]"
            ],
            "application/vnd.jupyter.widget-view+json": {
              "version_major": 2,
              "version_minor": 0,
              "model_id": "9d14b4fe83d44cdfa29d8f07e6448f40"
            }
          },
          "metadata": {}
        },
        {
          "output_type": "stream",
          "name": "stdout",
          "text": [
            "\u001b[1m7/7\u001b[0m \u001b[32m━━━━━━━━━━━━━━━━━━━━\u001b[0m\u001b[37m\u001b[0m \u001b[1m0s\u001b[0m 38ms/step\n"
          ]
        },
        {
          "output_type": "stream",
          "name": "stderr",
          "text": [
            "Optimizing chunk 2:  55%|█████▍    | 6/11 [1:00:54<50:58, 611.68s/it]"
          ]
        },
        {
          "output_type": "stream",
          "name": "stdout",
          "text": [
            "[I 2025-05-01 10:09:03,767] Trial 0 finished with value: 0.03350354015810876 and parameters: {'lookback': 16, 'units': 125, 'dropout': 0.47382575152530126, 'batch_size': 32, 'epochs': 26}. Best is trial 0 with value: 0.03350354015810876.\n",
            "\u001b[1m6/6\u001b[0m \u001b[32m━━━━━━━━━━━━━━━━━━━━\u001b[0m\u001b[37m\u001b[0m \u001b[1m0s\u001b[0m 34ms/step\n"
          ]
        },
        {
          "output_type": "stream",
          "name": "stderr",
          "text": [
            "Optimizing chunk 2:  55%|█████▍    | 6/11 [1:01:59<50:58, 611.68s/it]"
          ]
        },
        {
          "output_type": "stream",
          "name": "stdout",
          "text": [
            "[I 2025-05-01 10:10:08,992] Trial 1 finished with value: 0.034437536072178275 and parameters: {'lookback': 46, 'units': 221, 'dropout': 0.2268525085353922, 'batch_size': 64, 'epochs': 30}. Best is trial 0 with value: 0.03350354015810876.\n",
            "\u001b[1m7/7\u001b[0m \u001b[32m━━━━━━━━━━━━━━━━━━━━\u001b[0m\u001b[37m\u001b[0m \u001b[1m0s\u001b[0m 46ms/step\n"
          ]
        },
        {
          "output_type": "stream",
          "name": "stderr",
          "text": [
            "Optimizing chunk 2:  55%|█████▍    | 6/11 [1:02:26<50:58, 611.68s/it]"
          ]
        },
        {
          "output_type": "stream",
          "name": "stdout",
          "text": [
            "[I 2025-05-01 10:10:35,733] Trial 2 finished with value: 0.03696651710657295 and parameters: {'lookback': 21, 'units': 168, 'dropout': 0.10816951590190245, 'batch_size': 32, 'epochs': 31}. Best is trial 0 with value: 0.03350354015810876.\n",
            "\u001b[1m7/7\u001b[0m \u001b[32m━━━━━━━━━━━━━━━━━━━━\u001b[0m\u001b[37m\u001b[0m \u001b[1m1s\u001b[0m 55ms/step\n"
          ]
        },
        {
          "output_type": "stream",
          "name": "stderr",
          "text": [
            "Optimizing chunk 2:  55%|█████▍    | 6/11 [1:03:04<50:58, 611.68s/it]"
          ]
        },
        {
          "output_type": "stream",
          "name": "stdout",
          "text": [
            "[I 2025-05-01 10:11:13,206] Trial 3 finished with value: 0.03361632534293961 and parameters: {'lookback': 31, 'units': 166, 'dropout': 0.3023841422743895, 'batch_size': 32, 'epochs': 28}. Best is trial 0 with value: 0.03350354015810876.\n",
            "\u001b[1m6/6\u001b[0m \u001b[32m━━━━━━━━━━━━━━━━━━━━\u001b[0m\u001b[37m\u001b[0m \u001b[1m0s\u001b[0m 48ms/step\n"
          ]
        },
        {
          "output_type": "stream",
          "name": "stderr",
          "text": [
            "Optimizing chunk 2:  55%|█████▍    | 6/11 [1:03:13<50:58, 611.68s/it]"
          ]
        },
        {
          "output_type": "stream",
          "name": "stdout",
          "text": [
            "[I 2025-05-01 10:11:23,079] Trial 4 finished with value: 0.04067447323050584 and parameters: {'lookback': 51, 'units': 44, 'dropout': 0.4437168890142802, 'batch_size': 64, 'epochs': 34}. Best is trial 0 with value: 0.03350354015810876.\n",
            "\u001b[1m6/6\u001b[0m \u001b[32m━━━━━━━━━━━━━━━━━━━━\u001b[0m\u001b[37m\u001b[0m \u001b[1m1s\u001b[0m 76ms/step\n"
          ]
        },
        {
          "output_type": "stream",
          "name": "stderr",
          "text": [
            "Optimizing chunk 2:  55%|█████▍    | 6/11 [1:03:49<50:58, 611.68s/it]"
          ]
        },
        {
          "output_type": "stream",
          "name": "stdout",
          "text": [
            "[I 2025-05-01 10:11:59,117] Trial 5 finished with value: 0.03695440537027122 and parameters: {'lookback': 51, 'units': 221, 'dropout': 0.3175146990292159, 'batch_size': 32, 'epochs': 20}. Best is trial 0 with value: 0.03350354015810876.\n",
            "\u001b[1m7/7\u001b[0m \u001b[32m━━━━━━━━━━━━━━━━━━━━\u001b[0m\u001b[37m\u001b[0m \u001b[1m1s\u001b[0m 53ms/step\n"
          ]
        },
        {
          "output_type": "stream",
          "name": "stderr",
          "text": [
            "Optimizing chunk 2:  55%|█████▍    | 6/11 [1:04:34<50:58, 611.68s/it]"
          ]
        },
        {
          "output_type": "stream",
          "name": "stdout",
          "text": [
            "[I 2025-05-01 10:12:44,080] Trial 6 finished with value: 0.037522854900997514 and parameters: {'lookback': 41, 'units': 213, 'dropout': 0.16822395359626646, 'batch_size': 64, 'epochs': 30}. Best is trial 0 with value: 0.03350354015810876.\n",
            "\u001b[1m7/7\u001b[0m \u001b[32m━━━━━━━━━━━━━━━━━━━━\u001b[0m\u001b[37m\u001b[0m \u001b[1m0s\u001b[0m 42ms/step\n"
          ]
        },
        {
          "output_type": "stream",
          "name": "stderr",
          "text": [
            "Optimizing chunk 2:  55%|█████▍    | 6/11 [1:04:48<50:58, 611.68s/it]"
          ]
        },
        {
          "output_type": "stream",
          "name": "stdout",
          "text": [
            "[I 2025-05-01 10:12:57,634] Trial 7 finished with value: 0.034956507178411415 and parameters: {'lookback': 21, 'units': 35, 'dropout': 0.33071995874385635, 'batch_size': 32, 'epochs': 32}. Best is trial 0 with value: 0.03350354015810876.\n",
            "\u001b[1m7/7\u001b[0m \u001b[32m━━━━━━━━━━━━━━━━━━━━\u001b[0m\u001b[37m\u001b[0m \u001b[1m0s\u001b[0m 39ms/step\n"
          ]
        },
        {
          "output_type": "stream",
          "name": "stderr",
          "text": [
            "Optimizing chunk 2:  55%|█████▍    | 6/11 [1:05:03<50:58, 611.68s/it]"
          ]
        },
        {
          "output_type": "stream",
          "name": "stdout",
          "text": [
            "[I 2025-05-01 10:13:12,783] Trial 8 finished with value: 0.03516294465175864 and parameters: {'lookback': 11, 'units': 129, 'dropout': 0.12242988040835018, 'batch_size': 64, 'epochs': 25}. Best is trial 0 with value: 0.03350354015810876.\n",
            "\u001b[1m7/7\u001b[0m \u001b[32m━━━━━━━━━━━━━━━━━━━━\u001b[0m\u001b[37m\u001b[0m \u001b[1m1s\u001b[0m 58ms/step\n"
          ]
        },
        {
          "output_type": "stream",
          "name": "stderr",
          "text": [
            "Optimizing chunk 2:  55%|█████▍    | 6/11 [1:05:20<50:58, 611.68s/it]"
          ]
        },
        {
          "output_type": "stream",
          "name": "stdout",
          "text": [
            "[I 2025-05-01 10:13:29,430] Trial 9 finished with value: 0.037989668610747485 and parameters: {'lookback': 36, 'units': 143, 'dropout': 0.3225039670130949, 'batch_size': 32, 'epochs': 26}. Best is trial 0 with value: 0.03350354015810876.\n",
            "\u001b[1m7/7\u001b[0m \u001b[32m━━━━━━━━━━━━━━━━━━━━\u001b[0m\u001b[37m\u001b[0m \u001b[1m0s\u001b[0m 32ms/step\n"
          ]
        },
        {
          "output_type": "stream",
          "name": "stderr",
          "text": [
            "Optimizing chunk 2:  55%|█████▍    | 6/11 [1:05:29<50:58, 611.68s/it]"
          ]
        },
        {
          "output_type": "stream",
          "name": "stdout",
          "text": [
            "[I 2025-05-01 10:13:38,730] Trial 10 finished with value: 0.021832692569575627 and parameters: {'lookback': 1, 'units': 89, 'dropout': 0.4995374089073046, 'batch_size': 32, 'epochs': 23}. Best is trial 10 with value: 0.021832692569575627.\n",
            "\u001b[1m7/7\u001b[0m \u001b[32m━━━━━━━━━━━━━━━━━━━━\u001b[0m\u001b[37m\u001b[0m \u001b[1m0s\u001b[0m 33ms/step\n"
          ]
        },
        {
          "output_type": "stream",
          "name": "stderr",
          "text": [
            "Optimizing chunk 2:  55%|█████▍    | 6/11 [1:05:37<50:58, 611.68s/it]"
          ]
        },
        {
          "output_type": "stream",
          "name": "stdout",
          "text": [
            "[I 2025-05-01 10:13:47,001] Trial 11 finished with value: 0.02198649077744684 and parameters: {'lookback': 1, 'units': 90, 'dropout': 0.487191120732437, 'batch_size': 32, 'epochs': 22}. Best is trial 10 with value: 0.021832692569575627.\n",
            "\u001b[1m7/7\u001b[0m \u001b[32m━━━━━━━━━━━━━━━━━━━━\u001b[0m\u001b[37m\u001b[0m \u001b[1m0s\u001b[0m 36ms/step\n"
          ]
        },
        {
          "output_type": "stream",
          "name": "stderr",
          "text": [
            "Optimizing chunk 2:  55%|█████▍    | 6/11 [1:05:45<50:58, 611.68s/it]"
          ]
        },
        {
          "output_type": "stream",
          "name": "stdout",
          "text": [
            "[I 2025-05-01 10:13:54,344] Trial 12 finished with value: 0.021848943955650436 and parameters: {'lookback': 1, 'units': 80, 'dropout': 0.4121238682065712, 'batch_size': 32, 'epochs': 21}. Best is trial 10 with value: 0.021832692569575627.\n",
            "\u001b[1m7/7\u001b[0m \u001b[32m━━━━━━━━━━━━━━━━━━━━\u001b[0m\u001b[37m\u001b[0m \u001b[1m0s\u001b[0m 33ms/step\n"
          ]
        },
        {
          "output_type": "stream",
          "name": "stderr",
          "text": [
            "Optimizing chunk 2:  55%|█████▍    | 6/11 [1:05:52<50:58, 611.68s/it]"
          ]
        },
        {
          "output_type": "stream",
          "name": "stdout",
          "text": [
            "[I 2025-05-01 10:14:01,880] Trial 13 finished with value: 0.022043001670837652 and parameters: {'lookback': 1, 'units': 87, 'dropout': 0.40877688056727285, 'batch_size': 32, 'epochs': 23}. Best is trial 10 with value: 0.021832692569575627.\n",
            "\u001b[1m7/7\u001b[0m \u001b[32m━━━━━━━━━━━━━━━━━━━━\u001b[0m\u001b[37m\u001b[0m \u001b[1m0s\u001b[0m 34ms/step\n"
          ]
        },
        {
          "output_type": "stream",
          "name": "stderr",
          "text": [
            "Optimizing chunk 2:  55%|█████▍    | 6/11 [1:06:01<50:58, 611.68s/it]"
          ]
        },
        {
          "output_type": "stream",
          "name": "stdout",
          "text": [
            "[I 2025-05-01 10:14:10,899] Trial 14 finished with value: 0.03217648513654716 and parameters: {'lookback': 6, 'units': 82, 'dropout': 0.39673646818884667, 'batch_size': 32, 'epochs': 20}. Best is trial 10 with value: 0.021832692569575627.\n",
            "\u001b[1m7/7\u001b[0m \u001b[32m━━━━━━━━━━━━━━━━━━━━\u001b[0m\u001b[37m\u001b[0m \u001b[1m1s\u001b[0m 50ms/step\n"
          ]
        },
        {
          "output_type": "stream",
          "name": "stderr",
          "text": [
            "Optimizing chunk 2:  55%|█████▍    | 6/11 [1:06:11<50:58, 611.68s/it]"
          ]
        },
        {
          "output_type": "stream",
          "name": "stdout",
          "text": [
            "[I 2025-05-01 10:14:20,989] Trial 15 finished with value: 0.03467996504827723 and parameters: {'lookback': 11, 'units': 65, 'dropout': 0.3827283476024833, 'batch_size': 32, 'epochs': 23}. Best is trial 10 with value: 0.021832692569575627.\n",
            "\u001b[1m7/7\u001b[0m \u001b[32m━━━━━━━━━━━━━━━━━━━━\u001b[0m\u001b[37m\u001b[0m \u001b[1m0s\u001b[0m 34ms/step\n"
          ]
        },
        {
          "output_type": "stream",
          "name": "stderr",
          "text": [
            "Optimizing chunk 2:  55%|█████▍    | 6/11 [1:06:18<50:58, 611.68s/it]"
          ]
        },
        {
          "output_type": "stream",
          "name": "stdout",
          "text": [
            "[I 2025-05-01 10:14:27,894] Trial 16 finished with value: 0.02229846843729846 and parameters: {'lookback': 1, 'units': 112, 'dropout': 0.4995593959680058, 'batch_size': 32, 'epochs': 22}. Best is trial 10 with value: 0.021832692569575627.\n",
            "\u001b[1m7/7\u001b[0m \u001b[32m━━━━━━━━━━━━━━━━━━━━\u001b[0m\u001b[37m\u001b[0m \u001b[1m1s\u001b[0m 53ms/step\n"
          ]
        },
        {
          "output_type": "stream",
          "name": "stderr",
          "text": [
            "Optimizing chunk 2:  55%|█████▍    | 6/11 [1:06:34<50:58, 611.68s/it]"
          ]
        },
        {
          "output_type": "stream",
          "name": "stdout",
          "text": [
            "[I 2025-05-01 10:14:44,105] Trial 17 finished with value: 0.039147754121027695 and parameters: {'lookback': 26, 'units': 58, 'dropout': 0.4363104854990335, 'batch_size': 32, 'epochs': 24}. Best is trial 10 with value: 0.021832692569575627.\n",
            "\u001b[1m7/7\u001b[0m \u001b[32m━━━━━━━━━━━━━━━━━━━━\u001b[0m\u001b[37m\u001b[0m \u001b[1m0s\u001b[0m 35ms/step\n"
          ]
        },
        {
          "output_type": "stream",
          "name": "stderr",
          "text": [
            "Optimizing chunk 2:  55%|█████▍    | 6/11 [1:06:43<50:58, 611.68s/it]"
          ]
        },
        {
          "output_type": "stream",
          "name": "stdout",
          "text": [
            "[I 2025-05-01 10:14:52,950] Trial 18 finished with value: 0.03481184770002462 and parameters: {'lookback': 6, 'units': 106, 'dropout': 0.36422725129957556, 'batch_size': 64, 'epochs': 21}. Best is trial 10 with value: 0.021832692569575627.\n",
            "\u001b[1m7/7\u001b[0m \u001b[32m━━━━━━━━━━━━━━━━━━━━\u001b[0m\u001b[37m\u001b[0m \u001b[1m0s\u001b[0m 40ms/step\n"
          ]
        },
        {
          "output_type": "stream",
          "name": "stderr",
          "text": [
            "Optimizing chunk 2:  55%|█████▍    | 6/11 [1:07:17<50:58, 611.68s/it]"
          ]
        },
        {
          "output_type": "stream",
          "name": "stdout",
          "text": [
            "[I 2025-05-01 10:15:27,013] Trial 19 finished with value: 0.03143982312239159 and parameters: {'lookback': 11, 'units': 252, 'dropout': 0.21909100877045193, 'batch_size': 32, 'epochs': 28}. Best is trial 10 with value: 0.021832692569575627.\n",
            "\u001b[1m7/7\u001b[0m \u001b[32m━━━━━━━━━━━━━━━━━━━━\u001b[0m\u001b[37m\u001b[0m \u001b[1m0s\u001b[0m 36ms/step\n"
          ]
        },
        {
          "output_type": "stream",
          "name": "stderr",
          "text": [
            "Optimizing chunk 2:  55%|█████▍    | 6/11 [1:07:28<50:58, 611.68s/it]"
          ]
        },
        {
          "output_type": "stream",
          "name": "stdout",
          "text": [
            "[I 2025-05-01 10:15:37,708] Trial 20 finished with value: 0.03695028707742596 and parameters: {'lookback': 16, 'units': 72, 'dropout': 0.4447518682471173, 'batch_size': 32, 'epochs': 24}. Best is trial 10 with value: 0.021832692569575627.\n",
            "\u001b[1m7/7\u001b[0m \u001b[32m━━━━━━━━━━━━━━━━━━━━\u001b[0m\u001b[37m\u001b[0m \u001b[1m1s\u001b[0m 50ms/step\n"
          ]
        },
        {
          "output_type": "stream",
          "name": "stderr",
          "text": [
            "Optimizing chunk 2:  55%|█████▍    | 6/11 [1:07:37<50:58, 611.68s/it]"
          ]
        },
        {
          "output_type": "stream",
          "name": "stdout",
          "text": [
            "[I 2025-05-01 10:15:46,489] Trial 21 finished with value: 0.021501692503156776 and parameters: {'lookback': 1, 'units': 95, 'dropout': 0.49201543048271335, 'batch_size': 32, 'epochs': 22}. Best is trial 21 with value: 0.021501692503156776.\n",
            "\u001b[1m7/7\u001b[0m \u001b[32m━━━━━━━━━━━━━━━━━━━━\u001b[0m\u001b[37m\u001b[0m \u001b[1m0s\u001b[0m 38ms/step\n"
          ]
        },
        {
          "output_type": "stream",
          "name": "stderr",
          "text": [
            "Optimizing chunk 2:  55%|█████▍    | 6/11 [1:07:46<50:58, 611.68s/it]"
          ]
        },
        {
          "output_type": "stream",
          "name": "stdout",
          "text": [
            "[I 2025-05-01 10:15:55,303] Trial 22 finished with value: 0.03179565635577828 and parameters: {'lookback': 6, 'units': 104, 'dropout': 0.4609075513033538, 'batch_size': 32, 'epochs': 21}. Best is trial 21 with value: 0.021501692503156776.\n",
            "\u001b[1m7/7\u001b[0m \u001b[32m━━━━━━━━━━━━━━━━━━━━\u001b[0m\u001b[37m\u001b[0m \u001b[1m0s\u001b[0m 36ms/step\n"
          ]
        },
        {
          "output_type": "stream",
          "name": "stderr",
          "text": [
            "Optimizing chunk 2:  55%|█████▍    | 6/11 [1:07:55<50:58, 611.68s/it]"
          ]
        },
        {
          "output_type": "stream",
          "name": "stdout",
          "text": [
            "[I 2025-05-01 10:16:04,263] Trial 23 finished with value: 0.024883205737844073 and parameters: {'lookback': 1, 'units': 52, 'dropout': 0.42505243031516826, 'batch_size': 32, 'epochs': 22}. Best is trial 21 with value: 0.021501692503156776.\n",
            "\u001b[1m7/7\u001b[0m \u001b[32m━━━━━━━━━━━━━━━━━━━━\u001b[0m\u001b[37m\u001b[0m \u001b[1m0s\u001b[0m 37ms/step\n"
          ]
        },
        {
          "output_type": "stream",
          "name": "stderr",
          "text": [
            "Optimizing chunk 2:  55%|█████▍    | 6/11 [1:08:09<50:58, 611.68s/it]"
          ]
        },
        {
          "output_type": "stream",
          "name": "stdout",
          "text": [
            "[I 2025-05-01 10:16:18,285] Trial 24 finished with value: 0.03100024838534878 and parameters: {'lookback': 6, 'units': 161, 'dropout': 0.4988285787623024, 'batch_size': 32, 'epochs': 20}. Best is trial 21 with value: 0.021501692503156776.\n",
            "\u001b[1m7/7\u001b[0m \u001b[32m━━━━━━━━━━━━━━━━━━━━\u001b[0m\u001b[37m\u001b[0m \u001b[1m0s\u001b[0m 33ms/step\n"
          ]
        },
        {
          "output_type": "stream",
          "name": "stderr",
          "text": [
            "Optimizing chunk 2:  55%|█████▍    | 6/11 [1:08:22<50:58, 611.68s/it]"
          ]
        },
        {
          "output_type": "stream",
          "name": "stdout",
          "text": [
            "[I 2025-05-01 10:16:32,038] Trial 25 finished with value: 0.03366609984438326 and parameters: {'lookback': 16, 'units': 96, 'dropout': 0.36057317041308157, 'batch_size': 32, 'epochs': 26}. Best is trial 21 with value: 0.021501692503156776.\n",
            "\u001b[1m7/7\u001b[0m \u001b[32m━━━━━━━━━━━━━━━━━━━━\u001b[0m\u001b[37m\u001b[0m \u001b[1m0s\u001b[0m 34ms/step\n"
          ]
        },
        {
          "output_type": "stream",
          "name": "stderr",
          "text": [
            "Optimizing chunk 2:  55%|█████▍    | 6/11 [1:08:30<50:58, 611.68s/it]"
          ]
        },
        {
          "output_type": "stream",
          "name": "stdout",
          "text": [
            "[I 2025-05-01 10:16:39,194] Trial 26 finished with value: 0.023155919433380166 and parameters: {'lookback': 1, 'units': 75, 'dropout': 0.466028517379859, 'batch_size': 64, 'epochs': 24}. Best is trial 21 with value: 0.021501692503156776.\n",
            "\u001b[1m7/7\u001b[0m \u001b[32m━━━━━━━━━━━━━━━━━━━━\u001b[0m\u001b[37m\u001b[0m \u001b[1m0s\u001b[0m 39ms/step\n"
          ]
        },
        {
          "output_type": "stream",
          "name": "stderr",
          "text": [
            "Optimizing chunk 2:  55%|█████▍    | 6/11 [1:08:46<50:58, 611.68s/it]"
          ]
        },
        {
          "output_type": "stream",
          "name": "stdout",
          "text": [
            "[I 2025-05-01 10:16:55,228] Trial 27 finished with value: 0.032414435271150364 and parameters: {'lookback': 11, 'units': 126, 'dropout': 0.41294739050097967, 'batch_size': 32, 'epochs': 23}. Best is trial 21 with value: 0.021501692503156776.\n",
            "\u001b[1m7/7\u001b[0m \u001b[32m━━━━━━━━━━━━━━━━━━━━\u001b[0m\u001b[37m\u001b[0m \u001b[1m0s\u001b[0m 38ms/step\n"
          ]
        },
        {
          "output_type": "stream",
          "name": "stderr",
          "text": [
            "Optimizing chunk 2:  55%|█████▍    | 6/11 [1:09:12<50:58, 611.68s/it]"
          ]
        },
        {
          "output_type": "stream",
          "name": "stdout",
          "text": [
            "[I 2025-05-01 10:17:21,245] Trial 28 finished with value: 0.03166587487639293 and parameters: {'lookback': 21, 'units': 147, 'dropout': 0.23881204205966722, 'batch_size': 32, 'epochs': 21}. Best is trial 21 with value: 0.021501692503156776.\n",
            "\u001b[1m7/7\u001b[0m \u001b[32m━━━━━━━━━━━━━━━━━━━━\u001b[0m\u001b[37m\u001b[0m \u001b[1m0s\u001b[0m 35ms/step\n"
          ]
        },
        {
          "output_type": "stream",
          "name": "stderr",
          "text": [
            "Optimizing chunk 2:  64%|██████▎   | 7/11 [1:09:21<38:57, 584.38s/it][I 2025-05-01 10:17:30,563] A new study created in memory with name: no-name-f365cbfd-839b-400f-ba31-46c07c8e153a\n"
          ]
        },
        {
          "output_type": "stream",
          "name": "stdout",
          "text": [
            "[I 2025-05-01 10:17:30,535] Trial 29 finished with value: 0.03532609742071899 and parameters: {'lookback': 6, 'units': 110, 'dropout': 0.4715004179868231, 'batch_size': 32, 'epochs': 26}. Best is trial 21 with value: 0.021501692503156776.\n",
            "✅ Done: MSFT.O — Best Params: {'lookback': 1, 'units': 95, 'dropout': 0.49201543048271335, 'batch_size': 32, 'epochs': 22}\n",
            "\n",
            "🔍 Optimizing for MSTR.O...\n"
          ]
        },
        {
          "output_type": "display_data",
          "data": {
            "text/plain": [
              "  0%|          | 0/30 [00:00<?, ?it/s]"
            ],
            "application/vnd.jupyter.widget-view+json": {
              "version_major": 2,
              "version_minor": 0,
              "model_id": "65376e2c48d74c06a0d769051ebda18e"
            }
          },
          "metadata": {}
        },
        {
          "output_type": "stream",
          "name": "stdout",
          "text": [
            "\u001b[1m7/7\u001b[0m \u001b[32m━━━━━━━━━━━━━━━━━━━━\u001b[0m\u001b[37m\u001b[0m \u001b[1m0s\u001b[0m 40ms/step\n"
          ]
        },
        {
          "output_type": "stream",
          "name": "stderr",
          "text": [
            "Optimizing chunk 2:  64%|██████▎   | 7/11 [1:09:42<38:57, 584.38s/it]"
          ]
        },
        {
          "output_type": "stream",
          "name": "stdout",
          "text": [
            "[I 2025-05-01 10:17:51,601] Trial 0 finished with value: 0.04943932246481246 and parameters: {'lookback': 31, 'units': 101, 'dropout': 0.41554442570041705, 'batch_size': 32, 'epochs': 22}. Best is trial 0 with value: 0.04943932246481246.\n",
            "\u001b[1m6/6\u001b[0m \u001b[32m━━━━━━━━━━━━━━━━━━━━\u001b[0m\u001b[37m\u001b[0m \u001b[1m1s\u001b[0m 62ms/step\n"
          ]
        },
        {
          "output_type": "stream",
          "name": "stderr",
          "text": [
            "Optimizing chunk 2:  64%|██████▎   | 7/11 [1:10:06<38:57, 584.38s/it]"
          ]
        },
        {
          "output_type": "stream",
          "name": "stdout",
          "text": [
            "[I 2025-05-01 10:18:15,472] Trial 1 finished with value: 0.06666103480864086 and parameters: {'lookback': 51, 'units': 196, 'dropout': 0.2065036515050986, 'batch_size': 64, 'epochs': 20}. Best is trial 0 with value: 0.04943932246481246.\n",
            "\u001b[1m7/7\u001b[0m \u001b[32m━━━━━━━━━━━━━━━━━━━━\u001b[0m\u001b[37m\u001b[0m \u001b[1m0s\u001b[0m 32ms/step\n"
          ]
        },
        {
          "output_type": "stream",
          "name": "stderr",
          "text": [
            "Optimizing chunk 2:  64%|██████▎   | 7/11 [1:10:13<38:57, 584.38s/it]"
          ]
        },
        {
          "output_type": "stream",
          "name": "stdout",
          "text": [
            "[I 2025-05-01 10:18:23,085] Trial 2 finished with value: 0.03466922827393346 and parameters: {'lookback': 1, 'units': 184, 'dropout': 0.18634588352298254, 'batch_size': 32, 'epochs': 27}. Best is trial 2 with value: 0.03466922827393346.\n",
            "\u001b[1m6/6\u001b[0m \u001b[32m━━━━━━━━━━━━━━━━━━━━\u001b[0m\u001b[37m\u001b[0m \u001b[1m0s\u001b[0m 16ms/step\n"
          ]
        },
        {
          "output_type": "stream",
          "name": "stderr",
          "text": [
            "Optimizing chunk 2:  64%|██████▎   | 7/11 [1:10:31<38:57, 584.38s/it]"
          ]
        },
        {
          "output_type": "stream",
          "name": "stdout",
          "text": [
            "[I 2025-05-01 10:18:40,153] Trial 3 finished with value: 0.05752778790285712 and parameters: {'lookback': 46, 'units': 98, 'dropout': 0.14125981056105716, 'batch_size': 32, 'epochs': 21}. Best is trial 2 with value: 0.03466922827393346.\n",
            "\u001b[1m7/7\u001b[0m \u001b[32m━━━━━━━━━━━━━━━━━━━━\u001b[0m\u001b[37m\u001b[0m \u001b[1m0s\u001b[0m 33ms/step\n"
          ]
        },
        {
          "output_type": "stream",
          "name": "stderr",
          "text": [
            "Optimizing chunk 2:  64%|██████▎   | 7/11 [1:10:39<38:57, 584.38s/it]"
          ]
        },
        {
          "output_type": "stream",
          "name": "stdout",
          "text": [
            "[I 2025-05-01 10:18:48,525] Trial 4 finished with value: 0.03442623862939588 and parameters: {'lookback': 1, 'units': 211, 'dropout': 0.32435416821268565, 'batch_size': 32, 'epochs': 33}. Best is trial 4 with value: 0.03442623862939588.\n",
            "\u001b[1m6/6\u001b[0m \u001b[32m━━━━━━━━━━━━━━━━━━━━\u001b[0m\u001b[37m\u001b[0m \u001b[1m0s\u001b[0m 59ms/step\n"
          ]
        },
        {
          "output_type": "stream",
          "name": "stderr",
          "text": [
            "Optimizing chunk 2:  64%|██████▎   | 7/11 [1:10:57<38:57, 584.38s/it]"
          ]
        },
        {
          "output_type": "stream",
          "name": "stdout",
          "text": [
            "[I 2025-05-01 10:19:07,108] Trial 5 finished with value: 0.06281700267382556 and parameters: {'lookback': 56, 'units': 148, 'dropout': 0.42154172740083495, 'batch_size': 64, 'epochs': 27}. Best is trial 4 with value: 0.03442623862939588.\n",
            "\u001b[1m7/7\u001b[0m \u001b[32m━━━━━━━━━━━━━━━━━━━━\u001b[0m\u001b[37m\u001b[0m \u001b[1m0s\u001b[0m 37ms/step\n"
          ]
        },
        {
          "output_type": "stream",
          "name": "stderr",
          "text": [
            "Optimizing chunk 2:  64%|██████▎   | 7/11 [1:11:14<38:57, 584.38s/it]"
          ]
        },
        {
          "output_type": "stream",
          "name": "stdout",
          "text": [
            "[I 2025-05-01 10:19:23,480] Trial 6 finished with value: 0.04691020631018328 and parameters: {'lookback': 26, 'units': 72, 'dropout': 0.21855872241181845, 'batch_size': 32, 'epochs': 23}. Best is trial 4 with value: 0.03442623862939588.\n",
            "\u001b[1m7/7\u001b[0m \u001b[32m━━━━━━━━━━━━━━━━━━━━\u001b[0m\u001b[37m\u001b[0m \u001b[1m0s\u001b[0m 41ms/step\n"
          ]
        },
        {
          "output_type": "stream",
          "name": "stderr",
          "text": [
            "Optimizing chunk 2:  64%|██████▎   | 7/11 [1:11:35<38:57, 584.38s/it]"
          ]
        },
        {
          "output_type": "stream",
          "name": "stdout",
          "text": [
            "[I 2025-05-01 10:19:44,603] Trial 7 finished with value: 0.05341203739732937 and parameters: {'lookback': 16, 'units': 199, 'dropout': 0.23672201350409858, 'batch_size': 32, 'epochs': 23}. Best is trial 4 with value: 0.03442623862939588.\n",
            "\u001b[1m7/7\u001b[0m \u001b[32m━━━━━━━━━━━━━━━━━━━━\u001b[0m\u001b[37m\u001b[0m \u001b[1m1s\u001b[0m 48ms/step\n"
          ]
        },
        {
          "output_type": "stream",
          "name": "stderr",
          "text": [
            "Optimizing chunk 2:  64%|██████▎   | 7/11 [1:11:43<38:57, 584.38s/it]"
          ]
        },
        {
          "output_type": "stream",
          "name": "stdout",
          "text": [
            "[I 2025-05-01 10:19:52,911] Trial 8 finished with value: 0.03481171539172933 and parameters: {'lookback': 1, 'units': 76, 'dropout': 0.3034317381560365, 'batch_size': 32, 'epochs': 35}. Best is trial 4 with value: 0.03442623862939588.\n",
            "\u001b[1m7/7\u001b[0m \u001b[32m━━━━━━━━━━━━━━━━━━━━\u001b[0m\u001b[37m\u001b[0m \u001b[1m0s\u001b[0m 37ms/step\n"
          ]
        },
        {
          "output_type": "stream",
          "name": "stderr",
          "text": [
            "Optimizing chunk 2:  64%|██████▎   | 7/11 [1:11:57<38:57, 584.38s/it]"
          ]
        },
        {
          "output_type": "stream",
          "name": "stdout",
          "text": [
            "[I 2025-05-01 10:20:07,135] Trial 9 finished with value: 0.06819221867141916 and parameters: {'lookback': 41, 'units': 43, 'dropout': 0.3022339524993366, 'batch_size': 64, 'epochs': 20}. Best is trial 4 with value: 0.03442623862939588.\n",
            "\u001b[1m7/7\u001b[0m \u001b[32m━━━━━━━━━━━━━━━━━━━━\u001b[0m\u001b[37m\u001b[0m \u001b[1m1s\u001b[0m 69ms/step\n"
          ]
        },
        {
          "output_type": "stream",
          "name": "stderr",
          "text": [
            "Optimizing chunk 2:  64%|██████▎   | 7/11 [1:12:20<38:57, 584.38s/it]"
          ]
        },
        {
          "output_type": "stream",
          "name": "stdout",
          "text": [
            "[I 2025-05-01 10:20:29,588] Trial 10 finished with value: 0.05436215132460655 and parameters: {'lookback': 16, 'units': 245, 'dropout': 0.480080534585503, 'batch_size': 64, 'epochs': 35}. Best is trial 4 with value: 0.03442623862939588.\n",
            "\u001b[1m7/7\u001b[0m \u001b[32m━━━━━━━━━━━━━━━━━━━━\u001b[0m\u001b[37m\u001b[0m \u001b[1m0s\u001b[0m 33ms/step\n"
          ]
        },
        {
          "output_type": "stream",
          "name": "stderr",
          "text": [
            "Optimizing chunk 2:  64%|██████▎   | 7/11 [1:12:27<38:57, 584.38s/it]"
          ]
        },
        {
          "output_type": "stream",
          "name": "stdout",
          "text": [
            "[I 2025-05-01 10:20:36,645] Trial 11 finished with value: 0.034796953535060446 and parameters: {'lookback': 1, 'units': 194, 'dropout': 0.10010045303125713, 'batch_size': 32, 'epochs': 31}. Best is trial 4 with value: 0.03442623862939588.\n",
            "\u001b[1m7/7\u001b[0m \u001b[32m━━━━━━━━━━━━━━━━━━━━\u001b[0m\u001b[37m\u001b[0m \u001b[1m0s\u001b[0m 39ms/step\n"
          ]
        },
        {
          "output_type": "stream",
          "name": "stderr",
          "text": [
            "Optimizing chunk 2:  64%|██████▎   | 7/11 [1:12:39<38:57, 584.38s/it]"
          ]
        },
        {
          "output_type": "stream",
          "name": "stdout",
          "text": [
            "[I 2025-05-01 10:20:48,821] Trial 12 finished with value: 0.05408336996515068 and parameters: {'lookback': 11, 'units': 244, 'dropout': 0.35116116937474834, 'batch_size': 32, 'epochs': 28}. Best is trial 4 with value: 0.03442623862939588.\n",
            "\u001b[1m7/7\u001b[0m \u001b[32m━━━━━━━━━━━━━━━━━━━━\u001b[0m\u001b[37m\u001b[0m \u001b[1m0s\u001b[0m 36ms/step\n"
          ]
        },
        {
          "output_type": "stream",
          "name": "stderr",
          "text": [
            "Optimizing chunk 2:  64%|██████▎   | 7/11 [1:12:49<38:57, 584.38s/it]"
          ]
        },
        {
          "output_type": "stream",
          "name": "stdout",
          "text": [
            "[I 2025-05-01 10:20:59,023] Trial 13 finished with value: 0.05244339766566908 and parameters: {'lookback': 6, 'units': 154, 'dropout': 0.17954036208763235, 'batch_size': 32, 'epochs': 31}. Best is trial 4 with value: 0.03442623862939588.\n",
            "\u001b[1m7/7\u001b[0m \u001b[32m━━━━━━━━━━━━━━━━━━━━\u001b[0m\u001b[37m\u001b[0m \u001b[1m1s\u001b[0m 48ms/step\n"
          ]
        },
        {
          "output_type": "stream",
          "name": "stderr",
          "text": [
            "Optimizing chunk 2:  64%|██████▎   | 7/11 [1:13:29<38:57, 584.38s/it]"
          ]
        },
        {
          "output_type": "stream",
          "name": "stdout",
          "text": [
            "[I 2025-05-01 10:21:38,809] Trial 14 finished with value: 0.045487495871807414 and parameters: {'lookback': 26, 'units': 171, 'dropout': 0.273611880936492, 'batch_size': 32, 'epochs': 27}. Best is trial 4 with value: 0.03442623862939588.\n",
            "\u001b[1m7/7\u001b[0m \u001b[32m━━━━━━━━━━━━━━━━━━━━\u001b[0m\u001b[37m\u001b[0m \u001b[1m1s\u001b[0m 57ms/step\n"
          ]
        },
        {
          "output_type": "stream",
          "name": "stderr",
          "text": [
            "Optimizing chunk 2:  64%|██████▎   | 7/11 [1:13:46<38:57, 584.38s/it]"
          ]
        },
        {
          "output_type": "stream",
          "name": "stdout",
          "text": [
            "[I 2025-05-01 10:21:55,810] Trial 15 finished with value: 0.053111275445204116 and parameters: {'lookback': 11, 'units': 224, 'dropout': 0.3680286281768495, 'batch_size': 32, 'epochs': 31}. Best is trial 4 with value: 0.03442623862939588.\n",
            "\u001b[1m7/7\u001b[0m \u001b[32m━━━━━━━━━━━━━━━━━━━━\u001b[0m\u001b[37m\u001b[0m \u001b[1m0s\u001b[0m 35ms/step\n"
          ]
        },
        {
          "output_type": "stream",
          "name": "stderr",
          "text": [
            "Optimizing chunk 2:  64%|██████▎   | 7/11 [1:13:55<38:57, 584.38s/it]"
          ]
        },
        {
          "output_type": "stream",
          "name": "stdout",
          "text": [
            "[I 2025-05-01 10:22:04,641] Trial 16 finished with value: 0.03450219123901904 and parameters: {'lookback': 1, 'units': 216, 'dropout': 0.27433309503111064, 'batch_size': 32, 'epochs': 25}. Best is trial 4 with value: 0.03442623862939588.\n",
            "\u001b[1m7/7\u001b[0m \u001b[32m━━━━━━━━━━━━━━━━━━━━\u001b[0m\u001b[37m\u001b[0m \u001b[1m0s\u001b[0m 48ms/step\n"
          ]
        },
        {
          "output_type": "stream",
          "name": "stderr",
          "text": [
            "Optimizing chunk 2:  64%|██████▎   | 7/11 [1:14:19<38:57, 584.38s/it]"
          ]
        },
        {
          "output_type": "stream",
          "name": "stdout",
          "text": [
            "[I 2025-05-01 10:22:28,625] Trial 17 finished with value: 0.05062203404297578 and parameters: {'lookback': 21, 'units': 223, 'dropout': 0.26441631772680807, 'batch_size': 32, 'epochs': 25}. Best is trial 4 with value: 0.03442623862939588.\n",
            "\u001b[1m7/7\u001b[0m \u001b[32m━━━━━━━━━━━━━━━━━━━━\u001b[0m\u001b[37m\u001b[0m \u001b[1m0s\u001b[0m 33ms/step\n"
          ]
        },
        {
          "output_type": "stream",
          "name": "stderr",
          "text": [
            "Optimizing chunk 2:  64%|██████▎   | 7/11 [1:14:27<38:57, 584.38s/it]"
          ]
        },
        {
          "output_type": "stream",
          "name": "stdout",
          "text": [
            "[I 2025-05-01 10:22:36,508] Trial 18 finished with value: 0.04809391043306095 and parameters: {'lookback': 6, 'units': 121, 'dropout': 0.3453602100461326, 'batch_size': 64, 'epochs': 33}. Best is trial 4 with value: 0.03442623862939588.\n",
            "\u001b[1m7/7\u001b[0m \u001b[32m━━━━━━━━━━━━━━━━━━━━\u001b[0m\u001b[37m\u001b[0m \u001b[1m1s\u001b[0m 53ms/step\n"
          ]
        },
        {
          "output_type": "stream",
          "name": "stderr",
          "text": [
            "Optimizing chunk 2:  64%|██████▎   | 7/11 [1:15:07<38:57, 584.38s/it]"
          ]
        },
        {
          "output_type": "stream",
          "name": "stdout",
          "text": [
            "[I 2025-05-01 10:23:16,669] Trial 19 finished with value: 0.05397448983483871 and parameters: {'lookback': 36, 'units': 219, 'dropout': 0.3943310858749557, 'batch_size': 32, 'epochs': 29}. Best is trial 4 with value: 0.03442623862939588.\n",
            "\u001b[1m7/7\u001b[0m \u001b[32m━━━━━━━━━━━━━━━━━━━━\u001b[0m\u001b[37m\u001b[0m \u001b[1m0s\u001b[0m 42ms/step\n"
          ]
        },
        {
          "output_type": "stream",
          "name": "stderr",
          "text": [
            "Optimizing chunk 2:  64%|██████▎   | 7/11 [1:15:26<38:57, 584.38s/it]"
          ]
        },
        {
          "output_type": "stream",
          "name": "stdout",
          "text": [
            "[I 2025-05-01 10:23:35,356] Trial 20 finished with value: 0.05243403335721753 and parameters: {'lookback': 11, 'units': 256, 'dropout': 0.4770373572646087, 'batch_size': 32, 'epochs': 25}. Best is trial 4 with value: 0.03442623862939588.\n",
            "\u001b[1m7/7\u001b[0m \u001b[32m━━━━━━━━━━━━━━━━━━━━\u001b[0m\u001b[37m\u001b[0m \u001b[1m1s\u001b[0m 54ms/step\n"
          ]
        },
        {
          "output_type": "stream",
          "name": "stderr",
          "text": [
            "Optimizing chunk 2:  64%|██████▎   | 7/11 [1:15:35<38:57, 584.38s/it]"
          ]
        },
        {
          "output_type": "stream",
          "name": "stdout",
          "text": [
            "[I 2025-05-01 10:23:44,324] Trial 21 finished with value: 0.034758550193170784 and parameters: {'lookback': 1, 'units': 171, 'dropout': 0.183056134191072, 'batch_size': 32, 'epochs': 25}. Best is trial 4 with value: 0.03442623862939588.\n",
            "\u001b[1m7/7\u001b[0m \u001b[32m━━━━━━━━━━━━━━━━━━━━\u001b[0m\u001b[37m\u001b[0m \u001b[1m0s\u001b[0m 37ms/step\n"
          ]
        },
        {
          "output_type": "stream",
          "name": "stderr",
          "text": [
            "Optimizing chunk 2:  64%|██████▎   | 7/11 [1:15:43<38:57, 584.38s/it]"
          ]
        },
        {
          "output_type": "stream",
          "name": "stdout",
          "text": [
            "[I 2025-05-01 10:23:52,445] Trial 22 finished with value: 0.051591943584885676 and parameters: {'lookback': 6, 'units': 174, 'dropout': 0.2624447980116647, 'batch_size': 32, 'epochs': 29}. Best is trial 4 with value: 0.03442623862939588.\n",
            "\u001b[1m7/7\u001b[0m \u001b[32m━━━━━━━━━━━━━━━━━━━━\u001b[0m\u001b[37m\u001b[0m \u001b[1m0s\u001b[0m 32ms/step\n"
          ]
        },
        {
          "output_type": "stream",
          "name": "stderr",
          "text": [
            "Optimizing chunk 2:  64%|██████▎   | 7/11 [1:15:52<38:57, 584.38s/it]"
          ]
        },
        {
          "output_type": "stream",
          "name": "stdout",
          "text": [
            "[I 2025-05-01 10:24:01,871] Trial 23 finished with value: 0.03498805710563891 and parameters: {'lookback': 1, 'units': 205, 'dropout': 0.3242494564080123, 'batch_size': 32, 'epochs': 25}. Best is trial 4 with value: 0.03442623862939588.\n",
            "\u001b[1m7/7\u001b[0m \u001b[32m━━━━━━━━━━━━━━━━━━━━\u001b[0m\u001b[37m\u001b[0m \u001b[1m0s\u001b[0m 38ms/step\n"
          ]
        },
        {
          "output_type": "stream",
          "name": "stderr",
          "text": [
            "Optimizing chunk 2:  64%|██████▎   | 7/11 [1:16:34<38:57, 584.38s/it]"
          ]
        },
        {
          "output_type": "stream",
          "name": "stdout",
          "text": [
            "[I 2025-05-01 10:24:44,107] Trial 24 finished with value: 0.042627410552607596 and parameters: {'lookback': 16, 'units': 185, 'dropout': 0.1477027402947674, 'batch_size': 32, 'epochs': 33}. Best is trial 4 with value: 0.03442623862939588.\n",
            "\u001b[1m7/7\u001b[0m \u001b[32m━━━━━━━━━━━━━━━━━━━━\u001b[0m\u001b[37m\u001b[0m \u001b[1m0s\u001b[0m 38ms/step\n"
          ]
        },
        {
          "output_type": "stream",
          "name": "stderr",
          "text": [
            "Optimizing chunk 2:  64%|██████▎   | 7/11 [1:16:44<38:57, 584.38s/it]"
          ]
        },
        {
          "output_type": "stream",
          "name": "stdout",
          "text": [
            "[I 2025-05-01 10:24:53,783] Trial 25 finished with value: 0.047857856628352534 and parameters: {'lookback': 6, 'units': 219, 'dropout': 0.24687367485437486, 'batch_size': 32, 'epochs': 26}. Best is trial 4 with value: 0.03442623862939588.\n",
            "\u001b[1m7/7\u001b[0m \u001b[32m━━━━━━━━━━━━━━━━━━━━\u001b[0m\u001b[37m\u001b[0m \u001b[1m0s\u001b[0m 37ms/step\n"
          ]
        },
        {
          "output_type": "stream",
          "name": "stderr",
          "text": [
            "Optimizing chunk 2:  64%|██████▎   | 7/11 [1:16:57<38:57, 584.38s/it]"
          ]
        },
        {
          "output_type": "stream",
          "name": "stdout",
          "text": [
            "[I 2025-05-01 10:25:06,193] Trial 26 finished with value: 0.057375317542318165 and parameters: {'lookback': 21, 'units': 130, 'dropout': 0.2900574310549053, 'batch_size': 64, 'epochs': 29}. Best is trial 4 with value: 0.03442623862939588.\n",
            "\u001b[1m7/7\u001b[0m \u001b[32m━━━━━━━━━━━━━━━━━━━━\u001b[0m\u001b[37m\u001b[0m \u001b[1m0s\u001b[0m 36ms/step\n"
          ]
        },
        {
          "output_type": "stream",
          "name": "stderr",
          "text": [
            "Optimizing chunk 2:  64%|██████▎   | 7/11 [1:17:05<38:57, 584.38s/it]"
          ]
        },
        {
          "output_type": "stream",
          "name": "stdout",
          "text": [
            "[I 2025-05-01 10:25:14,603] Trial 27 finished with value: 0.034416508882075245 and parameters: {'lookback': 1, 'units': 235, 'dropout': 0.32419411834710277, 'batch_size': 32, 'epochs': 23}. Best is trial 27 with value: 0.034416508882075245.\n",
            "\u001b[1m7/7\u001b[0m \u001b[32m━━━━━━━━━━━━━━━━━━━━\u001b[0m\u001b[37m\u001b[0m \u001b[1m0s\u001b[0m 38ms/step\n"
          ]
        },
        {
          "output_type": "stream",
          "name": "stderr",
          "text": [
            "Optimizing chunk 2:  64%|██████▎   | 7/11 [1:17:18<38:57, 584.38s/it]"
          ]
        },
        {
          "output_type": "stream",
          "name": "stdout",
          "text": [
            "[I 2025-05-01 10:25:28,023] Trial 28 finished with value: 0.05538136157776708 and parameters: {'lookback': 11, 'units': 240, 'dropout': 0.37966093065862616, 'batch_size': 32, 'epochs': 23}. Best is trial 27 with value: 0.034416508882075245.\n",
            "\u001b[1m7/7\u001b[0m \u001b[32m━━━━━━━━━━━━━━━━━━━━\u001b[0m\u001b[37m\u001b[0m \u001b[1m1s\u001b[0m 54ms/step\n"
          ]
        },
        {
          "output_type": "stream",
          "name": "stderr",
          "text": [
            "Optimizing chunk 2:  73%|███████▎  | 8/11 [1:17:46<27:57, 559.13s/it][I 2025-05-01 10:25:55,606] A new study created in memory with name: no-name-0bb5b5f6-5439-4a81-9255-18f2de2519f2\n"
          ]
        },
        {
          "output_type": "stream",
          "name": "stdout",
          "text": [
            "[I 2025-05-01 10:25:55,582] Trial 29 finished with value: 0.057988130388458785 and parameters: {'lookback': 31, 'units': 209, 'dropout': 0.42545164472459385, 'batch_size': 32, 'epochs': 22}. Best is trial 27 with value: 0.034416508882075245.\n",
            "✅ Done: MSTR.O — Best Params: {'lookback': 1, 'units': 235, 'dropout': 0.32419411834710277, 'batch_size': 32, 'epochs': 23}\n",
            "\n",
            "🔍 Optimizing for MU.O...\n"
          ]
        },
        {
          "output_type": "display_data",
          "data": {
            "text/plain": [
              "  0%|          | 0/30 [00:00<?, ?it/s]"
            ],
            "application/vnd.jupyter.widget-view+json": {
              "version_major": 2,
              "version_minor": 0,
              "model_id": "be154605b53e431db4d2ddec9a41224c"
            }
          },
          "metadata": {}
        },
        {
          "output_type": "stream",
          "name": "stdout",
          "text": [
            "\u001b[1m7/7\u001b[0m \u001b[32m━━━━━━━━━━━━━━━━━━━━\u001b[0m\u001b[37m\u001b[0m \u001b[1m0s\u001b[0m 37ms/step\n"
          ]
        },
        {
          "output_type": "stream",
          "name": "stderr",
          "text": [
            "Optimizing chunk 2:  73%|███████▎  | 8/11 [1:18:14<27:57, 559.13s/it]"
          ]
        },
        {
          "output_type": "stream",
          "name": "stdout",
          "text": [
            "[I 2025-05-01 10:26:23,434] Trial 0 finished with value: 0.053010274741249405 and parameters: {'lookback': 41, 'units': 72, 'dropout': 0.4799781680041657, 'batch_size': 32, 'epochs': 35}. Best is trial 0 with value: 0.053010274741249405.\n",
            "\u001b[1m6/6\u001b[0m \u001b[32m━━━━━━━━━━━━━━━━━━━━\u001b[0m\u001b[37m\u001b[0m \u001b[1m1s\u001b[0m 59ms/step\n"
          ]
        },
        {
          "output_type": "stream",
          "name": "stderr",
          "text": [
            "Optimizing chunk 2:  73%|███████▎  | 8/11 [1:18:45<27:57, 559.13s/it]"
          ]
        },
        {
          "output_type": "stream",
          "name": "stdout",
          "text": [
            "[I 2025-05-01 10:26:54,959] Trial 1 finished with value: 0.06388184030947858 and parameters: {'lookback': 51, 'units': 126, 'dropout': 0.19677569888704413, 'batch_size': 32, 'epochs': 35}. Best is trial 0 with value: 0.053010274741249405.\n",
            "\u001b[1m7/7\u001b[0m \u001b[32m━━━━━━━━━━━━━━━━━━━━\u001b[0m\u001b[37m\u001b[0m \u001b[1m0s\u001b[0m 36ms/step\n"
          ]
        },
        {
          "output_type": "stream",
          "name": "stderr",
          "text": [
            "Optimizing chunk 2:  73%|███████▎  | 8/11 [1:18:55<27:57, 559.13s/it]"
          ]
        },
        {
          "output_type": "stream",
          "name": "stdout",
          "text": [
            "[I 2025-05-01 10:27:04,856] Trial 2 finished with value: 0.0368478500498736 and parameters: {'lookback': 1, 'units': 160, 'dropout': 0.4839906420292528, 'batch_size': 32, 'epochs': 29}. Best is trial 2 with value: 0.0368478500498736.\n",
            "\u001b[1m7/7\u001b[0m \u001b[32m━━━━━━━━━━━━━━━━━━━━\u001b[0m\u001b[37m\u001b[0m \u001b[1m0s\u001b[0m 43ms/step\n"
          ]
        },
        {
          "output_type": "stream",
          "name": "stderr",
          "text": [
            "Optimizing chunk 2:  73%|███████▎  | 8/11 [1:19:23<27:57, 559.13s/it]"
          ]
        },
        {
          "output_type": "stream",
          "name": "stdout",
          "text": [
            "[I 2025-05-01 10:27:32,449] Trial 3 finished with value: 0.05819335234465182 and parameters: {'lookback': 21, 'units': 224, 'dropout': 0.4102571854328133, 'batch_size': 64, 'epochs': 21}. Best is trial 2 with value: 0.0368478500498736.\n",
            "\u001b[1m6/6\u001b[0m \u001b[32m━━━━━━━━━━━━━━━━━━━━\u001b[0m\u001b[37m\u001b[0m \u001b[1m1s\u001b[0m 64ms/step\n"
          ]
        },
        {
          "output_type": "stream",
          "name": "stderr",
          "text": [
            "Optimizing chunk 2:  73%|███████▎  | 8/11 [1:20:08<27:57, 559.13s/it]"
          ]
        },
        {
          "output_type": "stream",
          "name": "stdout",
          "text": [
            "[I 2025-05-01 10:28:17,743] Trial 4 finished with value: 0.05572357332683909 and parameters: {'lookback': 51, 'units': 191, 'dropout': 0.27599825518153526, 'batch_size': 64, 'epochs': 21}. Best is trial 2 with value: 0.0368478500498736.\n",
            "\u001b[1m7/7\u001b[0m \u001b[32m━━━━━━━━━━━━━━━━━━━━\u001b[0m\u001b[37m\u001b[0m \u001b[1m0s\u001b[0m 48ms/step\n"
          ]
        },
        {
          "output_type": "stream",
          "name": "stderr",
          "text": [
            "Optimizing chunk 2:  73%|███████▎  | 8/11 [1:20:49<27:57, 559.13s/it]"
          ]
        },
        {
          "output_type": "stream",
          "name": "stdout",
          "text": [
            "[I 2025-05-01 10:28:58,377] Trial 5 finished with value: 0.04887747353136617 and parameters: {'lookback': 36, 'units': 141, 'dropout': 0.26564047768390037, 'batch_size': 32, 'epochs': 28}. Best is trial 2 with value: 0.0368478500498736.\n",
            "\u001b[1m6/6\u001b[0m \u001b[32m━━━━━━━━━━━━━━━━━━━━\u001b[0m\u001b[37m\u001b[0m \u001b[1m1s\u001b[0m 72ms/step\n"
          ]
        },
        {
          "output_type": "stream",
          "name": "stderr",
          "text": [
            "Optimizing chunk 2:  73%|███████▎  | 8/11 [1:21:07<27:57, 559.13s/it]"
          ]
        },
        {
          "output_type": "stream",
          "name": "stdout",
          "text": [
            "[I 2025-05-01 10:29:16,666] Trial 6 finished with value: 0.06622455453123725 and parameters: {'lookback': 51, 'units': 110, 'dropout': 0.1721865482877747, 'batch_size': 32, 'epochs': 33}. Best is trial 2 with value: 0.0368478500498736.\n",
            "\u001b[1m6/6\u001b[0m \u001b[32m━━━━━━━━━━━━━━━━━━━━\u001b[0m\u001b[37m\u001b[0m \u001b[1m1s\u001b[0m 66ms/step\n"
          ]
        },
        {
          "output_type": "stream",
          "name": "stderr",
          "text": [
            "Optimizing chunk 2:  73%|███████▎  | 8/11 [1:22:06<27:57, 559.13s/it]"
          ]
        },
        {
          "output_type": "stream",
          "name": "stdout",
          "text": [
            "[I 2025-05-01 10:30:16,101] Trial 7 finished with value: 0.05538440945936614 and parameters: {'lookback': 51, 'units': 195, 'dropout': 0.2356844609424575, 'batch_size': 64, 'epochs': 32}. Best is trial 2 with value: 0.0368478500498736.\n",
            "\u001b[1m7/7\u001b[0m \u001b[32m━━━━━━━━━━━━━━━━━━━━\u001b[0m\u001b[37m\u001b[0m \u001b[1m0s\u001b[0m 34ms/step\n"
          ]
        },
        {
          "output_type": "stream",
          "name": "stderr",
          "text": [
            "Optimizing chunk 2:  73%|███████▎  | 8/11 [1:22:16<27:57, 559.13s/it]"
          ]
        },
        {
          "output_type": "stream",
          "name": "stdout",
          "text": [
            "[I 2025-05-01 10:30:25,496] Trial 8 finished with value: 0.03662786784450253 and parameters: {'lookback': 1, 'units': 208, 'dropout': 0.14584202518427244, 'batch_size': 32, 'epochs': 34}. Best is trial 8 with value: 0.03662786784450253.\n",
            "\u001b[1m7/7\u001b[0m \u001b[32m━━━━━━━━━━━━━━━━━━━━\u001b[0m\u001b[37m\u001b[0m \u001b[1m0s\u001b[0m 36ms/step\n"
          ]
        },
        {
          "output_type": "stream",
          "name": "stderr",
          "text": [
            "Optimizing chunk 2:  73%|███████▎  | 8/11 [1:22:30<27:57, 559.13s/it]"
          ]
        },
        {
          "output_type": "stream",
          "name": "stdout",
          "text": [
            "[I 2025-05-01 10:30:40,135] Trial 9 finished with value: 0.06553340344671427 and parameters: {'lookback': 21, 'units': 46, 'dropout': 0.1510707794744151, 'batch_size': 32, 'epochs': 20}. Best is trial 8 with value: 0.03662786784450253.\n",
            "\u001b[1m7/7\u001b[0m \u001b[32m━━━━━━━━━━━━━━━━━━━━\u001b[0m\u001b[37m\u001b[0m \u001b[1m0s\u001b[0m 36ms/step\n"
          ]
        },
        {
          "output_type": "stream",
          "name": "stderr",
          "text": [
            "Optimizing chunk 2:  73%|███████▎  | 8/11 [1:22:39<27:57, 559.13s/it]"
          ]
        },
        {
          "output_type": "stream",
          "name": "stdout",
          "text": [
            "[I 2025-05-01 10:30:48,929] Trial 10 finished with value: 0.036919808079956894 and parameters: {'lookback': 1, 'units': 256, 'dropout': 0.10855032053000804, 'batch_size': 64, 'epochs': 24}. Best is trial 8 with value: 0.03662786784450253.\n",
            "\u001b[1m7/7\u001b[0m \u001b[32m━━━━━━━━━━━━━━━━━━━━\u001b[0m\u001b[37m\u001b[0m \u001b[1m1s\u001b[0m 51ms/step\n"
          ]
        },
        {
          "output_type": "stream",
          "name": "stderr",
          "text": [
            "Optimizing chunk 2:  73%|███████▎  | 8/11 [1:22:47<27:57, 559.13s/it]"
          ]
        },
        {
          "output_type": "stream",
          "name": "stdout",
          "text": [
            "[I 2025-05-01 10:30:56,389] Trial 11 finished with value: 0.03699678118571818 and parameters: {'lookback': 1, 'units': 173, 'dropout': 0.376990327150736, 'batch_size': 32, 'epochs': 29}. Best is trial 8 with value: 0.03662786784450253.\n",
            "\u001b[1m7/7\u001b[0m \u001b[32m━━━━━━━━━━━━━━━━━━━━\u001b[0m\u001b[37m\u001b[0m \u001b[1m1s\u001b[0m 51ms/step\n"
          ]
        },
        {
          "output_type": "stream",
          "name": "stderr",
          "text": [
            "Optimizing chunk 2:  73%|███████▎  | 8/11 [1:23:11<27:57, 559.13s/it]"
          ]
        },
        {
          "output_type": "stream",
          "name": "stdout",
          "text": [
            "[I 2025-05-01 10:31:20,506] Trial 12 finished with value: 0.05043646554957285 and parameters: {'lookback': 11, 'units': 167, 'dropout': 0.34738088356139696, 'batch_size': 32, 'epochs': 31}. Best is trial 8 with value: 0.03662786784450253.\n",
            "\u001b[1m7/7\u001b[0m \u001b[32m━━━━━━━━━━━━━━━━━━━━\u001b[0m\u001b[37m\u001b[0m \u001b[1m0s\u001b[0m 42ms/step\n"
          ]
        },
        {
          "output_type": "stream",
          "name": "stderr",
          "text": [
            "Optimizing chunk 2:  73%|███████▎  | 8/11 [1:23:42<27:57, 559.13s/it]"
          ]
        },
        {
          "output_type": "stream",
          "name": "stdout",
          "text": [
            "[I 2025-05-01 10:31:51,374] Trial 13 finished with value: 0.05310040408537292 and parameters: {'lookback': 11, 'units': 223, 'dropout': 0.49542368629025224, 'batch_size': 32, 'epochs': 26}. Best is trial 8 with value: 0.03662786784450253.\n",
            "\u001b[1m7/7\u001b[0m \u001b[32m━━━━━━━━━━━━━━━━━━━━\u001b[0m\u001b[37m\u001b[0m \u001b[1m0s\u001b[0m 35ms/step\n"
          ]
        },
        {
          "output_type": "stream",
          "name": "stderr",
          "text": [
            "Optimizing chunk 2:  73%|███████▎  | 8/11 [1:23:57<27:57, 559.13s/it]"
          ]
        },
        {
          "output_type": "stream",
          "name": "stdout",
          "text": [
            "[I 2025-05-01 10:32:06,156] Trial 14 finished with value: 0.05521503983264193 and parameters: {'lookback': 11, 'units': 101, 'dropout': 0.33695951344768815, 'batch_size': 32, 'epochs': 25}. Best is trial 8 with value: 0.03662786784450253.\n",
            "\u001b[1m7/7\u001b[0m \u001b[32m━━━━━━━━━━━━━━━━━━━━\u001b[0m\u001b[37m\u001b[0m \u001b[1m0s\u001b[0m 32ms/step\n"
          ]
        },
        {
          "output_type": "stream",
          "name": "stderr",
          "text": [
            "Optimizing chunk 2:  73%|███████▎  | 8/11 [1:24:04<27:57, 559.13s/it]"
          ]
        },
        {
          "output_type": "stream",
          "name": "stdout",
          "text": [
            "[I 2025-05-01 10:32:13,812] Trial 15 finished with value: 0.03632642007417944 and parameters: {'lookback': 1, 'units': 163, 'dropout': 0.4317051287819943, 'batch_size': 32, 'epochs': 30}. Best is trial 15 with value: 0.03632642007417944.\n",
            "\u001b[1m7/7\u001b[0m \u001b[32m━━━━━━━━━━━━━━━━━━━━\u001b[0m\u001b[37m\u001b[0m \u001b[1m0s\u001b[0m 45ms/step\n"
          ]
        },
        {
          "output_type": "stream",
          "name": "stderr",
          "text": [
            "Optimizing chunk 2:  73%|███████▎  | 8/11 [1:24:53<27:57, 559.13s/it]"
          ]
        },
        {
          "output_type": "stream",
          "name": "stdout",
          "text": [
            "[I 2025-05-01 10:33:02,957] Trial 16 finished with value: 0.05093162320696616 and parameters: {'lookback': 21, 'units': 223, 'dropout': 0.41904342354831176, 'batch_size': 32, 'epochs': 31}. Best is trial 15 with value: 0.03632642007417944.\n",
            "\u001b[1m7/7\u001b[0m \u001b[32m━━━━━━━━━━━━━━━━━━━━\u001b[0m\u001b[37m\u001b[0m \u001b[1m0s\u001b[0m 38ms/step\n"
          ]
        },
        {
          "output_type": "stream",
          "name": "stderr",
          "text": [
            "Optimizing chunk 2:  73%|███████▎  | 8/11 [1:25:21<27:57, 559.13s/it]"
          ]
        },
        {
          "output_type": "stream",
          "name": "stdout",
          "text": [
            "[I 2025-05-01 10:33:30,826] Trial 17 finished with value: 0.04635430957008991 and parameters: {'lookback': 6, 'units': 193, 'dropout': 0.10988082537180632, 'batch_size': 32, 'epochs': 33}. Best is trial 15 with value: 0.03632642007417944.\n",
            "\u001b[1m7/7\u001b[0m \u001b[32m━━━━━━━━━━━━━━━━━━━━\u001b[0m\u001b[37m\u001b[0m \u001b[1m1s\u001b[0m 56ms/step\n"
          ]
        },
        {
          "output_type": "stream",
          "name": "stderr",
          "text": [
            "Optimizing chunk 2:  73%|███████▎  | 8/11 [1:26:08<27:57, 559.13s/it]"
          ]
        },
        {
          "output_type": "stream",
          "name": "stdout",
          "text": [
            "[I 2025-05-01 10:34:17,266] Trial 18 finished with value: 0.05231042343665245 and parameters: {'lookback': 31, 'units': 237, 'dropout': 0.31287692276688583, 'batch_size': 64, 'epochs': 30}. Best is trial 15 with value: 0.03632642007417944.\n",
            "\u001b[1m7/7\u001b[0m \u001b[32m━━━━━━━━━━━━━━━━━━━━\u001b[0m\u001b[37m\u001b[0m \u001b[1m1s\u001b[0m 57ms/step\n"
          ]
        },
        {
          "output_type": "stream",
          "name": "stderr",
          "text": [
            "Optimizing chunk 2:  73%|███████▎  | 8/11 [1:26:40<27:57, 559.13s/it]"
          ]
        },
        {
          "output_type": "stream",
          "name": "stdout",
          "text": [
            "[I 2025-05-01 10:34:49,504] Trial 19 finished with value: 0.04941767409176126 and parameters: {'lookback': 16, 'units': 139, 'dropout': 0.221420789262177, 'batch_size': 32, 'epochs': 34}. Best is trial 15 with value: 0.03632642007417944.\n",
            "\u001b[1m7/7\u001b[0m \u001b[32m━━━━━━━━━━━━━━━━━━━━\u001b[0m\u001b[37m\u001b[0m \u001b[1m0s\u001b[0m 39ms/step\n"
          ]
        },
        {
          "output_type": "stream",
          "name": "stderr",
          "text": [
            "Optimizing chunk 2:  73%|███████▎  | 8/11 [1:27:00<27:57, 559.13s/it]"
          ]
        },
        {
          "output_type": "stream",
          "name": "stdout",
          "text": [
            "[I 2025-05-01 10:35:09,723] Trial 20 finished with value: 0.05442313589636428 and parameters: {'lookback': 6, 'units': 195, 'dropout': 0.4233237880487898, 'batch_size': 32, 'epochs': 27}. Best is trial 15 with value: 0.03632642007417944.\n",
            "\u001b[1m7/7\u001b[0m \u001b[32m━━━━━━━━━━━━━━━━━━━━\u001b[0m\u001b[37m\u001b[0m \u001b[1m0s\u001b[0m 40ms/step\n"
          ]
        },
        {
          "output_type": "stream",
          "name": "stderr",
          "text": [
            "Optimizing chunk 2:  73%|███████▎  | 8/11 [1:27:09<27:57, 559.13s/it]"
          ]
        },
        {
          "output_type": "stream",
          "name": "stdout",
          "text": [
            "[I 2025-05-01 10:35:18,527] Trial 21 finished with value: 0.036657008527631894 and parameters: {'lookback': 1, 'units': 166, 'dropout': 0.45889399353994825, 'batch_size': 32, 'epochs': 29}. Best is trial 15 with value: 0.03632642007417944.\n",
            "\u001b[1m7/7\u001b[0m \u001b[32m━━━━━━━━━━━━━━━━━━━━\u001b[0m\u001b[37m\u001b[0m \u001b[1m0s\u001b[0m 37ms/step\n"
          ]
        },
        {
          "output_type": "stream",
          "name": "stderr",
          "text": [
            "Optimizing chunk 2:  73%|███████▎  | 8/11 [1:27:30<27:57, 559.13s/it]"
          ]
        },
        {
          "output_type": "stream",
          "name": "stdout",
          "text": [
            "[I 2025-05-01 10:35:39,541] Trial 22 finished with value: 0.05310970665484106 and parameters: {'lookback': 6, 'units': 160, 'dropout': 0.45746312682375156, 'batch_size': 32, 'epochs': 31}. Best is trial 15 with value: 0.03632642007417944.\n",
            "\u001b[1m7/7\u001b[0m \u001b[32m━━━━━━━━━━━━━━━━━━━━\u001b[0m\u001b[37m\u001b[0m \u001b[1m0s\u001b[0m 34ms/step\n"
          ]
        },
        {
          "output_type": "stream",
          "name": "stderr",
          "text": [
            "Optimizing chunk 2:  73%|███████▎  | 8/11 [1:27:37<27:57, 559.13s/it]"
          ]
        },
        {
          "output_type": "stream",
          "name": "stdout",
          "text": [
            "[I 2025-05-01 10:35:46,670] Trial 23 finished with value: 0.036322338659738065 and parameters: {'lookback': 1, 'units': 178, 'dropout': 0.3813752246785035, 'batch_size': 32, 'epochs': 28}. Best is trial 23 with value: 0.036322338659738065.\n",
            "\u001b[1m7/7\u001b[0m \u001b[32m━━━━━━━━━━━━━━━━━━━━\u001b[0m\u001b[37m\u001b[0m \u001b[1m0s\u001b[0m 45ms/step\n"
          ]
        },
        {
          "output_type": "stream",
          "name": "stderr",
          "text": [
            "Optimizing chunk 2:  73%|███████▎  | 8/11 [1:28:07<27:57, 559.13s/it]"
          ]
        },
        {
          "output_type": "stream",
          "name": "stdout",
          "text": [
            "[I 2025-05-01 10:36:16,711] Trial 24 finished with value: 0.053798228293811486 and parameters: {'lookback': 16, 'units': 181, 'dropout': 0.3759161048427219, 'batch_size': 32, 'epochs': 23}. Best is trial 23 with value: 0.036322338659738065.\n",
            "\u001b[1m7/7\u001b[0m \u001b[32m━━━━━━━━━━━━━━━━━━━━\u001b[0m\u001b[37m\u001b[0m \u001b[1m0s\u001b[0m 35ms/step\n"
          ]
        },
        {
          "output_type": "stream",
          "name": "stderr",
          "text": [
            "Optimizing chunk 2:  73%|███████▎  | 8/11 [1:28:26<27:57, 559.13s/it]"
          ]
        },
        {
          "output_type": "stream",
          "name": "stdout",
          "text": [
            "[I 2025-05-01 10:36:35,659] Trial 25 finished with value: 0.05056107449111705 and parameters: {'lookback': 6, 'units': 210, 'dropout': 0.38602186830025, 'batch_size': 32, 'epochs': 27}. Best is trial 23 with value: 0.036322338659738065.\n",
            "\u001b[1m7/7\u001b[0m \u001b[32m━━━━━━━━━━━━━━━━━━━━\u001b[0m\u001b[37m\u001b[0m \u001b[1m0s\u001b[0m 45ms/step\n"
          ]
        },
        {
          "output_type": "stream",
          "name": "stderr",
          "text": [
            "Optimizing chunk 2:  73%|███████▎  | 8/11 [1:29:05<27:57, 559.13s/it]"
          ]
        },
        {
          "output_type": "stream",
          "name": "stdout",
          "text": [
            "[I 2025-05-01 10:37:14,749] Trial 26 finished with value: 0.05218024580340558 and parameters: {'lookback': 16, 'units': 249, 'dropout': 0.3350583707131547, 'batch_size': 64, 'epochs': 33}. Best is trial 23 with value: 0.036322338659738065.\n",
            "\u001b[1m7/7\u001b[0m \u001b[32m━━━━━━━━━━━━━━━━━━━━\u001b[0m\u001b[37m\u001b[0m \u001b[1m1s\u001b[0m 75ms/step\n"
          ]
        },
        {
          "output_type": "stream",
          "name": "stderr",
          "text": [
            "Optimizing chunk 2:  73%|███████▎  | 8/11 [1:29:44<27:57, 559.13s/it]"
          ]
        },
        {
          "output_type": "stream",
          "name": "stdout",
          "text": [
            "[I 2025-05-01 10:37:54,048] Trial 27 finished with value: 0.051429694555037715 and parameters: {'lookback': 26, 'units': 209, 'dropout': 0.44457485211063025, 'batch_size': 32, 'epochs': 28}. Best is trial 23 with value: 0.036322338659738065.\n",
            "\u001b[1m7/7\u001b[0m \u001b[32m━━━━━━━━━━━━━━━━━━━━\u001b[0m\u001b[37m\u001b[0m \u001b[1m0s\u001b[0m 41ms/step\n"
          ]
        },
        {
          "output_type": "stream",
          "name": "stderr",
          "text": [
            "Optimizing chunk 2:  73%|███████▎  | 8/11 [1:30:05<27:57, 559.13s/it]"
          ]
        },
        {
          "output_type": "stream",
          "name": "stdout",
          "text": [
            "[I 2025-05-01 10:38:14,340] Trial 28 finished with value: 0.051311562615588835 and parameters: {'lookback': 11, 'units': 126, 'dropout': 0.2906342727138707, 'batch_size': 32, 'epochs': 30}. Best is trial 23 with value: 0.036322338659738065.\n",
            "\u001b[1m7/7\u001b[0m \u001b[32m━━━━━━━━━━━━━━━━━━━━\u001b[0m\u001b[37m\u001b[0m \u001b[1m0s\u001b[0m 42ms/step\n"
          ]
        },
        {
          "output_type": "stream",
          "name": "stderr",
          "text": [
            "Optimizing chunk 2:  82%|████████▏ | 9/11 [1:30:43<20:54, 627.24s/it][I 2025-05-01 10:38:52,635] A new study created in memory with name: no-name-1c0c13e3-0b82-4819-9d38-34cf37506d37\n"
          ]
        },
        {
          "output_type": "stream",
          "name": "stdout",
          "text": [
            "[I 2025-05-01 10:38:52,604] Trial 29 finished with value: 0.049227982516794735 and parameters: {'lookback': 41, 'units': 90, 'dropout': 0.3990776492579192, 'batch_size': 32, 'epochs': 35}. Best is trial 23 with value: 0.036322338659738065.\n",
            "✅ Done: MU.O — Best Params: {'lookback': 1, 'units': 178, 'dropout': 0.3813752246785035, 'batch_size': 32, 'epochs': 28}\n",
            "\n",
            "🔍 Optimizing for NVDA.O...\n"
          ]
        },
        {
          "output_type": "display_data",
          "data": {
            "text/plain": [
              "  0%|          | 0/30 [00:00<?, ?it/s]"
            ],
            "application/vnd.jupyter.widget-view+json": {
              "version_major": 2,
              "version_minor": 0,
              "model_id": "7d46607163264730b57487b930ca8547"
            }
          },
          "metadata": {}
        },
        {
          "output_type": "stream",
          "name": "stdout",
          "text": [
            "\u001b[1m7/7\u001b[0m \u001b[32m━━━━━━━━━━━━━━━━━━━━\u001b[0m\u001b[37m\u001b[0m \u001b[1m0s\u001b[0m 36ms/step\n"
          ]
        },
        {
          "output_type": "stream",
          "name": "stderr",
          "text": [
            "Optimizing chunk 2:  82%|████████▏ | 9/11 [1:30:51<20:54, 627.24s/it]"
          ]
        },
        {
          "output_type": "stream",
          "name": "stdout",
          "text": [
            "[I 2025-05-01 10:39:00,530] Trial 0 finished with value: 0.045845351256182915 and parameters: {'lookback': 6, 'units': 174, 'dropout': 0.23237833325013502, 'batch_size': 32, 'epochs': 31}. Best is trial 0 with value: 0.045845351256182915.\n",
            "\u001b[1m6/6\u001b[0m \u001b[32m━━━━━━━━━━━━━━━━━━━━\u001b[0m\u001b[37m\u001b[0m \u001b[1m1s\u001b[0m 63ms/step\n"
          ]
        },
        {
          "output_type": "stream",
          "name": "stderr",
          "text": [
            "Optimizing chunk 2:  82%|████████▏ | 9/11 [1:31:20<20:54, 627.24s/it]"
          ]
        },
        {
          "output_type": "stream",
          "name": "stdout",
          "text": [
            "[I 2025-05-01 10:39:29,178] Trial 1 finished with value: 0.051516845156547524 and parameters: {'lookback': 51, 'units': 147, 'dropout': 0.26724743504909665, 'batch_size': 32, 'epochs': 32}. Best is trial 0 with value: 0.045845351256182915.\n",
            "\u001b[1m7/7\u001b[0m \u001b[32m━━━━━━━━━━━━━━━━━━━━\u001b[0m\u001b[37m\u001b[0m \u001b[1m0s\u001b[0m 38ms/step\n"
          ]
        },
        {
          "output_type": "stream",
          "name": "stderr",
          "text": [
            "Optimizing chunk 2:  82%|████████▏ | 9/11 [1:31:31<20:54, 627.24s/it]"
          ]
        },
        {
          "output_type": "stream",
          "name": "stdout",
          "text": [
            "[I 2025-05-01 10:39:40,864] Trial 2 finished with value: 0.05190032417689968 and parameters: {'lookback': 41, 'units': 100, 'dropout': 0.4499200498628496, 'batch_size': 32, 'epochs': 30}. Best is trial 0 with value: 0.045845351256182915.\n",
            "\u001b[1m7/7\u001b[0m \u001b[32m━━━━━━━━━━━━━━━━━━━━\u001b[0m\u001b[37m\u001b[0m \u001b[1m0s\u001b[0m 34ms/step\n"
          ]
        },
        {
          "output_type": "stream",
          "name": "stderr",
          "text": [
            "Optimizing chunk 2:  82%|████████▏ | 9/11 [1:31:38<20:54, 627.24s/it]"
          ]
        },
        {
          "output_type": "stream",
          "name": "stdout",
          "text": [
            "[I 2025-05-01 10:39:47,718] Trial 3 finished with value: 0.04659985595204604 and parameters: {'lookback': 11, 'units': 78, 'dropout': 0.3836630097510455, 'batch_size': 32, 'epochs': 21}. Best is trial 0 with value: 0.045845351256182915.\n",
            "\u001b[1m7/7\u001b[0m \u001b[32m━━━━━━━━━━━━━━━━━━━━\u001b[0m\u001b[37m\u001b[0m \u001b[1m0s\u001b[0m 44ms/step\n"
          ]
        },
        {
          "output_type": "stream",
          "name": "stderr",
          "text": [
            "Optimizing chunk 2:  82%|████████▏ | 9/11 [1:32:02<20:54, 627.24s/it]"
          ]
        },
        {
          "output_type": "stream",
          "name": "stdout",
          "text": [
            "[I 2025-05-01 10:40:11,345] Trial 4 finished with value: 0.05188270032595396 and parameters: {'lookback': 36, 'units': 135, 'dropout': 0.28487351693037666, 'batch_size': 32, 'epochs': 33}. Best is trial 0 with value: 0.045845351256182915.\n",
            "\u001b[1m7/7\u001b[0m \u001b[32m━━━━━━━━━━━━━━━━━━━━\u001b[0m\u001b[37m\u001b[0m \u001b[1m1s\u001b[0m 93ms/step\n"
          ]
        },
        {
          "output_type": "stream",
          "name": "stderr",
          "text": [
            "Optimizing chunk 2:  82%|████████▏ | 9/11 [1:32:24<20:54, 627.24s/it]"
          ]
        },
        {
          "output_type": "stream",
          "name": "stdout",
          "text": [
            "[I 2025-05-01 10:40:33,452] Trial 5 finished with value: 0.05352210219266632 and parameters: {'lookback': 41, 'units': 243, 'dropout': 0.2974073504964574, 'batch_size': 64, 'epochs': 20}. Best is trial 0 with value: 0.045845351256182915.\n",
            "\u001b[1m6/6\u001b[0m \u001b[32m━━━━━━━━━━━━━━━━━━━━\u001b[0m\u001b[37m\u001b[0m \u001b[1m0s\u001b[0m 49ms/step\n"
          ]
        },
        {
          "output_type": "stream",
          "name": "stderr",
          "text": [
            "Optimizing chunk 2:  82%|████████▏ | 9/11 [1:32:34<20:54, 627.24s/it]"
          ]
        },
        {
          "output_type": "stream",
          "name": "stdout",
          "text": [
            "[I 2025-05-01 10:40:43,283] Trial 6 finished with value: 0.07618772848116619 and parameters: {'lookback': 51, 'units': 81, 'dropout': 0.24017483048716046, 'batch_size': 64, 'epochs': 20}. Best is trial 0 with value: 0.045845351256182915.\n",
            "\u001b[1m7/7\u001b[0m \u001b[32m━━━━━━━━━━━━━━━━━━━━\u001b[0m\u001b[37m\u001b[0m \u001b[1m0s\u001b[0m 36ms/step\n"
          ]
        },
        {
          "output_type": "stream",
          "name": "stderr",
          "text": [
            "Optimizing chunk 2:  82%|████████▏ | 9/11 [1:32:42<20:54, 627.24s/it]"
          ]
        },
        {
          "output_type": "stream",
          "name": "stdout",
          "text": [
            "[I 2025-05-01 10:40:51,363] Trial 7 finished with value: 0.05597231215561093 and parameters: {'lookback': 21, 'units': 84, 'dropout': 0.21462059360064747, 'batch_size': 32, 'epochs': 28}. Best is trial 0 with value: 0.045845351256182915.\n",
            "\u001b[1m7/7\u001b[0m \u001b[32m━━━━━━━━━━━━━━━━━━━━\u001b[0m\u001b[37m\u001b[0m \u001b[1m1s\u001b[0m 67ms/step\n"
          ]
        },
        {
          "output_type": "stream",
          "name": "stderr",
          "text": [
            "Optimizing chunk 2:  82%|████████▏ | 9/11 [1:33:01<20:54, 627.24s/it]"
          ]
        },
        {
          "output_type": "stream",
          "name": "stdout",
          "text": [
            "[I 2025-05-01 10:41:10,232] Trial 8 finished with value: 0.059706654792150066 and parameters: {'lookback': 36, 'units': 117, 'dropout': 0.40979783664981173, 'batch_size': 32, 'epochs': 26}. Best is trial 0 with value: 0.045845351256182915.\n",
            "\u001b[1m7/7\u001b[0m \u001b[32m━━━━━━━━━━━━━━━━━━━━\u001b[0m\u001b[37m\u001b[0m \u001b[1m0s\u001b[0m 31ms/step\n"
          ]
        },
        {
          "output_type": "stream",
          "name": "stderr",
          "text": [
            "Optimizing chunk 2:  82%|████████▏ | 9/11 [1:33:06<20:54, 627.24s/it]"
          ]
        },
        {
          "output_type": "stream",
          "name": "stdout",
          "text": [
            "[I 2025-05-01 10:41:16,009] Trial 9 finished with value: 0.053393396805828115 and parameters: {'lookback': 11, 'units': 70, 'dropout': 0.30764443340265296, 'batch_size': 32, 'epochs': 30}. Best is trial 0 with value: 0.045845351256182915.\n",
            "\u001b[1m7/7\u001b[0m \u001b[32m━━━━━━━━━━━━━━━━━━━━\u001b[0m\u001b[37m\u001b[0m \u001b[1m0s\u001b[0m 39ms/step\n"
          ]
        },
        {
          "output_type": "stream",
          "name": "stderr",
          "text": [
            "Optimizing chunk 2:  82%|████████▏ | 9/11 [1:33:14<20:54, 627.24s/it]"
          ]
        },
        {
          "output_type": "stream",
          "name": "stdout",
          "text": [
            "[I 2025-05-01 10:41:23,804] Trial 10 finished with value: 0.03002565670499014 and parameters: {'lookback': 1, 'units': 197, 'dropout': 0.10221211883976261, 'batch_size': 64, 'epochs': 35}. Best is trial 10 with value: 0.03002565670499014.\n",
            "\u001b[1m7/7\u001b[0m \u001b[32m━━━━━━━━━━━━━━━━━━━━\u001b[0m\u001b[37m\u001b[0m \u001b[1m0s\u001b[0m 34ms/step\n"
          ]
        },
        {
          "output_type": "stream",
          "name": "stderr",
          "text": [
            "Optimizing chunk 2:  82%|████████▏ | 9/11 [1:33:21<20:54, 627.24s/it]"
          ]
        },
        {
          "output_type": "stream",
          "name": "stdout",
          "text": [
            "[I 2025-05-01 10:41:30,559] Trial 11 finished with value: 0.029215075429848903 and parameters: {'lookback': 1, 'units': 196, 'dropout': 0.10105978969585422, 'batch_size': 64, 'epochs': 35}. Best is trial 11 with value: 0.029215075429848903.\n",
            "\u001b[1m7/7\u001b[0m \u001b[32m━━━━━━━━━━━━━━━━━━━━\u001b[0m\u001b[37m\u001b[0m \u001b[1m0s\u001b[0m 33ms/step\n"
          ]
        },
        {
          "output_type": "stream",
          "name": "stderr",
          "text": [
            "Optimizing chunk 2:  82%|████████▏ | 9/11 [1:33:28<20:54, 627.24s/it]"
          ]
        },
        {
          "output_type": "stream",
          "name": "stdout",
          "text": [
            "[I 2025-05-01 10:41:38,119] Trial 12 finished with value: 0.030849999070994567 and parameters: {'lookback': 1, 'units': 209, 'dropout': 0.1058773593277907, 'batch_size': 64, 'epochs': 35}. Best is trial 11 with value: 0.029215075429848903.\n",
            "\u001b[1m7/7\u001b[0m \u001b[32m━━━━━━━━━━━━━━━━━━━━\u001b[0m\u001b[37m\u001b[0m \u001b[1m0s\u001b[0m 41ms/step\n"
          ]
        },
        {
          "output_type": "stream",
          "name": "stderr",
          "text": [
            "Optimizing chunk 2:  82%|████████▏ | 9/11 [1:33:39<20:54, 627.24s/it]"
          ]
        },
        {
          "output_type": "stream",
          "name": "stdout",
          "text": [
            "[I 2025-05-01 10:41:48,628] Trial 13 finished with value: 0.052957994236090614 and parameters: {'lookback': 16, 'units': 194, 'dropout': 0.1103262647635597, 'batch_size': 64, 'epochs': 34}. Best is trial 11 with value: 0.029215075429848903.\n",
            "\u001b[1m7/7\u001b[0m \u001b[32m━━━━━━━━━━━━━━━━━━━━\u001b[0m\u001b[37m\u001b[0m \u001b[1m0s\u001b[0m 36ms/step\n"
          ]
        },
        {
          "output_type": "stream",
          "name": "stderr",
          "text": [
            "Optimizing chunk 2:  82%|████████▏ | 9/11 [1:33:46<20:54, 627.24s/it]"
          ]
        },
        {
          "output_type": "stream",
          "name": "stdout",
          "text": [
            "[I 2025-05-01 10:41:55,334] Trial 14 finished with value: 0.031580907019423315 and parameters: {'lookback': 1, 'units': 249, 'dropout': 0.16440387892372058, 'batch_size': 64, 'epochs': 35}. Best is trial 11 with value: 0.029215075429848903.\n",
            "\u001b[1m7/7\u001b[0m \u001b[32m━━━━━━━━━━━━━━━━━━━━\u001b[0m\u001b[37m\u001b[0m \u001b[1m0s\u001b[0m 45ms/step\n"
          ]
        },
        {
          "output_type": "stream",
          "name": "stderr",
          "text": [
            "Optimizing chunk 2:  82%|████████▏ | 9/11 [1:33:59<20:54, 627.24s/it]"
          ]
        },
        {
          "output_type": "stream",
          "name": "stdout",
          "text": [
            "[I 2025-05-01 10:42:08,145] Trial 15 finished with value: 0.05263777469705355 and parameters: {'lookback': 26, 'units': 215, 'dropout': 0.17772417023472925, 'batch_size': 64, 'epochs': 24}. Best is trial 11 with value: 0.029215075429848903.\n",
            "\u001b[1m7/7\u001b[0m \u001b[32m━━━━━━━━━━━━━━━━━━━━\u001b[0m\u001b[37m\u001b[0m \u001b[1m0s\u001b[0m 34ms/step\n"
          ]
        },
        {
          "output_type": "stream",
          "name": "stderr",
          "text": [
            "Optimizing chunk 2:  82%|████████▏ | 9/11 [1:34:07<20:54, 627.24s/it]"
          ]
        },
        {
          "output_type": "stream",
          "name": "stdout",
          "text": [
            "[I 2025-05-01 10:42:16,443] Trial 16 finished with value: 0.029582734246037277 and parameters: {'lookback': 1, 'units': 182, 'dropout': 0.15265097403450525, 'batch_size': 64, 'epochs': 28}. Best is trial 11 with value: 0.029215075429848903.\n",
            "\u001b[1m7/7\u001b[0m \u001b[32m━━━━━━━━━━━━━━━━━━━━\u001b[0m\u001b[37m\u001b[0m \u001b[1m1s\u001b[0m 54ms/step\n"
          ]
        },
        {
          "output_type": "stream",
          "name": "stderr",
          "text": [
            "Optimizing chunk 2:  82%|████████▏ | 9/11 [1:34:14<20:54, 627.24s/it]"
          ]
        },
        {
          "output_type": "stream",
          "name": "stdout",
          "text": [
            "[I 2025-05-01 10:42:23,685] Trial 17 finished with value: 0.05126959920661894 and parameters: {'lookback': 11, 'units': 162, 'dropout': 0.16291988568145122, 'batch_size': 64, 'epochs': 24}. Best is trial 11 with value: 0.029215075429848903.\n",
            "\u001b[1m7/7\u001b[0m \u001b[32m━━━━━━━━━━━━━━━━━━━━\u001b[0m\u001b[37m\u001b[0m \u001b[1m0s\u001b[0m 43ms/step\n"
          ]
        },
        {
          "output_type": "stream",
          "name": "stderr",
          "text": [
            "Optimizing chunk 2:  82%|████████▏ | 9/11 [1:34:25<20:54, 627.24s/it]"
          ]
        },
        {
          "output_type": "stream",
          "name": "stdout",
          "text": [
            "[I 2025-05-01 10:42:34,385] Trial 18 finished with value: 0.06386600607808993 and parameters: {'lookback': 21, 'units': 178, 'dropout': 0.33902279182491546, 'batch_size': 64, 'epochs': 28}. Best is trial 11 with value: 0.029215075429848903.\n",
            "\u001b[1m7/7\u001b[0m \u001b[32m━━━━━━━━━━━━━━━━━━━━\u001b[0m\u001b[37m\u001b[0m \u001b[1m0s\u001b[0m 41ms/step\n"
          ]
        },
        {
          "output_type": "stream",
          "name": "stderr",
          "text": [
            "Optimizing chunk 2:  82%|████████▏ | 9/11 [1:34:34<20:54, 627.24s/it]"
          ]
        },
        {
          "output_type": "stream",
          "name": "stdout",
          "text": [
            "[I 2025-05-01 10:42:43,540] Trial 19 finished with value: 0.0440409915785033 and parameters: {'lookback': 6, 'units': 230, 'dropout': 0.1456037455233258, 'batch_size': 64, 'epochs': 26}. Best is trial 11 with value: 0.029215075429848903.\n",
            "\u001b[1m7/7\u001b[0m \u001b[32m━━━━━━━━━━━━━━━━━━━━\u001b[0m\u001b[37m\u001b[0m \u001b[1m0s\u001b[0m 35ms/step\n"
          ]
        },
        {
          "output_type": "stream",
          "name": "stderr",
          "text": [
            "Optimizing chunk 2:  82%|████████▏ | 9/11 [1:34:41<20:54, 627.24s/it]"
          ]
        },
        {
          "output_type": "stream",
          "name": "stdout",
          "text": [
            "[I 2025-05-01 10:42:50,399] Trial 20 finished with value: 0.06544274133140542 and parameters: {'lookback': 16, 'units': 35, 'dropout': 0.18973392678173087, 'batch_size': 64, 'epochs': 23}. Best is trial 11 with value: 0.029215075429848903.\n",
            "\u001b[1m7/7\u001b[0m \u001b[32m━━━━━━━━━━━━━━━━━━━━\u001b[0m\u001b[37m\u001b[0m \u001b[1m0s\u001b[0m 34ms/step\n"
          ]
        },
        {
          "output_type": "stream",
          "name": "stderr",
          "text": [
            "Optimizing chunk 2:  82%|████████▏ | 9/11 [1:34:48<20:54, 627.24s/it]"
          ]
        },
        {
          "output_type": "stream",
          "name": "stdout",
          "text": [
            "[I 2025-05-01 10:42:57,641] Trial 21 finished with value: 0.029035024321450647 and parameters: {'lookback': 1, 'units': 195, 'dropout': 0.10051661871222374, 'batch_size': 64, 'epochs': 33}. Best is trial 21 with value: 0.029035024321450647.\n",
            "\u001b[1m7/7\u001b[0m \u001b[32m━━━━━━━━━━━━━━━━━━━━\u001b[0m\u001b[37m\u001b[0m \u001b[1m0s\u001b[0m 44ms/step\n"
          ]
        },
        {
          "output_type": "stream",
          "name": "stderr",
          "text": [
            "Optimizing chunk 2:  82%|████████▏ | 9/11 [1:34:57<20:54, 627.24s/it]"
          ]
        },
        {
          "output_type": "stream",
          "name": "stdout",
          "text": [
            "[I 2025-05-01 10:43:06,505] Trial 22 finished with value: 0.05191917008202965 and parameters: {'lookback': 6, 'units': 186, 'dropout': 0.13699227542955314, 'batch_size': 64, 'epochs': 33}. Best is trial 21 with value: 0.029035024321450647.\n",
            "\u001b[1m7/7\u001b[0m \u001b[32m━━━━━━━━━━━━━━━━━━━━\u001b[0m\u001b[37m\u001b[0m \u001b[1m1s\u001b[0m 49ms/step\n"
          ]
        },
        {
          "output_type": "stream",
          "name": "stderr",
          "text": [
            "Optimizing chunk 2:  82%|████████▏ | 9/11 [1:35:05<20:54, 627.24s/it]"
          ]
        },
        {
          "output_type": "stream",
          "name": "stdout",
          "text": [
            "[I 2025-05-01 10:43:14,203] Trial 23 finished with value: 0.032062066721321905 and parameters: {'lookback': 1, 'units': 154, 'dropout': 0.13552878539686813, 'batch_size': 64, 'epochs': 30}. Best is trial 21 with value: 0.029035024321450647.\n",
            "\u001b[1m7/7\u001b[0m \u001b[32m━━━━━━━━━━━━━━━━━━━━\u001b[0m\u001b[37m\u001b[0m \u001b[1m0s\u001b[0m 40ms/step\n"
          ]
        },
        {
          "output_type": "stream",
          "name": "stderr",
          "text": [
            "Optimizing chunk 2:  82%|████████▏ | 9/11 [1:35:12<20:54, 627.24s/it]"
          ]
        },
        {
          "output_type": "stream",
          "name": "stdout",
          "text": [
            "[I 2025-05-01 10:43:22,112] Trial 24 finished with value: 0.04557453557265735 and parameters: {'lookback': 6, 'units': 219, 'dropout': 0.20303572979079343, 'batch_size': 64, 'epochs': 32}. Best is trial 21 with value: 0.029035024321450647.\n",
            "\u001b[1m7/7\u001b[0m \u001b[32m━━━━━━━━━━━━━━━━━━━━\u001b[0m\u001b[37m\u001b[0m \u001b[1m0s\u001b[0m 36ms/step\n"
          ]
        },
        {
          "output_type": "stream",
          "name": "stderr",
          "text": [
            "Optimizing chunk 2:  82%|████████▏ | 9/11 [1:35:22<20:54, 627.24s/it]"
          ]
        },
        {
          "output_type": "stream",
          "name": "stdout",
          "text": [
            "[I 2025-05-01 10:43:31,446] Trial 25 finished with value: 0.05265671542614529 and parameters: {'lookback': 16, 'units': 132, 'dropout': 0.13026618823635247, 'batch_size': 64, 'epochs': 33}. Best is trial 21 with value: 0.029035024321450647.\n",
            "\u001b[1m7/7\u001b[0m \u001b[32m━━━━━━━━━━━━━━━━━━━━\u001b[0m\u001b[37m\u001b[0m \u001b[1m0s\u001b[0m 39ms/step\n"
          ]
        },
        {
          "output_type": "stream",
          "name": "stderr",
          "text": [
            "Optimizing chunk 2:  82%|████████▏ | 9/11 [1:35:30<20:54, 627.24s/it]"
          ]
        },
        {
          "output_type": "stream",
          "name": "stdout",
          "text": [
            "[I 2025-05-01 10:43:39,255] Trial 26 finished with value: 0.02974988511242495 and parameters: {'lookback': 1, 'units': 166, 'dropout': 0.10053556044071946, 'batch_size': 64, 'epochs': 29}. Best is trial 21 with value: 0.029035024321450647.\n",
            "\u001b[1m7/7\u001b[0m \u001b[32m━━━━━━━━━━━━━━━━━━━━\u001b[0m\u001b[37m\u001b[0m \u001b[1m0s\u001b[0m 37ms/step\n"
          ]
        },
        {
          "output_type": "stream",
          "name": "stderr",
          "text": [
            "Optimizing chunk 2:  82%|████████▏ | 9/11 [1:35:37<20:54, 627.24s/it]"
          ]
        },
        {
          "output_type": "stream",
          "name": "stdout",
          "text": [
            "[I 2025-05-01 10:43:46,860] Trial 27 finished with value: 0.060032544287154356 and parameters: {'lookback': 11, 'units': 203, 'dropout': 0.16006238937001746, 'batch_size': 64, 'epochs': 26}. Best is trial 21 with value: 0.029035024321450647.\n",
            "\u001b[1m6/6\u001b[0m \u001b[32m━━━━━━━━━━━━━━━━━━━━\u001b[0m\u001b[37m\u001b[0m \u001b[1m1s\u001b[0m 116ms/step\n"
          ]
        },
        {
          "output_type": "stream",
          "name": "stderr",
          "text": [
            "Optimizing chunk 2:  82%|████████▏ | 9/11 [1:36:05<20:54, 627.24s/it]"
          ]
        },
        {
          "output_type": "stream",
          "name": "stdout",
          "text": [
            "[I 2025-05-01 10:44:14,980] Trial 28 finished with value: 0.05164135629820117 and parameters: {'lookback': 56, 'units': 233, 'dropout': 0.19461424438136055, 'batch_size': 64, 'epochs': 34}. Best is trial 21 with value: 0.029035024321450647.\n",
            "\u001b[1m7/7\u001b[0m \u001b[32m━━━━━━━━━━━━━━━━━━━━\u001b[0m\u001b[37m\u001b[0m \u001b[1m0s\u001b[0m 35ms/step\n"
          ]
        },
        {
          "output_type": "stream",
          "name": "stderr",
          "text": [
            "Optimizing chunk 2:  91%|█████████ | 10/11 [1:36:12<08:55, 535.28s/it][I 2025-05-01 10:44:21,968] A new study created in memory with name: no-name-8a0b8e1c-b141-4475-9d5c-de47a57f78b3\n"
          ]
        },
        {
          "output_type": "stream",
          "name": "stdout",
          "text": [
            "[I 2025-05-01 10:44:21,942] Trial 29 finished with value: 0.04280085465549869 and parameters: {'lookback': 6, 'units': 180, 'dropout': 0.2307693408009318, 'batch_size': 64, 'epochs': 31}. Best is trial 21 with value: 0.029035024321450647.\n",
            "✅ Done: NVDA.O — Best Params: {'lookback': 1, 'units': 195, 'dropout': 0.10051661871222374, 'batch_size': 64, 'epochs': 33}\n",
            "\n",
            "🔍 Optimizing for NXPI.O...\n"
          ]
        },
        {
          "output_type": "display_data",
          "data": {
            "text/plain": [
              "  0%|          | 0/30 [00:00<?, ?it/s]"
            ],
            "application/vnd.jupyter.widget-view+json": {
              "version_major": 2,
              "version_minor": 0,
              "model_id": "71ce76c6d1d3461b99c62e4f2d6d43aa"
            }
          },
          "metadata": {}
        },
        {
          "output_type": "stream",
          "name": "stdout",
          "text": [
            "\u001b[1m6/6\u001b[0m \u001b[32m━━━━━━━━━━━━━━━━━━━━\u001b[0m\u001b[37m\u001b[0m \u001b[1m0s\u001b[0m 12ms/step \n"
          ]
        },
        {
          "output_type": "stream",
          "name": "stderr",
          "text": [
            "Optimizing chunk 2:  91%|█████████ | 10/11 [1:36:33<08:55, 535.28s/it]"
          ]
        },
        {
          "output_type": "stream",
          "name": "stdout",
          "text": [
            "[I 2025-05-01 10:44:42,773] Trial 0 finished with value: 0.05351666544245139 and parameters: {'lookback': 46, 'units': 87, 'dropout': 0.4672231100251638, 'batch_size': 64, 'epochs': 21}. Best is trial 0 with value: 0.05351666544245139.\n",
            "\u001b[1m6/6\u001b[0m \u001b[32m━━━━━━━━━━━━━━━━━━━━\u001b[0m\u001b[37m\u001b[0m \u001b[1m1s\u001b[0m 64ms/step\n"
          ]
        },
        {
          "output_type": "stream",
          "name": "stderr",
          "text": [
            "Optimizing chunk 2:  91%|█████████ | 10/11 [1:37:35<08:55, 535.28s/it]"
          ]
        },
        {
          "output_type": "stream",
          "name": "stdout",
          "text": [
            "[I 2025-05-01 10:45:44,742] Trial 1 finished with value: 0.0450164862277492 and parameters: {'lookback': 51, 'units': 190, 'dropout': 0.29108675205986, 'batch_size': 32, 'epochs': 25}. Best is trial 1 with value: 0.0450164862277492.\n",
            "\u001b[1m6/6\u001b[0m \u001b[32m━━━━━━━━━━━━━━━━━━━━\u001b[0m\u001b[37m\u001b[0m \u001b[1m0s\u001b[0m 17ms/step\n"
          ]
        },
        {
          "output_type": "stream",
          "name": "stderr",
          "text": [
            "Optimizing chunk 2:  91%|█████████ | 10/11 [1:37:58<08:55, 535.28s/it]"
          ]
        },
        {
          "output_type": "stream",
          "name": "stdout",
          "text": [
            "[I 2025-05-01 10:46:07,726] Trial 2 finished with value: 0.05452186519260725 and parameters: {'lookback': 46, 'units': 87, 'dropout': 0.46437630439229827, 'batch_size': 64, 'epochs': 21}. Best is trial 1 with value: 0.0450164862277492.\n",
            "\u001b[1m7/7\u001b[0m \u001b[32m━━━━━━━━━━━━━━━━━━━━\u001b[0m\u001b[37m\u001b[0m \u001b[1m7s\u001b[0m 53ms/step\n"
          ]
        },
        {
          "output_type": "stream",
          "name": "stderr",
          "text": [
            "Optimizing chunk 2:  91%|█████████ | 10/11 [1:38:29<08:55, 535.28s/it]"
          ]
        },
        {
          "output_type": "stream",
          "name": "stdout",
          "text": [
            "[I 2025-05-01 10:46:38,457] Trial 3 finished with value: 0.048545674857942395 and parameters: {'lookback': 31, 'units': 127, 'dropout': 0.25549015536595965, 'batch_size': 64, 'epochs': 22}. Best is trial 1 with value: 0.0450164862277492.\n",
            "\u001b[1m7/7\u001b[0m \u001b[32m━━━━━━━━━━━━━━━━━━━━\u001b[0m\u001b[37m\u001b[0m \u001b[1m1s\u001b[0m 76ms/step\n"
          ]
        },
        {
          "output_type": "stream",
          "name": "stderr",
          "text": [
            "Optimizing chunk 2:  91%|█████████ | 10/11 [1:39:13<08:55, 535.28s/it]"
          ]
        },
        {
          "output_type": "stream",
          "name": "stdout",
          "text": [
            "[I 2025-05-01 10:47:22,671] Trial 4 finished with value: 0.04157118332115763 and parameters: {'lookback': 26, 'units': 188, 'dropout': 0.28988156478775096, 'batch_size': 32, 'epochs': 29}. Best is trial 4 with value: 0.04157118332115763.\n",
            "\u001b[1m7/7\u001b[0m \u001b[32m━━━━━━━━━━━━━━━━━━━━\u001b[0m\u001b[37m\u001b[0m \u001b[1m1s\u001b[0m 86ms/step\n"
          ]
        },
        {
          "output_type": "stream",
          "name": "stderr",
          "text": [
            "Optimizing chunk 2:  91%|█████████ | 10/11 [1:39:50<08:55, 535.28s/it]"
          ]
        },
        {
          "output_type": "stream",
          "name": "stdout",
          "text": [
            "[I 2025-05-01 10:47:59,158] Trial 5 finished with value: 0.04721692209079138 and parameters: {'lookback': 31, 'units': 205, 'dropout': 0.20659555779432515, 'batch_size': 64, 'epochs': 21}. Best is trial 4 with value: 0.04157118332115763.\n",
            "\u001b[1m6/6\u001b[0m \u001b[32m━━━━━━━━━━━━━━━━━━━━\u001b[0m\u001b[37m\u001b[0m \u001b[1m0s\u001b[0m 13ms/step \n"
          ]
        },
        {
          "output_type": "stream",
          "name": "stderr",
          "text": [
            "Optimizing chunk 2:  91%|█████████ | 10/11 [1:40:12<08:55, 535.28s/it]"
          ]
        },
        {
          "output_type": "stream",
          "name": "stdout",
          "text": [
            "[I 2025-05-01 10:48:21,508] Trial 6 finished with value: 0.05379194358770461 and parameters: {'lookback': 46, 'units': 76, 'dropout': 0.25356534959980703, 'batch_size': 32, 'epochs': 20}. Best is trial 4 with value: 0.04157118332115763.\n",
            "\u001b[1m7/7\u001b[0m \u001b[32m━━━━━━━━━━━━━━━━━━━━\u001b[0m\u001b[37m\u001b[0m \u001b[1m1s\u001b[0m 53ms/step\n"
          ]
        },
        {
          "output_type": "stream",
          "name": "stderr",
          "text": [
            "Optimizing chunk 2:  91%|█████████ | 10/11 [1:40:27<08:55, 535.28s/it]"
          ]
        },
        {
          "output_type": "stream",
          "name": "stdout",
          "text": [
            "[I 2025-05-01 10:48:36,469] Trial 7 finished with value: 0.044707493660433695 and parameters: {'lookback': 6, 'units': 110, 'dropout': 0.45641826583224565, 'batch_size': 32, 'epochs': 31}. Best is trial 4 with value: 0.04157118332115763.\n",
            "\u001b[1m7/7\u001b[0m \u001b[32m━━━━━━━━━━━━━━━━━━━━\u001b[0m\u001b[37m\u001b[0m \u001b[1m1s\u001b[0m 60ms/step\n"
          ]
        },
        {
          "output_type": "stream",
          "name": "stderr",
          "text": [
            "Optimizing chunk 2:  91%|█████████ | 10/11 [1:41:20<08:55, 535.28s/it]"
          ]
        },
        {
          "output_type": "stream",
          "name": "stdout",
          "text": [
            "[I 2025-05-01 10:49:29,915] Trial 8 finished with value: 0.05062567542310647 and parameters: {'lookback': 41, 'units': 204, 'dropout': 0.23729104320250363, 'batch_size': 64, 'epochs': 25}. Best is trial 4 with value: 0.04157118332115763.\n",
            "\u001b[1m6/6\u001b[0m \u001b[32m━━━━━━━━━━━━━━━━━━━━\u001b[0m\u001b[37m\u001b[0m \u001b[1m1s\u001b[0m 76ms/step\n"
          ]
        },
        {
          "output_type": "stream",
          "name": "stderr",
          "text": [
            "Optimizing chunk 2:  91%|█████████ | 10/11 [1:42:37<08:55, 535.28s/it]"
          ]
        },
        {
          "output_type": "stream",
          "name": "stdout",
          "text": [
            "[I 2025-05-01 10:50:46,334] Trial 9 finished with value: 0.046584180485981876 and parameters: {'lookback': 56, 'units': 201, 'dropout': 0.17457073976054738, 'batch_size': 32, 'epochs': 22}. Best is trial 4 with value: 0.04157118332115763.\n",
            "\u001b[1m7/7\u001b[0m \u001b[32m━━━━━━━━━━━━━━━━━━━━\u001b[0m\u001b[37m\u001b[0m \u001b[1m1s\u001b[0m 66ms/step\n"
          ]
        },
        {
          "output_type": "stream",
          "name": "stderr",
          "text": [
            "Optimizing chunk 2:  91%|█████████ | 10/11 [1:43:21<08:55, 535.28s/it]"
          ]
        },
        {
          "output_type": "stream",
          "name": "stdout",
          "text": [
            "[I 2025-05-01 10:51:30,761] Trial 10 finished with value: 0.04154851222380135 and parameters: {'lookback': 11, 'units': 250, 'dropout': 0.36256517541165284, 'batch_size': 32, 'epochs': 35}. Best is trial 10 with value: 0.04154851222380135.\n",
            "\u001b[1m7/7\u001b[0m \u001b[32m━━━━━━━━━━━━━━━━━━━━\u001b[0m\u001b[37m\u001b[0m \u001b[1m1s\u001b[0m 61ms/step\n"
          ]
        },
        {
          "output_type": "stream",
          "name": "stderr",
          "text": [
            "Optimizing chunk 2:  91%|█████████ | 10/11 [1:44:00<08:55, 535.28s/it]"
          ]
        },
        {
          "output_type": "stream",
          "name": "stdout",
          "text": [
            "[I 2025-05-01 10:52:09,323] Trial 11 finished with value: 0.043310503323711017 and parameters: {'lookback': 11, 'units': 256, 'dropout': 0.3682820714142966, 'batch_size': 32, 'epochs': 35}. Best is trial 10 with value: 0.04154851222380135.\n",
            "\u001b[1m7/7\u001b[0m \u001b[32m━━━━━━━━━━━━━━━━━━━━\u001b[0m\u001b[37m\u001b[0m \u001b[1m0s\u001b[0m 45ms/step\n"
          ]
        },
        {
          "output_type": "stream",
          "name": "stderr",
          "text": [
            "Optimizing chunk 2:  91%|█████████ | 10/11 [1:44:43<08:55, 535.28s/it]"
          ]
        },
        {
          "output_type": "stream",
          "name": "stdout",
          "text": [
            "[I 2025-05-01 10:52:52,744] Trial 12 finished with value: 0.04130577030376605 and parameters: {'lookback': 16, 'units': 251, 'dropout': 0.37137689312251493, 'batch_size': 32, 'epochs': 31}. Best is trial 12 with value: 0.04130577030376605.\n",
            "\u001b[1m7/7\u001b[0m \u001b[32m━━━━━━━━━━━━━━━━━━━━\u001b[0m\u001b[37m\u001b[0m \u001b[1m1s\u001b[0m 50ms/step\n"
          ]
        },
        {
          "output_type": "stream",
          "name": "stderr",
          "text": [
            "Optimizing chunk 2:  91%|█████████ | 10/11 [1:45:52<08:55, 535.28s/it]"
          ]
        },
        {
          "output_type": "stream",
          "name": "stdout",
          "text": [
            "[I 2025-05-01 10:54:01,543] Trial 13 finished with value: 0.04130546575960591 and parameters: {'lookback': 21, 'units': 253, 'dropout': 0.3760613990332535, 'batch_size': 32, 'epochs': 35}. Best is trial 13 with value: 0.04130546575960591.\n",
            "\u001b[1m7/7\u001b[0m \u001b[32m━━━━━━━━━━━━━━━━━━━━\u001b[0m\u001b[37m\u001b[0m \u001b[1m0s\u001b[0m 36ms/step\n"
          ]
        },
        {
          "output_type": "stream",
          "name": "stderr",
          "text": [
            "Optimizing chunk 2:  91%|█████████ | 10/11 [1:46:04<08:55, 535.28s/it]"
          ]
        },
        {
          "output_type": "stream",
          "name": "stdout",
          "text": [
            "[I 2025-05-01 10:54:13,528] Trial 14 finished with value: 0.059867621007042245 and parameters: {'lookback': 21, 'units': 41, 'dropout': 0.1065330426106948, 'batch_size': 32, 'epochs': 33}. Best is trial 13 with value: 0.04130546575960591.\n",
            "\u001b[1m7/7\u001b[0m \u001b[32m━━━━━━━━━━━━━━━━━━━━\u001b[0m\u001b[37m\u001b[0m \u001b[1m1s\u001b[0m 50ms/step\n"
          ]
        },
        {
          "output_type": "stream",
          "name": "stderr",
          "text": [
            "Optimizing chunk 2:  91%|█████████ | 10/11 [1:46:47<08:55, 535.28s/it]"
          ]
        },
        {
          "output_type": "stream",
          "name": "stdout",
          "text": [
            "[I 2025-05-01 10:54:56,554] Trial 15 finished with value: 0.04176859168646638 and parameters: {'lookback': 16, 'units': 232, 'dropout': 0.38250640906525213, 'batch_size': 32, 'epochs': 31}. Best is trial 13 with value: 0.04130546575960591.\n",
            "\u001b[1m7/7\u001b[0m \u001b[32m━━━━━━━━━━━━━━━━━━━━\u001b[0m\u001b[37m\u001b[0m \u001b[1m0s\u001b[0m 35ms/step\n"
          ]
        },
        {
          "output_type": "stream",
          "name": "stderr",
          "text": [
            "Optimizing chunk 2:  91%|█████████ | 10/11 [1:46:56<08:55, 535.28s/it]"
          ]
        },
        {
          "output_type": "stream",
          "name": "stdout",
          "text": [
            "[I 2025-05-01 10:55:05,737] Trial 16 finished with value: 0.03817951208090351 and parameters: {'lookback': 1, 'units': 157, 'dropout': 0.40536096717737585, 'batch_size': 32, 'epochs': 32}. Best is trial 16 with value: 0.03817951208090351.\n",
            "\u001b[1m7/7\u001b[0m \u001b[32m━━━━━━━━━━━━━━━━━━━━\u001b[0m\u001b[37m\u001b[0m \u001b[1m0s\u001b[0m 34ms/step\n"
          ]
        },
        {
          "output_type": "stream",
          "name": "stderr",
          "text": [
            "Optimizing chunk 2:  91%|█████████ | 10/11 [1:47:06<08:55, 535.28s/it]"
          ]
        },
        {
          "output_type": "stream",
          "name": "stdout",
          "text": [
            "[I 2025-05-01 10:55:15,205] Trial 17 finished with value: 0.03879648528205317 and parameters: {'lookback': 1, 'units': 155, 'dropout': 0.42256444321565406, 'batch_size': 32, 'epochs': 33}. Best is trial 16 with value: 0.03817951208090351.\n",
            "\u001b[1m7/7\u001b[0m \u001b[32m━━━━━━━━━━━━━━━━━━━━\u001b[0m\u001b[37m\u001b[0m \u001b[1m1s\u001b[0m 49ms/step\n"
          ]
        },
        {
          "output_type": "stream",
          "name": "stderr",
          "text": [
            "Optimizing chunk 2:  91%|█████████ | 10/11 [1:47:15<08:55, 535.28s/it]"
          ]
        },
        {
          "output_type": "stream",
          "name": "stdout",
          "text": [
            "[I 2025-05-01 10:55:24,441] Trial 18 finished with value: 0.037959226183504 and parameters: {'lookback': 1, 'units': 163, 'dropout': 0.41480595709824203, 'batch_size': 32, 'epochs': 28}. Best is trial 18 with value: 0.037959226183504.\n",
            "\u001b[1m7/7\u001b[0m \u001b[32m━━━━━━━━━━━━━━━━━━━━\u001b[0m\u001b[37m\u001b[0m \u001b[1m0s\u001b[0m 36ms/step\n"
          ]
        },
        {
          "output_type": "stream",
          "name": "stderr",
          "text": [
            "Optimizing chunk 2:  91%|█████████ | 10/11 [1:47:24<08:55, 535.28s/it]"
          ]
        },
        {
          "output_type": "stream",
          "name": "stdout",
          "text": [
            "[I 2025-05-01 10:55:33,712] Trial 19 finished with value: 0.03793460732870147 and parameters: {'lookback': 1, 'units': 161, 'dropout': 0.41770040624620103, 'batch_size': 32, 'epochs': 27}. Best is trial 19 with value: 0.03793460732870147.\n",
            "\u001b[1m7/7\u001b[0m \u001b[32m━━━━━━━━━━━━━━━━━━━━\u001b[0m\u001b[37m\u001b[0m \u001b[1m0s\u001b[0m 39ms/step\n"
          ]
        },
        {
          "output_type": "stream",
          "name": "stderr",
          "text": [
            "Optimizing chunk 2:  91%|█████████ | 10/11 [1:47:43<08:55, 535.28s/it]"
          ]
        },
        {
          "output_type": "stream",
          "name": "stdout",
          "text": [
            "[I 2025-05-01 10:55:52,354] Trial 20 finished with value: 0.04745489674389396 and parameters: {'lookback': 6, 'units': 171, 'dropout': 0.3282270061082727, 'batch_size': 32, 'epochs': 27}. Best is trial 19 with value: 0.03793460732870147.\n",
            "\u001b[1m7/7\u001b[0m \u001b[32m━━━━━━━━━━━━━━━━━━━━\u001b[0m\u001b[37m\u001b[0m \u001b[1m0s\u001b[0m 34ms/step\n"
          ]
        },
        {
          "output_type": "stream",
          "name": "stderr",
          "text": [
            "Optimizing chunk 2:  91%|█████████ | 10/11 [1:47:50<08:55, 535.28s/it]"
          ]
        },
        {
          "output_type": "stream",
          "name": "stdout",
          "text": [
            "[I 2025-05-01 10:55:59,954] Trial 21 finished with value: 0.03846174864086963 and parameters: {'lookback': 1, 'units': 143, 'dropout': 0.4207017885003728, 'batch_size': 32, 'epochs': 28}. Best is trial 19 with value: 0.03793460732870147.\n",
            "\u001b[1m7/7\u001b[0m \u001b[32m━━━━━━━━━━━━━━━━━━━━\u001b[0m\u001b[37m\u001b[0m \u001b[1m0s\u001b[0m 34ms/step\n"
          ]
        },
        {
          "output_type": "stream",
          "name": "stderr",
          "text": [
            "Optimizing chunk 2:  91%|█████████ | 10/11 [1:48:00<08:55, 535.28s/it]"
          ]
        },
        {
          "output_type": "stream",
          "name": "stdout",
          "text": [
            "[I 2025-05-01 10:56:09,657] Trial 22 finished with value: 0.037931169041594555 and parameters: {'lookback': 1, 'units': 160, 'dropout': 0.49272892848663463, 'batch_size': 32, 'epochs': 26}. Best is trial 22 with value: 0.037931169041594555.\n",
            "\u001b[1m7/7\u001b[0m \u001b[32m━━━━━━━━━━━━━━━━━━━━\u001b[0m\u001b[37m\u001b[0m \u001b[1m0s\u001b[0m 34ms/step\n"
          ]
        },
        {
          "output_type": "stream",
          "name": "stderr",
          "text": [
            "Optimizing chunk 2:  91%|█████████ | 10/11 [1:48:14<08:55, 535.28s/it]"
          ]
        },
        {
          "output_type": "stream",
          "name": "stdout",
          "text": [
            "[I 2025-05-01 10:56:24,058] Trial 23 finished with value: 0.04436712026880539 and parameters: {'lookback': 6, 'units': 127, 'dropout': 0.49267024313840224, 'batch_size': 32, 'epochs': 25}. Best is trial 22 with value: 0.037931169041594555.\n",
            "\u001b[1m7/7\u001b[0m \u001b[32m━━━━━━━━━━━━━━━━━━━━\u001b[0m\u001b[37m\u001b[0m \u001b[1m1s\u001b[0m 61ms/step\n"
          ]
        },
        {
          "output_type": "stream",
          "name": "stderr",
          "text": [
            "Optimizing chunk 2:  91%|█████████ | 10/11 [1:48:41<08:55, 535.28s/it]"
          ]
        },
        {
          "output_type": "stream",
          "name": "stdout",
          "text": [
            "[I 2025-05-01 10:56:50,619] Trial 24 finished with value: 0.043684041829604246 and parameters: {'lookback': 11, 'units': 174, 'dropout': 0.4875266665370118, 'batch_size': 32, 'epochs': 27}. Best is trial 22 with value: 0.037931169041594555.\n",
            "\u001b[1m7/7\u001b[0m \u001b[32m━━━━━━━━━━━━━━━━━━━━\u001b[0m\u001b[37m\u001b[0m \u001b[1m0s\u001b[0m 33ms/step\n"
          ]
        },
        {
          "output_type": "stream",
          "name": "stderr",
          "text": [
            "Optimizing chunk 2:  91%|█████████ | 10/11 [1:48:50<08:55, 535.28s/it]"
          ]
        },
        {
          "output_type": "stream",
          "name": "stdout",
          "text": [
            "[I 2025-05-01 10:56:59,608] Trial 25 finished with value: 0.037169379601971336 and parameters: {'lookback': 1, 'units': 131, 'dropout': 0.43439810513738364, 'batch_size': 32, 'epochs': 29}. Best is trial 25 with value: 0.037169379601971336.\n",
            "\u001b[1m7/7\u001b[0m \u001b[32m━━━━━━━━━━━━━━━━━━━━\u001b[0m\u001b[37m\u001b[0m \u001b[1m0s\u001b[0m 35ms/step\n"
          ]
        },
        {
          "output_type": "stream",
          "name": "stderr",
          "text": [
            "Optimizing chunk 2:  91%|█████████ | 10/11 [1:48:58<08:55, 535.28s/it]"
          ]
        },
        {
          "output_type": "stream",
          "name": "stdout",
          "text": [
            "[I 2025-05-01 10:57:07,718] Trial 26 finished with value: 0.056489369053331025 and parameters: {'lookback': 6, 'units': 119, 'dropout': 0.44363468968036174, 'batch_size': 64, 'epochs': 26}. Best is trial 25 with value: 0.037169379601971336.\n",
            "\u001b[1m7/7\u001b[0m \u001b[32m━━━━━━━━━━━━━━━━━━━━\u001b[0m\u001b[37m\u001b[0m \u001b[1m0s\u001b[0m 41ms/step\n"
          ]
        },
        {
          "output_type": "stream",
          "name": "stderr",
          "text": [
            "Optimizing chunk 2:  91%|█████████ | 10/11 [1:49:26<08:55, 535.28s/it]"
          ]
        },
        {
          "output_type": "stream",
          "name": "stdout",
          "text": [
            "[I 2025-05-01 10:57:35,400] Trial 27 finished with value: 0.04397613402942584 and parameters: {'lookback': 16, 'units': 144, 'dropout': 0.3375280893865391, 'batch_size': 32, 'epochs': 29}. Best is trial 25 with value: 0.037169379601971336.\n",
            "\u001b[1m7/7\u001b[0m \u001b[32m━━━━━━━━━━━━━━━━━━━━\u001b[0m\u001b[37m\u001b[0m \u001b[1m1s\u001b[0m 77ms/step\n"
          ]
        },
        {
          "output_type": "stream",
          "name": "stderr",
          "text": [
            "Optimizing chunk 2:  91%|█████████ | 10/11 [1:49:58<08:55, 535.28s/it]"
          ]
        },
        {
          "output_type": "stream",
          "name": "stdout",
          "text": [
            "[I 2025-05-01 10:58:07,192] Trial 28 finished with value: 0.04783585092988138 and parameters: {'lookback': 36, 'units': 105, 'dropout': 0.49682708204032433, 'batch_size': 32, 'epochs': 24}. Best is trial 25 with value: 0.037169379601971336.\n",
            "\u001b[1m7/7\u001b[0m \u001b[32m━━━━━━━━━━━━━━━━━━━━\u001b[0m\u001b[37m\u001b[0m \u001b[1m0s\u001b[0m 38ms/step\n"
          ]
        },
        {
          "output_type": "stream",
          "name": "stderr",
          "text": [
            "Optimizing chunk 2: 100%|██████████| 11/11 [1:50:04<00:00, 600.40s/it]"
          ]
        },
        {
          "output_type": "stream",
          "name": "stdout",
          "text": [
            "[I 2025-05-01 10:58:13,473] Trial 29 finished with value: 0.055683613478702945 and parameters: {'lookback': 11, 'units': 65, 'dropout': 0.4446856048721665, 'batch_size': 64, 'epochs': 29}. Best is trial 25 with value: 0.037169379601971336.\n",
            "✅ Done: NXPI.O — Best Params: {'lookback': 1, 'units': 131, 'dropout': 0.43439810513738364, 'batch_size': 32, 'epochs': 29}\n"
          ]
        },
        {
          "output_type": "stream",
          "name": "stderr",
          "text": [
            "\n"
          ]
        }
      ]
    },
    {
      "cell_type": "code",
      "source": [
        "import pandas as pd\n",
        "import numpy as np\n",
        "import optuna\n",
        "import os\n",
        "import json\n",
        "import warnings\n",
        "from tqdm import tqdm\n",
        "from sklearn.preprocessing import MinMaxScaler\n",
        "from sklearn.metrics import mean_squared_error\n",
        "from tensorflow.keras.models import Sequential\n",
        "from tensorflow.keras.layers import LSTM, Dense, Dropout\n",
        "from tensorflow.keras.optimizers import Adam\n",
        "from tensorflow.keras.callbacks import EarlyStopping\n",
        "\n",
        "warnings.filterwarnings(\"ignore\")\n",
        "\n",
        "# === Load and prepare dataset ===\n",
        "df = pd.read_csv(\"cleaned_stock_data_without_arm.csv\")\n",
        "df['Date'] = pd.to_datetime(df['Date'])\n",
        "df = df.sort_values(['Company', 'Date'])\n",
        "\n",
        "# Fix commas to save as numeric\n",
        "df['Price Close'] = df['Price Close'].astype(str).str.replace(\",\", \".\", regex=False)\n",
        "df['Price Close'] = pd.to_numeric(df['Price Close'], errors='coerce')\n",
        "\n",
        "# === Lag the Fama-French factors by 1 day ===\n",
        "for col in ['Mkt-RF', 'SMB', 'HML', 'RMW', 'CMA']:\n",
        "    df[col] = df.groupby('Company')[col].shift(1)\n",
        "\n",
        "df = df.dropna(subset=['Price Close', 'Mkt-RF', 'SMB', 'HML', 'RMW', 'CMA'])\n",
        "\n",
        "# === Create output folders ===\n",
        "os.makedirs(\"optuna_results\", exist_ok=True)\n",
        "os.makedirs(\"optuna_models\", exist_ok=True)\n",
        "\n",
        "# === Sequence generator ===\n",
        "def create_sequences(features, target, lookback):\n",
        "    X, y = [], []\n",
        "    for i in range(lookback, len(features)):\n",
        "        X.append(features[i - lookback:i])\n",
        "        y.append(target[i])\n",
        "    return np.array(X), np.array(y)\n",
        "\n",
        "# === Optimization function ===\n",
        "def optimize_lstm(company_data, company_name):\n",
        "    def objective(trial):\n",
        "        lookback = trial.suggest_int('lookback', 1, 60, step=5)\n",
        "        units = trial.suggest_int('units', 32, 256)\n",
        "        dropout = trial.suggest_float('dropout', 0.1, 0.5)\n",
        "        batch_size = trial.suggest_categorical('batch_size', [32, 64])\n",
        "        epochs = trial.suggest_int('epochs', 20, 35)\n",
        "\n",
        "        features = company_data[['Mkt-RF', 'SMB', 'HML', 'RMW', 'CMA']].values\n",
        "        target = company_data['Price Close'].values.reshape(-1, 1)\n",
        "\n",
        "        f_scaler = MinMaxScaler()\n",
        "        t_scaler = MinMaxScaler()\n",
        "        features_scaled = f_scaler.fit_transform(features)\n",
        "        target_scaled = t_scaler.fit_transform(target)\n",
        "\n",
        "        full_data = np.hstack((features_scaled, target_scaled))\n",
        "        X, y = create_sequences(full_data, target_scaled, lookback)\n",
        "\n",
        "        split = int(len(X) * 0.8)\n",
        "        X_train, X_val = X[:split], X[split:]\n",
        "        y_train, y_val = y[:split], y[split:]\n",
        "\n",
        "        model = Sequential()\n",
        "        model.add(LSTM(units, input_shape=(X.shape[1], X.shape[2])))\n",
        "        model.add(Dropout(dropout))\n",
        "        model.add(Dense(1))\n",
        "        model.compile(optimizer=Adam(learning_rate=0.001), loss='mse')\n",
        "\n",
        "        es = EarlyStopping(patience=5, restore_best_weights=True, verbose=0)\n",
        "        model.fit(X_train, y_train, epochs=epochs, batch_size=batch_size,\n",
        "                  validation_data=(X_val, y_val), callbacks=[es], verbose=0)\n",
        "\n",
        "        y_pred = model.predict(X_val)\n",
        "        rmse = np.sqrt(mean_squared_error(y_val, y_pred))\n",
        "\n",
        "        trial.set_user_attr(\"Company\", company_name)\n",
        "        return rmse\n",
        "\n",
        "    study = optuna.create_study(direction=\"minimize\")\n",
        "    study.optimize(objective, n_trials=30, show_progress_bar=True)\n",
        "\n",
        "    trial_df = study.trials_dataframe()\n",
        "    trial_df['Company'] = company_name\n",
        "\n",
        "    return study.best_trial.params, trial_df\n",
        "\n",
        "# === Select chunk to run ===\n",
        "chunk_number = 3  # Set this manually: 0, 1, 2, or 3\n",
        "num_chunks = 4\n",
        "all_companies = sorted(df['Company'].unique())\n",
        "chunk_size = len(all_companies) // num_chunks\n",
        "chunks = [all_companies[i*chunk_size : (i+1)*chunk_size] for i in range(num_chunks - 1)]\n",
        "chunks.append(all_companies[(num_chunks - 1)*chunk_size:])\n",
        "companies_to_run = chunks[chunk_number]\n",
        "\n",
        "# === Store all results ===\n",
        "all_results = []\n",
        "all_trials_df = []\n",
        "\n",
        "# === Run optimization per company in this chunk ===\n",
        "for company in tqdm(companies_to_run, desc=f\"Optimizing chunk {chunk_number}\"):\n",
        "    company_data = df[df['Company'] == company].dropna()\n",
        "    if len(company_data) < 100:\n",
        "        continue\n",
        "\n",
        "    print(f\"\\n🔍 Optimizing for {company}...\")\n",
        "    best_params, trial_df = optimize_lstm(company_data, company)\n",
        "\n",
        "    result = {\"Company\": company}\n",
        "    result.update(best_params)\n",
        "    all_results.append(result)\n",
        "    all_trials_df.append(trial_df)\n",
        "\n",
        "    print(f\"✅ Done: {company} — Best Params: {best_params}\")\n",
        "\n",
        "# === Save outputs for this chunk ===\n",
        "pd.DataFrame(all_results).to_csv(f\"optuna_best_params_chunk{chunk_number}.csv\", index=False)\n",
        "pd.concat(all_trials_df, ignore_index=True).to_csv(f\"optuna_trials_chunk{chunk_number}.csv\", index=False)"
      ],
      "metadata": {
        "colab": {
          "base_uri": "https://localhost:8080/",
          "height": 1000,
          "referenced_widgets": [
            "f855b701669e4b1ca72425886ddd50c0",
            "a1ea71ecf464436b9639e0ffa329644d",
            "997a34acacba48b883d99f10e8594880",
            "75c65852ed444ce08f709a13bf0b22dc",
            "cf5a06f9abb141ed9dc5b6c536273cfd",
            "d9ef994c128e4f0cb3c9fdef409d2263",
            "f4cc587928ea43ceb861dbf34c0c73f1",
            "dc39518d20114158a1dd6a9de563dfc8",
            "3c693786b4e749469494f6c9ec947fb1",
            "ec26c7bbe5454035bba0515aa15c987c",
            "06c1bbdfa8f14073b2a3f5742f4286c9",
            "0ddd74da7f084f02a41de4b33d37deb6",
            "6ba2032cf6784af7b825e55a39712620",
            "5e6f59070b3b48769c8fe3ac0a8836e7",
            "ec4829024cb0429f8fd9b3325070272e",
            "e5b9724ec8f04b66bf4c96d97ceb3c1d",
            "805f534bdf85421ea558952ba85f3780",
            "975a0ff0594b4ec3a7dde619fa76fc2d",
            "bce52764c3b642f687d1b6eb09db2c8b",
            "ea5f0176e4684d8a84b03572a99ba0cf",
            "2506a0417d9b462e8e69a78235a38cb7",
            "e84ec580522e4b8ca9a2c1f2d6cd6c95",
            "4af876bd4c14478b82c0e33105a55e9d",
            "2648fd1b56864391b0714f75755b9b88",
            "6618b03d0a004d39aec6e0551964b748",
            "356c6c3ed4654bb2a50b7a6740c340ce",
            "d2964a7a03444bd6901d92e0eebdb4cf",
            "11bad51668084cd4a3caff47575fd9be",
            "24b8f0a9b6a0495592b29b5de220ac1c",
            "95878ec1ebd64e9e86de4acc16d630ec",
            "31fa11d68b1a45bfb8f12d058e55051d",
            "26e879697d244d388d549a474843779b",
            "b194f0817cf54f01b3f4d12ec10393d3",
            "a9260fb357cb44f1a7be4090e41d93a4",
            "8c9e8aa697d84eac86195fd9874244dd",
            "8874ef70a4024711997783a336a0b392",
            "689b06ad4dff4cb7ae3d5921507b9d4b",
            "a477e662ada84d7e86319b264cedd970",
            "28cd44ce995e4138a95cae939bda13c8",
            "82fa95ce56a34319bf5b8dd392ac81c8",
            "3df987491a184785a5212ba92a5fc71e",
            "a401c678ecbc426db4ac927dcb8c3af0",
            "6274224354624673ab7c8e2cd60c6c8c",
            "a1c0c561984f4a0c96f37eedbe570823",
            "8635f06b9c0946698d0303bf563e9263",
            "0cbfa938d14c4510b522cbc2c6a7c3b5",
            "63dadc6009a642239a6d37703d04a339",
            "f2db3e941bed4490b0571daf0da68d8e",
            "e73f70a6dbc64e658ec99af4db2f3ae3",
            "013c1a1cba7846a98a1a2f8a26f146de",
            "1f65b191b8fd42188fa23b62990228a7",
            "79467876b5544527882bc88b4a074335",
            "f1dce53081914925805851f06b1baab3",
            "a6f140bc6d2248f88a234c61f889c474",
            "7ec6d07ab49c408b8c5b584ef486a44f",
            "059a18f508434e168ad4f786ce0f6eff",
            "cf96788b54084fa2af331a71ff05c815",
            "ce2a181ed28f44a1bc24291ca4ac4d91",
            "aa07cd160f95449e9ba63c94ead9bd1d",
            "8b4cebaf4f64410dab1dc63196bff5c2",
            "344c3a15c9e74c95a8131d1a6dfddd08",
            "3fa757e034ec47d784233ab73423b96a",
            "48ab324696ac4324bbce0fea50a7a07b",
            "76e4602666634737aba20b562f3366bf",
            "e6ec334f07bd43aab44347a0853c0233",
            "d13ce21332da4f979d21a6238c980ca4",
            "74c1ef9715ef4ca4b99caa2d17d27c46",
            "d9c5d68c6ef14d3b85f27175698d03ad",
            "d1b7d8e7c403439f92499bc07bd0d3b7",
            "249b9787c7a448a7b9edc380987db843",
            "90798ebdb5e14067bc414d0d54a27fe4",
            "576e9f2959184e72aa1e8a583f5ae326",
            "b1a70e4423204845a65998f397de0441",
            "cb892fa1e61d43c9b8455af4ab3c0de7",
            "316b0d81711a4306bdd7aebf2c31747a",
            "395a75da425d46df8bfd783e7553d4c2",
            "4717a4a656384efaab2edf8e0be7c4f7",
            "972e018da1424ee39c2316a0295f84cf",
            "ac2747cc92974078ac0ecd1fb194ab34",
            "407d7b8f0dfe411f9dd78b446136944e",
            "e4ca2cda62bb44baa68b9fe48e48ccb4",
            "eb5d98e02b8c453b80a730a13d02521a",
            "a2bb6f51386d439c9d8a901ab0aa4558",
            "fb8f569190504727baac3d195368baa0",
            "fb501687c49042548596d9a8779b8a1d",
            "56c11c3fdb8a44f7890f27ab9b3685fd",
            "14c8a6b22eed4f4886a753fdc2197bf5",
            "a3a4e913c2ee4447ba76325cd143f3ea",
            "768fea709c5a474aa39c488358bd3afb",
            "77430fc8ab9f4d7b8062543757ae05ed",
            "33d14944c76a4705bfa56eddb0e63f29",
            "7a0d69a4e675447abc22b77cc122c45e",
            "175c762d55b94e59b2c764d98de5bce3",
            "949e5acd2a9141678520253cf9aa357a",
            "b3d75bc5bbbc40478573f1fe1593bd1b",
            "8d56812b3522492d80f1345709070e94",
            "98d6de272f4b49548e41c3381cab7786",
            "f2384bd0f4fd4dcd8a8575ebf40e7d87",
            "24a6327559c84e20bae9031dd32f7f7b",
            "3a8a08e5bb854af098252e2e7403e34c",
            "8cff6cce50914b6fa886b7d5edc1b131",
            "189c8e7ede2245458d29d54d70dded84",
            "8a884375387e4411842c6285c14780e0",
            "fc764e760662465f876f62ac2c1519df",
            "7396be736ea84c218c329c2070e708c4",
            "39bc0928dc244fbf989968b30d645d87",
            "6ee3d132ff864716a71b319b1d17e2ad",
            "d9295087940c431a9d0aa3c424f6c3aa",
            "a0cd0dbaffeb4378ab3f41bdb4d26493",
            "a304a149b3ec411bb9cccf7df2ac3e29",
            "dd06452fbb94436ba6b6acaf9f74f616",
            "dd734e3441574f07b0731498577a1306",
            "ef02b5cef1e24a24bba49733f99f5cd1",
            "f28e6e3f50c943018ba14f0f42adb2e0",
            "2436b301ae7d407f83e680419647b50f",
            "03b64cdf1c70480a9d88d974638ce48b",
            "3d3f99e7ebe94fb2814ee7058253b3d9",
            "a1d3b76df9a84c8e97c361241b8544cf",
            "350bf625966846558e14c9adfb9808b1",
            "b94f63e8570e4fd9bb3e73ebb1492a2f",
            "19c1f691511e49da87545c11b1488ef4"
          ]
        },
        "id": "Gdw2LkcrkKgz",
        "outputId": "514f8956-1217-4930-c17d-1731ec056c47"
      },
      "execution_count": null,
      "outputs": [
        {
          "output_type": "stream",
          "name": "stderr",
          "text": [
            "\rOptimizing chunk 3:   0%|          | 0/11 [00:00<?, ?it/s][I 2025-05-01 11:18:00,402] A new study created in memory with name: no-name-442cb343-ea41-47e7-9aca-5a4b851d5145\n"
          ]
        },
        {
          "output_type": "stream",
          "name": "stdout",
          "text": [
            "\n",
            "🔍 Optimizing for ON.O...\n"
          ]
        },
        {
          "output_type": "display_data",
          "data": {
            "text/plain": [
              "  0%|          | 0/30 [00:00<?, ?it/s]"
            ],
            "application/vnd.jupyter.widget-view+json": {
              "version_major": 2,
              "version_minor": 0,
              "model_id": "f855b701669e4b1ca72425886ddd50c0"
            }
          },
          "metadata": {}
        },
        {
          "output_type": "stream",
          "name": "stdout",
          "text": [
            "\u001b[1m7/7\u001b[0m \u001b[32m━━━━━━━━━━━━━━━━━━━━\u001b[0m\u001b[37m\u001b[0m \u001b[1m1s\u001b[0m 48ms/step\n"
          ]
        },
        {
          "output_type": "stream",
          "name": "stderr",
          "text": [
            "Optimizing chunk 3:   0%|          | 0/11 [00:45<?, ?it/s]"
          ]
        },
        {
          "output_type": "stream",
          "name": "stdout",
          "text": [
            "[I 2025-05-01 11:18:45,732] Trial 0 finished with value: 0.03546442329177914 and parameters: {'lookback': 31, 'units': 223, 'dropout': 0.327570798024696, 'batch_size': 64, 'epochs': 34}. Best is trial 0 with value: 0.03546442329177914.\n",
            "\u001b[1m7/7\u001b[0m \u001b[32m━━━━━━━━━━━━━━━━━━━━\u001b[0m\u001b[37m\u001b[0m \u001b[1m0s\u001b[0m 34ms/step\n"
          ]
        },
        {
          "output_type": "stream",
          "name": "stderr",
          "text": [
            "Optimizing chunk 3:   0%|          | 0/11 [00:55<?, ?it/s]"
          ]
        },
        {
          "output_type": "stream",
          "name": "stdout",
          "text": [
            "[I 2025-05-01 11:18:56,160] Trial 1 finished with value: 0.04133177444647319 and parameters: {'lookback': 21, 'units': 37, 'dropout': 0.22764819570075884, 'batch_size': 64, 'epochs': 22}. Best is trial 0 with value: 0.03546442329177914.\n",
            "\u001b[1m6/6\u001b[0m \u001b[32m━━━━━━━━━━━━━━━━━━━━\u001b[0m\u001b[37m\u001b[0m \u001b[1m0s\u001b[0m 13ms/step \n"
          ]
        },
        {
          "output_type": "stream",
          "name": "stderr",
          "text": [
            "Optimizing chunk 3:   0%|          | 0/11 [01:10<?, ?it/s]"
          ]
        },
        {
          "output_type": "stream",
          "name": "stdout",
          "text": [
            "[I 2025-05-01 11:19:11,166] Trial 2 finished with value: 0.03773295837587274 and parameters: {'lookback': 46, 'units': 90, 'dropout': 0.1433993374328742, 'batch_size': 64, 'epochs': 25}. Best is trial 0 with value: 0.03546442329177914.\n",
            "\u001b[1m7/7\u001b[0m \u001b[32m━━━━━━━━━━━━━━━━━━━━\u001b[0m\u001b[37m\u001b[0m \u001b[1m0s\u001b[0m 35ms/step\n"
          ]
        },
        {
          "output_type": "stream",
          "name": "stderr",
          "text": [
            "Optimizing chunk 3:   0%|          | 0/11 [01:16<?, ?it/s]"
          ]
        },
        {
          "output_type": "stream",
          "name": "stdout",
          "text": [
            "[I 2025-05-01 11:19:16,469] Trial 3 finished with value: 0.04083486503426183 and parameters: {'lookback': 6, 'units': 70, 'dropout': 0.12249292097349712, 'batch_size': 64, 'epochs': 31}. Best is trial 0 with value: 0.03546442329177914.\n",
            "\u001b[1m7/7\u001b[0m \u001b[32m━━━━━━━━━━━━━━━━━━━━\u001b[0m\u001b[37m\u001b[0m \u001b[1m0s\u001b[0m 41ms/step\n"
          ]
        },
        {
          "output_type": "stream",
          "name": "stderr",
          "text": [
            "Optimizing chunk 3:   0%|          | 0/11 [01:34<?, ?it/s]"
          ]
        },
        {
          "output_type": "stream",
          "name": "stdout",
          "text": [
            "[I 2025-05-01 11:19:34,462] Trial 4 finished with value: 0.03351383799967432 and parameters: {'lookback': 6, 'units': 222, 'dropout': 0.47275024214759853, 'batch_size': 32, 'epochs': 30}. Best is trial 4 with value: 0.03351383799967432.\n",
            "\u001b[1m6/6\u001b[0m \u001b[32m━━━━━━━━━━━━━━━━━━━━\u001b[0m\u001b[37m\u001b[0m \u001b[1m0s\u001b[0m 19ms/step\n"
          ]
        },
        {
          "output_type": "stream",
          "name": "stderr",
          "text": [
            "Optimizing chunk 3:   0%|          | 0/11 [02:09<?, ?it/s]"
          ]
        },
        {
          "output_type": "stream",
          "name": "stdout",
          "text": [
            "[I 2025-05-01 11:20:10,279] Trial 5 finished with value: 0.035827288549444135 and parameters: {'lookback': 46, 'units': 122, 'dropout': 0.3687590661459519, 'batch_size': 32, 'epochs': 25}. Best is trial 4 with value: 0.03351383799967432.\n",
            "\u001b[1m7/7\u001b[0m \u001b[32m━━━━━━━━━━━━━━━━━━━━\u001b[0m\u001b[37m\u001b[0m \u001b[1m0s\u001b[0m 35ms/step\n"
          ]
        },
        {
          "output_type": "stream",
          "name": "stderr",
          "text": [
            "Optimizing chunk 3:   0%|          | 0/11 [02:28<?, ?it/s]"
          ]
        },
        {
          "output_type": "stream",
          "name": "stdout",
          "text": [
            "[I 2025-05-01 11:20:28,699] Trial 6 finished with value: 0.03345999404120698 and parameters: {'lookback': 21, 'units': 76, 'dropout': 0.45320137303319885, 'batch_size': 32, 'epochs': 25}. Best is trial 6 with value: 0.03345999404120698.\n",
            "\u001b[1m7/7\u001b[0m \u001b[32m━━━━━━━━━━━━━━━━━━━━\u001b[0m\u001b[37m\u001b[0m \u001b[1m0s\u001b[0m 35ms/step\n"
          ]
        },
        {
          "output_type": "stream",
          "name": "stderr",
          "text": [
            "Optimizing chunk 3:   0%|          | 0/11 [02:38<?, ?it/s]"
          ]
        },
        {
          "output_type": "stream",
          "name": "stdout",
          "text": [
            "[I 2025-05-01 11:20:38,686] Trial 7 finished with value: 0.034350192773223785 and parameters: {'lookback': 6, 'units': 219, 'dropout': 0.3169829106933917, 'batch_size': 32, 'epochs': 35}. Best is trial 6 with value: 0.03345999404120698.\n",
            "\u001b[1m7/7\u001b[0m \u001b[32m━━━━━━━━━━━━━━━━━━━━\u001b[0m\u001b[37m\u001b[0m \u001b[1m0s\u001b[0m 36ms/step\n"
          ]
        },
        {
          "output_type": "stream",
          "name": "stderr",
          "text": [
            "Optimizing chunk 3:   0%|          | 0/11 [02:51<?, ?it/s]"
          ]
        },
        {
          "output_type": "stream",
          "name": "stdout",
          "text": [
            "[I 2025-05-01 11:20:51,559] Trial 8 finished with value: 0.03473614192767472 and parameters: {'lookback': 6, 'units': 129, 'dropout': 0.4652150798639748, 'batch_size': 64, 'epochs': 34}. Best is trial 6 with value: 0.03345999404120698.\n",
            "\u001b[1m7/7\u001b[0m \u001b[32m━━━━━━━━━━━━━━━━━━━━\u001b[0m\u001b[37m\u001b[0m \u001b[1m0s\u001b[0m 43ms/step\n"
          ]
        },
        {
          "output_type": "stream",
          "name": "stderr",
          "text": [
            "Optimizing chunk 3:   0%|          | 0/11 [03:40<?, ?it/s]"
          ]
        },
        {
          "output_type": "stream",
          "name": "stdout",
          "text": [
            "[I 2025-05-01 11:21:40,670] Trial 9 finished with value: 0.033287052778940646 and parameters: {'lookback': 21, 'units': 231, 'dropout': 0.13705452776367846, 'batch_size': 64, 'epochs': 35}. Best is trial 9 with value: 0.033287052778940646.\n",
            "\u001b[1m6/6\u001b[0m \u001b[32m━━━━━━━━━━━━━━━━━━━━\u001b[0m\u001b[37m\u001b[0m \u001b[1m1s\u001b[0m 116ms/step\n"
          ]
        },
        {
          "output_type": "stream",
          "name": "stderr",
          "text": [
            "Optimizing chunk 3:   0%|          | 0/11 [04:22<?, ?it/s]"
          ]
        },
        {
          "output_type": "stream",
          "name": "stdout",
          "text": [
            "[I 2025-05-01 11:22:23,313] Trial 10 finished with value: 0.03492364227538223 and parameters: {'lookback': 56, 'units': 171, 'dropout': 0.18467689006224858, 'batch_size': 64, 'epochs': 20}. Best is trial 9 with value: 0.033287052778940646.\n",
            "\u001b[1m7/7\u001b[0m \u001b[32m━━━━━━━━━━━━━━━━━━━━\u001b[0m\u001b[37m\u001b[0m \u001b[1m0s\u001b[0m 39ms/step\n"
          ]
        },
        {
          "output_type": "stream",
          "name": "stderr",
          "text": [
            "Optimizing chunk 3:   0%|          | 0/11 [04:36<?, ?it/s]"
          ]
        },
        {
          "output_type": "stream",
          "name": "stdout",
          "text": [
            "[I 2025-05-01 11:22:36,727] Trial 11 finished with value: 0.037319473059438696 and parameters: {'lookback': 21, 'units': 168, 'dropout': 0.3980591478619395, 'batch_size': 32, 'epochs': 27}. Best is trial 9 with value: 0.033287052778940646.\n",
            "\u001b[1m7/7\u001b[0m \u001b[32m━━━━━━━━━━━━━━━━━━━━\u001b[0m\u001b[37m\u001b[0m \u001b[1m0s\u001b[0m 47ms/step\n"
          ]
        },
        {
          "output_type": "stream",
          "name": "stderr",
          "text": [
            "Optimizing chunk 3:   0%|          | 0/11 [05:20<?, ?it/s]"
          ]
        },
        {
          "output_type": "stream",
          "name": "stdout",
          "text": [
            "[I 2025-05-01 11:23:20,816] Trial 12 finished with value: 0.035284499760519734 and parameters: {'lookback': 26, 'units': 253, 'dropout': 0.25918596782449177, 'batch_size': 32, 'epochs': 30}. Best is trial 9 with value: 0.033287052778940646.\n",
            "\u001b[1m7/7\u001b[0m \u001b[32m━━━━━━━━━━━━━━━━━━━━\u001b[0m\u001b[37m\u001b[0m \u001b[1m1s\u001b[0m 52ms/step\n"
          ]
        },
        {
          "output_type": "stream",
          "name": "stderr",
          "text": [
            "Optimizing chunk 3:   0%|          | 0/11 [05:36<?, ?it/s]"
          ]
        },
        {
          "output_type": "stream",
          "name": "stdout",
          "text": [
            "[I 2025-05-01 11:23:36,965] Trial 13 finished with value: 0.03527187070748015 and parameters: {'lookback': 16, 'units': 89, 'dropout': 0.4150159839820789, 'batch_size': 32, 'epochs': 24}. Best is trial 9 with value: 0.033287052778940646.\n",
            "\u001b[1m7/7\u001b[0m \u001b[32m━━━━━━━━━━━━━━━━━━━━\u001b[0m\u001b[37m\u001b[0m \u001b[1m0s\u001b[0m 36ms/step\n"
          ]
        },
        {
          "output_type": "stream",
          "name": "stderr",
          "text": [
            "Optimizing chunk 3:   0%|          | 0/11 [05:44<?, ?it/s]"
          ]
        },
        {
          "output_type": "stream",
          "name": "stdout",
          "text": [
            "[I 2025-05-01 11:23:44,484] Trial 14 finished with value: 0.03974363110932261 and parameters: {'lookback': 36, 'units': 33, 'dropout': 0.25226911671483543, 'batch_size': 64, 'epochs': 27}. Best is trial 9 with value: 0.033287052778940646.\n",
            "\u001b[1m7/7\u001b[0m \u001b[32m━━━━━━━━━━━━━━━━━━━━\u001b[0m\u001b[37m\u001b[0m \u001b[1m0s\u001b[0m 38ms/step\n"
          ]
        },
        {
          "output_type": "stream",
          "name": "stderr",
          "text": [
            "Optimizing chunk 3:   0%|          | 0/11 [06:16<?, ?it/s]"
          ]
        },
        {
          "output_type": "stream",
          "name": "stdout",
          "text": [
            "[I 2025-05-01 11:24:16,920] Trial 15 finished with value: 0.03458864418259798 and parameters: {'lookback': 16, 'units': 178, 'dropout': 0.4928008174833827, 'batch_size': 32, 'epochs': 32}. Best is trial 9 with value: 0.033287052778940646.\n",
            "\u001b[1m7/7\u001b[0m \u001b[32m━━━━━━━━━━━━━━━━━━━━\u001b[0m\u001b[37m\u001b[0m \u001b[1m0s\u001b[0m 42ms/step\n"
          ]
        },
        {
          "output_type": "stream",
          "name": "stderr",
          "text": [
            "Optimizing chunk 3:   0%|          | 0/11 [06:33<?, ?it/s]"
          ]
        },
        {
          "output_type": "stream",
          "name": "stdout",
          "text": [
            "[I 2025-05-01 11:24:34,108] Trial 16 finished with value: 0.03853412417164181 and parameters: {'lookback': 36, 'units': 144, 'dropout': 0.35554170202082186, 'batch_size': 64, 'epochs': 28}. Best is trial 9 with value: 0.033287052778940646.\n",
            "\u001b[1m7/7\u001b[0m \u001b[32m━━━━━━━━━━━━━━━━━━━━\u001b[0m\u001b[37m\u001b[0m \u001b[1m0s\u001b[0m 33ms/step\n"
          ]
        },
        {
          "output_type": "stream",
          "name": "stderr",
          "text": [
            "Optimizing chunk 3:   0%|          | 0/11 [06:44<?, ?it/s]"
          ]
        },
        {
          "output_type": "stream",
          "name": "stdout",
          "text": [
            "[I 2025-05-01 11:24:44,795] Trial 17 finished with value: 0.035757423662683606 and parameters: {'lookback': 16, 'units': 61, 'dropout': 0.10073972605877149, 'batch_size': 32, 'epochs': 23}. Best is trial 9 with value: 0.033287052778940646.\n",
            "\u001b[1m7/7\u001b[0m \u001b[32m━━━━━━━━━━━━━━━━━━━━\u001b[0m\u001b[37m\u001b[0m \u001b[1m0s\u001b[0m 36ms/step\n"
          ]
        },
        {
          "output_type": "stream",
          "name": "stderr",
          "text": [
            "Optimizing chunk 3:   0%|          | 0/11 [07:03<?, ?it/s]"
          ]
        },
        {
          "output_type": "stream",
          "name": "stdout",
          "text": [
            "[I 2025-05-01 11:25:04,029] Trial 18 finished with value: 0.034621266179513215 and parameters: {'lookback': 26, 'units': 107, 'dropout': 0.2086105043869126, 'batch_size': 32, 'epochs': 20}. Best is trial 9 with value: 0.033287052778940646.\n",
            "\u001b[1m7/7\u001b[0m \u001b[32m━━━━━━━━━━━━━━━━━━━━\u001b[0m\u001b[37m\u001b[0m \u001b[1m0s\u001b[0m 33ms/step\n"
          ]
        },
        {
          "output_type": "stream",
          "name": "stderr",
          "text": [
            "Optimizing chunk 3:   0%|          | 0/11 [07:08<?, ?it/s]"
          ]
        },
        {
          "output_type": "stream",
          "name": "stdout",
          "text": [
            "[I 2025-05-01 11:25:09,009] Trial 19 finished with value: 0.04916271998415088 and parameters: {'lookback': 1, 'units': 198, 'dropout': 0.43527940836656087, 'batch_size': 64, 'epochs': 28}. Best is trial 9 with value: 0.033287052778940646.\n",
            "\u001b[1m7/7\u001b[0m \u001b[32m━━━━━━━━━━━━━━━━━━━━\u001b[0m\u001b[37m\u001b[0m \u001b[1m0s\u001b[0m 49ms/step\n"
          ]
        },
        {
          "output_type": "stream",
          "name": "stderr",
          "text": [
            "Optimizing chunk 3:   0%|          | 0/11 [07:20<?, ?it/s]"
          ]
        },
        {
          "output_type": "stream",
          "name": "stdout",
          "text": [
            "[I 2025-05-01 11:25:21,221] Trial 20 finished with value: 0.03776788541506229 and parameters: {'lookback': 36, 'units': 195, 'dropout': 0.17755766157790548, 'batch_size': 64, 'epochs': 32}. Best is trial 9 with value: 0.033287052778940646.\n",
            "\u001b[1m7/7\u001b[0m \u001b[32m━━━━━━━━━━━━━━━━━━━━\u001b[0m\u001b[37m\u001b[0m \u001b[1m0s\u001b[0m 38ms/step\n"
          ]
        },
        {
          "output_type": "stream",
          "name": "stderr",
          "text": [
            "Optimizing chunk 3:   0%|          | 0/11 [07:36<?, ?it/s]"
          ]
        },
        {
          "output_type": "stream",
          "name": "stdout",
          "text": [
            "[I 2025-05-01 11:25:37,003] Trial 21 finished with value: 0.037682948616540216 and parameters: {'lookback': 11, 'units': 249, 'dropout': 0.4984468852188358, 'batch_size': 32, 'epochs': 29}. Best is trial 9 with value: 0.033287052778940646.\n",
            "\u001b[1m7/7\u001b[0m \u001b[32m━━━━━━━━━━━━━━━━━━━━\u001b[0m\u001b[37m\u001b[0m \u001b[1m0s\u001b[0m 34ms/step\n"
          ]
        },
        {
          "output_type": "stream",
          "name": "stderr",
          "text": [
            "Optimizing chunk 3:   0%|          | 0/11 [07:48<?, ?it/s]"
          ]
        },
        {
          "output_type": "stream",
          "name": "stdout",
          "text": [
            "[I 2025-05-01 11:25:48,430] Trial 22 finished with value: 0.028382837011433865 and parameters: {'lookback': 1, 'units': 229, 'dropout': 0.45003584710515293, 'batch_size': 32, 'epochs': 33}. Best is trial 22 with value: 0.028382837011433865.\n",
            "\u001b[1m7/7\u001b[0m \u001b[32m━━━━━━━━━━━━━━━━━━━━\u001b[0m\u001b[37m\u001b[0m \u001b[1m0s\u001b[0m 44ms/step\n"
          ]
        },
        {
          "output_type": "stream",
          "name": "stderr",
          "text": [
            "Optimizing chunk 3:   0%|          | 0/11 [08:09<?, ?it/s]"
          ]
        },
        {
          "output_type": "stream",
          "name": "stdout",
          "text": [
            "[I 2025-05-01 11:26:10,011] Trial 23 finished with value: 0.037357243160858054 and parameters: {'lookback': 21, 'units': 233, 'dropout': 0.44188780738467615, 'batch_size': 32, 'epochs': 35}. Best is trial 22 with value: 0.028382837011433865.\n",
            "\u001b[1m7/7\u001b[0m \u001b[32m━━━━━━━━━━━━━━━━━━━━\u001b[0m\u001b[37m\u001b[0m \u001b[1m1s\u001b[0m 48ms/step\n"
          ]
        },
        {
          "output_type": "stream",
          "name": "stderr",
          "text": [
            "Optimizing chunk 3:   0%|          | 0/11 [08:16<?, ?it/s]"
          ]
        },
        {
          "output_type": "stream",
          "name": "stdout",
          "text": [
            "[I 2025-05-01 11:26:17,093] Trial 24 finished with value: 0.029599516982451536 and parameters: {'lookback': 1, 'units': 200, 'dropout': 0.37861095552031643, 'batch_size': 32, 'epochs': 33}. Best is trial 22 with value: 0.028382837011433865.\n",
            "\u001b[1m7/7\u001b[0m \u001b[32m━━━━━━━━━━━━━━━━━━━━\u001b[0m\u001b[37m\u001b[0m \u001b[1m0s\u001b[0m 32ms/step\n"
          ]
        },
        {
          "output_type": "stream",
          "name": "stderr",
          "text": [
            "Optimizing chunk 3:   0%|          | 0/11 [08:24<?, ?it/s]"
          ]
        },
        {
          "output_type": "stream",
          "name": "stdout",
          "text": [
            "[I 2025-05-01 11:26:25,173] Trial 25 finished with value: 0.02838453491107044 and parameters: {'lookback': 1, 'units': 196, 'dropout': 0.3897108569850804, 'batch_size': 32, 'epochs': 33}. Best is trial 22 with value: 0.028382837011433865.\n",
            "\u001b[1m7/7\u001b[0m \u001b[32m━━━━━━━━━━━━━━━━━━━━\u001b[0m\u001b[37m\u001b[0m \u001b[1m0s\u001b[0m 32ms/step\n"
          ]
        },
        {
          "output_type": "stream",
          "name": "stderr",
          "text": [
            "Optimizing chunk 3:   0%|          | 0/11 [08:35<?, ?it/s]"
          ]
        },
        {
          "output_type": "stream",
          "name": "stdout",
          "text": [
            "[I 2025-05-01 11:26:35,908] Trial 26 finished with value: 0.027954027757132 and parameters: {'lookback': 1, 'units': 199, 'dropout': 0.38892723017902187, 'batch_size': 32, 'epochs': 33}. Best is trial 26 with value: 0.027954027757132.\n",
            "\u001b[1m7/7\u001b[0m \u001b[32m━━━━━━━━━━━━━━━━━━━━\u001b[0m\u001b[37m\u001b[0m \u001b[1m0s\u001b[0m 39ms/step\n"
          ]
        },
        {
          "output_type": "stream",
          "name": "stderr",
          "text": [
            "Optimizing chunk 3:   0%|          | 0/11 [08:54<?, ?it/s]"
          ]
        },
        {
          "output_type": "stream",
          "name": "stdout",
          "text": [
            "[I 2025-05-01 11:26:55,222] Trial 27 finished with value: 0.027922205355680667 and parameters: {'lookback': 1, 'units': 182, 'dropout': 0.4054855727652202, 'batch_size': 32, 'epochs': 33}. Best is trial 27 with value: 0.027922205355680667.\n",
            "\u001b[1m7/7\u001b[0m \u001b[32m━━━━━━━━━━━━━━━━━━━━\u001b[0m\u001b[37m\u001b[0m \u001b[1m0s\u001b[0m 38ms/step\n"
          ]
        },
        {
          "output_type": "stream",
          "name": "stderr",
          "text": [
            "Optimizing chunk 3:   0%|          | 0/11 [09:11<?, ?it/s]"
          ]
        },
        {
          "output_type": "stream",
          "name": "stdout",
          "text": [
            "[I 2025-05-01 11:27:11,916] Trial 28 finished with value: 0.03445845045115664 and parameters: {'lookback': 11, 'units': 151, 'dropout': 0.3484001465794772, 'batch_size': 32, 'epochs': 31}. Best is trial 27 with value: 0.027922205355680667.\n",
            "\u001b[1m7/7\u001b[0m \u001b[32m━━━━━━━━━━━━━━━━━━━━\u001b[0m\u001b[37m\u001b[0m \u001b[1m0s\u001b[0m 42ms/step\n"
          ]
        },
        {
          "output_type": "stream",
          "name": "stderr",
          "text": [
            "Optimizing chunk 3:   9%|▉         | 1/11 [09:34<1:35:48, 574.86s/it][I 2025-05-01 11:27:35,268] A new study created in memory with name: no-name-a95d07c7-90b0-4474-adb6-2bffc294a481\n"
          ]
        },
        {
          "output_type": "stream",
          "name": "stdout",
          "text": [
            "[I 2025-05-01 11:27:35,238] Trial 29 finished with value: 0.033687372456891254 and parameters: {'lookback': 11, 'units': 210, 'dropout': 0.30334904063943025, 'batch_size': 32, 'epochs': 33}. Best is trial 27 with value: 0.027922205355680667.\n",
            "✅ Done: ON.O — Best Params: {'lookback': 1, 'units': 182, 'dropout': 0.4054855727652202, 'batch_size': 32, 'epochs': 33}\n",
            "\n",
            "🔍 Optimizing for PANW.O...\n"
          ]
        },
        {
          "output_type": "display_data",
          "data": {
            "text/plain": [
              "  0%|          | 0/30 [00:00<?, ?it/s]"
            ],
            "application/vnd.jupyter.widget-view+json": {
              "version_major": 2,
              "version_minor": 0,
              "model_id": "0ddd74da7f084f02a41de4b33d37deb6"
            }
          },
          "metadata": {}
        },
        {
          "output_type": "stream",
          "name": "stdout",
          "text": [
            "\u001b[1m7/7\u001b[0m \u001b[32m━━━━━━━━━━━━━━━━━━━━\u001b[0m\u001b[37m\u001b[0m \u001b[1m0s\u001b[0m 34ms/step\n"
          ]
        },
        {
          "output_type": "stream",
          "name": "stderr",
          "text": [
            "Optimizing chunk 3:   9%|▉         | 1/11 [09:44<1:35:48, 574.86s/it]"
          ]
        },
        {
          "output_type": "stream",
          "name": "stdout",
          "text": [
            "[I 2025-05-01 11:27:44,822] Trial 0 finished with value: 0.023721595143528666 and parameters: {'lookback': 1, 'units': 187, 'dropout': 0.1589259689838124, 'batch_size': 64, 'epochs': 28}. Best is trial 0 with value: 0.023721595143528666.\n",
            "\u001b[1m6/6\u001b[0m \u001b[32m━━━━━━━━━━━━━━━━━━━━\u001b[0m\u001b[37m\u001b[0m \u001b[1m0s\u001b[0m 13ms/step \n"
          ]
        },
        {
          "output_type": "stream",
          "name": "stderr",
          "text": [
            "Optimizing chunk 3:   9%|▉         | 1/11 [09:53<1:35:48, 574.86s/it]"
          ]
        },
        {
          "output_type": "stream",
          "name": "stdout",
          "text": [
            "[I 2025-05-01 11:27:53,610] Trial 1 finished with value: 0.04082815911610668 and parameters: {'lookback': 46, 'units': 37, 'dropout': 0.2532928401017938, 'batch_size': 64, 'epochs': 33}. Best is trial 0 with value: 0.023721595143528666.\n",
            "\u001b[1m7/7\u001b[0m \u001b[32m━━━━━━━━━━━━━━━━━━━━\u001b[0m\u001b[37m\u001b[0m \u001b[1m1s\u001b[0m 53ms/step\n"
          ]
        },
        {
          "output_type": "stream",
          "name": "stderr",
          "text": [
            "Optimizing chunk 3:   9%|▉         | 1/11 [10:09<1:35:48, 574.86s/it]"
          ]
        },
        {
          "output_type": "stream",
          "name": "stdout",
          "text": [
            "[I 2025-05-01 11:28:09,472] Trial 2 finished with value: 0.0392387591247498 and parameters: {'lookback': 16, 'units': 197, 'dropout': 0.3086325285153629, 'batch_size': 64, 'epochs': 34}. Best is trial 0 with value: 0.023721595143528666.\n",
            "\u001b[1m6/6\u001b[0m \u001b[32m━━━━━━━━━━━━━━━━━━━━\u001b[0m\u001b[37m\u001b[0m \u001b[1m1s\u001b[0m 84ms/step\n"
          ]
        },
        {
          "output_type": "stream",
          "name": "stderr",
          "text": [
            "Optimizing chunk 3:   9%|▉         | 1/11 [11:03<1:35:48, 574.86s/it]"
          ]
        },
        {
          "output_type": "stream",
          "name": "stdout",
          "text": [
            "[I 2025-05-01 11:29:03,985] Trial 3 finished with value: 0.036663512133958666 and parameters: {'lookback': 56, 'units': 250, 'dropout': 0.26223833916217787, 'batch_size': 64, 'epochs': 33}. Best is trial 0 with value: 0.023721595143528666.\n",
            "\u001b[1m7/7\u001b[0m \u001b[32m━━━━━━━━━━━━━━━━━━━━\u001b[0m\u001b[37m\u001b[0m \u001b[1m0s\u001b[0m 35ms/step\n"
          ]
        },
        {
          "output_type": "stream",
          "name": "stderr",
          "text": [
            "Optimizing chunk 3:   9%|▉         | 1/11 [11:16<1:35:48, 574.86s/it]"
          ]
        },
        {
          "output_type": "stream",
          "name": "stdout",
          "text": [
            "[I 2025-05-01 11:29:16,555] Trial 4 finished with value: 0.034936268154956124 and parameters: {'lookback': 16, 'units': 79, 'dropout': 0.2503422626278051, 'batch_size': 64, 'epochs': 27}. Best is trial 0 with value: 0.023721595143528666.\n",
            "\u001b[1m7/7\u001b[0m \u001b[32m━━━━━━━━━━━━━━━━━━━━\u001b[0m\u001b[37m\u001b[0m \u001b[1m0s\u001b[0m 39ms/step\n"
          ]
        },
        {
          "output_type": "stream",
          "name": "stderr",
          "text": [
            "Optimizing chunk 3:   9%|▉         | 1/11 [11:27<1:35:48, 574.86s/it]"
          ]
        },
        {
          "output_type": "stream",
          "name": "stdout",
          "text": [
            "[I 2025-05-01 11:29:27,614] Trial 5 finished with value: 0.03626543067978205 and parameters: {'lookback': 11, 'units': 104, 'dropout': 0.468495484192186, 'batch_size': 32, 'epochs': 28}. Best is trial 0 with value: 0.023721595143528666.\n",
            "\u001b[1m6/6\u001b[0m \u001b[32m━━━━━━━━━━━━━━━━━━━━\u001b[0m\u001b[37m\u001b[0m \u001b[1m0s\u001b[0m 44ms/step\n"
          ]
        },
        {
          "output_type": "stream",
          "name": "stderr",
          "text": [
            "Optimizing chunk 3:   9%|▉         | 1/11 [11:35<1:35:48, 574.86s/it]"
          ]
        },
        {
          "output_type": "stream",
          "name": "stdout",
          "text": [
            "[I 2025-05-01 11:29:35,683] Trial 6 finished with value: 0.050761970034208334 and parameters: {'lookback': 56, 'units': 35, 'dropout': 0.391007612576994, 'batch_size': 64, 'epochs': 35}. Best is trial 0 with value: 0.023721595143528666.\n",
            "\u001b[1m7/7\u001b[0m \u001b[32m━━━━━━━━━━━━━━━━━━━━\u001b[0m\u001b[37m\u001b[0m \u001b[1m0s\u001b[0m 43ms/step\n"
          ]
        },
        {
          "output_type": "stream",
          "name": "stderr",
          "text": [
            "Optimizing chunk 3:   9%|▉         | 1/11 [11:54<1:35:48, 574.86s/it]"
          ]
        },
        {
          "output_type": "stream",
          "name": "stdout",
          "text": [
            "[I 2025-05-01 11:29:54,550] Trial 7 finished with value: 0.03388859201207282 and parameters: {'lookback': 11, 'units': 167, 'dropout': 0.40956773471002894, 'batch_size': 64, 'epochs': 31}. Best is trial 0 with value: 0.023721595143528666.\n",
            "\u001b[1m7/7\u001b[0m \u001b[32m━━━━━━━━━━━━━━━━━━━━\u001b[0m\u001b[37m\u001b[0m \u001b[1m0s\u001b[0m 43ms/step\n"
          ]
        },
        {
          "output_type": "stream",
          "name": "stderr",
          "text": [
            "Optimizing chunk 3:   9%|▉         | 1/11 [12:22<1:35:48, 574.86s/it]"
          ]
        },
        {
          "output_type": "stream",
          "name": "stdout",
          "text": [
            "[I 2025-05-01 11:30:22,833] Trial 8 finished with value: 0.03418507019410257 and parameters: {'lookback': 36, 'units': 118, 'dropout': 0.1545711515270185, 'batch_size': 64, 'epochs': 22}. Best is trial 0 with value: 0.023721595143528666.\n",
            "\u001b[1m6/6\u001b[0m \u001b[32m━━━━━━━━━━━━━━━━━━━━\u001b[0m\u001b[37m\u001b[0m \u001b[1m1s\u001b[0m 66ms/step\n"
          ]
        },
        {
          "output_type": "stream",
          "name": "stderr",
          "text": [
            "Optimizing chunk 3:   9%|▉         | 1/11 [12:42<1:35:48, 574.86s/it]"
          ]
        },
        {
          "output_type": "stream",
          "name": "stdout",
          "text": [
            "[I 2025-05-01 11:30:42,833] Trial 9 finished with value: 0.039406620185096004 and parameters: {'lookback': 56, 'units': 151, 'dropout': 0.3515910390238326, 'batch_size': 64, 'epochs': 28}. Best is trial 0 with value: 0.023721595143528666.\n",
            "\u001b[1m7/7\u001b[0m \u001b[32m━━━━━━━━━━━━━━━━━━━━\u001b[0m\u001b[37m\u001b[0m \u001b[1m0s\u001b[0m 34ms/step\n"
          ]
        },
        {
          "output_type": "stream",
          "name": "stderr",
          "text": [
            "Optimizing chunk 3:   9%|▉         | 1/11 [12:49<1:35:48, 574.86s/it]"
          ]
        },
        {
          "output_type": "stream",
          "name": "stdout",
          "text": [
            "[I 2025-05-01 11:30:50,303] Trial 10 finished with value: 0.023687601725038945 and parameters: {'lookback': 1, 'units': 225, 'dropout': 0.11180240563703026, 'batch_size': 32, 'epochs': 21}. Best is trial 10 with value: 0.023687601725038945.\n",
            "\u001b[1m7/7\u001b[0m \u001b[32m━━━━━━━━━━━━━━━━━━━━\u001b[0m\u001b[37m\u001b[0m \u001b[1m0s\u001b[0m 38ms/step\n"
          ]
        },
        {
          "output_type": "stream",
          "name": "stderr",
          "text": [
            "Optimizing chunk 3:   9%|▉         | 1/11 [12:59<1:35:48, 574.86s/it]"
          ]
        },
        {
          "output_type": "stream",
          "name": "stdout",
          "text": [
            "[I 2025-05-01 11:31:00,377] Trial 11 finished with value: 0.023420889106858165 and parameters: {'lookback': 1, 'units': 223, 'dropout': 0.1135849783076601, 'batch_size': 32, 'epochs': 21}. Best is trial 11 with value: 0.023420889106858165.\n",
            "\u001b[1m7/7\u001b[0m \u001b[32m━━━━━━━━━━━━━━━━━━━━\u001b[0m\u001b[37m\u001b[0m \u001b[1m0s\u001b[0m 35ms/step\n"
          ]
        },
        {
          "output_type": "stream",
          "name": "stderr",
          "text": [
            "Optimizing chunk 3:   9%|▉         | 1/11 [13:06<1:35:48, 574.86s/it]"
          ]
        },
        {
          "output_type": "stream",
          "name": "stdout",
          "text": [
            "[I 2025-05-01 11:31:07,092] Trial 12 finished with value: 0.024315291301378956 and parameters: {'lookback': 1, 'units': 248, 'dropout': 0.10124046023949328, 'batch_size': 32, 'epochs': 20}. Best is trial 11 with value: 0.023420889106858165.\n",
            "\u001b[1m7/7\u001b[0m \u001b[32m━━━━━━━━━━━━━━━━━━━━\u001b[0m\u001b[37m\u001b[0m \u001b[1m0s\u001b[0m 46ms/step\n"
          ]
        },
        {
          "output_type": "stream",
          "name": "stderr",
          "text": [
            "Optimizing chunk 3:   9%|▉         | 1/11 [13:36<1:35:48, 574.86s/it]"
          ]
        },
        {
          "output_type": "stream",
          "name": "stdout",
          "text": [
            "[I 2025-05-01 11:31:36,750] Trial 13 finished with value: 0.035742031270526525 and parameters: {'lookback': 26, 'units': 216, 'dropout': 0.17818387817822148, 'batch_size': 32, 'epochs': 23}. Best is trial 11 with value: 0.023420889106858165.\n",
            "\u001b[1m7/7\u001b[0m \u001b[32m━━━━━━━━━━━━━━━━━━━━\u001b[0m\u001b[37m\u001b[0m \u001b[1m1s\u001b[0m 52ms/step\n"
          ]
        },
        {
          "output_type": "stream",
          "name": "stderr",
          "text": [
            "Optimizing chunk 3:   9%|▉         | 1/11 [13:45<1:35:48, 574.86s/it]"
          ]
        },
        {
          "output_type": "stream",
          "name": "stdout",
          "text": [
            "[I 2025-05-01 11:31:45,719] Trial 14 finished with value: 0.023844500091215734 and parameters: {'lookback': 1, 'units': 226, 'dropout': 0.103430681299076, 'batch_size': 32, 'epochs': 24}. Best is trial 11 with value: 0.023420889106858165.\n",
            "\u001b[1m7/7\u001b[0m \u001b[32m━━━━━━━━━━━━━━━━━━━━\u001b[0m\u001b[37m\u001b[0m \u001b[1m1s\u001b[0m 49ms/step\n"
          ]
        },
        {
          "output_type": "stream",
          "name": "stderr",
          "text": [
            "Optimizing chunk 3:   9%|▉         | 1/11 [14:15<1:35:48, 574.86s/it]"
          ]
        },
        {
          "output_type": "stream",
          "name": "stdout",
          "text": [
            "[I 2025-05-01 11:32:15,673] Trial 15 finished with value: 0.03508732489305362 and parameters: {'lookback': 26, 'units': 216, 'dropout': 0.19766467146738578, 'batch_size': 32, 'epochs': 21}. Best is trial 11 with value: 0.023420889106858165.\n",
            "\u001b[1m7/7\u001b[0m \u001b[32m━━━━━━━━━━━━━━━━━━━━\u001b[0m\u001b[37m\u001b[0m \u001b[1m0s\u001b[0m 41ms/step\n"
          ]
        },
        {
          "output_type": "stream",
          "name": "stderr",
          "text": [
            "Optimizing chunk 3:   9%|▉         | 1/11 [14:37<1:35:48, 574.86s/it]"
          ]
        },
        {
          "output_type": "stream",
          "name": "stdout",
          "text": [
            "[I 2025-05-01 11:32:37,522] Trial 16 finished with value: 0.031010745185384544 and parameters: {'lookback': 11, 'units': 179, 'dropout': 0.21278881808886246, 'batch_size': 32, 'epochs': 25}. Best is trial 11 with value: 0.023420889106858165.\n",
            "\u001b[1m7/7\u001b[0m \u001b[32m━━━━━━━━━━━━━━━━━━━━\u001b[0m\u001b[37m\u001b[0m \u001b[1m0s\u001b[0m 44ms/step\n"
          ]
        },
        {
          "output_type": "stream",
          "name": "stderr",
          "text": []
        },
        {
          "output_type": "stream",
          "name": "stdout",
          "text": [
            "[I 2025-05-01 11:33:05,952] Trial 17 finished with value: 0.03437172468189219 and parameters: {'lookback': 36, 'units': 137, 'dropout': 0.11971913421461002, 'batch_size': 32, 'epochs': 25}. Best is trial 11 with value: 0.023420889106858165.\n"
          ]
        },
        {
          "output_type": "stream",
          "name": "stderr",
          "text": [
            "\rOptimizing chunk 3:   9%|▉         | 1/11 [15:05<1:35:48, 574.86s/it]"
          ]
        },
        {
          "output_type": "stream",
          "name": "stdout",
          "text": [
            "\u001b[1m7/7\u001b[0m \u001b[32m━━━━━━━━━━━━━━━━━━━━\u001b[0m\u001b[37m\u001b[0m \u001b[1m1s\u001b[0m 55ms/step\n"
          ]
        },
        {
          "output_type": "stream",
          "name": "stderr",
          "text": [
            "Optimizing chunk 3:   9%|▉         | 1/11 [15:20<1:35:48, 574.86s/it]"
          ]
        },
        {
          "output_type": "stream",
          "name": "stdout",
          "text": [
            "[I 2025-05-01 11:33:21,106] Trial 18 finished with value: 0.031515622334339424 and parameters: {'lookback': 6, 'units': 230, 'dropout': 0.14201216480174184, 'batch_size': 32, 'epochs': 20}. Best is trial 11 with value: 0.023420889106858165.\n",
            "\u001b[1m7/7\u001b[0m \u001b[32m━━━━━━━━━━━━━━━━━━━━\u001b[0m\u001b[37m\u001b[0m \u001b[1m0s\u001b[0m 43ms/step\n"
          ]
        },
        {
          "output_type": "stream",
          "name": "stderr",
          "text": [
            "Optimizing chunk 3:   9%|▉         | 1/11 [15:42<1:35:48, 574.86s/it]"
          ]
        },
        {
          "output_type": "stream",
          "name": "stdout",
          "text": [
            "[I 2025-05-01 11:33:43,143] Trial 19 finished with value: 0.03524228228364683 and parameters: {'lookback': 16, 'units': 207, 'dropout': 0.2158041352438264, 'batch_size': 32, 'epochs': 22}. Best is trial 11 with value: 0.023420889106858165.\n",
            "\u001b[1m7/7\u001b[0m \u001b[32m━━━━━━━━━━━━━━━━━━━━\u001b[0m\u001b[37m\u001b[0m \u001b[1m0s\u001b[0m 43ms/step\n"
          ]
        },
        {
          "output_type": "stream",
          "name": "stderr",
          "text": []
        },
        {
          "output_type": "stream",
          "name": "stdout",
          "text": [
            "[I 2025-05-01 11:34:08,226] Trial 20 finished with value: 0.0353390898729139 and parameters: {'lookback': 21, 'units': 161, 'dropout': 0.3003690304018864, 'batch_size': 32, 'epochs': 26}. Best is trial 11 with value: 0.023420889106858165.\n"
          ]
        },
        {
          "output_type": "stream",
          "name": "stderr",
          "text": [
            "\rOptimizing chunk 3:   9%|▉         | 1/11 [16:07<1:35:48, 574.86s/it]"
          ]
        },
        {
          "output_type": "stream",
          "name": "stdout",
          "text": [
            "\u001b[1m7/7\u001b[0m \u001b[32m━━━━━━━━━━━━━━━━━━━━\u001b[0m\u001b[37m\u001b[0m \u001b[1m0s\u001b[0m 33ms/step\n"
          ]
        },
        {
          "output_type": "stream",
          "name": "stderr",
          "text": [
            "Optimizing chunk 3:   9%|▉         | 1/11 [16:15<1:35:48, 574.86s/it]"
          ]
        },
        {
          "output_type": "stream",
          "name": "stdout",
          "text": [
            "[I 2025-05-01 11:34:15,601] Trial 21 finished with value: 0.02403748124193393 and parameters: {'lookback': 1, 'units': 190, 'dropout': 0.15704870066610696, 'batch_size': 32, 'epochs': 30}. Best is trial 11 with value: 0.023420889106858165.\n",
            "\u001b[1m7/7\u001b[0m \u001b[32m━━━━━━━━━━━━━━━━━━━━\u001b[0m\u001b[37m\u001b[0m \u001b[1m0s\u001b[0m 36ms/step\n"
          ]
        },
        {
          "output_type": "stream",
          "name": "stderr",
          "text": [
            "Optimizing chunk 3:   9%|▉         | 1/11 [16:27<1:35:48, 574.86s/it]"
          ]
        },
        {
          "output_type": "stream",
          "name": "stdout",
          "text": [
            "[I 2025-05-01 11:34:27,560] Trial 22 finished with value: 0.033518154335600986 and parameters: {'lookback': 6, 'units': 237, 'dropout': 0.14888081252718294, 'batch_size': 32, 'epochs': 30}. Best is trial 11 with value: 0.023420889106858165.\n",
            "\u001b[1m7/7\u001b[0m \u001b[32m━━━━━━━━━━━━━━━━━━━━\u001b[0m\u001b[37m\u001b[0m \u001b[1m0s\u001b[0m 37ms/step\n"
          ]
        },
        {
          "output_type": "stream",
          "name": "stderr",
          "text": [
            "Optimizing chunk 3:   9%|▉         | 1/11 [16:39<1:35:48, 574.86s/it]"
          ]
        },
        {
          "output_type": "stream",
          "name": "stdout",
          "text": [
            "[I 2025-05-01 11:34:39,579] Trial 23 finished with value: 0.03256961545216264 and parameters: {'lookback': 6, 'units': 184, 'dropout': 0.12869114446775937, 'batch_size': 64, 'epochs': 23}. Best is trial 11 with value: 0.023420889106858165.\n",
            "\u001b[1m7/7\u001b[0m \u001b[32m━━━━━━━━━━━━━━━━━━━━\u001b[0m\u001b[37m\u001b[0m \u001b[1m1s\u001b[0m 48ms/step\n"
          ]
        },
        {
          "output_type": "stream",
          "name": "stderr",
          "text": [
            "Optimizing chunk 3:   9%|▉         | 1/11 [16:46<1:35:48, 574.86s/it]"
          ]
        },
        {
          "output_type": "stream",
          "name": "stdout",
          "text": [
            "[I 2025-05-01 11:34:47,151] Trial 24 finished with value: 0.02363202067112664 and parameters: {'lookback': 1, 'units': 256, 'dropout': 0.1792957466929933, 'batch_size': 32, 'epochs': 27}. Best is trial 11 with value: 0.023420889106858165.\n",
            "\u001b[1m7/7\u001b[0m \u001b[32m━━━━━━━━━━━━━━━━━━━━\u001b[0m\u001b[37m\u001b[0m \u001b[1m0s\u001b[0m 38ms/step\n"
          ]
        },
        {
          "output_type": "stream",
          "name": "stderr",
          "text": [
            "Optimizing chunk 3:   9%|▉         | 1/11 [17:02<1:35:48, 574.86s/it]"
          ]
        },
        {
          "output_type": "stream",
          "name": "stdout",
          "text": [
            "[I 2025-05-01 11:35:03,388] Trial 25 finished with value: 0.03183088554769153 and parameters: {'lookback': 6, 'units': 250, 'dropout': 0.183951885534539, 'batch_size': 32, 'epochs': 21}. Best is trial 11 with value: 0.023420889106858165.\n",
            "\u001b[1m7/7\u001b[0m \u001b[32m━━━━━━━━━━━━━━━━━━━━\u001b[0m\u001b[37m\u001b[0m \u001b[1m1s\u001b[0m 57ms/step\n"
          ]
        },
        {
          "output_type": "stream",
          "name": "stderr",
          "text": [
            "Optimizing chunk 3:   9%|▉         | 1/11 [17:39<1:35:48, 574.86s/it]"
          ]
        },
        {
          "output_type": "stream",
          "name": "stdout",
          "text": [
            "[I 2025-05-01 11:35:39,812] Trial 26 finished with value: 0.03293196821400097 and parameters: {'lookback': 36, 'units': 235, 'dropout': 0.2168898251002745, 'batch_size': 32, 'epochs': 24}. Best is trial 11 with value: 0.023420889106858165.\n",
            "\u001b[1m7/7\u001b[0m \u001b[32m━━━━━━━━━━━━━━━━━━━━\u001b[0m\u001b[37m\u001b[0m \u001b[1m0s\u001b[0m 39ms/step\n"
          ]
        },
        {
          "output_type": "stream",
          "name": "stderr",
          "text": []
        },
        {
          "output_type": "stream",
          "name": "stdout",
          "text": [
            "[I 2025-05-01 11:36:08,066] Trial 27 finished with value: 0.03138898710783031 and parameters: {'lookback': 11, 'units': 255, 'dropout': 0.11779994212140402, 'batch_size': 32, 'epochs': 22}. Best is trial 11 with value: 0.023420889106858165.\n"
          ]
        },
        {
          "output_type": "stream",
          "name": "stderr",
          "text": [
            "\rOptimizing chunk 3:   9%|▉         | 1/11 [18:07<1:35:48, 574.86s/it]"
          ]
        },
        {
          "output_type": "stream",
          "name": "stdout",
          "text": [
            "\u001b[1m7/7\u001b[0m \u001b[32m━━━━━━━━━━━━━━━━━━━━\u001b[0m\u001b[37m\u001b[0m \u001b[1m0s\u001b[0m 43ms/step\n"
          ]
        },
        {
          "output_type": "stream",
          "name": "stderr",
          "text": [
            "Optimizing chunk 3:   9%|▉         | 1/11 [18:28<1:35:48, 574.86s/it]"
          ]
        },
        {
          "output_type": "stream",
          "name": "stdout",
          "text": [
            "[I 2025-05-01 11:36:28,972] Trial 28 finished with value: 0.033447936490954636 and parameters: {'lookback': 21, 'units': 204, 'dropout': 0.17805420015597745, 'batch_size': 32, 'epochs': 20}. Best is trial 11 with value: 0.023420889106858165.\n",
            "\u001b[1m7/7\u001b[0m \u001b[32m━━━━━━━━━━━━━━━━━━━━\u001b[0m\u001b[37m\u001b[0m \u001b[1m0s\u001b[0m 32ms/step\n"
          ]
        },
        {
          "output_type": "stream",
          "name": "stderr",
          "text": [
            "Optimizing chunk 3:  18%|█▊        | 2/11 [18:37<1:23:25, 556.14s/it][I 2025-05-01 11:36:38,305] A new study created in memory with name: no-name-8f789661-9c57-41ed-bc76-7437ad7c6612\n"
          ]
        },
        {
          "output_type": "stream",
          "name": "stdout",
          "text": [
            "[I 2025-05-01 11:36:38,281] Trial 29 finished with value: 0.023601318692948174 and parameters: {'lookback': 1, 'units': 221, 'dropout': 0.13610413512619318, 'batch_size': 32, 'epochs': 26}. Best is trial 11 with value: 0.023420889106858165.\n",
            "✅ Done: PANW.O — Best Params: {'lookback': 1, 'units': 223, 'dropout': 0.1135849783076601, 'batch_size': 32, 'epochs': 21}\n",
            "\n",
            "🔍 Optimizing for PDD.O...\n"
          ]
        },
        {
          "output_type": "display_data",
          "data": {
            "text/plain": [
              "  0%|          | 0/30 [00:00<?, ?it/s]"
            ],
            "application/vnd.jupyter.widget-view+json": {
              "version_major": 2,
              "version_minor": 0,
              "model_id": "4af876bd4c14478b82c0e33105a55e9d"
            }
          },
          "metadata": {}
        },
        {
          "output_type": "stream",
          "name": "stdout",
          "text": [
            "\u001b[1m7/7\u001b[0m \u001b[32m━━━━━━━━━━━━━━━━━━━━\u001b[0m\u001b[37m\u001b[0m \u001b[1m0s\u001b[0m 33ms/step\n"
          ]
        },
        {
          "output_type": "stream",
          "name": "stderr",
          "text": [
            "Optimizing chunk 3:  18%|█▊        | 2/11 [18:50<1:23:25, 556.14s/it]"
          ]
        },
        {
          "output_type": "stream",
          "name": "stdout",
          "text": [
            "[I 2025-05-01 11:36:51,238] Trial 0 finished with value: 0.049633377047892946 and parameters: {'lookback': 6, 'units': 74, 'dropout': 0.32221781348641204, 'batch_size': 32, 'epochs': 32}. Best is trial 0 with value: 0.049633377047892946.\n",
            "\u001b[1m6/6\u001b[0m \u001b[32m━━━━━━━━━━━━━━━━━━━━\u001b[0m\u001b[37m\u001b[0m \u001b[1m0s\u001b[0m 35ms/step\n"
          ]
        },
        {
          "output_type": "stream",
          "name": "stderr",
          "text": [
            "Optimizing chunk 3:  18%|█▊        | 2/11 [20:14<1:23:25, 556.14s/it]"
          ]
        },
        {
          "output_type": "stream",
          "name": "stdout",
          "text": [
            "[I 2025-05-01 11:38:15,200] Trial 1 finished with value: 0.053223379628946466 and parameters: {'lookback': 46, 'units': 250, 'dropout': 0.47182868615028006, 'batch_size': 64, 'epochs': 35}. Best is trial 0 with value: 0.049633377047892946.\n",
            "\u001b[1m6/6\u001b[0m \u001b[32m━━━━━━━━━━━━━━━━━━━━\u001b[0m\u001b[37m\u001b[0m \u001b[1m1s\u001b[0m 74ms/step\n"
          ]
        },
        {
          "output_type": "stream",
          "name": "stderr",
          "text": [
            "Optimizing chunk 3:  18%|█▊        | 2/11 [21:30<1:23:25, 556.14s/it]"
          ]
        },
        {
          "output_type": "stream",
          "name": "stdout",
          "text": [
            "[I 2025-05-01 11:39:31,387] Trial 2 finished with value: 0.0530835870012796 and parameters: {'lookback': 56, 'units': 191, 'dropout': 0.36910011057710457, 'batch_size': 64, 'epochs': 35}. Best is trial 0 with value: 0.049633377047892946.\n",
            "\u001b[1m6/6\u001b[0m \u001b[32m━━━━━━━━━━━━━━━━━━━━\u001b[0m\u001b[37m\u001b[0m \u001b[1m0s\u001b[0m 30ms/step\n"
          ]
        },
        {
          "output_type": "stream",
          "name": "stderr",
          "text": [
            "Optimizing chunk 3:  18%|█▊        | 2/11 [22:09<1:23:25, 556.14s/it]"
          ]
        },
        {
          "output_type": "stream",
          "name": "stdout",
          "text": [
            "[I 2025-05-01 11:40:09,401] Trial 3 finished with value: 0.057075580716580906 and parameters: {'lookback': 46, 'units': 157, 'dropout': 0.24113568797957205, 'batch_size': 64, 'epochs': 25}. Best is trial 0 with value: 0.049633377047892946.\n",
            "\u001b[1m7/7\u001b[0m \u001b[32m━━━━━━━━━━━━━━━━━━━━\u001b[0m\u001b[37m\u001b[0m \u001b[1m0s\u001b[0m 41ms/step\n"
          ]
        },
        {
          "output_type": "stream",
          "name": "stderr",
          "text": [
            "Optimizing chunk 3:  18%|█▊        | 2/11 [22:45<1:23:25, 556.14s/it]"
          ]
        },
        {
          "output_type": "stream",
          "name": "stdout",
          "text": [
            "[I 2025-05-01 11:40:45,415] Trial 4 finished with value: 0.049399223402479764 and parameters: {'lookback': 16, 'units': 223, 'dropout': 0.29635657629445955, 'batch_size': 64, 'epochs': 33}. Best is trial 4 with value: 0.049399223402479764.\n",
            "\u001b[1m7/7\u001b[0m \u001b[32m━━━━━━━━━━━━━━━━━━━━\u001b[0m\u001b[37m\u001b[0m \u001b[1m0s\u001b[0m 39ms/step\n"
          ]
        },
        {
          "output_type": "stream",
          "name": "stderr",
          "text": [
            "Optimizing chunk 3:  18%|█▊        | 2/11 [23:03<1:23:25, 556.14s/it]"
          ]
        },
        {
          "output_type": "stream",
          "name": "stdout",
          "text": [
            "[I 2025-05-01 11:41:03,624] Trial 5 finished with value: 0.05830802549176218 and parameters: {'lookback': 11, 'units': 186, 'dropout': 0.21289507082238918, 'batch_size': 64, 'epochs': 24}. Best is trial 4 with value: 0.049399223402479764.\n",
            "\u001b[1m7/7\u001b[0m \u001b[32m━━━━━━━━━━━━━━━━━━━━\u001b[0m\u001b[37m\u001b[0m \u001b[1m0s\u001b[0m 35ms/step\n"
          ]
        },
        {
          "output_type": "stream",
          "name": "stderr",
          "text": [
            "Optimizing chunk 3:  18%|█▊        | 2/11 [23:26<1:23:25, 556.14s/it]"
          ]
        },
        {
          "output_type": "stream",
          "name": "stdout",
          "text": [
            "[I 2025-05-01 11:41:26,731] Trial 6 finished with value: 0.05380039215925579 and parameters: {'lookback': 21, 'units': 105, 'dropout': 0.11540868300409818, 'batch_size': 64, 'epochs': 34}. Best is trial 4 with value: 0.049399223402479764.\n",
            "\u001b[1m7/7\u001b[0m \u001b[32m━━━━━━━━━━━━━━━━━━━━\u001b[0m\u001b[37m\u001b[0m \u001b[1m0s\u001b[0m 35ms/step\n"
          ]
        },
        {
          "output_type": "stream",
          "name": "stderr",
          "text": [
            "Optimizing chunk 3:  18%|█▊        | 2/11 [23:41<1:23:25, 556.14s/it]"
          ]
        },
        {
          "output_type": "stream",
          "name": "stdout",
          "text": [
            "[I 2025-05-01 11:41:42,186] Trial 7 finished with value: 0.05302812906179874 and parameters: {'lookback': 11, 'units': 114, 'dropout': 0.16947505775240407, 'batch_size': 32, 'epochs': 22}. Best is trial 4 with value: 0.049399223402479764.\n",
            "\u001b[1m7/7\u001b[0m \u001b[32m━━━━━━━━━━━━━━━━━━━━\u001b[0m\u001b[37m\u001b[0m \u001b[1m1s\u001b[0m 38ms/step\n"
          ]
        },
        {
          "output_type": "stream",
          "name": "stderr",
          "text": [
            "Optimizing chunk 3:  18%|█▊        | 2/11 [23:49<1:23:25, 556.14s/it]"
          ]
        },
        {
          "output_type": "stream",
          "name": "stdout",
          "text": [
            "[I 2025-05-01 11:41:49,797] Trial 8 finished with value: 0.05102844923656394 and parameters: {'lookback': 6, 'units': 199, 'dropout': 0.2527096636776187, 'batch_size': 64, 'epochs': 25}. Best is trial 4 with value: 0.049399223402479764.\n",
            "\u001b[1m7/7\u001b[0m \u001b[32m━━━━━━━━━━━━━━━━━━━━\u001b[0m\u001b[37m\u001b[0m \u001b[1m0s\u001b[0m 39ms/step\n"
          ]
        },
        {
          "output_type": "stream",
          "name": "stderr",
          "text": [
            "Optimizing chunk 3:  18%|█▊        | 2/11 [24:08<1:23:25, 556.14s/it]"
          ]
        },
        {
          "output_type": "stream",
          "name": "stdout",
          "text": [
            "[I 2025-05-01 11:42:08,430] Trial 9 finished with value: 0.04799190289429359 and parameters: {'lookback': 6, 'units': 233, 'dropout': 0.2481389192289234, 'batch_size': 64, 'epochs': 28}. Best is trial 9 with value: 0.04799190289429359.\n",
            "\u001b[1m7/7\u001b[0m \u001b[32m━━━━━━━━━━━━━━━━━━━━\u001b[0m\u001b[37m\u001b[0m \u001b[1m0s\u001b[0m 34ms/step\n"
          ]
        },
        {
          "output_type": "stream",
          "name": "stderr",
          "text": [
            "Optimizing chunk 3:  18%|█▊        | 2/11 [24:28<1:23:25, 556.14s/it]"
          ]
        },
        {
          "output_type": "stream",
          "name": "stdout",
          "text": [
            "[I 2025-05-01 11:42:28,773] Trial 10 finished with value: 0.06520619114367723 and parameters: {'lookback': 31, 'units': 47, 'dropout': 0.43298314614088584, 'batch_size': 32, 'epochs': 29}. Best is trial 9 with value: 0.04799190289429359.\n",
            "\u001b[1m7/7\u001b[0m \u001b[32m━━━━━━━━━━━━━━━━━━━━\u001b[0m\u001b[37m\u001b[0m \u001b[1m0s\u001b[0m 48ms/step\n"
          ]
        },
        {
          "output_type": "stream",
          "name": "stderr",
          "text": [
            "Optimizing chunk 3:  18%|█▊        | 2/11 [25:06<1:23:25, 556.14s/it]"
          ]
        },
        {
          "output_type": "stream",
          "name": "stdout",
          "text": [
            "[I 2025-05-01 11:43:06,936] Trial 11 finished with value: 0.050470310213139045 and parameters: {'lookback': 21, 'units': 252, 'dropout': 0.30904451758906, 'batch_size': 64, 'epochs': 29}. Best is trial 9 with value: 0.04799190289429359.\n",
            "\u001b[1m7/7\u001b[0m \u001b[32m━━━━━━━━━━━━━━━━━━━━\u001b[0m\u001b[37m\u001b[0m \u001b[1m0s\u001b[0m 37ms/step\n"
          ]
        },
        {
          "output_type": "stream",
          "name": "stderr",
          "text": [
            "Optimizing chunk 3:  18%|█▊        | 2/11 [25:11<1:23:25, 556.14s/it]"
          ]
        },
        {
          "output_type": "stream",
          "name": "stdout",
          "text": [
            "[I 2025-05-01 11:43:11,669] Trial 12 finished with value: 0.13004214042486958 and parameters: {'lookback': 1, 'units': 227, 'dropout': 0.3628977433614687, 'batch_size': 64, 'epochs': 31}. Best is trial 9 with value: 0.04799190289429359.\n",
            "\u001b[1m7/7\u001b[0m \u001b[32m━━━━━━━━━━━━━━━━━━━━\u001b[0m\u001b[37m\u001b[0m \u001b[1m0s\u001b[0m 44ms/step\n"
          ]
        },
        {
          "output_type": "stream",
          "name": "stderr",
          "text": [
            "Optimizing chunk 3:  18%|█▊        | 2/11 [25:38<1:23:25, 556.14s/it]"
          ]
        },
        {
          "output_type": "stream",
          "name": "stdout",
          "text": [
            "[I 2025-05-01 11:43:39,183] Trial 13 finished with value: 0.0570164024718112 and parameters: {'lookback': 21, 'units': 220, 'dropout': 0.2779052555924394, 'batch_size': 64, 'epochs': 20}. Best is trial 9 with value: 0.04799190289429359.\n",
            "\u001b[1m7/7\u001b[0m \u001b[32m━━━━━━━━━━━━━━━━━━━━\u001b[0m\u001b[37m\u001b[0m \u001b[1m0s\u001b[0m 48ms/step\n"
          ]
        },
        {
          "output_type": "stream",
          "name": "stderr",
          "text": [
            "Optimizing chunk 3:  18%|█▊        | 2/11 [26:15<1:23:25, 556.14s/it]"
          ]
        },
        {
          "output_type": "stream",
          "name": "stdout",
          "text": [
            "[I 2025-05-01 11:44:15,934] Trial 14 finished with value: 0.056664535598756775 and parameters: {'lookback': 31, 'units': 157, 'dropout': 0.1729265007906176, 'batch_size': 32, 'epochs': 27}. Best is trial 9 with value: 0.04799190289429359.\n",
            "\u001b[1m7/7\u001b[0m \u001b[32m━━━━━━━━━━━━━━━━━━━━\u001b[0m\u001b[37m\u001b[0m \u001b[1m0s\u001b[0m 44ms/step\n"
          ]
        },
        {
          "output_type": "stream",
          "name": "stderr",
          "text": [
            "Optimizing chunk 3:  18%|█▊        | 2/11 [26:52<1:23:25, 556.14s/it]"
          ]
        },
        {
          "output_type": "stream",
          "name": "stdout",
          "text": [
            "[I 2025-05-01 11:44:52,466] Trial 15 finished with value: 0.049077239726920525 and parameters: {'lookback': 16, 'units': 219, 'dropout': 0.394870501431982, 'batch_size': 64, 'epochs': 32}. Best is trial 9 with value: 0.04799190289429359.\n",
            "\u001b[1m7/7\u001b[0m \u001b[32m━━━━━━━━━━━━━━━━━━━━\u001b[0m\u001b[37m\u001b[0m \u001b[1m0s\u001b[0m 34ms/step\n"
          ]
        },
        {
          "output_type": "stream",
          "name": "stderr",
          "text": [
            "Optimizing chunk 3:  18%|█▊        | 2/11 [27:02<1:23:25, 556.14s/it]"
          ]
        },
        {
          "output_type": "stream",
          "name": "stdout",
          "text": [
            "[I 2025-05-01 11:45:03,316] Trial 16 finished with value: 0.027078116989064916 and parameters: {'lookback': 1, 'units': 175, 'dropout': 0.40522403069024204, 'batch_size': 64, 'epochs': 30}. Best is trial 16 with value: 0.027078116989064916.\n",
            "\u001b[1m7/7\u001b[0m \u001b[32m━━━━━━━━━━━━━━━━━━━━\u001b[0m\u001b[37m\u001b[0m \u001b[1m0s\u001b[0m 33ms/step\n"
          ]
        },
        {
          "output_type": "stream",
          "name": "stderr",
          "text": [
            "Optimizing chunk 3:  18%|█▊        | 2/11 [27:10<1:23:25, 556.14s/it]"
          ]
        },
        {
          "output_type": "stream",
          "name": "stdout",
          "text": [
            "[I 2025-05-01 11:45:10,768] Trial 17 finished with value: 0.02775776825556375 and parameters: {'lookback': 1, 'units': 121, 'dropout': 0.4999682563531664, 'batch_size': 64, 'epochs': 28}. Best is trial 16 with value: 0.027078116989064916.\n",
            "\u001b[1m7/7\u001b[0m \u001b[32m━━━━━━━━━━━━━━━━━━━━\u001b[0m\u001b[37m\u001b[0m \u001b[1m0s\u001b[0m 34ms/step\n"
          ]
        },
        {
          "output_type": "stream",
          "name": "stderr",
          "text": [
            "Optimizing chunk 3:  18%|█▊        | 2/11 [27:22<1:23:25, 556.14s/it]"
          ]
        },
        {
          "output_type": "stream",
          "name": "stdout",
          "text": [
            "[I 2025-05-01 11:45:22,757] Trial 18 finished with value: 0.027006206588601943 and parameters: {'lookback': 1, 'units': 130, 'dropout': 0.48172082512482833, 'batch_size': 32, 'epochs': 30}. Best is trial 18 with value: 0.027006206588601943.\n",
            "\u001b[1m7/7\u001b[0m \u001b[32m━━━━━━━━━━━━━━━━━━━━\u001b[0m\u001b[37m\u001b[0m \u001b[1m0s\u001b[0m 46ms/step\n"
          ]
        },
        {
          "output_type": "stream",
          "name": "stderr",
          "text": [
            "Optimizing chunk 3:  18%|█▊        | 2/11 [27:42<1:23:25, 556.14s/it]"
          ]
        },
        {
          "output_type": "stream",
          "name": "stdout",
          "text": [
            "[I 2025-05-01 11:45:43,369] Trial 19 finished with value: 0.062457482596467204 and parameters: {'lookback': 36, 'units': 138, 'dropout': 0.42457647588038055, 'batch_size': 32, 'epochs': 26}. Best is trial 18 with value: 0.027006206588601943.\n",
            "\u001b[1m7/7\u001b[0m \u001b[32m━━━━━━━━━━━━━━━━━━━━\u001b[0m\u001b[37m\u001b[0m \u001b[1m0s\u001b[0m 33ms/step\n"
          ]
        },
        {
          "output_type": "stream",
          "name": "stderr",
          "text": [
            "Optimizing chunk 3:  18%|█▊        | 2/11 [27:52<1:23:25, 556.14s/it]"
          ]
        },
        {
          "output_type": "stream",
          "name": "stdout",
          "text": [
            "[I 2025-05-01 11:45:53,233] Trial 20 finished with value: 0.026513622466377902 and parameters: {'lookback': 1, 'units': 164, 'dropout': 0.4444958695426148, 'batch_size': 32, 'epochs': 30}. Best is trial 20 with value: 0.026513622466377902.\n",
            "\u001b[1m7/7\u001b[0m \u001b[32m━━━━━━━━━━━━━━━━━━━━\u001b[0m\u001b[37m\u001b[0m \u001b[1m0s\u001b[0m 34ms/step\n"
          ]
        },
        {
          "output_type": "stream",
          "name": "stderr",
          "text": [
            "Optimizing chunk 3:  18%|█▊        | 2/11 [27:59<1:23:25, 556.14s/it]"
          ]
        },
        {
          "output_type": "stream",
          "name": "stdout",
          "text": [
            "[I 2025-05-01 11:46:00,200] Trial 21 finished with value: 0.03104463165435537 and parameters: {'lookback': 1, 'units': 170, 'dropout': 0.46509892424247856, 'batch_size': 32, 'epochs': 30}. Best is trial 20 with value: 0.026513622466377902.\n",
            "\u001b[1m7/7\u001b[0m \u001b[32m━━━━━━━━━━━━━━━━━━━━\u001b[0m\u001b[37m\u001b[0m \u001b[1m0s\u001b[0m 36ms/step\n"
          ]
        },
        {
          "output_type": "stream",
          "name": "stderr",
          "text": [
            "Optimizing chunk 3:  18%|█▊        | 2/11 [28:20<1:23:25, 556.14s/it]"
          ]
        },
        {
          "output_type": "stream",
          "name": "stdout",
          "text": [
            "[I 2025-05-01 11:46:21,310] Trial 22 finished with value: 0.0494991559510655 and parameters: {'lookback': 11, 'units': 135, 'dropout': 0.42465669098695713, 'batch_size': 32, 'epochs': 30}. Best is trial 20 with value: 0.026513622466377902.\n",
            "\u001b[1m7/7\u001b[0m \u001b[32m━━━━━━━━━━━━━━━━━━━━\u001b[0m\u001b[37m\u001b[0m \u001b[1m0s\u001b[0m 34ms/step\n"
          ]
        },
        {
          "output_type": "stream",
          "name": "stderr",
          "text": [
            "Optimizing chunk 3:  18%|█▊        | 2/11 [28:30<1:23:25, 556.14s/it]"
          ]
        },
        {
          "output_type": "stream",
          "name": "stdout",
          "text": [
            "[I 2025-05-01 11:46:30,426] Trial 23 finished with value: 0.027940333616778903 and parameters: {'lookback': 1, 'units': 81, 'dropout': 0.49521150246484835, 'batch_size': 32, 'epochs': 30}. Best is trial 20 with value: 0.026513622466377902.\n",
            "\u001b[1m7/7\u001b[0m \u001b[32m━━━━━━━━━━━━━━━━━━━━\u001b[0m\u001b[37m\u001b[0m \u001b[1m0s\u001b[0m 34ms/step\n"
          ]
        },
        {
          "output_type": "stream",
          "name": "stderr",
          "text": [
            "Optimizing chunk 3:  18%|█▊        | 2/11 [28:45<1:23:25, 556.14s/it]"
          ]
        },
        {
          "output_type": "stream",
          "name": "stdout",
          "text": [
            "[I 2025-05-01 11:46:45,668] Trial 24 finished with value: 0.051184442222367066 and parameters: {'lookback': 6, 'units': 166, 'dropout': 0.45185689780999183, 'batch_size': 32, 'epochs': 32}. Best is trial 20 with value: 0.026513622466377902.\n",
            "\u001b[1m7/7\u001b[0m \u001b[32m━━━━━━━━━━━━━━━━━━━━\u001b[0m\u001b[37m\u001b[0m \u001b[1m0s\u001b[0m 35ms/step\n"
          ]
        },
        {
          "output_type": "stream",
          "name": "stderr",
          "text": [
            "Optimizing chunk 3:  18%|█▊        | 2/11 [29:04<1:23:25, 556.14s/it]"
          ]
        },
        {
          "output_type": "stream",
          "name": "stdout",
          "text": [
            "[I 2025-05-01 11:47:04,699] Trial 25 finished with value: 0.053404892182550304 and parameters: {'lookback': 16, 'units': 88, 'dropout': 0.38811151900958124, 'batch_size': 32, 'epochs': 27}. Best is trial 20 with value: 0.026513622466377902.\n",
            "\u001b[1m7/7\u001b[0m \u001b[32m━━━━━━━━━━━━━━━━━━━━\u001b[0m\u001b[37m\u001b[0m \u001b[1m0s\u001b[0m 45ms/step\n"
          ]
        },
        {
          "output_type": "stream",
          "name": "stderr",
          "text": [
            "Optimizing chunk 3:  18%|█▊        | 2/11 [29:13<1:23:25, 556.14s/it]"
          ]
        },
        {
          "output_type": "stream",
          "name": "stdout",
          "text": [
            "[I 2025-05-01 11:47:13,424] Trial 26 finished with value: 0.027836885826997636 and parameters: {'lookback': 1, 'units': 133, 'dropout': 0.39694999117459456, 'batch_size': 32, 'epochs': 31}. Best is trial 20 with value: 0.026513622466377902.\n",
            "\u001b[1m7/7\u001b[0m \u001b[32m━━━━━━━━━━━━━━━━━━━━\u001b[0m\u001b[37m\u001b[0m \u001b[1m0s\u001b[0m 41ms/step\n"
          ]
        },
        {
          "output_type": "stream",
          "name": "stderr",
          "text": [
            "Optimizing chunk 3:  18%|█▊        | 2/11 [29:41<1:23:25, 556.14s/it]"
          ]
        },
        {
          "output_type": "stream",
          "name": "stdout",
          "text": [
            "[I 2025-05-01 11:47:42,086] Trial 27 finished with value: 0.04601340318592207 and parameters: {'lookback': 11, 'units': 186, 'dropout': 0.34537729572732817, 'batch_size': 32, 'epochs': 29}. Best is trial 20 with value: 0.026513622466377902.\n",
            "\u001b[1m7/7\u001b[0m \u001b[32m━━━━━━━━━━━━━━━━━━━━\u001b[0m\u001b[37m\u001b[0m \u001b[1m0s\u001b[0m 37ms/step\n"
          ]
        },
        {
          "output_type": "stream",
          "name": "stderr",
          "text": [
            "Optimizing chunk 3:  18%|█▊        | 2/11 [29:55<1:23:25, 556.14s/it]"
          ]
        },
        {
          "output_type": "stream",
          "name": "stdout",
          "text": [
            "[I 2025-05-01 11:47:55,875] Trial 28 finished with value: 0.051290160242155686 and parameters: {'lookback': 6, 'units': 150, 'dropout': 0.44505037885111765, 'batch_size': 32, 'epochs': 34}. Best is trial 20 with value: 0.026513622466377902.\n",
            "\u001b[1m7/7\u001b[0m \u001b[32m━━━━━━━━━━━━━━━━━━━━\u001b[0m\u001b[37m\u001b[0m \u001b[1m1s\u001b[0m 42ms/step\n"
          ]
        },
        {
          "output_type": "stream",
          "name": "stderr",
          "text": [
            "Optimizing chunk 3:  27%|██▋       | 3/11 [30:12<1:22:35, 619.39s/it][I 2025-05-01 11:48:12,954] A new study created in memory with name: no-name-d63d3b68-bb76-45fd-bfa6-7c55f730181c\n"
          ]
        },
        {
          "output_type": "stream",
          "name": "stdout",
          "text": [
            "[I 2025-05-01 11:48:12,923] Trial 29 finished with value: 0.06266469777451167 and parameters: {'lookback': 26, 'units': 52, 'dropout': 0.47511625080878606, 'batch_size': 32, 'epochs': 31}. Best is trial 20 with value: 0.026513622466377902.\n",
            "✅ Done: PDD.O — Best Params: {'lookback': 1, 'units': 164, 'dropout': 0.4444958695426148, 'batch_size': 32, 'epochs': 30}\n",
            "\n",
            "🔍 Optimizing for PLTR.O...\n"
          ]
        },
        {
          "output_type": "display_data",
          "data": {
            "text/plain": [
              "  0%|          | 0/30 [00:00<?, ?it/s]"
            ],
            "application/vnd.jupyter.widget-view+json": {
              "version_major": 2,
              "version_minor": 0,
              "model_id": "a9260fb357cb44f1a7be4090e41d93a4"
            }
          },
          "metadata": {}
        },
        {
          "output_type": "stream",
          "name": "stdout",
          "text": [
            "\u001b[1m7/7\u001b[0m \u001b[32m━━━━━━━━━━━━━━━━━━━━\u001b[0m\u001b[37m\u001b[0m \u001b[1m0s\u001b[0m 42ms/step\n"
          ]
        },
        {
          "output_type": "stream",
          "name": "stderr",
          "text": [
            "Optimizing chunk 3:  27%|██▋       | 3/11 [30:20<1:22:35, 619.39s/it]"
          ]
        },
        {
          "output_type": "stream",
          "name": "stdout",
          "text": [
            "[I 2025-05-01 11:48:20,932] Trial 0 finished with value: 0.04710624589730224 and parameters: {'lookback': 16, 'units': 69, 'dropout': 0.18297893403198495, 'batch_size': 32, 'epochs': 29}. Best is trial 0 with value: 0.04710624589730224.\n",
            "\u001b[1m7/7\u001b[0m \u001b[32m━━━━━━━━━━━━━━━━━━━━\u001b[0m\u001b[37m\u001b[0m \u001b[1m0s\u001b[0m 34ms/step\n"
          ]
        },
        {
          "output_type": "stream",
          "name": "stderr",
          "text": [
            "Optimizing chunk 3:  27%|██▋       | 3/11 [30:29<1:22:35, 619.39s/it]"
          ]
        },
        {
          "output_type": "stream",
          "name": "stdout",
          "text": [
            "[I 2025-05-01 11:48:30,164] Trial 1 finished with value: 0.02114214917063915 and parameters: {'lookback': 1, 'units': 48, 'dropout': 0.2869704673384986, 'batch_size': 32, 'epochs': 26}. Best is trial 1 with value: 0.02114214917063915.\n",
            "\u001b[1m7/7\u001b[0m \u001b[32m━━━━━━━━━━━━━━━━━━━━\u001b[0m\u001b[37m\u001b[0m \u001b[1m0s\u001b[0m 36ms/step\n"
          ]
        },
        {
          "output_type": "stream",
          "name": "stderr",
          "text": [
            "Optimizing chunk 3:  27%|██▋       | 3/11 [30:36<1:22:35, 619.39s/it]"
          ]
        },
        {
          "output_type": "stream",
          "name": "stdout",
          "text": [
            "[I 2025-05-01 11:48:36,741] Trial 2 finished with value: 0.030266291494482556 and parameters: {'lookback': 6, 'units': 123, 'dropout': 0.22125169568341893, 'batch_size': 64, 'epochs': 30}. Best is trial 1 with value: 0.02114214917063915.\n",
            "\u001b[1m7/7\u001b[0m \u001b[32m━━━━━━━━━━━━━━━━━━━━\u001b[0m\u001b[37m\u001b[0m \u001b[1m0s\u001b[0m 37ms/step\n"
          ]
        },
        {
          "output_type": "stream",
          "name": "stderr",
          "text": [
            "Optimizing chunk 3:  27%|██▋       | 3/11 [30:43<1:22:35, 619.39s/it]"
          ]
        },
        {
          "output_type": "stream",
          "name": "stdout",
          "text": [
            "[I 2025-05-01 11:48:44,149] Trial 3 finished with value: 0.03696849200172962 and parameters: {'lookback': 1, 'units': 67, 'dropout': 0.20443202817350425, 'batch_size': 64, 'epochs': 20}. Best is trial 1 with value: 0.02114214917063915.\n",
            "\u001b[1m7/7\u001b[0m \u001b[32m━━━━━━━━━━━━━━━━━━━━\u001b[0m\u001b[37m\u001b[0m \u001b[1m1s\u001b[0m 47ms/step\n"
          ]
        },
        {
          "output_type": "stream",
          "name": "stderr",
          "text": [
            "Optimizing chunk 3:  27%|██▋       | 3/11 [30:59<1:22:35, 619.39s/it]"
          ]
        },
        {
          "output_type": "stream",
          "name": "stdout",
          "text": [
            "[I 2025-05-01 11:48:59,415] Trial 4 finished with value: 0.05107961723790366 and parameters: {'lookback': 21, 'units': 227, 'dropout': 0.22011620571664162, 'batch_size': 32, 'epochs': 31}. Best is trial 1 with value: 0.02114214917063915.\n",
            "\u001b[1m7/7\u001b[0m \u001b[32m━━━━━━━━━━━━━━━━━━━━\u001b[0m\u001b[37m\u001b[0m \u001b[1m0s\u001b[0m 43ms/step\n"
          ]
        },
        {
          "output_type": "stream",
          "name": "stderr",
          "text": [
            "Optimizing chunk 3:  27%|██▋       | 3/11 [31:07<1:22:35, 619.39s/it]"
          ]
        },
        {
          "output_type": "stream",
          "name": "stdout",
          "text": [
            "[I 2025-05-01 11:49:08,340] Trial 5 finished with value: 0.03803283245645358 and parameters: {'lookback': 16, 'units': 115, 'dropout': 0.24757803168101217, 'batch_size': 64, 'epochs': 27}. Best is trial 1 with value: 0.02114214917063915.\n",
            "\u001b[1m7/7\u001b[0m \u001b[32m━━━━━━━━━━━━━━━━━━━━\u001b[0m\u001b[37m\u001b[0m \u001b[1m1s\u001b[0m 58ms/step\n"
          ]
        },
        {
          "output_type": "stream",
          "name": "stderr",
          "text": [
            "Optimizing chunk 3:  27%|██▋       | 3/11 [31:14<1:22:35, 619.39s/it]"
          ]
        },
        {
          "output_type": "stream",
          "name": "stdout",
          "text": [
            "[I 2025-05-01 11:49:14,503] Trial 6 finished with value: 0.046135854663313186 and parameters: {'lookback': 11, 'units': 78, 'dropout': 0.17627909999358546, 'batch_size': 64, 'epochs': 24}. Best is trial 1 with value: 0.02114214917063915.\n",
            "\u001b[1m7/7\u001b[0m \u001b[32m━━━━━━━━━━━━━━━━━━━━\u001b[0m\u001b[37m\u001b[0m \u001b[1m0s\u001b[0m 35ms/step\n"
          ]
        },
        {
          "output_type": "stream",
          "name": "stderr",
          "text": [
            "Optimizing chunk 3:  27%|██▋       | 3/11 [31:24<1:22:35, 619.39s/it]"
          ]
        },
        {
          "output_type": "stream",
          "name": "stdout",
          "text": [
            "[I 2025-05-01 11:49:25,291] Trial 7 finished with value: 0.02172827304816027 and parameters: {'lookback': 1, 'units': 73, 'dropout': 0.42561651359675146, 'batch_size': 64, 'epochs': 32}. Best is trial 1 with value: 0.02114214917063915.\n",
            "\u001b[1m7/7\u001b[0m \u001b[32m━━━━━━━━━━━━━━━━━━━━\u001b[0m\u001b[37m\u001b[0m \u001b[1m1s\u001b[0m 54ms/step\n"
          ]
        },
        {
          "output_type": "stream",
          "name": "stderr",
          "text": [
            "Optimizing chunk 3:  27%|██▋       | 3/11 [31:56<1:22:35, 619.39s/it]"
          ]
        },
        {
          "output_type": "stream",
          "name": "stdout",
          "text": [
            "[I 2025-05-01 11:49:56,648] Trial 8 finished with value: 0.04216184180323529 and parameters: {'lookback': 41, 'units': 165, 'dropout': 0.4441486718505804, 'batch_size': 32, 'epochs': 30}. Best is trial 1 with value: 0.02114214917063915.\n",
            "\u001b[1m7/7\u001b[0m \u001b[32m━━━━━━━━━━━━━━━━━━━━\u001b[0m\u001b[37m\u001b[0m \u001b[1m0s\u001b[0m 46ms/step\n"
          ]
        },
        {
          "output_type": "stream",
          "name": "stderr",
          "text": [
            "Optimizing chunk 3:  27%|██▋       | 3/11 [32:08<1:22:35, 619.39s/it]"
          ]
        },
        {
          "output_type": "stream",
          "name": "stdout",
          "text": [
            "[I 2025-05-01 11:50:09,256] Trial 9 finished with value: 0.057620680305567655 and parameters: {'lookback': 21, 'units': 110, 'dropout': 0.3387719548559134, 'batch_size': 32, 'epochs': 33}. Best is trial 1 with value: 0.02114214917063915.\n",
            "\u001b[1m6/6\u001b[0m \u001b[32m━━━━━━━━━━━━━━━━━━━━\u001b[0m\u001b[37m\u001b[0m \u001b[1m1s\u001b[0m 73ms/step\n"
          ]
        },
        {
          "output_type": "stream",
          "name": "stderr",
          "text": [
            "Optimizing chunk 3:  27%|██▋       | 3/11 [32:46<1:22:35, 619.39s/it]"
          ]
        },
        {
          "output_type": "stream",
          "name": "stdout",
          "text": [
            "[I 2025-05-01 11:50:47,148] Trial 10 finished with value: 0.036059359800923375 and parameters: {'lookback': 56, 'units': 177, 'dropout': 0.10078925230113744, 'batch_size': 32, 'epochs': 25}. Best is trial 1 with value: 0.02114214917063915.\n",
            "\u001b[1m7/7\u001b[0m \u001b[32m━━━━━━━━━━━━━━━━━━━━\u001b[0m\u001b[37m\u001b[0m \u001b[1m0s\u001b[0m 35ms/step\n"
          ]
        },
        {
          "output_type": "stream",
          "name": "stderr",
          "text": [
            "Optimizing chunk 3:  27%|██▋       | 3/11 [32:56<1:22:35, 619.39s/it]"
          ]
        },
        {
          "output_type": "stream",
          "name": "stdout",
          "text": [
            "[I 2025-05-01 11:50:56,592] Trial 11 finished with value: 0.02198261813777382 and parameters: {'lookback': 1, 'units': 37, 'dropout': 0.371868609777488, 'batch_size': 64, 'epochs': 35}. Best is trial 1 with value: 0.02114214917063915.\n",
            "\u001b[1m7/7\u001b[0m \u001b[32m━━━━━━━━━━━━━━━━━━━━\u001b[0m\u001b[37m\u001b[0m \u001b[1m0s\u001b[0m 40ms/step\n"
          ]
        },
        {
          "output_type": "stream",
          "name": "stderr",
          "text": [
            "Optimizing chunk 3:  27%|██▋       | 3/11 [33:13<1:22:35, 619.39s/it]"
          ]
        },
        {
          "output_type": "stream",
          "name": "stdout",
          "text": [
            "[I 2025-05-01 11:51:14,141] Trial 12 finished with value: 0.1048796200945966 and parameters: {'lookback': 36, 'units': 36, 'dropout': 0.4971666528409904, 'batch_size': 32, 'epochs': 26}. Best is trial 1 with value: 0.02114214917063915.\n",
            "\u001b[1m7/7\u001b[0m \u001b[32m━━━━━━━━━━━━━━━━━━━━\u001b[0m\u001b[37m\u001b[0m \u001b[1m0s\u001b[0m 38ms/step\n"
          ]
        },
        {
          "output_type": "stream",
          "name": "stderr",
          "text": [
            "Optimizing chunk 3:  27%|██▋       | 3/11 [33:23<1:22:35, 619.39s/it]"
          ]
        },
        {
          "output_type": "stream",
          "name": "stdout",
          "text": [
            "[I 2025-05-01 11:51:23,834] Trial 13 finished with value: 0.06601938405906102 and parameters: {'lookback': 31, 'units': 84, 'dropout': 0.4035061491915391, 'batch_size': 64, 'epochs': 22}. Best is trial 1 with value: 0.02114214917063915.\n",
            "\u001b[1m7/7\u001b[0m \u001b[32m━━━━━━━━━━━━━━━━━━━━\u001b[0m\u001b[37m\u001b[0m \u001b[1m0s\u001b[0m 33ms/step\n"
          ]
        },
        {
          "output_type": "stream",
          "name": "stderr",
          "text": [
            "Optimizing chunk 3:  27%|██▋       | 3/11 [33:32<1:22:35, 619.39s/it]"
          ]
        },
        {
          "output_type": "stream",
          "name": "stdout",
          "text": [
            "[I 2025-05-01 11:51:32,820] Trial 14 finished with value: 0.022095884378855617 and parameters: {'lookback': 1, 'units': 32, 'dropout': 0.2963320587721471, 'batch_size': 64, 'epochs': 33}. Best is trial 1 with value: 0.02114214917063915.\n",
            "\u001b[1m7/7\u001b[0m \u001b[32m━━━━━━━━━━━━━━━━━━━━\u001b[0m\u001b[37m\u001b[0m \u001b[1m0s\u001b[0m 41ms/step\n"
          ]
        },
        {
          "output_type": "stream",
          "name": "stderr",
          "text": [
            "Optimizing chunk 3:  27%|██▋       | 3/11 [33:42<1:22:35, 619.39s/it]"
          ]
        },
        {
          "output_type": "stream",
          "name": "stdout",
          "text": [
            "[I 2025-05-01 11:51:43,277] Trial 15 finished with value: 0.03788809468596424 and parameters: {'lookback': 11, 'units': 229, 'dropout': 0.2970446418457089, 'batch_size': 32, 'epochs': 28}. Best is trial 1 with value: 0.02114214917063915.\n",
            "\u001b[1m6/6\u001b[0m \u001b[32m━━━━━━━━━━━━━━━━━━━━\u001b[0m\u001b[37m\u001b[0m \u001b[1m0s\u001b[0m 13ms/step \n"
          ]
        },
        {
          "output_type": "stream",
          "name": "stderr",
          "text": [
            "Optimizing chunk 3:  27%|██▋       | 3/11 [34:05<1:22:35, 619.39s/it]"
          ]
        },
        {
          "output_type": "stream",
          "name": "stdout",
          "text": [
            "[I 2025-05-01 11:52:06,096] Trial 16 finished with value: 0.04666435150945572 and parameters: {'lookback': 46, 'units': 95, 'dropout': 0.43671681587341105, 'batch_size': 64, 'epochs': 23}. Best is trial 1 with value: 0.02114214917063915.\n",
            "\u001b[1m7/7\u001b[0m \u001b[32m━━━━━━━━━━━━━━━━━━━━\u001b[0m\u001b[37m\u001b[0m \u001b[1m0s\u001b[0m 39ms/step\n"
          ]
        },
        {
          "output_type": "stream",
          "name": "stderr",
          "text": [
            "Optimizing chunk 3:  27%|██▋       | 3/11 [34:12<1:22:35, 619.39s/it]"
          ]
        },
        {
          "output_type": "stream",
          "name": "stdout",
          "text": [
            "[I 2025-05-01 11:52:13,334] Trial 17 finished with value: 0.03869503200292061 and parameters: {'lookback': 11, 'units': 146, 'dropout': 0.3428663877356243, 'batch_size': 32, 'epochs': 32}. Best is trial 1 with value: 0.02114214917063915.\n",
            "\u001b[1m7/7\u001b[0m \u001b[32m━━━━━━━━━━━━━━━━━━━━\u001b[0m\u001b[37m\u001b[0m \u001b[1m0s\u001b[0m 35ms/step\n"
          ]
        },
        {
          "output_type": "stream",
          "name": "stderr",
          "text": [
            "Optimizing chunk 3:  27%|██▋       | 3/11 [34:21<1:22:35, 619.39s/it]"
          ]
        },
        {
          "output_type": "stream",
          "name": "stdout",
          "text": [
            "[I 2025-05-01 11:52:22,203] Trial 18 finished with value: 0.0483632656911997 and parameters: {'lookback': 26, 'units': 56, 'dropout': 0.26744960682941393, 'batch_size': 64, 'epochs': 35}. Best is trial 1 with value: 0.02114214917063915.\n",
            "\u001b[1m7/7\u001b[0m \u001b[32m━━━━━━━━━━━━━━━━━━━━\u001b[0m\u001b[37m\u001b[0m \u001b[1m0s\u001b[0m 35ms/step\n"
          ]
        },
        {
          "output_type": "stream",
          "name": "stderr",
          "text": [
            "Optimizing chunk 3:  27%|██▋       | 3/11 [34:30<1:22:35, 619.39s/it]"
          ]
        },
        {
          "output_type": "stream",
          "name": "stdout",
          "text": [
            "[I 2025-05-01 11:52:30,875] Trial 19 finished with value: 0.021146172050535282 and parameters: {'lookback': 1, 'units': 197, 'dropout': 0.49431099952693736, 'batch_size': 32, 'epochs': 27}. Best is trial 1 with value: 0.02114214917063915.\n",
            "\u001b[1m7/7\u001b[0m \u001b[32m━━━━━━━━━━━━━━━━━━━━\u001b[0m\u001b[37m\u001b[0m \u001b[1m1s\u001b[0m 50ms/step\n"
          ]
        },
        {
          "output_type": "stream",
          "name": "stderr",
          "text": [
            "Optimizing chunk 3:  27%|██▋       | 3/11 [34:39<1:22:35, 619.39s/it]"
          ]
        },
        {
          "output_type": "stream",
          "name": "stdout",
          "text": [
            "[I 2025-05-01 11:52:40,100] Trial 20 finished with value: 0.030632925651239092 and parameters: {'lookback': 6, 'units': 200, 'dropout': 0.49903859728741246, 'batch_size': 32, 'epochs': 27}. Best is trial 1 with value: 0.02114214917063915.\n",
            "\u001b[1m7/7\u001b[0m \u001b[32m━━━━━━━━━━━━━━━━━━━━\u001b[0m\u001b[37m\u001b[0m \u001b[1m0s\u001b[0m 38ms/step\n"
          ]
        },
        {
          "output_type": "stream",
          "name": "stderr",
          "text": [
            "Optimizing chunk 3:  27%|██▋       | 3/11 [34:53<1:22:35, 619.39s/it]"
          ]
        },
        {
          "output_type": "stream",
          "name": "stdout",
          "text": [
            "[I 2025-05-01 11:52:54,186] Trial 21 finished with value: 0.034267174904233276 and parameters: {'lookback': 6, 'units': 187, 'dropout': 0.45625663114991466, 'batch_size': 32, 'epochs': 25}. Best is trial 1 with value: 0.02114214917063915.\n",
            "\u001b[1m7/7\u001b[0m \u001b[32m━━━━━━━━━━━━━━━━━━━━\u001b[0m\u001b[37m\u001b[0m \u001b[1m0s\u001b[0m 37ms/step\n"
          ]
        },
        {
          "output_type": "stream",
          "name": "stderr",
          "text": [
            "Optimizing chunk 3:  27%|██▋       | 3/11 [35:00<1:22:35, 619.39s/it]"
          ]
        },
        {
          "output_type": "stream",
          "name": "stdout",
          "text": [
            "[I 2025-05-01 11:53:00,902] Trial 22 finished with value: 0.020768571051235096 and parameters: {'lookback': 1, 'units': 246, 'dropout': 0.38596238700578267, 'batch_size': 32, 'epochs': 28}. Best is trial 22 with value: 0.020768571051235096.\n",
            "\u001b[1m7/7\u001b[0m \u001b[32m━━━━━━━━━━━━━━━━━━━━\u001b[0m\u001b[37m\u001b[0m \u001b[1m0s\u001b[0m 42ms/step\n"
          ]
        },
        {
          "output_type": "stream",
          "name": "stderr",
          "text": [
            "Optimizing chunk 3:  27%|██▋       | 3/11 [35:11<1:22:35, 619.39s/it]"
          ]
        },
        {
          "output_type": "stream",
          "name": "stdout",
          "text": [
            "[I 2025-05-01 11:53:11,410] Trial 23 finished with value: 0.03412089988990019 and parameters: {'lookback': 6, 'units': 252, 'dropout': 0.3465477543602082, 'batch_size': 32, 'epochs': 28}. Best is trial 22 with value: 0.020768571051235096.\n",
            "\u001b[1m7/7\u001b[0m \u001b[32m━━━━━━━━━━━━━━━━━━━━\u001b[0m\u001b[37m\u001b[0m \u001b[1m1s\u001b[0m 63ms/step\n"
          ]
        },
        {
          "output_type": "stream",
          "name": "stderr",
          "text": [
            "Optimizing chunk 3:  27%|██▋       | 3/11 [35:28<1:22:35, 619.39s/it]"
          ]
        },
        {
          "output_type": "stream",
          "name": "stdout",
          "text": [
            "[I 2025-05-01 11:53:28,677] Trial 24 finished with value: 0.057337159742524034 and parameters: {'lookback': 16, 'units': 212, 'dropout': 0.38972924810135223, 'batch_size': 32, 'epochs': 26}. Best is trial 22 with value: 0.020768571051235096.\n",
            "\u001b[1m7/7\u001b[0m \u001b[32m━━━━━━━━━━━━━━━━━━━━\u001b[0m\u001b[37m\u001b[0m \u001b[1m0s\u001b[0m 36ms/step\n"
          ]
        },
        {
          "output_type": "stream",
          "name": "stderr",
          "text": [
            "Optimizing chunk 3:  27%|██▋       | 3/11 [35:37<1:22:35, 619.39s/it]"
          ]
        },
        {
          "output_type": "stream",
          "name": "stdout",
          "text": [
            "[I 2025-05-01 11:53:38,371] Trial 25 finished with value: 0.020907372972838345 and parameters: {'lookback': 1, 'units': 252, 'dropout': 0.4722025709278738, 'batch_size': 32, 'epochs': 29}. Best is trial 22 with value: 0.020768571051235096.\n",
            "\u001b[1m7/7\u001b[0m \u001b[32m━━━━━━━━━━━━━━━━━━━━\u001b[0m\u001b[37m\u001b[0m \u001b[1m0s\u001b[0m 43ms/step\n"
          ]
        },
        {
          "output_type": "stream",
          "name": "stderr",
          "text": [
            "Optimizing chunk 3:  27%|██▋       | 3/11 [35:49<1:22:35, 619.39s/it]"
          ]
        },
        {
          "output_type": "stream",
          "name": "stdout",
          "text": [
            "[I 2025-05-01 11:53:49,405] Trial 26 finished with value: 0.03448296432662915 and parameters: {'lookback': 11, 'units': 253, 'dropout': 0.32089180030133013, 'batch_size': 32, 'epochs': 29}. Best is trial 22 with value: 0.020768571051235096.\n",
            "\u001b[1m7/7\u001b[0m \u001b[32m━━━━━━━━━━━━━━━━━━━━\u001b[0m\u001b[37m\u001b[0m \u001b[1m0s\u001b[0m 47ms/step\n"
          ]
        },
        {
          "output_type": "stream",
          "name": "stderr",
          "text": [
            "Optimizing chunk 3:  27%|██▋       | 3/11 [36:11<1:22:35, 619.39s/it]"
          ]
        },
        {
          "output_type": "stream",
          "name": "stdout",
          "text": [
            "[I 2025-05-01 11:54:11,895] Trial 27 finished with value: 0.04802187382717807 and parameters: {'lookback': 21, 'units': 232, 'dropout': 0.3817498587201608, 'batch_size': 32, 'epochs': 29}. Best is trial 22 with value: 0.020768571051235096.\n",
            "\u001b[1m6/6\u001b[0m \u001b[32m━━━━━━━━━━━━━━━━━━━━\u001b[0m\u001b[37m\u001b[0m \u001b[1m1s\u001b[0m 108ms/step\n"
          ]
        },
        {
          "output_type": "stream",
          "name": "stderr",
          "text": [
            "Optimizing chunk 3:  27%|██▋       | 3/11 [36:29<1:22:35, 619.39s/it]"
          ]
        },
        {
          "output_type": "stream",
          "name": "stdout",
          "text": [
            "[I 2025-05-01 11:54:29,910] Trial 28 finished with value: 0.04238715858429393 and parameters: {'lookback': 56, 'units': 149, 'dropout': 0.46017737787331364, 'batch_size': 32, 'epochs': 22}. Best is trial 22 with value: 0.020768571051235096.\n",
            "\u001b[1m7/7\u001b[0m \u001b[32m━━━━━━━━━━━━━━━━━━━━\u001b[0m\u001b[37m\u001b[0m \u001b[1m0s\u001b[0m 45ms/step\n"
          ]
        },
        {
          "output_type": "stream",
          "name": "stderr",
          "text": [
            "Optimizing chunk 3:  27%|██▋       | 3/11 [36:47<1:22:35, 619.39s/it]"
          ]
        },
        {
          "output_type": "stream",
          "name": "stdout",
          "text": [
            "[I 2025-05-01 11:54:47,489] Trial 29 finished with value: 0.040933812276526295 and parameters: {'lookback': 16, 'units': 239, 'dropout': 0.40867644008055287, 'batch_size': 32, 'epochs': 30}. Best is trial 22 with value: 0.020768571051235096.\n"
          ]
        },
        {
          "output_type": "stream",
          "name": "stderr",
          "text": [
            "\rOptimizing chunk 3:  36%|███▋      | 4/11 [36:47<1:01:54, 530.63s/it]"
          ]
        },
        {
          "output_type": "stream",
          "name": "stdout",
          "text": [
            "✅ Done: PLTR.O — Best Params: {'lookback': 1, 'units': 246, 'dropout': 0.38596238700578267, 'batch_size': 32, 'epochs': 28}\n"
          ]
        },
        {
          "output_type": "stream",
          "name": "stderr",
          "text": [
            "[I 2025-05-01 11:54:47,522] A new study created in memory with name: no-name-ab1f4942-104e-419a-8546-efa4a046b77e\n"
          ]
        },
        {
          "output_type": "stream",
          "name": "stdout",
          "text": [
            "\n",
            "🔍 Optimizing for QCOM.O...\n"
          ]
        },
        {
          "output_type": "display_data",
          "data": {
            "text/plain": [
              "  0%|          | 0/30 [00:00<?, ?it/s]"
            ],
            "application/vnd.jupyter.widget-view+json": {
              "version_major": 2,
              "version_minor": 0,
              "model_id": "8635f06b9c0946698d0303bf563e9263"
            }
          },
          "metadata": {}
        },
        {
          "output_type": "stream",
          "name": "stdout",
          "text": [
            "\u001b[1m7/7\u001b[0m \u001b[32m━━━━━━━━━━━━━━━━━━━━\u001b[0m\u001b[37m\u001b[0m \u001b[1m1s\u001b[0m 74ms/step\n"
          ]
        },
        {
          "output_type": "stream",
          "name": "stderr",
          "text": [
            "Optimizing chunk 3:  36%|███▋      | 4/11 [37:18<1:01:54, 530.63s/it]"
          ]
        },
        {
          "output_type": "stream",
          "name": "stdout",
          "text": [
            "[I 2025-05-01 11:55:18,872] Trial 0 finished with value: 0.047389712562205914 and parameters: {'lookback': 21, 'units': 192, 'dropout': 0.36566413099725126, 'batch_size': 64, 'epochs': 27}. Best is trial 0 with value: 0.047389712562205914.\n",
            "\u001b[1m6/6\u001b[0m \u001b[32m━━━━━━━━━━━━━━━━━━━━\u001b[0m\u001b[37m\u001b[0m \u001b[1m0s\u001b[0m 43ms/step\n"
          ]
        },
        {
          "output_type": "stream",
          "name": "stderr",
          "text": [
            "Optimizing chunk 3:  36%|███▋      | 4/11 [37:38<1:01:54, 530.63s/it]"
          ]
        },
        {
          "output_type": "stream",
          "name": "stdout",
          "text": [
            "[I 2025-05-01 11:55:39,054] Trial 1 finished with value: 0.05343445808970793 and parameters: {'lookback': 56, 'units': 43, 'dropout': 0.3754530273835547, 'batch_size': 64, 'epochs': 30}. Best is trial 0 with value: 0.047389712562205914.\n",
            "\u001b[1m6/6\u001b[0m \u001b[32m━━━━━━━━━━━━━━━━━━━━\u001b[0m\u001b[37m\u001b[0m \u001b[1m0s\u001b[0m 46ms/step\n"
          ]
        },
        {
          "output_type": "stream",
          "name": "stderr",
          "text": [
            "Optimizing chunk 3:  36%|███▋      | 4/11 [38:13<1:01:54, 530.63s/it]"
          ]
        },
        {
          "output_type": "stream",
          "name": "stdout",
          "text": [
            "[I 2025-05-01 11:56:14,060] Trial 2 finished with value: 0.04835164156511044 and parameters: {'lookback': 51, 'units': 91, 'dropout': 0.23972032143834474, 'batch_size': 64, 'epochs': 27}. Best is trial 0 with value: 0.047389712562205914.\n",
            "\u001b[1m6/6\u001b[0m \u001b[32m━━━━━━━━━━━━━━━━━━━━\u001b[0m\u001b[37m\u001b[0m \u001b[1m0s\u001b[0m 57ms/step\n"
          ]
        },
        {
          "output_type": "stream",
          "name": "stderr",
          "text": [
            "Optimizing chunk 3:  36%|███▋      | 4/11 [38:50<1:01:54, 530.63s/it]"
          ]
        },
        {
          "output_type": "stream",
          "name": "stdout",
          "text": [
            "[I 2025-05-01 11:56:50,616] Trial 3 finished with value: 0.04753983417167866 and parameters: {'lookback': 51, 'units': 111, 'dropout': 0.4885961079458442, 'batch_size': 64, 'epochs': 28}. Best is trial 0 with value: 0.047389712562205914.\n",
            "\u001b[1m6/6\u001b[0m \u001b[32m━━━━━━━━━━━━━━━━━━━━\u001b[0m\u001b[37m\u001b[0m \u001b[1m1s\u001b[0m 68ms/step\n"
          ]
        },
        {
          "output_type": "stream",
          "name": "stderr",
          "text": [
            "Optimizing chunk 3:  36%|███▋      | 4/11 [39:44<1:01:54, 530.63s/it]"
          ]
        },
        {
          "output_type": "stream",
          "name": "stdout",
          "text": [
            "[I 2025-05-01 11:57:45,252] Trial 4 finished with value: 0.04770936013036305 and parameters: {'lookback': 56, 'units': 176, 'dropout': 0.33670206186593205, 'batch_size': 64, 'epochs': 25}. Best is trial 0 with value: 0.047389712562205914.\n",
            "\u001b[1m7/7\u001b[0m \u001b[32m━━━━━━━━━━━━━━━━━━━━\u001b[0m\u001b[37m\u001b[0m \u001b[1m0s\u001b[0m 33ms/step\n"
          ]
        },
        {
          "output_type": "stream",
          "name": "stderr",
          "text": [
            "Optimizing chunk 3:  36%|███▋      | 4/11 [39:53<1:01:54, 530.63s/it]"
          ]
        },
        {
          "output_type": "stream",
          "name": "stdout",
          "text": [
            "[I 2025-05-01 11:57:54,161] Trial 5 finished with value: 0.05068578722107773 and parameters: {'lookback': 11, 'units': 41, 'dropout': 0.23542734269823226, 'batch_size': 32, 'epochs': 20}. Best is trial 0 with value: 0.047389712562205914.\n",
            "\u001b[1m7/7\u001b[0m \u001b[32m━━━━━━━━━━━━━━━━━━━━\u001b[0m\u001b[37m\u001b[0m \u001b[1m0s\u001b[0m 37ms/step\n"
          ]
        },
        {
          "output_type": "stream",
          "name": "stderr",
          "text": [
            "Optimizing chunk 3:  36%|███▋      | 4/11 [40:03<1:01:54, 530.63s/it]"
          ]
        },
        {
          "output_type": "stream",
          "name": "stdout",
          "text": [
            "[I 2025-05-01 11:58:03,461] Trial 6 finished with value: 0.037271127319841856 and parameters: {'lookback': 1, 'units': 222, 'dropout': 0.13431769361681806, 'batch_size': 64, 'epochs': 27}. Best is trial 6 with value: 0.037271127319841856.\n",
            "\u001b[1m7/7\u001b[0m \u001b[32m━━━━━━━━━━━━━━━━━━━━\u001b[0m\u001b[37m\u001b[0m \u001b[1m0s\u001b[0m 43ms/step\n"
          ]
        },
        {
          "output_type": "stream",
          "name": "stderr",
          "text": [
            "Optimizing chunk 3:  36%|███▋      | 4/11 [40:39<1:01:54, 530.63s/it]"
          ]
        },
        {
          "output_type": "stream",
          "name": "stdout",
          "text": [
            "[I 2025-05-01 11:58:40,295] Trial 7 finished with value: 0.044284501128032096 and parameters: {'lookback': 26, 'units': 180, 'dropout': 0.43594164743146, 'batch_size': 32, 'epochs': 30}. Best is trial 6 with value: 0.037271127319841856.\n",
            "\u001b[1m7/7\u001b[0m \u001b[32m━━━━━━━━━━━━━━━━━━━━\u001b[0m\u001b[37m\u001b[0m \u001b[1m0s\u001b[0m 34ms/step\n"
          ]
        },
        {
          "output_type": "stream",
          "name": "stderr",
          "text": [
            "Optimizing chunk 3:  36%|███▋      | 4/11 [40:51<1:01:54, 530.63s/it]"
          ]
        },
        {
          "output_type": "stream",
          "name": "stdout",
          "text": [
            "[I 2025-05-01 11:58:51,512] Trial 8 finished with value: 0.04481965908589519 and parameters: {'lookback': 21, 'units': 63, 'dropout': 0.21225588234814385, 'batch_size': 64, 'epochs': 25}. Best is trial 6 with value: 0.037271127319841856.\n",
            "\u001b[1m7/7\u001b[0m \u001b[32m━━━━━━━━━━━━━━━━━━━━\u001b[0m\u001b[37m\u001b[0m \u001b[1m0s\u001b[0m 39ms/step\n"
          ]
        },
        {
          "output_type": "stream",
          "name": "stderr",
          "text": [
            "Optimizing chunk 3:  36%|███▋      | 4/11 [41:13<1:01:54, 530.63s/it]"
          ]
        },
        {
          "output_type": "stream",
          "name": "stdout",
          "text": [
            "[I 2025-05-01 11:59:13,706] Trial 9 finished with value: 0.043459257114952424 and parameters: {'lookback': 16, 'units': 198, 'dropout': 0.36773900089275957, 'batch_size': 64, 'epochs': 26}. Best is trial 6 with value: 0.037271127319841856.\n",
            "\u001b[1m7/7\u001b[0m \u001b[32m━━━━━━━━━━━━━━━━━━━━\u001b[0m\u001b[37m\u001b[0m \u001b[1m0s\u001b[0m 32ms/step\n"
          ]
        },
        {
          "output_type": "stream",
          "name": "stderr",
          "text": [
            "Optimizing chunk 3:  36%|███▋      | 4/11 [41:22<1:01:54, 530.63s/it]"
          ]
        },
        {
          "output_type": "stream",
          "name": "stdout",
          "text": [
            "[I 2025-05-01 11:59:22,945] Trial 10 finished with value: 0.03721350868241233 and parameters: {'lookback': 1, 'units': 248, 'dropout': 0.12370914067315295, 'batch_size': 32, 'epochs': 35}. Best is trial 10 with value: 0.03721350868241233.\n",
            "\u001b[1m7/7\u001b[0m \u001b[32m━━━━━━━━━━━━━━━━━━━━\u001b[0m\u001b[37m\u001b[0m \u001b[1m0s\u001b[0m 36ms/step\n"
          ]
        },
        {
          "output_type": "stream",
          "name": "stderr",
          "text": [
            "Optimizing chunk 3:  36%|███▋      | 4/11 [41:29<1:01:54, 530.63s/it]"
          ]
        },
        {
          "output_type": "stream",
          "name": "stdout",
          "text": [
            "[I 2025-05-01 11:59:29,841] Trial 11 finished with value: 0.03782905114688594 and parameters: {'lookback': 1, 'units': 253, 'dropout': 0.10029947055890381, 'batch_size': 32, 'epochs': 35}. Best is trial 10 with value: 0.03721350868241233.\n",
            "\u001b[1m7/7\u001b[0m \u001b[32m━━━━━━━━━━━━━━━━━━━━\u001b[0m\u001b[37m\u001b[0m \u001b[1m0s\u001b[0m 35ms/step\n"
          ]
        },
        {
          "output_type": "stream",
          "name": "stderr",
          "text": [
            "Optimizing chunk 3:  36%|███▋      | 4/11 [41:37<1:01:54, 530.63s/it]"
          ]
        },
        {
          "output_type": "stream",
          "name": "stdout",
          "text": [
            "[I 2025-05-01 11:59:38,305] Trial 12 finished with value: 0.037315970119837324 and parameters: {'lookback': 1, 'units': 255, 'dropout': 0.12411640682790458, 'batch_size': 32, 'epochs': 35}. Best is trial 10 with value: 0.03721350868241233.\n",
            "\u001b[1m7/7\u001b[0m \u001b[32m━━━━━━━━━━━━━━━━━━━━\u001b[0m\u001b[37m\u001b[0m \u001b[1m0s\u001b[0m 51ms/step\n"
          ]
        },
        {
          "output_type": "stream",
          "name": "stderr",
          "text": [
            "Optimizing chunk 3:  36%|███▋      | 4/11 [42:42<1:01:54, 530.63s/it]"
          ]
        },
        {
          "output_type": "stream",
          "name": "stdout",
          "text": [
            "[I 2025-05-01 12:00:43,318] Trial 13 finished with value: 0.04278322636006281 and parameters: {'lookback': 36, 'units': 222, 'dropout': 0.1819749357214394, 'batch_size': 32, 'epochs': 32}. Best is trial 10 with value: 0.03721350868241233.\n",
            "\u001b[1m7/7\u001b[0m \u001b[32m━━━━━━━━━━━━━━━━━━━━\u001b[0m\u001b[37m\u001b[0m \u001b[1m0s\u001b[0m 34ms/step\n"
          ]
        },
        {
          "output_type": "stream",
          "name": "stderr",
          "text": [
            "Optimizing chunk 3:  36%|███▋      | 4/11 [43:00<1:01:54, 530.63s/it]"
          ]
        },
        {
          "output_type": "stream",
          "name": "stdout",
          "text": [
            "[I 2025-05-01 12:01:00,784] Trial 14 finished with value: 0.04516379362272056 and parameters: {'lookback': 11, 'units': 135, 'dropout': 0.15826480539784882, 'batch_size': 32, 'epochs': 22}. Best is trial 10 with value: 0.03721350868241233.\n",
            "\u001b[1m7/7\u001b[0m \u001b[32m━━━━━━━━━━━━━━━━━━━━\u001b[0m\u001b[37m\u001b[0m \u001b[1m0s\u001b[0m 35ms/step\n"
          ]
        },
        {
          "output_type": "stream",
          "name": "stderr",
          "text": [
            "Optimizing chunk 3:  36%|███▋      | 4/11 [43:07<1:01:54, 530.63s/it]"
          ]
        },
        {
          "output_type": "stream",
          "name": "stdout",
          "text": [
            "[I 2025-05-01 12:01:07,797] Trial 15 finished with value: 0.03679020118146184 and parameters: {'lookback': 1, 'units': 227, 'dropout': 0.29765939942532965, 'batch_size': 32, 'epochs': 32}. Best is trial 15 with value: 0.03679020118146184.\n",
            "\u001b[1m7/7\u001b[0m \u001b[32m━━━━━━━━━━━━━━━━━━━━\u001b[0m\u001b[37m\u001b[0m \u001b[1m1s\u001b[0m 61ms/step\n"
          ]
        },
        {
          "output_type": "stream",
          "name": "stderr",
          "text": [
            "Optimizing chunk 3:  36%|███▋      | 4/11 [44:24<1:01:54, 530.63s/it]"
          ]
        },
        {
          "output_type": "stream",
          "name": "stdout",
          "text": [
            "[I 2025-05-01 12:02:24,582] Trial 16 finished with value: 0.0424070668483639 and parameters: {'lookback': 36, 'units': 226, 'dropout': 0.28601641259109467, 'batch_size': 32, 'epochs': 33}. Best is trial 15 with value: 0.03679020118146184.\n",
            "\u001b[1m7/7\u001b[0m \u001b[32m━━━━━━━━━━━━━━━━━━━━\u001b[0m\u001b[37m\u001b[0m \u001b[1m0s\u001b[0m 39ms/step\n"
          ]
        },
        {
          "output_type": "stream",
          "name": "stderr",
          "text": [
            "Optimizing chunk 3:  36%|███▋      | 4/11 [44:48<1:01:54, 530.63s/it]"
          ]
        },
        {
          "output_type": "stream",
          "name": "stdout",
          "text": [
            "[I 2025-05-01 12:02:49,025] Trial 17 finished with value: 0.042060250299413494 and parameters: {'lookback': 11, 'units': 152, 'dropout': 0.299661469560878, 'batch_size': 32, 'epochs': 33}. Best is trial 15 with value: 0.03679020118146184.\n",
            "\u001b[1m7/7\u001b[0m \u001b[32m━━━━━━━━━━━━━━━━━━━━\u001b[0m\u001b[37m\u001b[0m \u001b[1m0s\u001b[0m 46ms/step\n"
          ]
        },
        {
          "output_type": "stream",
          "name": "stderr",
          "text": [
            "Optimizing chunk 3:  36%|███▋      | 4/11 [45:16<1:01:54, 530.63s/it]"
          ]
        },
        {
          "output_type": "stream",
          "name": "stdout",
          "text": [
            "[I 2025-05-01 12:03:17,168] Trial 18 finished with value: 0.043326346223336226 and parameters: {'lookback': 6, 'units': 236, 'dropout': 0.4224229668488816, 'batch_size': 32, 'epochs': 31}. Best is trial 15 with value: 0.03679020118146184.\n",
            "\u001b[1m7/7\u001b[0m \u001b[32m━━━━━━━━━━━━━━━━━━━━\u001b[0m\u001b[37m\u001b[0m \u001b[1m0s\u001b[0m 46ms/step\n"
          ]
        },
        {
          "output_type": "stream",
          "name": "stderr",
          "text": [
            "Optimizing chunk 3:  36%|███▋      | 4/11 [46:04<1:01:54, 530.63s/it]"
          ]
        },
        {
          "output_type": "stream",
          "name": "stdout",
          "text": [
            "[I 2025-05-01 12:04:04,781] Trial 19 finished with value: 0.0459377683600384 and parameters: {'lookback': 31, 'units': 157, 'dropout': 0.27714808564949733, 'batch_size': 32, 'epochs': 34}. Best is trial 15 with value: 0.03679020118146184.\n",
            "\u001b[1m7/7\u001b[0m \u001b[32m━━━━━━━━━━━━━━━━━━━━\u001b[0m\u001b[37m\u001b[0m \u001b[1m0s\u001b[0m 41ms/step\n"
          ]
        },
        {
          "output_type": "stream",
          "name": "stderr",
          "text": [
            "Optimizing chunk 3:  36%|███▋      | 4/11 [46:26<1:01:54, 530.63s/it]"
          ]
        },
        {
          "output_type": "stream",
          "name": "stdout",
          "text": [
            "[I 2025-05-01 12:04:27,032] Trial 20 finished with value: 0.04170544670091926 and parameters: {'lookback': 6, 'units': 203, 'dropout': 0.17775484312631082, 'batch_size': 32, 'epochs': 29}. Best is trial 15 with value: 0.03679020118146184.\n",
            "\u001b[1m7/7\u001b[0m \u001b[32m━━━━━━━━━━━━━━━━━━━━\u001b[0m\u001b[37m\u001b[0m \u001b[1m0s\u001b[0m 35ms/step\n"
          ]
        },
        {
          "output_type": "stream",
          "name": "stderr",
          "text": [
            "Optimizing chunk 3:  36%|███▋      | 4/11 [46:36<1:01:54, 530.63s/it]"
          ]
        },
        {
          "output_type": "stream",
          "name": "stdout",
          "text": [
            "[I 2025-05-01 12:04:37,000] Trial 21 finished with value: 0.03732300733612628 and parameters: {'lookback': 1, 'units': 214, 'dropout': 0.1386076396713331, 'batch_size': 64, 'epochs': 23}. Best is trial 15 with value: 0.03679020118146184.\n",
            "\u001b[1m7/7\u001b[0m \u001b[32m━━━━━━━━━━━━━━━━━━━━\u001b[0m\u001b[37m\u001b[0m \u001b[1m1s\u001b[0m 59ms/step\n"
          ]
        },
        {
          "output_type": "stream",
          "name": "stderr",
          "text": [
            "Optimizing chunk 3:  36%|███▋      | 4/11 [46:47<1:01:54, 530.63s/it]"
          ]
        },
        {
          "output_type": "stream",
          "name": "stdout",
          "text": [
            "[I 2025-05-01 12:04:48,132] Trial 22 finished with value: 0.047878035545508985 and parameters: {'lookback': 6, 'units': 242, 'dropout': 0.19682045752549113, 'batch_size': 32, 'epochs': 32}. Best is trial 15 with value: 0.03679020118146184.\n",
            "\u001b[1m7/7\u001b[0m \u001b[32m━━━━━━━━━━━━━━━━━━━━\u001b[0m\u001b[37m\u001b[0m \u001b[1m0s\u001b[0m 33ms/step\n"
          ]
        },
        {
          "output_type": "stream",
          "name": "stderr",
          "text": [
            "Optimizing chunk 3:  36%|███▋      | 4/11 [46:56<1:01:54, 530.63s/it]"
          ]
        },
        {
          "output_type": "stream",
          "name": "stdout",
          "text": [
            "[I 2025-05-01 12:04:56,881] Trial 23 finished with value: 0.037111401345660065 and parameters: {'lookback': 1, 'units': 216, 'dropout': 0.10036472577373277, 'batch_size': 64, 'epochs': 35}. Best is trial 15 with value: 0.03679020118146184.\n",
            "\u001b[1m7/7\u001b[0m \u001b[32m━━━━━━━━━━━━━━━━━━━━\u001b[0m\u001b[37m\u001b[0m \u001b[1m0s\u001b[0m 39ms/step\n"
          ]
        },
        {
          "output_type": "stream",
          "name": "stderr",
          "text": [
            "Optimizing chunk 3:  36%|███▋      | 4/11 [47:27<1:01:54, 530.63s/it]"
          ]
        },
        {
          "output_type": "stream",
          "name": "stdout",
          "text": [
            "[I 2025-05-01 12:05:27,502] Trial 24 finished with value: 0.04418619653310979 and parameters: {'lookback': 16, 'units': 175, 'dropout': 0.11208533420346348, 'batch_size': 32, 'epochs': 35}. Best is trial 15 with value: 0.03679020118146184.\n",
            "\u001b[1m7/7\u001b[0m \u001b[32m━━━━━━━━━━━━━━━━━━━━\u001b[0m\u001b[37m\u001b[0m \u001b[1m0s\u001b[0m 39ms/step\n"
          ]
        },
        {
          "output_type": "stream",
          "name": "stderr",
          "text": [
            "Optimizing chunk 3:  36%|███▋      | 4/11 [47:39<1:01:54, 530.63s/it]"
          ]
        },
        {
          "output_type": "stream",
          "name": "stdout",
          "text": [
            "[I 2025-05-01 12:05:40,154] Trial 25 finished with value: 0.048535027641759314 and parameters: {'lookback': 6, 'units': 239, 'dropout': 0.23440591773782782, 'batch_size': 32, 'epochs': 33}. Best is trial 15 with value: 0.03679020118146184.\n",
            "\u001b[1m7/7\u001b[0m \u001b[32m━━━━━━━━━━━━━━━━━━━━\u001b[0m\u001b[37m\u001b[0m \u001b[1m0s\u001b[0m 40ms/step\n"
          ]
        },
        {
          "output_type": "stream",
          "name": "stderr",
          "text": [
            "Optimizing chunk 3:  36%|███▋      | 4/11 [48:02<1:01:54, 530.63s/it]"
          ]
        },
        {
          "output_type": "stream",
          "name": "stdout",
          "text": [
            "[I 2025-05-01 12:06:03,278] Trial 26 finished with value: 0.046806358038038114 and parameters: {'lookback': 16, 'units': 205, 'dropout': 0.15457024249164059, 'batch_size': 64, 'epochs': 34}. Best is trial 15 with value: 0.03679020118146184.\n",
            "\u001b[1m7/7\u001b[0m \u001b[32m━━━━━━━━━━━━━━━━━━━━\u001b[0m\u001b[37m\u001b[0m \u001b[1m0s\u001b[0m 38ms/step\n"
          ]
        },
        {
          "output_type": "stream",
          "name": "stderr",
          "text": [
            "Optimizing chunk 3:  36%|███▋      | 4/11 [48:11<1:01:54, 530.63s/it]"
          ]
        },
        {
          "output_type": "stream",
          "name": "stdout",
          "text": [
            "[I 2025-05-01 12:06:12,064] Trial 27 finished with value: 0.036804801105953966 and parameters: {'lookback': 1, 'units': 255, 'dropout': 0.328479650066334, 'batch_size': 32, 'epochs': 31}. Best is trial 15 with value: 0.03679020118146184.\n",
            "\u001b[1m7/7\u001b[0m \u001b[32m━━━━━━━━━━━━━━━━━━━━\u001b[0m\u001b[37m\u001b[0m \u001b[1m0s\u001b[0m 37ms/step\n"
          ]
        },
        {
          "output_type": "stream",
          "name": "stderr",
          "text": [
            "Optimizing chunk 3:  36%|███▋      | 4/11 [48:31<1:01:54, 530.63s/it]"
          ]
        },
        {
          "output_type": "stream",
          "name": "stdout",
          "text": [
            "[I 2025-05-01 12:06:32,047] Trial 28 finished with value: 0.046212322769734034 and parameters: {'lookback': 11, 'units': 132, 'dropout': 0.3254341569962528, 'batch_size': 64, 'epochs': 31}. Best is trial 15 with value: 0.03679020118146184.\n",
            "\u001b[1m7/7\u001b[0m \u001b[32m━━━━━━━━━━━━━━━━━━━━\u001b[0m\u001b[37m\u001b[0m \u001b[1m0s\u001b[0m 43ms/step\n"
          ]
        },
        {
          "output_type": "stream",
          "name": "stderr",
          "text": [
            "Optimizing chunk 3:  36%|███▋      | 4/11 [49:05<1:01:54, 530.63s/it]"
          ]
        },
        {
          "output_type": "stream",
          "name": "stdout",
          "text": [
            "[I 2025-05-01 12:07:05,863] Trial 29 finished with value: 0.04566354189003475 and parameters: {'lookback': 21, 'units': 188, 'dropout': 0.401745837627777, 'batch_size': 64, 'epochs': 29}. Best is trial 15 with value: 0.03679020118146184.\n"
          ]
        },
        {
          "output_type": "stream",
          "name": "stderr",
          "text": [
            "\rOptimizing chunk 3:  45%|████▌     | 5/11 [49:05<1:00:33, 605.55s/it][I 2025-05-01 12:07:05,902] A new study created in memory with name: no-name-831ddfe5-d2d0-43e0-8503-3d6bda87a1fe\n"
          ]
        },
        {
          "output_type": "stream",
          "name": "stdout",
          "text": [
            "✅ Done: QCOM.O — Best Params: {'lookback': 1, 'units': 227, 'dropout': 0.29765939942532965, 'batch_size': 32, 'epochs': 32}\n",
            "\n",
            "🔍 Optimizing for ROP.O...\n"
          ]
        },
        {
          "output_type": "display_data",
          "data": {
            "text/plain": [
              "  0%|          | 0/30 [00:00<?, ?it/s]"
            ],
            "application/vnd.jupyter.widget-view+json": {
              "version_major": 2,
              "version_minor": 0,
              "model_id": "059a18f508434e168ad4f786ce0f6eff"
            }
          },
          "metadata": {}
        },
        {
          "output_type": "stream",
          "name": "stdout",
          "text": [
            "\u001b[1m7/7\u001b[0m \u001b[32m━━━━━━━━━━━━━━━━━━━━\u001b[0m\u001b[37m\u001b[0m \u001b[1m0s\u001b[0m 41ms/step\n"
          ]
        },
        {
          "output_type": "stream",
          "name": "stderr",
          "text": [
            "Optimizing chunk 3:  45%|████▌     | 5/11 [49:16<1:00:33, 605.55s/it]"
          ]
        },
        {
          "output_type": "stream",
          "name": "stdout",
          "text": [
            "[I 2025-05-01 12:07:17,124] Trial 0 finished with value: 0.047180416549440746 and parameters: {'lookback': 16, 'units': 57, 'dropout': 0.2856247901521374, 'batch_size': 64, 'epochs': 35}. Best is trial 0 with value: 0.047180416549440746.\n",
            "\u001b[1m7/7\u001b[0m \u001b[32m━━━━━━━━━━━━━━━━━━━━\u001b[0m\u001b[37m\u001b[0m \u001b[1m1s\u001b[0m 56ms/step\n"
          ]
        },
        {
          "output_type": "stream",
          "name": "stderr",
          "text": [
            "Optimizing chunk 3:  45%|████▌     | 5/11 [49:25<1:00:33, 605.55s/it]"
          ]
        },
        {
          "output_type": "stream",
          "name": "stdout",
          "text": [
            "[I 2025-05-01 12:07:25,958] Trial 1 finished with value: 0.04631409923462928 and parameters: {'lookback': 6, 'units': 226, 'dropout': 0.13799082872987573, 'batch_size': 64, 'epochs': 29}. Best is trial 1 with value: 0.04631409923462928.\n",
            "\u001b[1m6/6\u001b[0m \u001b[32m━━━━━━━━━━━━━━━━━━━━\u001b[0m\u001b[37m\u001b[0m \u001b[1m1s\u001b[0m 63ms/step\n"
          ]
        },
        {
          "output_type": "stream",
          "name": "stderr",
          "text": [
            "Optimizing chunk 3:  45%|████▌     | 5/11 [50:01<1:00:33, 605.55s/it]"
          ]
        },
        {
          "output_type": "stream",
          "name": "stdout",
          "text": [
            "[I 2025-05-01 12:08:01,397] Trial 2 finished with value: 0.0469989567547523 and parameters: {'lookback': 51, 'units': 145, 'dropout': 0.42544627666632606, 'batch_size': 64, 'epochs': 20}. Best is trial 1 with value: 0.04631409923462928.\n",
            "\u001b[1m6/6\u001b[0m \u001b[32m━━━━━━━━━━━━━━━━━━━━\u001b[0m\u001b[37m\u001b[0m \u001b[1m1s\u001b[0m 100ms/step\n"
          ]
        },
        {
          "output_type": "stream",
          "name": "stderr",
          "text": [
            "Optimizing chunk 3:  45%|████▌     | 5/11 [50:39<1:00:33, 605.55s/it]"
          ]
        },
        {
          "output_type": "stream",
          "name": "stdout",
          "text": [
            "[I 2025-05-01 12:08:39,681] Trial 3 finished with value: 0.04566967875465201 and parameters: {'lookback': 56, 'units': 114, 'dropout': 0.2262218970674943, 'batch_size': 64, 'epochs': 29}. Best is trial 3 with value: 0.04566967875465201.\n",
            "\u001b[1m6/6\u001b[0m \u001b[32m━━━━━━━━━━━━━━━━━━━━\u001b[0m\u001b[37m\u001b[0m \u001b[1m0s\u001b[0m 45ms/step\n"
          ]
        },
        {
          "output_type": "stream",
          "name": "stderr",
          "text": [
            "Optimizing chunk 3:  45%|████▌     | 5/11 [51:08<1:00:33, 605.55s/it]"
          ]
        },
        {
          "output_type": "stream",
          "name": "stdout",
          "text": [
            "[I 2025-05-01 12:09:08,768] Trial 4 finished with value: 0.04630808610958079 and parameters: {'lookback': 56, 'units': 38, 'dropout': 0.16984607086678896, 'batch_size': 32, 'epochs': 35}. Best is trial 3 with value: 0.04566967875465201.\n",
            "\u001b[1m7/7\u001b[0m \u001b[32m━━━━━━━━━━━━━━━━━━━━\u001b[0m\u001b[37m\u001b[0m \u001b[1m0s\u001b[0m 41ms/step\n"
          ]
        },
        {
          "output_type": "stream",
          "name": "stderr",
          "text": [
            "Optimizing chunk 3:  45%|████▌     | 5/11 [51:22<1:00:33, 605.55s/it]"
          ]
        },
        {
          "output_type": "stream",
          "name": "stdout",
          "text": [
            "[I 2025-05-01 12:09:23,176] Trial 5 finished with value: 0.04940067140630428 and parameters: {'lookback': 31, 'units': 37, 'dropout': 0.1622403057136249, 'batch_size': 32, 'epochs': 21}. Best is trial 3 with value: 0.04566967875465201.\n",
            "\u001b[1m7/7\u001b[0m \u001b[32m━━━━━━━━━━━━━━━━━━━━\u001b[0m\u001b[37m\u001b[0m \u001b[1m0s\u001b[0m 33ms/step\n"
          ]
        },
        {
          "output_type": "stream",
          "name": "stderr",
          "text": [
            "Optimizing chunk 3:  45%|████▌     | 5/11 [51:30<1:00:33, 605.55s/it]"
          ]
        },
        {
          "output_type": "stream",
          "name": "stdout",
          "text": [
            "[I 2025-05-01 12:09:30,840] Trial 6 finished with value: 0.04672514350133035 and parameters: {'lookback': 11, 'units': 45, 'dropout': 0.21050031404743855, 'batch_size': 32, 'epochs': 33}. Best is trial 3 with value: 0.04566967875465201.\n",
            "\u001b[1m6/6\u001b[0m \u001b[32m━━━━━━━━━━━━━━━━━━━━\u001b[0m\u001b[37m\u001b[0m \u001b[1m1s\u001b[0m 80ms/step\n"
          ]
        },
        {
          "output_type": "stream",
          "name": "stderr",
          "text": [
            "Optimizing chunk 3:  45%|████▌     | 5/11 [52:34<1:00:33, 605.55s/it]"
          ]
        },
        {
          "output_type": "stream",
          "name": "stdout",
          "text": [
            "[I 2025-05-01 12:10:34,410] Trial 7 finished with value: 0.04402167167051067 and parameters: {'lookback': 51, 'units': 234, 'dropout': 0.10704228924960178, 'batch_size': 64, 'epochs': 26}. Best is trial 7 with value: 0.04402167167051067.\n",
            "\u001b[1m7/7\u001b[0m \u001b[32m━━━━━━━━━━━━━━━━━━━━\u001b[0m\u001b[37m\u001b[0m \u001b[1m0s\u001b[0m 39ms/step\n"
          ]
        },
        {
          "output_type": "stream",
          "name": "stderr",
          "text": [
            "Optimizing chunk 3:  45%|████▌     | 5/11 [52:47<1:00:33, 605.55s/it]"
          ]
        },
        {
          "output_type": "stream",
          "name": "stdout",
          "text": [
            "[I 2025-05-01 12:10:47,687] Trial 8 finished with value: 0.04572540423216278 and parameters: {'lookback': 16, 'units': 99, 'dropout': 0.3732079734395345, 'batch_size': 64, 'epochs': 25}. Best is trial 7 with value: 0.04402167167051067.\n",
            "\u001b[1m7/7\u001b[0m \u001b[32m━━━━━━━━━━━━━━━━━━━━\u001b[0m\u001b[37m\u001b[0m \u001b[1m0s\u001b[0m 36ms/step\n"
          ]
        },
        {
          "output_type": "stream",
          "name": "stderr",
          "text": [
            "Optimizing chunk 3:  45%|████▌     | 5/11 [53:00<1:00:33, 605.55s/it]"
          ]
        },
        {
          "output_type": "stream",
          "name": "stdout",
          "text": [
            "[I 2025-05-01 12:11:00,531] Trial 9 finished with value: 0.04811712370289 and parameters: {'lookback': 36, 'units': 35, 'dropout': 0.24581245078739702, 'batch_size': 64, 'epochs': 28}. Best is trial 7 with value: 0.04402167167051067.\n",
            "\u001b[1m7/7\u001b[0m \u001b[32m━━━━━━━━━━━━━━━━━━━━\u001b[0m\u001b[37m\u001b[0m \u001b[1m1s\u001b[0m 58ms/step\n"
          ]
        },
        {
          "output_type": "stream",
          "name": "stderr",
          "text": [
            "Optimizing chunk 3:  45%|████▌     | 5/11 [53:49<1:00:33, 605.55s/it]"
          ]
        },
        {
          "output_type": "stream",
          "name": "stdout",
          "text": [
            "[I 2025-05-01 12:11:49,882] Trial 10 finished with value: 0.04636992346005565 and parameters: {'lookback': 41, 'units': 252, 'dropout': 0.1015153601124069, 'batch_size': 32, 'epochs': 24}. Best is trial 7 with value: 0.04402167167051067.\n",
            "\u001b[1m6/6\u001b[0m \u001b[32m━━━━━━━━━━━━━━━━━━━━\u001b[0m\u001b[37m\u001b[0m \u001b[1m0s\u001b[0m 27ms/step\n"
          ]
        },
        {
          "output_type": "stream",
          "name": "stderr",
          "text": [
            "Optimizing chunk 3:  45%|████▌     | 5/11 [54:34<1:00:33, 605.55s/it]"
          ]
        },
        {
          "output_type": "stream",
          "name": "stdout",
          "text": [
            "[I 2025-05-01 12:12:34,865] Trial 11 finished with value: 0.04725118522245303 and parameters: {'lookback': 46, 'units': 172, 'dropout': 0.3594224655186051, 'batch_size': 64, 'epochs': 31}. Best is trial 7 with value: 0.04402167167051067.\n",
            "\u001b[1m6/6\u001b[0m \u001b[32m━━━━━━━━━━━━━━━━━━━━\u001b[0m\u001b[37m\u001b[0m \u001b[1m1s\u001b[0m 72ms/step\n"
          ]
        },
        {
          "output_type": "stream",
          "name": "stderr",
          "text": [
            "Optimizing chunk 3:  45%|████▌     | 5/11 [55:08<1:00:33, 605.55s/it]"
          ]
        },
        {
          "output_type": "stream",
          "name": "stdout",
          "text": [
            "[I 2025-05-01 12:13:08,746] Trial 12 finished with value: 0.04545461886875984 and parameters: {'lookback': 56, 'units': 183, 'dropout': 0.2272222734198743, 'batch_size': 64, 'epochs': 25}. Best is trial 7 with value: 0.04402167167051067.\n",
            "\u001b[1m6/6\u001b[0m \u001b[32m━━━━━━━━━━━━━━━━━━━━\u001b[0m\u001b[37m\u001b[0m \u001b[1m0s\u001b[0m 36ms/step\n"
          ]
        },
        {
          "output_type": "stream",
          "name": "stderr",
          "text": [
            "Optimizing chunk 3:  45%|████▌     | 5/11 [55:57<1:00:33, 605.55s/it]"
          ]
        },
        {
          "output_type": "stream",
          "name": "stdout",
          "text": [
            "[I 2025-05-01 12:13:57,420] Trial 13 finished with value: 0.045570625171938994 and parameters: {'lookback': 46, 'units': 205, 'dropout': 0.2855520749567566, 'batch_size': 64, 'epochs': 25}. Best is trial 7 with value: 0.04402167167051067.\n",
            "\u001b[1m7/7\u001b[0m \u001b[32m━━━━━━━━━━━━━━━━━━━━\u001b[0m\u001b[37m\u001b[0m \u001b[1m1s\u001b[0m 70ms/step\n"
          ]
        },
        {
          "output_type": "stream",
          "name": "stderr",
          "text": [
            "Optimizing chunk 3:  45%|████▌     | 5/11 [56:28<1:00:33, 605.55s/it]"
          ]
        },
        {
          "output_type": "stream",
          "name": "stdout",
          "text": [
            "[I 2025-05-01 12:14:28,993] Trial 14 finished with value: 0.043929894550195574 and parameters: {'lookback': 26, 'units': 189, 'dropout': 0.10099137304516662, 'batch_size': 64, 'epochs': 22}. Best is trial 14 with value: 0.043929894550195574.\n",
            "\u001b[1m7/7\u001b[0m \u001b[32m━━━━━━━━━━━━━━━━━━━━\u001b[0m\u001b[37m\u001b[0m \u001b[1m1s\u001b[0m 57ms/step\n"
          ]
        },
        {
          "output_type": "stream",
          "name": "stderr",
          "text": [
            "Optimizing chunk 3:  45%|████▌     | 5/11 [57:04<1:00:33, 605.55s/it]"
          ]
        },
        {
          "output_type": "stream",
          "name": "stdout",
          "text": [
            "[I 2025-05-01 12:15:05,287] Trial 15 finished with value: 0.04476342920572288 and parameters: {'lookback': 26, 'units': 251, 'dropout': 0.10115826389285222, 'batch_size': 64, 'epochs': 23}. Best is trial 14 with value: 0.043929894550195574.\n",
            "\u001b[1m7/7\u001b[0m \u001b[32m━━━━━━━━━━━━━━━━━━━━\u001b[0m\u001b[37m\u001b[0m \u001b[1m1s\u001b[0m 58ms/step\n"
          ]
        },
        {
          "output_type": "stream",
          "name": "stderr",
          "text": [
            "Optimizing chunk 3:  45%|████▌     | 5/11 [57:32<1:00:33, 605.55s/it]"
          ]
        },
        {
          "output_type": "stream",
          "name": "stdout",
          "text": [
            "[I 2025-05-01 12:15:33,245] Trial 16 finished with value: 0.04368270944862241 and parameters: {'lookback': 26, 'units': 215, 'dropout': 0.49256377477783464, 'batch_size': 64, 'epochs': 22}. Best is trial 16 with value: 0.04368270944862241.\n",
            "\u001b[1m7/7\u001b[0m \u001b[32m━━━━━━━━━━━━━━━━━━━━\u001b[0m\u001b[37m\u001b[0m \u001b[1m1s\u001b[0m 61ms/step\n"
          ]
        },
        {
          "output_type": "stream",
          "name": "stderr",
          "text": [
            "Optimizing chunk 3:  45%|████▌     | 5/11 [58:04<1:00:33, 605.55s/it]"
          ]
        },
        {
          "output_type": "stream",
          "name": "stdout",
          "text": [
            "[I 2025-05-01 12:16:04,443] Trial 17 finished with value: 0.046594199538060675 and parameters: {'lookback': 26, 'units': 193, 'dropout': 0.4740300394800754, 'batch_size': 64, 'epochs': 22}. Best is trial 16 with value: 0.04368270944862241.\n",
            "\u001b[1m7/7\u001b[0m \u001b[32m━━━━━━━━━━━━━━━━━━━━\u001b[0m\u001b[37m\u001b[0m \u001b[1m0s\u001b[0m 42ms/step\n"
          ]
        },
        {
          "output_type": "stream",
          "name": "stderr",
          "text": [
            "Optimizing chunk 3:  45%|████▌     | 5/11 [58:27<1:00:33, 605.55s/it]"
          ]
        },
        {
          "output_type": "stream",
          "name": "stdout",
          "text": [
            "[I 2025-05-01 12:16:27,763] Trial 18 finished with value: 0.04504454388856719 and parameters: {'lookback': 21, 'units': 155, 'dropout': 0.4939013703430575, 'batch_size': 32, 'epochs': 20}. Best is trial 16 with value: 0.04368270944862241.\n",
            "\u001b[1m7/7\u001b[0m \u001b[32m━━━━━━━━━━━━━━━━━━━━\u001b[0m\u001b[37m\u001b[0m \u001b[1m0s\u001b[0m 40ms/step\n"
          ]
        },
        {
          "output_type": "stream",
          "name": "stderr",
          "text": [
            "Optimizing chunk 3:  45%|████▌     | 5/11 [58:37<1:00:33, 605.55s/it]"
          ]
        },
        {
          "output_type": "stream",
          "name": "stdout",
          "text": [
            "[I 2025-05-01 12:16:37,895] Trial 19 finished with value: 0.03003247052768765 and parameters: {'lookback': 1, 'units': 213, 'dropout': 0.3349694827497443, 'batch_size': 64, 'epochs': 22}. Best is trial 19 with value: 0.03003247052768765.\n",
            "\u001b[1m7/7\u001b[0m \u001b[32m━━━━━━━━━━━━━━━━━━━━\u001b[0m\u001b[37m\u001b[0m \u001b[1m0s\u001b[0m 38ms/step\n"
          ]
        },
        {
          "output_type": "stream",
          "name": "stderr",
          "text": [
            "Optimizing chunk 3:  45%|████▌     | 5/11 [58:48<1:00:33, 605.55s/it]"
          ]
        },
        {
          "output_type": "stream",
          "name": "stdout",
          "text": [
            "[I 2025-05-01 12:16:48,822] Trial 20 finished with value: 0.029921070565023623 and parameters: {'lookback': 1, 'units': 224, 'dropout': 0.35430182633583596, 'batch_size': 64, 'epochs': 27}. Best is trial 20 with value: 0.029921070565023623.\n",
            "\u001b[1m7/7\u001b[0m \u001b[32m━━━━━━━━━━━━━━━━━━━━\u001b[0m\u001b[37m\u001b[0m \u001b[1m0s\u001b[0m 41ms/step\n"
          ]
        },
        {
          "output_type": "stream",
          "name": "stderr",
          "text": [
            "Optimizing chunk 3:  45%|████▌     | 5/11 [58:59<1:00:33, 605.55s/it]"
          ]
        },
        {
          "output_type": "stream",
          "name": "stdout",
          "text": [
            "[I 2025-05-01 12:16:59,577] Trial 21 finished with value: 0.0295308503418707 and parameters: {'lookback': 1, 'units': 224, 'dropout': 0.35384476310108254, 'batch_size': 64, 'epochs': 27}. Best is trial 21 with value: 0.0295308503418707.\n",
            "\u001b[1m7/7\u001b[0m \u001b[32m━━━━━━━━━━━━━━━━━━━━\u001b[0m\u001b[37m\u001b[0m \u001b[1m0s\u001b[0m 45ms/step\n"
          ]
        },
        {
          "output_type": "stream",
          "name": "stderr",
          "text": [
            "Optimizing chunk 3:  45%|████▌     | 5/11 [59:10<1:00:33, 605.55s/it]"
          ]
        },
        {
          "output_type": "stream",
          "name": "stdout",
          "text": [
            "[I 2025-05-01 12:17:10,821] Trial 22 finished with value: 0.029888775841798505 and parameters: {'lookback': 1, 'units': 231, 'dropout': 0.3375929077233693, 'batch_size': 64, 'epochs': 27}. Best is trial 21 with value: 0.0295308503418707.\n",
            "\u001b[1m7/7\u001b[0m \u001b[32m━━━━━━━━━━━━━━━━━━━━\u001b[0m\u001b[37m\u001b[0m \u001b[1m0s\u001b[0m 40ms/step\n"
          ]
        },
        {
          "output_type": "stream",
          "name": "stderr",
          "text": [
            "Optimizing chunk 3:  45%|████▌     | 5/11 [59:21<1:00:33, 605.55s/it]"
          ]
        },
        {
          "output_type": "stream",
          "name": "stdout",
          "text": [
            "[I 2025-05-01 12:17:22,163] Trial 23 finished with value: 0.029766167834150113 and parameters: {'lookback': 1, 'units': 235, 'dropout': 0.4080120202333541, 'batch_size': 64, 'epochs': 27}. Best is trial 21 with value: 0.0295308503418707.\n",
            "\u001b[1m7/7\u001b[0m \u001b[32m━━━━━━━━━━━━━━━━━━━━\u001b[0m\u001b[37m\u001b[0m \u001b[1m0s\u001b[0m 38ms/step\n"
          ]
        },
        {
          "output_type": "stream",
          "name": "stderr",
          "text": [
            "Optimizing chunk 3:  45%|████▌     | 5/11 [59:29<1:00:33, 605.55s/it]"
          ]
        },
        {
          "output_type": "stream",
          "name": "stdout",
          "text": [
            "[I 2025-05-01 12:17:29,900] Trial 24 finished with value: 0.04457263787781537 and parameters: {'lookback': 6, 'units': 240, 'dropout': 0.41551334257047823, 'batch_size': 64, 'epochs': 30}. Best is trial 21 with value: 0.0295308503418707.\n",
            "\u001b[1m7/7\u001b[0m \u001b[32m━━━━━━━━━━━━━━━━━━━━\u001b[0m\u001b[37m\u001b[0m \u001b[1m0s\u001b[0m 41ms/step\n"
          ]
        },
        {
          "output_type": "stream",
          "name": "stderr",
          "text": [
            "Optimizing chunk 3:  45%|████▌     | 5/11 [59:40<1:00:33, 605.55s/it]"
          ]
        },
        {
          "output_type": "stream",
          "name": "stdout",
          "text": [
            "[I 2025-05-01 12:17:41,353] Trial 25 finished with value: 0.04558790073941533 and parameters: {'lookback': 6, 'units': 164, 'dropout': 0.4055490927629473, 'batch_size': 64, 'epochs': 27}. Best is trial 21 with value: 0.0295308503418707.\n",
            "\u001b[1m7/7\u001b[0m \u001b[32m━━━━━━━━━━━━━━━━━━━━\u001b[0m\u001b[37m\u001b[0m \u001b[1m0s\u001b[0m 37ms/step\n"
          ]
        },
        {
          "output_type": "stream",
          "name": "stderr",
          "text": [
            "Optimizing chunk 3:  45%|████▌     | 5/11 [59:50<1:00:33, 605.55s/it]"
          ]
        },
        {
          "output_type": "stream",
          "name": "stdout",
          "text": [
            "[I 2025-05-01 12:17:50,460] Trial 26 finished with value: 0.029933507565033077 and parameters: {'lookback': 1, 'units': 256, 'dropout': 0.3184567950913931, 'batch_size': 32, 'epochs': 32}. Best is trial 21 with value: 0.0295308503418707.\n",
            "\u001b[1m7/7\u001b[0m \u001b[32m━━━━━━━━━━━━━━━━━━━━\u001b[0m\u001b[37m\u001b[0m \u001b[1m0s\u001b[0m 40ms/step\n"
          ]
        },
        {
          "output_type": "stream",
          "name": "stderr",
          "text": [
            "Optimizing chunk 3:  45%|████▌     | 5/11 [1:00:05<1:00:33, 605.55s/it]"
          ]
        },
        {
          "output_type": "stream",
          "name": "stdout",
          "text": [
            "[I 2025-05-01 12:18:05,666] Trial 27 finished with value: 0.045096212148996125 and parameters: {'lookback': 11, 'units': 108, 'dropout': 0.45273819085669054, 'batch_size': 64, 'epochs': 29}. Best is trial 21 with value: 0.0295308503418707.\n",
            "\u001b[1m7/7\u001b[0m \u001b[32m━━━━━━━━━━━━━━━━━━━━\u001b[0m\u001b[37m\u001b[0m \u001b[1m0s\u001b[0m 46ms/step\n"
          ]
        },
        {
          "output_type": "stream",
          "name": "stderr",
          "text": [
            "Optimizing chunk 3:  45%|████▌     | 5/11 [1:00:24<1:00:33, 605.55s/it]"
          ]
        },
        {
          "output_type": "stream",
          "name": "stdout",
          "text": [
            "[I 2025-05-01 12:18:24,780] Trial 28 finished with value: 0.04448942775684768 and parameters: {'lookback': 11, 'units': 206, 'dropout': 0.38777585949618687, 'batch_size': 64, 'epochs': 26}. Best is trial 21 with value: 0.0295308503418707.\n",
            "\u001b[1m7/7\u001b[0m \u001b[32m━━━━━━━━━━━━━━━━━━━━\u001b[0m\u001b[37m\u001b[0m \u001b[1m0s\u001b[0m 45ms/step\n"
          ]
        },
        {
          "output_type": "stream",
          "name": "stderr",
          "text": [
            "Optimizing chunk 3:  55%|█████▍    | 6/11 [1:00:43<53:05, 637.01s/it]  [I 2025-05-01 12:18:43,998] A new study created in memory with name: no-name-a3db42ee-6fba-48f3-8311-5b6d0f26ad98\n"
          ]
        },
        {
          "output_type": "stream",
          "name": "stdout",
          "text": [
            "[I 2025-05-01 12:18:43,971] Trial 29 finished with value: 0.04418790387448893 and parameters: {'lookback': 16, 'units': 129, 'dropout': 0.29282470103066705, 'batch_size': 64, 'epochs': 28}. Best is trial 21 with value: 0.0295308503418707.\n",
            "✅ Done: ROP.O — Best Params: {'lookback': 1, 'units': 224, 'dropout': 0.35384476310108254, 'batch_size': 64, 'epochs': 27}\n",
            "\n",
            "🔍 Optimizing for SNPS.O...\n"
          ]
        },
        {
          "output_type": "display_data",
          "data": {
            "text/plain": [
              "  0%|          | 0/30 [00:00<?, ?it/s]"
            ],
            "application/vnd.jupyter.widget-view+json": {
              "version_major": 2,
              "version_minor": 0,
              "model_id": "74c1ef9715ef4ca4b99caa2d17d27c46"
            }
          },
          "metadata": {}
        },
        {
          "output_type": "stream",
          "name": "stdout",
          "text": [
            "\u001b[1m7/7\u001b[0m \u001b[32m━━━━━━━━━━━━━━━━━━━━\u001b[0m\u001b[37m\u001b[0m \u001b[1m0s\u001b[0m 44ms/step\n"
          ]
        },
        {
          "output_type": "stream",
          "name": "stderr",
          "text": [
            "Optimizing chunk 3:  55%|█████▍    | 6/11 [1:00:53<53:05, 637.01s/it]"
          ]
        },
        {
          "output_type": "stream",
          "name": "stdout",
          "text": [
            "[I 2025-05-01 12:18:54,309] Trial 0 finished with value: 0.04785756488501164 and parameters: {'lookback': 6, 'units': 235, 'dropout': 0.4507132785365541, 'batch_size': 32, 'epochs': 30}. Best is trial 0 with value: 0.04785756488501164.\n",
            "\u001b[1m7/7\u001b[0m \u001b[32m━━━━━━━━━━━━━━━━━━━━\u001b[0m\u001b[37m\u001b[0m \u001b[1m0s\u001b[0m 35ms/step\n"
          ]
        },
        {
          "output_type": "stream",
          "name": "stderr",
          "text": [
            "Optimizing chunk 3:  55%|█████▍    | 6/11 [1:01:03<53:05, 637.01s/it]"
          ]
        },
        {
          "output_type": "stream",
          "name": "stdout",
          "text": [
            "[I 2025-05-01 12:19:03,748] Trial 1 finished with value: 0.0515274025288077 and parameters: {'lookback': 16, 'units': 46, 'dropout': 0.3521216822408084, 'batch_size': 64, 'epochs': 35}. Best is trial 0 with value: 0.04785756488501164.\n",
            "\u001b[1m6/6\u001b[0m \u001b[32m━━━━━━━━━━━━━━━━━━━━\u001b[0m\u001b[37m\u001b[0m \u001b[1m0s\u001b[0m 46ms/step\n"
          ]
        },
        {
          "output_type": "stream",
          "name": "stderr",
          "text": [
            "Optimizing chunk 3:  55%|█████▍    | 6/11 [1:01:29<53:05, 637.01s/it]"
          ]
        },
        {
          "output_type": "stream",
          "name": "stdout",
          "text": [
            "[I 2025-05-01 12:19:29,840] Trial 2 finished with value: 0.04522139425434045 and parameters: {'lookback': 51, 'units': 70, 'dropout': 0.4608314468974767, 'batch_size': 32, 'epochs': 22}. Best is trial 2 with value: 0.04522139425434045.\n",
            "\u001b[1m7/7\u001b[0m \u001b[32m━━━━━━━━━━━━━━━━━━━━\u001b[0m\u001b[37m\u001b[0m \u001b[1m0s\u001b[0m 35ms/step\n"
          ]
        },
        {
          "output_type": "stream",
          "name": "stderr",
          "text": [
            "Optimizing chunk 3:  55%|█████▍    | 6/11 [1:01:41<53:05, 637.01s/it]"
          ]
        },
        {
          "output_type": "stream",
          "name": "stdout",
          "text": [
            "[I 2025-05-01 12:19:41,894] Trial 3 finished with value: 0.032741823068732634 and parameters: {'lookback': 1, 'units': 246, 'dropout': 0.4096416725226898, 'batch_size': 32, 'epochs': 27}. Best is trial 3 with value: 0.032741823068732634.\n",
            "\u001b[1m7/7\u001b[0m \u001b[32m━━━━━━━━━━━━━━━━━━━━\u001b[0m\u001b[37m\u001b[0m \u001b[1m1s\u001b[0m 41ms/step\n"
          ]
        },
        {
          "output_type": "stream",
          "name": "stderr",
          "text": [
            "Optimizing chunk 3:  55%|█████▍    | 6/11 [1:01:58<53:05, 637.01s/it]"
          ]
        },
        {
          "output_type": "stream",
          "name": "stdout",
          "text": [
            "[I 2025-05-01 12:19:59,121] Trial 4 finished with value: 0.04714215901301531 and parameters: {'lookback': 11, 'units': 110, 'dropout': 0.1257353745434147, 'batch_size': 32, 'epochs': 24}. Best is trial 3 with value: 0.032741823068732634.\n",
            "\u001b[1m6/6\u001b[0m \u001b[32m━━━━━━━━━━━━━━━━━━━━\u001b[0m\u001b[37m\u001b[0m \u001b[1m1s\u001b[0m 73ms/step\n"
          ]
        },
        {
          "output_type": "stream",
          "name": "stderr",
          "text": [
            "Optimizing chunk 3:  55%|█████▍    | 6/11 [1:03:25<53:05, 637.01s/it]"
          ]
        },
        {
          "output_type": "stream",
          "name": "stdout",
          "text": [
            "[I 2025-05-01 12:21:25,879] Trial 5 finished with value: 0.046909501901289265 and parameters: {'lookback': 51, 'units': 240, 'dropout': 0.32189122418603966, 'batch_size': 32, 'epochs': 27}. Best is trial 3 with value: 0.032741823068732634.\n",
            "\u001b[1m7/7\u001b[0m \u001b[32m━━━━━━━━━━━━━━━━━━━━\u001b[0m\u001b[37m\u001b[0m \u001b[1m0s\u001b[0m 36ms/step\n"
          ]
        },
        {
          "output_type": "stream",
          "name": "stderr",
          "text": [
            "Optimizing chunk 3:  55%|█████▍    | 6/11 [1:03:36<53:05, 637.01s/it]"
          ]
        },
        {
          "output_type": "stream",
          "name": "stdout",
          "text": [
            "[I 2025-05-01 12:21:37,184] Trial 6 finished with value: 0.04674875680429853 and parameters: {'lookback': 6, 'units': 159, 'dropout': 0.18124992519864813, 'batch_size': 64, 'epochs': 29}. Best is trial 3 with value: 0.032741823068732634.\n",
            "\u001b[1m6/6\u001b[0m \u001b[32m━━━━━━━━━━━━━━━━━━━━\u001b[0m\u001b[37m\u001b[0m \u001b[1m0s\u001b[0m 11ms/step \n"
          ]
        },
        {
          "output_type": "stream",
          "name": "stderr",
          "text": [
            "Optimizing chunk 3:  55%|█████▍    | 6/11 [1:04:13<53:05, 637.01s/it]"
          ]
        },
        {
          "output_type": "stream",
          "name": "stdout",
          "text": [
            "[I 2025-05-01 12:22:13,628] Trial 7 finished with value: 0.04692529167254743 and parameters: {'lookback': 46, 'units': 75, 'dropout': 0.10209035013038031, 'batch_size': 32, 'epochs': 35}. Best is trial 3 with value: 0.032741823068732634.\n",
            "\u001b[1m7/7\u001b[0m \u001b[32m━━━━━━━━━━━━━━━━━━━━\u001b[0m\u001b[37m\u001b[0m \u001b[1m0s\u001b[0m 35ms/step\n"
          ]
        },
        {
          "output_type": "stream",
          "name": "stderr",
          "text": [
            "Optimizing chunk 3:  55%|█████▍    | 6/11 [1:04:27<53:05, 637.01s/it]"
          ]
        },
        {
          "output_type": "stream",
          "name": "stdout",
          "text": [
            "[I 2025-05-01 12:22:27,760] Trial 8 finished with value: 0.046077162228614486 and parameters: {'lookback': 6, 'units': 190, 'dropout': 0.17534926219568658, 'batch_size': 32, 'epochs': 26}. Best is trial 3 with value: 0.032741823068732634.\n",
            "\u001b[1m7/7\u001b[0m \u001b[32m━━━━━━━━━━━━━━━━━━━━\u001b[0m\u001b[37m\u001b[0m \u001b[1m0s\u001b[0m 33ms/step\n"
          ]
        },
        {
          "output_type": "stream",
          "name": "stderr",
          "text": [
            "Optimizing chunk 3:  55%|█████▍    | 6/11 [1:04:39<53:05, 637.01s/it]"
          ]
        },
        {
          "output_type": "stream",
          "name": "stdout",
          "text": [
            "[I 2025-05-01 12:22:39,924] Trial 9 finished with value: 0.048716163567840254 and parameters: {'lookback': 11, 'units': 51, 'dropout': 0.3927456994377806, 'batch_size': 64, 'epochs': 33}. Best is trial 3 with value: 0.032741823068732634.\n",
            "\u001b[1m7/7\u001b[0m \u001b[32m━━━━━━━━━━━━━━━━━━━━\u001b[0m\u001b[37m\u001b[0m \u001b[1m1s\u001b[0m 57ms/step\n"
          ]
        },
        {
          "output_type": "stream",
          "name": "stderr",
          "text": [
            "Optimizing chunk 3:  55%|█████▍    | 6/11 [1:04:59<53:05, 637.01s/it]"
          ]
        },
        {
          "output_type": "stream",
          "name": "stdout",
          "text": [
            "[I 2025-05-01 12:22:59,500] Trial 10 finished with value: 0.0522911765817637 and parameters: {'lookback': 31, 'units': 193, 'dropout': 0.2564975504002495, 'batch_size': 64, 'epochs': 20}. Best is trial 3 with value: 0.032741823068732634.\n",
            "\u001b[1m7/7\u001b[0m \u001b[32m━━━━━━━━━━━━━━━━━━━━\u001b[0m\u001b[37m\u001b[0m \u001b[1m0s\u001b[0m 41ms/step\n"
          ]
        },
        {
          "output_type": "stream",
          "name": "stderr",
          "text": [
            "Optimizing chunk 3:  55%|█████▍    | 6/11 [1:05:27<53:05, 637.01s/it]"
          ]
        },
        {
          "output_type": "stream",
          "name": "stdout",
          "text": [
            "[I 2025-05-01 12:23:27,756] Trial 11 finished with value: 0.04580957415302764 and parameters: {'lookback': 36, 'units': 112, 'dropout': 0.48732339046255396, 'batch_size': 32, 'epochs': 21}. Best is trial 3 with value: 0.032741823068732634.\n",
            "\u001b[1m6/6\u001b[0m \u001b[32m━━━━━━━━━━━━━━━━━━━━\u001b[0m\u001b[37m\u001b[0m \u001b[1m0s\u001b[0m 55ms/step\n"
          ]
        },
        {
          "output_type": "stream",
          "name": "stderr",
          "text": [
            "Optimizing chunk 3:  55%|█████▍    | 6/11 [1:06:03<53:05, 637.01s/it]"
          ]
        },
        {
          "output_type": "stream",
          "name": "stdout",
          "text": [
            "[I 2025-05-01 12:24:03,501] Trial 12 finished with value: 0.04633996988514907 and parameters: {'lookback': 56, 'units': 110, 'dropout': 0.417782362111193, 'batch_size': 32, 'epochs': 23}. Best is trial 3 with value: 0.032741823068732634.\n",
            "\u001b[1m7/7\u001b[0m \u001b[32m━━━━━━━━━━━━━━━━━━━━\u001b[0m\u001b[37m\u001b[0m \u001b[1m0s\u001b[0m 42ms/step\n"
          ]
        },
        {
          "output_type": "stream",
          "name": "stderr",
          "text": [
            "Optimizing chunk 3:  55%|█████▍    | 6/11 [1:06:35<53:05, 637.01s/it]"
          ]
        },
        {
          "output_type": "stream",
          "name": "stdout",
          "text": [
            "[I 2025-05-01 12:24:36,179] Trial 13 finished with value: 0.046123920197070345 and parameters: {'lookback': 21, 'units': 155, 'dropout': 0.4959925387247464, 'batch_size': 32, 'epochs': 24}. Best is trial 3 with value: 0.032741823068732634.\n",
            "\u001b[1m7/7\u001b[0m \u001b[32m━━━━━━━━━━━━━━━━━━━━\u001b[0m\u001b[37m\u001b[0m \u001b[1m1s\u001b[0m 57ms/step\n"
          ]
        },
        {
          "output_type": "stream",
          "name": "stderr",
          "text": [
            "Optimizing chunk 3:  55%|█████▍    | 6/11 [1:07:36<53:05, 637.01s/it]"
          ]
        },
        {
          "output_type": "stream",
          "name": "stdout",
          "text": [
            "[I 2025-05-01 12:25:37,373] Trial 14 finished with value: 0.044957287442414375 and parameters: {'lookback': 41, 'units': 203, 'dropout': 0.38166689284771776, 'batch_size': 32, 'epochs': 31}. Best is trial 3 with value: 0.032741823068732634.\n",
            "\u001b[1m7/7\u001b[0m \u001b[32m━━━━━━━━━━━━━━━━━━━━\u001b[0m\u001b[37m\u001b[0m \u001b[1m1s\u001b[0m 60ms/step\n"
          ]
        },
        {
          "output_type": "stream",
          "name": "stderr",
          "text": [
            "Optimizing chunk 3:  55%|█████▍    | 6/11 [1:09:06<53:05, 637.01s/it]"
          ]
        },
        {
          "output_type": "stream",
          "name": "stdout",
          "text": [
            "[I 2025-05-01 12:27:06,939] Trial 15 finished with value: 0.04533573698000469 and parameters: {'lookback': 41, 'units': 256, 'dropout': 0.37702932295034886, 'batch_size': 32, 'epochs': 31}. Best is trial 3 with value: 0.032741823068732634.\n",
            "\u001b[1m7/7\u001b[0m \u001b[32m━━━━━━━━━━━━━━━━━━━━\u001b[0m\u001b[37m\u001b[0m \u001b[1m1s\u001b[0m 72ms/step\n"
          ]
        },
        {
          "output_type": "stream",
          "name": "stderr",
          "text": [
            "Optimizing chunk 3:  55%|█████▍    | 6/11 [1:09:49<53:05, 637.01s/it]"
          ]
        },
        {
          "output_type": "stream",
          "name": "stdout",
          "text": [
            "[I 2025-05-01 12:27:49,576] Trial 16 finished with value: 0.043963741961626925 and parameters: {'lookback': 26, 'units': 208, 'dropout': 0.2644118352774508, 'batch_size': 32, 'epochs': 28}. Best is trial 3 with value: 0.032741823068732634.\n",
            "\u001b[1m7/7\u001b[0m \u001b[32m━━━━━━━━━━━━━━━━━━━━\u001b[0m\u001b[37m\u001b[0m \u001b[1m0s\u001b[0m 45ms/step\n"
          ]
        },
        {
          "output_type": "stream",
          "name": "stderr",
          "text": [
            "Optimizing chunk 3:  55%|█████▍    | 6/11 [1:10:32<53:05, 637.01s/it]"
          ]
        },
        {
          "output_type": "stream",
          "name": "stdout",
          "text": [
            "[I 2025-05-01 12:28:32,756] Trial 17 finished with value: 0.04338144878547017 and parameters: {'lookback': 26, 'units': 216, 'dropout': 0.2664683405061245, 'batch_size': 32, 'epochs': 26}. Best is trial 3 with value: 0.032741823068732634.\n",
            "\u001b[1m7/7\u001b[0m \u001b[32m━━━━━━━━━━━━━━━━━━━━\u001b[0m\u001b[37m\u001b[0m \u001b[1m0s\u001b[0m 33ms/step\n"
          ]
        },
        {
          "output_type": "stream",
          "name": "stderr",
          "text": [
            "Optimizing chunk 3:  55%|█████▍    | 6/11 [1:10:40<53:05, 637.01s/it]"
          ]
        },
        {
          "output_type": "stream",
          "name": "stdout",
          "text": [
            "[I 2025-05-01 12:28:40,873] Trial 18 finished with value: 0.03279953338725877 and parameters: {'lookback': 1, 'units': 222, 'dropout': 0.28129374734365425, 'batch_size': 64, 'epochs': 26}. Best is trial 3 with value: 0.032741823068732634.\n",
            "\u001b[1m7/7\u001b[0m \u001b[32m━━━━━━━━━━━━━━━━━━━━\u001b[0m\u001b[37m\u001b[0m \u001b[1m0s\u001b[0m 35ms/step\n"
          ]
        },
        {
          "output_type": "stream",
          "name": "stderr",
          "text": [
            "Optimizing chunk 3:  55%|█████▍    | 6/11 [1:10:47<53:05, 637.01s/it]"
          ]
        },
        {
          "output_type": "stream",
          "name": "stdout",
          "text": [
            "[I 2025-05-01 12:28:47,755] Trial 19 finished with value: 0.033696125425953655 and parameters: {'lookback': 1, 'units': 171, 'dropout': 0.3121827291168742, 'batch_size': 64, 'epochs': 25}. Best is trial 3 with value: 0.032741823068732634.\n",
            "\u001b[1m7/7\u001b[0m \u001b[32m━━━━━━━━━━━━━━━━━━━━\u001b[0m\u001b[37m\u001b[0m \u001b[1m0s\u001b[0m 35ms/step\n"
          ]
        },
        {
          "output_type": "stream",
          "name": "stderr",
          "text": [
            "Optimizing chunk 3:  55%|█████▍    | 6/11 [1:10:57<53:05, 637.01s/it]"
          ]
        },
        {
          "output_type": "stream",
          "name": "stdout",
          "text": [
            "[I 2025-05-01 12:28:58,132] Trial 20 finished with value: 0.03376239592809241 and parameters: {'lookback': 1, 'units': 228, 'dropout': 0.3388637670937033, 'batch_size': 64, 'epochs': 28}. Best is trial 3 with value: 0.032741823068732634.\n",
            "\u001b[1m7/7\u001b[0m \u001b[32m━━━━━━━━━━━━━━━━━━━━\u001b[0m\u001b[37m\u001b[0m \u001b[1m0s\u001b[0m 32ms/step\n"
          ]
        },
        {
          "output_type": "stream",
          "name": "stderr",
          "text": [
            "Optimizing chunk 3:  55%|█████▍    | 6/11 [1:11:07<53:05, 637.01s/it]"
          ]
        },
        {
          "output_type": "stream",
          "name": "stdout",
          "text": [
            "[I 2025-05-01 12:29:07,803] Trial 21 finished with value: 0.03352486965450144 and parameters: {'lookback': 1, 'units': 185, 'dropout': 0.30137116700263034, 'batch_size': 64, 'epochs': 25}. Best is trial 3 with value: 0.032741823068732634.\n",
            "\u001b[1m7/7\u001b[0m \u001b[32m━━━━━━━━━━━━━━━━━━━━\u001b[0m\u001b[37m\u001b[0m \u001b[1m0s\u001b[0m 37ms/step\n"
          ]
        },
        {
          "output_type": "stream",
          "name": "stderr",
          "text": [
            "Optimizing chunk 3:  55%|█████▍    | 6/11 [1:11:17<53:05, 637.01s/it]"
          ]
        },
        {
          "output_type": "stream",
          "name": "stdout",
          "text": [
            "[I 2025-05-01 12:29:18,047] Trial 22 finished with value: 0.032721427898775975 and parameters: {'lookback': 1, 'units': 255, 'dropout': 0.2325336236776488, 'batch_size': 64, 'epochs': 26}. Best is trial 22 with value: 0.032721427898775975.\n",
            "\u001b[1m7/7\u001b[0m \u001b[32m━━━━━━━━━━━━━━━━━━━━\u001b[0m\u001b[37m\u001b[0m \u001b[1m1s\u001b[0m 67ms/step\n"
          ]
        },
        {
          "output_type": "stream",
          "name": "stderr",
          "text": [
            "Optimizing chunk 3:  55%|█████▍    | 6/11 [1:11:50<53:05, 637.01s/it]"
          ]
        },
        {
          "output_type": "stream",
          "name": "stdout",
          "text": [
            "[I 2025-05-01 12:29:51,037] Trial 23 finished with value: 0.04592425766720825 and parameters: {'lookback': 16, 'units': 246, 'dropout': 0.20018061331601356, 'batch_size': 64, 'epochs': 27}. Best is trial 22 with value: 0.032721427898775975.\n",
            "\u001b[1m7/7\u001b[0m \u001b[32m━━━━━━━━━━━━━━━━━━━━\u001b[0m\u001b[37m\u001b[0m \u001b[1m0s\u001b[0m 48ms/step\n"
          ]
        },
        {
          "output_type": "stream",
          "name": "stderr",
          "text": [
            "Optimizing chunk 3:  55%|█████▍    | 6/11 [1:12:18<53:05, 637.01s/it]"
          ]
        },
        {
          "output_type": "stream",
          "name": "stdout",
          "text": [
            "[I 2025-05-01 12:30:18,592] Trial 24 finished with value: 0.04768361544315 and parameters: {'lookback': 11, 'units': 256, 'dropout': 0.23192144217729227, 'batch_size': 64, 'epochs': 29}. Best is trial 22 with value: 0.032721427898775975.\n",
            "\u001b[1m7/7\u001b[0m \u001b[32m━━━━━━━━━━━━━━━━━━━━\u001b[0m\u001b[37m\u001b[0m \u001b[1m0s\u001b[0m 34ms/step\n"
          ]
        },
        {
          "output_type": "stream",
          "name": "stderr",
          "text": [
            "Optimizing chunk 3:  55%|█████▍    | 6/11 [1:12:28<53:05, 637.01s/it]"
          ]
        },
        {
          "output_type": "stream",
          "name": "stdout",
          "text": [
            "[I 2025-05-01 12:30:28,414] Trial 25 finished with value: 0.032905852302711654 and parameters: {'lookback': 1, 'units': 229, 'dropout': 0.21538708315916347, 'batch_size': 64, 'epochs': 26}. Best is trial 22 with value: 0.032721427898775975.\n",
            "\u001b[1m7/7\u001b[0m \u001b[32m━━━━━━━━━━━━━━━━━━━━\u001b[0m\u001b[37m\u001b[0m \u001b[1m0s\u001b[0m 43ms/step\n"
          ]
        },
        {
          "output_type": "stream",
          "name": "stderr",
          "text": [
            "Optimizing chunk 3:  55%|█████▍    | 6/11 [1:12:52<53:05, 637.01s/it]"
          ]
        },
        {
          "output_type": "stream",
          "name": "stdout",
          "text": [
            "[I 2025-05-01 12:30:52,740] Trial 26 finished with value: 0.047813967530350054 and parameters: {'lookback': 16, 'units': 219, 'dropout': 0.27424166553017804, 'batch_size': 64, 'epochs': 23}. Best is trial 22 with value: 0.032721427898775975.\n",
            "\u001b[1m7/7\u001b[0m \u001b[32m━━━━━━━━━━━━━━━━━━━━\u001b[0m\u001b[37m\u001b[0m \u001b[1m1s\u001b[0m 55ms/step\n"
          ]
        },
        {
          "output_type": "stream",
          "name": "stderr",
          "text": [
            "Optimizing chunk 3:  55%|█████▍    | 6/11 [1:13:02<53:05, 637.01s/it]"
          ]
        },
        {
          "output_type": "stream",
          "name": "stdout",
          "text": [
            "[I 2025-05-01 12:31:03,305] Trial 27 finished with value: 0.04691786391783817 and parameters: {'lookback': 6, 'units': 126, 'dropout': 0.1510842391117956, 'batch_size': 64, 'epochs': 25}. Best is trial 22 with value: 0.032721427898775975.\n",
            "\u001b[1m7/7\u001b[0m \u001b[32m━━━━━━━━━━━━━━━━━━━━\u001b[0m\u001b[37m\u001b[0m \u001b[1m0s\u001b[0m 45ms/step\n"
          ]
        },
        {
          "output_type": "stream",
          "name": "stderr",
          "text": [
            "Optimizing chunk 3:  55%|█████▍    | 6/11 [1:13:42<53:05, 637.01s/it]"
          ]
        },
        {
          "output_type": "stream",
          "name": "stdout",
          "text": [
            "[I 2025-05-01 12:31:42,719] Trial 28 finished with value: 0.046808820205184905 and parameters: {'lookback': 21, 'units': 245, 'dropout': 0.2426575661755366, 'batch_size': 64, 'epochs': 29}. Best is trial 22 with value: 0.032721427898775975.\n",
            "\u001b[1m7/7\u001b[0m \u001b[32m━━━━━━━━━━━━━━━━━━━━\u001b[0m\u001b[37m\u001b[0m \u001b[1m0s\u001b[0m 42ms/step\n"
          ]
        },
        {
          "output_type": "stream",
          "name": "stderr",
          "text": [
            "Optimizing chunk 3:  55%|█████▍    | 6/11 [1:14:06<53:05, 637.01s/it]"
          ]
        },
        {
          "output_type": "stream",
          "name": "stdout",
          "text": [
            "[I 2025-05-01 12:32:06,714] Trial 29 finished with value: 0.04562557412836491 and parameters: {'lookback': 11, 'units': 233, 'dropout': 0.4399081932377585, 'batch_size': 64, 'epochs': 31}. Best is trial 22 with value: 0.032721427898775975.\n"
          ]
        },
        {
          "output_type": "stream",
          "name": "stderr",
          "text": [
            "\rOptimizing chunk 3:  64%|██████▎   | 7/11 [1:14:06<46:04, 691.20s/it][I 2025-05-01 12:32:06,753] A new study created in memory with name: no-name-3b132d28-1e83-41eb-ac03-0d4e4bbbff16\n"
          ]
        },
        {
          "output_type": "stream",
          "name": "stdout",
          "text": [
            "✅ Done: SNPS.O — Best Params: {'lookback': 1, 'units': 255, 'dropout': 0.2325336236776488, 'batch_size': 64, 'epochs': 26}\n",
            "\n",
            "🔍 Optimizing for TEAM.O...\n"
          ]
        },
        {
          "output_type": "display_data",
          "data": {
            "text/plain": [
              "  0%|          | 0/30 [00:00<?, ?it/s]"
            ],
            "application/vnd.jupyter.widget-view+json": {
              "version_major": 2,
              "version_minor": 0,
              "model_id": "972e018da1424ee39c2316a0295f84cf"
            }
          },
          "metadata": {}
        },
        {
          "output_type": "stream",
          "name": "stdout",
          "text": [
            "\u001b[1m6/6\u001b[0m \u001b[32m━━━━━━━━━━━━━━━━━━━━\u001b[0m\u001b[37m\u001b[0m \u001b[1m0s\u001b[0m 17ms/step\n"
          ]
        },
        {
          "output_type": "stream",
          "name": "stderr",
          "text": [
            "Optimizing chunk 3:  64%|██████▎   | 7/11 [1:14:39<46:04, 691.20s/it]"
          ]
        },
        {
          "output_type": "stream",
          "name": "stdout",
          "text": [
            "[I 2025-05-01 12:32:39,595] Trial 0 finished with value: 0.026059927331222574 and parameters: {'lookback': 46, 'units': 79, 'dropout': 0.4482167832810747, 'batch_size': 32, 'epochs': 31}. Best is trial 0 with value: 0.026059927331222574.\n",
            "\u001b[1m6/6\u001b[0m \u001b[32m━━━━━━━━━━━━━━━━━━━━\u001b[0m\u001b[37m\u001b[0m \u001b[1m0s\u001b[0m 50ms/step\n"
          ]
        },
        {
          "output_type": "stream",
          "name": "stderr",
          "text": [
            "Optimizing chunk 3:  64%|██████▎   | 7/11 [1:15:08<46:04, 691.20s/it]"
          ]
        },
        {
          "output_type": "stream",
          "name": "stdout",
          "text": [
            "[I 2025-05-01 12:33:08,444] Trial 1 finished with value: 0.02578583805424653 and parameters: {'lookback': 51, 'units': 96, 'dropout': 0.16867882993272568, 'batch_size': 32, 'epochs': 24}. Best is trial 1 with value: 0.02578583805424653.\n",
            "\u001b[1m7/7\u001b[0m \u001b[32m━━━━━━━━━━━━━━━━━━━━\u001b[0m\u001b[37m\u001b[0m \u001b[1m0s\u001b[0m 43ms/step\n"
          ]
        },
        {
          "output_type": "stream",
          "name": "stderr",
          "text": [
            "Optimizing chunk 3:  64%|██████▎   | 7/11 [1:15:23<46:04, 691.20s/it]"
          ]
        },
        {
          "output_type": "stream",
          "name": "stdout",
          "text": [
            "[I 2025-05-01 12:33:23,613] Trial 2 finished with value: 0.02572993289870726 and parameters: {'lookback': 6, 'units': 207, 'dropout': 0.10040456207356696, 'batch_size': 32, 'epochs': 21}. Best is trial 2 with value: 0.02572993289870726.\n",
            "\u001b[1m6/6\u001b[0m \u001b[32m━━━━━━━━━━━━━━━━━━━━\u001b[0m\u001b[37m\u001b[0m \u001b[1m0s\u001b[0m 26ms/step\n"
          ]
        },
        {
          "output_type": "stream",
          "name": "stderr",
          "text": [
            "Optimizing chunk 3:  64%|██████▎   | 7/11 [1:16:01<46:04, 691.20s/it]"
          ]
        },
        {
          "output_type": "stream",
          "name": "stdout",
          "text": [
            "[I 2025-05-01 12:34:01,518] Trial 3 finished with value: 0.028966688217970146 and parameters: {'lookback': 46, 'units': 172, 'dropout': 0.28004910596279464, 'batch_size': 64, 'epochs': 32}. Best is trial 2 with value: 0.02572993289870726.\n",
            "\u001b[1m7/7\u001b[0m \u001b[32m━━━━━━━━━━━━━━━━━━━━\u001b[0m\u001b[37m\u001b[0m \u001b[1m0s\u001b[0m 36ms/step\n"
          ]
        },
        {
          "output_type": "stream",
          "name": "stderr",
          "text": [
            "Optimizing chunk 3:  64%|██████▎   | 7/11 [1:16:18<46:04, 691.20s/it]"
          ]
        },
        {
          "output_type": "stream",
          "name": "stdout",
          "text": [
            "[I 2025-05-01 12:34:18,957] Trial 4 finished with value: 0.027506992739500698 and parameters: {'lookback': 11, 'units': 122, 'dropout': 0.43084837204215987, 'batch_size': 64, 'epochs': 28}. Best is trial 2 with value: 0.02572993289870726.\n",
            "\u001b[1m7/7\u001b[0m \u001b[32m━━━━━━━━━━━━━━━━━━━━\u001b[0m\u001b[37m\u001b[0m \u001b[1m0s\u001b[0m 47ms/step\n"
          ]
        },
        {
          "output_type": "stream",
          "name": "stderr",
          "text": [
            "Optimizing chunk 3:  64%|██████▎   | 7/11 [1:16:36<46:04, 691.20s/it]"
          ]
        },
        {
          "output_type": "stream",
          "name": "stdout",
          "text": [
            "[I 2025-05-01 12:34:37,250] Trial 5 finished with value: 0.033572789256587555 and parameters: {'lookback': 36, 'units': 139, 'dropout': 0.4086375091576344, 'batch_size': 64, 'epochs': 24}. Best is trial 2 with value: 0.02572993289870726.\n",
            "\u001b[1m7/7\u001b[0m \u001b[32m━━━━━━━━━━━━━━━━━━━━\u001b[0m\u001b[37m\u001b[0m \u001b[1m0s\u001b[0m 45ms/step\n"
          ]
        },
        {
          "output_type": "stream",
          "name": "stderr",
          "text": [
            "Optimizing chunk 3:  64%|██████▎   | 7/11 [1:17:14<46:04, 691.20s/it]"
          ]
        },
        {
          "output_type": "stream",
          "name": "stdout",
          "text": [
            "[I 2025-05-01 12:35:14,485] Trial 6 finished with value: 0.02652333550013125 and parameters: {'lookback': 31, 'units': 157, 'dropout': 0.36936033934017953, 'batch_size': 64, 'epochs': 29}. Best is trial 2 with value: 0.02572993289870726.\n",
            "\u001b[1m7/7\u001b[0m \u001b[32m━━━━━━━━━━━━━━━━━━━━\u001b[0m\u001b[37m\u001b[0m \u001b[1m0s\u001b[0m 40ms/step\n"
          ]
        },
        {
          "output_type": "stream",
          "name": "stderr",
          "text": [
            "Optimizing chunk 3:  64%|██████▎   | 7/11 [1:17:33<46:04, 691.20s/it]"
          ]
        },
        {
          "output_type": "stream",
          "name": "stdout",
          "text": [
            "[I 2025-05-01 12:35:33,632] Trial 7 finished with value: 0.02753671165723257 and parameters: {'lookback': 21, 'units': 47, 'dropout': 0.43968319683194135, 'batch_size': 32, 'epochs': 31}. Best is trial 2 with value: 0.02572993289870726.\n",
            "\u001b[1m6/6\u001b[0m \u001b[32m━━━━━━━━━━━━━━━━━━━━\u001b[0m\u001b[37m\u001b[0m \u001b[1m0s\u001b[0m 13ms/step \n"
          ]
        },
        {
          "output_type": "stream",
          "name": "stderr",
          "text": [
            "Optimizing chunk 3:  64%|██████▎   | 7/11 [1:17:56<46:04, 691.20s/it]"
          ]
        },
        {
          "output_type": "stream",
          "name": "stdout",
          "text": [
            "[I 2025-05-01 12:35:56,480] Trial 8 finished with value: 0.027743520257193087 and parameters: {'lookback': 46, 'units': 94, 'dropout': 0.19757972649186062, 'batch_size': 64, 'epochs': 23}. Best is trial 2 with value: 0.02572993289870726.\n",
            "\u001b[1m7/7\u001b[0m \u001b[32m━━━━━━━━━━━━━━━━━━━━\u001b[0m\u001b[37m\u001b[0m \u001b[1m1s\u001b[0m 48ms/step\n"
          ]
        },
        {
          "output_type": "stream",
          "name": "stderr",
          "text": [
            "Optimizing chunk 3:  64%|██████▎   | 7/11 [1:18:06<46:04, 691.20s/it]"
          ]
        },
        {
          "output_type": "stream",
          "name": "stdout",
          "text": [
            "[I 2025-05-01 12:36:06,867] Trial 9 finished with value: 0.025097774364949907 and parameters: {'lookback': 6, 'units': 102, 'dropout': 0.4469217570106654, 'batch_size': 32, 'epochs': 30}. Best is trial 9 with value: 0.025097774364949907.\n",
            "\u001b[1m7/7\u001b[0m \u001b[32m━━━━━━━━━━━━━━━━━━━━\u001b[0m\u001b[37m\u001b[0m \u001b[1m0s\u001b[0m 48ms/step\n"
          ]
        },
        {
          "output_type": "stream",
          "name": "stderr",
          "text": [
            "Optimizing chunk 3:  64%|██████▎   | 7/11 [1:18:24<46:04, 691.20s/it]"
          ]
        },
        {
          "output_type": "stream",
          "name": "stdout",
          "text": [
            "[I 2025-05-01 12:36:24,630] Trial 10 finished with value: 0.028530543329760443 and parameters: {'lookback': 16, 'units': 251, 'dropout': 0.49782631565623137, 'batch_size': 32, 'epochs': 35}. Best is trial 9 with value: 0.025097774364949907.\n",
            "\u001b[1m7/7\u001b[0m \u001b[32m━━━━━━━━━━━━━━━━━━━━\u001b[0m\u001b[37m\u001b[0m \u001b[1m0s\u001b[0m 36ms/step\n"
          ]
        },
        {
          "output_type": "stream",
          "name": "stderr",
          "text": [
            "Optimizing chunk 3:  64%|██████▎   | 7/11 [1:18:33<46:04, 691.20s/it]"
          ]
        },
        {
          "output_type": "stream",
          "name": "stdout",
          "text": [
            "[I 2025-05-01 12:36:34,188] Trial 11 finished with value: 0.017807029773298223 and parameters: {'lookback': 1, 'units': 212, 'dropout': 0.29321984399779527, 'batch_size': 32, 'epochs': 21}. Best is trial 11 with value: 0.017807029773298223.\n",
            "\u001b[1m7/7\u001b[0m \u001b[32m━━━━━━━━━━━━━━━━━━━━\u001b[0m\u001b[37m\u001b[0m \u001b[1m0s\u001b[0m 34ms/step\n"
          ]
        },
        {
          "output_type": "stream",
          "name": "stderr",
          "text": [
            "Optimizing chunk 3:  64%|██████▎   | 7/11 [1:18:43<46:04, 691.20s/it]"
          ]
        },
        {
          "output_type": "stream",
          "name": "stdout",
          "text": [
            "[I 2025-05-01 12:36:44,123] Trial 12 finished with value: 0.01760986862749324 and parameters: {'lookback': 1, 'units': 199, 'dropout': 0.3092029665316352, 'batch_size': 32, 'epochs': 20}. Best is trial 12 with value: 0.01760986862749324.\n",
            "\u001b[1m7/7\u001b[0m \u001b[32m━━━━━━━━━━━━━━━━━━━━\u001b[0m\u001b[37m\u001b[0m \u001b[1m0s\u001b[0m 36ms/step\n"
          ]
        },
        {
          "output_type": "stream",
          "name": "stderr",
          "text": [
            "Optimizing chunk 3:  64%|██████▎   | 7/11 [1:18:51<46:04, 691.20s/it]"
          ]
        },
        {
          "output_type": "stream",
          "name": "stdout",
          "text": [
            "[I 2025-05-01 12:36:51,839] Trial 13 finished with value: 0.017290885528865648 and parameters: {'lookback': 1, 'units': 208, 'dropout': 0.2903129464088198, 'batch_size': 32, 'epochs': 20}. Best is trial 13 with value: 0.017290885528865648.\n",
            "\u001b[1m7/7\u001b[0m \u001b[32m━━━━━━━━━━━━━━━━━━━━\u001b[0m\u001b[37m\u001b[0m \u001b[1m0s\u001b[0m 35ms/step\n"
          ]
        },
        {
          "output_type": "stream",
          "name": "stderr",
          "text": [
            "Optimizing chunk 3:  64%|██████▎   | 7/11 [1:19:01<46:04, 691.20s/it]"
          ]
        },
        {
          "output_type": "stream",
          "name": "stdout",
          "text": [
            "[I 2025-05-01 12:37:01,853] Trial 14 finished with value: 0.017460757386295482 and parameters: {'lookback': 1, 'units': 197, 'dropout': 0.33115286240726366, 'batch_size': 32, 'epochs': 20}. Best is trial 13 with value: 0.017290885528865648.\n",
            "\u001b[1m7/7\u001b[0m \u001b[32m━━━━━━━━━━━━━━━━━━━━\u001b[0m\u001b[37m\u001b[0m \u001b[1m0s\u001b[0m 46ms/step\n"
          ]
        },
        {
          "output_type": "stream",
          "name": "stderr",
          "text": [
            "Optimizing chunk 3:  64%|██████▎   | 7/11 [1:19:45<46:04, 691.20s/it]"
          ]
        },
        {
          "output_type": "stream",
          "name": "stdout",
          "text": [
            "[I 2025-05-01 12:37:45,486] Trial 15 finished with value: 0.025251132342164376 and parameters: {'lookback': 21, 'units': 249, 'dropout': 0.34118607740252915, 'batch_size': 32, 'epochs': 26}. Best is trial 13 with value: 0.017290885528865648.\n",
            "\u001b[1m7/7\u001b[0m \u001b[32m━━━━━━━━━━━━━━━━━━━━\u001b[0m\u001b[37m\u001b[0m \u001b[1m0s\u001b[0m 38ms/step\n"
          ]
        },
        {
          "output_type": "stream",
          "name": "stderr",
          "text": [
            "Optimizing chunk 3:  64%|██████▎   | 7/11 [1:20:10<46:04, 691.20s/it]"
          ]
        },
        {
          "output_type": "stream",
          "name": "stdout",
          "text": [
            "[I 2025-05-01 12:38:10,782] Trial 16 finished with value: 0.024774869557096603 and parameters: {'lookback': 11, 'units': 187, 'dropout': 0.23364691564701892, 'batch_size': 32, 'epochs': 26}. Best is trial 13 with value: 0.017290885528865648.\n",
            "\u001b[1m7/7\u001b[0m \u001b[32m━━━━━━━━━━━━━━━━━━━━\u001b[0m\u001b[37m\u001b[0m \u001b[1m1s\u001b[0m 53ms/step\n"
          ]
        },
        {
          "output_type": "stream",
          "name": "stderr",
          "text": [
            "Optimizing chunk 3:  64%|██████▎   | 7/11 [1:21:00<46:04, 691.20s/it]"
          ]
        },
        {
          "output_type": "stream",
          "name": "stdout",
          "text": [
            "[I 2025-05-01 12:39:00,433] Trial 17 finished with value: 0.026479277007294164 and parameters: {'lookback': 26, 'units': 225, 'dropout': 0.23515506900404842, 'batch_size': 32, 'epochs': 22}. Best is trial 13 with value: 0.017290885528865648.\n",
            "\u001b[1m7/7\u001b[0m \u001b[32m━━━━━━━━━━━━━━━━━━━━\u001b[0m\u001b[37m\u001b[0m \u001b[1m0s\u001b[0m 34ms/step\n"
          ]
        },
        {
          "output_type": "stream",
          "name": "stderr",
          "text": [
            "Optimizing chunk 3:  64%|██████▎   | 7/11 [1:21:09<46:04, 691.20s/it]"
          ]
        },
        {
          "output_type": "stream",
          "name": "stdout",
          "text": [
            "[I 2025-05-01 12:39:09,659] Trial 18 finished with value: 0.01719363415731407 and parameters: {'lookback': 1, 'units': 172, 'dropout': 0.3621630587017221, 'batch_size': 32, 'epochs': 20}. Best is trial 18 with value: 0.01719363415731407.\n",
            "\u001b[1m7/7\u001b[0m \u001b[32m━━━━━━━━━━━━━━━━━━━━\u001b[0m\u001b[37m\u001b[0m \u001b[1m0s\u001b[0m 38ms/step\n"
          ]
        },
        {
          "output_type": "stream",
          "name": "stderr",
          "text": [
            "Optimizing chunk 3:  64%|██████▎   | 7/11 [1:21:27<46:04, 691.20s/it]"
          ]
        },
        {
          "output_type": "stream",
          "name": "stdout",
          "text": [
            "[I 2025-05-01 12:39:28,171] Trial 19 finished with value: 0.026570867938818653 and parameters: {'lookback': 11, 'units': 167, 'dropout': 0.3864079527076102, 'batch_size': 32, 'epochs': 24}. Best is trial 18 with value: 0.01719363415731407.\n",
            "\u001b[1m7/7\u001b[0m \u001b[32m━━━━━━━━━━━━━━━━━━━━\u001b[0m\u001b[37m\u001b[0m \u001b[1m1s\u001b[0m 58ms/step\n"
          ]
        },
        {
          "output_type": "stream",
          "name": "stderr",
          "text": [
            "Optimizing chunk 3:  64%|██████▎   | 7/11 [1:22:19<46:04, 691.20s/it]"
          ]
        },
        {
          "output_type": "stream",
          "name": "stdout",
          "text": [
            "[I 2025-05-01 12:40:20,159] Trial 20 finished with value: 0.02642452869846218 and parameters: {'lookback': 36, 'units': 227, 'dropout': 0.26430115791223907, 'batch_size': 32, 'epochs': 22}. Best is trial 18 with value: 0.01719363415731407.\n",
            "\u001b[1m7/7\u001b[0m \u001b[32m━━━━━━━━━━━━━━━━━━━━\u001b[0m\u001b[37m\u001b[0m \u001b[1m0s\u001b[0m 37ms/step\n"
          ]
        },
        {
          "output_type": "stream",
          "name": "stderr",
          "text": [
            "Optimizing chunk 3:  64%|██████▎   | 7/11 [1:22:28<46:04, 691.20s/it]"
          ]
        },
        {
          "output_type": "stream",
          "name": "stdout",
          "text": [
            "[I 2025-05-01 12:40:29,354] Trial 21 finished with value: 0.01771156480611081 and parameters: {'lookback': 1, 'units': 184, 'dropout': 0.3440159840293916, 'batch_size': 32, 'epochs': 20}. Best is trial 18 with value: 0.01719363415731407.\n",
            "\u001b[1m7/7\u001b[0m \u001b[32m━━━━━━━━━━━━━━━━━━━━\u001b[0m\u001b[37m\u001b[0m \u001b[1m0s\u001b[0m 39ms/step\n"
          ]
        },
        {
          "output_type": "stream",
          "name": "stderr",
          "text": [
            "Optimizing chunk 3:  64%|██████▎   | 7/11 [1:22:42<46:04, 691.20s/it]"
          ]
        },
        {
          "output_type": "stream",
          "name": "stdout",
          "text": [
            "[I 2025-05-01 12:40:43,332] Trial 22 finished with value: 0.025708604803971233 and parameters: {'lookback': 6, 'units': 144, 'dropout': 0.3233311792401327, 'batch_size': 32, 'epochs': 20}. Best is trial 18 with value: 0.01719363415731407.\n",
            "\u001b[1m7/7\u001b[0m \u001b[32m━━━━━━━━━━━━━━━━━━━━\u001b[0m\u001b[37m\u001b[0m \u001b[1m0s\u001b[0m 36ms/step\n"
          ]
        },
        {
          "output_type": "stream",
          "name": "stderr",
          "text": [
            "Optimizing chunk 3:  64%|██████▎   | 7/11 [1:22:51<46:04, 691.20s/it]"
          ]
        },
        {
          "output_type": "stream",
          "name": "stdout",
          "text": [
            "[I 2025-05-01 12:40:52,338] Trial 23 finished with value: 0.017391100051395155 and parameters: {'lookback': 1, 'units': 230, 'dropout': 0.3714456949702653, 'batch_size': 32, 'epochs': 22}. Best is trial 18 with value: 0.01719363415731407.\n",
            "\u001b[1m7/7\u001b[0m \u001b[32m━━━━━━━━━━━━━━━━━━━━\u001b[0m\u001b[37m\u001b[0m \u001b[1m0s\u001b[0m 43ms/step\n"
          ]
        },
        {
          "output_type": "stream",
          "name": "stderr",
          "text": [
            "Optimizing chunk 3:  64%|██████▎   | 7/11 [1:23:20<46:04, 691.20s/it]"
          ]
        },
        {
          "output_type": "stream",
          "name": "stdout",
          "text": [
            "[I 2025-05-01 12:41:20,732] Trial 24 finished with value: 0.027425494517381018 and parameters: {'lookback': 16, 'units': 230, 'dropout': 0.36676428660384197, 'batch_size': 32, 'epochs': 26}. Best is trial 18 with value: 0.01719363415731407.\n",
            "\u001b[1m7/7\u001b[0m \u001b[32m━━━━━━━━━━━━━━━━━━━━\u001b[0m\u001b[37m\u001b[0m \u001b[1m1s\u001b[0m 56ms/step\n"
          ]
        },
        {
          "output_type": "stream",
          "name": "stderr",
          "text": [
            "Optimizing chunk 3:  64%|██████▎   | 7/11 [1:23:33<46:04, 691.20s/it]"
          ]
        },
        {
          "output_type": "stream",
          "name": "stdout",
          "text": [
            "[I 2025-05-01 12:41:34,181] Trial 25 finished with value: 0.0267397240615026 and parameters: {'lookback': 6, 'units': 236, 'dropout': 0.39738656527889044, 'batch_size': 32, 'epochs': 22}. Best is trial 18 with value: 0.01719363415731407.\n",
            "\u001b[1m7/7\u001b[0m \u001b[32m━━━━━━━━━━━━━━━━━━━━\u001b[0m\u001b[37m\u001b[0m \u001b[1m0s\u001b[0m 44ms/step\n"
          ]
        },
        {
          "output_type": "stream",
          "name": "stderr",
          "text": [
            "Optimizing chunk 3:  64%|██████▎   | 7/11 [1:23:59<46:04, 691.20s/it]"
          ]
        },
        {
          "output_type": "stream",
          "name": "stdout",
          "text": [
            "[I 2025-05-01 12:42:00,128] Trial 26 finished with value: 0.027458142291936147 and parameters: {'lookback': 16, 'units': 214, 'dropout': 0.47994961407394776, 'batch_size': 64, 'epochs': 23}. Best is trial 18 with value: 0.01719363415731407.\n",
            "\u001b[1m7/7\u001b[0m \u001b[32m━━━━━━━━━━━━━━━━━━━━\u001b[0m\u001b[37m\u001b[0m \u001b[1m0s\u001b[0m 35ms/step\n"
          ]
        },
        {
          "output_type": "stream",
          "name": "stderr",
          "text": [
            "Optimizing chunk 3:  64%|██████▎   | 7/11 [1:24:08<46:04, 691.20s/it]"
          ]
        },
        {
          "output_type": "stream",
          "name": "stdout",
          "text": [
            "[I 2025-05-01 12:42:08,591] Trial 27 finished with value: 0.01730846080439575 and parameters: {'lookback': 1, 'units': 182, 'dropout': 0.24757679205775968, 'batch_size': 32, 'epochs': 21}. Best is trial 18 with value: 0.01719363415731407.\n",
            "\u001b[1m7/7\u001b[0m \u001b[32m━━━━━━━━━━━━━━━━━━━━\u001b[0m\u001b[37m\u001b[0m \u001b[1m0s\u001b[0m 37ms/step\n"
          ]
        },
        {
          "output_type": "stream",
          "name": "stderr",
          "text": [
            "Optimizing chunk 3:  64%|██████▎   | 7/11 [1:24:31<46:04, 691.20s/it]"
          ]
        },
        {
          "output_type": "stream",
          "name": "stdout",
          "text": [
            "[I 2025-05-01 12:42:31,903] Trial 28 finished with value: 0.02529250482096634 and parameters: {'lookback': 11, 'units': 160, 'dropout': 0.2510430725211232, 'batch_size': 32, 'epochs': 25}. Best is trial 18 with value: 0.01719363415731407.\n",
            "\u001b[1m6/6\u001b[0m \u001b[32m━━━━━━━━━━━━━━━━━━━━\u001b[0m\u001b[37m\u001b[0m \u001b[1m1s\u001b[0m 70ms/step\n"
          ]
        },
        {
          "output_type": "stream",
          "name": "stderr",
          "text": [
            "Optimizing chunk 3:  73%|███████▎  | 8/11 [1:25:35<34:31, 690.54s/it][I 2025-05-01 12:43:35,877] A new study created in memory with name: no-name-570b164d-3a08-4008-bcf0-4fc5539dd19e\n"
          ]
        },
        {
          "output_type": "stream",
          "name": "stdout",
          "text": [
            "[I 2025-05-01 12:43:35,850] Trial 29 finished with value: 0.025647288057430374 and parameters: {'lookback': 56, 'units': 185, 'dropout': 0.19834937905468095, 'batch_size': 32, 'epochs': 21}. Best is trial 18 with value: 0.01719363415731407.\n",
            "✅ Done: TEAM.O — Best Params: {'lookback': 1, 'units': 172, 'dropout': 0.3621630587017221, 'batch_size': 32, 'epochs': 20}\n",
            "\n",
            "🔍 Optimizing for TXN.O...\n"
          ]
        },
        {
          "output_type": "display_data",
          "data": {
            "text/plain": [
              "  0%|          | 0/30 [00:00<?, ?it/s]"
            ],
            "application/vnd.jupyter.widget-view+json": {
              "version_major": 2,
              "version_minor": 0,
              "model_id": "768fea709c5a474aa39c488358bd3afb"
            }
          },
          "metadata": {}
        },
        {
          "output_type": "stream",
          "name": "stdout",
          "text": [
            "\u001b[1m7/7\u001b[0m \u001b[32m━━━━━━━━━━━━━━━━━━━━\u001b[0m\u001b[37m\u001b[0m \u001b[1m0s\u001b[0m 36ms/step\n"
          ]
        },
        {
          "output_type": "stream",
          "name": "stderr",
          "text": [
            "Optimizing chunk 3:  73%|███████▎  | 8/11 [1:25:40<34:31, 690.54s/it]"
          ]
        },
        {
          "output_type": "stream",
          "name": "stdout",
          "text": [
            "[I 2025-05-01 12:43:41,370] Trial 0 finished with value: 0.19691191020245574 and parameters: {'lookback': 1, 'units': 216, 'dropout': 0.12782313896317002, 'batch_size': 64, 'epochs': 35}. Best is trial 0 with value: 0.19691191020245574.\n",
            "\u001b[1m7/7\u001b[0m \u001b[32m━━━━━━━━━━━━━━━━━━━━\u001b[0m\u001b[37m\u001b[0m \u001b[1m1s\u001b[0m 69ms/step\n"
          ]
        },
        {
          "output_type": "stream",
          "name": "stderr",
          "text": [
            "Optimizing chunk 3:  73%|███████▎  | 8/11 [1:26:14<34:31, 690.54s/it]"
          ]
        },
        {
          "output_type": "stream",
          "name": "stdout",
          "text": [
            "[I 2025-05-01 12:44:15,095] Trial 1 finished with value: 0.056397348673940445 and parameters: {'lookback': 21, 'units': 179, 'dropout': 0.1543131376497302, 'batch_size': 64, 'epochs': 35}. Best is trial 1 with value: 0.056397348673940445.\n",
            "\u001b[1m6/6\u001b[0m \u001b[32m━━━━━━━━━━━━━━━━━━━━\u001b[0m\u001b[37m\u001b[0m \u001b[1m1s\u001b[0m 105ms/step\n"
          ]
        },
        {
          "output_type": "stream",
          "name": "stderr",
          "text": [
            "Optimizing chunk 3:  73%|███████▎  | 8/11 [1:27:02<34:31, 690.54s/it]"
          ]
        },
        {
          "output_type": "stream",
          "name": "stdout",
          "text": [
            "[I 2025-05-01 12:45:03,282] Trial 2 finished with value: 0.05951562696344852 and parameters: {'lookback': 56, 'units': 153, 'dropout': 0.2691760629608134, 'batch_size': 32, 'epochs': 29}. Best is trial 1 with value: 0.056397348673940445.\n",
            "\u001b[1m7/7\u001b[0m \u001b[32m━━━━━━━━━━━━━━━━━━━━\u001b[0m\u001b[37m\u001b[0m \u001b[1m0s\u001b[0m 36ms/step\n"
          ]
        },
        {
          "output_type": "stream",
          "name": "stderr",
          "text": [
            "Optimizing chunk 3:  73%|███████▎  | 8/11 [1:27:17<34:31, 690.54s/it]"
          ]
        },
        {
          "output_type": "stream",
          "name": "stdout",
          "text": [
            "[I 2025-05-01 12:45:17,435] Trial 3 finished with value: 0.05746308188857348 and parameters: {'lookback': 11, 'units': 93, 'dropout': 0.3576538215867122, 'batch_size': 64, 'epochs': 32}. Best is trial 1 with value: 0.056397348673940445.\n",
            "\u001b[1m7/7\u001b[0m \u001b[32m━━━━━━━━━━━━━━━━━━━━\u001b[0m\u001b[37m\u001b[0m \u001b[1m0s\u001b[0m 38ms/step\n"
          ]
        },
        {
          "output_type": "stream",
          "name": "stderr",
          "text": [
            "Optimizing chunk 3:  73%|███████▎  | 8/11 [1:27:32<34:31, 690.54s/it]"
          ]
        },
        {
          "output_type": "stream",
          "name": "stdout",
          "text": [
            "[I 2025-05-01 12:45:32,909] Trial 4 finished with value: 0.05527590072482922 and parameters: {'lookback': 6, 'units': 176, 'dropout': 0.1308835769246303, 'batch_size': 32, 'epochs': 20}. Best is trial 4 with value: 0.05527590072482922.\n",
            "\u001b[1m6/6\u001b[0m \u001b[32m━━━━━━━━━━━━━━━━━━━━\u001b[0m\u001b[37m\u001b[0m \u001b[1m1s\u001b[0m 138ms/step\n"
          ]
        },
        {
          "output_type": "stream",
          "name": "stderr",
          "text": [
            "Optimizing chunk 3:  73%|███████▎  | 8/11 [1:29:29<34:31, 690.54s/it]"
          ]
        },
        {
          "output_type": "stream",
          "name": "stdout",
          "text": [
            "[I 2025-05-01 12:47:29,925] Trial 5 finished with value: 0.04926991357582993 and parameters: {'lookback': 51, 'units': 222, 'dropout': 0.11273841611886747, 'batch_size': 32, 'epochs': 32}. Best is trial 5 with value: 0.04926991357582993.\n",
            "\u001b[1m7/7\u001b[0m \u001b[32m━━━━━━━━━━━━━━━━━━━━\u001b[0m\u001b[37m\u001b[0m \u001b[1m1s\u001b[0m 58ms/step\n"
          ]
        },
        {
          "output_type": "stream",
          "name": "stderr",
          "text": [
            "Optimizing chunk 3:  73%|███████▎  | 8/11 [1:30:08<34:31, 690.54s/it]"
          ]
        },
        {
          "output_type": "stream",
          "name": "stdout",
          "text": [
            "[I 2025-05-01 12:48:09,352] Trial 6 finished with value: 0.05816625180925101 and parameters: {'lookback': 31, 'units': 166, 'dropout': 0.466048401712, 'batch_size': 32, 'epochs': 30}. Best is trial 5 with value: 0.04926991357582993.\n",
            "\u001b[1m6/6\u001b[0m \u001b[32m━━━━━━━━━━━━━━━━━━━━\u001b[0m\u001b[37m\u001b[0m \u001b[1m1s\u001b[0m 71ms/step\n"
          ]
        },
        {
          "output_type": "stream",
          "name": "stderr",
          "text": [
            "Optimizing chunk 3:  73%|███████▎  | 8/11 [1:30:49<34:31, 690.54s/it]"
          ]
        },
        {
          "output_type": "stream",
          "name": "stdout",
          "text": [
            "[I 2025-05-01 12:48:50,184] Trial 7 finished with value: 0.061383436549369425 and parameters: {'lookback': 56, 'units': 147, 'dropout': 0.24867627507842094, 'batch_size': 32, 'epochs': 23}. Best is trial 5 with value: 0.04926991357582993.\n",
            "\u001b[1m6/6\u001b[0m \u001b[32m━━━━━━━━━━━━━━━━━━━━\u001b[0m\u001b[37m\u001b[0m \u001b[1m0s\u001b[0m 17ms/step\n"
          ]
        },
        {
          "output_type": "stream",
          "name": "stderr",
          "text": [
            "Optimizing chunk 3:  73%|███████▎  | 8/11 [1:31:15<34:31, 690.54s/it]"
          ]
        },
        {
          "output_type": "stream",
          "name": "stdout",
          "text": [
            "[I 2025-05-01 12:49:16,068] Trial 8 finished with value: 0.06073418000981676 and parameters: {'lookback': 46, 'units': 106, 'dropout': 0.3180467506316761, 'batch_size': 64, 'epochs': 20}. Best is trial 5 with value: 0.04926991357582993.\n",
            "\u001b[1m7/7\u001b[0m \u001b[32m━━━━━━━━━━━━━━━━━━━━\u001b[0m\u001b[37m\u001b[0m \u001b[1m1s\u001b[0m 49ms/step\n"
          ]
        },
        {
          "output_type": "stream",
          "name": "stderr",
          "text": [
            "Optimizing chunk 3:  73%|███████▎  | 8/11 [1:31:37<34:31, 690.54s/it]"
          ]
        },
        {
          "output_type": "stream",
          "name": "stdout",
          "text": [
            "[I 2025-05-01 12:49:37,913] Trial 9 finished with value: 0.063186534541959 and parameters: {'lookback': 26, 'units': 123, 'dropout': 0.4186175396020676, 'batch_size': 64, 'epochs': 20}. Best is trial 5 with value: 0.04926991357582993.\n",
            "\u001b[1m7/7\u001b[0m \u001b[32m━━━━━━━━━━━━━━━━━━━━\u001b[0m\u001b[37m\u001b[0m \u001b[1m0s\u001b[0m 42ms/step\n"
          ]
        },
        {
          "output_type": "stream",
          "name": "stderr",
          "text": [
            "Optimizing chunk 3:  73%|███████▎  | 8/11 [1:31:58<34:31, 690.54s/it]"
          ]
        },
        {
          "output_type": "stream",
          "name": "stdout",
          "text": [
            "[I 2025-05-01 12:49:58,908] Trial 10 finished with value: 0.05634053523410099 and parameters: {'lookback': 41, 'units': 32, 'dropout': 0.20355105752560407, 'batch_size': 32, 'epochs': 26}. Best is trial 5 with value: 0.04926991357582993.\n",
            "\u001b[1m7/7\u001b[0m \u001b[32m━━━━━━━━━━━━━━━━━━━━\u001b[0m\u001b[37m\u001b[0m \u001b[1m0s\u001b[0m 42ms/step\n"
          ]
        },
        {
          "output_type": "stream",
          "name": "stderr",
          "text": [
            "Optimizing chunk 3:  73%|███████▎  | 8/11 [1:32:10<34:31, 690.54s/it]"
          ]
        },
        {
          "output_type": "stream",
          "name": "stdout",
          "text": [
            "[I 2025-05-01 12:50:10,998] Trial 11 finished with value: 0.04386136848200742 and parameters: {'lookback': 1, 'units': 255, 'dropout': 0.10941344116687168, 'batch_size': 32, 'epochs': 25}. Best is trial 11 with value: 0.04386136848200742.\n",
            "\u001b[1m7/7\u001b[0m \u001b[32m━━━━━━━━━━━━━━━━━━━━\u001b[0m\u001b[37m\u001b[0m \u001b[1m1s\u001b[0m 47ms/step\n"
          ]
        },
        {
          "output_type": "stream",
          "name": "stderr",
          "text": [
            "Optimizing chunk 3:  73%|███████▎  | 8/11 [1:32:49<34:31, 690.54s/it]"
          ]
        },
        {
          "output_type": "stream",
          "name": "stdout",
          "text": [
            "[I 2025-05-01 12:50:49,724] Trial 12 finished with value: 0.05015838248838451 and parameters: {'lookback': 16, 'units': 244, 'dropout': 0.10063939284796677, 'batch_size': 32, 'epochs': 26}. Best is trial 11 with value: 0.04386136848200742.\n",
            "\u001b[1m7/7\u001b[0m \u001b[32m━━━━━━━━━━━━━━━━━━━━\u001b[0m\u001b[37m\u001b[0m \u001b[1m1s\u001b[0m 64ms/step\n"
          ]
        },
        {
          "output_type": "stream",
          "name": "stderr",
          "text": [
            "Optimizing chunk 3:  73%|███████▎  | 8/11 [1:33:58<34:31, 690.54s/it]"
          ]
        },
        {
          "output_type": "stream",
          "name": "stdout",
          "text": [
            "[I 2025-05-01 12:51:59,150] Trial 13 finished with value: 0.05134471087486982 and parameters: {'lookback': 36, 'units': 251, 'dropout': 0.19065226355920195, 'batch_size': 32, 'epochs': 24}. Best is trial 11 with value: 0.04386136848200742.\n",
            "\u001b[1m6/6\u001b[0m \u001b[32m━━━━━━━━━━━━━━━━━━━━\u001b[0m\u001b[37m\u001b[0m \u001b[1m0s\u001b[0m 31ms/step\n"
          ]
        },
        {
          "output_type": "stream",
          "name": "stderr",
          "text": [
            "Optimizing chunk 3:  73%|███████▎  | 8/11 [1:35:08<34:31, 690.54s/it]"
          ]
        },
        {
          "output_type": "stream",
          "name": "stdout",
          "text": [
            "[I 2025-05-01 12:53:09,288] Trial 14 finished with value: 0.05407797167348243 and parameters: {'lookback': 46, 'units': 204, 'dropout': 0.18834227126314831, 'batch_size': 32, 'epochs': 32}. Best is trial 11 with value: 0.04386136848200742.\n",
            "\u001b[1m7/7\u001b[0m \u001b[32m━━━━━━━━━━━━━━━━━━━━\u001b[0m\u001b[37m\u001b[0m \u001b[1m1s\u001b[0m 57ms/step\n"
          ]
        },
        {
          "output_type": "stream",
          "name": "stderr",
          "text": [
            "Optimizing chunk 3:  73%|███████▎  | 8/11 [1:35:51<34:31, 690.54s/it]"
          ]
        },
        {
          "output_type": "stream",
          "name": "stdout",
          "text": [
            "[I 2025-05-01 12:53:52,140] Trial 15 finished with value: 0.051742684025459645 and parameters: {'lookback': 21, 'units': 216, 'dropout': 0.10324828982542963, 'batch_size': 32, 'epochs': 28}. Best is trial 11 with value: 0.04386136848200742.\n",
            "\u001b[1m7/7\u001b[0m \u001b[32m━━━━━━━━━━━━━━━━━━━━\u001b[0m\u001b[37m\u001b[0m \u001b[1m0s\u001b[0m 44ms/step\n"
          ]
        },
        {
          "output_type": "stream",
          "name": "stderr",
          "text": [
            "Optimizing chunk 3:  73%|███████▎  | 8/11 [1:36:01<34:31, 690.54s/it]"
          ]
        },
        {
          "output_type": "stream",
          "name": "stdout",
          "text": [
            "[I 2025-05-01 12:54:02,331] Trial 16 finished with value: 0.04323489157187167 and parameters: {'lookback': 1, 'units': 235, 'dropout': 0.23531690354134813, 'batch_size': 32, 'epochs': 32}. Best is trial 16 with value: 0.04323489157187167.\n",
            "\u001b[1m7/7\u001b[0m \u001b[32m━━━━━━━━━━━━━━━━━━━━\u001b[0m\u001b[37m\u001b[0m \u001b[1m0s\u001b[0m 40ms/step\n"
          ]
        },
        {
          "output_type": "stream",
          "name": "stderr",
          "text": [
            "Optimizing chunk 3:  73%|███████▎  | 8/11 [1:36:16<34:31, 690.54s/it]"
          ]
        },
        {
          "output_type": "stream",
          "name": "stdout",
          "text": [
            "[I 2025-05-01 12:54:16,625] Trial 17 finished with value: 0.043331144030105025 and parameters: {'lookback': 1, 'units': 256, 'dropout': 0.24051569734716252, 'batch_size': 32, 'epochs': 23}. Best is trial 16 with value: 0.04323489157187167.\n",
            "\u001b[1m7/7\u001b[0m \u001b[32m━━━━━━━━━━━━━━━━━━━━\u001b[0m\u001b[37m\u001b[0m \u001b[1m0s\u001b[0m 45ms/step\n"
          ]
        },
        {
          "output_type": "stream",
          "name": "stderr",
          "text": [
            "Optimizing chunk 3:  73%|███████▎  | 8/11 [1:36:43<34:31, 690.54s/it]"
          ]
        },
        {
          "output_type": "stream",
          "name": "stdout",
          "text": [
            "[I 2025-05-01 12:54:43,734] Trial 18 finished with value: 0.05435552351171525 and parameters: {'lookback': 11, 'units': 192, 'dropout': 0.3331304499365827, 'batch_size': 32, 'epochs': 22}. Best is trial 16 with value: 0.04323489157187167.\n",
            "\u001b[1m7/7\u001b[0m \u001b[32m━━━━━━━━━━━━━━━━━━━━\u001b[0m\u001b[37m\u001b[0m \u001b[1m0s\u001b[0m 41ms/step\n"
          ]
        },
        {
          "output_type": "stream",
          "name": "stderr",
          "text": [
            "Optimizing chunk 3:  73%|███████▎  | 8/11 [1:37:05<34:31, 690.54s/it]"
          ]
        },
        {
          "output_type": "stream",
          "name": "stdout",
          "text": [
            "[I 2025-05-01 12:55:06,154] Trial 19 finished with value: 0.05190998353244173 and parameters: {'lookback': 6, 'units': 228, 'dropout': 0.25092657701537335, 'batch_size': 32, 'epochs': 30}. Best is trial 16 with value: 0.04323489157187167.\n",
            "\u001b[1m7/7\u001b[0m \u001b[32m━━━━━━━━━━━━━━━━━━━━\u001b[0m\u001b[37m\u001b[0m \u001b[1m0s\u001b[0m 37ms/step\n"
          ]
        },
        {
          "output_type": "stream",
          "name": "stderr",
          "text": [
            "Optimizing chunk 3:  73%|███████▎  | 8/11 [1:37:15<34:31, 690.54s/it]"
          ]
        },
        {
          "output_type": "stream",
          "name": "stdout",
          "text": [
            "[I 2025-05-01 12:55:15,982] Trial 20 finished with value: 0.043947585040459196 and parameters: {'lookback': 1, 'units': 66, 'dropout': 0.37530655476117436, 'batch_size': 32, 'epochs': 22}. Best is trial 16 with value: 0.04323489157187167.\n",
            "\u001b[1m7/7\u001b[0m \u001b[32m━━━━━━━━━━━━━━━━━━━━\u001b[0m\u001b[37m\u001b[0m \u001b[1m0s\u001b[0m 37ms/step\n"
          ]
        },
        {
          "output_type": "stream",
          "name": "stderr",
          "text": [
            "Optimizing chunk 3:  73%|███████▎  | 8/11 [1:37:26<34:31, 690.54s/it]"
          ]
        },
        {
          "output_type": "stream",
          "name": "stdout",
          "text": [
            "[I 2025-05-01 12:55:27,270] Trial 21 finished with value: 0.04344575433338832 and parameters: {'lookback': 1, 'units': 255, 'dropout': 0.22102152418361637, 'batch_size': 32, 'epochs': 25}. Best is trial 16 with value: 0.04323489157187167.\n",
            "\u001b[1m7/7\u001b[0m \u001b[32m━━━━━━━━━━━━━━━━━━━━\u001b[0m\u001b[37m\u001b[0m \u001b[1m0s\u001b[0m 43ms/step\n"
          ]
        },
        {
          "output_type": "stream",
          "name": "stderr",
          "text": [
            "Optimizing chunk 3:  73%|███████▎  | 8/11 [1:37:49<34:31, 690.54s/it]"
          ]
        },
        {
          "output_type": "stream",
          "name": "stdout",
          "text": [
            "[I 2025-05-01 12:55:50,044] Trial 22 finished with value: 0.05711121790493422 and parameters: {'lookback': 11, 'units': 235, 'dropout': 0.28032835352899044, 'batch_size': 32, 'epochs': 26}. Best is trial 16 with value: 0.04323489157187167.\n",
            "\u001b[1m7/7\u001b[0m \u001b[32m━━━━━━━━━━━━━━━━━━━━\u001b[0m\u001b[37m\u001b[0m \u001b[1m0s\u001b[0m 48ms/step\n"
          ]
        },
        {
          "output_type": "stream",
          "name": "stderr",
          "text": [
            "Optimizing chunk 3:  73%|███████▎  | 8/11 [1:38:10<34:31, 690.54s/it]"
          ]
        },
        {
          "output_type": "stream",
          "name": "stdout",
          "text": [
            "[I 2025-05-01 12:56:11,265] Trial 23 finished with value: 0.05429114170866679 and parameters: {'lookback': 6, 'units': 255, 'dropout': 0.22357895323418242, 'batch_size': 32, 'epochs': 24}. Best is trial 16 with value: 0.04323489157187167.\n",
            "\u001b[1m7/7\u001b[0m \u001b[32m━━━━━━━━━━━━━━━━━━━━\u001b[0m\u001b[37m\u001b[0m \u001b[1m0s\u001b[0m 47ms/step\n"
          ]
        },
        {
          "output_type": "stream",
          "name": "stderr",
          "text": [
            "Optimizing chunk 3:  73%|███████▎  | 8/11 [1:38:35<34:31, 690.54s/it]"
          ]
        },
        {
          "output_type": "stream",
          "name": "stdout",
          "text": [
            "[I 2025-05-01 12:56:35,893] Trial 24 finished with value: 0.05740709836635642 and parameters: {'lookback': 16, 'units': 199, 'dropout': 0.22829354273959485, 'batch_size': 32, 'epochs': 27}. Best is trial 16 with value: 0.04323489157187167.\n",
            "\u001b[1m7/7\u001b[0m \u001b[32m━━━━━━━━━━━━━━━━━━━━\u001b[0m\u001b[37m\u001b[0m \u001b[1m0s\u001b[0m 36ms/step\n"
          ]
        },
        {
          "output_type": "stream",
          "name": "stderr",
          "text": [
            "Optimizing chunk 3:  73%|███████▎  | 8/11 [1:38:46<34:31, 690.54s/it]"
          ]
        },
        {
          "output_type": "stream",
          "name": "stdout",
          "text": [
            "[I 2025-05-01 12:56:46,618] Trial 25 finished with value: 0.04304267781843589 and parameters: {'lookback': 1, 'units': 233, 'dropout': 0.2963716894821502, 'batch_size': 32, 'epochs': 23}. Best is trial 25 with value: 0.04304267781843589.\n",
            "\u001b[1m7/7\u001b[0m \u001b[32m━━━━━━━━━━━━━━━━━━━━\u001b[0m\u001b[37m\u001b[0m \u001b[1m0s\u001b[0m 47ms/step\n"
          ]
        },
        {
          "output_type": "stream",
          "name": "stderr",
          "text": [
            "Optimizing chunk 3:  73%|███████▎  | 8/11 [1:39:09<34:31, 690.54s/it]"
          ]
        },
        {
          "output_type": "stream",
          "name": "stdout",
          "text": [
            "[I 2025-05-01 12:57:09,446] Trial 26 finished with value: 0.05493637700321516 and parameters: {'lookback': 6, 'units': 234, 'dropout': 0.30697724901052675, 'batch_size': 64, 'epochs': 33}. Best is trial 25 with value: 0.04304267781843589.\n",
            "\u001b[1m7/7\u001b[0m \u001b[32m━━━━━━━━━━━━━━━━━━━━\u001b[0m\u001b[37m\u001b[0m \u001b[1m1s\u001b[0m 68ms/step\n"
          ]
        },
        {
          "output_type": "stream",
          "name": "stderr",
          "text": [
            "Optimizing chunk 3:  73%|███████▎  | 8/11 [1:39:36<34:31, 690.54s/it]"
          ]
        },
        {
          "output_type": "stream",
          "name": "stdout",
          "text": [
            "[I 2025-05-01 12:57:37,193] Trial 27 finished with value: 0.05523549547788155 and parameters: {'lookback': 16, 'units': 207, 'dropout': 0.2855412263393713, 'batch_size': 32, 'epochs': 21}. Best is trial 25 with value: 0.04304267781843589.\n",
            "\u001b[1m7/7\u001b[0m \u001b[32m━━━━━━━━━━━━━━━━━━━━\u001b[0m\u001b[37m\u001b[0m \u001b[1m0s\u001b[0m 43ms/step\n"
          ]
        },
        {
          "output_type": "stream",
          "name": "stderr",
          "text": [
            "Optimizing chunk 3:  73%|███████▎  | 8/11 [1:39:52<34:31, 690.54s/it]"
          ]
        },
        {
          "output_type": "stream",
          "name": "stdout",
          "text": [
            "[I 2025-05-01 12:57:53,391] Trial 28 finished with value: 0.06060355275915777 and parameters: {'lookback': 11, 'units': 192, 'dropout': 0.39264256697730615, 'batch_size': 32, 'epochs': 22}. Best is trial 25 with value: 0.04304267781843589.\n",
            "\u001b[1m7/7\u001b[0m \u001b[32m━━━━━━━━━━━━━━━━━━━━\u001b[0m\u001b[37m\u001b[0m \u001b[1m0s\u001b[0m 39ms/step\n"
          ]
        },
        {
          "output_type": "stream",
          "name": "stderr",
          "text": [
            "Optimizing chunk 3:  82%|████████▏ | 9/11 [1:40:04<24:52, 746.33s/it][I 2025-05-01 12:58:04,878] A new study created in memory with name: no-name-5040d8fa-7e84-46d9-bf27-87eadf9884c2\n"
          ]
        },
        {
          "output_type": "stream",
          "name": "stdout",
          "text": [
            "[I 2025-05-01 12:58:04,842] Trial 29 finished with value: 0.04293273050247844 and parameters: {'lookback': 1, 'units': 219, 'dropout': 0.1750553051433156, 'batch_size': 64, 'epochs': 35}. Best is trial 29 with value: 0.04293273050247844.\n",
            "✅ Done: TXN.O — Best Params: {'lookback': 1, 'units': 219, 'dropout': 0.1750553051433156, 'batch_size': 64, 'epochs': 35}\n",
            "\n",
            "🔍 Optimizing for WDAY.O...\n"
          ]
        },
        {
          "output_type": "display_data",
          "data": {
            "text/plain": [
              "  0%|          | 0/30 [00:00<?, ?it/s]"
            ],
            "application/vnd.jupyter.widget-view+json": {
              "version_major": 2,
              "version_minor": 0,
              "model_id": "3a8a08e5bb854af098252e2e7403e34c"
            }
          },
          "metadata": {}
        },
        {
          "output_type": "stream",
          "name": "stdout",
          "text": [
            "\u001b[1m7/7\u001b[0m \u001b[32m━━━━━━━━━━━━━━━━━━━━\u001b[0m\u001b[37m\u001b[0m \u001b[1m1s\u001b[0m 50ms/step\n"
          ]
        },
        {
          "output_type": "stream",
          "name": "stderr",
          "text": [
            "Optimizing chunk 3:  82%|████████▏ | 9/11 [1:40:46<24:52, 746.33s/it]"
          ]
        },
        {
          "output_type": "stream",
          "name": "stdout",
          "text": [
            "[I 2025-05-01 12:58:46,593] Trial 0 finished with value: 0.04979373254320946 and parameters: {'lookback': 36, 'units': 170, 'dropout': 0.3166000723012179, 'batch_size': 32, 'epochs': 26}. Best is trial 0 with value: 0.04979373254320946.\n",
            "\u001b[1m7/7\u001b[0m \u001b[32m━━━━━━━━━━━━━━━━━━━━\u001b[0m\u001b[37m\u001b[0m \u001b[1m1s\u001b[0m 98ms/step\n"
          ]
        },
        {
          "output_type": "stream",
          "name": "stderr",
          "text": [
            "Optimizing chunk 3:  82%|████████▏ | 9/11 [1:41:14<24:52, 746.33s/it]"
          ]
        },
        {
          "output_type": "stream",
          "name": "stdout",
          "text": [
            "[I 2025-05-01 12:59:15,107] Trial 1 finished with value: 0.05590065397343288 and parameters: {'lookback': 36, 'units': 226, 'dropout': 0.39756031363088606, 'batch_size': 64, 'epochs': 20}. Best is trial 0 with value: 0.04979373254320946.\n",
            "\u001b[1m6/6\u001b[0m \u001b[32m━━━━━━━━━━━━━━━━━━━━\u001b[0m\u001b[37m\u001b[0m \u001b[1m1s\u001b[0m 57ms/step\n"
          ]
        },
        {
          "output_type": "stream",
          "name": "stderr",
          "text": [
            "Optimizing chunk 3:  82%|████████▏ | 9/11 [1:41:46<24:52, 746.33s/it]"
          ]
        },
        {
          "output_type": "stream",
          "name": "stdout",
          "text": [
            "[I 2025-05-01 12:59:46,616] Trial 2 finished with value: 0.0531735301043036 and parameters: {'lookback': 56, 'units': 102, 'dropout': 0.18601477174217435, 'batch_size': 64, 'epochs': 23}. Best is trial 0 with value: 0.04979373254320946.\n",
            "\u001b[1m6/6\u001b[0m \u001b[32m━━━━━━━━━━━━━━━━━━━━\u001b[0m\u001b[37m\u001b[0m \u001b[1m1s\u001b[0m 89ms/step\n"
          ]
        },
        {
          "output_type": "stream",
          "name": "stderr",
          "text": [
            "Optimizing chunk 3:  82%|████████▏ | 9/11 [1:42:51<24:52, 746.33s/it]"
          ]
        },
        {
          "output_type": "stream",
          "name": "stdout",
          "text": [
            "[I 2025-05-01 13:00:52,166] Trial 3 finished with value: 0.052012488709328696 and parameters: {'lookback': 56, 'units': 234, 'dropout': 0.25202813359284837, 'batch_size': 64, 'epochs': 20}. Best is trial 0 with value: 0.04979373254320946.\n",
            "\u001b[1m6/6\u001b[0m \u001b[32m━━━━━━━━━━━━━━━━━━━━\u001b[0m\u001b[37m\u001b[0m \u001b[1m1s\u001b[0m 70ms/step\n"
          ]
        },
        {
          "output_type": "stream",
          "name": "stderr",
          "text": [
            "Optimizing chunk 3:  82%|████████▏ | 9/11 [1:44:09<24:52, 746.33s/it]"
          ]
        },
        {
          "output_type": "stream",
          "name": "stdout",
          "text": [
            "[I 2025-05-01 13:02:10,037] Trial 4 finished with value: 0.05011103360979399 and parameters: {'lookback': 51, 'units': 207, 'dropout': 0.2570332831729985, 'batch_size': 64, 'epochs': 34}. Best is trial 0 with value: 0.04979373254320946.\n",
            "\u001b[1m7/7\u001b[0m \u001b[32m━━━━━━━━━━━━━━━━━━━━\u001b[0m\u001b[37m\u001b[0m \u001b[1m1s\u001b[0m 52ms/step\n"
          ]
        },
        {
          "output_type": "stream",
          "name": "stderr",
          "text": [
            "Optimizing chunk 3:  82%|████████▏ | 9/11 [1:44:38<24:52, 746.33s/it]"
          ]
        },
        {
          "output_type": "stream",
          "name": "stdout",
          "text": [
            "[I 2025-05-01 13:02:38,790] Trial 5 finished with value: 0.054337865505235734 and parameters: {'lookback': 41, 'units': 118, 'dropout': 0.3896470286848681, 'batch_size': 64, 'epochs': 23}. Best is trial 0 with value: 0.04979373254320946.\n",
            "\u001b[1m7/7\u001b[0m \u001b[32m━━━━━━━━━━━━━━━━━━━━\u001b[0m\u001b[37m\u001b[0m \u001b[1m0s\u001b[0m 35ms/step\n"
          ]
        },
        {
          "output_type": "stream",
          "name": "stderr",
          "text": [
            "Optimizing chunk 3:  82%|████████▏ | 9/11 [1:44:51<24:52, 746.33s/it]"
          ]
        },
        {
          "output_type": "stream",
          "name": "stdout",
          "text": [
            "[I 2025-05-01 13:02:51,979] Trial 6 finished with value: 0.04638056861324425 and parameters: {'lookback': 6, 'units': 59, 'dropout': 0.26680634775637324, 'batch_size': 32, 'epochs': 33}. Best is trial 6 with value: 0.04638056861324425.\n",
            "\u001b[1m6/6\u001b[0m \u001b[32m━━━━━━━━━━━━━━━━━━━━\u001b[0m\u001b[37m\u001b[0m \u001b[1m0s\u001b[0m 11ms/step \n"
          ]
        },
        {
          "output_type": "stream",
          "name": "stderr",
          "text": [
            "Optimizing chunk 3:  82%|████████▏ | 9/11 [1:45:09<24:52, 746.33s/it]"
          ]
        },
        {
          "output_type": "stream",
          "name": "stdout",
          "text": [
            "[I 2025-05-01 13:03:09,532] Trial 7 finished with value: 0.053988530996574434 and parameters: {'lookback': 46, 'units': 64, 'dropout': 0.20626770152516305, 'batch_size': 32, 'epochs': 25}. Best is trial 6 with value: 0.04638056861324425.\n",
            "\u001b[1m7/7\u001b[0m \u001b[32m━━━━━━━━━━━━━━━━━━━━\u001b[0m\u001b[37m\u001b[0m \u001b[1m1s\u001b[0m 51ms/step\n"
          ]
        },
        {
          "output_type": "stream",
          "name": "stderr",
          "text": [
            "Optimizing chunk 3:  82%|████████▏ | 9/11 [1:45:40<24:52, 746.33s/it]"
          ]
        },
        {
          "output_type": "stream",
          "name": "stdout",
          "text": [
            "[I 2025-05-01 13:03:41,161] Trial 8 finished with value: 0.047978434591534544 and parameters: {'lookback': 21, 'units': 193, 'dropout': 0.4281449808801139, 'batch_size': 64, 'epochs': 26}. Best is trial 6 with value: 0.04638056861324425.\n",
            "\u001b[1m7/7\u001b[0m \u001b[32m━━━━━━━━━━━━━━━━━━━━\u001b[0m\u001b[37m\u001b[0m \u001b[1m0s\u001b[0m 50ms/step\n"
          ]
        },
        {
          "output_type": "stream",
          "name": "stderr",
          "text": [
            "Optimizing chunk 3:  82%|████████▏ | 9/11 [1:46:13<24:52, 746.33s/it]"
          ]
        },
        {
          "output_type": "stream",
          "name": "stdout",
          "text": [
            "[I 2025-05-01 13:04:13,604] Trial 9 finished with value: 0.04800525147842202 and parameters: {'lookback': 31, 'units': 138, 'dropout': 0.3361671040334904, 'batch_size': 32, 'epochs': 21}. Best is trial 6 with value: 0.04638056861324425.\n",
            "\u001b[1m7/7\u001b[0m \u001b[32m━━━━━━━━━━━━━━━━━━━━\u001b[0m\u001b[37m\u001b[0m \u001b[1m0s\u001b[0m 36ms/step\n"
          ]
        },
        {
          "output_type": "stream",
          "name": "stderr",
          "text": [
            "Optimizing chunk 3:  82%|████████▏ | 9/11 [1:46:22<24:52, 746.33s/it]"
          ]
        },
        {
          "output_type": "stream",
          "name": "stdout",
          "text": [
            "[I 2025-05-01 13:04:22,573] Trial 10 finished with value: 0.03167685945257644 and parameters: {'lookback': 1, 'units': 45, 'dropout': 0.10617658857651854, 'batch_size': 32, 'epochs': 32}. Best is trial 10 with value: 0.03167685945257644.\n",
            "\u001b[1m7/7\u001b[0m \u001b[32m━━━━━━━━━━━━━━━━━━━━\u001b[0m\u001b[37m\u001b[0m \u001b[1m0s\u001b[0m 35ms/step\n"
          ]
        },
        {
          "output_type": "stream",
          "name": "stderr",
          "text": [
            "Optimizing chunk 3:  82%|████████▏ | 9/11 [1:46:31<24:52, 746.33s/it]"
          ]
        },
        {
          "output_type": "stream",
          "name": "stdout",
          "text": [
            "[I 2025-05-01 13:04:31,904] Trial 11 finished with value: 0.031887070338907364 and parameters: {'lookback': 1, 'units': 32, 'dropout': 0.10226630831481731, 'batch_size': 32, 'epochs': 32}. Best is trial 10 with value: 0.03167685945257644.\n",
            "\u001b[1m7/7\u001b[0m \u001b[32m━━━━━━━━━━━━━━━━━━━━\u001b[0m\u001b[37m\u001b[0m \u001b[1m0s\u001b[0m 35ms/step\n"
          ]
        },
        {
          "output_type": "stream",
          "name": "stderr",
          "text": [
            "Optimizing chunk 3:  82%|████████▏ | 9/11 [1:46:41<24:52, 746.33s/it]"
          ]
        },
        {
          "output_type": "stream",
          "name": "stdout",
          "text": [
            "[I 2025-05-01 13:04:41,956] Trial 12 finished with value: 0.031111203468703913 and parameters: {'lookback': 1, 'units': 33, 'dropout': 0.10610026705086656, 'batch_size': 32, 'epochs': 30}. Best is trial 12 with value: 0.031111203468703913.\n",
            "\u001b[1m7/7\u001b[0m \u001b[32m━━━━━━━━━━━━━━━━━━━━\u001b[0m\u001b[37m\u001b[0m \u001b[1m0s\u001b[0m 37ms/step\n"
          ]
        },
        {
          "output_type": "stream",
          "name": "stderr",
          "text": [
            "Optimizing chunk 3:  82%|████████▏ | 9/11 [1:47:01<24:52, 746.33s/it]"
          ]
        },
        {
          "output_type": "stream",
          "name": "stdout",
          "text": [
            "[I 2025-05-01 13:05:01,965] Trial 13 finished with value: 0.04530162248456985 and parameters: {'lookback': 16, 'units': 76, 'dropout': 0.10808834803951463, 'batch_size': 32, 'epochs': 30}. Best is trial 12 with value: 0.031111203468703913.\n",
            "\u001b[1m7/7\u001b[0m \u001b[32m━━━━━━━━━━━━━━━━━━━━\u001b[0m\u001b[37m\u001b[0m \u001b[1m0s\u001b[0m 38ms/step\n"
          ]
        },
        {
          "output_type": "stream",
          "name": "stderr",
          "text": [
            "Optimizing chunk 3:  82%|████████▏ | 9/11 [1:47:14<24:52, 746.33s/it]"
          ]
        },
        {
          "output_type": "stream",
          "name": "stdout",
          "text": [
            "[I 2025-05-01 13:05:14,667] Trial 14 finished with value: 0.0543290138172528 and parameters: {'lookback': 11, 'units': 36, 'dropout': 0.1598429278823178, 'batch_size': 32, 'epochs': 30}. Best is trial 12 with value: 0.031111203468703913.\n",
            "\u001b[1m7/7\u001b[0m \u001b[32m━━━━━━━━━━━━━━━━━━━━\u001b[0m\u001b[37m\u001b[0m \u001b[1m1s\u001b[0m 54ms/step\n"
          ]
        },
        {
          "output_type": "stream",
          "name": "stderr",
          "text": [
            "Optimizing chunk 3:  82%|████████▏ | 9/11 [1:47:22<24:52, 746.33s/it]"
          ]
        },
        {
          "output_type": "stream",
          "name": "stdout",
          "text": [
            "[I 2025-05-01 13:05:22,698] Trial 15 finished with value: 0.030434157607285177 and parameters: {'lookback': 1, 'units': 95, 'dropout': 0.48654602687209114, 'batch_size': 32, 'epochs': 29}. Best is trial 15 with value: 0.030434157607285177.\n",
            "\u001b[1m7/7\u001b[0m \u001b[32m━━━━━━━━━━━━━━━━━━━━\u001b[0m\u001b[37m\u001b[0m \u001b[1m0s\u001b[0m 38ms/step\n"
          ]
        },
        {
          "output_type": "stream",
          "name": "stderr",
          "text": [
            "Optimizing chunk 3:  82%|████████▏ | 9/11 [1:47:42<24:52, 746.33s/it]"
          ]
        },
        {
          "output_type": "stream",
          "name": "stdout",
          "text": [
            "[I 2025-05-01 13:05:42,797] Trial 16 finished with value: 0.0483213699505315 and parameters: {'lookback': 21, 'units': 94, 'dropout': 0.46114931186785174, 'batch_size': 32, 'epochs': 29}. Best is trial 15 with value: 0.030434157607285177.\n",
            "\u001b[1m7/7\u001b[0m \u001b[32m━━━━━━━━━━━━━━━━━━━━\u001b[0m\u001b[37m\u001b[0m \u001b[1m0s\u001b[0m 39ms/step\n"
          ]
        },
        {
          "output_type": "stream",
          "name": "stderr",
          "text": [
            "Optimizing chunk 3:  82%|████████▏ | 9/11 [1:48:04<24:52, 746.33s/it]"
          ]
        },
        {
          "output_type": "stream",
          "name": "stdout",
          "text": [
            "[I 2025-05-01 13:06:05,066] Trial 17 finished with value: 0.04760114511013289 and parameters: {'lookback': 11, 'units': 156, 'dropout': 0.48423438247103917, 'batch_size': 32, 'epochs': 35}. Best is trial 15 with value: 0.030434157607285177.\n",
            "\u001b[1m7/7\u001b[0m \u001b[32m━━━━━━━━━━━━━━━━━━━━\u001b[0m\u001b[37m\u001b[0m \u001b[1m0s\u001b[0m 38ms/step\n"
          ]
        },
        {
          "output_type": "stream",
          "name": "stderr",
          "text": [
            "Optimizing chunk 3:  82%|████████▏ | 9/11 [1:48:13<24:52, 746.33s/it]"
          ]
        },
        {
          "output_type": "stream",
          "name": "stdout",
          "text": [
            "[I 2025-05-01 13:06:13,997] Trial 18 finished with value: 0.031426684196696246 and parameters: {'lookback': 1, 'units': 92, 'dropout': 0.358300070387112, 'batch_size': 32, 'epochs': 29}. Best is trial 15 with value: 0.030434157607285177.\n",
            "\u001b[1m7/7\u001b[0m \u001b[32m━━━━━━━━━━━━━━━━━━━━\u001b[0m\u001b[37m\u001b[0m \u001b[1m0s\u001b[0m 41ms/step\n"
          ]
        },
        {
          "output_type": "stream",
          "name": "stderr",
          "text": [
            "Optimizing chunk 3:  82%|████████▏ | 9/11 [1:48:43<24:52, 746.33s/it]"
          ]
        },
        {
          "output_type": "stream",
          "name": "stdout",
          "text": [
            "[I 2025-05-01 13:06:43,748] Trial 19 finished with value: 0.046921552511459345 and parameters: {'lookback': 21, 'units': 125, 'dropout': 0.2942103366373163, 'batch_size': 32, 'epochs': 28}. Best is trial 15 with value: 0.030434157607285177.\n",
            "\u001b[1m7/7\u001b[0m \u001b[32m━━━━━━━━━━━━━━━━━━━━\u001b[0m\u001b[37m\u001b[0m \u001b[1m0s\u001b[0m 39ms/step\n"
          ]
        },
        {
          "output_type": "stream",
          "name": "stderr",
          "text": [
            "Optimizing chunk 3:  82%|████████▏ | 9/11 [1:48:56<24:52, 746.33s/it]"
          ]
        },
        {
          "output_type": "stream",
          "name": "stdout",
          "text": [
            "[I 2025-05-01 13:06:57,342] Trial 20 finished with value: 0.050505645968993984 and parameters: {'lookback': 11, 'units': 67, 'dropout': 0.4941242912682327, 'batch_size': 32, 'epochs': 31}. Best is trial 15 with value: 0.030434157607285177.\n",
            "\u001b[1m7/7\u001b[0m \u001b[32m━━━━━━━━━━━━━━━━━━━━\u001b[0m\u001b[37m\u001b[0m \u001b[1m0s\u001b[0m 37ms/step\n"
          ]
        },
        {
          "output_type": "stream",
          "name": "stderr",
          "text": [
            "Optimizing chunk 3:  82%|████████▏ | 9/11 [1:49:05<24:52, 746.33s/it]"
          ]
        },
        {
          "output_type": "stream",
          "name": "stdout",
          "text": [
            "[I 2025-05-01 13:07:06,100] Trial 21 finished with value: 0.03100252416913177 and parameters: {'lookback': 1, 'units': 91, 'dropout': 0.3533204581744342, 'batch_size': 32, 'epochs': 28}. Best is trial 15 with value: 0.030434157607285177.\n",
            "\u001b[1m7/7\u001b[0m \u001b[32m━━━━━━━━━━━━━━━━━━━━\u001b[0m\u001b[37m\u001b[0m \u001b[1m0s\u001b[0m 37ms/step\n"
          ]
        },
        {
          "output_type": "stream",
          "name": "stderr",
          "text": [
            "Optimizing chunk 3:  82%|████████▏ | 9/11 [1:49:20<24:52, 746.33s/it]"
          ]
        },
        {
          "output_type": "stream",
          "name": "stdout",
          "text": [
            "[I 2025-05-01 13:07:20,496] Trial 22 finished with value: 0.04661735151123104 and parameters: {'lookback': 6, 'units': 110, 'dropout': 0.4202915423940953, 'batch_size': 32, 'epochs': 27}. Best is trial 15 with value: 0.030434157607285177.\n",
            "\u001b[1m7/7\u001b[0m \u001b[32m━━━━━━━━━━━━━━━━━━━━\u001b[0m\u001b[37m\u001b[0m \u001b[1m0s\u001b[0m 40ms/step\n"
          ]
        },
        {
          "output_type": "stream",
          "name": "stderr",
          "text": [
            "Optimizing chunk 3:  82%|████████▏ | 9/11 [1:49:29<24:52, 746.33s/it]"
          ]
        },
        {
          "output_type": "stream",
          "name": "stdout",
          "text": [
            "[I 2025-05-01 13:07:29,540] Trial 23 finished with value: 0.048761281810080465 and parameters: {'lookback': 6, 'units': 83, 'dropout': 0.35864726295915617, 'batch_size': 32, 'epochs': 28}. Best is trial 15 with value: 0.030434157607285177.\n",
            "\u001b[1m7/7\u001b[0m \u001b[32m━━━━━━━━━━━━━━━━━━━━\u001b[0m\u001b[37m\u001b[0m \u001b[1m0s\u001b[0m 35ms/step\n"
          ]
        },
        {
          "output_type": "stream",
          "name": "stderr",
          "text": [
            "Optimizing chunk 3:  82%|████████▏ | 9/11 [1:49:37<24:52, 746.33s/it]"
          ]
        },
        {
          "output_type": "stream",
          "name": "stdout",
          "text": [
            "[I 2025-05-01 13:07:38,381] Trial 24 finished with value: 0.03163376128101598 and parameters: {'lookback': 1, 'units': 52, 'dropout': 0.44900984648829206, 'batch_size': 32, 'epochs': 30}. Best is trial 15 with value: 0.030434157607285177.\n",
            "\u001b[1m7/7\u001b[0m \u001b[32m━━━━━━━━━━━━━━━━━━━━\u001b[0m\u001b[37m\u001b[0m \u001b[1m0s\u001b[0m 42ms/step\n"
          ]
        },
        {
          "output_type": "stream",
          "name": "stderr",
          "text": [
            "Optimizing chunk 3:  82%|████████▏ | 9/11 [1:50:02<24:52, 746.33s/it]"
          ]
        },
        {
          "output_type": "stream",
          "name": "stdout",
          "text": [
            "[I 2025-05-01 13:08:02,682] Trial 25 finished with value: 0.04643002673707185 and parameters: {'lookback': 16, 'units': 138, 'dropout': 0.21352296508464538, 'batch_size': 32, 'epochs': 25}. Best is trial 15 with value: 0.030434157607285177.\n",
            "\u001b[1m7/7\u001b[0m \u001b[32m━━━━━━━━━━━━━━━━━━━━\u001b[0m\u001b[37m\u001b[0m \u001b[1m0s\u001b[0m 38ms/step\n"
          ]
        },
        {
          "output_type": "stream",
          "name": "stderr",
          "text": [
            "Optimizing chunk 3:  82%|████████▏ | 9/11 [1:50:21<24:52, 746.33s/it]"
          ]
        },
        {
          "output_type": "stream",
          "name": "stdout",
          "text": [
            "[I 2025-05-01 13:08:21,574] Trial 26 finished with value: 0.04583081175473511 and parameters: {'lookback': 6, 'units': 164, 'dropout': 0.14124456767817134, 'batch_size': 32, 'epochs': 27}. Best is trial 15 with value: 0.030434157607285177.\n",
            "\u001b[1m7/7\u001b[0m \u001b[32m━━━━━━━━━━━━━━━━━━━━\u001b[0m\u001b[37m\u001b[0m \u001b[1m0s\u001b[0m 40ms/step\n"
          ]
        },
        {
          "output_type": "stream",
          "name": "stderr",
          "text": [
            "Optimizing chunk 3:  82%|████████▏ | 9/11 [1:50:40<24:52, 746.33s/it]"
          ]
        },
        {
          "output_type": "stream",
          "name": "stdout",
          "text": [
            "[I 2025-05-01 13:08:40,947] Trial 27 finished with value: 0.04470497977033199 and parameters: {'lookback': 16, 'units': 79, 'dropout': 0.28828520675735003, 'batch_size': 32, 'epochs': 31}. Best is trial 15 with value: 0.030434157607285177.\n",
            "\u001b[1m7/7\u001b[0m \u001b[32m━━━━━━━━━━━━━━━━━━━━\u001b[0m\u001b[37m\u001b[0m \u001b[1m0s\u001b[0m 43ms/step\n"
          ]
        },
        {
          "output_type": "stream",
          "name": "stderr",
          "text": [
            "Optimizing chunk 3:  82%|████████▏ | 9/11 [1:51:18<24:52, 746.33s/it]"
          ]
        },
        {
          "output_type": "stream",
          "name": "stdout",
          "text": [
            "[I 2025-05-01 13:09:18,848] Trial 28 finished with value: 0.04708338133597276 and parameters: {'lookback': 26, 'units': 125, 'dropout': 0.39684965029859226, 'batch_size': 32, 'epochs': 29}. Best is trial 15 with value: 0.030434157607285177.\n",
            "\u001b[1m7/7\u001b[0m \u001b[32m━━━━━━━━━━━━━━━━━━━━\u001b[0m\u001b[37m\u001b[0m \u001b[1m0s\u001b[0m 41ms/step\n"
          ]
        },
        {
          "output_type": "stream",
          "name": "stderr",
          "text": [
            "Optimizing chunk 3:  91%|█████████ | 10/11 [1:51:42<12:11, 731.44s/it][I 2025-05-01 13:09:42,985] A new study created in memory with name: no-name-8043a45e-d24e-4bad-92b1-6217d5d24a7c\n"
          ]
        },
        {
          "output_type": "stream",
          "name": "stdout",
          "text": [
            "[I 2025-05-01 13:09:42,957] Trial 29 finished with value: 0.04536079364364119 and parameters: {'lookback': 11, 'units': 181, 'dropout': 0.3129833879737957, 'batch_size': 32, 'epochs': 27}. Best is trial 15 with value: 0.030434157607285177.\n",
            "✅ Done: WDAY.O — Best Params: {'lookback': 1, 'units': 95, 'dropout': 0.48654602687209114, 'batch_size': 32, 'epochs': 29}\n",
            "\n",
            "🔍 Optimizing for ZS.O...\n"
          ]
        },
        {
          "output_type": "display_data",
          "data": {
            "text/plain": [
              "  0%|          | 0/30 [00:00<?, ?it/s]"
            ],
            "application/vnd.jupyter.widget-view+json": {
              "version_major": 2,
              "version_minor": 0,
              "model_id": "dd06452fbb94436ba6b6acaf9f74f616"
            }
          },
          "metadata": {}
        },
        {
          "output_type": "stream",
          "name": "stdout",
          "text": [
            "\u001b[1m7/7\u001b[0m \u001b[32m━━━━━━━━━━━━━━━━━━━━\u001b[0m\u001b[37m\u001b[0m \u001b[1m1s\u001b[0m 49ms/step\n"
          ]
        },
        {
          "output_type": "stream",
          "name": "stderr",
          "text": [
            "Optimizing chunk 3:  91%|█████████ | 10/11 [1:52:09<12:11, 731.44s/it]"
          ]
        },
        {
          "output_type": "stream",
          "name": "stdout",
          "text": [
            "[I 2025-05-01 13:10:09,690] Trial 0 finished with value: 0.029464771247768227 and parameters: {'lookback': 26, 'units': 220, 'dropout': 0.1296547032471362, 'batch_size': 32, 'epochs': 30}. Best is trial 0 with value: 0.029464771247768227.\n",
            "\u001b[1m7/7\u001b[0m \u001b[32m━━━━━━━━━━━━━━━━━━━━\u001b[0m\u001b[37m\u001b[0m \u001b[1m0s\u001b[0m 38ms/step\n"
          ]
        },
        {
          "output_type": "stream",
          "name": "stderr",
          "text": [
            "Optimizing chunk 3:  91%|█████████ | 10/11 [1:52:30<12:11, 731.44s/it]"
          ]
        },
        {
          "output_type": "stream",
          "name": "stdout",
          "text": [
            "[I 2025-05-01 13:10:30,591] Trial 1 finished with value: 0.027958032693424707 and parameters: {'lookback': 26, 'units': 86, 'dropout': 0.4383132053308284, 'batch_size': 32, 'epochs': 25}. Best is trial 1 with value: 0.027958032693424707.\n",
            "\u001b[1m6/6\u001b[0m \u001b[32m━━━━━━━━━━━━━━━━━━━━\u001b[0m\u001b[37m\u001b[0m \u001b[1m1s\u001b[0m 75ms/step\n"
          ]
        },
        {
          "output_type": "stream",
          "name": "stderr",
          "text": [
            "Optimizing chunk 3:  91%|█████████ | 10/11 [1:52:56<12:11, 731.44s/it]"
          ]
        },
        {
          "output_type": "stream",
          "name": "stdout",
          "text": [
            "[I 2025-05-01 13:10:56,789] Trial 2 finished with value: 0.03183427445666193 and parameters: {'lookback': 51, 'units': 199, 'dropout': 0.2872511598830244, 'batch_size': 64, 'epochs': 23}. Best is trial 1 with value: 0.027958032693424707.\n",
            "\u001b[1m6/6\u001b[0m \u001b[32m━━━━━━━━━━━━━━━━━━━━\u001b[0m\u001b[37m\u001b[0m \u001b[1m0s\u001b[0m 30ms/step\n"
          ]
        },
        {
          "output_type": "stream",
          "name": "stderr",
          "text": [
            "Optimizing chunk 3:  91%|█████████ | 10/11 [1:53:43<12:11, 731.44s/it]"
          ]
        },
        {
          "output_type": "stream",
          "name": "stdout",
          "text": [
            "[I 2025-05-01 13:11:44,359] Trial 3 finished with value: 0.028055674252812298 and parameters: {'lookback': 46, 'units': 162, 'dropout': 0.2815176287509814, 'batch_size': 32, 'epochs': 28}. Best is trial 1 with value: 0.027958032693424707.\n",
            "\u001b[1m7/7\u001b[0m \u001b[32m━━━━━━━━━━━━━━━━━━━━\u001b[0m\u001b[37m\u001b[0m \u001b[1m1s\u001b[0m 62ms/step\n"
          ]
        },
        {
          "output_type": "stream",
          "name": "stderr",
          "text": [
            "Optimizing chunk 3:  91%|█████████ | 10/11 [1:54:03<12:11, 731.44s/it]"
          ]
        },
        {
          "output_type": "stream",
          "name": "stdout",
          "text": [
            "[I 2025-05-01 13:12:03,480] Trial 4 finished with value: 0.02771928684236724 and parameters: {'lookback': 16, 'units': 117, 'dropout': 0.19634997750637986, 'batch_size': 32, 'epochs': 26}. Best is trial 4 with value: 0.02771928684236724.\n",
            "\u001b[1m7/7\u001b[0m \u001b[32m━━━━━━━━━━━━━━━━━━━━\u001b[0m\u001b[37m\u001b[0m \u001b[1m1s\u001b[0m 54ms/step\n"
          ]
        },
        {
          "output_type": "stream",
          "name": "stderr",
          "text": [
            "Optimizing chunk 3:  91%|█████████ | 10/11 [1:55:10<12:11, 731.44s/it]"
          ]
        },
        {
          "output_type": "stream",
          "name": "stdout",
          "text": [
            "[I 2025-05-01 13:13:10,703] Trial 5 finished with value: 0.025574207301345193 and parameters: {'lookback': 41, 'units': 172, 'dropout': 0.11256277652647198, 'batch_size': 32, 'epochs': 28}. Best is trial 5 with value: 0.025574207301345193.\n",
            "\u001b[1m7/7\u001b[0m \u001b[32m━━━━━━━━━━━━━━━━━━━━\u001b[0m\u001b[37m\u001b[0m \u001b[1m0s\u001b[0m 40ms/step\n"
          ]
        },
        {
          "output_type": "stream",
          "name": "stderr",
          "text": [
            "Optimizing chunk 3:  91%|█████████ | 10/11 [1:55:22<12:11, 731.44s/it]"
          ]
        },
        {
          "output_type": "stream",
          "name": "stdout",
          "text": [
            "[I 2025-05-01 13:13:22,488] Trial 6 finished with value: 0.029769439524334213 and parameters: {'lookback': 11, 'units': 190, 'dropout': 0.2608833124323584, 'batch_size': 32, 'epochs': 20}. Best is trial 5 with value: 0.025574207301345193.\n",
            "\u001b[1m6/6\u001b[0m \u001b[32m━━━━━━━━━━━━━━━━━━━━\u001b[0m\u001b[37m\u001b[0m \u001b[1m0s\u001b[0m 47ms/step\n"
          ]
        },
        {
          "output_type": "stream",
          "name": "stderr",
          "text": [
            "Optimizing chunk 3:  91%|█████████ | 10/11 [1:55:45<12:11, 731.44s/it]"
          ]
        },
        {
          "output_type": "stream",
          "name": "stdout",
          "text": [
            "[I 2025-05-01 13:13:45,718] Trial 7 finished with value: 0.031265090018285584 and parameters: {'lookback': 51, 'units': 67, 'dropout': 0.1752711604952172, 'batch_size': 64, 'epochs': 35}. Best is trial 5 with value: 0.025574207301345193.\n",
            "\u001b[1m7/7\u001b[0m \u001b[32m━━━━━━━━━━━━━━━━━━━━\u001b[0m\u001b[37m\u001b[0m \u001b[1m1s\u001b[0m 48ms/step\n"
          ]
        },
        {
          "output_type": "stream",
          "name": "stderr",
          "text": [
            "Optimizing chunk 3:  91%|█████████ | 10/11 [1:56:23<12:11, 731.44s/it]"
          ]
        },
        {
          "output_type": "stream",
          "name": "stdout",
          "text": [
            "[I 2025-05-01 13:14:23,702] Trial 8 finished with value: 0.031725930010426215 and parameters: {'lookback': 36, 'units': 156, 'dropout': 0.13799095946521578, 'batch_size': 64, 'epochs': 30}. Best is trial 5 with value: 0.025574207301345193.\n",
            "\u001b[1m7/7\u001b[0m \u001b[32m━━━━━━━━━━━━━━━━━━━━\u001b[0m\u001b[37m\u001b[0m \u001b[1m0s\u001b[0m 35ms/step\n"
          ]
        },
        {
          "output_type": "stream",
          "name": "stderr",
          "text": [
            "Optimizing chunk 3:  91%|█████████ | 10/11 [1:56:35<12:11, 731.44s/it]"
          ]
        },
        {
          "output_type": "stream",
          "name": "stdout",
          "text": [
            "[I 2025-05-01 13:14:35,713] Trial 9 finished with value: 0.02817751200448543 and parameters: {'lookback': 6, 'units': 107, 'dropout': 0.32309332871715357, 'batch_size': 64, 'epochs': 30}. Best is trial 5 with value: 0.025574207301345193.\n",
            "\u001b[1m7/7\u001b[0m \u001b[32m━━━━━━━━━━━━━━━━━━━━\u001b[0m\u001b[37m\u001b[0m \u001b[1m0s\u001b[0m 38ms/step\n"
          ]
        },
        {
          "output_type": "stream",
          "name": "stderr",
          "text": [
            "Optimizing chunk 3:  91%|█████████ | 10/11 [1:56:58<12:11, 731.44s/it]"
          ]
        },
        {
          "output_type": "stream",
          "name": "stdout",
          "text": [
            "[I 2025-05-01 13:14:58,772] Trial 10 finished with value: 0.03137513791555227 and parameters: {'lookback': 36, 'units': 33, 'dropout': 0.3989551639062644, 'batch_size': 32, 'epochs': 35}. Best is trial 5 with value: 0.025574207301345193.\n",
            "\u001b[1m7/7\u001b[0m \u001b[32m━━━━━━━━━━━━━━━━━━━━\u001b[0m\u001b[37m\u001b[0m \u001b[1m0s\u001b[0m 47ms/step\n"
          ]
        },
        {
          "output_type": "stream",
          "name": "stderr",
          "text": [
            "Optimizing chunk 3:  91%|█████████ | 10/11 [1:57:37<12:11, 731.44s/it]"
          ]
        },
        {
          "output_type": "stream",
          "name": "stdout",
          "text": [
            "[I 2025-05-01 13:15:37,837] Trial 11 finished with value: 0.026420561406639332 and parameters: {'lookback': 16, 'units': 256, 'dropout': 0.20682261144023387, 'batch_size': 32, 'epochs': 26}. Best is trial 5 with value: 0.025574207301345193.\n",
            "\u001b[1m7/7\u001b[0m \u001b[32m━━━━━━━━━━━━━━━━━━━━\u001b[0m\u001b[37m\u001b[0m \u001b[1m0s\u001b[0m 47ms/step\n"
          ]
        },
        {
          "output_type": "stream",
          "name": "stderr",
          "text": [
            "Optimizing chunk 3:  91%|█████████ | 10/11 [1:58:02<12:11, 731.44s/it]"
          ]
        },
        {
          "output_type": "stream",
          "name": "stdout",
          "text": [
            "[I 2025-05-01 13:16:02,856] Trial 12 finished with value: 0.031693991636555785 and parameters: {'lookback': 21, 'units': 254, 'dropout': 0.21406749247957194, 'batch_size': 32, 'epochs': 24}. Best is trial 5 with value: 0.025574207301345193.\n",
            "\u001b[1m7/7\u001b[0m \u001b[32m━━━━━━━━━━━━━━━━━━━━\u001b[0m\u001b[37m\u001b[0m \u001b[1m0s\u001b[0m 35ms/step\n"
          ]
        },
        {
          "output_type": "stream",
          "name": "stderr",
          "text": [
            "Optimizing chunk 3:  91%|█████████ | 10/11 [1:58:13<12:11, 731.44s/it]"
          ]
        },
        {
          "output_type": "stream",
          "name": "stdout",
          "text": [
            "[I 2025-05-01 13:16:13,493] Trial 13 finished with value: 0.016884419434403195 and parameters: {'lookback': 1, 'units': 250, 'dropout': 0.11675851790430276, 'batch_size': 32, 'epochs': 28}. Best is trial 13 with value: 0.016884419434403195.\n",
            "\u001b[1m7/7\u001b[0m \u001b[32m━━━━━━━━━━━━━━━━━━━━\u001b[0m\u001b[37m\u001b[0m \u001b[1m0s\u001b[0m 35ms/step\n"
          ]
        },
        {
          "output_type": "stream",
          "name": "stderr",
          "text": [
            "Optimizing chunk 3:  91%|█████████ | 10/11 [1:58:22<12:11, 731.44s/it]"
          ]
        },
        {
          "output_type": "stream",
          "name": "stdout",
          "text": [
            "[I 2025-05-01 13:16:22,485] Trial 14 finished with value: 0.016756432302050324 and parameters: {'lookback': 1, 'units': 220, 'dropout': 0.11157219369014418, 'batch_size': 32, 'epochs': 33}. Best is trial 14 with value: 0.016756432302050324.\n",
            "\u001b[1m7/7\u001b[0m \u001b[32m━━━━━━━━━━━━━━━━━━━━\u001b[0m\u001b[37m\u001b[0m \u001b[1m0s\u001b[0m 37ms/step\n"
          ]
        },
        {
          "output_type": "stream",
          "name": "stderr",
          "text": [
            "Optimizing chunk 3:  91%|█████████ | 10/11 [1:58:30<12:11, 731.44s/it]"
          ]
        },
        {
          "output_type": "stream",
          "name": "stdout",
          "text": [
            "[I 2025-05-01 13:16:31,275] Trial 15 finished with value: 0.017113934616154142 and parameters: {'lookback': 1, 'units': 222, 'dropout': 0.10352655087659379, 'batch_size': 32, 'epochs': 33}. Best is trial 14 with value: 0.016756432302050324.\n",
            "\u001b[1m7/7\u001b[0m \u001b[32m━━━━━━━━━━━━━━━━━━━━\u001b[0m\u001b[37m\u001b[0m \u001b[1m0s\u001b[0m 38ms/step\n"
          ]
        },
        {
          "output_type": "stream",
          "name": "stderr",
          "text": [
            "Optimizing chunk 3:  91%|█████████ | 10/11 [1:58:39<12:11, 731.44s/it]"
          ]
        },
        {
          "output_type": "stream",
          "name": "stdout",
          "text": [
            "[I 2025-05-01 13:16:40,211] Trial 16 finished with value: 0.01660377733694018 and parameters: {'lookback': 1, 'units': 227, 'dropout': 0.1717298780534997, 'batch_size': 32, 'epochs': 32}. Best is trial 16 with value: 0.01660377733694018.\n",
            "\u001b[1m7/7\u001b[0m \u001b[32m━━━━━━━━━━━━━━━━━━━━\u001b[0m\u001b[37m\u001b[0m \u001b[1m1s\u001b[0m 54ms/step\n"
          ]
        },
        {
          "output_type": "stream",
          "name": "stderr",
          "text": [
            "Optimizing chunk 3:  91%|█████████ | 10/11 [1:58:53<12:11, 731.44s/it]"
          ]
        },
        {
          "output_type": "stream",
          "name": "stdout",
          "text": [
            "[I 2025-05-01 13:16:54,088] Trial 17 finished with value: 0.027172667198598913 and parameters: {'lookback': 6, 'units': 220, 'dropout': 0.16622932388713438, 'batch_size': 32, 'epochs': 33}. Best is trial 16 with value: 0.01660377733694018.\n",
            "\u001b[1m7/7\u001b[0m \u001b[32m━━━━━━━━━━━━━━━━━━━━\u001b[0m\u001b[37m\u001b[0m \u001b[1m0s\u001b[0m 41ms/step\n"
          ]
        },
        {
          "output_type": "stream",
          "name": "stderr",
          "text": [
            "Optimizing chunk 3:  91%|█████████ | 10/11 [1:59:15<12:11, 731.44s/it]"
          ]
        },
        {
          "output_type": "stream",
          "name": "stdout",
          "text": [
            "[I 2025-05-01 13:17:15,560] Trial 18 finished with value: 0.02717872713672896 and parameters: {'lookback': 11, 'units': 134, 'dropout': 0.33668690461706385, 'batch_size': 64, 'epochs': 32}. Best is trial 16 with value: 0.01660377733694018.\n",
            "\u001b[1m7/7\u001b[0m \u001b[32m━━━━━━━━━━━━━━━━━━━━\u001b[0m\u001b[37m\u001b[0m \u001b[1m0s\u001b[0m 36ms/step\n"
          ]
        },
        {
          "output_type": "stream",
          "name": "stderr",
          "text": [
            "Optimizing chunk 3:  91%|█████████ | 10/11 [1:59:26<12:11, 731.44s/it]"
          ]
        },
        {
          "output_type": "stream",
          "name": "stdout",
          "text": [
            "[I 2025-05-01 13:17:26,846] Trial 19 finished with value: 0.016986433678484618 and parameters: {'lookback': 1, 'units': 192, 'dropout': 0.23314353014932768, 'batch_size': 32, 'epochs': 32}. Best is trial 16 with value: 0.01660377733694018.\n",
            "\u001b[1m7/7\u001b[0m \u001b[32m━━━━━━━━━━━━━━━━━━━━\u001b[0m\u001b[37m\u001b[0m \u001b[1m0s\u001b[0m 41ms/step\n"
          ]
        },
        {
          "output_type": "stream",
          "name": "stderr",
          "text": [
            "Optimizing chunk 3:  91%|█████████ | 10/11 [1:59:51<12:11, 731.44s/it]"
          ]
        },
        {
          "output_type": "stream",
          "name": "stdout",
          "text": [
            "[I 2025-05-01 13:17:52,082] Trial 20 finished with value: 0.02710792070620268 and parameters: {'lookback': 11, 'units': 231, 'dropout': 0.4807918020836589, 'batch_size': 32, 'epochs': 34}. Best is trial 16 with value: 0.01660377733694018.\n",
            "\u001b[1m7/7\u001b[0m \u001b[32m━━━━━━━━━━━━━━━━━━━━\u001b[0m\u001b[37m\u001b[0m \u001b[1m0s\u001b[0m 33ms/step\n"
          ]
        },
        {
          "output_type": "stream",
          "name": "stderr",
          "text": [
            "Optimizing chunk 3:  91%|█████████ | 10/11 [2:00:01<12:11, 731.44s/it]"
          ]
        },
        {
          "output_type": "stream",
          "name": "stdout",
          "text": [
            "[I 2025-05-01 13:18:01,757] Trial 21 finished with value: 0.016869646845997614 and parameters: {'lookback': 1, 'units': 242, 'dropout': 0.15213722532020338, 'batch_size': 32, 'epochs': 31}. Best is trial 16 with value: 0.01660377733694018.\n",
            "\u001b[1m7/7\u001b[0m \u001b[32m━━━━━━━━━━━━━━━━━━━━\u001b[0m\u001b[37m\u001b[0m \u001b[1m0s\u001b[0m 39ms/step\n"
          ]
        },
        {
          "output_type": "stream",
          "name": "stderr",
          "text": [
            "Optimizing chunk 3:  91%|█████████ | 10/11 [2:00:12<12:11, 731.44s/it]"
          ]
        },
        {
          "output_type": "stream",
          "name": "stdout",
          "text": [
            "[I 2025-05-01 13:18:13,102] Trial 22 finished with value: 0.02676687275590954 and parameters: {'lookback': 6, 'units': 236, 'dropout': 0.17063719605243086, 'batch_size': 32, 'epochs': 31}. Best is trial 16 with value: 0.01660377733694018.\n",
            "\u001b[1m7/7\u001b[0m \u001b[32m━━━━━━━━━━━━━━━━━━━━\u001b[0m\u001b[37m\u001b[0m \u001b[1m0s\u001b[0m 34ms/step\n"
          ]
        },
        {
          "output_type": "stream",
          "name": "stderr",
          "text": [
            "Optimizing chunk 3:  91%|█████████ | 10/11 [2:00:23<12:11, 731.44s/it]"
          ]
        },
        {
          "output_type": "stream",
          "name": "stdout",
          "text": [
            "[I 2025-05-01 13:18:23,441] Trial 23 finished with value: 0.016718597654646207 and parameters: {'lookback': 1, 'units': 204, 'dropout': 0.15834409225226592, 'batch_size': 32, 'epochs': 31}. Best is trial 16 with value: 0.01660377733694018.\n",
            "\u001b[1m7/7\u001b[0m \u001b[32m━━━━━━━━━━━━━━━━━━━━\u001b[0m\u001b[37m\u001b[0m \u001b[1m0s\u001b[0m 45ms/step\n"
          ]
        },
        {
          "output_type": "stream",
          "name": "stderr",
          "text": [
            "Optimizing chunk 3:  91%|█████████ | 10/11 [2:00:49<12:11, 731.44s/it]"
          ]
        },
        {
          "output_type": "stream",
          "name": "stdout",
          "text": [
            "[I 2025-05-01 13:18:50,220] Trial 24 finished with value: 0.02929205444149298 and parameters: {'lookback': 16, 'units': 207, 'dropout': 0.23852554388204666, 'batch_size': 32, 'epochs': 33}. Best is trial 16 with value: 0.01660377733694018.\n",
            "\u001b[1m7/7\u001b[0m \u001b[32m━━━━━━━━━━━━━━━━━━━━\u001b[0m\u001b[37m\u001b[0m \u001b[1m0s\u001b[0m 37ms/step\n"
          ]
        },
        {
          "output_type": "stream",
          "name": "stderr",
          "text": [
            "Optimizing chunk 3:  91%|█████████ | 10/11 [2:00:58<12:11, 731.44s/it]"
          ]
        },
        {
          "output_type": "stream",
          "name": "stdout",
          "text": [
            "[I 2025-05-01 13:18:59,349] Trial 25 finished with value: 0.026950328540730973 and parameters: {'lookback': 6, 'units': 177, 'dropout': 0.1003689166274892, 'batch_size': 32, 'epochs': 29}. Best is trial 16 with value: 0.01660377733694018.\n",
            "\u001b[1m7/7\u001b[0m \u001b[32m━━━━━━━━━━━━━━━━━━━━\u001b[0m\u001b[37m\u001b[0m \u001b[1m0s\u001b[0m 46ms/step\n"
          ]
        },
        {
          "output_type": "stream",
          "name": "stderr",
          "text": [
            "Optimizing chunk 3:  91%|█████████ | 10/11 [2:01:17<12:11, 731.44s/it]"
          ]
        },
        {
          "output_type": "stream",
          "name": "stdout",
          "text": [
            "[I 2025-05-01 13:19:18,150] Trial 26 finished with value: 0.02843712825476621 and parameters: {'lookback': 21, 'units': 210, 'dropout': 0.1847328959338348, 'batch_size': 64, 'epochs': 34}. Best is trial 16 with value: 0.01660377733694018.\n",
            "\u001b[1m7/7\u001b[0m \u001b[32m━━━━━━━━━━━━━━━━━━━━\u001b[0m\u001b[37m\u001b[0m \u001b[1m0s\u001b[0m 34ms/step\n"
          ]
        },
        {
          "output_type": "stream",
          "name": "stderr",
          "text": [
            "Optimizing chunk 3:  91%|█████████ | 10/11 [2:01:27<12:11, 731.44s/it]"
          ]
        },
        {
          "output_type": "stream",
          "name": "stdout",
          "text": [
            "[I 2025-05-01 13:19:28,277] Trial 27 finished with value: 0.016697155748350494 and parameters: {'lookback': 1, 'units': 181, 'dropout': 0.36729182787639636, 'batch_size': 32, 'epochs': 32}. Best is trial 16 with value: 0.01660377733694018.\n",
            "\u001b[1m7/7\u001b[0m \u001b[32m━━━━━━━━━━━━━━━━━━━━\u001b[0m\u001b[37m\u001b[0m \u001b[1m0s\u001b[0m 36ms/step\n"
          ]
        },
        {
          "output_type": "stream",
          "name": "stderr",
          "text": [
            "Optimizing chunk 3:  91%|█████████ | 10/11 [2:01:41<12:11, 731.44s/it]"
          ]
        },
        {
          "output_type": "stream",
          "name": "stdout",
          "text": [
            "[I 2025-05-01 13:19:42,119] Trial 28 finished with value: 0.03060065495789258 and parameters: {'lookback': 11, 'units': 143, 'dropout': 0.34952212829334856, 'batch_size': 32, 'epochs': 31}. Best is trial 16 with value: 0.01660377733694018.\n",
            "\u001b[1m7/7\u001b[0m \u001b[32m━━━━━━━━━━━━━━━━━━━━\u001b[0m\u001b[37m\u001b[0m \u001b[1m0s\u001b[0m 43ms/step\n"
          ]
        },
        {
          "output_type": "stream",
          "name": "stderr",
          "text": [
            "Optimizing chunk 3: 100%|██████████| 11/11 [2:02:07<00:00, 666.09s/it]"
          ]
        },
        {
          "output_type": "stream",
          "name": "stdout",
          "text": [
            "[I 2025-05-01 13:20:07,415] Trial 29 finished with value: 0.028150644169272335 and parameters: {'lookback': 21, 'units': 172, 'dropout': 0.37464285306482775, 'batch_size': 32, 'epochs': 29}. Best is trial 16 with value: 0.01660377733694018.\n",
            "✅ Done: ZS.O — Best Params: {'lookback': 1, 'units': 227, 'dropout': 0.1717298780534997, 'batch_size': 32, 'epochs': 32}\n"
          ]
        },
        {
          "output_type": "stream",
          "name": "stderr",
          "text": [
            "\n"
          ]
        }
      ]
    }
  ]
}