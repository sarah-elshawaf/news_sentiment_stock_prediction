{
  "nbformat": 4,
  "nbformat_minor": 0,
  "metadata": {
    "colab": {
      "provenance": []
    },
    "kernelspec": {
      "name": "python3",
      "display_name": "Python 3"
    },
    "language_info": {
      "name": "python"
    },
    "widgets": {
      "application/vnd.jupyter.widget-state+json": {
        "3bdd658c0aa74b42b62598df6e126631": {
          "model_module": "@jupyter-widgets/controls",
          "model_name": "HBoxModel",
          "model_module_version": "1.5.0",
          "state": {
            "_dom_classes": [],
            "_model_module": "@jupyter-widgets/controls",
            "_model_module_version": "1.5.0",
            "_model_name": "HBoxModel",
            "_view_count": null,
            "_view_module": "@jupyter-widgets/controls",
            "_view_module_version": "1.5.0",
            "_view_name": "HBoxView",
            "box_style": "",
            "children": [
              "IPY_MODEL_cfc65fdba1704635a8798439010905ca",
              "IPY_MODEL_302d6a6d65884b5c9157605f5d58458c",
              "IPY_MODEL_d3938a55d05f40c5bc6ebd4a0ae261d6"
            ],
            "layout": "IPY_MODEL_6b761c694e09478183f205b070c29451"
          }
        },
        "cfc65fdba1704635a8798439010905ca": {
          "model_module": "@jupyter-widgets/controls",
          "model_name": "HTMLModel",
          "model_module_version": "1.5.0",
          "state": {
            "_dom_classes": [],
            "_model_module": "@jupyter-widgets/controls",
            "_model_module_version": "1.5.0",
            "_model_name": "HTMLModel",
            "_view_count": null,
            "_view_module": "@jupyter-widgets/controls",
            "_view_module_version": "1.5.0",
            "_view_name": "HTMLView",
            "description": "",
            "description_tooltip": null,
            "layout": "IPY_MODEL_aa5b4b863a1a43449d4416731114f5b6",
            "placeholder": "​",
            "style": "IPY_MODEL_7c49309fc3d643ddbc122d4046e6887b",
            "value": "Best trial: 21. Best value: 0.0314531: 100%"
          }
        },
        "302d6a6d65884b5c9157605f5d58458c": {
          "model_module": "@jupyter-widgets/controls",
          "model_name": "FloatProgressModel",
          "model_module_version": "1.5.0",
          "state": {
            "_dom_classes": [],
            "_model_module": "@jupyter-widgets/controls",
            "_model_module_version": "1.5.0",
            "_model_name": "FloatProgressModel",
            "_view_count": null,
            "_view_module": "@jupyter-widgets/controls",
            "_view_module_version": "1.5.0",
            "_view_name": "ProgressView",
            "bar_style": "success",
            "description": "",
            "description_tooltip": null,
            "layout": "IPY_MODEL_8449e6a6764c43f4a4d475cffe098b6b",
            "max": 30,
            "min": 0,
            "orientation": "horizontal",
            "style": "IPY_MODEL_36072ade093c480491bbda65f92e7e5e",
            "value": 30
          }
        },
        "d3938a55d05f40c5bc6ebd4a0ae261d6": {
          "model_module": "@jupyter-widgets/controls",
          "model_name": "HTMLModel",
          "model_module_version": "1.5.0",
          "state": {
            "_dom_classes": [],
            "_model_module": "@jupyter-widgets/controls",
            "_model_module_version": "1.5.0",
            "_model_name": "HTMLModel",
            "_view_count": null,
            "_view_module": "@jupyter-widgets/controls",
            "_view_module_version": "1.5.0",
            "_view_name": "HTMLView",
            "description": "",
            "description_tooltip": null,
            "layout": "IPY_MODEL_f23f3923ad03454cbf69d44ce890e0c5",
            "placeholder": "​",
            "style": "IPY_MODEL_053ad8d8e58d41e5a15846393518128b",
            "value": " 30/30 [10:59&lt;00:00, 33.10s/it]"
          }
        },
        "6b761c694e09478183f205b070c29451": {
          "model_module": "@jupyter-widgets/base",
          "model_name": "LayoutModel",
          "model_module_version": "1.2.0",
          "state": {
            "_model_module": "@jupyter-widgets/base",
            "_model_module_version": "1.2.0",
            "_model_name": "LayoutModel",
            "_view_count": null,
            "_view_module": "@jupyter-widgets/base",
            "_view_module_version": "1.2.0",
            "_view_name": "LayoutView",
            "align_content": null,
            "align_items": null,
            "align_self": null,
            "border": null,
            "bottom": null,
            "display": null,
            "flex": null,
            "flex_flow": null,
            "grid_area": null,
            "grid_auto_columns": null,
            "grid_auto_flow": null,
            "grid_auto_rows": null,
            "grid_column": null,
            "grid_gap": null,
            "grid_row": null,
            "grid_template_areas": null,
            "grid_template_columns": null,
            "grid_template_rows": null,
            "height": null,
            "justify_content": null,
            "justify_items": null,
            "left": null,
            "margin": null,
            "max_height": null,
            "max_width": null,
            "min_height": null,
            "min_width": null,
            "object_fit": null,
            "object_position": null,
            "order": null,
            "overflow": null,
            "overflow_x": null,
            "overflow_y": null,
            "padding": null,
            "right": null,
            "top": null,
            "visibility": null,
            "width": null
          }
        },
        "aa5b4b863a1a43449d4416731114f5b6": {
          "model_module": "@jupyter-widgets/base",
          "model_name": "LayoutModel",
          "model_module_version": "1.2.0",
          "state": {
            "_model_module": "@jupyter-widgets/base",
            "_model_module_version": "1.2.0",
            "_model_name": "LayoutModel",
            "_view_count": null,
            "_view_module": "@jupyter-widgets/base",
            "_view_module_version": "1.2.0",
            "_view_name": "LayoutView",
            "align_content": null,
            "align_items": null,
            "align_self": null,
            "border": null,
            "bottom": null,
            "display": null,
            "flex": null,
            "flex_flow": null,
            "grid_area": null,
            "grid_auto_columns": null,
            "grid_auto_flow": null,
            "grid_auto_rows": null,
            "grid_column": null,
            "grid_gap": null,
            "grid_row": null,
            "grid_template_areas": null,
            "grid_template_columns": null,
            "grid_template_rows": null,
            "height": null,
            "justify_content": null,
            "justify_items": null,
            "left": null,
            "margin": null,
            "max_height": null,
            "max_width": null,
            "min_height": null,
            "min_width": null,
            "object_fit": null,
            "object_position": null,
            "order": null,
            "overflow": null,
            "overflow_x": null,
            "overflow_y": null,
            "padding": null,
            "right": null,
            "top": null,
            "visibility": null,
            "width": null
          }
        },
        "7c49309fc3d643ddbc122d4046e6887b": {
          "model_module": "@jupyter-widgets/controls",
          "model_name": "DescriptionStyleModel",
          "model_module_version": "1.5.0",
          "state": {
            "_model_module": "@jupyter-widgets/controls",
            "_model_module_version": "1.5.0",
            "_model_name": "DescriptionStyleModel",
            "_view_count": null,
            "_view_module": "@jupyter-widgets/base",
            "_view_module_version": "1.2.0",
            "_view_name": "StyleView",
            "description_width": ""
          }
        },
        "8449e6a6764c43f4a4d475cffe098b6b": {
          "model_module": "@jupyter-widgets/base",
          "model_name": "LayoutModel",
          "model_module_version": "1.2.0",
          "state": {
            "_model_module": "@jupyter-widgets/base",
            "_model_module_version": "1.2.0",
            "_model_name": "LayoutModel",
            "_view_count": null,
            "_view_module": "@jupyter-widgets/base",
            "_view_module_version": "1.2.0",
            "_view_name": "LayoutView",
            "align_content": null,
            "align_items": null,
            "align_self": null,
            "border": null,
            "bottom": null,
            "display": null,
            "flex": null,
            "flex_flow": null,
            "grid_area": null,
            "grid_auto_columns": null,
            "grid_auto_flow": null,
            "grid_auto_rows": null,
            "grid_column": null,
            "grid_gap": null,
            "grid_row": null,
            "grid_template_areas": null,
            "grid_template_columns": null,
            "grid_template_rows": null,
            "height": null,
            "justify_content": null,
            "justify_items": null,
            "left": null,
            "margin": null,
            "max_height": null,
            "max_width": null,
            "min_height": null,
            "min_width": null,
            "object_fit": null,
            "object_position": null,
            "order": null,
            "overflow": null,
            "overflow_x": null,
            "overflow_y": null,
            "padding": null,
            "right": null,
            "top": null,
            "visibility": null,
            "width": null
          }
        },
        "36072ade093c480491bbda65f92e7e5e": {
          "model_module": "@jupyter-widgets/controls",
          "model_name": "ProgressStyleModel",
          "model_module_version": "1.5.0",
          "state": {
            "_model_module": "@jupyter-widgets/controls",
            "_model_module_version": "1.5.0",
            "_model_name": "ProgressStyleModel",
            "_view_count": null,
            "_view_module": "@jupyter-widgets/base",
            "_view_module_version": "1.2.0",
            "_view_name": "StyleView",
            "bar_color": null,
            "description_width": ""
          }
        },
        "f23f3923ad03454cbf69d44ce890e0c5": {
          "model_module": "@jupyter-widgets/base",
          "model_name": "LayoutModel",
          "model_module_version": "1.2.0",
          "state": {
            "_model_module": "@jupyter-widgets/base",
            "_model_module_version": "1.2.0",
            "_model_name": "LayoutModel",
            "_view_count": null,
            "_view_module": "@jupyter-widgets/base",
            "_view_module_version": "1.2.0",
            "_view_name": "LayoutView",
            "align_content": null,
            "align_items": null,
            "align_self": null,
            "border": null,
            "bottom": null,
            "display": null,
            "flex": null,
            "flex_flow": null,
            "grid_area": null,
            "grid_auto_columns": null,
            "grid_auto_flow": null,
            "grid_auto_rows": null,
            "grid_column": null,
            "grid_gap": null,
            "grid_row": null,
            "grid_template_areas": null,
            "grid_template_columns": null,
            "grid_template_rows": null,
            "height": null,
            "justify_content": null,
            "justify_items": null,
            "left": null,
            "margin": null,
            "max_height": null,
            "max_width": null,
            "min_height": null,
            "min_width": null,
            "object_fit": null,
            "object_position": null,
            "order": null,
            "overflow": null,
            "overflow_x": null,
            "overflow_y": null,
            "padding": null,
            "right": null,
            "top": null,
            "visibility": null,
            "width": null
          }
        },
        "053ad8d8e58d41e5a15846393518128b": {
          "model_module": "@jupyter-widgets/controls",
          "model_name": "DescriptionStyleModel",
          "model_module_version": "1.5.0",
          "state": {
            "_model_module": "@jupyter-widgets/controls",
            "_model_module_version": "1.5.0",
            "_model_name": "DescriptionStyleModel",
            "_view_count": null,
            "_view_module": "@jupyter-widgets/base",
            "_view_module_version": "1.2.0",
            "_view_name": "StyleView",
            "description_width": ""
          }
        },
        "88981a6605174dd5a672d773202ecef7": {
          "model_module": "@jupyter-widgets/controls",
          "model_name": "HBoxModel",
          "model_module_version": "1.5.0",
          "state": {
            "_dom_classes": [],
            "_model_module": "@jupyter-widgets/controls",
            "_model_module_version": "1.5.0",
            "_model_name": "HBoxModel",
            "_view_count": null,
            "_view_module": "@jupyter-widgets/controls",
            "_view_module_version": "1.5.0",
            "_view_name": "HBoxView",
            "box_style": "",
            "children": [
              "IPY_MODEL_cd5816e08ef2442688031b6a82a5e8f6",
              "IPY_MODEL_d2bc2857ee9f4e1d8d5d30c0bf593eed",
              "IPY_MODEL_ee64609c4a93496b8849b205021d33ec"
            ],
            "layout": "IPY_MODEL_4bd0ba8f4f14469cacbbad69aa5f61f4"
          }
        },
        "cd5816e08ef2442688031b6a82a5e8f6": {
          "model_module": "@jupyter-widgets/controls",
          "model_name": "HTMLModel",
          "model_module_version": "1.5.0",
          "state": {
            "_dom_classes": [],
            "_model_module": "@jupyter-widgets/controls",
            "_model_module_version": "1.5.0",
            "_model_name": "HTMLModel",
            "_view_count": null,
            "_view_module": "@jupyter-widgets/controls",
            "_view_module_version": "1.5.0",
            "_view_name": "HTMLView",
            "description": "",
            "description_tooltip": null,
            "layout": "IPY_MODEL_05ac9b3e3dfc434da1b50d3a73a2d1bd",
            "placeholder": "​",
            "style": "IPY_MODEL_3b93df93a34b4c159c901d43f85472b2",
            "value": "Best trial: 12. Best value: 0.0324706: 100%"
          }
        },
        "d2bc2857ee9f4e1d8d5d30c0bf593eed": {
          "model_module": "@jupyter-widgets/controls",
          "model_name": "FloatProgressModel",
          "model_module_version": "1.5.0",
          "state": {
            "_dom_classes": [],
            "_model_module": "@jupyter-widgets/controls",
            "_model_module_version": "1.5.0",
            "_model_name": "FloatProgressModel",
            "_view_count": null,
            "_view_module": "@jupyter-widgets/controls",
            "_view_module_version": "1.5.0",
            "_view_name": "ProgressView",
            "bar_style": "success",
            "description": "",
            "description_tooltip": null,
            "layout": "IPY_MODEL_bdb640f69e044dfb8b8cab79df9a0958",
            "max": 30,
            "min": 0,
            "orientation": "horizontal",
            "style": "IPY_MODEL_060fda2bcacd4491b69e1f02f6a4f0e0",
            "value": 30
          }
        },
        "ee64609c4a93496b8849b205021d33ec": {
          "model_module": "@jupyter-widgets/controls",
          "model_name": "HTMLModel",
          "model_module_version": "1.5.0",
          "state": {
            "_dom_classes": [],
            "_model_module": "@jupyter-widgets/controls",
            "_model_module_version": "1.5.0",
            "_model_name": "HTMLModel",
            "_view_count": null,
            "_view_module": "@jupyter-widgets/controls",
            "_view_module_version": "1.5.0",
            "_view_name": "HTMLView",
            "description": "",
            "description_tooltip": null,
            "layout": "IPY_MODEL_701d67f24bb64b498414c9e1c6ea55bd",
            "placeholder": "​",
            "style": "IPY_MODEL_ceb46aada4704ce59ad775ee05cb204b",
            "value": " 30/30 [13:18&lt;00:00, 19.19s/it]"
          }
        },
        "4bd0ba8f4f14469cacbbad69aa5f61f4": {
          "model_module": "@jupyter-widgets/base",
          "model_name": "LayoutModel",
          "model_module_version": "1.2.0",
          "state": {
            "_model_module": "@jupyter-widgets/base",
            "_model_module_version": "1.2.0",
            "_model_name": "LayoutModel",
            "_view_count": null,
            "_view_module": "@jupyter-widgets/base",
            "_view_module_version": "1.2.0",
            "_view_name": "LayoutView",
            "align_content": null,
            "align_items": null,
            "align_self": null,
            "border": null,
            "bottom": null,
            "display": null,
            "flex": null,
            "flex_flow": null,
            "grid_area": null,
            "grid_auto_columns": null,
            "grid_auto_flow": null,
            "grid_auto_rows": null,
            "grid_column": null,
            "grid_gap": null,
            "grid_row": null,
            "grid_template_areas": null,
            "grid_template_columns": null,
            "grid_template_rows": null,
            "height": null,
            "justify_content": null,
            "justify_items": null,
            "left": null,
            "margin": null,
            "max_height": null,
            "max_width": null,
            "min_height": null,
            "min_width": null,
            "object_fit": null,
            "object_position": null,
            "order": null,
            "overflow": null,
            "overflow_x": null,
            "overflow_y": null,
            "padding": null,
            "right": null,
            "top": null,
            "visibility": null,
            "width": null
          }
        },
        "05ac9b3e3dfc434da1b50d3a73a2d1bd": {
          "model_module": "@jupyter-widgets/base",
          "model_name": "LayoutModel",
          "model_module_version": "1.2.0",
          "state": {
            "_model_module": "@jupyter-widgets/base",
            "_model_module_version": "1.2.0",
            "_model_name": "LayoutModel",
            "_view_count": null,
            "_view_module": "@jupyter-widgets/base",
            "_view_module_version": "1.2.0",
            "_view_name": "LayoutView",
            "align_content": null,
            "align_items": null,
            "align_self": null,
            "border": null,
            "bottom": null,
            "display": null,
            "flex": null,
            "flex_flow": null,
            "grid_area": null,
            "grid_auto_columns": null,
            "grid_auto_flow": null,
            "grid_auto_rows": null,
            "grid_column": null,
            "grid_gap": null,
            "grid_row": null,
            "grid_template_areas": null,
            "grid_template_columns": null,
            "grid_template_rows": null,
            "height": null,
            "justify_content": null,
            "justify_items": null,
            "left": null,
            "margin": null,
            "max_height": null,
            "max_width": null,
            "min_height": null,
            "min_width": null,
            "object_fit": null,
            "object_position": null,
            "order": null,
            "overflow": null,
            "overflow_x": null,
            "overflow_y": null,
            "padding": null,
            "right": null,
            "top": null,
            "visibility": null,
            "width": null
          }
        },
        "3b93df93a34b4c159c901d43f85472b2": {
          "model_module": "@jupyter-widgets/controls",
          "model_name": "DescriptionStyleModel",
          "model_module_version": "1.5.0",
          "state": {
            "_model_module": "@jupyter-widgets/controls",
            "_model_module_version": "1.5.0",
            "_model_name": "DescriptionStyleModel",
            "_view_count": null,
            "_view_module": "@jupyter-widgets/base",
            "_view_module_version": "1.2.0",
            "_view_name": "StyleView",
            "description_width": ""
          }
        },
        "bdb640f69e044dfb8b8cab79df9a0958": {
          "model_module": "@jupyter-widgets/base",
          "model_name": "LayoutModel",
          "model_module_version": "1.2.0",
          "state": {
            "_model_module": "@jupyter-widgets/base",
            "_model_module_version": "1.2.0",
            "_model_name": "LayoutModel",
            "_view_count": null,
            "_view_module": "@jupyter-widgets/base",
            "_view_module_version": "1.2.0",
            "_view_name": "LayoutView",
            "align_content": null,
            "align_items": null,
            "align_self": null,
            "border": null,
            "bottom": null,
            "display": null,
            "flex": null,
            "flex_flow": null,
            "grid_area": null,
            "grid_auto_columns": null,
            "grid_auto_flow": null,
            "grid_auto_rows": null,
            "grid_column": null,
            "grid_gap": null,
            "grid_row": null,
            "grid_template_areas": null,
            "grid_template_columns": null,
            "grid_template_rows": null,
            "height": null,
            "justify_content": null,
            "justify_items": null,
            "left": null,
            "margin": null,
            "max_height": null,
            "max_width": null,
            "min_height": null,
            "min_width": null,
            "object_fit": null,
            "object_position": null,
            "order": null,
            "overflow": null,
            "overflow_x": null,
            "overflow_y": null,
            "padding": null,
            "right": null,
            "top": null,
            "visibility": null,
            "width": null
          }
        },
        "060fda2bcacd4491b69e1f02f6a4f0e0": {
          "model_module": "@jupyter-widgets/controls",
          "model_name": "ProgressStyleModel",
          "model_module_version": "1.5.0",
          "state": {
            "_model_module": "@jupyter-widgets/controls",
            "_model_module_version": "1.5.0",
            "_model_name": "ProgressStyleModel",
            "_view_count": null,
            "_view_module": "@jupyter-widgets/base",
            "_view_module_version": "1.2.0",
            "_view_name": "StyleView",
            "bar_color": null,
            "description_width": ""
          }
        },
        "701d67f24bb64b498414c9e1c6ea55bd": {
          "model_module": "@jupyter-widgets/base",
          "model_name": "LayoutModel",
          "model_module_version": "1.2.0",
          "state": {
            "_model_module": "@jupyter-widgets/base",
            "_model_module_version": "1.2.0",
            "_model_name": "LayoutModel",
            "_view_count": null,
            "_view_module": "@jupyter-widgets/base",
            "_view_module_version": "1.2.0",
            "_view_name": "LayoutView",
            "align_content": null,
            "align_items": null,
            "align_self": null,
            "border": null,
            "bottom": null,
            "display": null,
            "flex": null,
            "flex_flow": null,
            "grid_area": null,
            "grid_auto_columns": null,
            "grid_auto_flow": null,
            "grid_auto_rows": null,
            "grid_column": null,
            "grid_gap": null,
            "grid_row": null,
            "grid_template_areas": null,
            "grid_template_columns": null,
            "grid_template_rows": null,
            "height": null,
            "justify_content": null,
            "justify_items": null,
            "left": null,
            "margin": null,
            "max_height": null,
            "max_width": null,
            "min_height": null,
            "min_width": null,
            "object_fit": null,
            "object_position": null,
            "order": null,
            "overflow": null,
            "overflow_x": null,
            "overflow_y": null,
            "padding": null,
            "right": null,
            "top": null,
            "visibility": null,
            "width": null
          }
        },
        "ceb46aada4704ce59ad775ee05cb204b": {
          "model_module": "@jupyter-widgets/controls",
          "model_name": "DescriptionStyleModel",
          "model_module_version": "1.5.0",
          "state": {
            "_model_module": "@jupyter-widgets/controls",
            "_model_module_version": "1.5.0",
            "_model_name": "DescriptionStyleModel",
            "_view_count": null,
            "_view_module": "@jupyter-widgets/base",
            "_view_module_version": "1.2.0",
            "_view_name": "StyleView",
            "description_width": ""
          }
        },
        "e6628c92d95e47e4a8aa6029a5c68589": {
          "model_module": "@jupyter-widgets/controls",
          "model_name": "HBoxModel",
          "model_module_version": "1.5.0",
          "state": {
            "_dom_classes": [],
            "_model_module": "@jupyter-widgets/controls",
            "_model_module_version": "1.5.0",
            "_model_name": "HBoxModel",
            "_view_count": null,
            "_view_module": "@jupyter-widgets/controls",
            "_view_module_version": "1.5.0",
            "_view_name": "HBoxView",
            "box_style": "",
            "children": [
              "IPY_MODEL_474b0a2aef674f38b07189da868b907c",
              "IPY_MODEL_589f8d79393c49e488096dc028437784",
              "IPY_MODEL_de68fddd33444ddb8a08ce7f8bc92d74"
            ],
            "layout": "IPY_MODEL_8e03d2fe27444afdaad5055c03de47a3"
          }
        },
        "474b0a2aef674f38b07189da868b907c": {
          "model_module": "@jupyter-widgets/controls",
          "model_name": "HTMLModel",
          "model_module_version": "1.5.0",
          "state": {
            "_dom_classes": [],
            "_model_module": "@jupyter-widgets/controls",
            "_model_module_version": "1.5.0",
            "_model_name": "HTMLModel",
            "_view_count": null,
            "_view_module": "@jupyter-widgets/controls",
            "_view_module_version": "1.5.0",
            "_view_name": "HTMLView",
            "description": "",
            "description_tooltip": null,
            "layout": "IPY_MODEL_323320aded4746dc9ac041bc00ebf98f",
            "placeholder": "​",
            "style": "IPY_MODEL_3a345756271145dead204a2bb962f67a",
            "value": "Best trial: 23. Best value: 0.0237844: 100%"
          }
        },
        "589f8d79393c49e488096dc028437784": {
          "model_module": "@jupyter-widgets/controls",
          "model_name": "FloatProgressModel",
          "model_module_version": "1.5.0",
          "state": {
            "_dom_classes": [],
            "_model_module": "@jupyter-widgets/controls",
            "_model_module_version": "1.5.0",
            "_model_name": "FloatProgressModel",
            "_view_count": null,
            "_view_module": "@jupyter-widgets/controls",
            "_view_module_version": "1.5.0",
            "_view_name": "ProgressView",
            "bar_style": "success",
            "description": "",
            "description_tooltip": null,
            "layout": "IPY_MODEL_85c0d038b2bc4c34a8ef6759d137eabc",
            "max": 30,
            "min": 0,
            "orientation": "horizontal",
            "style": "IPY_MODEL_3e0609cd66074057be9bcde97aa47989",
            "value": 30
          }
        },
        "de68fddd33444ddb8a08ce7f8bc92d74": {
          "model_module": "@jupyter-widgets/controls",
          "model_name": "HTMLModel",
          "model_module_version": "1.5.0",
          "state": {
            "_dom_classes": [],
            "_model_module": "@jupyter-widgets/controls",
            "_model_module_version": "1.5.0",
            "_model_name": "HTMLModel",
            "_view_count": null,
            "_view_module": "@jupyter-widgets/controls",
            "_view_module_version": "1.5.0",
            "_view_name": "HTMLView",
            "description": "",
            "description_tooltip": null,
            "layout": "IPY_MODEL_fcca75b13edd430b80bd10b3a11e54fd",
            "placeholder": "​",
            "style": "IPY_MODEL_8748744f09d34612b68bea491db4516d",
            "value": " 30/30 [10:59&lt;00:00, 21.21s/it]"
          }
        },
        "8e03d2fe27444afdaad5055c03de47a3": {
          "model_module": "@jupyter-widgets/base",
          "model_name": "LayoutModel",
          "model_module_version": "1.2.0",
          "state": {
            "_model_module": "@jupyter-widgets/base",
            "_model_module_version": "1.2.0",
            "_model_name": "LayoutModel",
            "_view_count": null,
            "_view_module": "@jupyter-widgets/base",
            "_view_module_version": "1.2.0",
            "_view_name": "LayoutView",
            "align_content": null,
            "align_items": null,
            "align_self": null,
            "border": null,
            "bottom": null,
            "display": null,
            "flex": null,
            "flex_flow": null,
            "grid_area": null,
            "grid_auto_columns": null,
            "grid_auto_flow": null,
            "grid_auto_rows": null,
            "grid_column": null,
            "grid_gap": null,
            "grid_row": null,
            "grid_template_areas": null,
            "grid_template_columns": null,
            "grid_template_rows": null,
            "height": null,
            "justify_content": null,
            "justify_items": null,
            "left": null,
            "margin": null,
            "max_height": null,
            "max_width": null,
            "min_height": null,
            "min_width": null,
            "object_fit": null,
            "object_position": null,
            "order": null,
            "overflow": null,
            "overflow_x": null,
            "overflow_y": null,
            "padding": null,
            "right": null,
            "top": null,
            "visibility": null,
            "width": null
          }
        },
        "323320aded4746dc9ac041bc00ebf98f": {
          "model_module": "@jupyter-widgets/base",
          "model_name": "LayoutModel",
          "model_module_version": "1.2.0",
          "state": {
            "_model_module": "@jupyter-widgets/base",
            "_model_module_version": "1.2.0",
            "_model_name": "LayoutModel",
            "_view_count": null,
            "_view_module": "@jupyter-widgets/base",
            "_view_module_version": "1.2.0",
            "_view_name": "LayoutView",
            "align_content": null,
            "align_items": null,
            "align_self": null,
            "border": null,
            "bottom": null,
            "display": null,
            "flex": null,
            "flex_flow": null,
            "grid_area": null,
            "grid_auto_columns": null,
            "grid_auto_flow": null,
            "grid_auto_rows": null,
            "grid_column": null,
            "grid_gap": null,
            "grid_row": null,
            "grid_template_areas": null,
            "grid_template_columns": null,
            "grid_template_rows": null,
            "height": null,
            "justify_content": null,
            "justify_items": null,
            "left": null,
            "margin": null,
            "max_height": null,
            "max_width": null,
            "min_height": null,
            "min_width": null,
            "object_fit": null,
            "object_position": null,
            "order": null,
            "overflow": null,
            "overflow_x": null,
            "overflow_y": null,
            "padding": null,
            "right": null,
            "top": null,
            "visibility": null,
            "width": null
          }
        },
        "3a345756271145dead204a2bb962f67a": {
          "model_module": "@jupyter-widgets/controls",
          "model_name": "DescriptionStyleModel",
          "model_module_version": "1.5.0",
          "state": {
            "_model_module": "@jupyter-widgets/controls",
            "_model_module_version": "1.5.0",
            "_model_name": "DescriptionStyleModel",
            "_view_count": null,
            "_view_module": "@jupyter-widgets/base",
            "_view_module_version": "1.2.0",
            "_view_name": "StyleView",
            "description_width": ""
          }
        },
        "85c0d038b2bc4c34a8ef6759d137eabc": {
          "model_module": "@jupyter-widgets/base",
          "model_name": "LayoutModel",
          "model_module_version": "1.2.0",
          "state": {
            "_model_module": "@jupyter-widgets/base",
            "_model_module_version": "1.2.0",
            "_model_name": "LayoutModel",
            "_view_count": null,
            "_view_module": "@jupyter-widgets/base",
            "_view_module_version": "1.2.0",
            "_view_name": "LayoutView",
            "align_content": null,
            "align_items": null,
            "align_self": null,
            "border": null,
            "bottom": null,
            "display": null,
            "flex": null,
            "flex_flow": null,
            "grid_area": null,
            "grid_auto_columns": null,
            "grid_auto_flow": null,
            "grid_auto_rows": null,
            "grid_column": null,
            "grid_gap": null,
            "grid_row": null,
            "grid_template_areas": null,
            "grid_template_columns": null,
            "grid_template_rows": null,
            "height": null,
            "justify_content": null,
            "justify_items": null,
            "left": null,
            "margin": null,
            "max_height": null,
            "max_width": null,
            "min_height": null,
            "min_width": null,
            "object_fit": null,
            "object_position": null,
            "order": null,
            "overflow": null,
            "overflow_x": null,
            "overflow_y": null,
            "padding": null,
            "right": null,
            "top": null,
            "visibility": null,
            "width": null
          }
        },
        "3e0609cd66074057be9bcde97aa47989": {
          "model_module": "@jupyter-widgets/controls",
          "model_name": "ProgressStyleModel",
          "model_module_version": "1.5.0",
          "state": {
            "_model_module": "@jupyter-widgets/controls",
            "_model_module_version": "1.5.0",
            "_model_name": "ProgressStyleModel",
            "_view_count": null,
            "_view_module": "@jupyter-widgets/base",
            "_view_module_version": "1.2.0",
            "_view_name": "StyleView",
            "bar_color": null,
            "description_width": ""
          }
        },
        "fcca75b13edd430b80bd10b3a11e54fd": {
          "model_module": "@jupyter-widgets/base",
          "model_name": "LayoutModel",
          "model_module_version": "1.2.0",
          "state": {
            "_model_module": "@jupyter-widgets/base",
            "_model_module_version": "1.2.0",
            "_model_name": "LayoutModel",
            "_view_count": null,
            "_view_module": "@jupyter-widgets/base",
            "_view_module_version": "1.2.0",
            "_view_name": "LayoutView",
            "align_content": null,
            "align_items": null,
            "align_self": null,
            "border": null,
            "bottom": null,
            "display": null,
            "flex": null,
            "flex_flow": null,
            "grid_area": null,
            "grid_auto_columns": null,
            "grid_auto_flow": null,
            "grid_auto_rows": null,
            "grid_column": null,
            "grid_gap": null,
            "grid_row": null,
            "grid_template_areas": null,
            "grid_template_columns": null,
            "grid_template_rows": null,
            "height": null,
            "justify_content": null,
            "justify_items": null,
            "left": null,
            "margin": null,
            "max_height": null,
            "max_width": null,
            "min_height": null,
            "min_width": null,
            "object_fit": null,
            "object_position": null,
            "order": null,
            "overflow": null,
            "overflow_x": null,
            "overflow_y": null,
            "padding": null,
            "right": null,
            "top": null,
            "visibility": null,
            "width": null
          }
        },
        "8748744f09d34612b68bea491db4516d": {
          "model_module": "@jupyter-widgets/controls",
          "model_name": "DescriptionStyleModel",
          "model_module_version": "1.5.0",
          "state": {
            "_model_module": "@jupyter-widgets/controls",
            "_model_module_version": "1.5.0",
            "_model_name": "DescriptionStyleModel",
            "_view_count": null,
            "_view_module": "@jupyter-widgets/base",
            "_view_module_version": "1.2.0",
            "_view_name": "StyleView",
            "description_width": ""
          }
        },
        "d7c02e222dc040429ba55d0a33db99e0": {
          "model_module": "@jupyter-widgets/controls",
          "model_name": "HBoxModel",
          "model_module_version": "1.5.0",
          "state": {
            "_dom_classes": [],
            "_model_module": "@jupyter-widgets/controls",
            "_model_module_version": "1.5.0",
            "_model_name": "HBoxModel",
            "_view_count": null,
            "_view_module": "@jupyter-widgets/controls",
            "_view_module_version": "1.5.0",
            "_view_name": "HBoxView",
            "box_style": "",
            "children": [
              "IPY_MODEL_6ef8073ac6b843c2b9a7a9025c81b517",
              "IPY_MODEL_4278a05e92ad4ce8b9ef4a0d2e103430",
              "IPY_MODEL_72fd8c8f0896455dba1624df42f9ce70"
            ],
            "layout": "IPY_MODEL_0ec8f7253f8a446191e161fe6a136313"
          }
        },
        "6ef8073ac6b843c2b9a7a9025c81b517": {
          "model_module": "@jupyter-widgets/controls",
          "model_name": "HTMLModel",
          "model_module_version": "1.5.0",
          "state": {
            "_dom_classes": [],
            "_model_module": "@jupyter-widgets/controls",
            "_model_module_version": "1.5.0",
            "_model_name": "HTMLModel",
            "_view_count": null,
            "_view_module": "@jupyter-widgets/controls",
            "_view_module_version": "1.5.0",
            "_view_name": "HTMLView",
            "description": "",
            "description_tooltip": null,
            "layout": "IPY_MODEL_ac6246a6149b45ee9fbe4c3af3a02b61",
            "placeholder": "​",
            "style": "IPY_MODEL_95ab9df652fc4794adeb1a6fe8f0df3d",
            "value": "Best trial: 24. Best value: 0.0133866: 100%"
          }
        },
        "4278a05e92ad4ce8b9ef4a0d2e103430": {
          "model_module": "@jupyter-widgets/controls",
          "model_name": "FloatProgressModel",
          "model_module_version": "1.5.0",
          "state": {
            "_dom_classes": [],
            "_model_module": "@jupyter-widgets/controls",
            "_model_module_version": "1.5.0",
            "_model_name": "FloatProgressModel",
            "_view_count": null,
            "_view_module": "@jupyter-widgets/controls",
            "_view_module_version": "1.5.0",
            "_view_name": "ProgressView",
            "bar_style": "success",
            "description": "",
            "description_tooltip": null,
            "layout": "IPY_MODEL_1b95a6505dd443099dca817fc6d01f98",
            "max": 30,
            "min": 0,
            "orientation": "horizontal",
            "style": "IPY_MODEL_91ae9e7fd17b447fadeba346d9def766",
            "value": 30
          }
        },
        "72fd8c8f0896455dba1624df42f9ce70": {
          "model_module": "@jupyter-widgets/controls",
          "model_name": "HTMLModel",
          "model_module_version": "1.5.0",
          "state": {
            "_dom_classes": [],
            "_model_module": "@jupyter-widgets/controls",
            "_model_module_version": "1.5.0",
            "_model_name": "HTMLModel",
            "_view_count": null,
            "_view_module": "@jupyter-widgets/controls",
            "_view_module_version": "1.5.0",
            "_view_name": "HTMLView",
            "description": "",
            "description_tooltip": null,
            "layout": "IPY_MODEL_9a843189c5624d9780f284418d8c5a40",
            "placeholder": "​",
            "style": "IPY_MODEL_39a0f4665d1d492d854af3f7034d38c5",
            "value": " 30/30 [11:21&lt;00:00, 27.69s/it]"
          }
        },
        "0ec8f7253f8a446191e161fe6a136313": {
          "model_module": "@jupyter-widgets/base",
          "model_name": "LayoutModel",
          "model_module_version": "1.2.0",
          "state": {
            "_model_module": "@jupyter-widgets/base",
            "_model_module_version": "1.2.0",
            "_model_name": "LayoutModel",
            "_view_count": null,
            "_view_module": "@jupyter-widgets/base",
            "_view_module_version": "1.2.0",
            "_view_name": "LayoutView",
            "align_content": null,
            "align_items": null,
            "align_self": null,
            "border": null,
            "bottom": null,
            "display": null,
            "flex": null,
            "flex_flow": null,
            "grid_area": null,
            "grid_auto_columns": null,
            "grid_auto_flow": null,
            "grid_auto_rows": null,
            "grid_column": null,
            "grid_gap": null,
            "grid_row": null,
            "grid_template_areas": null,
            "grid_template_columns": null,
            "grid_template_rows": null,
            "height": null,
            "justify_content": null,
            "justify_items": null,
            "left": null,
            "margin": null,
            "max_height": null,
            "max_width": null,
            "min_height": null,
            "min_width": null,
            "object_fit": null,
            "object_position": null,
            "order": null,
            "overflow": null,
            "overflow_x": null,
            "overflow_y": null,
            "padding": null,
            "right": null,
            "top": null,
            "visibility": null,
            "width": null
          }
        },
        "ac6246a6149b45ee9fbe4c3af3a02b61": {
          "model_module": "@jupyter-widgets/base",
          "model_name": "LayoutModel",
          "model_module_version": "1.2.0",
          "state": {
            "_model_module": "@jupyter-widgets/base",
            "_model_module_version": "1.2.0",
            "_model_name": "LayoutModel",
            "_view_count": null,
            "_view_module": "@jupyter-widgets/base",
            "_view_module_version": "1.2.0",
            "_view_name": "LayoutView",
            "align_content": null,
            "align_items": null,
            "align_self": null,
            "border": null,
            "bottom": null,
            "display": null,
            "flex": null,
            "flex_flow": null,
            "grid_area": null,
            "grid_auto_columns": null,
            "grid_auto_flow": null,
            "grid_auto_rows": null,
            "grid_column": null,
            "grid_gap": null,
            "grid_row": null,
            "grid_template_areas": null,
            "grid_template_columns": null,
            "grid_template_rows": null,
            "height": null,
            "justify_content": null,
            "justify_items": null,
            "left": null,
            "margin": null,
            "max_height": null,
            "max_width": null,
            "min_height": null,
            "min_width": null,
            "object_fit": null,
            "object_position": null,
            "order": null,
            "overflow": null,
            "overflow_x": null,
            "overflow_y": null,
            "padding": null,
            "right": null,
            "top": null,
            "visibility": null,
            "width": null
          }
        },
        "95ab9df652fc4794adeb1a6fe8f0df3d": {
          "model_module": "@jupyter-widgets/controls",
          "model_name": "DescriptionStyleModel",
          "model_module_version": "1.5.0",
          "state": {
            "_model_module": "@jupyter-widgets/controls",
            "_model_module_version": "1.5.0",
            "_model_name": "DescriptionStyleModel",
            "_view_count": null,
            "_view_module": "@jupyter-widgets/base",
            "_view_module_version": "1.2.0",
            "_view_name": "StyleView",
            "description_width": ""
          }
        },
        "1b95a6505dd443099dca817fc6d01f98": {
          "model_module": "@jupyter-widgets/base",
          "model_name": "LayoutModel",
          "model_module_version": "1.2.0",
          "state": {
            "_model_module": "@jupyter-widgets/base",
            "_model_module_version": "1.2.0",
            "_model_name": "LayoutModel",
            "_view_count": null,
            "_view_module": "@jupyter-widgets/base",
            "_view_module_version": "1.2.0",
            "_view_name": "LayoutView",
            "align_content": null,
            "align_items": null,
            "align_self": null,
            "border": null,
            "bottom": null,
            "display": null,
            "flex": null,
            "flex_flow": null,
            "grid_area": null,
            "grid_auto_columns": null,
            "grid_auto_flow": null,
            "grid_auto_rows": null,
            "grid_column": null,
            "grid_gap": null,
            "grid_row": null,
            "grid_template_areas": null,
            "grid_template_columns": null,
            "grid_template_rows": null,
            "height": null,
            "justify_content": null,
            "justify_items": null,
            "left": null,
            "margin": null,
            "max_height": null,
            "max_width": null,
            "min_height": null,
            "min_width": null,
            "object_fit": null,
            "object_position": null,
            "order": null,
            "overflow": null,
            "overflow_x": null,
            "overflow_y": null,
            "padding": null,
            "right": null,
            "top": null,
            "visibility": null,
            "width": null
          }
        },
        "91ae9e7fd17b447fadeba346d9def766": {
          "model_module": "@jupyter-widgets/controls",
          "model_name": "ProgressStyleModel",
          "model_module_version": "1.5.0",
          "state": {
            "_model_module": "@jupyter-widgets/controls",
            "_model_module_version": "1.5.0",
            "_model_name": "ProgressStyleModel",
            "_view_count": null,
            "_view_module": "@jupyter-widgets/base",
            "_view_module_version": "1.2.0",
            "_view_name": "StyleView",
            "bar_color": null,
            "description_width": ""
          }
        },
        "9a843189c5624d9780f284418d8c5a40": {
          "model_module": "@jupyter-widgets/base",
          "model_name": "LayoutModel",
          "model_module_version": "1.2.0",
          "state": {
            "_model_module": "@jupyter-widgets/base",
            "_model_module_version": "1.2.0",
            "_model_name": "LayoutModel",
            "_view_count": null,
            "_view_module": "@jupyter-widgets/base",
            "_view_module_version": "1.2.0",
            "_view_name": "LayoutView",
            "align_content": null,
            "align_items": null,
            "align_self": null,
            "border": null,
            "bottom": null,
            "display": null,
            "flex": null,
            "flex_flow": null,
            "grid_area": null,
            "grid_auto_columns": null,
            "grid_auto_flow": null,
            "grid_auto_rows": null,
            "grid_column": null,
            "grid_gap": null,
            "grid_row": null,
            "grid_template_areas": null,
            "grid_template_columns": null,
            "grid_template_rows": null,
            "height": null,
            "justify_content": null,
            "justify_items": null,
            "left": null,
            "margin": null,
            "max_height": null,
            "max_width": null,
            "min_height": null,
            "min_width": null,
            "object_fit": null,
            "object_position": null,
            "order": null,
            "overflow": null,
            "overflow_x": null,
            "overflow_y": null,
            "padding": null,
            "right": null,
            "top": null,
            "visibility": null,
            "width": null
          }
        },
        "39a0f4665d1d492d854af3f7034d38c5": {
          "model_module": "@jupyter-widgets/controls",
          "model_name": "DescriptionStyleModel",
          "model_module_version": "1.5.0",
          "state": {
            "_model_module": "@jupyter-widgets/controls",
            "_model_module_version": "1.5.0",
            "_model_name": "DescriptionStyleModel",
            "_view_count": null,
            "_view_module": "@jupyter-widgets/base",
            "_view_module_version": "1.2.0",
            "_view_name": "StyleView",
            "description_width": ""
          }
        },
        "8a97bfe3cf63449284fe87b71cd71ab5": {
          "model_module": "@jupyter-widgets/controls",
          "model_name": "HBoxModel",
          "model_module_version": "1.5.0",
          "state": {
            "_dom_classes": [],
            "_model_module": "@jupyter-widgets/controls",
            "_model_module_version": "1.5.0",
            "_model_name": "HBoxModel",
            "_view_count": null,
            "_view_module": "@jupyter-widgets/controls",
            "_view_module_version": "1.5.0",
            "_view_name": "HBoxView",
            "box_style": "",
            "children": [
              "IPY_MODEL_94ada8a4440d43f6a91374fc5efc6940",
              "IPY_MODEL_3e941a979976424cb25fca24d3762a22",
              "IPY_MODEL_db1a09e7dfee4487a8fcd2476a3d1862"
            ],
            "layout": "IPY_MODEL_002f31432963429eaedeb92bcc31f6da"
          }
        },
        "94ada8a4440d43f6a91374fc5efc6940": {
          "model_module": "@jupyter-widgets/controls",
          "model_name": "HTMLModel",
          "model_module_version": "1.5.0",
          "state": {
            "_dom_classes": [],
            "_model_module": "@jupyter-widgets/controls",
            "_model_module_version": "1.5.0",
            "_model_name": "HTMLModel",
            "_view_count": null,
            "_view_module": "@jupyter-widgets/controls",
            "_view_module_version": "1.5.0",
            "_view_name": "HTMLView",
            "description": "",
            "description_tooltip": null,
            "layout": "IPY_MODEL_d1720bebafd24735b6985ed50accb78a",
            "placeholder": "​",
            "style": "IPY_MODEL_1a4d6d920f0e42afaa3ba7e9a96f6d8d",
            "value": "Best trial: 11. Best value: 0.0232279: 100%"
          }
        },
        "3e941a979976424cb25fca24d3762a22": {
          "model_module": "@jupyter-widgets/controls",
          "model_name": "FloatProgressModel",
          "model_module_version": "1.5.0",
          "state": {
            "_dom_classes": [],
            "_model_module": "@jupyter-widgets/controls",
            "_model_module_version": "1.5.0",
            "_model_name": "FloatProgressModel",
            "_view_count": null,
            "_view_module": "@jupyter-widgets/controls",
            "_view_module_version": "1.5.0",
            "_view_name": "ProgressView",
            "bar_style": "success",
            "description": "",
            "description_tooltip": null,
            "layout": "IPY_MODEL_50abe51fc902494d8832383a5dd100d2",
            "max": 30,
            "min": 0,
            "orientation": "horizontal",
            "style": "IPY_MODEL_ec7ee880b6934ebda639b26e05acb18b",
            "value": 30
          }
        },
        "db1a09e7dfee4487a8fcd2476a3d1862": {
          "model_module": "@jupyter-widgets/controls",
          "model_name": "HTMLModel",
          "model_module_version": "1.5.0",
          "state": {
            "_dom_classes": [],
            "_model_module": "@jupyter-widgets/controls",
            "_model_module_version": "1.5.0",
            "_model_name": "HTMLModel",
            "_view_count": null,
            "_view_module": "@jupyter-widgets/controls",
            "_view_module_version": "1.5.0",
            "_view_name": "HTMLView",
            "description": "",
            "description_tooltip": null,
            "layout": "IPY_MODEL_ba69e41d731e4d35b34e3757bd979ed0",
            "placeholder": "​",
            "style": "IPY_MODEL_6ac9bd91c4494b72aec1e8ffbdb2ec19",
            "value": " 30/30 [11:46&lt;00:00, 29.57s/it]"
          }
        },
        "002f31432963429eaedeb92bcc31f6da": {
          "model_module": "@jupyter-widgets/base",
          "model_name": "LayoutModel",
          "model_module_version": "1.2.0",
          "state": {
            "_model_module": "@jupyter-widgets/base",
            "_model_module_version": "1.2.0",
            "_model_name": "LayoutModel",
            "_view_count": null,
            "_view_module": "@jupyter-widgets/base",
            "_view_module_version": "1.2.0",
            "_view_name": "LayoutView",
            "align_content": null,
            "align_items": null,
            "align_self": null,
            "border": null,
            "bottom": null,
            "display": null,
            "flex": null,
            "flex_flow": null,
            "grid_area": null,
            "grid_auto_columns": null,
            "grid_auto_flow": null,
            "grid_auto_rows": null,
            "grid_column": null,
            "grid_gap": null,
            "grid_row": null,
            "grid_template_areas": null,
            "grid_template_columns": null,
            "grid_template_rows": null,
            "height": null,
            "justify_content": null,
            "justify_items": null,
            "left": null,
            "margin": null,
            "max_height": null,
            "max_width": null,
            "min_height": null,
            "min_width": null,
            "object_fit": null,
            "object_position": null,
            "order": null,
            "overflow": null,
            "overflow_x": null,
            "overflow_y": null,
            "padding": null,
            "right": null,
            "top": null,
            "visibility": null,
            "width": null
          }
        },
        "d1720bebafd24735b6985ed50accb78a": {
          "model_module": "@jupyter-widgets/base",
          "model_name": "LayoutModel",
          "model_module_version": "1.2.0",
          "state": {
            "_model_module": "@jupyter-widgets/base",
            "_model_module_version": "1.2.0",
            "_model_name": "LayoutModel",
            "_view_count": null,
            "_view_module": "@jupyter-widgets/base",
            "_view_module_version": "1.2.0",
            "_view_name": "LayoutView",
            "align_content": null,
            "align_items": null,
            "align_self": null,
            "border": null,
            "bottom": null,
            "display": null,
            "flex": null,
            "flex_flow": null,
            "grid_area": null,
            "grid_auto_columns": null,
            "grid_auto_flow": null,
            "grid_auto_rows": null,
            "grid_column": null,
            "grid_gap": null,
            "grid_row": null,
            "grid_template_areas": null,
            "grid_template_columns": null,
            "grid_template_rows": null,
            "height": null,
            "justify_content": null,
            "justify_items": null,
            "left": null,
            "margin": null,
            "max_height": null,
            "max_width": null,
            "min_height": null,
            "min_width": null,
            "object_fit": null,
            "object_position": null,
            "order": null,
            "overflow": null,
            "overflow_x": null,
            "overflow_y": null,
            "padding": null,
            "right": null,
            "top": null,
            "visibility": null,
            "width": null
          }
        },
        "1a4d6d920f0e42afaa3ba7e9a96f6d8d": {
          "model_module": "@jupyter-widgets/controls",
          "model_name": "DescriptionStyleModel",
          "model_module_version": "1.5.0",
          "state": {
            "_model_module": "@jupyter-widgets/controls",
            "_model_module_version": "1.5.0",
            "_model_name": "DescriptionStyleModel",
            "_view_count": null,
            "_view_module": "@jupyter-widgets/base",
            "_view_module_version": "1.2.0",
            "_view_name": "StyleView",
            "description_width": ""
          }
        },
        "50abe51fc902494d8832383a5dd100d2": {
          "model_module": "@jupyter-widgets/base",
          "model_name": "LayoutModel",
          "model_module_version": "1.2.0",
          "state": {
            "_model_module": "@jupyter-widgets/base",
            "_model_module_version": "1.2.0",
            "_model_name": "LayoutModel",
            "_view_count": null,
            "_view_module": "@jupyter-widgets/base",
            "_view_module_version": "1.2.0",
            "_view_name": "LayoutView",
            "align_content": null,
            "align_items": null,
            "align_self": null,
            "border": null,
            "bottom": null,
            "display": null,
            "flex": null,
            "flex_flow": null,
            "grid_area": null,
            "grid_auto_columns": null,
            "grid_auto_flow": null,
            "grid_auto_rows": null,
            "grid_column": null,
            "grid_gap": null,
            "grid_row": null,
            "grid_template_areas": null,
            "grid_template_columns": null,
            "grid_template_rows": null,
            "height": null,
            "justify_content": null,
            "justify_items": null,
            "left": null,
            "margin": null,
            "max_height": null,
            "max_width": null,
            "min_height": null,
            "min_width": null,
            "object_fit": null,
            "object_position": null,
            "order": null,
            "overflow": null,
            "overflow_x": null,
            "overflow_y": null,
            "padding": null,
            "right": null,
            "top": null,
            "visibility": null,
            "width": null
          }
        },
        "ec7ee880b6934ebda639b26e05acb18b": {
          "model_module": "@jupyter-widgets/controls",
          "model_name": "ProgressStyleModel",
          "model_module_version": "1.5.0",
          "state": {
            "_model_module": "@jupyter-widgets/controls",
            "_model_module_version": "1.5.0",
            "_model_name": "ProgressStyleModel",
            "_view_count": null,
            "_view_module": "@jupyter-widgets/base",
            "_view_module_version": "1.2.0",
            "_view_name": "StyleView",
            "bar_color": null,
            "description_width": ""
          }
        },
        "ba69e41d731e4d35b34e3757bd979ed0": {
          "model_module": "@jupyter-widgets/base",
          "model_name": "LayoutModel",
          "model_module_version": "1.2.0",
          "state": {
            "_model_module": "@jupyter-widgets/base",
            "_model_module_version": "1.2.0",
            "_model_name": "LayoutModel",
            "_view_count": null,
            "_view_module": "@jupyter-widgets/base",
            "_view_module_version": "1.2.0",
            "_view_name": "LayoutView",
            "align_content": null,
            "align_items": null,
            "align_self": null,
            "border": null,
            "bottom": null,
            "display": null,
            "flex": null,
            "flex_flow": null,
            "grid_area": null,
            "grid_auto_columns": null,
            "grid_auto_flow": null,
            "grid_auto_rows": null,
            "grid_column": null,
            "grid_gap": null,
            "grid_row": null,
            "grid_template_areas": null,
            "grid_template_columns": null,
            "grid_template_rows": null,
            "height": null,
            "justify_content": null,
            "justify_items": null,
            "left": null,
            "margin": null,
            "max_height": null,
            "max_width": null,
            "min_height": null,
            "min_width": null,
            "object_fit": null,
            "object_position": null,
            "order": null,
            "overflow": null,
            "overflow_x": null,
            "overflow_y": null,
            "padding": null,
            "right": null,
            "top": null,
            "visibility": null,
            "width": null
          }
        },
        "6ac9bd91c4494b72aec1e8ffbdb2ec19": {
          "model_module": "@jupyter-widgets/controls",
          "model_name": "DescriptionStyleModel",
          "model_module_version": "1.5.0",
          "state": {
            "_model_module": "@jupyter-widgets/controls",
            "_model_module_version": "1.5.0",
            "_model_name": "DescriptionStyleModel",
            "_view_count": null,
            "_view_module": "@jupyter-widgets/base",
            "_view_module_version": "1.2.0",
            "_view_name": "StyleView",
            "description_width": ""
          }
        },
        "524072e7864a4c1e863912d0eb069608": {
          "model_module": "@jupyter-widgets/controls",
          "model_name": "HBoxModel",
          "model_module_version": "1.5.0",
          "state": {
            "_dom_classes": [],
            "_model_module": "@jupyter-widgets/controls",
            "_model_module_version": "1.5.0",
            "_model_name": "HBoxModel",
            "_view_count": null,
            "_view_module": "@jupyter-widgets/controls",
            "_view_module_version": "1.5.0",
            "_view_name": "HBoxView",
            "box_style": "",
            "children": [
              "IPY_MODEL_8beec8d02e354d6ab3a9f8604e2d50d1",
              "IPY_MODEL_b327e29b691e42669780c987cc98c8a8",
              "IPY_MODEL_87081088085948f0ba544c8054a48d26"
            ],
            "layout": "IPY_MODEL_b1f4676768844330a11d3216474c1379"
          }
        },
        "8beec8d02e354d6ab3a9f8604e2d50d1": {
          "model_module": "@jupyter-widgets/controls",
          "model_name": "HTMLModel",
          "model_module_version": "1.5.0",
          "state": {
            "_dom_classes": [],
            "_model_module": "@jupyter-widgets/controls",
            "_model_module_version": "1.5.0",
            "_model_name": "HTMLModel",
            "_view_count": null,
            "_view_module": "@jupyter-widgets/controls",
            "_view_module_version": "1.5.0",
            "_view_name": "HTMLView",
            "description": "",
            "description_tooltip": null,
            "layout": "IPY_MODEL_372c0aece1fe4e59a1bffaeceed61f53",
            "placeholder": "​",
            "style": "IPY_MODEL_4ca1d7f4c9494b72b500763dc9e6dd09",
            "value": "Best trial: 10. Best value: 0.0240512: 100%"
          }
        },
        "b327e29b691e42669780c987cc98c8a8": {
          "model_module": "@jupyter-widgets/controls",
          "model_name": "FloatProgressModel",
          "model_module_version": "1.5.0",
          "state": {
            "_dom_classes": [],
            "_model_module": "@jupyter-widgets/controls",
            "_model_module_version": "1.5.0",
            "_model_name": "FloatProgressModel",
            "_view_count": null,
            "_view_module": "@jupyter-widgets/controls",
            "_view_module_version": "1.5.0",
            "_view_name": "ProgressView",
            "bar_style": "success",
            "description": "",
            "description_tooltip": null,
            "layout": "IPY_MODEL_588217142c4244b3810855d29dfb4eb4",
            "max": 30,
            "min": 0,
            "orientation": "horizontal",
            "style": "IPY_MODEL_f8a4317afe304dd78446177915597669",
            "value": 30
          }
        },
        "87081088085948f0ba544c8054a48d26": {
          "model_module": "@jupyter-widgets/controls",
          "model_name": "HTMLModel",
          "model_module_version": "1.5.0",
          "state": {
            "_dom_classes": [],
            "_model_module": "@jupyter-widgets/controls",
            "_model_module_version": "1.5.0",
            "_model_name": "HTMLModel",
            "_view_count": null,
            "_view_module": "@jupyter-widgets/controls",
            "_view_module_version": "1.5.0",
            "_view_name": "HTMLView",
            "description": "",
            "description_tooltip": null,
            "layout": "IPY_MODEL_21ae2a7571d04a309da8e768b4ca6f44",
            "placeholder": "​",
            "style": "IPY_MODEL_5bf8530e53c54073822814aaf875a86d",
            "value": " 30/30 [07:51&lt;00:00, 18.48s/it]"
          }
        },
        "b1f4676768844330a11d3216474c1379": {
          "model_module": "@jupyter-widgets/base",
          "model_name": "LayoutModel",
          "model_module_version": "1.2.0",
          "state": {
            "_model_module": "@jupyter-widgets/base",
            "_model_module_version": "1.2.0",
            "_model_name": "LayoutModel",
            "_view_count": null,
            "_view_module": "@jupyter-widgets/base",
            "_view_module_version": "1.2.0",
            "_view_name": "LayoutView",
            "align_content": null,
            "align_items": null,
            "align_self": null,
            "border": null,
            "bottom": null,
            "display": null,
            "flex": null,
            "flex_flow": null,
            "grid_area": null,
            "grid_auto_columns": null,
            "grid_auto_flow": null,
            "grid_auto_rows": null,
            "grid_column": null,
            "grid_gap": null,
            "grid_row": null,
            "grid_template_areas": null,
            "grid_template_columns": null,
            "grid_template_rows": null,
            "height": null,
            "justify_content": null,
            "justify_items": null,
            "left": null,
            "margin": null,
            "max_height": null,
            "max_width": null,
            "min_height": null,
            "min_width": null,
            "object_fit": null,
            "object_position": null,
            "order": null,
            "overflow": null,
            "overflow_x": null,
            "overflow_y": null,
            "padding": null,
            "right": null,
            "top": null,
            "visibility": null,
            "width": null
          }
        },
        "372c0aece1fe4e59a1bffaeceed61f53": {
          "model_module": "@jupyter-widgets/base",
          "model_name": "LayoutModel",
          "model_module_version": "1.2.0",
          "state": {
            "_model_module": "@jupyter-widgets/base",
            "_model_module_version": "1.2.0",
            "_model_name": "LayoutModel",
            "_view_count": null,
            "_view_module": "@jupyter-widgets/base",
            "_view_module_version": "1.2.0",
            "_view_name": "LayoutView",
            "align_content": null,
            "align_items": null,
            "align_self": null,
            "border": null,
            "bottom": null,
            "display": null,
            "flex": null,
            "flex_flow": null,
            "grid_area": null,
            "grid_auto_columns": null,
            "grid_auto_flow": null,
            "grid_auto_rows": null,
            "grid_column": null,
            "grid_gap": null,
            "grid_row": null,
            "grid_template_areas": null,
            "grid_template_columns": null,
            "grid_template_rows": null,
            "height": null,
            "justify_content": null,
            "justify_items": null,
            "left": null,
            "margin": null,
            "max_height": null,
            "max_width": null,
            "min_height": null,
            "min_width": null,
            "object_fit": null,
            "object_position": null,
            "order": null,
            "overflow": null,
            "overflow_x": null,
            "overflow_y": null,
            "padding": null,
            "right": null,
            "top": null,
            "visibility": null,
            "width": null
          }
        },
        "4ca1d7f4c9494b72b500763dc9e6dd09": {
          "model_module": "@jupyter-widgets/controls",
          "model_name": "DescriptionStyleModel",
          "model_module_version": "1.5.0",
          "state": {
            "_model_module": "@jupyter-widgets/controls",
            "_model_module_version": "1.5.0",
            "_model_name": "DescriptionStyleModel",
            "_view_count": null,
            "_view_module": "@jupyter-widgets/base",
            "_view_module_version": "1.2.0",
            "_view_name": "StyleView",
            "description_width": ""
          }
        },
        "588217142c4244b3810855d29dfb4eb4": {
          "model_module": "@jupyter-widgets/base",
          "model_name": "LayoutModel",
          "model_module_version": "1.2.0",
          "state": {
            "_model_module": "@jupyter-widgets/base",
            "_model_module_version": "1.2.0",
            "_model_name": "LayoutModel",
            "_view_count": null,
            "_view_module": "@jupyter-widgets/base",
            "_view_module_version": "1.2.0",
            "_view_name": "LayoutView",
            "align_content": null,
            "align_items": null,
            "align_self": null,
            "border": null,
            "bottom": null,
            "display": null,
            "flex": null,
            "flex_flow": null,
            "grid_area": null,
            "grid_auto_columns": null,
            "grid_auto_flow": null,
            "grid_auto_rows": null,
            "grid_column": null,
            "grid_gap": null,
            "grid_row": null,
            "grid_template_areas": null,
            "grid_template_columns": null,
            "grid_template_rows": null,
            "height": null,
            "justify_content": null,
            "justify_items": null,
            "left": null,
            "margin": null,
            "max_height": null,
            "max_width": null,
            "min_height": null,
            "min_width": null,
            "object_fit": null,
            "object_position": null,
            "order": null,
            "overflow": null,
            "overflow_x": null,
            "overflow_y": null,
            "padding": null,
            "right": null,
            "top": null,
            "visibility": null,
            "width": null
          }
        },
        "f8a4317afe304dd78446177915597669": {
          "model_module": "@jupyter-widgets/controls",
          "model_name": "ProgressStyleModel",
          "model_module_version": "1.5.0",
          "state": {
            "_model_module": "@jupyter-widgets/controls",
            "_model_module_version": "1.5.0",
            "_model_name": "ProgressStyleModel",
            "_view_count": null,
            "_view_module": "@jupyter-widgets/base",
            "_view_module_version": "1.2.0",
            "_view_name": "StyleView",
            "bar_color": null,
            "description_width": ""
          }
        },
        "21ae2a7571d04a309da8e768b4ca6f44": {
          "model_module": "@jupyter-widgets/base",
          "model_name": "LayoutModel",
          "model_module_version": "1.2.0",
          "state": {
            "_model_module": "@jupyter-widgets/base",
            "_model_module_version": "1.2.0",
            "_model_name": "LayoutModel",
            "_view_count": null,
            "_view_module": "@jupyter-widgets/base",
            "_view_module_version": "1.2.0",
            "_view_name": "LayoutView",
            "align_content": null,
            "align_items": null,
            "align_self": null,
            "border": null,
            "bottom": null,
            "display": null,
            "flex": null,
            "flex_flow": null,
            "grid_area": null,
            "grid_auto_columns": null,
            "grid_auto_flow": null,
            "grid_auto_rows": null,
            "grid_column": null,
            "grid_gap": null,
            "grid_row": null,
            "grid_template_areas": null,
            "grid_template_columns": null,
            "grid_template_rows": null,
            "height": null,
            "justify_content": null,
            "justify_items": null,
            "left": null,
            "margin": null,
            "max_height": null,
            "max_width": null,
            "min_height": null,
            "min_width": null,
            "object_fit": null,
            "object_position": null,
            "order": null,
            "overflow": null,
            "overflow_x": null,
            "overflow_y": null,
            "padding": null,
            "right": null,
            "top": null,
            "visibility": null,
            "width": null
          }
        },
        "5bf8530e53c54073822814aaf875a86d": {
          "model_module": "@jupyter-widgets/controls",
          "model_name": "DescriptionStyleModel",
          "model_module_version": "1.5.0",
          "state": {
            "_model_module": "@jupyter-widgets/controls",
            "_model_module_version": "1.5.0",
            "_model_name": "DescriptionStyleModel",
            "_view_count": null,
            "_view_module": "@jupyter-widgets/base",
            "_view_module_version": "1.2.0",
            "_view_name": "StyleView",
            "description_width": ""
          }
        },
        "c868b81cc1564aa28d97e0426a5e7776": {
          "model_module": "@jupyter-widgets/controls",
          "model_name": "HBoxModel",
          "model_module_version": "1.5.0",
          "state": {
            "_dom_classes": [],
            "_model_module": "@jupyter-widgets/controls",
            "_model_module_version": "1.5.0",
            "_model_name": "HBoxModel",
            "_view_count": null,
            "_view_module": "@jupyter-widgets/controls",
            "_view_module_version": "1.5.0",
            "_view_name": "HBoxView",
            "box_style": "",
            "children": [
              "IPY_MODEL_80e7cf5d5c9e4d66bae8e48ae6aec1cf",
              "IPY_MODEL_0823af8bd2044d3fb718de8d1a0d0c85",
              "IPY_MODEL_ff709620a84a4a078756d373230d660d"
            ],
            "layout": "IPY_MODEL_5d2534f278494fdc9d452209299bcfc7"
          }
        },
        "80e7cf5d5c9e4d66bae8e48ae6aec1cf": {
          "model_module": "@jupyter-widgets/controls",
          "model_name": "HTMLModel",
          "model_module_version": "1.5.0",
          "state": {
            "_dom_classes": [],
            "_model_module": "@jupyter-widgets/controls",
            "_model_module_version": "1.5.0",
            "_model_name": "HTMLModel",
            "_view_count": null,
            "_view_module": "@jupyter-widgets/controls",
            "_view_module_version": "1.5.0",
            "_view_name": "HTMLView",
            "description": "",
            "description_tooltip": null,
            "layout": "IPY_MODEL_2346bd82df954aaeb0a0ec307dc6e6b3",
            "placeholder": "​",
            "style": "IPY_MODEL_c914d16983894da883d6a6f26ccc66b8",
            "value": "Best trial: 2. Best value: 0.0435277: 100%"
          }
        },
        "0823af8bd2044d3fb718de8d1a0d0c85": {
          "model_module": "@jupyter-widgets/controls",
          "model_name": "FloatProgressModel",
          "model_module_version": "1.5.0",
          "state": {
            "_dom_classes": [],
            "_model_module": "@jupyter-widgets/controls",
            "_model_module_version": "1.5.0",
            "_model_name": "FloatProgressModel",
            "_view_count": null,
            "_view_module": "@jupyter-widgets/controls",
            "_view_module_version": "1.5.0",
            "_view_name": "ProgressView",
            "bar_style": "success",
            "description": "",
            "description_tooltip": null,
            "layout": "IPY_MODEL_d91428b43d444828a077b214cddf743e",
            "max": 30,
            "min": 0,
            "orientation": "horizontal",
            "style": "IPY_MODEL_392a9b6e1fb84e75b130cfd54adc21ec",
            "value": 30
          }
        },
        "ff709620a84a4a078756d373230d660d": {
          "model_module": "@jupyter-widgets/controls",
          "model_name": "HTMLModel",
          "model_module_version": "1.5.0",
          "state": {
            "_dom_classes": [],
            "_model_module": "@jupyter-widgets/controls",
            "_model_module_version": "1.5.0",
            "_model_name": "HTMLModel",
            "_view_count": null,
            "_view_module": "@jupyter-widgets/controls",
            "_view_module_version": "1.5.0",
            "_view_name": "HTMLView",
            "description": "",
            "description_tooltip": null,
            "layout": "IPY_MODEL_e4bc15af086f4a9bac1bcffd82cd3dac",
            "placeholder": "​",
            "style": "IPY_MODEL_a918cfdf5db34497b9d5d5188c9fcc5e",
            "value": " 30/30 [13:12&lt;00:00, 25.34s/it]"
          }
        },
        "5d2534f278494fdc9d452209299bcfc7": {
          "model_module": "@jupyter-widgets/base",
          "model_name": "LayoutModel",
          "model_module_version": "1.2.0",
          "state": {
            "_model_module": "@jupyter-widgets/base",
            "_model_module_version": "1.2.0",
            "_model_name": "LayoutModel",
            "_view_count": null,
            "_view_module": "@jupyter-widgets/base",
            "_view_module_version": "1.2.0",
            "_view_name": "LayoutView",
            "align_content": null,
            "align_items": null,
            "align_self": null,
            "border": null,
            "bottom": null,
            "display": null,
            "flex": null,
            "flex_flow": null,
            "grid_area": null,
            "grid_auto_columns": null,
            "grid_auto_flow": null,
            "grid_auto_rows": null,
            "grid_column": null,
            "grid_gap": null,
            "grid_row": null,
            "grid_template_areas": null,
            "grid_template_columns": null,
            "grid_template_rows": null,
            "height": null,
            "justify_content": null,
            "justify_items": null,
            "left": null,
            "margin": null,
            "max_height": null,
            "max_width": null,
            "min_height": null,
            "min_width": null,
            "object_fit": null,
            "object_position": null,
            "order": null,
            "overflow": null,
            "overflow_x": null,
            "overflow_y": null,
            "padding": null,
            "right": null,
            "top": null,
            "visibility": null,
            "width": null
          }
        },
        "2346bd82df954aaeb0a0ec307dc6e6b3": {
          "model_module": "@jupyter-widgets/base",
          "model_name": "LayoutModel",
          "model_module_version": "1.2.0",
          "state": {
            "_model_module": "@jupyter-widgets/base",
            "_model_module_version": "1.2.0",
            "_model_name": "LayoutModel",
            "_view_count": null,
            "_view_module": "@jupyter-widgets/base",
            "_view_module_version": "1.2.0",
            "_view_name": "LayoutView",
            "align_content": null,
            "align_items": null,
            "align_self": null,
            "border": null,
            "bottom": null,
            "display": null,
            "flex": null,
            "flex_flow": null,
            "grid_area": null,
            "grid_auto_columns": null,
            "grid_auto_flow": null,
            "grid_auto_rows": null,
            "grid_column": null,
            "grid_gap": null,
            "grid_row": null,
            "grid_template_areas": null,
            "grid_template_columns": null,
            "grid_template_rows": null,
            "height": null,
            "justify_content": null,
            "justify_items": null,
            "left": null,
            "margin": null,
            "max_height": null,
            "max_width": null,
            "min_height": null,
            "min_width": null,
            "object_fit": null,
            "object_position": null,
            "order": null,
            "overflow": null,
            "overflow_x": null,
            "overflow_y": null,
            "padding": null,
            "right": null,
            "top": null,
            "visibility": null,
            "width": null
          }
        },
        "c914d16983894da883d6a6f26ccc66b8": {
          "model_module": "@jupyter-widgets/controls",
          "model_name": "DescriptionStyleModel",
          "model_module_version": "1.5.0",
          "state": {
            "_model_module": "@jupyter-widgets/controls",
            "_model_module_version": "1.5.0",
            "_model_name": "DescriptionStyleModel",
            "_view_count": null,
            "_view_module": "@jupyter-widgets/base",
            "_view_module_version": "1.2.0",
            "_view_name": "StyleView",
            "description_width": ""
          }
        },
        "d91428b43d444828a077b214cddf743e": {
          "model_module": "@jupyter-widgets/base",
          "model_name": "LayoutModel",
          "model_module_version": "1.2.0",
          "state": {
            "_model_module": "@jupyter-widgets/base",
            "_model_module_version": "1.2.0",
            "_model_name": "LayoutModel",
            "_view_count": null,
            "_view_module": "@jupyter-widgets/base",
            "_view_module_version": "1.2.0",
            "_view_name": "LayoutView",
            "align_content": null,
            "align_items": null,
            "align_self": null,
            "border": null,
            "bottom": null,
            "display": null,
            "flex": null,
            "flex_flow": null,
            "grid_area": null,
            "grid_auto_columns": null,
            "grid_auto_flow": null,
            "grid_auto_rows": null,
            "grid_column": null,
            "grid_gap": null,
            "grid_row": null,
            "grid_template_areas": null,
            "grid_template_columns": null,
            "grid_template_rows": null,
            "height": null,
            "justify_content": null,
            "justify_items": null,
            "left": null,
            "margin": null,
            "max_height": null,
            "max_width": null,
            "min_height": null,
            "min_width": null,
            "object_fit": null,
            "object_position": null,
            "order": null,
            "overflow": null,
            "overflow_x": null,
            "overflow_y": null,
            "padding": null,
            "right": null,
            "top": null,
            "visibility": null,
            "width": null
          }
        },
        "392a9b6e1fb84e75b130cfd54adc21ec": {
          "model_module": "@jupyter-widgets/controls",
          "model_name": "ProgressStyleModel",
          "model_module_version": "1.5.0",
          "state": {
            "_model_module": "@jupyter-widgets/controls",
            "_model_module_version": "1.5.0",
            "_model_name": "ProgressStyleModel",
            "_view_count": null,
            "_view_module": "@jupyter-widgets/base",
            "_view_module_version": "1.2.0",
            "_view_name": "StyleView",
            "bar_color": null,
            "description_width": ""
          }
        },
        "e4bc15af086f4a9bac1bcffd82cd3dac": {
          "model_module": "@jupyter-widgets/base",
          "model_name": "LayoutModel",
          "model_module_version": "1.2.0",
          "state": {
            "_model_module": "@jupyter-widgets/base",
            "_model_module_version": "1.2.0",
            "_model_name": "LayoutModel",
            "_view_count": null,
            "_view_module": "@jupyter-widgets/base",
            "_view_module_version": "1.2.0",
            "_view_name": "LayoutView",
            "align_content": null,
            "align_items": null,
            "align_self": null,
            "border": null,
            "bottom": null,
            "display": null,
            "flex": null,
            "flex_flow": null,
            "grid_area": null,
            "grid_auto_columns": null,
            "grid_auto_flow": null,
            "grid_auto_rows": null,
            "grid_column": null,
            "grid_gap": null,
            "grid_row": null,
            "grid_template_areas": null,
            "grid_template_columns": null,
            "grid_template_rows": null,
            "height": null,
            "justify_content": null,
            "justify_items": null,
            "left": null,
            "margin": null,
            "max_height": null,
            "max_width": null,
            "min_height": null,
            "min_width": null,
            "object_fit": null,
            "object_position": null,
            "order": null,
            "overflow": null,
            "overflow_x": null,
            "overflow_y": null,
            "padding": null,
            "right": null,
            "top": null,
            "visibility": null,
            "width": null
          }
        },
        "a918cfdf5db34497b9d5d5188c9fcc5e": {
          "model_module": "@jupyter-widgets/controls",
          "model_name": "DescriptionStyleModel",
          "model_module_version": "1.5.0",
          "state": {
            "_model_module": "@jupyter-widgets/controls",
            "_model_module_version": "1.5.0",
            "_model_name": "DescriptionStyleModel",
            "_view_count": null,
            "_view_module": "@jupyter-widgets/base",
            "_view_module_version": "1.2.0",
            "_view_name": "StyleView",
            "description_width": ""
          }
        },
        "3e2d18398d3147e19c15005a9927458e": {
          "model_module": "@jupyter-widgets/controls",
          "model_name": "HBoxModel",
          "model_module_version": "1.5.0",
          "state": {
            "_dom_classes": [],
            "_model_module": "@jupyter-widgets/controls",
            "_model_module_version": "1.5.0",
            "_model_name": "HBoxModel",
            "_view_count": null,
            "_view_module": "@jupyter-widgets/controls",
            "_view_module_version": "1.5.0",
            "_view_name": "HBoxView",
            "box_style": "",
            "children": [
              "IPY_MODEL_79616b50522342a8af7e7d2373d46717",
              "IPY_MODEL_ba8ff5f206e5494fa65fb8e42cc980f5",
              "IPY_MODEL_04ae6456022d4f7d9a7ad6a29f9af1eb"
            ],
            "layout": "IPY_MODEL_1510627ef99040589b18f51642fe9834"
          }
        },
        "79616b50522342a8af7e7d2373d46717": {
          "model_module": "@jupyter-widgets/controls",
          "model_name": "HTMLModel",
          "model_module_version": "1.5.0",
          "state": {
            "_dom_classes": [],
            "_model_module": "@jupyter-widgets/controls",
            "_model_module_version": "1.5.0",
            "_model_name": "HTMLModel",
            "_view_count": null,
            "_view_module": "@jupyter-widgets/controls",
            "_view_module_version": "1.5.0",
            "_view_name": "HTMLView",
            "description": "",
            "description_tooltip": null,
            "layout": "IPY_MODEL_c1084cb3887a4287b454961f4513404f",
            "placeholder": "​",
            "style": "IPY_MODEL_864f2badc87d431eb0e982cc4a14770f",
            "value": "Best trial: 14. Best value: 0.0272886: 100%"
          }
        },
        "ba8ff5f206e5494fa65fb8e42cc980f5": {
          "model_module": "@jupyter-widgets/controls",
          "model_name": "FloatProgressModel",
          "model_module_version": "1.5.0",
          "state": {
            "_dom_classes": [],
            "_model_module": "@jupyter-widgets/controls",
            "_model_module_version": "1.5.0",
            "_model_name": "FloatProgressModel",
            "_view_count": null,
            "_view_module": "@jupyter-widgets/controls",
            "_view_module_version": "1.5.0",
            "_view_name": "ProgressView",
            "bar_style": "success",
            "description": "",
            "description_tooltip": null,
            "layout": "IPY_MODEL_b5dbe4357ee54fd9b7168fb0c03c9721",
            "max": 30,
            "min": 0,
            "orientation": "horizontal",
            "style": "IPY_MODEL_555c6d2801274a2a88f76ef94aadebd3",
            "value": 30
          }
        },
        "04ae6456022d4f7d9a7ad6a29f9af1eb": {
          "model_module": "@jupyter-widgets/controls",
          "model_name": "HTMLModel",
          "model_module_version": "1.5.0",
          "state": {
            "_dom_classes": [],
            "_model_module": "@jupyter-widgets/controls",
            "_model_module_version": "1.5.0",
            "_model_name": "HTMLModel",
            "_view_count": null,
            "_view_module": "@jupyter-widgets/controls",
            "_view_module_version": "1.5.0",
            "_view_name": "HTMLView",
            "description": "",
            "description_tooltip": null,
            "layout": "IPY_MODEL_d53dcbc2cc154aac89f6cb27a8f8e797",
            "placeholder": "​",
            "style": "IPY_MODEL_b664218061e04842b284ec7580e095a7",
            "value": " 30/30 [12:47&lt;00:00, 10.71s/it]"
          }
        },
        "1510627ef99040589b18f51642fe9834": {
          "model_module": "@jupyter-widgets/base",
          "model_name": "LayoutModel",
          "model_module_version": "1.2.0",
          "state": {
            "_model_module": "@jupyter-widgets/base",
            "_model_module_version": "1.2.0",
            "_model_name": "LayoutModel",
            "_view_count": null,
            "_view_module": "@jupyter-widgets/base",
            "_view_module_version": "1.2.0",
            "_view_name": "LayoutView",
            "align_content": null,
            "align_items": null,
            "align_self": null,
            "border": null,
            "bottom": null,
            "display": null,
            "flex": null,
            "flex_flow": null,
            "grid_area": null,
            "grid_auto_columns": null,
            "grid_auto_flow": null,
            "grid_auto_rows": null,
            "grid_column": null,
            "grid_gap": null,
            "grid_row": null,
            "grid_template_areas": null,
            "grid_template_columns": null,
            "grid_template_rows": null,
            "height": null,
            "justify_content": null,
            "justify_items": null,
            "left": null,
            "margin": null,
            "max_height": null,
            "max_width": null,
            "min_height": null,
            "min_width": null,
            "object_fit": null,
            "object_position": null,
            "order": null,
            "overflow": null,
            "overflow_x": null,
            "overflow_y": null,
            "padding": null,
            "right": null,
            "top": null,
            "visibility": null,
            "width": null
          }
        },
        "c1084cb3887a4287b454961f4513404f": {
          "model_module": "@jupyter-widgets/base",
          "model_name": "LayoutModel",
          "model_module_version": "1.2.0",
          "state": {
            "_model_module": "@jupyter-widgets/base",
            "_model_module_version": "1.2.0",
            "_model_name": "LayoutModel",
            "_view_count": null,
            "_view_module": "@jupyter-widgets/base",
            "_view_module_version": "1.2.0",
            "_view_name": "LayoutView",
            "align_content": null,
            "align_items": null,
            "align_self": null,
            "border": null,
            "bottom": null,
            "display": null,
            "flex": null,
            "flex_flow": null,
            "grid_area": null,
            "grid_auto_columns": null,
            "grid_auto_flow": null,
            "grid_auto_rows": null,
            "grid_column": null,
            "grid_gap": null,
            "grid_row": null,
            "grid_template_areas": null,
            "grid_template_columns": null,
            "grid_template_rows": null,
            "height": null,
            "justify_content": null,
            "justify_items": null,
            "left": null,
            "margin": null,
            "max_height": null,
            "max_width": null,
            "min_height": null,
            "min_width": null,
            "object_fit": null,
            "object_position": null,
            "order": null,
            "overflow": null,
            "overflow_x": null,
            "overflow_y": null,
            "padding": null,
            "right": null,
            "top": null,
            "visibility": null,
            "width": null
          }
        },
        "864f2badc87d431eb0e982cc4a14770f": {
          "model_module": "@jupyter-widgets/controls",
          "model_name": "DescriptionStyleModel",
          "model_module_version": "1.5.0",
          "state": {
            "_model_module": "@jupyter-widgets/controls",
            "_model_module_version": "1.5.0",
            "_model_name": "DescriptionStyleModel",
            "_view_count": null,
            "_view_module": "@jupyter-widgets/base",
            "_view_module_version": "1.2.0",
            "_view_name": "StyleView",
            "description_width": ""
          }
        },
        "b5dbe4357ee54fd9b7168fb0c03c9721": {
          "model_module": "@jupyter-widgets/base",
          "model_name": "LayoutModel",
          "model_module_version": "1.2.0",
          "state": {
            "_model_module": "@jupyter-widgets/base",
            "_model_module_version": "1.2.0",
            "_model_name": "LayoutModel",
            "_view_count": null,
            "_view_module": "@jupyter-widgets/base",
            "_view_module_version": "1.2.0",
            "_view_name": "LayoutView",
            "align_content": null,
            "align_items": null,
            "align_self": null,
            "border": null,
            "bottom": null,
            "display": null,
            "flex": null,
            "flex_flow": null,
            "grid_area": null,
            "grid_auto_columns": null,
            "grid_auto_flow": null,
            "grid_auto_rows": null,
            "grid_column": null,
            "grid_gap": null,
            "grid_row": null,
            "grid_template_areas": null,
            "grid_template_columns": null,
            "grid_template_rows": null,
            "height": null,
            "justify_content": null,
            "justify_items": null,
            "left": null,
            "margin": null,
            "max_height": null,
            "max_width": null,
            "min_height": null,
            "min_width": null,
            "object_fit": null,
            "object_position": null,
            "order": null,
            "overflow": null,
            "overflow_x": null,
            "overflow_y": null,
            "padding": null,
            "right": null,
            "top": null,
            "visibility": null,
            "width": null
          }
        },
        "555c6d2801274a2a88f76ef94aadebd3": {
          "model_module": "@jupyter-widgets/controls",
          "model_name": "ProgressStyleModel",
          "model_module_version": "1.5.0",
          "state": {
            "_model_module": "@jupyter-widgets/controls",
            "_model_module_version": "1.5.0",
            "_model_name": "ProgressStyleModel",
            "_view_count": null,
            "_view_module": "@jupyter-widgets/base",
            "_view_module_version": "1.2.0",
            "_view_name": "StyleView",
            "bar_color": null,
            "description_width": ""
          }
        },
        "d53dcbc2cc154aac89f6cb27a8f8e797": {
          "model_module": "@jupyter-widgets/base",
          "model_name": "LayoutModel",
          "model_module_version": "1.2.0",
          "state": {
            "_model_module": "@jupyter-widgets/base",
            "_model_module_version": "1.2.0",
            "_model_name": "LayoutModel",
            "_view_count": null,
            "_view_module": "@jupyter-widgets/base",
            "_view_module_version": "1.2.0",
            "_view_name": "LayoutView",
            "align_content": null,
            "align_items": null,
            "align_self": null,
            "border": null,
            "bottom": null,
            "display": null,
            "flex": null,
            "flex_flow": null,
            "grid_area": null,
            "grid_auto_columns": null,
            "grid_auto_flow": null,
            "grid_auto_rows": null,
            "grid_column": null,
            "grid_gap": null,
            "grid_row": null,
            "grid_template_areas": null,
            "grid_template_columns": null,
            "grid_template_rows": null,
            "height": null,
            "justify_content": null,
            "justify_items": null,
            "left": null,
            "margin": null,
            "max_height": null,
            "max_width": null,
            "min_height": null,
            "min_width": null,
            "object_fit": null,
            "object_position": null,
            "order": null,
            "overflow": null,
            "overflow_x": null,
            "overflow_y": null,
            "padding": null,
            "right": null,
            "top": null,
            "visibility": null,
            "width": null
          }
        },
        "b664218061e04842b284ec7580e095a7": {
          "model_module": "@jupyter-widgets/controls",
          "model_name": "DescriptionStyleModel",
          "model_module_version": "1.5.0",
          "state": {
            "_model_module": "@jupyter-widgets/controls",
            "_model_module_version": "1.5.0",
            "_model_name": "DescriptionStyleModel",
            "_view_count": null,
            "_view_module": "@jupyter-widgets/base",
            "_view_module_version": "1.2.0",
            "_view_name": "StyleView",
            "description_width": ""
          }
        },
        "976ce56e5c874f9d943184ce1d06f377": {
          "model_module": "@jupyter-widgets/controls",
          "model_name": "HBoxModel",
          "model_module_version": "1.5.0",
          "state": {
            "_dom_classes": [],
            "_model_module": "@jupyter-widgets/controls",
            "_model_module_version": "1.5.0",
            "_model_name": "HBoxModel",
            "_view_count": null,
            "_view_module": "@jupyter-widgets/controls",
            "_view_module_version": "1.5.0",
            "_view_name": "HBoxView",
            "box_style": "",
            "children": [
              "IPY_MODEL_c6b73650860d4bbca8ee75a63773baa1",
              "IPY_MODEL_915df6b6fe68420fa85683dee844576b",
              "IPY_MODEL_2a14a606256b4b7b938d1958972b12b3"
            ],
            "layout": "IPY_MODEL_29cb18f38f7a49ff8f937597e78c3218"
          }
        },
        "c6b73650860d4bbca8ee75a63773baa1": {
          "model_module": "@jupyter-widgets/controls",
          "model_name": "HTMLModel",
          "model_module_version": "1.5.0",
          "state": {
            "_dom_classes": [],
            "_model_module": "@jupyter-widgets/controls",
            "_model_module_version": "1.5.0",
            "_model_name": "HTMLModel",
            "_view_count": null,
            "_view_module": "@jupyter-widgets/controls",
            "_view_module_version": "1.5.0",
            "_view_name": "HTMLView",
            "description": "",
            "description_tooltip": null,
            "layout": "IPY_MODEL_52becda6df2d4c83afa298869dcde8d5",
            "placeholder": "​",
            "style": "IPY_MODEL_f18fabdcf8fd40819b8c206b4220125f",
            "value": "Best trial: 21. Best value: 0.0274197: 100%"
          }
        },
        "915df6b6fe68420fa85683dee844576b": {
          "model_module": "@jupyter-widgets/controls",
          "model_name": "FloatProgressModel",
          "model_module_version": "1.5.0",
          "state": {
            "_dom_classes": [],
            "_model_module": "@jupyter-widgets/controls",
            "_model_module_version": "1.5.0",
            "_model_name": "FloatProgressModel",
            "_view_count": null,
            "_view_module": "@jupyter-widgets/controls",
            "_view_module_version": "1.5.0",
            "_view_name": "ProgressView",
            "bar_style": "success",
            "description": "",
            "description_tooltip": null,
            "layout": "IPY_MODEL_cbe42eb281284e2db47763a1f91e9eb6",
            "max": 30,
            "min": 0,
            "orientation": "horizontal",
            "style": "IPY_MODEL_70e680892b4444b5806e875603c02290",
            "value": 30
          }
        },
        "2a14a606256b4b7b938d1958972b12b3": {
          "model_module": "@jupyter-widgets/controls",
          "model_name": "HTMLModel",
          "model_module_version": "1.5.0",
          "state": {
            "_dom_classes": [],
            "_model_module": "@jupyter-widgets/controls",
            "_model_module_version": "1.5.0",
            "_model_name": "HTMLModel",
            "_view_count": null,
            "_view_module": "@jupyter-widgets/controls",
            "_view_module_version": "1.5.0",
            "_view_name": "HTMLView",
            "description": "",
            "description_tooltip": null,
            "layout": "IPY_MODEL_d1bb6760af7b497f982c5808b340e551",
            "placeholder": "​",
            "style": "IPY_MODEL_bf1d5eb97380488eb6ad145410b414fe",
            "value": " 30/30 [11:25&lt;00:00, 25.22s/it]"
          }
        },
        "29cb18f38f7a49ff8f937597e78c3218": {
          "model_module": "@jupyter-widgets/base",
          "model_name": "LayoutModel",
          "model_module_version": "1.2.0",
          "state": {
            "_model_module": "@jupyter-widgets/base",
            "_model_module_version": "1.2.0",
            "_model_name": "LayoutModel",
            "_view_count": null,
            "_view_module": "@jupyter-widgets/base",
            "_view_module_version": "1.2.0",
            "_view_name": "LayoutView",
            "align_content": null,
            "align_items": null,
            "align_self": null,
            "border": null,
            "bottom": null,
            "display": null,
            "flex": null,
            "flex_flow": null,
            "grid_area": null,
            "grid_auto_columns": null,
            "grid_auto_flow": null,
            "grid_auto_rows": null,
            "grid_column": null,
            "grid_gap": null,
            "grid_row": null,
            "grid_template_areas": null,
            "grid_template_columns": null,
            "grid_template_rows": null,
            "height": null,
            "justify_content": null,
            "justify_items": null,
            "left": null,
            "margin": null,
            "max_height": null,
            "max_width": null,
            "min_height": null,
            "min_width": null,
            "object_fit": null,
            "object_position": null,
            "order": null,
            "overflow": null,
            "overflow_x": null,
            "overflow_y": null,
            "padding": null,
            "right": null,
            "top": null,
            "visibility": null,
            "width": null
          }
        },
        "52becda6df2d4c83afa298869dcde8d5": {
          "model_module": "@jupyter-widgets/base",
          "model_name": "LayoutModel",
          "model_module_version": "1.2.0",
          "state": {
            "_model_module": "@jupyter-widgets/base",
            "_model_module_version": "1.2.0",
            "_model_name": "LayoutModel",
            "_view_count": null,
            "_view_module": "@jupyter-widgets/base",
            "_view_module_version": "1.2.0",
            "_view_name": "LayoutView",
            "align_content": null,
            "align_items": null,
            "align_self": null,
            "border": null,
            "bottom": null,
            "display": null,
            "flex": null,
            "flex_flow": null,
            "grid_area": null,
            "grid_auto_columns": null,
            "grid_auto_flow": null,
            "grid_auto_rows": null,
            "grid_column": null,
            "grid_gap": null,
            "grid_row": null,
            "grid_template_areas": null,
            "grid_template_columns": null,
            "grid_template_rows": null,
            "height": null,
            "justify_content": null,
            "justify_items": null,
            "left": null,
            "margin": null,
            "max_height": null,
            "max_width": null,
            "min_height": null,
            "min_width": null,
            "object_fit": null,
            "object_position": null,
            "order": null,
            "overflow": null,
            "overflow_x": null,
            "overflow_y": null,
            "padding": null,
            "right": null,
            "top": null,
            "visibility": null,
            "width": null
          }
        },
        "f18fabdcf8fd40819b8c206b4220125f": {
          "model_module": "@jupyter-widgets/controls",
          "model_name": "DescriptionStyleModel",
          "model_module_version": "1.5.0",
          "state": {
            "_model_module": "@jupyter-widgets/controls",
            "_model_module_version": "1.5.0",
            "_model_name": "DescriptionStyleModel",
            "_view_count": null,
            "_view_module": "@jupyter-widgets/base",
            "_view_module_version": "1.2.0",
            "_view_name": "StyleView",
            "description_width": ""
          }
        },
        "cbe42eb281284e2db47763a1f91e9eb6": {
          "model_module": "@jupyter-widgets/base",
          "model_name": "LayoutModel",
          "model_module_version": "1.2.0",
          "state": {
            "_model_module": "@jupyter-widgets/base",
            "_model_module_version": "1.2.0",
            "_model_name": "LayoutModel",
            "_view_count": null,
            "_view_module": "@jupyter-widgets/base",
            "_view_module_version": "1.2.0",
            "_view_name": "LayoutView",
            "align_content": null,
            "align_items": null,
            "align_self": null,
            "border": null,
            "bottom": null,
            "display": null,
            "flex": null,
            "flex_flow": null,
            "grid_area": null,
            "grid_auto_columns": null,
            "grid_auto_flow": null,
            "grid_auto_rows": null,
            "grid_column": null,
            "grid_gap": null,
            "grid_row": null,
            "grid_template_areas": null,
            "grid_template_columns": null,
            "grid_template_rows": null,
            "height": null,
            "justify_content": null,
            "justify_items": null,
            "left": null,
            "margin": null,
            "max_height": null,
            "max_width": null,
            "min_height": null,
            "min_width": null,
            "object_fit": null,
            "object_position": null,
            "order": null,
            "overflow": null,
            "overflow_x": null,
            "overflow_y": null,
            "padding": null,
            "right": null,
            "top": null,
            "visibility": null,
            "width": null
          }
        },
        "70e680892b4444b5806e875603c02290": {
          "model_module": "@jupyter-widgets/controls",
          "model_name": "ProgressStyleModel",
          "model_module_version": "1.5.0",
          "state": {
            "_model_module": "@jupyter-widgets/controls",
            "_model_module_version": "1.5.0",
            "_model_name": "ProgressStyleModel",
            "_view_count": null,
            "_view_module": "@jupyter-widgets/base",
            "_view_module_version": "1.2.0",
            "_view_name": "StyleView",
            "bar_color": null,
            "description_width": ""
          }
        },
        "d1bb6760af7b497f982c5808b340e551": {
          "model_module": "@jupyter-widgets/base",
          "model_name": "LayoutModel",
          "model_module_version": "1.2.0",
          "state": {
            "_model_module": "@jupyter-widgets/base",
            "_model_module_version": "1.2.0",
            "_model_name": "LayoutModel",
            "_view_count": null,
            "_view_module": "@jupyter-widgets/base",
            "_view_module_version": "1.2.0",
            "_view_name": "LayoutView",
            "align_content": null,
            "align_items": null,
            "align_self": null,
            "border": null,
            "bottom": null,
            "display": null,
            "flex": null,
            "flex_flow": null,
            "grid_area": null,
            "grid_auto_columns": null,
            "grid_auto_flow": null,
            "grid_auto_rows": null,
            "grid_column": null,
            "grid_gap": null,
            "grid_row": null,
            "grid_template_areas": null,
            "grid_template_columns": null,
            "grid_template_rows": null,
            "height": null,
            "justify_content": null,
            "justify_items": null,
            "left": null,
            "margin": null,
            "max_height": null,
            "max_width": null,
            "min_height": null,
            "min_width": null,
            "object_fit": null,
            "object_position": null,
            "order": null,
            "overflow": null,
            "overflow_x": null,
            "overflow_y": null,
            "padding": null,
            "right": null,
            "top": null,
            "visibility": null,
            "width": null
          }
        },
        "bf1d5eb97380488eb6ad145410b414fe": {
          "model_module": "@jupyter-widgets/controls",
          "model_name": "DescriptionStyleModel",
          "model_module_version": "1.5.0",
          "state": {
            "_model_module": "@jupyter-widgets/controls",
            "_model_module_version": "1.5.0",
            "_model_name": "DescriptionStyleModel",
            "_view_count": null,
            "_view_module": "@jupyter-widgets/base",
            "_view_module_version": "1.2.0",
            "_view_name": "StyleView",
            "description_width": ""
          }
        },
        "66cefe0ada1c411db7e33d6e5b3d3e29": {
          "model_module": "@jupyter-widgets/controls",
          "model_name": "HBoxModel",
          "model_module_version": "1.5.0",
          "state": {
            "_dom_classes": [],
            "_model_module": "@jupyter-widgets/controls",
            "_model_module_version": "1.5.0",
            "_model_name": "HBoxModel",
            "_view_count": null,
            "_view_module": "@jupyter-widgets/controls",
            "_view_module_version": "1.5.0",
            "_view_name": "HBoxView",
            "box_style": "",
            "children": [
              "IPY_MODEL_7e909a8f3fa942c2b404cc79fa33aeca",
              "IPY_MODEL_a66b67bfa5d14dfea9122eca991768af",
              "IPY_MODEL_5d60a89e34514e4d9ee556f7880e1d3a"
            ],
            "layout": "IPY_MODEL_4de42e78f908470a8a8eb52e704c98a5"
          }
        },
        "7e909a8f3fa942c2b404cc79fa33aeca": {
          "model_module": "@jupyter-widgets/controls",
          "model_name": "HTMLModel",
          "model_module_version": "1.5.0",
          "state": {
            "_dom_classes": [],
            "_model_module": "@jupyter-widgets/controls",
            "_model_module_version": "1.5.0",
            "_model_name": "HTMLModel",
            "_view_count": null,
            "_view_module": "@jupyter-widgets/controls",
            "_view_module_version": "1.5.0",
            "_view_name": "HTMLView",
            "description": "",
            "description_tooltip": null,
            "layout": "IPY_MODEL_6225f76e0cb644b0a4b1b117b084b9d8",
            "placeholder": "​",
            "style": "IPY_MODEL_64053e6659bf419a992214fe7c6987a9",
            "value": "Best trial: 28. Best value: 0.0210072: 100%"
          }
        },
        "a66b67bfa5d14dfea9122eca991768af": {
          "model_module": "@jupyter-widgets/controls",
          "model_name": "FloatProgressModel",
          "model_module_version": "1.5.0",
          "state": {
            "_dom_classes": [],
            "_model_module": "@jupyter-widgets/controls",
            "_model_module_version": "1.5.0",
            "_model_name": "FloatProgressModel",
            "_view_count": null,
            "_view_module": "@jupyter-widgets/controls",
            "_view_module_version": "1.5.0",
            "_view_name": "ProgressView",
            "bar_style": "success",
            "description": "",
            "description_tooltip": null,
            "layout": "IPY_MODEL_a4aac6b1b5524ced8bc4f97b88510b1b",
            "max": 30,
            "min": 0,
            "orientation": "horizontal",
            "style": "IPY_MODEL_3c4438d38a0e48328d481e472780a7bb",
            "value": 30
          }
        },
        "5d60a89e34514e4d9ee556f7880e1d3a": {
          "model_module": "@jupyter-widgets/controls",
          "model_name": "HTMLModel",
          "model_module_version": "1.5.0",
          "state": {
            "_dom_classes": [],
            "_model_module": "@jupyter-widgets/controls",
            "_model_module_version": "1.5.0",
            "_model_name": "HTMLModel",
            "_view_count": null,
            "_view_module": "@jupyter-widgets/controls",
            "_view_module_version": "1.5.0",
            "_view_name": "HTMLView",
            "description": "",
            "description_tooltip": null,
            "layout": "IPY_MODEL_a88511707599472995cce9d2921892c3",
            "placeholder": "​",
            "style": "IPY_MODEL_22fb27a1097d436d89b9897483609109",
            "value": " 30/30 [08:00&lt;00:00, 14.73s/it]"
          }
        },
        "4de42e78f908470a8a8eb52e704c98a5": {
          "model_module": "@jupyter-widgets/base",
          "model_name": "LayoutModel",
          "model_module_version": "1.2.0",
          "state": {
            "_model_module": "@jupyter-widgets/base",
            "_model_module_version": "1.2.0",
            "_model_name": "LayoutModel",
            "_view_count": null,
            "_view_module": "@jupyter-widgets/base",
            "_view_module_version": "1.2.0",
            "_view_name": "LayoutView",
            "align_content": null,
            "align_items": null,
            "align_self": null,
            "border": null,
            "bottom": null,
            "display": null,
            "flex": null,
            "flex_flow": null,
            "grid_area": null,
            "grid_auto_columns": null,
            "grid_auto_flow": null,
            "grid_auto_rows": null,
            "grid_column": null,
            "grid_gap": null,
            "grid_row": null,
            "grid_template_areas": null,
            "grid_template_columns": null,
            "grid_template_rows": null,
            "height": null,
            "justify_content": null,
            "justify_items": null,
            "left": null,
            "margin": null,
            "max_height": null,
            "max_width": null,
            "min_height": null,
            "min_width": null,
            "object_fit": null,
            "object_position": null,
            "order": null,
            "overflow": null,
            "overflow_x": null,
            "overflow_y": null,
            "padding": null,
            "right": null,
            "top": null,
            "visibility": null,
            "width": null
          }
        },
        "6225f76e0cb644b0a4b1b117b084b9d8": {
          "model_module": "@jupyter-widgets/base",
          "model_name": "LayoutModel",
          "model_module_version": "1.2.0",
          "state": {
            "_model_module": "@jupyter-widgets/base",
            "_model_module_version": "1.2.0",
            "_model_name": "LayoutModel",
            "_view_count": null,
            "_view_module": "@jupyter-widgets/base",
            "_view_module_version": "1.2.0",
            "_view_name": "LayoutView",
            "align_content": null,
            "align_items": null,
            "align_self": null,
            "border": null,
            "bottom": null,
            "display": null,
            "flex": null,
            "flex_flow": null,
            "grid_area": null,
            "grid_auto_columns": null,
            "grid_auto_flow": null,
            "grid_auto_rows": null,
            "grid_column": null,
            "grid_gap": null,
            "grid_row": null,
            "grid_template_areas": null,
            "grid_template_columns": null,
            "grid_template_rows": null,
            "height": null,
            "justify_content": null,
            "justify_items": null,
            "left": null,
            "margin": null,
            "max_height": null,
            "max_width": null,
            "min_height": null,
            "min_width": null,
            "object_fit": null,
            "object_position": null,
            "order": null,
            "overflow": null,
            "overflow_x": null,
            "overflow_y": null,
            "padding": null,
            "right": null,
            "top": null,
            "visibility": null,
            "width": null
          }
        },
        "64053e6659bf419a992214fe7c6987a9": {
          "model_module": "@jupyter-widgets/controls",
          "model_name": "DescriptionStyleModel",
          "model_module_version": "1.5.0",
          "state": {
            "_model_module": "@jupyter-widgets/controls",
            "_model_module_version": "1.5.0",
            "_model_name": "DescriptionStyleModel",
            "_view_count": null,
            "_view_module": "@jupyter-widgets/base",
            "_view_module_version": "1.2.0",
            "_view_name": "StyleView",
            "description_width": ""
          }
        },
        "a4aac6b1b5524ced8bc4f97b88510b1b": {
          "model_module": "@jupyter-widgets/base",
          "model_name": "LayoutModel",
          "model_module_version": "1.2.0",
          "state": {
            "_model_module": "@jupyter-widgets/base",
            "_model_module_version": "1.2.0",
            "_model_name": "LayoutModel",
            "_view_count": null,
            "_view_module": "@jupyter-widgets/base",
            "_view_module_version": "1.2.0",
            "_view_name": "LayoutView",
            "align_content": null,
            "align_items": null,
            "align_self": null,
            "border": null,
            "bottom": null,
            "display": null,
            "flex": null,
            "flex_flow": null,
            "grid_area": null,
            "grid_auto_columns": null,
            "grid_auto_flow": null,
            "grid_auto_rows": null,
            "grid_column": null,
            "grid_gap": null,
            "grid_row": null,
            "grid_template_areas": null,
            "grid_template_columns": null,
            "grid_template_rows": null,
            "height": null,
            "justify_content": null,
            "justify_items": null,
            "left": null,
            "margin": null,
            "max_height": null,
            "max_width": null,
            "min_height": null,
            "min_width": null,
            "object_fit": null,
            "object_position": null,
            "order": null,
            "overflow": null,
            "overflow_x": null,
            "overflow_y": null,
            "padding": null,
            "right": null,
            "top": null,
            "visibility": null,
            "width": null
          }
        },
        "3c4438d38a0e48328d481e472780a7bb": {
          "model_module": "@jupyter-widgets/controls",
          "model_name": "ProgressStyleModel",
          "model_module_version": "1.5.0",
          "state": {
            "_model_module": "@jupyter-widgets/controls",
            "_model_module_version": "1.5.0",
            "_model_name": "ProgressStyleModel",
            "_view_count": null,
            "_view_module": "@jupyter-widgets/base",
            "_view_module_version": "1.2.0",
            "_view_name": "StyleView",
            "bar_color": null,
            "description_width": ""
          }
        },
        "a88511707599472995cce9d2921892c3": {
          "model_module": "@jupyter-widgets/base",
          "model_name": "LayoutModel",
          "model_module_version": "1.2.0",
          "state": {
            "_model_module": "@jupyter-widgets/base",
            "_model_module_version": "1.2.0",
            "_model_name": "LayoutModel",
            "_view_count": null,
            "_view_module": "@jupyter-widgets/base",
            "_view_module_version": "1.2.0",
            "_view_name": "LayoutView",
            "align_content": null,
            "align_items": null,
            "align_self": null,
            "border": null,
            "bottom": null,
            "display": null,
            "flex": null,
            "flex_flow": null,
            "grid_area": null,
            "grid_auto_columns": null,
            "grid_auto_flow": null,
            "grid_auto_rows": null,
            "grid_column": null,
            "grid_gap": null,
            "grid_row": null,
            "grid_template_areas": null,
            "grid_template_columns": null,
            "grid_template_rows": null,
            "height": null,
            "justify_content": null,
            "justify_items": null,
            "left": null,
            "margin": null,
            "max_height": null,
            "max_width": null,
            "min_height": null,
            "min_width": null,
            "object_fit": null,
            "object_position": null,
            "order": null,
            "overflow": null,
            "overflow_x": null,
            "overflow_y": null,
            "padding": null,
            "right": null,
            "top": null,
            "visibility": null,
            "width": null
          }
        },
        "22fb27a1097d436d89b9897483609109": {
          "model_module": "@jupyter-widgets/controls",
          "model_name": "DescriptionStyleModel",
          "model_module_version": "1.5.0",
          "state": {
            "_model_module": "@jupyter-widgets/controls",
            "_model_module_version": "1.5.0",
            "_model_name": "DescriptionStyleModel",
            "_view_count": null,
            "_view_module": "@jupyter-widgets/base",
            "_view_module_version": "1.2.0",
            "_view_name": "StyleView",
            "description_width": ""
          }
        },
        "a17c11b1118d44778951297578665dd2": {
          "model_module": "@jupyter-widgets/controls",
          "model_name": "HBoxModel",
          "model_module_version": "1.5.0",
          "state": {
            "_dom_classes": [],
            "_model_module": "@jupyter-widgets/controls",
            "_model_module_version": "1.5.0",
            "_model_name": "HBoxModel",
            "_view_count": null,
            "_view_module": "@jupyter-widgets/controls",
            "_view_module_version": "1.5.0",
            "_view_name": "HBoxView",
            "box_style": "",
            "children": [
              "IPY_MODEL_ce105cb34e094d5c9e0c7c9fc9bdcec2",
              "IPY_MODEL_82dabd61504445869ec1b152e9dbf48c",
              "IPY_MODEL_77ddcc765efd489e84a4b4a4b061d8b1"
            ],
            "layout": "IPY_MODEL_ef0caa01d257455fb16c5d4303e60c64"
          }
        },
        "ce105cb34e094d5c9e0c7c9fc9bdcec2": {
          "model_module": "@jupyter-widgets/controls",
          "model_name": "HTMLModel",
          "model_module_version": "1.5.0",
          "state": {
            "_dom_classes": [],
            "_model_module": "@jupyter-widgets/controls",
            "_model_module_version": "1.5.0",
            "_model_name": "HTMLModel",
            "_view_count": null,
            "_view_module": "@jupyter-widgets/controls",
            "_view_module_version": "1.5.0",
            "_view_name": "HTMLView",
            "description": "",
            "description_tooltip": null,
            "layout": "IPY_MODEL_ac1967ccfc1348b8be0d0ff58f7e746a",
            "placeholder": "​",
            "style": "IPY_MODEL_e4acb68a3f4442c2be871b49be6763bc",
            "value": "Best trial: 10. Best value: 0.0338195: 100%"
          }
        },
        "82dabd61504445869ec1b152e9dbf48c": {
          "model_module": "@jupyter-widgets/controls",
          "model_name": "FloatProgressModel",
          "model_module_version": "1.5.0",
          "state": {
            "_dom_classes": [],
            "_model_module": "@jupyter-widgets/controls",
            "_model_module_version": "1.5.0",
            "_model_name": "FloatProgressModel",
            "_view_count": null,
            "_view_module": "@jupyter-widgets/controls",
            "_view_module_version": "1.5.0",
            "_view_name": "ProgressView",
            "bar_style": "success",
            "description": "",
            "description_tooltip": null,
            "layout": "IPY_MODEL_003188ec40dc4b52a4054db33b89f0f5",
            "max": 30,
            "min": 0,
            "orientation": "horizontal",
            "style": "IPY_MODEL_5b0a056e5e3c46f4abfab5940f15964b",
            "value": 30
          }
        },
        "77ddcc765efd489e84a4b4a4b061d8b1": {
          "model_module": "@jupyter-widgets/controls",
          "model_name": "HTMLModel",
          "model_module_version": "1.5.0",
          "state": {
            "_dom_classes": [],
            "_model_module": "@jupyter-widgets/controls",
            "_model_module_version": "1.5.0",
            "_model_name": "HTMLModel",
            "_view_count": null,
            "_view_module": "@jupyter-widgets/controls",
            "_view_module_version": "1.5.0",
            "_view_name": "HTMLView",
            "description": "",
            "description_tooltip": null,
            "layout": "IPY_MODEL_9fd7e02f2a4d4369ba618564a2c676b7",
            "placeholder": "​",
            "style": "IPY_MODEL_da18eaff0b494fd4b054d279dce042ef",
            "value": " 30/30 [12:07&lt;00:00, 19.17s/it]"
          }
        },
        "ef0caa01d257455fb16c5d4303e60c64": {
          "model_module": "@jupyter-widgets/base",
          "model_name": "LayoutModel",
          "model_module_version": "1.2.0",
          "state": {
            "_model_module": "@jupyter-widgets/base",
            "_model_module_version": "1.2.0",
            "_model_name": "LayoutModel",
            "_view_count": null,
            "_view_module": "@jupyter-widgets/base",
            "_view_module_version": "1.2.0",
            "_view_name": "LayoutView",
            "align_content": null,
            "align_items": null,
            "align_self": null,
            "border": null,
            "bottom": null,
            "display": null,
            "flex": null,
            "flex_flow": null,
            "grid_area": null,
            "grid_auto_columns": null,
            "grid_auto_flow": null,
            "grid_auto_rows": null,
            "grid_column": null,
            "grid_gap": null,
            "grid_row": null,
            "grid_template_areas": null,
            "grid_template_columns": null,
            "grid_template_rows": null,
            "height": null,
            "justify_content": null,
            "justify_items": null,
            "left": null,
            "margin": null,
            "max_height": null,
            "max_width": null,
            "min_height": null,
            "min_width": null,
            "object_fit": null,
            "object_position": null,
            "order": null,
            "overflow": null,
            "overflow_x": null,
            "overflow_y": null,
            "padding": null,
            "right": null,
            "top": null,
            "visibility": null,
            "width": null
          }
        },
        "ac1967ccfc1348b8be0d0ff58f7e746a": {
          "model_module": "@jupyter-widgets/base",
          "model_name": "LayoutModel",
          "model_module_version": "1.2.0",
          "state": {
            "_model_module": "@jupyter-widgets/base",
            "_model_module_version": "1.2.0",
            "_model_name": "LayoutModel",
            "_view_count": null,
            "_view_module": "@jupyter-widgets/base",
            "_view_module_version": "1.2.0",
            "_view_name": "LayoutView",
            "align_content": null,
            "align_items": null,
            "align_self": null,
            "border": null,
            "bottom": null,
            "display": null,
            "flex": null,
            "flex_flow": null,
            "grid_area": null,
            "grid_auto_columns": null,
            "grid_auto_flow": null,
            "grid_auto_rows": null,
            "grid_column": null,
            "grid_gap": null,
            "grid_row": null,
            "grid_template_areas": null,
            "grid_template_columns": null,
            "grid_template_rows": null,
            "height": null,
            "justify_content": null,
            "justify_items": null,
            "left": null,
            "margin": null,
            "max_height": null,
            "max_width": null,
            "min_height": null,
            "min_width": null,
            "object_fit": null,
            "object_position": null,
            "order": null,
            "overflow": null,
            "overflow_x": null,
            "overflow_y": null,
            "padding": null,
            "right": null,
            "top": null,
            "visibility": null,
            "width": null
          }
        },
        "e4acb68a3f4442c2be871b49be6763bc": {
          "model_module": "@jupyter-widgets/controls",
          "model_name": "DescriptionStyleModel",
          "model_module_version": "1.5.0",
          "state": {
            "_model_module": "@jupyter-widgets/controls",
            "_model_module_version": "1.5.0",
            "_model_name": "DescriptionStyleModel",
            "_view_count": null,
            "_view_module": "@jupyter-widgets/base",
            "_view_module_version": "1.2.0",
            "_view_name": "StyleView",
            "description_width": ""
          }
        },
        "003188ec40dc4b52a4054db33b89f0f5": {
          "model_module": "@jupyter-widgets/base",
          "model_name": "LayoutModel",
          "model_module_version": "1.2.0",
          "state": {
            "_model_module": "@jupyter-widgets/base",
            "_model_module_version": "1.2.0",
            "_model_name": "LayoutModel",
            "_view_count": null,
            "_view_module": "@jupyter-widgets/base",
            "_view_module_version": "1.2.0",
            "_view_name": "LayoutView",
            "align_content": null,
            "align_items": null,
            "align_self": null,
            "border": null,
            "bottom": null,
            "display": null,
            "flex": null,
            "flex_flow": null,
            "grid_area": null,
            "grid_auto_columns": null,
            "grid_auto_flow": null,
            "grid_auto_rows": null,
            "grid_column": null,
            "grid_gap": null,
            "grid_row": null,
            "grid_template_areas": null,
            "grid_template_columns": null,
            "grid_template_rows": null,
            "height": null,
            "justify_content": null,
            "justify_items": null,
            "left": null,
            "margin": null,
            "max_height": null,
            "max_width": null,
            "min_height": null,
            "min_width": null,
            "object_fit": null,
            "object_position": null,
            "order": null,
            "overflow": null,
            "overflow_x": null,
            "overflow_y": null,
            "padding": null,
            "right": null,
            "top": null,
            "visibility": null,
            "width": null
          }
        },
        "5b0a056e5e3c46f4abfab5940f15964b": {
          "model_module": "@jupyter-widgets/controls",
          "model_name": "ProgressStyleModel",
          "model_module_version": "1.5.0",
          "state": {
            "_model_module": "@jupyter-widgets/controls",
            "_model_module_version": "1.5.0",
            "_model_name": "ProgressStyleModel",
            "_view_count": null,
            "_view_module": "@jupyter-widgets/base",
            "_view_module_version": "1.2.0",
            "_view_name": "StyleView",
            "bar_color": null,
            "description_width": ""
          }
        },
        "9fd7e02f2a4d4369ba618564a2c676b7": {
          "model_module": "@jupyter-widgets/base",
          "model_name": "LayoutModel",
          "model_module_version": "1.2.0",
          "state": {
            "_model_module": "@jupyter-widgets/base",
            "_model_module_version": "1.2.0",
            "_model_name": "LayoutModel",
            "_view_count": null,
            "_view_module": "@jupyter-widgets/base",
            "_view_module_version": "1.2.0",
            "_view_name": "LayoutView",
            "align_content": null,
            "align_items": null,
            "align_self": null,
            "border": null,
            "bottom": null,
            "display": null,
            "flex": null,
            "flex_flow": null,
            "grid_area": null,
            "grid_auto_columns": null,
            "grid_auto_flow": null,
            "grid_auto_rows": null,
            "grid_column": null,
            "grid_gap": null,
            "grid_row": null,
            "grid_template_areas": null,
            "grid_template_columns": null,
            "grid_template_rows": null,
            "height": null,
            "justify_content": null,
            "justify_items": null,
            "left": null,
            "margin": null,
            "max_height": null,
            "max_width": null,
            "min_height": null,
            "min_width": null,
            "object_fit": null,
            "object_position": null,
            "order": null,
            "overflow": null,
            "overflow_x": null,
            "overflow_y": null,
            "padding": null,
            "right": null,
            "top": null,
            "visibility": null,
            "width": null
          }
        },
        "da18eaff0b494fd4b054d279dce042ef": {
          "model_module": "@jupyter-widgets/controls",
          "model_name": "DescriptionStyleModel",
          "model_module_version": "1.5.0",
          "state": {
            "_model_module": "@jupyter-widgets/controls",
            "_model_module_version": "1.5.0",
            "_model_name": "DescriptionStyleModel",
            "_view_count": null,
            "_view_module": "@jupyter-widgets/base",
            "_view_module_version": "1.2.0",
            "_view_name": "StyleView",
            "description_width": ""
          }
        }
      }
    }
  },
  "cells": [
    {
      "cell_type": "code",
      "source": [
        "pip install optuna"
      ],
      "metadata": {
        "colab": {
          "base_uri": "https://localhost:8080/"
        },
        "id": "0PjEaXDJ3kgz",
        "outputId": "7ccb55b6-ff80-4425-df31-8a160ad8a5ca"
      },
      "execution_count": null,
      "outputs": [
        {
          "output_type": "stream",
          "name": "stdout",
          "text": [
            "Collecting optuna\n",
            "  Downloading optuna-4.3.0-py3-none-any.whl.metadata (17 kB)\n",
            "Collecting alembic>=1.5.0 (from optuna)\n",
            "  Downloading alembic-1.15.2-py3-none-any.whl.metadata (7.3 kB)\n",
            "Collecting colorlog (from optuna)\n",
            "  Downloading colorlog-6.9.0-py3-none-any.whl.metadata (10 kB)\n",
            "Requirement already satisfied: numpy in /usr/local/lib/python3.11/dist-packages (from optuna) (2.0.2)\n",
            "Requirement already satisfied: packaging>=20.0 in /usr/local/lib/python3.11/dist-packages (from optuna) (24.2)\n",
            "Requirement already satisfied: sqlalchemy>=1.4.2 in /usr/local/lib/python3.11/dist-packages (from optuna) (2.0.40)\n",
            "Requirement already satisfied: tqdm in /usr/local/lib/python3.11/dist-packages (from optuna) (4.67.1)\n",
            "Requirement already satisfied: PyYAML in /usr/local/lib/python3.11/dist-packages (from optuna) (6.0.2)\n",
            "Requirement already satisfied: Mako in /usr/lib/python3/dist-packages (from alembic>=1.5.0->optuna) (1.1.3)\n",
            "Requirement already satisfied: typing-extensions>=4.12 in /usr/local/lib/python3.11/dist-packages (from alembic>=1.5.0->optuna) (4.13.2)\n",
            "Requirement already satisfied: greenlet>=1 in /usr/local/lib/python3.11/dist-packages (from sqlalchemy>=1.4.2->optuna) (3.2.1)\n",
            "Downloading optuna-4.3.0-py3-none-any.whl (386 kB)\n",
            "\u001b[2K   \u001b[90m━━━━━━━━━━━━━━━━━━━━━━━━━━━━━━━━━━━━━━━━\u001b[0m \u001b[32m386.6/386.6 kB\u001b[0m \u001b[31m12.8 MB/s\u001b[0m eta \u001b[36m0:00:00\u001b[0m\n",
            "\u001b[?25hDownloading alembic-1.15.2-py3-none-any.whl (231 kB)\n",
            "\u001b[2K   \u001b[90m━━━━━━━━━━━━━━━━━━━━━━━━━━━━━━━━━━━━━━━━\u001b[0m \u001b[32m231.9/231.9 kB\u001b[0m \u001b[31m17.9 MB/s\u001b[0m eta \u001b[36m0:00:00\u001b[0m\n",
            "\u001b[?25hDownloading colorlog-6.9.0-py3-none-any.whl (11 kB)\n",
            "Installing collected packages: colorlog, alembic, optuna\n",
            "Successfully installed alembic-1.15.2 colorlog-6.9.0 optuna-4.3.0\n"
          ]
        }
      ]
    },
    {
      "cell_type": "code",
      "execution_count": null,
      "metadata": {
        "colab": {
          "base_uri": "https://localhost:8080/",
          "height": 1000,
          "referenced_widgets": [
            "3bdd658c0aa74b42b62598df6e126631",
            "cfc65fdba1704635a8798439010905ca",
            "302d6a6d65884b5c9157605f5d58458c",
            "d3938a55d05f40c5bc6ebd4a0ae261d6",
            "6b761c694e09478183f205b070c29451",
            "aa5b4b863a1a43449d4416731114f5b6",
            "7c49309fc3d643ddbc122d4046e6887b",
            "8449e6a6764c43f4a4d475cffe098b6b",
            "36072ade093c480491bbda65f92e7e5e",
            "f23f3923ad03454cbf69d44ce890e0c5",
            "053ad8d8e58d41e5a15846393518128b",
            "88981a6605174dd5a672d773202ecef7",
            "cd5816e08ef2442688031b6a82a5e8f6",
            "d2bc2857ee9f4e1d8d5d30c0bf593eed",
            "ee64609c4a93496b8849b205021d33ec",
            "4bd0ba8f4f14469cacbbad69aa5f61f4",
            "05ac9b3e3dfc434da1b50d3a73a2d1bd",
            "3b93df93a34b4c159c901d43f85472b2",
            "bdb640f69e044dfb8b8cab79df9a0958",
            "060fda2bcacd4491b69e1f02f6a4f0e0",
            "701d67f24bb64b498414c9e1c6ea55bd",
            "ceb46aada4704ce59ad775ee05cb204b",
            "e6628c92d95e47e4a8aa6029a5c68589",
            "474b0a2aef674f38b07189da868b907c",
            "589f8d79393c49e488096dc028437784",
            "de68fddd33444ddb8a08ce7f8bc92d74",
            "8e03d2fe27444afdaad5055c03de47a3",
            "323320aded4746dc9ac041bc00ebf98f",
            "3a345756271145dead204a2bb962f67a",
            "85c0d038b2bc4c34a8ef6759d137eabc",
            "3e0609cd66074057be9bcde97aa47989",
            "fcca75b13edd430b80bd10b3a11e54fd",
            "8748744f09d34612b68bea491db4516d",
            "d7c02e222dc040429ba55d0a33db99e0",
            "6ef8073ac6b843c2b9a7a9025c81b517",
            "4278a05e92ad4ce8b9ef4a0d2e103430",
            "72fd8c8f0896455dba1624df42f9ce70",
            "0ec8f7253f8a446191e161fe6a136313",
            "ac6246a6149b45ee9fbe4c3af3a02b61",
            "95ab9df652fc4794adeb1a6fe8f0df3d",
            "1b95a6505dd443099dca817fc6d01f98",
            "91ae9e7fd17b447fadeba346d9def766",
            "9a843189c5624d9780f284418d8c5a40",
            "39a0f4665d1d492d854af3f7034d38c5",
            "8a97bfe3cf63449284fe87b71cd71ab5",
            "94ada8a4440d43f6a91374fc5efc6940",
            "3e941a979976424cb25fca24d3762a22",
            "db1a09e7dfee4487a8fcd2476a3d1862",
            "002f31432963429eaedeb92bcc31f6da",
            "d1720bebafd24735b6985ed50accb78a",
            "1a4d6d920f0e42afaa3ba7e9a96f6d8d",
            "50abe51fc902494d8832383a5dd100d2",
            "ec7ee880b6934ebda639b26e05acb18b",
            "ba69e41d731e4d35b34e3757bd979ed0",
            "6ac9bd91c4494b72aec1e8ffbdb2ec19",
            "524072e7864a4c1e863912d0eb069608",
            "8beec8d02e354d6ab3a9f8604e2d50d1",
            "b327e29b691e42669780c987cc98c8a8",
            "87081088085948f0ba544c8054a48d26",
            "b1f4676768844330a11d3216474c1379",
            "372c0aece1fe4e59a1bffaeceed61f53",
            "4ca1d7f4c9494b72b500763dc9e6dd09",
            "588217142c4244b3810855d29dfb4eb4",
            "f8a4317afe304dd78446177915597669",
            "21ae2a7571d04a309da8e768b4ca6f44",
            "5bf8530e53c54073822814aaf875a86d",
            "c868b81cc1564aa28d97e0426a5e7776",
            "80e7cf5d5c9e4d66bae8e48ae6aec1cf",
            "0823af8bd2044d3fb718de8d1a0d0c85",
            "ff709620a84a4a078756d373230d660d",
            "5d2534f278494fdc9d452209299bcfc7",
            "2346bd82df954aaeb0a0ec307dc6e6b3",
            "c914d16983894da883d6a6f26ccc66b8",
            "d91428b43d444828a077b214cddf743e",
            "392a9b6e1fb84e75b130cfd54adc21ec",
            "e4bc15af086f4a9bac1bcffd82cd3dac",
            "a918cfdf5db34497b9d5d5188c9fcc5e",
            "3e2d18398d3147e19c15005a9927458e",
            "79616b50522342a8af7e7d2373d46717",
            "ba8ff5f206e5494fa65fb8e42cc980f5",
            "04ae6456022d4f7d9a7ad6a29f9af1eb",
            "1510627ef99040589b18f51642fe9834",
            "c1084cb3887a4287b454961f4513404f",
            "864f2badc87d431eb0e982cc4a14770f",
            "b5dbe4357ee54fd9b7168fb0c03c9721",
            "555c6d2801274a2a88f76ef94aadebd3",
            "d53dcbc2cc154aac89f6cb27a8f8e797",
            "b664218061e04842b284ec7580e095a7",
            "976ce56e5c874f9d943184ce1d06f377",
            "c6b73650860d4bbca8ee75a63773baa1",
            "915df6b6fe68420fa85683dee844576b",
            "2a14a606256b4b7b938d1958972b12b3",
            "29cb18f38f7a49ff8f937597e78c3218",
            "52becda6df2d4c83afa298869dcde8d5",
            "f18fabdcf8fd40819b8c206b4220125f",
            "cbe42eb281284e2db47763a1f91e9eb6",
            "70e680892b4444b5806e875603c02290",
            "d1bb6760af7b497f982c5808b340e551",
            "bf1d5eb97380488eb6ad145410b414fe",
            "66cefe0ada1c411db7e33d6e5b3d3e29",
            "7e909a8f3fa942c2b404cc79fa33aeca",
            "a66b67bfa5d14dfea9122eca991768af",
            "5d60a89e34514e4d9ee556f7880e1d3a",
            "4de42e78f908470a8a8eb52e704c98a5",
            "6225f76e0cb644b0a4b1b117b084b9d8",
            "64053e6659bf419a992214fe7c6987a9",
            "a4aac6b1b5524ced8bc4f97b88510b1b",
            "3c4438d38a0e48328d481e472780a7bb",
            "a88511707599472995cce9d2921892c3",
            "22fb27a1097d436d89b9897483609109",
            "a17c11b1118d44778951297578665dd2",
            "ce105cb34e094d5c9e0c7c9fc9bdcec2",
            "82dabd61504445869ec1b152e9dbf48c",
            "77ddcc765efd489e84a4b4a4b061d8b1",
            "ef0caa01d257455fb16c5d4303e60c64",
            "ac1967ccfc1348b8be0d0ff58f7e746a",
            "e4acb68a3f4442c2be871b49be6763bc",
            "003188ec40dc4b52a4054db33b89f0f5",
            "5b0a056e5e3c46f4abfab5940f15964b",
            "9fd7e02f2a4d4369ba618564a2c676b7",
            "da18eaff0b494fd4b054d279dce042ef"
          ]
        },
        "id": "c0c35bh03bdo",
        "outputId": "bfd039b5-ad2b-47db-8a0c-d6e6b874bdba"
      },
      "outputs": [
        {
          "output_type": "stream",
          "name": "stderr",
          "text": [
            "\rOptimizing chunk 1:   0%|          | 0/11 [00:00<?, ?it/s][I 2025-05-01 09:07:48,577] A new study created in memory with name: no-name-3a4d8e2c-496f-4367-b561-9c80c2597768\n"
          ]
        },
        {
          "output_type": "stream",
          "name": "stdout",
          "text": [
            "\n",
            "🔍 Optimizing for CDW.O...\n"
          ]
        },
        {
          "output_type": "display_data",
          "data": {
            "text/plain": [
              "  0%|          | 0/30 [00:00<?, ?it/s]"
            ],
            "application/vnd.jupyter.widget-view+json": {
              "version_major": 2,
              "version_minor": 0,
              "model_id": "3bdd658c0aa74b42b62598df6e126631"
            }
          },
          "metadata": {}
        },
        {
          "output_type": "stream",
          "name": "stdout",
          "text": [
            "\u001b[1m6/6\u001b[0m \u001b[32m━━━━━━━━━━━━━━━━━━━━\u001b[0m\u001b[37m\u001b[0m \u001b[1m1s\u001b[0m 63ms/step\n"
          ]
        },
        {
          "output_type": "stream",
          "name": "stderr",
          "text": [
            "Optimizing chunk 1:   0%|          | 0/11 [00:31<?, ?it/s]"
          ]
        },
        {
          "output_type": "stream",
          "name": "stdout",
          "text": [
            "[I 2025-05-01 09:08:19,613] Trial 0 finished with value: 0.05382000290511689 and parameters: {'lookback': 51, 'units': 196, 'dropout': 0.14233155083116864, 'batch_size': 64, 'epochs': 31}. Best is trial 0 with value: 0.05382000290511689.\n"
          ]
        },
        {
          "output_type": "stream",
          "name": "stderr",
          "text": [
            "WARNING:tensorflow:5 out of the last 14 calls to <function TensorFlowTrainer.make_predict_function.<locals>.one_step_on_data_distributed at 0x7e8b44c4c180> triggered tf.function retracing. Tracing is expensive and the excessive number of tracings could be due to (1) creating @tf.function repeatedly in a loop, (2) passing tensors with different shapes, (3) passing Python objects instead of tensors. For (1), please define your @tf.function outside of the loop. For (2), @tf.function has reduce_retracing=True option that can avoid unnecessary retracing. For (3), please refer to https://www.tensorflow.org/guide/function#controlling_retracing and https://www.tensorflow.org/api_docs/python/tf/function for  more details.\n"
          ]
        },
        {
          "output_type": "stream",
          "name": "stdout",
          "text": [
            "\u001b[1m7/7\u001b[0m \u001b[32m━━━━━━━━━━━━━━━━━━━━\u001b[0m\u001b[37m\u001b[0m \u001b[1m0s\u001b[0m 35ms/step\n"
          ]
        },
        {
          "output_type": "stream",
          "name": "stderr",
          "text": [
            "Optimizing chunk 1:   0%|          | 0/11 [00:52<?, ?it/s]"
          ]
        },
        {
          "output_type": "stream",
          "name": "stdout",
          "text": [
            "[I 2025-05-01 09:08:41,558] Trial 1 finished with value: 0.05563050370365205 and parameters: {'lookback': 41, 'units': 56, 'dropout': 0.327702926638763, 'batch_size': 64, 'epochs': 35}. Best is trial 0 with value: 0.05382000290511689.\n"
          ]
        },
        {
          "output_type": "stream",
          "name": "stderr",
          "text": [
            "WARNING:tensorflow:5 out of the last 14 calls to <function TensorFlowTrainer.make_predict_function.<locals>.one_step_on_data_distributed at 0x7e8b373ef9c0> triggered tf.function retracing. Tracing is expensive and the excessive number of tracings could be due to (1) creating @tf.function repeatedly in a loop, (2) passing tensors with different shapes, (3) passing Python objects instead of tensors. For (1), please define your @tf.function outside of the loop. For (2), @tf.function has reduce_retracing=True option that can avoid unnecessary retracing. For (3), please refer to https://www.tensorflow.org/guide/function#controlling_retracing and https://www.tensorflow.org/api_docs/python/tf/function for  more details.\n"
          ]
        },
        {
          "output_type": "stream",
          "name": "stdout",
          "text": [
            "\u001b[1m7/7\u001b[0m \u001b[32m━━━━━━━━━━━━━━━━━━━━\u001b[0m\u001b[37m\u001b[0m \u001b[1m1s\u001b[0m 51ms/step\n"
          ]
        },
        {
          "output_type": "stream",
          "name": "stderr",
          "text": [
            "Optimizing chunk 1:   0%|          | 0/11 [01:09<?, ?it/s]"
          ]
        },
        {
          "output_type": "stream",
          "name": "stdout",
          "text": [
            "[I 2025-05-01 09:08:58,002] Trial 2 finished with value: 0.05467046460585518 and parameters: {'lookback': 26, 'units': 89, 'dropout': 0.27782615876760725, 'batch_size': 32, 'epochs': 31}. Best is trial 0 with value: 0.05382000290511689.\n",
            "\u001b[1m7/7\u001b[0m \u001b[32m━━━━━━━━━━━━━━━━━━━━\u001b[0m\u001b[37m\u001b[0m \u001b[1m1s\u001b[0m 52ms/step\n"
          ]
        },
        {
          "output_type": "stream",
          "name": "stderr",
          "text": [
            "Optimizing chunk 1:   0%|          | 0/11 [01:21<?, ?it/s]"
          ]
        },
        {
          "output_type": "stream",
          "name": "stdout",
          "text": [
            "[I 2025-05-01 09:09:10,356] Trial 3 finished with value: 0.05389555735407624 and parameters: {'lookback': 26, 'units': 78, 'dropout': 0.1597033269567355, 'batch_size': 64, 'epochs': 31}. Best is trial 0 with value: 0.05382000290511689.\n",
            "\u001b[1m7/7\u001b[0m \u001b[32m━━━━━━━━━━━━━━━━━━━━\u001b[0m\u001b[37m\u001b[0m \u001b[1m0s\u001b[0m 37ms/step\n"
          ]
        },
        {
          "output_type": "stream",
          "name": "stderr",
          "text": [
            "Optimizing chunk 1:   0%|          | 0/11 [01:53<?, ?it/s]"
          ]
        },
        {
          "output_type": "stream",
          "name": "stdout",
          "text": [
            "[I 2025-05-01 09:09:41,906] Trial 4 finished with value: 0.05028698330528307 and parameters: {'lookback': 21, 'units': 152, 'dropout': 0.3481082294257707, 'batch_size': 32, 'epochs': 24}. Best is trial 4 with value: 0.05028698330528307.\n",
            "\u001b[1m7/7\u001b[0m \u001b[32m━━━━━━━━━━━━━━━━━━━━\u001b[0m\u001b[37m\u001b[0m \u001b[1m1s\u001b[0m 83ms/step\n"
          ]
        },
        {
          "output_type": "stream",
          "name": "stderr",
          "text": [
            "Optimizing chunk 1:   0%|          | 0/11 [02:38<?, ?it/s]"
          ]
        },
        {
          "output_type": "stream",
          "name": "stdout",
          "text": [
            "[I 2025-05-01 09:10:26,896] Trial 5 finished with value: 0.052020431781405654 and parameters: {'lookback': 36, 'units': 251, 'dropout': 0.3964396820780062, 'batch_size': 32, 'epochs': 29}. Best is trial 4 with value: 0.05028698330528307.\n",
            "\u001b[1m7/7\u001b[0m \u001b[32m━━━━━━━━━━━━━━━━━━━━\u001b[0m\u001b[37m\u001b[0m \u001b[1m0s\u001b[0m 33ms/step\n"
          ]
        },
        {
          "output_type": "stream",
          "name": "stderr",
          "text": [
            "Optimizing chunk 1:   0%|          | 0/11 [02:45<?, ?it/s]"
          ]
        },
        {
          "output_type": "stream",
          "name": "stdout",
          "text": [
            "[I 2025-05-01 09:10:34,092] Trial 6 finished with value: 0.054948349339750374 and parameters: {'lookback': 11, 'units': 51, 'dropout': 0.31570110447867, 'batch_size': 32, 'epochs': 34}. Best is trial 4 with value: 0.05028698330528307.\n",
            "\u001b[1m6/6\u001b[0m \u001b[32m━━━━━━━━━━━━━━━━━━━━\u001b[0m\u001b[37m\u001b[0m \u001b[1m0s\u001b[0m 18ms/step\n"
          ]
        },
        {
          "output_type": "stream",
          "name": "stderr",
          "text": [
            "Optimizing chunk 1:   0%|          | 0/11 [03:07<?, ?it/s]"
          ]
        },
        {
          "output_type": "stream",
          "name": "stdout",
          "text": [
            "[I 2025-05-01 09:10:55,930] Trial 7 finished with value: 0.05523275608923455 and parameters: {'lookback': 46, 'units': 114, 'dropout': 0.4864152280963716, 'batch_size': 32, 'epochs': 30}. Best is trial 4 with value: 0.05028698330528307.\n",
            "\u001b[1m6/6\u001b[0m \u001b[32m━━━━━━━━━━━━━━━━━━━━\u001b[0m\u001b[37m\u001b[0m \u001b[1m0s\u001b[0m 36ms/step\n"
          ]
        },
        {
          "output_type": "stream",
          "name": "stderr",
          "text": [
            "Optimizing chunk 1:   0%|          | 0/11 [04:26<?, ?it/s]"
          ]
        },
        {
          "output_type": "stream",
          "name": "stdout",
          "text": [
            "[I 2025-05-01 09:12:15,165] Trial 8 finished with value: 0.04998633203689106 and parameters: {'lookback': 46, 'units': 249, 'dropout': 0.3867416141548756, 'batch_size': 32, 'epochs': 35}. Best is trial 8 with value: 0.04998633203689106.\n",
            "\u001b[1m6/6\u001b[0m \u001b[32m━━━━━━━━━━━━━━━━━━━━\u001b[0m\u001b[37m\u001b[0m \u001b[1m1s\u001b[0m 69ms/step\n"
          ]
        },
        {
          "output_type": "stream",
          "name": "stderr",
          "text": [
            "Optimizing chunk 1:   0%|          | 0/11 [04:53<?, ?it/s]"
          ]
        },
        {
          "output_type": "stream",
          "name": "stdout",
          "text": [
            "[I 2025-05-01 09:12:42,392] Trial 9 finished with value: 0.05886865103900421 and parameters: {'lookback': 51, 'units': 73, 'dropout': 0.3628641459869444, 'batch_size': 32, 'epochs': 22}. Best is trial 8 with value: 0.04998633203689106.\n",
            "\u001b[1m7/7\u001b[0m \u001b[32m━━━━━━━━━━━━━━━━━━━━\u001b[0m\u001b[37m\u001b[0m \u001b[1m0s\u001b[0m 33ms/step\n"
          ]
        },
        {
          "output_type": "stream",
          "name": "stderr",
          "text": [
            "Optimizing chunk 1:   0%|          | 0/11 [05:03<?, ?it/s]"
          ]
        },
        {
          "output_type": "stream",
          "name": "stdout",
          "text": [
            "[I 2025-05-01 09:12:51,712] Trial 10 finished with value: 0.03153155999660321 and parameters: {'lookback': 1, 'units': 251, 'dropout': 0.49743866300783157, 'batch_size': 64, 'epochs': 26}. Best is trial 10 with value: 0.03153155999660321.\n",
            "\u001b[1m7/7\u001b[0m \u001b[32m━━━━━━━━━━━━━━━━━━━━\u001b[0m\u001b[37m\u001b[0m \u001b[1m0s\u001b[0m 32ms/step\n"
          ]
        },
        {
          "output_type": "stream",
          "name": "stderr",
          "text": [
            "Optimizing chunk 1:   0%|          | 0/11 [05:12<?, ?it/s]"
          ]
        },
        {
          "output_type": "stream",
          "name": "stdout",
          "text": [
            "[I 2025-05-01 09:13:01,188] Trial 11 finished with value: 0.03154311157512629 and parameters: {'lookback': 1, 'units': 252, 'dropout': 0.497158895362963, 'batch_size': 64, 'epochs': 26}. Best is trial 10 with value: 0.03153155999660321.\n",
            "\u001b[1m7/7\u001b[0m \u001b[32m━━━━━━━━━━━━━━━━━━━━\u001b[0m\u001b[37m\u001b[0m \u001b[1m0s\u001b[0m 31ms/step\n"
          ]
        },
        {
          "output_type": "stream",
          "name": "stderr",
          "text": [
            "Optimizing chunk 1:   0%|          | 0/11 [05:21<?, ?it/s]"
          ]
        },
        {
          "output_type": "stream",
          "name": "stdout",
          "text": [
            "[I 2025-05-01 09:13:10,502] Trial 12 finished with value: 0.03153801875199458 and parameters: {'lookback': 1, 'units': 209, 'dropout': 0.4968134012381263, 'batch_size': 64, 'epochs': 26}. Best is trial 10 with value: 0.03153155999660321.\n",
            "\u001b[1m7/7\u001b[0m \u001b[32m━━━━━━━━━━━━━━━━━━━━\u001b[0m\u001b[37m\u001b[0m \u001b[1m0s\u001b[0m 31ms/step\n"
          ]
        },
        {
          "output_type": "stream",
          "name": "stderr",
          "text": [
            "Optimizing chunk 1:   0%|          | 0/11 [05:26<?, ?it/s]"
          ]
        },
        {
          "output_type": "stream",
          "name": "stdout",
          "text": [
            "[I 2025-05-01 09:13:15,136] Trial 13 finished with value: 0.20586070265884365 and parameters: {'lookback': 1, 'units': 206, 'dropout': 0.43898578245227016, 'batch_size': 64, 'epochs': 20}. Best is trial 10 with value: 0.03153155999660321.\n",
            "\u001b[1m7/7\u001b[0m \u001b[32m━━━━━━━━━━━━━━━━━━━━\u001b[0m\u001b[37m\u001b[0m \u001b[1m0s\u001b[0m 37ms/step\n"
          ]
        },
        {
          "output_type": "stream",
          "name": "stderr",
          "text": [
            "Optimizing chunk 1:   0%|          | 0/11 [05:40<?, ?it/s]"
          ]
        },
        {
          "output_type": "stream",
          "name": "stdout",
          "text": [
            "[I 2025-05-01 09:13:28,732] Trial 14 finished with value: 0.05359014513659424 and parameters: {'lookback': 11, 'units': 209, 'dropout': 0.2501354312668528, 'batch_size': 64, 'epochs': 26}. Best is trial 10 with value: 0.03153155999660321.\n",
            "\u001b[1m7/7\u001b[0m \u001b[32m━━━━━━━━━━━━━━━━━━━━\u001b[0m\u001b[37m\u001b[0m \u001b[1m0s\u001b[0m 35ms/step\n"
          ]
        },
        {
          "output_type": "stream",
          "name": "stderr",
          "text": [
            "Optimizing chunk 1:   0%|          | 0/11 [05:57<?, ?it/s]"
          ]
        },
        {
          "output_type": "stream",
          "name": "stdout",
          "text": [
            "[I 2025-05-01 09:13:45,890] Trial 15 finished with value: 0.052906012317996125 and parameters: {'lookback': 11, 'units': 161, 'dropout': 0.4362928547781944, 'batch_size': 64, 'epochs': 27}. Best is trial 10 with value: 0.03153155999660321.\n",
            "\u001b[1m7/7\u001b[0m \u001b[32m━━━━━━━━━━━━━━━━━━━━\u001b[0m\u001b[37m\u001b[0m \u001b[1m0s\u001b[0m 31ms/step\n"
          ]
        },
        {
          "output_type": "stream",
          "name": "stderr",
          "text": [
            "Optimizing chunk 1:   0%|          | 0/11 [06:01<?, ?it/s]"
          ]
        },
        {
          "output_type": "stream",
          "name": "stdout",
          "text": [
            "[I 2025-05-01 09:13:50,285] Trial 16 finished with value: 0.21144929800400275 and parameters: {'lookback': 1, 'units': 185, 'dropout': 0.4472899461149555, 'batch_size': 64, 'epochs': 24}. Best is trial 10 with value: 0.03153155999660321.\n",
            "\u001b[1m7/7\u001b[0m \u001b[32m━━━━━━━━━━━━━━━━━━━━\u001b[0m\u001b[37m\u001b[0m \u001b[1m0s\u001b[0m 38ms/step\n"
          ]
        },
        {
          "output_type": "stream",
          "name": "stderr",
          "text": [
            "Optimizing chunk 1:   0%|          | 0/11 [06:24<?, ?it/s]"
          ]
        },
        {
          "output_type": "stream",
          "name": "stdout",
          "text": [
            "[I 2025-05-01 09:14:13,563] Trial 17 finished with value: 0.051486272503297494 and parameters: {'lookback': 16, 'units': 223, 'dropout': 0.2241839477498332, 'batch_size': 64, 'epochs': 24}. Best is trial 10 with value: 0.03153155999660321.\n",
            "\u001b[1m7/7\u001b[0m \u001b[32m━━━━━━━━━━━━━━━━━━━━\u001b[0m\u001b[37m\u001b[0m \u001b[1m0s\u001b[0m 35ms/step\n"
          ]
        },
        {
          "output_type": "stream",
          "name": "stderr",
          "text": [
            "Optimizing chunk 1:   0%|          | 0/11 [06:41<?, ?it/s]"
          ]
        },
        {
          "output_type": "stream",
          "name": "stdout",
          "text": [
            "[I 2025-05-01 09:14:30,566] Trial 18 finished with value: 0.05100660515749751 and parameters: {'lookback': 6, 'units': 229, 'dropout': 0.47422889998689616, 'batch_size': 64, 'epochs': 29}. Best is trial 10 with value: 0.03153155999660321.\n",
            "\u001b[1m7/7\u001b[0m \u001b[32m━━━━━━━━━━━━━━━━━━━━\u001b[0m\u001b[37m\u001b[0m \u001b[1m0s\u001b[0m 37ms/step\n"
          ]
        },
        {
          "output_type": "stream",
          "name": "stderr",
          "text": [
            "Optimizing chunk 1:   0%|          | 0/11 [06:59<?, ?it/s]"
          ]
        },
        {
          "output_type": "stream",
          "name": "stdout",
          "text": [
            "[I 2025-05-01 09:14:48,512] Trial 19 finished with value: 0.05176346223543143 and parameters: {'lookback': 16, 'units': 176, 'dropout': 0.40054903124318425, 'batch_size': 64, 'epochs': 22}. Best is trial 10 with value: 0.03153155999660321.\n",
            "\u001b[1m7/7\u001b[0m \u001b[32m━━━━━━━━━━━━━━━━━━━━\u001b[0m\u001b[37m\u001b[0m \u001b[1m0s\u001b[0m 38ms/step\n"
          ]
        },
        {
          "output_type": "stream",
          "name": "stderr",
          "text": [
            "Optimizing chunk 1:   0%|          | 0/11 [07:32<?, ?it/s]"
          ]
        },
        {
          "output_type": "stream",
          "name": "stdout",
          "text": [
            "[I 2025-05-01 09:15:20,828] Trial 20 finished with value: 0.05183760278421712 and parameters: {'lookback': 31, 'units': 136, 'dropout': 0.18308991396311214, 'batch_size': 64, 'epochs': 28}. Best is trial 10 with value: 0.03153155999660321.\n",
            "\u001b[1m7/7\u001b[0m \u001b[32m━━━━━━━━━━━━━━━━━━━━\u001b[0m\u001b[37m\u001b[0m \u001b[1m0s\u001b[0m 33ms/step\n"
          ]
        },
        {
          "output_type": "stream",
          "name": "stderr",
          "text": [
            "Optimizing chunk 1:   0%|          | 0/11 [07:41<?, ?it/s]"
          ]
        },
        {
          "output_type": "stream",
          "name": "stdout",
          "text": [
            "[I 2025-05-01 09:15:30,378] Trial 21 finished with value: 0.0314531388689205 and parameters: {'lookback': 1, 'units': 235, 'dropout': 0.4940136686220294, 'batch_size': 64, 'epochs': 26}. Best is trial 21 with value: 0.0314531388689205.\n",
            "\u001b[1m7/7\u001b[0m \u001b[32m━━━━━━━━━━━━━━━━━━━━\u001b[0m\u001b[37m\u001b[0m \u001b[1m0s\u001b[0m 46ms/step\n"
          ]
        },
        {
          "output_type": "stream",
          "name": "stderr",
          "text": [
            "Optimizing chunk 1:   0%|          | 0/11 [07:58<?, ?it/s]"
          ]
        },
        {
          "output_type": "stream",
          "name": "stdout",
          "text": [
            "[I 2025-05-01 09:15:47,371] Trial 22 finished with value: 0.05121545195380637 and parameters: {'lookback': 6, 'units': 230, 'dropout': 0.4552447361332227, 'batch_size': 64, 'epochs': 26}. Best is trial 21 with value: 0.0314531388689205.\n",
            "\u001b[1m7/7\u001b[0m \u001b[32m━━━━━━━━━━━━━━━━━━━━\u001b[0m\u001b[37m\u001b[0m \u001b[1m0s\u001b[0m 37ms/step\n"
          ]
        },
        {
          "output_type": "stream",
          "name": "stderr",
          "text": [
            "Optimizing chunk 1:   0%|          | 0/11 [08:15<?, ?it/s]"
          ]
        },
        {
          "output_type": "stream",
          "name": "stdout",
          "text": [
            "[I 2025-05-01 09:16:04,032] Trial 23 finished with value: 0.051088945704309593 and parameters: {'lookback': 6, 'units': 231, 'dropout': 0.4246358786238282, 'batch_size': 64, 'epochs': 25}. Best is trial 21 with value: 0.0314531388689205.\n",
            "\u001b[1m7/7\u001b[0m \u001b[32m━━━━━━━━━━━━━━━━━━━━\u001b[0m\u001b[37m\u001b[0m \u001b[1m1s\u001b[0m 72ms/step\n"
          ]
        },
        {
          "output_type": "stream",
          "name": "stderr",
          "text": [
            "Optimizing chunk 1:   0%|          | 0/11 [08:24<?, ?it/s]"
          ]
        },
        {
          "output_type": "stream",
          "name": "stdout",
          "text": [
            "[I 2025-05-01 09:16:13,190] Trial 24 finished with value: 0.03175645734012221 and parameters: {'lookback': 1, 'units': 213, 'dropout': 0.10457160738006083, 'batch_size': 64, 'epochs': 22}. Best is trial 21 with value: 0.0314531388689205.\n",
            "\u001b[1m7/7\u001b[0m \u001b[32m━━━━━━━━━━━━━━━━━━━━\u001b[0m\u001b[37m\u001b[0m \u001b[1m0s\u001b[0m 41ms/step\n"
          ]
        },
        {
          "output_type": "stream",
          "name": "stderr",
          "text": [
            "Optimizing chunk 1:   0%|          | 0/11 [08:58<?, ?it/s]"
          ]
        },
        {
          "output_type": "stream",
          "name": "stdout",
          "text": [
            "[I 2025-05-01 09:16:46,667] Trial 25 finished with value: 0.052576162383258525 and parameters: {'lookback': 16, 'units': 255, 'dropout': 0.4955005804904183, 'batch_size': 64, 'epochs': 28}. Best is trial 21 with value: 0.0314531388689205.\n",
            "\u001b[1m7/7\u001b[0m \u001b[32m━━━━━━━━━━━━━━━━━━━━\u001b[0m\u001b[37m\u001b[0m \u001b[1m0s\u001b[0m 36ms/step\n"
          ]
        },
        {
          "output_type": "stream",
          "name": "stderr",
          "text": [
            "Optimizing chunk 1:   0%|          | 0/11 [09:05<?, ?it/s]"
          ]
        },
        {
          "output_type": "stream",
          "name": "stdout",
          "text": [
            "[I 2025-05-01 09:16:53,989] Trial 26 finished with value: 0.05410181754978344 and parameters: {'lookback': 6, 'units': 177, 'dropout': 0.47165768831645366, 'batch_size': 64, 'epochs': 27}. Best is trial 21 with value: 0.0314531388689205.\n",
            "\u001b[1m7/7\u001b[0m \u001b[32m━━━━━━━━━━━━━━━━━━━━\u001b[0m\u001b[37m\u001b[0m \u001b[1m1s\u001b[0m 67ms/step\n"
          ]
        },
        {
          "output_type": "stream",
          "name": "stderr",
          "text": [
            "Optimizing chunk 1:   0%|          | 0/11 [09:40<?, ?it/s]"
          ]
        },
        {
          "output_type": "stream",
          "name": "stdout",
          "text": [
            "[I 2025-05-01 09:17:29,333] Trial 27 finished with value: 0.05083654439310436 and parameters: {'lookback': 21, 'units': 237, 'dropout': 0.41596734792363677, 'batch_size': 64, 'epochs': 25}. Best is trial 21 with value: 0.0314531388689205.\n",
            "\u001b[1m7/7\u001b[0m \u001b[32m━━━━━━━━━━━━━━━━━━━━\u001b[0m\u001b[37m\u001b[0m \u001b[1m0s\u001b[0m 38ms/step\n"
          ]
        },
        {
          "output_type": "stream",
          "name": "stderr",
          "text": [
            "Optimizing chunk 1:   0%|          | 0/11 [09:57<?, ?it/s]"
          ]
        },
        {
          "output_type": "stream",
          "name": "stdout",
          "text": [
            "[I 2025-05-01 09:17:45,948] Trial 28 finished with value: 0.052548678407042644 and parameters: {'lookback': 11, 'units': 198, 'dropout': 0.3679788740996708, 'batch_size': 64, 'epochs': 23}. Best is trial 21 with value: 0.0314531388689205.\n",
            "\u001b[1m6/6\u001b[0m \u001b[32m━━━━━━━━━━━━━━━━━━━━\u001b[0m\u001b[37m\u001b[0m \u001b[1m1s\u001b[0m 63ms/step\n"
          ]
        },
        {
          "output_type": "stream",
          "name": "stderr",
          "text": [
            "Optimizing chunk 1:   9%|▉         | 1/11 [10:59<1:49:59, 659.93s/it][I 2025-05-01 09:18:48,515] A new study created in memory with name: no-name-8878589d-8b66-4d24-a733-4f3cb48e08f8\n"
          ]
        },
        {
          "output_type": "stream",
          "name": "stdout",
          "text": [
            "[I 2025-05-01 09:18:48,483] Trial 29 finished with value: 0.05443692941049892 and parameters: {'lookback': 56, 'units': 192, 'dropout': 0.4629351596816994, 'batch_size': 64, 'epochs': 33}. Best is trial 21 with value: 0.0314531388689205.\n",
            "✅ Done: CDW.O — Best Params: {'lookback': 1, 'units': 235, 'dropout': 0.4940136686220294, 'batch_size': 64, 'epochs': 26}\n",
            "\n",
            "🔍 Optimizing for CRWD.O...\n"
          ]
        },
        {
          "output_type": "display_data",
          "data": {
            "text/plain": [
              "  0%|          | 0/30 [00:00<?, ?it/s]"
            ],
            "application/vnd.jupyter.widget-view+json": {
              "version_major": 2,
              "version_minor": 0,
              "model_id": "88981a6605174dd5a672d773202ecef7"
            }
          },
          "metadata": {}
        },
        {
          "output_type": "stream",
          "name": "stdout",
          "text": [
            "\u001b[1m7/7\u001b[0m \u001b[32m━━━━━━━━━━━━━━━━━━━━\u001b[0m\u001b[37m\u001b[0m \u001b[1m0s\u001b[0m 38ms/step\n"
          ]
        },
        {
          "output_type": "stream",
          "name": "stderr",
          "text": [
            "Optimizing chunk 1:   9%|▉         | 1/11 [11:36<1:49:59, 659.93s/it]"
          ]
        },
        {
          "output_type": "stream",
          "name": "stdout",
          "text": [
            "[I 2025-05-01 09:19:25,301] Trial 0 finished with value: 0.047550054848426455 and parameters: {'lookback': 16, 'units': 179, 'dropout': 0.17530485851153849, 'batch_size': 32, 'epochs': 32}. Best is trial 0 with value: 0.047550054848426455.\n",
            "\u001b[1m6/6\u001b[0m \u001b[32m━━━━━━━━━━━━━━━━━━━━\u001b[0m\u001b[37m\u001b[0m \u001b[1m1s\u001b[0m 78ms/step\n"
          ]
        },
        {
          "output_type": "stream",
          "name": "stderr",
          "text": [
            "Optimizing chunk 1:   9%|▉         | 1/11 [13:05<1:49:59, 659.93s/it]"
          ]
        },
        {
          "output_type": "stream",
          "name": "stdout",
          "text": [
            "[I 2025-05-01 09:20:54,042] Trial 1 finished with value: 0.05312532859751834 and parameters: {'lookback': 51, 'units': 238, 'dropout': 0.352807381200801, 'batch_size': 64, 'epochs': 28}. Best is trial 0 with value: 0.047550054848426455.\n",
            "\u001b[1m7/7\u001b[0m \u001b[32m━━━━━━━━━━━━━━━━━━━━\u001b[0m\u001b[37m\u001b[0m \u001b[1m0s\u001b[0m 34ms/step\n"
          ]
        },
        {
          "output_type": "stream",
          "name": "stderr",
          "text": [
            "Optimizing chunk 1:   9%|▉         | 1/11 [13:17<1:49:59, 659.93s/it]"
          ]
        },
        {
          "output_type": "stream",
          "name": "stdout",
          "text": [
            "[I 2025-05-01 09:21:05,978] Trial 2 finished with value: 0.06572705575829374 and parameters: {'lookback': 11, 'units': 83, 'dropout': 0.31700853219608427, 'batch_size': 64, 'epochs': 28}. Best is trial 0 with value: 0.047550054848426455.\n",
            "\u001b[1m6/6\u001b[0m \u001b[32m━━━━━━━━━━━━━━━━━━━━\u001b[0m\u001b[37m\u001b[0m \u001b[1m0s\u001b[0m 34ms/step\n"
          ]
        },
        {
          "output_type": "stream",
          "name": "stderr",
          "text": [
            "Optimizing chunk 1:   9%|▉         | 1/11 [14:35<1:49:59, 659.93s/it]"
          ]
        },
        {
          "output_type": "stream",
          "name": "stdout",
          "text": [
            "[I 2025-05-01 09:22:23,724] Trial 3 finished with value: 0.05451749800318072 and parameters: {'lookback': 46, 'units': 233, 'dropout': 0.34934499206892655, 'batch_size': 64, 'epochs': 32}. Best is trial 0 with value: 0.047550054848426455.\n",
            "\u001b[1m7/7\u001b[0m \u001b[32m━━━━━━━━━━━━━━━━━━━━\u001b[0m\u001b[37m\u001b[0m \u001b[1m0s\u001b[0m 36ms/step\n"
          ]
        },
        {
          "output_type": "stream",
          "name": "stderr",
          "text": [
            "Optimizing chunk 1:   9%|▉         | 1/11 [14:50<1:49:59, 659.93s/it]"
          ]
        },
        {
          "output_type": "stream",
          "name": "stdout",
          "text": [
            "[I 2025-05-01 09:22:38,985] Trial 4 finished with value: 0.06520807960550246 and parameters: {'lookback': 36, 'units': 54, 'dropout': 0.3334656420562988, 'batch_size': 64, 'epochs': 25}. Best is trial 0 with value: 0.047550054848426455.\n",
            "\u001b[1m6/6\u001b[0m \u001b[32m━━━━━━━━━━━━━━━━━━━━\u001b[0m\u001b[37m\u001b[0m \u001b[1m0s\u001b[0m 24ms/step\n"
          ]
        },
        {
          "output_type": "stream",
          "name": "stderr",
          "text": [
            "Optimizing chunk 1:   9%|▉         | 1/11 [15:47<1:49:59, 659.93s/it]"
          ]
        },
        {
          "output_type": "stream",
          "name": "stdout",
          "text": [
            "[I 2025-05-01 09:23:35,696] Trial 5 finished with value: 0.05099218098955408 and parameters: {'lookback': 46, 'units': 177, 'dropout': 0.4968364796028394, 'batch_size': 32, 'epochs': 21}. Best is trial 0 with value: 0.047550054848426455.\n",
            "\u001b[1m7/7\u001b[0m \u001b[32m━━━━━━━━━━━━━━━━━━━━\u001b[0m\u001b[37m\u001b[0m \u001b[1m0s\u001b[0m 46ms/step\n"
          ]
        },
        {
          "output_type": "stream",
          "name": "stderr",
          "text": [
            "Optimizing chunk 1:   9%|▉         | 1/11 [16:39<1:49:59, 659.93s/it]"
          ]
        },
        {
          "output_type": "stream",
          "name": "stdout",
          "text": [
            "[I 2025-05-01 09:24:27,845] Trial 6 finished with value: 0.052433721156253756 and parameters: {'lookback': 26, 'units': 234, 'dropout': 0.45920982207189387, 'batch_size': 32, 'epochs': 33}. Best is trial 0 with value: 0.047550054848426455.\n",
            "\u001b[1m6/6\u001b[0m \u001b[32m━━━━━━━━━━━━━━━━━━━━\u001b[0m\u001b[37m\u001b[0m \u001b[1m0s\u001b[0m 16ms/step\n"
          ]
        },
        {
          "output_type": "stream",
          "name": "stderr",
          "text": [
            "Optimizing chunk 1:   9%|▉         | 1/11 [17:17<1:49:59, 659.93s/it]"
          ]
        },
        {
          "output_type": "stream",
          "name": "stdout",
          "text": [
            "[I 2025-05-01 09:25:06,325] Trial 7 finished with value: 0.057699857306725534 and parameters: {'lookback': 46, 'units': 111, 'dropout': 0.1785968151988112, 'batch_size': 64, 'epochs': 30}. Best is trial 0 with value: 0.047550054848426455.\n",
            "\u001b[1m6/6\u001b[0m \u001b[32m━━━━━━━━━━━━━━━━━━━━\u001b[0m\u001b[37m\u001b[0m \u001b[1m0s\u001b[0m 44ms/step\n"
          ]
        },
        {
          "output_type": "stream",
          "name": "stderr",
          "text": [
            "Optimizing chunk 1:   9%|▉         | 1/11 [17:38<1:49:59, 659.93s/it]"
          ]
        },
        {
          "output_type": "stream",
          "name": "stdout",
          "text": [
            "[I 2025-05-01 09:25:26,607] Trial 8 finished with value: 0.06045786124308402 and parameters: {'lookback': 51, 'units': 77, 'dropout': 0.404516719633373, 'batch_size': 32, 'epochs': 20}. Best is trial 0 with value: 0.047550054848426455.\n",
            "\u001b[1m7/7\u001b[0m \u001b[32m━━━━━━━━━━━━━━━━━━━━\u001b[0m\u001b[37m\u001b[0m \u001b[1m1s\u001b[0m 67ms/step\n"
          ]
        },
        {
          "output_type": "stream",
          "name": "stderr",
          "text": [
            "Optimizing chunk 1:   9%|▉         | 1/11 [18:13<1:49:59, 659.93s/it]"
          ]
        },
        {
          "output_type": "stream",
          "name": "stdout",
          "text": [
            "[I 2025-05-01 09:26:02,563] Trial 9 finished with value: 0.05594660483047536 and parameters: {'lookback': 26, 'units': 212, 'dropout': 0.29688708845154443, 'batch_size': 64, 'epochs': 27}. Best is trial 0 with value: 0.047550054848426455.\n",
            "\u001b[1m7/7\u001b[0m \u001b[32m━━━━━━━━━━━━━━━━━━━━\u001b[0m\u001b[37m\u001b[0m \u001b[1m1s\u001b[0m 51ms/step\n"
          ]
        },
        {
          "output_type": "stream",
          "name": "stderr",
          "text": [
            "Optimizing chunk 1:   9%|▉         | 1/11 [18:37<1:49:59, 659.93s/it]"
          ]
        },
        {
          "output_type": "stream",
          "name": "stdout",
          "text": [
            "[I 2025-05-01 09:26:25,611] Trial 10 finished with value: 0.04364844645697386 and parameters: {'lookback': 11, 'units': 148, 'dropout': 0.11822308964245692, 'batch_size': 32, 'epochs': 35}. Best is trial 10 with value: 0.04364844645697386.\n",
            "\u001b[1m7/7\u001b[0m \u001b[32m━━━━━━━━━━━━━━━━━━━━\u001b[0m\u001b[37m\u001b[0m \u001b[1m0s\u001b[0m 34ms/step\n"
          ]
        },
        {
          "output_type": "stream",
          "name": "stderr",
          "text": [
            "Optimizing chunk 1:   9%|▉         | 1/11 [18:44<1:49:59, 659.93s/it]"
          ]
        },
        {
          "output_type": "stream",
          "name": "stdout",
          "text": [
            "[I 2025-05-01 09:26:33,128] Trial 11 finished with value: 0.032842841256504926 and parameters: {'lookback': 1, 'units': 151, 'dropout': 0.10962276606905762, 'batch_size': 32, 'epochs': 35}. Best is trial 11 with value: 0.032842841256504926.\n",
            "\u001b[1m7/7\u001b[0m \u001b[32m━━━━━━━━━━━━━━━━━━━━\u001b[0m\u001b[37m\u001b[0m \u001b[1m0s\u001b[0m 34ms/step\n"
          ]
        },
        {
          "output_type": "stream",
          "name": "stderr",
          "text": [
            "Optimizing chunk 1:   9%|▉         | 1/11 [18:52<1:49:59, 659.93s/it]"
          ]
        },
        {
          "output_type": "stream",
          "name": "stdout",
          "text": [
            "[I 2025-05-01 09:26:41,549] Trial 12 finished with value: 0.03247057831822272 and parameters: {'lookback': 1, 'units': 137, 'dropout': 0.1003678307714219, 'batch_size': 32, 'epochs': 35}. Best is trial 12 with value: 0.03247057831822272.\n",
            "\u001b[1m7/7\u001b[0m \u001b[32m━━━━━━━━━━━━━━━━━━━━\u001b[0m\u001b[37m\u001b[0m \u001b[1m0s\u001b[0m 31ms/step\n"
          ]
        },
        {
          "output_type": "stream",
          "name": "stderr",
          "text": [
            "Optimizing chunk 1:   9%|▉         | 1/11 [18:59<1:49:59, 659.93s/it]"
          ]
        },
        {
          "output_type": "stream",
          "name": "stdout",
          "text": [
            "[I 2025-05-01 09:26:48,202] Trial 13 finished with value: 0.03347742439396246 and parameters: {'lookback': 1, 'units': 129, 'dropout': 0.10383375217507614, 'batch_size': 32, 'epochs': 35}. Best is trial 12 with value: 0.03247057831822272.\n",
            "\u001b[1m7/7\u001b[0m \u001b[32m━━━━━━━━━━━━━━━━━━━━\u001b[0m\u001b[37m\u001b[0m \u001b[1m0s\u001b[0m 32ms/step\n"
          ]
        },
        {
          "output_type": "stream",
          "name": "stderr",
          "text": [
            "Optimizing chunk 1:   9%|▉         | 1/11 [19:07<1:49:59, 659.93s/it]"
          ]
        },
        {
          "output_type": "stream",
          "name": "stdout",
          "text": [
            "[I 2025-05-01 09:26:55,624] Trial 14 finished with value: 0.03248975488191749 and parameters: {'lookback': 1, 'units': 166, 'dropout': 0.22067770337908543, 'batch_size': 32, 'epochs': 35}. Best is trial 12 with value: 0.03247057831822272.\n",
            "\u001b[1m7/7\u001b[0m \u001b[32m━━━━━━━━━━━━━━━━━━━━\u001b[0m\u001b[37m\u001b[0m \u001b[1m1s\u001b[0m 46ms/step\n"
          ]
        },
        {
          "output_type": "stream",
          "name": "stderr",
          "text": [
            "Optimizing chunk 1:   9%|▉         | 1/11 [19:13<1:49:59, 659.93s/it]"
          ]
        },
        {
          "output_type": "stream",
          "name": "stdout",
          "text": [
            "[I 2025-05-01 09:27:02,468] Trial 15 finished with value: 0.03283550796647692 and parameters: {'lookback': 1, 'units': 185, 'dropout': 0.2434211121409153, 'batch_size': 32, 'epochs': 24}. Best is trial 12 with value: 0.03247057831822272.\n",
            "\u001b[1m7/7\u001b[0m \u001b[32m━━━━━━━━━━━━━━━━━━━━\u001b[0m\u001b[37m\u001b[0m \u001b[1m0s\u001b[0m 33ms/step\n"
          ]
        },
        {
          "output_type": "stream",
          "name": "stderr",
          "text": [
            "Optimizing chunk 1:   9%|▉         | 1/11 [19:36<1:49:59, 659.93s/it]"
          ]
        },
        {
          "output_type": "stream",
          "name": "stdout",
          "text": [
            "[I 2025-05-01 09:27:24,798] Trial 16 finished with value: 0.05174606884355074 and parameters: {'lookback': 16, 'units': 106, 'dropout': 0.2026224097499579, 'batch_size': 32, 'epochs': 33}. Best is trial 12 with value: 0.03247057831822272.\n",
            "\u001b[1m7/7\u001b[0m \u001b[32m━━━━━━━━━━━━━━━━━━━━\u001b[0m\u001b[37m\u001b[0m \u001b[1m0s\u001b[0m 34ms/step\n"
          ]
        },
        {
          "output_type": "stream",
          "name": "stderr",
          "text": [
            "Optimizing chunk 1:   9%|▉         | 1/11 [19:47<1:49:59, 659.93s/it]"
          ]
        },
        {
          "output_type": "stream",
          "name": "stdout",
          "text": [
            "[I 2025-05-01 09:27:36,204] Trial 17 finished with value: 0.053470278965931345 and parameters: {'lookback': 11, 'units': 35, 'dropout': 0.25725278114806993, 'batch_size': 32, 'epochs': 30}. Best is trial 12 with value: 0.03247057831822272.\n",
            "\u001b[1m7/7\u001b[0m \u001b[32m━━━━━━━━━━━━━━━━━━━━\u001b[0m\u001b[37m\u001b[0m \u001b[1m0s\u001b[0m 36ms/step\n"
          ]
        },
        {
          "output_type": "stream",
          "name": "stderr",
          "text": [
            "Optimizing chunk 1:   9%|▉         | 1/11 [20:08<1:49:59, 659.93s/it]"
          ]
        },
        {
          "output_type": "stream",
          "name": "stdout",
          "text": [
            "[I 2025-05-01 09:27:57,051] Trial 18 finished with value: 0.04925451393429075 and parameters: {'lookback': 6, 'units': 204, 'dropout': 0.1574299597682708, 'batch_size': 32, 'epochs': 30}. Best is trial 12 with value: 0.03247057831822272.\n",
            "\u001b[1m7/7\u001b[0m \u001b[32m━━━━━━━━━━━━━━━━━━━━\u001b[0m\u001b[37m\u001b[0m \u001b[1m0s\u001b[0m 40ms/step\n"
          ]
        },
        {
          "output_type": "stream",
          "name": "stderr",
          "text": [
            "Optimizing chunk 1:   9%|▉         | 1/11 [20:51<1:49:59, 659.93s/it]"
          ]
        },
        {
          "output_type": "stream",
          "name": "stdout",
          "text": [
            "[I 2025-05-01 09:28:39,614] Trial 19 finished with value: 0.04880802510431917 and parameters: {'lookback': 21, 'units': 158, 'dropout': 0.23102687443411885, 'batch_size': 32, 'epochs': 33}. Best is trial 12 with value: 0.03247057831822272.\n",
            "\u001b[1m7/7\u001b[0m \u001b[32m━━━━━━━━━━━━━━━━━━━━\u001b[0m\u001b[37m\u001b[0m \u001b[1m0s\u001b[0m 38ms/step\n"
          ]
        },
        {
          "output_type": "stream",
          "name": "stderr",
          "text": [
            "Optimizing chunk 1:   9%|▉         | 1/11 [21:33<1:49:59, 659.93s/it]"
          ]
        },
        {
          "output_type": "stream",
          "name": "stdout",
          "text": [
            "[I 2025-05-01 09:29:21,568] Trial 20 finished with value: 0.051431525563613543 and parameters: {'lookback': 36, 'units': 123, 'dropout': 0.2837786517322537, 'batch_size': 32, 'epochs': 31}. Best is trial 12 with value: 0.03247057831822272.\n",
            "\u001b[1m7/7\u001b[0m \u001b[32m━━━━━━━━━━━━━━━━━━━━\u001b[0m\u001b[37m\u001b[0m \u001b[1m0s\u001b[0m 33ms/step\n"
          ]
        },
        {
          "output_type": "stream",
          "name": "stderr",
          "text": [
            "Optimizing chunk 1:   9%|▉         | 1/11 [21:40<1:49:59, 659.93s/it]"
          ]
        },
        {
          "output_type": "stream",
          "name": "stdout",
          "text": [
            "[I 2025-05-01 09:29:28,770] Trial 21 finished with value: 0.03265601922852674 and parameters: {'lookback': 1, 'units': 184, 'dropout': 0.23155068185924726, 'batch_size': 32, 'epochs': 24}. Best is trial 12 with value: 0.03247057831822272.\n",
            "\u001b[1m7/7\u001b[0m \u001b[32m━━━━━━━━━━━━━━━━━━━━\u001b[0m\u001b[37m\u001b[0m \u001b[1m0s\u001b[0m 33ms/step\n"
          ]
        },
        {
          "output_type": "stream",
          "name": "stderr",
          "text": [
            "Optimizing chunk 1:   9%|▉         | 1/11 [21:57<1:49:59, 659.93s/it]"
          ]
        },
        {
          "output_type": "stream",
          "name": "stdout",
          "text": [
            "[I 2025-05-01 09:29:45,701] Trial 22 finished with value: 0.05065431325596908 and parameters: {'lookback': 6, 'units': 200, 'dropout': 0.1485497849796143, 'batch_size': 32, 'epochs': 23}. Best is trial 12 with value: 0.03247057831822272.\n",
            "\u001b[1m7/7\u001b[0m \u001b[32m━━━━━━━━━━━━━━━━━━━━\u001b[0m\u001b[37m\u001b[0m \u001b[1m0s\u001b[0m 32ms/step\n"
          ]
        },
        {
          "output_type": "stream",
          "name": "stderr",
          "text": [
            "Optimizing chunk 1:   9%|▉         | 1/11 [22:13<1:49:59, 659.93s/it]"
          ]
        },
        {
          "output_type": "stream",
          "name": "stdout",
          "text": [
            "[I 2025-05-01 09:30:01,611] Trial 23 finished with value: 0.05151724086035504 and parameters: {'lookback': 6, 'units': 165, 'dropout': 0.20910041886075958, 'batch_size': 32, 'epochs': 25}. Best is trial 12 with value: 0.03247057831822272.\n",
            "\u001b[1m7/7\u001b[0m \u001b[32m━━━━━━━━━━━━━━━━━━━━\u001b[0m\u001b[37m\u001b[0m \u001b[1m0s\u001b[0m 35ms/step\n"
          ]
        },
        {
          "output_type": "stream",
          "name": "stderr",
          "text": [
            "Optimizing chunk 1:   9%|▉         | 1/11 [22:22<1:49:59, 659.93s/it]"
          ]
        },
        {
          "output_type": "stream",
          "name": "stdout",
          "text": [
            "[I 2025-05-01 09:30:10,823] Trial 24 finished with value: 0.032932121361672846 and parameters: {'lookback': 1, 'units': 130, 'dropout': 0.2682432254873483, 'batch_size': 32, 'epochs': 22}. Best is trial 12 with value: 0.03247057831822272.\n",
            "\u001b[1m7/7\u001b[0m \u001b[32m━━━━━━━━━━━━━━━━━━━━\u001b[0m\u001b[37m\u001b[0m \u001b[1m0s\u001b[0m 45ms/step\n"
          ]
        },
        {
          "output_type": "stream",
          "name": "stderr",
          "text": [
            "Optimizing chunk 1:   9%|▉         | 1/11 [22:59<1:49:59, 659.93s/it]"
          ]
        },
        {
          "output_type": "stream",
          "name": "stdout",
          "text": [
            "[I 2025-05-01 09:30:47,802] Trial 25 finished with value: 0.04859709273626871 and parameters: {'lookback': 16, 'units': 255, 'dropout': 0.21898330906568808, 'batch_size': 32, 'epochs': 26}. Best is trial 12 with value: 0.03247057831822272.\n",
            "\u001b[1m7/7\u001b[0m \u001b[32m━━━━━━━━━━━━━━━━━━━━\u001b[0m\u001b[37m\u001b[0m \u001b[1m0s\u001b[0m 34ms/step\n"
          ]
        },
        {
          "output_type": "stream",
          "name": "stderr",
          "text": [
            "Optimizing chunk 1:   9%|▉         | 1/11 [23:23<1:49:59, 659.93s/it]"
          ]
        },
        {
          "output_type": "stream",
          "name": "stdout",
          "text": [
            "[I 2025-05-01 09:31:12,145] Trial 26 finished with value: 0.0471841195331104 and parameters: {'lookback': 6, 'units': 191, 'dropout': 0.130723963712017, 'batch_size': 32, 'epochs': 34}. Best is trial 12 with value: 0.03247057831822272.\n",
            "\u001b[1m7/7\u001b[0m \u001b[32m━━━━━━━━━━━━━━━━━━━━\u001b[0m\u001b[37m\u001b[0m \u001b[1m0s\u001b[0m 38ms/step\n"
          ]
        },
        {
          "output_type": "stream",
          "name": "stderr",
          "text": [
            "Optimizing chunk 1:   9%|▉         | 1/11 [23:39<1:49:59, 659.93s/it]"
          ]
        },
        {
          "output_type": "stream",
          "name": "stdout",
          "text": [
            "[I 2025-05-01 09:31:28,169] Trial 27 finished with value: 0.06037298604337067 and parameters: {'lookback': 11, 'units': 167, 'dropout': 0.3893312052647546, 'batch_size': 32, 'epochs': 29}. Best is trial 12 with value: 0.03247057831822272.\n",
            "\u001b[1m7/7\u001b[0m \u001b[32m━━━━━━━━━━━━━━━━━━━━\u001b[0m\u001b[37m\u001b[0m \u001b[1m1s\u001b[0m 66ms/step\n"
          ]
        },
        {
          "output_type": "stream",
          "name": "stderr",
          "text": [
            "Optimizing chunk 1:   9%|▉         | 1/11 [24:10<1:49:59, 659.93s/it]"
          ]
        },
        {
          "output_type": "stream",
          "name": "stdout",
          "text": [
            "[I 2025-05-01 09:31:59,116] Trial 28 finished with value: 0.05348829479640138 and parameters: {'lookback': 21, 'units': 137, 'dropout': 0.18741385591416007, 'batch_size': 32, 'epochs': 23}. Best is trial 12 with value: 0.03247057831822272.\n",
            "\u001b[1m7/7\u001b[0m \u001b[32m━━━━━━━━━━━━━━━━━━━━\u001b[0m\u001b[37m\u001b[0m \u001b[1m0s\u001b[0m 33ms/step\n"
          ]
        },
        {
          "output_type": "stream",
          "name": "stderr",
          "text": [
            "Optimizing chunk 1:  18%|█▊        | 2/11 [24:18<1:51:13, 741.55s/it][I 2025-05-01 09:32:07,191] A new study created in memory with name: no-name-b0c61541-3480-4634-9ba8-63793380bc49\n"
          ]
        },
        {
          "output_type": "stream",
          "name": "stdout",
          "text": [
            "[I 2025-05-01 09:32:07,162] Trial 29 finished with value: 0.03331897267349975 and parameters: {'lookback': 1, 'units': 173, 'dropout': 0.16047350407519517, 'batch_size': 32, 'epochs': 32}. Best is trial 12 with value: 0.03247057831822272.\n",
            "✅ Done: CRWD.O — Best Params: {'lookback': 1, 'units': 137, 'dropout': 0.1003678307714219, 'batch_size': 32, 'epochs': 35}\n",
            "\n",
            "🔍 Optimizing for CTSH.O...\n"
          ]
        },
        {
          "output_type": "display_data",
          "data": {
            "text/plain": [
              "  0%|          | 0/30 [00:00<?, ?it/s]"
            ],
            "application/vnd.jupyter.widget-view+json": {
              "version_major": 2,
              "version_minor": 0,
              "model_id": "e6628c92d95e47e4a8aa6029a5c68589"
            }
          },
          "metadata": {}
        },
        {
          "output_type": "stream",
          "name": "stdout",
          "text": [
            "\u001b[1m6/6\u001b[0m \u001b[32m━━━━━━━━━━━━━━━━━━━━\u001b[0m\u001b[37m\u001b[0m \u001b[1m0s\u001b[0m 29ms/step\n"
          ]
        },
        {
          "output_type": "stream",
          "name": "stderr",
          "text": [
            "Optimizing chunk 1:  18%|█▊        | 2/11 [24:51<1:51:13, 741.55s/it]"
          ]
        },
        {
          "output_type": "stream",
          "name": "stdout",
          "text": [
            "[I 2025-05-01 09:32:39,892] Trial 0 finished with value: 0.03794632172925608 and parameters: {'lookback': 46, 'units': 200, 'dropout': 0.440979683939842, 'batch_size': 64, 'epochs': 20}. Best is trial 0 with value: 0.03794632172925608.\n",
            "\u001b[1m7/7\u001b[0m \u001b[32m━━━━━━━━━━━━━━━━━━━━\u001b[0m\u001b[37m\u001b[0m \u001b[1m0s\u001b[0m 37ms/step\n"
          ]
        },
        {
          "output_type": "stream",
          "name": "stderr",
          "text": [
            "Optimizing chunk 1:  18%|█▊        | 2/11 [25:15<1:51:13, 741.55s/it]"
          ]
        },
        {
          "output_type": "stream",
          "name": "stdout",
          "text": [
            "[I 2025-05-01 09:33:03,914] Trial 1 finished with value: 0.038402243845655604 and parameters: {'lookback': 11, 'units': 185, 'dropout': 0.22400729185748386, 'batch_size': 64, 'epochs': 33}. Best is trial 0 with value: 0.03794632172925608.\n",
            "\u001b[1m7/7\u001b[0m \u001b[32m━━━━━━━━━━━━━━━━━━━━\u001b[0m\u001b[37m\u001b[0m \u001b[1m0s\u001b[0m 35ms/step\n"
          ]
        },
        {
          "output_type": "stream",
          "name": "stderr",
          "text": [
            "Optimizing chunk 1:  18%|█▊        | 2/11 [25:28<1:51:13, 741.55s/it]"
          ]
        },
        {
          "output_type": "stream",
          "name": "stdout",
          "text": [
            "[I 2025-05-01 09:33:17,362] Trial 2 finished with value: 0.05549945614310661 and parameters: {'lookback': 41, 'units': 32, 'dropout': 0.44308401742171366, 'batch_size': 64, 'epochs': 23}. Best is trial 0 with value: 0.03794632172925608.\n",
            "\u001b[1m7/7\u001b[0m \u001b[32m━━━━━━━━━━━━━━━━━━━━\u001b[0m\u001b[37m\u001b[0m \u001b[1m0s\u001b[0m 38ms/step\n"
          ]
        },
        {
          "output_type": "stream",
          "name": "stderr",
          "text": [
            "Optimizing chunk 1:  18%|█▊        | 2/11 [26:05<1:51:13, 741.55s/it]"
          ]
        },
        {
          "output_type": "stream",
          "name": "stdout",
          "text": [
            "[I 2025-05-01 09:33:53,964] Trial 3 finished with value: 0.03467416165114443 and parameters: {'lookback': 11, 'units': 248, 'dropout': 0.4528254387138436, 'batch_size': 32, 'epochs': 30}. Best is trial 3 with value: 0.03467416165114443.\n",
            "\u001b[1m6/6\u001b[0m \u001b[32m━━━━━━━━━━━━━━━━━━━━\u001b[0m\u001b[37m\u001b[0m \u001b[1m0s\u001b[0m 56ms/step\n"
          ]
        },
        {
          "output_type": "stream",
          "name": "stderr",
          "text": [
            "Optimizing chunk 1:  18%|█▊        | 2/11 [26:32<1:51:13, 741.55s/it]"
          ]
        },
        {
          "output_type": "stream",
          "name": "stdout",
          "text": [
            "[I 2025-05-01 09:34:21,380] Trial 4 finished with value: 0.03966374664486759 and parameters: {'lookback': 56, 'units': 129, 'dropout': 0.14112341208971813, 'batch_size': 64, 'epochs': 28}. Best is trial 3 with value: 0.03467416165114443.\n",
            "\u001b[1m7/7\u001b[0m \u001b[32m━━━━━━━━━━━━━━━━━━━━\u001b[0m\u001b[37m\u001b[0m \u001b[1m0s\u001b[0m 36ms/step\n"
          ]
        },
        {
          "output_type": "stream",
          "name": "stderr",
          "text": [
            "Optimizing chunk 1:  18%|█▊        | 2/11 [26:48<1:51:13, 741.55s/it]"
          ]
        },
        {
          "output_type": "stream",
          "name": "stdout",
          "text": [
            "[I 2025-05-01 09:34:36,973] Trial 5 finished with value: 0.03801764380386765 and parameters: {'lookback': 26, 'units': 114, 'dropout': 0.33209457834848977, 'batch_size': 64, 'epochs': 20}. Best is trial 3 with value: 0.03467416165114443.\n",
            "\u001b[1m7/7\u001b[0m \u001b[32m━━━━━━━━━━━━━━━━━━━━\u001b[0m\u001b[37m\u001b[0m \u001b[1m1s\u001b[0m 76ms/step\n"
          ]
        },
        {
          "output_type": "stream",
          "name": "stderr",
          "text": [
            "Optimizing chunk 1:  18%|█▊        | 2/11 [27:18<1:51:13, 741.55s/it]"
          ]
        },
        {
          "output_type": "stream",
          "name": "stdout",
          "text": [
            "[I 2025-05-01 09:35:07,443] Trial 6 finished with value: 0.038643306304743115 and parameters: {'lookback': 41, 'units': 201, 'dropout': 0.4555236230290821, 'batch_size': 64, 'epochs': 21}. Best is trial 3 with value: 0.03467416165114443.\n",
            "\u001b[1m7/7\u001b[0m \u001b[32m━━━━━━━━━━━━━━━━━━━━\u001b[0m\u001b[37m\u001b[0m \u001b[1m0s\u001b[0m 32ms/step\n"
          ]
        },
        {
          "output_type": "stream",
          "name": "stderr",
          "text": [
            "Optimizing chunk 1:  18%|█▊        | 2/11 [27:29<1:51:13, 741.55s/it]"
          ]
        },
        {
          "output_type": "stream",
          "name": "stdout",
          "text": [
            "[I 2025-05-01 09:35:17,680] Trial 7 finished with value: 0.038777950212054366 and parameters: {'lookback': 6, 'units': 103, 'dropout': 0.4230101207277581, 'batch_size': 64, 'epochs': 29}. Best is trial 3 with value: 0.03467416165114443.\n",
            "\u001b[1m6/6\u001b[0m \u001b[32m━━━━━━━━━━━━━━━━━━━━\u001b[0m\u001b[37m\u001b[0m \u001b[1m1s\u001b[0m 53ms/step\n"
          ]
        },
        {
          "output_type": "stream",
          "name": "stderr",
          "text": [
            "Optimizing chunk 1:  18%|█▊        | 2/11 [27:57<1:51:13, 741.55s/it]"
          ]
        },
        {
          "output_type": "stream",
          "name": "stdout",
          "text": [
            "[I 2025-05-01 09:35:45,824] Trial 8 finished with value: 0.036285025691473766 and parameters: {'lookback': 51, 'units': 112, 'dropout': 0.37012849437691475, 'batch_size': 32, 'epochs': 34}. Best is trial 3 with value: 0.03467416165114443.\n",
            "\u001b[1m7/7\u001b[0m \u001b[32m━━━━━━━━━━━━━━━━━━━━\u001b[0m\u001b[37m\u001b[0m \u001b[1m1s\u001b[0m 52ms/step\n"
          ]
        },
        {
          "output_type": "stream",
          "name": "stderr",
          "text": [
            "Optimizing chunk 1:  18%|█▊        | 2/11 [28:35<1:51:13, 741.55s/it]"
          ]
        },
        {
          "output_type": "stream",
          "name": "stdout",
          "text": [
            "[I 2025-05-01 09:36:23,614] Trial 9 finished with value: 0.036190064572214825 and parameters: {'lookback': 16, 'units': 191, 'dropout': 0.27996620274749745, 'batch_size': 32, 'epochs': 34}. Best is trial 3 with value: 0.03467416165114443.\n",
            "\u001b[1m7/7\u001b[0m \u001b[32m━━━━━━━━━━━━━━━━━━━━\u001b[0m\u001b[37m\u001b[0m \u001b[1m0s\u001b[0m 32ms/step\n"
          ]
        },
        {
          "output_type": "stream",
          "name": "stderr",
          "text": [
            "Optimizing chunk 1:  18%|█▊        | 2/11 [28:44<1:51:13, 741.55s/it]"
          ]
        },
        {
          "output_type": "stream",
          "name": "stdout",
          "text": [
            "[I 2025-05-01 09:36:33,200] Trial 10 finished with value: 0.0239976328226431 and parameters: {'lookback': 1, 'units': 255, 'dropout': 0.4886820538211806, 'batch_size': 32, 'epochs': 31}. Best is trial 10 with value: 0.0239976328226431.\n",
            "\u001b[1m7/7\u001b[0m \u001b[32m━━━━━━━━━━━━━━━━━━━━\u001b[0m\u001b[37m\u001b[0m \u001b[1m0s\u001b[0m 32ms/step\n"
          ]
        },
        {
          "output_type": "stream",
          "name": "stderr",
          "text": [
            "Optimizing chunk 1:  18%|█▊        | 2/11 [28:52<1:51:13, 741.55s/it]"
          ]
        },
        {
          "output_type": "stream",
          "name": "stdout",
          "text": [
            "[I 2025-05-01 09:36:40,799] Trial 11 finished with value: 0.024331915180079402 and parameters: {'lookback': 1, 'units': 230, 'dropout': 0.492164361738007, 'batch_size': 32, 'epochs': 31}. Best is trial 10 with value: 0.0239976328226431.\n",
            "\u001b[1m7/7\u001b[0m \u001b[32m━━━━━━━━━━━━━━━━━━━━\u001b[0m\u001b[37m\u001b[0m \u001b[1m0s\u001b[0m 32ms/step\n"
          ]
        },
        {
          "output_type": "stream",
          "name": "stderr",
          "text": [
            "Optimizing chunk 1:  18%|█▊        | 2/11 [29:02<1:51:13, 741.55s/it]"
          ]
        },
        {
          "output_type": "stream",
          "name": "stdout",
          "text": [
            "[I 2025-05-01 09:36:51,451] Trial 12 finished with value: 0.023917963019512906 and parameters: {'lookback': 1, 'units': 252, 'dropout': 0.36606464178627285, 'batch_size': 32, 'epochs': 31}. Best is trial 12 with value: 0.023917963019512906.\n",
            "\u001b[1m7/7\u001b[0m \u001b[32m━━━━━━━━━━━━━━━━━━━━\u001b[0m\u001b[37m\u001b[0m \u001b[1m0s\u001b[0m 46ms/step\n"
          ]
        },
        {
          "output_type": "stream",
          "name": "stderr",
          "text": [
            "Optimizing chunk 1:  18%|█▊        | 2/11 [29:43<1:51:13, 741.55s/it]"
          ]
        },
        {
          "output_type": "stream",
          "name": "stdout",
          "text": [
            "[I 2025-05-01 09:37:32,417] Trial 13 finished with value: 0.03826971892654547 and parameters: {'lookback': 21, 'units': 250, 'dropout': 0.38417537303583005, 'batch_size': 32, 'epochs': 26}. Best is trial 12 with value: 0.023917963019512906.\n",
            "\u001b[1m7/7\u001b[0m \u001b[32m━━━━━━━━━━━━━━━━━━━━\u001b[0m\u001b[37m\u001b[0m \u001b[1m0s\u001b[0m 36ms/step\n"
          ]
        },
        {
          "output_type": "stream",
          "name": "stderr",
          "text": [
            "Optimizing chunk 1:  18%|█▊        | 2/11 [29:53<1:51:13, 741.55s/it]"
          ]
        },
        {
          "output_type": "stream",
          "name": "stdout",
          "text": [
            "[I 2025-05-01 09:37:42,144] Trial 14 finished with value: 0.023966311440355423 and parameters: {'lookback': 1, 'units': 168, 'dropout': 0.2721947255501247, 'batch_size': 32, 'epochs': 26}. Best is trial 12 with value: 0.023917963019512906.\n",
            "\u001b[1m7/7\u001b[0m \u001b[32m━━━━━━━━━━━━━━━━━━━━\u001b[0m\u001b[37m\u001b[0m \u001b[1m0s\u001b[0m 49ms/step\n"
          ]
        },
        {
          "output_type": "stream",
          "name": "stderr",
          "text": [
            "Optimizing chunk 1:  18%|█▊        | 2/11 [30:33<1:51:13, 741.55s/it]"
          ]
        },
        {
          "output_type": "stream",
          "name": "stdout",
          "text": [
            "[I 2025-05-01 09:38:22,104] Trial 15 finished with value: 0.03840939367964581 and parameters: {'lookback': 31, 'units': 160, 'dropout': 0.2687595230403572, 'batch_size': 32, 'epochs': 26}. Best is trial 12 with value: 0.023917963019512906.\n",
            "\u001b[1m7/7\u001b[0m \u001b[32m━━━━━━━━━━━━━━━━━━━━\u001b[0m\u001b[37m\u001b[0m \u001b[1m0s\u001b[0m 35ms/step\n"
          ]
        },
        {
          "output_type": "stream",
          "name": "stderr",
          "text": [
            "Optimizing chunk 1:  18%|█▊        | 2/11 [30:42<1:51:13, 741.55s/it]"
          ]
        },
        {
          "output_type": "stream",
          "name": "stdout",
          "text": [
            "[I 2025-05-01 09:38:31,176] Trial 16 finished with value: 0.024523702097309124 and parameters: {'lookback': 1, 'units': 64, 'dropout': 0.2074765246209935, 'batch_size': 32, 'epochs': 24}. Best is trial 12 with value: 0.023917963019512906.\n",
            "\u001b[1m7/7\u001b[0m \u001b[32m━━━━━━━━━━━━━━━━━━━━\u001b[0m\u001b[37m\u001b[0m \u001b[1m0s\u001b[0m 36ms/step\n"
          ]
        },
        {
          "output_type": "stream",
          "name": "stderr",
          "text": [
            "Optimizing chunk 1:  18%|█▊        | 2/11 [31:01<1:51:13, 741.55s/it]"
          ]
        },
        {
          "output_type": "stream",
          "name": "stdout",
          "text": [
            "[I 2025-05-01 09:38:50,491] Trial 17 finished with value: 0.037893887523197174 and parameters: {'lookback': 11, 'units': 155, 'dropout': 0.32566194882541594, 'batch_size': 32, 'epochs': 25}. Best is trial 12 with value: 0.023917963019512906.\n",
            "\u001b[1m7/7\u001b[0m \u001b[32m━━━━━━━━━━━━━━━━━━━━\u001b[0m\u001b[37m\u001b[0m \u001b[1m0s\u001b[0m 48ms/step\n"
          ]
        },
        {
          "output_type": "stream",
          "name": "stderr",
          "text": [
            "Optimizing chunk 1:  18%|█▊        | 2/11 [31:23<1:51:13, 741.55s/it]"
          ]
        },
        {
          "output_type": "stream",
          "name": "stdout",
          "text": [
            "[I 2025-05-01 09:39:11,916] Trial 18 finished with value: 0.03837500719191191 and parameters: {'lookback': 21, 'units': 222, 'dropout': 0.12433446213638888, 'batch_size': 32, 'epochs': 27}. Best is trial 12 with value: 0.023917963019512906.\n",
            "\u001b[1m7/7\u001b[0m \u001b[32m━━━━━━━━━━━━━━━━━━━━\u001b[0m\u001b[37m\u001b[0m \u001b[1m0s\u001b[0m 33ms/step\n"
          ]
        },
        {
          "output_type": "stream",
          "name": "stderr",
          "text": [
            "Optimizing chunk 1:  18%|█▊        | 2/11 [31:36<1:51:13, 741.55s/it]"
          ]
        },
        {
          "output_type": "stream",
          "name": "stdout",
          "text": [
            "[I 2025-05-01 09:39:24,762] Trial 19 finished with value: 0.03771941713403711 and parameters: {'lookback': 6, 'units': 82, 'dropout': 0.23141514335730962, 'batch_size': 32, 'epochs': 32}. Best is trial 12 with value: 0.023917963019512906.\n",
            "\u001b[1m7/7\u001b[0m \u001b[32m━━━━━━━━━━━━━━━━━━━━\u001b[0m\u001b[37m\u001b[0m \u001b[1m0s\u001b[0m 46ms/step\n"
          ]
        },
        {
          "output_type": "stream",
          "name": "stderr",
          "text": [
            "Optimizing chunk 1:  18%|█▊        | 2/11 [32:11<1:51:13, 741.55s/it]"
          ]
        },
        {
          "output_type": "stream",
          "name": "stdout",
          "text": [
            "[I 2025-05-01 09:39:59,939] Trial 20 finished with value: 0.036474807893061824 and parameters: {'lookback': 31, 'units': 180, 'dropout': 0.36820342738200873, 'batch_size': 32, 'epochs': 35}. Best is trial 12 with value: 0.023917963019512906.\n",
            "\u001b[1m7/7\u001b[0m \u001b[32m━━━━━━━━━━━━━━━━━━━━\u001b[0m\u001b[37m\u001b[0m \u001b[1m1s\u001b[0m 52ms/step\n"
          ]
        },
        {
          "output_type": "stream",
          "name": "stderr",
          "text": [
            "Optimizing chunk 1:  18%|█▊        | 2/11 [32:19<1:51:13, 741.55s/it]"
          ]
        },
        {
          "output_type": "stream",
          "name": "stdout",
          "text": [
            "[I 2025-05-01 09:40:08,430] Trial 21 finished with value: 0.02460571505279988 and parameters: {'lookback': 1, 'units': 224, 'dropout': 0.49060940580622514, 'batch_size': 32, 'epochs': 30}. Best is trial 12 with value: 0.023917963019512906.\n",
            "\u001b[1m7/7\u001b[0m \u001b[32m━━━━━━━━━━━━━━━━━━━━\u001b[0m\u001b[37m\u001b[0m \u001b[1m0s\u001b[0m 41ms/step\n"
          ]
        },
        {
          "output_type": "stream",
          "name": "stderr",
          "text": [
            "Optimizing chunk 1:  18%|█▊        | 2/11 [32:40<1:51:13, 741.55s/it]"
          ]
        },
        {
          "output_type": "stream",
          "name": "stdout",
          "text": [
            "[I 2025-05-01 09:40:29,361] Trial 22 finished with value: 0.03627323530842669 and parameters: {'lookback': 6, 'units': 254, 'dropout': 0.1748559333417128, 'batch_size': 32, 'epochs': 28}. Best is trial 12 with value: 0.023917963019512906.\n",
            "\u001b[1m7/7\u001b[0m \u001b[32m━━━━━━━━━━━━━━━━━━━━\u001b[0m\u001b[37m\u001b[0m \u001b[1m0s\u001b[0m 38ms/step\n"
          ]
        },
        {
          "output_type": "stream",
          "name": "stderr",
          "text": [
            "Optimizing chunk 1:  18%|█▊        | 2/11 [32:52<1:51:13, 741.55s/it]"
          ]
        },
        {
          "output_type": "stream",
          "name": "stdout",
          "text": [
            "[I 2025-05-01 09:40:41,195] Trial 23 finished with value: 0.023784386122146353 and parameters: {'lookback': 1, 'units': 230, 'dropout': 0.3187418106868323, 'batch_size': 32, 'epochs': 32}. Best is trial 23 with value: 0.023784386122146353.\n",
            "\u001b[1m7/7\u001b[0m \u001b[32m━━━━━━━━━━━━━━━━━━━━\u001b[0m\u001b[37m\u001b[0m \u001b[1m0s\u001b[0m 48ms/step\n"
          ]
        },
        {
          "output_type": "stream",
          "name": "stderr",
          "text": [
            "Optimizing chunk 1:  18%|█▊        | 2/11 [33:31<1:51:13, 741.55s/it]"
          ]
        },
        {
          "output_type": "stream",
          "name": "stdout",
          "text": [
            "[I 2025-05-01 09:41:20,235] Trial 24 finished with value: 0.03476919794464435 and parameters: {'lookback': 16, 'units': 220, 'dropout': 0.3113851608927681, 'batch_size': 32, 'epochs': 32}. Best is trial 23 with value: 0.023784386122146353.\n",
            "\u001b[1m7/7\u001b[0m \u001b[32m━━━━━━━━━━━━━━━━━━━━\u001b[0m\u001b[37m\u001b[0m \u001b[1m0s\u001b[0m 47ms/step\n"
          ]
        },
        {
          "output_type": "stream",
          "name": "stderr",
          "text": [
            "Optimizing chunk 1:  18%|█▊        | 2/11 [33:56<1:51:13, 741.55s/it]"
          ]
        },
        {
          "output_type": "stream",
          "name": "stdout",
          "text": [
            "[I 2025-05-01 09:41:45,003] Trial 25 finished with value: 0.03606510136372866 and parameters: {'lookback': 6, 'units': 164, 'dropout': 0.2633065831917372, 'batch_size': 32, 'epochs': 29}. Best is trial 23 with value: 0.023784386122146353.\n",
            "\u001b[1m7/7\u001b[0m \u001b[32m━━━━━━━━━━━━━━━━━━━━\u001b[0m\u001b[37m\u001b[0m \u001b[1m0s\u001b[0m 47ms/step\n"
          ]
        },
        {
          "output_type": "stream",
          "name": "stderr",
          "text": [
            "Optimizing chunk 1:  18%|█▊        | 2/11 [34:28<1:51:13, 741.55s/it]"
          ]
        },
        {
          "output_type": "stream",
          "name": "stdout",
          "text": [
            "[I 2025-05-01 09:42:17,144] Trial 26 finished with value: 0.0367244159238542 and parameters: {'lookback': 16, 'units': 208, 'dropout': 0.34943586165803664, 'batch_size': 32, 'epochs': 23}. Best is trial 23 with value: 0.023784386122146353.\n",
            "\u001b[1m7/7\u001b[0m \u001b[32m━━━━━━━━━━━━━━━━━━━━\u001b[0m\u001b[37m\u001b[0m \u001b[1m0s\u001b[0m 35ms/step\n"
          ]
        },
        {
          "output_type": "stream",
          "name": "stderr",
          "text": [
            "Optimizing chunk 1:  18%|█▊        | 2/11 [34:37<1:51:13, 741.55s/it]"
          ]
        },
        {
          "output_type": "stream",
          "name": "stdout",
          "text": [
            "[I 2025-05-01 09:42:25,795] Trial 27 finished with value: 0.024063909562997504 and parameters: {'lookback': 1, 'units': 234, 'dropout': 0.29624933276314847, 'batch_size': 32, 'epochs': 32}. Best is trial 23 with value: 0.023784386122146353.\n",
            "\u001b[1m7/7\u001b[0m \u001b[32m━━━━━━━━━━━━━━━━━━━━\u001b[0m\u001b[37m\u001b[0m \u001b[1m0s\u001b[0m 43ms/step\n"
          ]
        },
        {
          "output_type": "stream",
          "name": "stderr",
          "text": [
            "Optimizing chunk 1:  18%|█▊        | 2/11 [34:54<1:51:13, 741.55s/it]"
          ]
        },
        {
          "output_type": "stream",
          "name": "stdout",
          "text": [
            "[I 2025-05-01 09:42:43,003] Trial 28 finished with value: 0.03894665532209959 and parameters: {'lookback': 11, 'units': 146, 'dropout': 0.40680160483979844, 'batch_size': 32, 'epochs': 27}. Best is trial 23 with value: 0.023784386122146353.\n",
            "\u001b[1m7/7\u001b[0m \u001b[32m━━━━━━━━━━━━━━━━━━━━\u001b[0m\u001b[37m\u001b[0m \u001b[1m0s\u001b[0m 39ms/step\n"
          ]
        },
        {
          "output_type": "stream",
          "name": "stderr",
          "text": [
            "Optimizing chunk 1:  18%|█▊        | 2/11 [35:18<1:51:13, 741.55s/it]"
          ]
        },
        {
          "output_type": "stream",
          "name": "stdout",
          "text": [
            "[I 2025-05-01 09:43:07,153] Trial 29 finished with value: 0.03446817689932714 and parameters: {'lookback': 6, 'units': 174, 'dropout': 0.24459029258913256, 'batch_size': 32, 'epochs': 35}. Best is trial 23 with value: 0.023784386122146353.\n"
          ]
        },
        {
          "output_type": "stream",
          "name": "stderr",
          "text": [
            "\rOptimizing chunk 1:  27%|██▋       | 3/11 [35:18<1:33:54, 704.31s/it][I 2025-05-01 09:43:07,185] A new study created in memory with name: no-name-5d051e1c-d99f-44f1-8d88-378187096937\n"
          ]
        },
        {
          "output_type": "stream",
          "name": "stdout",
          "text": [
            "✅ Done: CTSH.O — Best Params: {'lookback': 1, 'units': 230, 'dropout': 0.3187418106868323, 'batch_size': 32, 'epochs': 32}\n",
            "\n",
            "🔍 Optimizing for DASH.O...\n"
          ]
        },
        {
          "output_type": "display_data",
          "data": {
            "text/plain": [
              "  0%|          | 0/30 [00:00<?, ?it/s]"
            ],
            "application/vnd.jupyter.widget-view+json": {
              "version_major": 2,
              "version_minor": 0,
              "model_id": "d7c02e222dc040429ba55d0a33db99e0"
            }
          },
          "metadata": {}
        },
        {
          "output_type": "stream",
          "name": "stdout",
          "text": [
            "\u001b[1m7/7\u001b[0m \u001b[32m━━━━━━━━━━━━━━━━━━━━\u001b[0m\u001b[37m\u001b[0m \u001b[1m0s\u001b[0m 45ms/step\n"
          ]
        },
        {
          "output_type": "stream",
          "name": "stderr",
          "text": [
            "Optimizing chunk 1:  27%|██▋       | 3/11 [35:53<1:33:54, 704.31s/it]"
          ]
        },
        {
          "output_type": "stream",
          "name": "stdout",
          "text": [
            "[I 2025-05-01 09:43:41,917] Trial 0 finished with value: 0.02355646775047287 and parameters: {'lookback': 26, 'units': 126, 'dropout': 0.1974551283278062, 'batch_size': 32, 'epochs': 24}. Best is trial 0 with value: 0.02355646775047287.\n",
            "\u001b[1m7/7\u001b[0m \u001b[32m━━━━━━━━━━━━━━━━━━━━\u001b[0m\u001b[37m\u001b[0m \u001b[1m1s\u001b[0m 59ms/step\n"
          ]
        },
        {
          "output_type": "stream",
          "name": "stderr",
          "text": [
            "Optimizing chunk 1:  27%|██▋       | 3/11 [36:26<1:33:54, 704.31s/it]"
          ]
        },
        {
          "output_type": "stream",
          "name": "stdout",
          "text": [
            "[I 2025-05-01 09:44:15,411] Trial 1 finished with value: 0.0253049962257909 and parameters: {'lookback': 31, 'units': 220, 'dropout': 0.3346940243169373, 'batch_size': 64, 'epochs': 24}. Best is trial 0 with value: 0.02355646775047287.\n",
            "\u001b[1m6/6\u001b[0m \u001b[32m━━━━━━━━━━━━━━━━━━━━\u001b[0m\u001b[37m\u001b[0m \u001b[1m1s\u001b[0m 65ms/step\n"
          ]
        },
        {
          "output_type": "stream",
          "name": "stderr",
          "text": [
            "Optimizing chunk 1:  27%|██▋       | 3/11 [37:02<1:33:54, 704.31s/it]"
          ]
        },
        {
          "output_type": "stream",
          "name": "stdout",
          "text": [
            "[I 2025-05-01 09:44:50,634] Trial 2 finished with value: 0.02529472960308039 and parameters: {'lookback': 56, 'units': 168, 'dropout': 0.2684623822643851, 'batch_size': 64, 'epochs': 26}. Best is trial 0 with value: 0.02355646775047287.\n",
            "\u001b[1m6/6\u001b[0m \u001b[32m━━━━━━━━━━━━━━━━━━━━\u001b[0m\u001b[37m\u001b[0m \u001b[1m0s\u001b[0m 57ms/step\n"
          ]
        },
        {
          "output_type": "stream",
          "name": "stderr",
          "text": [
            "Optimizing chunk 1:  27%|██▋       | 3/11 [37:23<1:33:54, 704.31s/it]"
          ]
        },
        {
          "output_type": "stream",
          "name": "stdout",
          "text": [
            "[I 2025-05-01 09:45:12,051] Trial 3 finished with value: 0.028205282895984 and parameters: {'lookback': 56, 'units': 81, 'dropout': 0.4811613246270532, 'batch_size': 32, 'epochs': 28}. Best is trial 0 with value: 0.02355646775047287.\n",
            "\u001b[1m7/7\u001b[0m \u001b[32m━━━━━━━━━━━━━━━━━━━━\u001b[0m\u001b[37m\u001b[0m \u001b[1m0s\u001b[0m 46ms/step\n"
          ]
        },
        {
          "output_type": "stream",
          "name": "stderr",
          "text": [
            "Optimizing chunk 1:  27%|██▋       | 3/11 [38:32<1:33:54, 704.31s/it]"
          ]
        },
        {
          "output_type": "stream",
          "name": "stdout",
          "text": [
            "[I 2025-05-01 09:46:21,461] Trial 4 finished with value: 0.018755746693477567 and parameters: {'lookback': 31, 'units': 215, 'dropout': 0.13904136159078415, 'batch_size': 32, 'epochs': 30}. Best is trial 4 with value: 0.018755746693477567.\n",
            "\u001b[1m7/7\u001b[0m \u001b[32m━━━━━━━━━━━━━━━━━━━━\u001b[0m\u001b[37m\u001b[0m \u001b[1m0s\u001b[0m 47ms/step\n"
          ]
        },
        {
          "output_type": "stream",
          "name": "stderr",
          "text": [
            "Optimizing chunk 1:  27%|██▋       | 3/11 [39:09<1:33:54, 704.31s/it]"
          ]
        },
        {
          "output_type": "stream",
          "name": "stdout",
          "text": [
            "[I 2025-05-01 09:46:58,386] Trial 5 finished with value: 0.02164850187582453 and parameters: {'lookback': 36, 'units': 120, 'dropout': 0.20641501252754516, 'batch_size': 32, 'epochs': 30}. Best is trial 4 with value: 0.018755746693477567.\n",
            "\u001b[1m7/7\u001b[0m \u001b[32m━━━━━━━━━━━━━━━━━━━━\u001b[0m\u001b[37m\u001b[0m \u001b[1m0s\u001b[0m 34ms/step\n"
          ]
        },
        {
          "output_type": "stream",
          "name": "stderr",
          "text": [
            "Optimizing chunk 1:  27%|██▋       | 3/11 [39:18<1:33:54, 704.31s/it]"
          ]
        },
        {
          "output_type": "stream",
          "name": "stdout",
          "text": [
            "[I 2025-05-01 09:47:06,817] Trial 6 finished with value: 0.024061409990270375 and parameters: {'lookback': 11, 'units': 42, 'dropout': 0.29047621687690905, 'batch_size': 32, 'epochs': 23}. Best is trial 4 with value: 0.018755746693477567.\n",
            "\u001b[1m6/6\u001b[0m \u001b[32m━━━━━━━━━━━━━━━━━━━━\u001b[0m\u001b[37m\u001b[0m \u001b[1m1s\u001b[0m 68ms/step\n"
          ]
        },
        {
          "output_type": "stream",
          "name": "stderr",
          "text": [
            "Optimizing chunk 1:  27%|██▋       | 3/11 [40:11<1:33:54, 704.31s/it]"
          ]
        },
        {
          "output_type": "stream",
          "name": "stdout",
          "text": [
            "[I 2025-05-01 09:48:00,159] Trial 7 finished with value: 0.02538871145839137 and parameters: {'lookback': 56, 'units': 140, 'dropout': 0.4074775663056813, 'batch_size': 32, 'epochs': 20}. Best is trial 4 with value: 0.018755746693477567.\n",
            "\u001b[1m7/7\u001b[0m \u001b[32m━━━━━━━━━━━━━━━━━━━━\u001b[0m\u001b[37m\u001b[0m \u001b[1m0s\u001b[0m 33ms/step\n"
          ]
        },
        {
          "output_type": "stream",
          "name": "stderr",
          "text": [
            "Optimizing chunk 1:  27%|██▋       | 3/11 [40:23<1:33:54, 704.31s/it]"
          ]
        },
        {
          "output_type": "stream",
          "name": "stdout",
          "text": [
            "[I 2025-05-01 09:48:12,438] Trial 8 finished with value: 0.013540978294511577 and parameters: {'lookback': 1, 'units': 146, 'dropout': 0.3574388764985744, 'batch_size': 32, 'epochs': 35}. Best is trial 8 with value: 0.013540978294511577.\n",
            "\u001b[1m7/7\u001b[0m \u001b[32m━━━━━━━━━━━━━━━━━━━━\u001b[0m\u001b[37m\u001b[0m \u001b[1m0s\u001b[0m 32ms/step\n"
          ]
        },
        {
          "output_type": "stream",
          "name": "stderr",
          "text": [
            "Optimizing chunk 1:  27%|██▋       | 3/11 [40:32<1:33:54, 704.31s/it]"
          ]
        },
        {
          "output_type": "stream",
          "name": "stdout",
          "text": [
            "[I 2025-05-01 09:48:20,733] Trial 9 finished with value: 0.015047700715840327 and parameters: {'lookback': 1, 'units': 133, 'dropout': 0.2928432107146194, 'batch_size': 64, 'epochs': 28}. Best is trial 8 with value: 0.013540978294511577.\n",
            "\u001b[1m7/7\u001b[0m \u001b[32m━━━━━━━━━━━━━━━━━━━━\u001b[0m\u001b[37m\u001b[0m \u001b[1m0s\u001b[0m 36ms/step\n"
          ]
        },
        {
          "output_type": "stream",
          "name": "stderr",
          "text": [
            "Optimizing chunk 1:  27%|██▋       | 3/11 [40:41<1:33:54, 704.31s/it]"
          ]
        },
        {
          "output_type": "stream",
          "name": "stdout",
          "text": [
            "[I 2025-05-01 09:48:30,351] Trial 10 finished with value: 0.013671977034071855 and parameters: {'lookback': 1, 'units': 185, 'dropout': 0.3871652737530735, 'batch_size': 64, 'epochs': 34}. Best is trial 8 with value: 0.013540978294511577.\n",
            "\u001b[1m7/7\u001b[0m \u001b[32m━━━━━━━━━━━━━━━━━━━━\u001b[0m\u001b[37m\u001b[0m \u001b[1m0s\u001b[0m 34ms/step\n"
          ]
        },
        {
          "output_type": "stream",
          "name": "stderr",
          "text": [
            "Optimizing chunk 1:  27%|██▋       | 3/11 [40:49<1:33:54, 704.31s/it]"
          ]
        },
        {
          "output_type": "stream",
          "name": "stdout",
          "text": [
            "[I 2025-05-01 09:48:38,420] Trial 11 finished with value: 0.014773798660946545 and parameters: {'lookback': 1, 'units': 186, 'dropout': 0.39063479501764076, 'batch_size': 64, 'epochs': 35}. Best is trial 8 with value: 0.013540978294511577.\n",
            "\u001b[1m7/7\u001b[0m \u001b[32m━━━━━━━━━━━━━━━━━━━━\u001b[0m\u001b[37m\u001b[0m \u001b[1m0s\u001b[0m 46ms/step\n"
          ]
        },
        {
          "output_type": "stream",
          "name": "stderr",
          "text": [
            "Optimizing chunk 1:  27%|██▋       | 3/11 [41:10<1:33:54, 704.31s/it]"
          ]
        },
        {
          "output_type": "stream",
          "name": "stdout",
          "text": [
            "[I 2025-05-01 09:48:58,644] Trial 12 finished with value: 0.025754480427551126 and parameters: {'lookback': 16, 'units': 241, 'dropout': 0.40072621070976, 'batch_size': 64, 'epochs': 35}. Best is trial 8 with value: 0.013540978294511577.\n",
            "\u001b[1m7/7\u001b[0m \u001b[32m━━━━━━━━━━━━━━━━━━━━\u001b[0m\u001b[37m\u001b[0m \u001b[1m0s\u001b[0m 38ms/step\n"
          ]
        },
        {
          "output_type": "stream",
          "name": "stderr",
          "text": [
            "Optimizing chunk 1:  27%|██▋       | 3/11 [41:24<1:33:54, 704.31s/it]"
          ]
        },
        {
          "output_type": "stream",
          "name": "stdout",
          "text": [
            "[I 2025-05-01 09:49:13,523] Trial 13 finished with value: 0.02504920582408706 and parameters: {'lookback': 11, 'units': 183, 'dropout': 0.49671871230717723, 'batch_size': 64, 'epochs': 33}. Best is trial 8 with value: 0.013540978294511577.\n",
            "\u001b[1m7/7\u001b[0m \u001b[32m━━━━━━━━━━━━━━━━━━━━\u001b[0m\u001b[37m\u001b[0m \u001b[1m3s\u001b[0m 39ms/step\n"
          ]
        },
        {
          "output_type": "stream",
          "name": "stderr",
          "text": [
            "Optimizing chunk 1:  27%|██▋       | 3/11 [41:35<1:33:54, 704.31s/it]"
          ]
        },
        {
          "output_type": "stream",
          "name": "stdout",
          "text": [
            "[I 2025-05-01 09:49:23,873] Trial 14 finished with value: 0.01389004425151637 and parameters: {'lookback': 1, 'units': 91, 'dropout': 0.35436322341519866, 'batch_size': 32, 'epochs': 32}. Best is trial 8 with value: 0.013540978294511577.\n",
            "\u001b[1m7/7\u001b[0m \u001b[32m━━━━━━━━━━━━━━━━━━━━\u001b[0m\u001b[37m\u001b[0m \u001b[1m0s\u001b[0m 44ms/step\n"
          ]
        },
        {
          "output_type": "stream",
          "name": "stderr",
          "text": [
            "Optimizing chunk 1:  27%|██▋       | 3/11 [41:56<1:33:54, 704.31s/it]"
          ]
        },
        {
          "output_type": "stream",
          "name": "stdout",
          "text": [
            "[I 2025-05-01 09:49:44,611] Trial 15 finished with value: 0.023699222016901805 and parameters: {'lookback': 16, 'units': 172, 'dropout': 0.42990438615095905, 'batch_size': 64, 'epochs': 33}. Best is trial 8 with value: 0.013540978294511577.\n",
            "\u001b[1m6/6\u001b[0m \u001b[32m━━━━━━━━━━━━━━━━━━━━\u001b[0m\u001b[37m\u001b[0m \u001b[1m1s\u001b[0m 68ms/step\n"
          ]
        },
        {
          "output_type": "stream",
          "name": "stderr",
          "text": [
            "Optimizing chunk 1:  27%|██▋       | 3/11 [42:58<1:33:54, 704.31s/it]"
          ]
        },
        {
          "output_type": "stream",
          "name": "stdout",
          "text": [
            "[I 2025-05-01 09:50:47,102] Trial 16 finished with value: 0.02254670161645892 and parameters: {'lookback': 46, 'units': 207, 'dropout': 0.4398929145550135, 'batch_size': 64, 'epochs': 31}. Best is trial 8 with value: 0.013540978294511577.\n",
            "\u001b[1m7/7\u001b[0m \u001b[32m━━━━━━━━━━━━━━━━━━━━\u001b[0m\u001b[37m\u001b[0m \u001b[1m0s\u001b[0m 39ms/step\n"
          ]
        },
        {
          "output_type": "stream",
          "name": "stderr",
          "text": [
            "Optimizing chunk 1:  27%|██▋       | 3/11 [43:17<1:33:54, 704.31s/it]"
          ]
        },
        {
          "output_type": "stream",
          "name": "stdout",
          "text": [
            "[I 2025-05-01 09:51:05,739] Trial 17 finished with value: 0.02263762968035909 and parameters: {'lookback': 11, 'units': 102, 'dropout': 0.35130343209285125, 'batch_size': 32, 'epochs': 35}. Best is trial 8 with value: 0.013540978294511577.\n",
            "\u001b[1m7/7\u001b[0m \u001b[32m━━━━━━━━━━━━━━━━━━━━\u001b[0m\u001b[37m\u001b[0m \u001b[1m0s\u001b[0m 49ms/step\n"
          ]
        },
        {
          "output_type": "stream",
          "name": "stderr",
          "text": [
            "Optimizing chunk 1:  27%|██▋       | 3/11 [43:31<1:33:54, 704.31s/it]"
          ]
        },
        {
          "output_type": "stream",
          "name": "stdout",
          "text": [
            "[I 2025-05-01 09:51:20,140] Trial 18 finished with value: 0.02794671635577613 and parameters: {'lookback': 21, 'units': 155, 'dropout': 0.24297289290400095, 'batch_size': 64, 'epochs': 33}. Best is trial 8 with value: 0.013540978294511577.\n",
            "\u001b[1m7/7\u001b[0m \u001b[32m━━━━━━━━━━━━━━━━━━━━\u001b[0m\u001b[37m\u001b[0m \u001b[1m0s\u001b[0m 44ms/step\n"
          ]
        },
        {
          "output_type": "stream",
          "name": "stderr",
          "text": [
            "Optimizing chunk 1:  27%|██▋       | 3/11 [43:42<1:33:54, 704.31s/it]"
          ]
        },
        {
          "output_type": "stream",
          "name": "stdout",
          "text": [
            "[I 2025-05-01 09:51:31,031] Trial 19 finished with value: 0.023431734443152195 and parameters: {'lookback': 6, 'units': 246, 'dropout': 0.3511642654809003, 'batch_size': 32, 'epochs': 34}. Best is trial 8 with value: 0.013540978294511577.\n",
            "\u001b[1m7/7\u001b[0m \u001b[32m━━━━━━━━━━━━━━━━━━━━\u001b[0m\u001b[37m\u001b[0m \u001b[1m0s\u001b[0m 42ms/step\n"
          ]
        },
        {
          "output_type": "stream",
          "name": "stderr",
          "text": [
            "Optimizing chunk 1:  27%|██▋       | 3/11 [43:53<1:33:54, 704.31s/it]"
          ]
        },
        {
          "output_type": "stream",
          "name": "stdout",
          "text": [
            "[I 2025-05-01 09:51:41,652] Trial 20 finished with value: 0.033607603887848586 and parameters: {'lookback': 41, 'units': 59, 'dropout': 0.44673133367324885, 'batch_size': 64, 'epochs': 30}. Best is trial 8 with value: 0.013540978294511577.\n",
            "\u001b[1m7/7\u001b[0m \u001b[32m━━━━━━━━━━━━━━━━━━━━\u001b[0m\u001b[37m\u001b[0m \u001b[1m0s\u001b[0m 34ms/step\n"
          ]
        },
        {
          "output_type": "stream",
          "name": "stderr",
          "text": [
            "Optimizing chunk 1:  27%|██▋       | 3/11 [44:00<1:33:54, 704.31s/it]"
          ]
        },
        {
          "output_type": "stream",
          "name": "stdout",
          "text": [
            "[I 2025-05-01 09:51:48,974] Trial 21 finished with value: 0.016049932863376568 and parameters: {'lookback': 1, 'units': 92, 'dropout': 0.3300694640919427, 'batch_size': 32, 'epochs': 32}. Best is trial 8 with value: 0.013540978294511577.\n",
            "\u001b[1m7/7\u001b[0m \u001b[32m━━━━━━━━━━━━━━━━━━━━\u001b[0m\u001b[37m\u001b[0m \u001b[1m0s\u001b[0m 35ms/step\n"
          ]
        },
        {
          "output_type": "stream",
          "name": "stderr",
          "text": [
            "Optimizing chunk 1:  27%|██▋       | 3/11 [44:17<1:33:54, 704.31s/it]"
          ]
        },
        {
          "output_type": "stream",
          "name": "stdout",
          "text": [
            "[I 2025-05-01 09:52:05,706] Trial 22 finished with value: 0.019842176881947046 and parameters: {'lookback': 6, 'units': 113, 'dropout': 0.36961350689914135, 'batch_size': 32, 'epochs': 32}. Best is trial 8 with value: 0.013540978294511577.\n",
            "\u001b[1m7/7\u001b[0m \u001b[32m━━━━━━━━━━━━━━━━━━━━\u001b[0m\u001b[37m\u001b[0m \u001b[1m0s\u001b[0m 34ms/step\n"
          ]
        },
        {
          "output_type": "stream",
          "name": "stderr",
          "text": [
            "Optimizing chunk 1:  27%|██▋       | 3/11 [44:22<1:33:54, 704.31s/it]"
          ]
        },
        {
          "output_type": "stream",
          "name": "stdout",
          "text": [
            "[I 2025-05-01 09:52:11,159] Trial 23 finished with value: 0.025009387871963534 and parameters: {'lookback': 6, 'units': 73, 'dropout': 0.31455710139869086, 'batch_size': 32, 'epochs': 34}. Best is trial 8 with value: 0.013540978294511577.\n",
            "\u001b[1m7/7\u001b[0m \u001b[32m━━━━━━━━━━━━━━━━━━━━\u001b[0m\u001b[37m\u001b[0m \u001b[1m0s\u001b[0m 33ms/step\n"
          ]
        },
        {
          "output_type": "stream",
          "name": "stderr",
          "text": [
            "Optimizing chunk 1:  27%|██▋       | 3/11 [44:30<1:33:54, 704.31s/it]"
          ]
        },
        {
          "output_type": "stream",
          "name": "stdout",
          "text": [
            "[I 2025-05-01 09:52:19,280] Trial 24 finished with value: 0.01338660908601833 and parameters: {'lookback': 1, 'units': 154, 'dropout': 0.3732156132990283, 'batch_size': 32, 'epochs': 31}. Best is trial 24 with value: 0.01338660908601833.\n",
            "\u001b[1m7/7\u001b[0m \u001b[32m━━━━━━━━━━━━━━━━━━━━\u001b[0m\u001b[37m\u001b[0m \u001b[1m0s\u001b[0m 40ms/step\n"
          ]
        },
        {
          "output_type": "stream",
          "name": "stderr",
          "text": [
            "Optimizing chunk 1:  27%|██▋       | 3/11 [44:41<1:33:54, 704.31s/it]"
          ]
        },
        {
          "output_type": "stream",
          "name": "stdout",
          "text": [
            "[I 2025-05-01 09:52:30,304] Trial 25 finished with value: 0.0270185997886645 and parameters: {'lookback': 16, 'units': 153, 'dropout': 0.37779282517576607, 'batch_size': 32, 'epochs': 29}. Best is trial 24 with value: 0.01338660908601833.\n",
            "\u001b[1m7/7\u001b[0m \u001b[32m━━━━━━━━━━━━━━━━━━━━\u001b[0m\u001b[37m\u001b[0m \u001b[1m0s\u001b[0m 36ms/step\n"
          ]
        },
        {
          "output_type": "stream",
          "name": "stderr",
          "text": [
            "Optimizing chunk 1:  27%|██▋       | 3/11 [44:59<1:33:54, 704.31s/it]"
          ]
        },
        {
          "output_type": "stream",
          "name": "stdout",
          "text": [
            "[I 2025-05-01 09:52:48,005] Trial 26 finished with value: 0.019835813780622043 and parameters: {'lookback': 6, 'units': 198, 'dropout': 0.4203656485797681, 'batch_size': 32, 'epochs': 34}. Best is trial 24 with value: 0.01338660908601833.\n",
            "\u001b[1m7/7\u001b[0m \u001b[32m━━━━━━━━━━━━━━━━━━━━\u001b[0m\u001b[37m\u001b[0m \u001b[1m0s\u001b[0m 42ms/step\n"
          ]
        },
        {
          "output_type": "stream",
          "name": "stderr",
          "text": [
            "Optimizing chunk 1:  27%|██▋       | 3/11 [45:32<1:33:54, 704.31s/it]"
          ]
        },
        {
          "output_type": "stream",
          "name": "stdout",
          "text": [
            "[I 2025-05-01 09:53:20,829] Trial 27 finished with value: 0.02282807653034791 and parameters: {'lookback': 21, 'units': 165, 'dropout': 0.45606272523365243, 'batch_size': 32, 'epochs': 26}. Best is trial 24 with value: 0.01338660908601833.\n",
            "\u001b[1m7/7\u001b[0m \u001b[32m━━━━━━━━━━━━━━━━━━━━\u001b[0m\u001b[37m\u001b[0m \u001b[1m0s\u001b[0m 39ms/step\n"
          ]
        },
        {
          "output_type": "stream",
          "name": "stderr",
          "text": [
            "Optimizing chunk 1:  27%|██▋       | 3/11 [45:52<1:33:54, 704.31s/it]"
          ]
        },
        {
          "output_type": "stream",
          "name": "stdout",
          "text": [
            "[I 2025-05-01 09:53:40,899] Trial 28 finished with value: 0.023650558912134446 and parameters: {'lookback': 11, 'units': 148, 'dropout': 0.25184519226785995, 'batch_size': 64, 'epochs': 31}. Best is trial 24 with value: 0.01338660908601833.\n",
            "\u001b[1m7/7\u001b[0m \u001b[32m━━━━━━━━━━━━━━━━━━━━\u001b[0m\u001b[37m\u001b[0m \u001b[1m1s\u001b[0m 66ms/step\n"
          ]
        },
        {
          "output_type": "stream",
          "name": "stderr",
          "text": [
            "Optimizing chunk 1:  36%|███▋      | 4/11 [46:39<1:21:06, 695.16s/it][I 2025-05-01 09:54:28,315] A new study created in memory with name: no-name-b0fd6fd4-df19-4704-9d4d-a48ab712cf6f\n"
          ]
        },
        {
          "output_type": "stream",
          "name": "stdout",
          "text": [
            "[I 2025-05-01 09:54:28,288] Trial 29 finished with value: 0.01925072983724439 and parameters: {'lookback': 26, 'units': 130, 'dropout': 0.11773119613298483, 'batch_size': 32, 'epochs': 35}. Best is trial 24 with value: 0.01338660908601833.\n",
            "✅ Done: DASH.O — Best Params: {'lookback': 1, 'units': 154, 'dropout': 0.3732156132990283, 'batch_size': 32, 'epochs': 31}\n",
            "\n",
            "🔍 Optimizing for DDOG.O...\n"
          ]
        },
        {
          "output_type": "display_data",
          "data": {
            "text/plain": [
              "  0%|          | 0/30 [00:00<?, ?it/s]"
            ],
            "application/vnd.jupyter.widget-view+json": {
              "version_major": 2,
              "version_minor": 0,
              "model_id": "8a97bfe3cf63449284fe87b71cd71ab5"
            }
          },
          "metadata": {}
        },
        {
          "output_type": "stream",
          "name": "stdout",
          "text": [
            "\u001b[1m7/7\u001b[0m \u001b[32m━━━━━━━━━━━━━━━━━━━━\u001b[0m\u001b[37m\u001b[0m \u001b[1m0s\u001b[0m 35ms/step\n"
          ]
        },
        {
          "output_type": "stream",
          "name": "stderr",
          "text": [
            "Optimizing chunk 1:  36%|███▋      | 4/11 [46:54<1:21:06, 695.16s/it]"
          ]
        },
        {
          "output_type": "stream",
          "name": "stdout",
          "text": [
            "[I 2025-05-01 09:54:42,572] Trial 0 finished with value: 0.0352625628272461 and parameters: {'lookback': 6, 'units': 175, 'dropout': 0.26512122167089386, 'batch_size': 64, 'epochs': 26}. Best is trial 0 with value: 0.0352625628272461.\n",
            "\u001b[1m7/7\u001b[0m \u001b[32m━━━━━━━━━━━━━━━━━━━━\u001b[0m\u001b[37m\u001b[0m \u001b[1m0s\u001b[0m 40ms/step\n"
          ]
        },
        {
          "output_type": "stream",
          "name": "stderr",
          "text": [
            "Optimizing chunk 1:  36%|███▋      | 4/11 [47:13<1:21:06, 695.16s/it]"
          ]
        },
        {
          "output_type": "stream",
          "name": "stdout",
          "text": [
            "[I 2025-05-01 09:55:01,714] Trial 1 finished with value: 0.03571549553349227 and parameters: {'lookback': 11, 'units': 212, 'dropout': 0.42599975926674327, 'batch_size': 64, 'epochs': 25}. Best is trial 0 with value: 0.0352625628272461.\n",
            "\u001b[1m7/7\u001b[0m \u001b[32m━━━━━━━━━━━━━━━━━━━━\u001b[0m\u001b[37m\u001b[0m \u001b[1m0s\u001b[0m 47ms/step\n"
          ]
        },
        {
          "output_type": "stream",
          "name": "stderr",
          "text": [
            "Optimizing chunk 1:  36%|███▋      | 4/11 [47:49<1:21:06, 695.16s/it]"
          ]
        },
        {
          "output_type": "stream",
          "name": "stdout",
          "text": [
            "[I 2025-05-01 09:55:37,634] Trial 2 finished with value: 0.03563838701750166 and parameters: {'lookback': 31, 'units': 114, 'dropout': 0.211493154803152, 'batch_size': 32, 'epochs': 25}. Best is trial 0 with value: 0.0352625628272461.\n",
            "\u001b[1m7/7\u001b[0m \u001b[32m━━━━━━━━━━━━━━━━━━━━\u001b[0m\u001b[37m\u001b[0m \u001b[1m1s\u001b[0m 68ms/step\n"
          ]
        },
        {
          "output_type": "stream",
          "name": "stderr",
          "text": [
            "Optimizing chunk 1:  36%|███▋      | 4/11 [48:05<1:21:06, 695.16s/it]"
          ]
        },
        {
          "output_type": "stream",
          "name": "stdout",
          "text": [
            "[I 2025-05-01 09:55:54,541] Trial 3 finished with value: 0.04366590454381852 and parameters: {'lookback': 16, 'units': 243, 'dropout': 0.2501300890966918, 'batch_size': 64, 'epochs': 30}. Best is trial 0 with value: 0.0352625628272461.\n",
            "\u001b[1m7/7\u001b[0m \u001b[32m━━━━━━━━━━━━━━━━━━━━\u001b[0m\u001b[37m\u001b[0m \u001b[1m0s\u001b[0m 45ms/step\n"
          ]
        },
        {
          "output_type": "stream",
          "name": "stderr",
          "text": [
            "Optimizing chunk 1:  36%|███▋      | 4/11 [48:38<1:21:06, 695.16s/it]"
          ]
        },
        {
          "output_type": "stream",
          "name": "stdout",
          "text": [
            "[I 2025-05-01 09:56:27,077] Trial 4 finished with value: 0.036094326332435304 and parameters: {'lookback': 16, 'units': 232, 'dropout': 0.32924314924040354, 'batch_size': 32, 'epochs': 30}. Best is trial 0 with value: 0.0352625628272461.\n",
            "\u001b[1m6/6\u001b[0m \u001b[32m━━━━━━━━━━━━━━━━━━━━\u001b[0m\u001b[37m\u001b[0m \u001b[1m0s\u001b[0m 17ms/step\n"
          ]
        },
        {
          "output_type": "stream",
          "name": "stderr",
          "text": [
            "Optimizing chunk 1:  36%|███▋      | 4/11 [49:15<1:21:06, 695.16s/it]"
          ]
        },
        {
          "output_type": "stream",
          "name": "stdout",
          "text": [
            "[I 2025-05-01 09:57:04,177] Trial 5 finished with value: 0.0386255700110902 and parameters: {'lookback': 46, 'units': 89, 'dropout': 0.4796157310449207, 'batch_size': 64, 'epochs': 29}. Best is trial 0 with value: 0.0352625628272461.\n",
            "\u001b[1m7/7\u001b[0m \u001b[32m━━━━━━━━━━━━━━━━━━━━\u001b[0m\u001b[37m\u001b[0m \u001b[1m1s\u001b[0m 84ms/step\n"
          ]
        },
        {
          "output_type": "stream",
          "name": "stderr",
          "text": [
            "Optimizing chunk 1:  36%|███▋      | 4/11 [50:36<1:21:06, 695.16s/it]"
          ]
        },
        {
          "output_type": "stream",
          "name": "stdout",
          "text": [
            "[I 2025-05-01 09:58:25,416] Trial 6 finished with value: 0.035471491220394225 and parameters: {'lookback': 36, 'units': 248, 'dropout': 0.4269392667073403, 'batch_size': 32, 'epochs': 29}. Best is trial 0 with value: 0.0352625628272461.\n",
            "\u001b[1m7/7\u001b[0m \u001b[32m━━━━━━━━━━━━━━━━━━━━\u001b[0m\u001b[37m\u001b[0m \u001b[1m0s\u001b[0m 43ms/step\n"
          ]
        },
        {
          "output_type": "stream",
          "name": "stderr",
          "text": [
            "Optimizing chunk 1:  36%|███▋      | 4/11 [51:02<1:21:06, 695.16s/it]"
          ]
        },
        {
          "output_type": "stream",
          "name": "stdout",
          "text": [
            "[I 2025-05-01 09:58:50,915] Trial 7 finished with value: 0.03393374426084661 and parameters: {'lookback': 6, 'units': 252, 'dropout': 0.20858255898367686, 'batch_size': 64, 'epochs': 29}. Best is trial 7 with value: 0.03393374426084661.\n",
            "\u001b[1m7/7\u001b[0m \u001b[32m━━━━━━━━━━━━━━━━━━━━\u001b[0m\u001b[37m\u001b[0m \u001b[1m0s\u001b[0m 45ms/step\n"
          ]
        },
        {
          "output_type": "stream",
          "name": "stderr",
          "text": [
            "Optimizing chunk 1:  36%|███▋      | 4/11 [51:34<1:21:06, 695.16s/it]"
          ]
        },
        {
          "output_type": "stream",
          "name": "stdout",
          "text": [
            "[I 2025-05-01 09:59:23,493] Trial 8 finished with value: 0.03611620598406593 and parameters: {'lookback': 16, 'units': 144, 'dropout': 0.29210212776776656, 'batch_size': 32, 'epochs': 29}. Best is trial 7 with value: 0.03393374426084661.\n",
            "\u001b[1m7/7\u001b[0m \u001b[32m━━━━━━━━━━━━━━━━━━━━\u001b[0m\u001b[37m\u001b[0m \u001b[1m0s\u001b[0m 42ms/step\n"
          ]
        },
        {
          "output_type": "stream",
          "name": "stderr",
          "text": [
            "Optimizing chunk 1:  36%|███▋      | 4/11 [51:54<1:21:06, 695.16s/it]"
          ]
        },
        {
          "output_type": "stream",
          "name": "stdout",
          "text": [
            "[I 2025-05-01 09:59:42,731] Trial 9 finished with value: 0.032927810949583976 and parameters: {'lookback': 6, 'units': 159, 'dropout': 0.42850221325675497, 'batch_size': 32, 'epochs': 25}. Best is trial 9 with value: 0.032927810949583976.\n",
            "\u001b[1m6/6\u001b[0m \u001b[32m━━━━━━━━━━━━━━━━━━━━\u001b[0m\u001b[37m\u001b[0m \u001b[1m1s\u001b[0m 69ms/step\n"
          ]
        },
        {
          "output_type": "stream",
          "name": "stderr",
          "text": [
            "Optimizing chunk 1:  36%|███▋      | 4/11 [52:16<1:21:06, 695.16s/it]"
          ]
        },
        {
          "output_type": "stream",
          "name": "stdout",
          "text": [
            "[I 2025-05-01 10:00:05,473] Trial 10 finished with value: 0.038761895423959004 and parameters: {'lookback': 51, 'units': 33, 'dropout': 0.13507099495714658, 'batch_size': 32, 'epochs': 20}. Best is trial 9 with value: 0.032927810949583976.\n",
            "\u001b[1m7/7\u001b[0m \u001b[32m━━━━━━━━━━━━━━━━━━━━\u001b[0m\u001b[37m\u001b[0m \u001b[1m0s\u001b[0m 36ms/step\n"
          ]
        },
        {
          "output_type": "stream",
          "name": "stderr",
          "text": [
            "Optimizing chunk 1:  36%|███▋      | 4/11 [52:26<1:21:06, 695.16s/it]"
          ]
        },
        {
          "output_type": "stream",
          "name": "stdout",
          "text": [
            "[I 2025-05-01 10:00:15,050] Trial 11 finished with value: 0.023227926677697706 and parameters: {'lookback': 1, 'units': 187, 'dropout': 0.1487041943655756, 'batch_size': 64, 'epochs': 34}. Best is trial 11 with value: 0.023227926677697706.\n",
            "\u001b[1m7/7\u001b[0m \u001b[32m━━━━━━━━━━━━━━━━━━━━\u001b[0m\u001b[37m\u001b[0m \u001b[1m0s\u001b[0m 37ms/step\n"
          ]
        },
        {
          "output_type": "stream",
          "name": "stderr",
          "text": [
            "Optimizing chunk 1:  36%|███▋      | 4/11 [52:38<1:21:06, 695.16s/it]"
          ]
        },
        {
          "output_type": "stream",
          "name": "stdout",
          "text": [
            "[I 2025-05-01 10:00:27,228] Trial 12 finished with value: 0.02331462282621683 and parameters: {'lookback': 1, 'units': 180, 'dropout': 0.13002329176565347, 'batch_size': 64, 'epochs': 35}. Best is trial 11 with value: 0.023227926677697706.\n",
            "\u001b[1m7/7\u001b[0m \u001b[32m━━━━━━━━━━━━━━━━━━━━\u001b[0m\u001b[37m\u001b[0m \u001b[1m0s\u001b[0m 37ms/step\n"
          ]
        },
        {
          "output_type": "stream",
          "name": "stderr",
          "text": [
            "Optimizing chunk 1:  36%|███▋      | 4/11 [52:47<1:21:06, 695.16s/it]"
          ]
        },
        {
          "output_type": "stream",
          "name": "stdout",
          "text": [
            "[I 2025-05-01 10:00:36,247] Trial 13 finished with value: 0.023408243910423267 and parameters: {'lookback': 1, 'units': 190, 'dropout': 0.10781548210497549, 'batch_size': 64, 'epochs': 35}. Best is trial 11 with value: 0.023227926677697706.\n",
            "\u001b[1m7/7\u001b[0m \u001b[32m━━━━━━━━━━━━━━━━━━━━\u001b[0m\u001b[37m\u001b[0m \u001b[1m0s\u001b[0m 50ms/step\n"
          ]
        },
        {
          "output_type": "stream",
          "name": "stderr",
          "text": [
            "Optimizing chunk 1:  36%|███▋      | 4/11 [53:35<1:21:06, 695.16s/it]"
          ]
        },
        {
          "output_type": "stream",
          "name": "stdout",
          "text": [
            "[I 2025-05-01 10:01:24,247] Trial 14 finished with value: 0.034655804813975045 and parameters: {'lookback': 26, 'units': 200, 'dropout': 0.14674826996678308, 'batch_size': 64, 'epochs': 35}. Best is trial 11 with value: 0.023227926677697706.\n",
            "\u001b[1m7/7\u001b[0m \u001b[32m━━━━━━━━━━━━━━━━━━━━\u001b[0m\u001b[37m\u001b[0m \u001b[1m0s\u001b[0m 35ms/step\n"
          ]
        },
        {
          "output_type": "stream",
          "name": "stderr",
          "text": [
            "Optimizing chunk 1:  36%|███▋      | 4/11 [53:46<1:21:06, 695.16s/it]"
          ]
        },
        {
          "output_type": "stream",
          "name": "stdout",
          "text": [
            "[I 2025-05-01 10:01:35,031] Trial 15 finished with value: 0.02334969491510139 and parameters: {'lookback': 1, 'units': 129, 'dropout': 0.18832017622268665, 'batch_size': 64, 'epochs': 33}. Best is trial 11 with value: 0.023227926677697706.\n",
            "\u001b[1m7/7\u001b[0m \u001b[32m━━━━━━━━━━━━━━━━━━━━\u001b[0m\u001b[37m\u001b[0m \u001b[1m0s\u001b[0m 38ms/step\n"
          ]
        },
        {
          "output_type": "stream",
          "name": "stderr",
          "text": [
            "Optimizing chunk 1:  36%|███▋      | 4/11 [54:01<1:21:06, 695.16s/it]"
          ]
        },
        {
          "output_type": "stream",
          "name": "stdout",
          "text": [
            "[I 2025-05-01 10:01:49,896] Trial 16 finished with value: 0.0438673386524101 and parameters: {'lookback': 26, 'units': 91, 'dropout': 0.3493423793452963, 'batch_size': 64, 'epochs': 33}. Best is trial 11 with value: 0.023227926677697706.\n",
            "\u001b[1m7/7\u001b[0m \u001b[32m━━━━━━━━━━━━━━━━━━━━\u001b[0m\u001b[37m\u001b[0m \u001b[1m0s\u001b[0m 44ms/step\n"
          ]
        },
        {
          "output_type": "stream",
          "name": "stderr",
          "text": [
            "Optimizing chunk 1:  36%|███▋      | 4/11 [54:37<1:21:06, 695.16s/it]"
          ]
        },
        {
          "output_type": "stream",
          "name": "stdout",
          "text": [
            "[I 2025-05-01 10:02:26,304] Trial 17 finished with value: 0.035121761728679014 and parameters: {'lookback': 21, 'units': 171, 'dropout': 0.15047901821379253, 'batch_size': 64, 'epochs': 33}. Best is trial 11 with value: 0.023227926677697706.\n",
            "\u001b[1m7/7\u001b[0m \u001b[32m━━━━━━━━━━━━━━━━━━━━\u001b[0m\u001b[37m\u001b[0m \u001b[1m1s\u001b[0m 60ms/step\n"
          ]
        },
        {
          "output_type": "stream",
          "name": "stderr",
          "text": [
            "Optimizing chunk 1:  36%|███▋      | 4/11 [55:24<1:21:06, 695.16s/it]"
          ]
        },
        {
          "output_type": "stream",
          "name": "stdout",
          "text": [
            "[I 2025-05-01 10:03:12,948] Trial 18 finished with value: 0.03908450406333387 and parameters: {'lookback': 41, 'units': 214, 'dropout': 0.10149200190266186, 'batch_size': 64, 'epochs': 32}. Best is trial 11 with value: 0.023227926677697706.\n",
            "\u001b[1m7/7\u001b[0m \u001b[32m━━━━━━━━━━━━━━━━━━━━\u001b[0m\u001b[37m\u001b[0m \u001b[1m0s\u001b[0m 33ms/step\n"
          ]
        },
        {
          "output_type": "stream",
          "name": "stderr",
          "text": [
            "Optimizing chunk 1:  36%|███▋      | 4/11 [55:31<1:21:06, 695.16s/it]"
          ]
        },
        {
          "output_type": "stream",
          "name": "stdout",
          "text": [
            "[I 2025-05-01 10:03:20,375] Trial 19 finished with value: 0.024247278207292458 and parameters: {'lookback': 1, 'units': 147, 'dropout': 0.17491194576924374, 'batch_size': 64, 'epochs': 21}. Best is trial 11 with value: 0.023227926677697706.\n",
            "\u001b[1m7/7\u001b[0m \u001b[32m━━━━━━━━━━━━━━━━━━━━\u001b[0m\u001b[37m\u001b[0m \u001b[1m0s\u001b[0m 36ms/step\n"
          ]
        },
        {
          "output_type": "stream",
          "name": "stderr",
          "text": [
            "Optimizing chunk 1:  36%|███▋      | 4/11 [55:43<1:21:06, 695.16s/it]"
          ]
        },
        {
          "output_type": "stream",
          "name": "stdout",
          "text": [
            "[I 2025-05-01 10:03:32,160] Trial 20 finished with value: 0.04237787782251272 and parameters: {'lookback': 11, 'units': 185, 'dropout': 0.22522087832901425, 'batch_size': 64, 'epochs': 35}. Best is trial 11 with value: 0.023227926677697706.\n",
            "\u001b[1m7/7\u001b[0m \u001b[32m━━━━━━━━━━━━━━━━━━━━\u001b[0m\u001b[37m\u001b[0m \u001b[1m0s\u001b[0m 32ms/step\n"
          ]
        },
        {
          "output_type": "stream",
          "name": "stderr",
          "text": [
            "Optimizing chunk 1:  36%|███▋      | 4/11 [55:51<1:21:06, 695.16s/it]"
          ]
        },
        {
          "output_type": "stream",
          "name": "stdout",
          "text": [
            "[I 2025-05-01 10:03:40,422] Trial 21 finished with value: 0.02332173595133511 and parameters: {'lookback': 1, 'units': 125, 'dropout': 0.18329793494788937, 'batch_size': 64, 'epochs': 32}. Best is trial 11 with value: 0.023227926677697706.\n",
            "\u001b[1m7/7\u001b[0m \u001b[32m━━━━━━━━━━━━━━━━━━━━\u001b[0m\u001b[37m\u001b[0m \u001b[1m1s\u001b[0m 52ms/step\n"
          ]
        },
        {
          "output_type": "stream",
          "name": "stderr",
          "text": [
            "Optimizing chunk 1:  36%|███▋      | 4/11 [56:00<1:21:06, 695.16s/it]"
          ]
        },
        {
          "output_type": "stream",
          "name": "stdout",
          "text": [
            "[I 2025-05-01 10:03:48,954] Trial 22 finished with value: 0.02326956717788288 and parameters: {'lookback': 1, 'units': 110, 'dropout': 0.17211585054853185, 'batch_size': 64, 'epochs': 31}. Best is trial 11 with value: 0.023227926677697706.\n",
            "\u001b[1m7/7\u001b[0m \u001b[32m━━━━━━━━━━━━━━━━━━━━\u001b[0m\u001b[37m\u001b[0m \u001b[1m0s\u001b[0m 35ms/step\n"
          ]
        },
        {
          "output_type": "stream",
          "name": "stderr",
          "text": [
            "Optimizing chunk 1:  36%|███▋      | 4/11 [56:09<1:21:06, 695.16s/it]"
          ]
        },
        {
          "output_type": "stream",
          "name": "stdout",
          "text": [
            "[I 2025-05-01 10:03:58,136] Trial 23 finished with value: 0.038089640514999495 and parameters: {'lookback': 11, 'units': 70, 'dropout': 0.14171453592438313, 'batch_size': 64, 'epochs': 34}. Best is trial 11 with value: 0.023227926677697706.\n",
            "\u001b[1m7/7\u001b[0m \u001b[32m━━━━━━━━━━━━━━━━━━━━\u001b[0m\u001b[37m\u001b[0m \u001b[1m0s\u001b[0m 34ms/step\n"
          ]
        },
        {
          "output_type": "stream",
          "name": "stderr",
          "text": [
            "Optimizing chunk 1:  36%|███▋      | 4/11 [56:20<1:21:06, 695.16s/it]"
          ]
        },
        {
          "output_type": "stream",
          "name": "stdout",
          "text": [
            "[I 2025-05-01 10:04:08,972] Trial 24 finished with value: 0.035667135492362174 and parameters: {'lookback': 6, 'units': 102, 'dropout': 0.12140955036998606, 'batch_size': 64, 'epochs': 31}. Best is trial 11 with value: 0.023227926677697706.\n",
            "\u001b[1m7/7\u001b[0m \u001b[32m━━━━━━━━━━━━━━━━━━━━\u001b[0m\u001b[37m\u001b[0m \u001b[1m0s\u001b[0m 36ms/step\n"
          ]
        },
        {
          "output_type": "stream",
          "name": "stderr",
          "text": [
            "Optimizing chunk 1:  36%|███▋      | 4/11 [56:34<1:21:06, 695.16s/it]"
          ]
        },
        {
          "output_type": "stream",
          "name": "stdout",
          "text": [
            "[I 2025-05-01 10:04:23,506] Trial 25 finished with value: 0.03755185789296698 and parameters: {'lookback': 21, 'units': 66, 'dropout': 0.1657472086474105, 'batch_size': 64, 'epochs': 34}. Best is trial 11 with value: 0.023227926677697706.\n",
            "\u001b[1m7/7\u001b[0m \u001b[32m━━━━━━━━━━━━━━━━━━━━\u001b[0m\u001b[37m\u001b[0m \u001b[1m0s\u001b[0m 34ms/step\n"
          ]
        },
        {
          "output_type": "stream",
          "name": "stderr",
          "text": [
            "Optimizing chunk 1:  36%|███▋      | 4/11 [56:43<1:21:06, 695.16s/it]"
          ]
        },
        {
          "output_type": "stream",
          "name": "stdout",
          "text": [
            "[I 2025-05-01 10:04:31,586] Trial 26 finished with value: 0.02429305020459915 and parameters: {'lookback': 1, 'units': 158, 'dropout': 0.24266930672378323, 'batch_size': 64, 'epochs': 31}. Best is trial 11 with value: 0.023227926677697706.\n",
            "\u001b[1m7/7\u001b[0m \u001b[32m━━━━━━━━━━━━━━━━━━━━\u001b[0m\u001b[37m\u001b[0m \u001b[1m0s\u001b[0m 39ms/step\n"
          ]
        },
        {
          "output_type": "stream",
          "name": "stderr",
          "text": [
            "Optimizing chunk 1:  36%|███▋      | 4/11 [57:09<1:21:06, 695.16s/it]"
          ]
        },
        {
          "output_type": "stream",
          "name": "stdout",
          "text": [
            "[I 2025-05-01 10:04:57,924] Trial 27 finished with value: 0.03401786494106414 and parameters: {'lookback': 11, 'units': 218, 'dropout': 0.18813528689643547, 'batch_size': 64, 'epochs': 34}. Best is trial 11 with value: 0.023227926677697706.\n",
            "\u001b[1m7/7\u001b[0m \u001b[32m━━━━━━━━━━━━━━━━━━━━\u001b[0m\u001b[37m\u001b[0m \u001b[1m0s\u001b[0m 34ms/step\n"
          ]
        },
        {
          "output_type": "stream",
          "name": "stderr",
          "text": [
            "Optimizing chunk 1:  36%|███▋      | 4/11 [57:22<1:21:06, 695.16s/it]"
          ]
        },
        {
          "output_type": "stream",
          "name": "stdout",
          "text": [
            "[I 2025-05-01 10:05:11,139] Trial 28 finished with value: 0.03487979006769258 and parameters: {'lookback': 6, 'units': 135, 'dropout': 0.29236399920043604, 'batch_size': 64, 'epochs': 32}. Best is trial 11 with value: 0.023227926677697706.\n",
            "\u001b[1m6/6\u001b[0m \u001b[32m━━━━━━━━━━━━━━━━━━━━\u001b[0m\u001b[37m\u001b[0m \u001b[1m1s\u001b[0m 69ms/step\n"
          ]
        },
        {
          "output_type": "stream",
          "name": "stderr",
          "text": [
            "Optimizing chunk 1:  45%|████▌     | 5/11 [58:25<1:09:54, 699.13s/it][I 2025-05-01 10:06:14,495] A new study created in memory with name: no-name-7b7f9aac-6088-4df3-9b07-38f08631e083\n"
          ]
        },
        {
          "output_type": "stream",
          "name": "stdout",
          "text": [
            "[I 2025-05-01 10:06:14,469] Trial 29 finished with value: 0.04057060501993314 and parameters: {'lookback': 56, 'units': 182, 'dropout': 0.2607528730723171, 'batch_size': 64, 'epochs': 27}. Best is trial 11 with value: 0.023227926677697706.\n",
            "✅ Done: DDOG.O — Best Params: {'lookback': 1, 'units': 187, 'dropout': 0.1487041943655756, 'batch_size': 64, 'epochs': 34}\n",
            "\n",
            "🔍 Optimizing for FTNT.O...\n"
          ]
        },
        {
          "output_type": "display_data",
          "data": {
            "text/plain": [
              "  0%|          | 0/30 [00:00<?, ?it/s]"
            ],
            "application/vnd.jupyter.widget-view+json": {
              "version_major": 2,
              "version_minor": 0,
              "model_id": "524072e7864a4c1e863912d0eb069608"
            }
          },
          "metadata": {}
        },
        {
          "output_type": "stream",
          "name": "stdout",
          "text": [
            "\u001b[1m7/7\u001b[0m \u001b[32m━━━━━━━━━━━━━━━━━━━━\u001b[0m\u001b[37m\u001b[0m \u001b[1m0s\u001b[0m 36ms/step\n"
          ]
        },
        {
          "output_type": "stream",
          "name": "stderr",
          "text": [
            "Optimizing chunk 1:  45%|████▌     | 5/11 [58:32<1:09:54, 699.13s/it]"
          ]
        },
        {
          "output_type": "stream",
          "name": "stdout",
          "text": [
            "[I 2025-05-01 10:06:21,532] Trial 0 finished with value: 0.04190853450652245 and parameters: {'lookback': 6, 'units': 92, 'dropout': 0.3451892570742593, 'batch_size': 32, 'epochs': 25}. Best is trial 0 with value: 0.04190853450652245.\n",
            "\u001b[1m7/7\u001b[0m \u001b[32m━━━━━━━━━━━━━━━━━━━━\u001b[0m\u001b[37m\u001b[0m \u001b[1m0s\u001b[0m 41ms/step\n"
          ]
        },
        {
          "output_type": "stream",
          "name": "stderr",
          "text": [
            "Optimizing chunk 1:  45%|████▌     | 5/11 [58:44<1:09:54, 699.13s/it]"
          ]
        },
        {
          "output_type": "stream",
          "name": "stdout",
          "text": [
            "[I 2025-05-01 10:06:33,454] Trial 1 finished with value: 0.05558006775730748 and parameters: {'lookback': 16, 'units': 118, 'dropout': 0.22740185354841716, 'batch_size': 64, 'epochs': 32}. Best is trial 0 with value: 0.04190853450652245.\n",
            "\u001b[1m6/6\u001b[0m \u001b[32m━━━━━━━━━━━━━━━━━━━━\u001b[0m\u001b[37m\u001b[0m \u001b[1m1s\u001b[0m 66ms/step\n"
          ]
        },
        {
          "output_type": "stream",
          "name": "stderr",
          "text": [
            "Optimizing chunk 1:  45%|████▌     | 5/11 [59:38<1:09:54, 699.13s/it]"
          ]
        },
        {
          "output_type": "stream",
          "name": "stdout",
          "text": [
            "[I 2025-05-01 10:07:27,022] Trial 2 finished with value: 0.04574818094941453 and parameters: {'lookback': 56, 'units': 139, 'dropout': 0.46396144201295475, 'batch_size': 32, 'epochs': 20}. Best is trial 0 with value: 0.04190853450652245.\n",
            "\u001b[1m7/7\u001b[0m \u001b[32m━━━━━━━━━━━━━━━━━━━━\u001b[0m\u001b[37m\u001b[0m \u001b[1m0s\u001b[0m 41ms/step\n"
          ]
        },
        {
          "output_type": "stream",
          "name": "stderr",
          "text": [
            "Optimizing chunk 1:  45%|████▌     | 5/11 [1:00:03<1:09:54, 699.13s/it]"
          ]
        },
        {
          "output_type": "stream",
          "name": "stdout",
          "text": [
            "[I 2025-05-01 10:07:52,081] Trial 3 finished with value: 0.04307907437828972 and parameters: {'lookback': 21, 'units': 92, 'dropout': 0.18394931305169965, 'batch_size': 32, 'epochs': 35}. Best is trial 0 with value: 0.04190853450652245.\n",
            "\u001b[1m7/7\u001b[0m \u001b[32m━━━━━━━━━━━━━━━━━━━━\u001b[0m\u001b[37m\u001b[0m \u001b[1m1s\u001b[0m 53ms/step\n"
          ]
        },
        {
          "output_type": "stream",
          "name": "stderr",
          "text": [
            "Optimizing chunk 1:  45%|████▌     | 5/11 [1:00:10<1:09:54, 699.13s/it]"
          ]
        },
        {
          "output_type": "stream",
          "name": "stdout",
          "text": [
            "[I 2025-05-01 10:07:58,770] Trial 4 finished with value: 0.041036157134243016 and parameters: {'lookback': 6, 'units': 47, 'dropout': 0.20744454854767255, 'batch_size': 64, 'epochs': 22}. Best is trial 4 with value: 0.041036157134243016.\n",
            "\u001b[1m7/7\u001b[0m \u001b[32m━━━━━━━━━━━━━━━━━━━━\u001b[0m\u001b[37m\u001b[0m \u001b[1m1s\u001b[0m 49ms/step\n"
          ]
        },
        {
          "output_type": "stream",
          "name": "stderr",
          "text": [
            "Optimizing chunk 1:  45%|████▌     | 5/11 [1:00:29<1:09:54, 699.13s/it]"
          ]
        },
        {
          "output_type": "stream",
          "name": "stdout",
          "text": [
            "[I 2025-05-01 10:08:18,009] Trial 5 finished with value: 0.0585952574473575 and parameters: {'lookback': 31, 'units': 200, 'dropout': 0.48248265376423205, 'batch_size': 64, 'epochs': 25}. Best is trial 4 with value: 0.041036157134243016.\n",
            "\u001b[1m7/7\u001b[0m \u001b[32m━━━━━━━━━━━━━━━━━━━━\u001b[0m\u001b[37m\u001b[0m \u001b[1m0s\u001b[0m 36ms/step\n"
          ]
        },
        {
          "output_type": "stream",
          "name": "stderr",
          "text": [
            "Optimizing chunk 1:  45%|████▌     | 5/11 [1:00:41<1:09:54, 699.13s/it]"
          ]
        },
        {
          "output_type": "stream",
          "name": "stdout",
          "text": [
            "[I 2025-05-01 10:08:29,570] Trial 6 finished with value: 0.050602665086959694 and parameters: {'lookback': 21, 'units': 44, 'dropout': 0.18023115735821366, 'batch_size': 32, 'epochs': 25}. Best is trial 4 with value: 0.041036157134243016.\n",
            "\u001b[1m6/6\u001b[0m \u001b[32m━━━━━━━━━━━━━━━━━━━━\u001b[0m\u001b[37m\u001b[0m \u001b[1m0s\u001b[0m 45ms/step\n"
          ]
        },
        {
          "output_type": "stream",
          "name": "stderr",
          "text": [
            "Optimizing chunk 1:  45%|████▌     | 5/11 [1:00:56<1:09:54, 699.13s/it]"
          ]
        },
        {
          "output_type": "stream",
          "name": "stdout",
          "text": [
            "[I 2025-05-01 10:08:45,298] Trial 7 finished with value: 0.06474889131145341 and parameters: {'lookback': 51, 'units': 43, 'dropout': 0.40295367760326095, 'batch_size': 64, 'epochs': 20}. Best is trial 4 with value: 0.041036157134243016.\n",
            "\u001b[1m7/7\u001b[0m \u001b[32m━━━━━━━━━━━━━━━━━━━━\u001b[0m\u001b[37m\u001b[0m \u001b[1m0s\u001b[0m 40ms/step\n"
          ]
        },
        {
          "output_type": "stream",
          "name": "stderr",
          "text": [
            "Optimizing chunk 1:  45%|████▌     | 5/11 [1:01:06<1:09:54, 699.13s/it]"
          ]
        },
        {
          "output_type": "stream",
          "name": "stdout",
          "text": [
            "[I 2025-05-01 10:08:55,287] Trial 8 finished with value: 0.05713014033774368 and parameters: {'lookback': 26, 'units': 96, 'dropout': 0.11792716746253783, 'batch_size': 64, 'epochs': 20}. Best is trial 4 with value: 0.041036157134243016.\n",
            "\u001b[1m7/7\u001b[0m \u001b[32m━━━━━━━━━━━━━━━━━━━━\u001b[0m\u001b[37m\u001b[0m \u001b[1m1s\u001b[0m 61ms/step\n"
          ]
        },
        {
          "output_type": "stream",
          "name": "stderr",
          "text": [
            "Optimizing chunk 1:  45%|████▌     | 5/11 [1:01:23<1:09:54, 699.13s/it]"
          ]
        },
        {
          "output_type": "stream",
          "name": "stdout",
          "text": [
            "[I 2025-05-01 10:09:11,637] Trial 9 finished with value: 0.054780462830334435 and parameters: {'lookback': 31, 'units': 78, 'dropout': 0.4156043799502356, 'batch_size': 32, 'epochs': 23}. Best is trial 4 with value: 0.041036157134243016.\n",
            "\u001b[1m7/7\u001b[0m \u001b[32m━━━━━━━━━━━━━━━━━━━━\u001b[0m\u001b[37m\u001b[0m \u001b[1m0s\u001b[0m 34ms/step\n"
          ]
        },
        {
          "output_type": "stream",
          "name": "stderr",
          "text": [
            "Optimizing chunk 1:  45%|████▌     | 5/11 [1:01:34<1:09:54, 699.13s/it]"
          ]
        },
        {
          "output_type": "stream",
          "name": "stdout",
          "text": [
            "[I 2025-05-01 10:09:23,040] Trial 10 finished with value: 0.02405124547015541 and parameters: {'lookback': 1, 'units': 194, 'dropout': 0.2869447094663492, 'batch_size': 64, 'epochs': 29}. Best is trial 10 with value: 0.02405124547015541.\n",
            "\u001b[1m7/7\u001b[0m \u001b[32m━━━━━━━━━━━━━━━━━━━━\u001b[0m\u001b[37m\u001b[0m \u001b[1m0s\u001b[0m 33ms/step\n"
          ]
        },
        {
          "output_type": "stream",
          "name": "stderr",
          "text": [
            "Optimizing chunk 1:  45%|████▌     | 5/11 [1:01:45<1:09:54, 699.13s/it]"
          ]
        },
        {
          "output_type": "stream",
          "name": "stdout",
          "text": [
            "[I 2025-05-01 10:09:33,589] Trial 11 finished with value: 0.02440816211688848 and parameters: {'lookback': 1, 'units': 198, 'dropout': 0.2856382123926776, 'batch_size': 64, 'epochs': 29}. Best is trial 10 with value: 0.02405124547015541.\n",
            "\u001b[1m7/7\u001b[0m \u001b[32m━━━━━━━━━━━━━━━━━━━━\u001b[0m\u001b[37m\u001b[0m \u001b[1m0s\u001b[0m 34ms/step\n"
          ]
        },
        {
          "output_type": "stream",
          "name": "stderr",
          "text": [
            "Optimizing chunk 1:  45%|████▌     | 5/11 [1:01:56<1:09:54, 699.13s/it]"
          ]
        },
        {
          "output_type": "stream",
          "name": "stdout",
          "text": [
            "[I 2025-05-01 10:09:45,498] Trial 12 finished with value: 0.024246998973491838 and parameters: {'lookback': 1, 'units': 205, 'dropout': 0.2792704274086065, 'batch_size': 64, 'epochs': 30}. Best is trial 10 with value: 0.02405124547015541.\n",
            "\u001b[1m7/7\u001b[0m \u001b[32m━━━━━━━━━━━━━━━━━━━━\u001b[0m\u001b[37m\u001b[0m \u001b[1m0s\u001b[0m 40ms/step\n"
          ]
        },
        {
          "output_type": "stream",
          "name": "stderr",
          "text": [
            "Optimizing chunk 1:  45%|████▌     | 5/11 [1:02:08<1:09:54, 699.13s/it]"
          ]
        },
        {
          "output_type": "stream",
          "name": "stdout",
          "text": [
            "[I 2025-05-01 10:09:57,176] Trial 13 finished with value: 0.047748530043640755 and parameters: {'lookback': 11, 'units': 243, 'dropout': 0.2987768798946546, 'batch_size': 64, 'epochs': 29}. Best is trial 10 with value: 0.02405124547015541.\n",
            "\u001b[1m7/7\u001b[0m \u001b[32m━━━━━━━━━━━━━━━━━━━━\u001b[0m\u001b[37m\u001b[0m \u001b[1m1s\u001b[0m 82ms/step\n"
          ]
        },
        {
          "output_type": "stream",
          "name": "stderr",
          "text": [
            "Optimizing chunk 1:  45%|████▌     | 5/11 [1:02:39<1:09:54, 699.13s/it]"
          ]
        },
        {
          "output_type": "stream",
          "name": "stdout",
          "text": [
            "[I 2025-05-01 10:10:28,207] Trial 14 finished with value: 0.04887930623466168 and parameters: {'lookback': 41, 'units': 185, 'dropout': 0.2636140262383607, 'batch_size': 64, 'epochs': 32}. Best is trial 10 with value: 0.02405124547015541.\n",
            "\u001b[1m7/7\u001b[0m \u001b[32m━━━━━━━━━━━━━━━━━━━━\u001b[0m\u001b[37m\u001b[0m \u001b[1m0s\u001b[0m 35ms/step\n"
          ]
        },
        {
          "output_type": "stream",
          "name": "stderr",
          "text": [
            "Optimizing chunk 1:  45%|████▌     | 5/11 [1:02:44<1:09:54, 699.13s/it]"
          ]
        },
        {
          "output_type": "stream",
          "name": "stdout",
          "text": [
            "[I 2025-05-01 10:10:33,048] Trial 15 finished with value: 0.21396691447220184 and parameters: {'lookback': 1, 'units': 249, 'dropout': 0.33028952560332725, 'batch_size': 64, 'epochs': 31}. Best is trial 10 with value: 0.02405124547015541.\n",
            "\u001b[1m7/7\u001b[0m \u001b[32m━━━━━━━━━━━━━━━━━━━━\u001b[0m\u001b[37m\u001b[0m \u001b[1m0s\u001b[0m 38ms/step\n"
          ]
        },
        {
          "output_type": "stream",
          "name": "stderr",
          "text": [
            "Optimizing chunk 1:  45%|████▌     | 5/11 [1:03:00<1:09:54, 699.13s/it]"
          ]
        },
        {
          "output_type": "stream",
          "name": "stdout",
          "text": [
            "[I 2025-05-01 10:10:49,274] Trial 16 finished with value: 0.0468464448562253 and parameters: {'lookback': 11, 'units': 175, 'dropout': 0.37306295266445405, 'batch_size': 64, 'epochs': 28}. Best is trial 10 with value: 0.02405124547015541.\n",
            "\u001b[1m7/7\u001b[0m \u001b[32m━━━━━━━━━━━━━━━━━━━━\u001b[0m\u001b[37m\u001b[0m \u001b[1m0s\u001b[0m 34ms/step\n"
          ]
        },
        {
          "output_type": "stream",
          "name": "stderr",
          "text": [
            "Optimizing chunk 1:  45%|████▌     | 5/11 [1:03:06<1:09:54, 699.13s/it]"
          ]
        },
        {
          "output_type": "stream",
          "name": "stdout",
          "text": [
            "[I 2025-05-01 10:10:55,254] Trial 17 finished with value: 0.21657436751740022 and parameters: {'lookback': 1, 'units': 223, 'dropout': 0.2522254263452532, 'batch_size': 64, 'epochs': 35}. Best is trial 10 with value: 0.02405124547015541.\n",
            "\u001b[1m7/7\u001b[0m \u001b[32m━━━━━━━━━━━━━━━━━━━━\u001b[0m\u001b[37m\u001b[0m \u001b[1m1s\u001b[0m 51ms/step\n"
          ]
        },
        {
          "output_type": "stream",
          "name": "stderr",
          "text": [
            "Optimizing chunk 1:  45%|████▌     | 5/11 [1:03:41<1:09:54, 699.13s/it]"
          ]
        },
        {
          "output_type": "stream",
          "name": "stdout",
          "text": [
            "[I 2025-05-01 10:11:30,189] Trial 18 finished with value: 0.047190981825674744 and parameters: {'lookback': 41, 'units': 162, 'dropout': 0.31685182450971544, 'batch_size': 64, 'epochs': 30}. Best is trial 10 with value: 0.02405124547015541.\n",
            "\u001b[1m7/7\u001b[0m \u001b[32m━━━━━━━━━━━━━━━━━━━━\u001b[0m\u001b[37m\u001b[0m \u001b[1m0s\u001b[0m 37ms/step\n"
          ]
        },
        {
          "output_type": "stream",
          "name": "stderr",
          "text": [
            "Optimizing chunk 1:  45%|████▌     | 5/11 [1:03:51<1:09:54, 699.13s/it]"
          ]
        },
        {
          "output_type": "stream",
          "name": "stdout",
          "text": [
            "[I 2025-05-01 10:11:39,724] Trial 19 finished with value: 0.0499310544782132 and parameters: {'lookback': 11, 'units': 216, 'dropout': 0.11999875920855757, 'batch_size': 64, 'epochs': 27}. Best is trial 10 with value: 0.02405124547015541.\n",
            "\u001b[1m7/7\u001b[0m \u001b[32m━━━━━━━━━━━━━━━━━━━━\u001b[0m\u001b[37m\u001b[0m \u001b[1m0s\u001b[0m 38ms/step\n"
          ]
        },
        {
          "output_type": "stream",
          "name": "stderr",
          "text": [
            "Optimizing chunk 1:  45%|████▌     | 5/11 [1:04:01<1:09:54, 699.13s/it]"
          ]
        },
        {
          "output_type": "stream",
          "name": "stdout",
          "text": [
            "[I 2025-05-01 10:11:50,420] Trial 20 finished with value: 0.059176604677762576 and parameters: {'lookback': 16, 'units': 151, 'dropout': 0.3632760380878738, 'batch_size': 64, 'epochs': 27}. Best is trial 10 with value: 0.02405124547015541.\n",
            "\u001b[1m7/7\u001b[0m \u001b[32m━━━━━━━━━━━━━━━━━━━━\u001b[0m\u001b[37m\u001b[0m \u001b[1m0s\u001b[0m 35ms/step\n"
          ]
        },
        {
          "output_type": "stream",
          "name": "stderr",
          "text": [
            "Optimizing chunk 1:  45%|████▌     | 5/11 [1:04:13<1:09:54, 699.13s/it]"
          ]
        },
        {
          "output_type": "stream",
          "name": "stdout",
          "text": [
            "[I 2025-05-01 10:12:02,363] Trial 21 finished with value: 0.024211871155347058 and parameters: {'lookback': 1, 'units': 201, 'dropout': 0.2842521464123441, 'batch_size': 64, 'epochs': 33}. Best is trial 10 with value: 0.02405124547015541.\n",
            "\u001b[1m7/7\u001b[0m \u001b[32m━━━━━━━━━━━━━━━━━━━━\u001b[0m\u001b[37m\u001b[0m \u001b[1m0s\u001b[0m 39ms/step\n"
          ]
        },
        {
          "output_type": "stream",
          "name": "stderr",
          "text": [
            "Optimizing chunk 1:  45%|████▌     | 5/11 [1:04:25<1:09:54, 699.13s/it]"
          ]
        },
        {
          "output_type": "stream",
          "name": "stdout",
          "text": [
            "[I 2025-05-01 10:12:14,085] Trial 22 finished with value: 0.043833361499923486 and parameters: {'lookback': 6, 'units': 223, 'dropout': 0.2603655056678369, 'batch_size': 64, 'epochs': 33}. Best is trial 10 with value: 0.02405124547015541.\n",
            "\u001b[1m7/7\u001b[0m \u001b[32m━━━━━━━━━━━━━━━━━━━━\u001b[0m\u001b[37m\u001b[0m \u001b[1m0s\u001b[0m 35ms/step\n"
          ]
        },
        {
          "output_type": "stream",
          "name": "stderr",
          "text": [
            "Optimizing chunk 1:  45%|████▌     | 5/11 [1:04:36<1:09:54, 699.13s/it]"
          ]
        },
        {
          "output_type": "stream",
          "name": "stdout",
          "text": [
            "[I 2025-05-01 10:12:25,220] Trial 23 finished with value: 0.02418394427567673 and parameters: {'lookback': 1, 'units': 199, 'dropout': 0.3060403135256691, 'batch_size': 64, 'epochs': 34}. Best is trial 10 with value: 0.02405124547015541.\n",
            "\u001b[1m7/7\u001b[0m \u001b[32m━━━━━━━━━━━━━━━━━━━━\u001b[0m\u001b[37m\u001b[0m \u001b[1m0s\u001b[0m 38ms/step\n"
          ]
        },
        {
          "output_type": "stream",
          "name": "stderr",
          "text": [
            "Optimizing chunk 1:  45%|████▌     | 5/11 [1:04:47<1:09:54, 699.13s/it]"
          ]
        },
        {
          "output_type": "stream",
          "name": "stdout",
          "text": [
            "[I 2025-05-01 10:12:35,961] Trial 24 finished with value: 0.043258217694860636 and parameters: {'lookback': 6, 'units': 170, 'dropout': 0.22100570051908192, 'batch_size': 64, 'epochs': 34}. Best is trial 10 with value: 0.02405124547015541.\n",
            "\u001b[1m7/7\u001b[0m \u001b[32m━━━━━━━━━━━━━━━━━━━━\u001b[0m\u001b[37m\u001b[0m \u001b[1m0s\u001b[0m 41ms/step\n"
          ]
        },
        {
          "output_type": "stream",
          "name": "stderr",
          "text": [
            "Optimizing chunk 1:  45%|████▌     | 5/11 [1:04:57<1:09:54, 699.13s/it]"
          ]
        },
        {
          "output_type": "stream",
          "name": "stdout",
          "text": [
            "[I 2025-05-01 10:12:45,978] Trial 25 finished with value: 0.05581560354930717 and parameters: {'lookback': 16, 'units': 184, 'dropout': 0.3174525441755651, 'batch_size': 64, 'epochs': 33}. Best is trial 10 with value: 0.02405124547015541.\n",
            "\u001b[1m7/7\u001b[0m \u001b[32m━━━━━━━━━━━━━━━━━━━━\u001b[0m\u001b[37m\u001b[0m \u001b[1m0s\u001b[0m 34ms/step\n"
          ]
        },
        {
          "output_type": "stream",
          "name": "stderr",
          "text": [
            "Optimizing chunk 1:  45%|████▌     | 5/11 [1:05:09<1:09:54, 699.13s/it]"
          ]
        },
        {
          "output_type": "stream",
          "name": "stdout",
          "text": [
            "[I 2025-05-01 10:12:57,669] Trial 26 finished with value: 0.02408470770497799 and parameters: {'lookback': 1, 'units': 139, 'dropout': 0.3958931006781401, 'batch_size': 32, 'epochs': 33}. Best is trial 10 with value: 0.02405124547015541.\n",
            "\u001b[1m7/7\u001b[0m \u001b[32m━━━━━━━━━━━━━━━━━━━━\u001b[0m\u001b[37m\u001b[0m \u001b[1m1s\u001b[0m 51ms/step\n"
          ]
        },
        {
          "output_type": "stream",
          "name": "stderr",
          "text": [
            "Optimizing chunk 1:  45%|████▌     | 5/11 [1:05:18<1:09:54, 699.13s/it]"
          ]
        },
        {
          "output_type": "stream",
          "name": "stdout",
          "text": [
            "[I 2025-05-01 10:13:06,782] Trial 27 finished with value: 0.05141708962842776 and parameters: {'lookback': 11, 'units': 135, 'dropout': 0.41751125316090953, 'batch_size': 32, 'epochs': 31}. Best is trial 10 with value: 0.02405124547015541.\n",
            "\u001b[1m7/7\u001b[0m \u001b[32m━━━━━━━━━━━━━━━━━━━━\u001b[0m\u001b[37m\u001b[0m \u001b[1m1s\u001b[0m 76ms/step\n"
          ]
        },
        {
          "output_type": "stream",
          "name": "stderr",
          "text": [
            "Optimizing chunk 1:  45%|████▌     | 5/11 [1:06:09<1:09:54, 699.13s/it]"
          ]
        },
        {
          "output_type": "stream",
          "name": "stdout",
          "text": [
            "[I 2025-05-01 10:13:58,354] Trial 28 finished with value: 0.040905090068544155 and parameters: {'lookback': 41, 'units': 132, 'dropout': 0.37963419739395, 'batch_size': 32, 'epochs': 34}. Best is trial 10 with value: 0.02405124547015541.\n",
            "\u001b[1m7/7\u001b[0m \u001b[32m━━━━━━━━━━━━━━━━━━━━\u001b[0m\u001b[37m\u001b[0m \u001b[1m0s\u001b[0m 33ms/step\n"
          ]
        },
        {
          "output_type": "stream",
          "name": "stderr",
          "text": [
            "Optimizing chunk 1:  55%|█████▍    | 6/11 [1:06:17<51:49, 621.84s/it]  [I 2025-05-01 10:14:06,288] A new study created in memory with name: no-name-93fb9fcc-cbea-4951-982f-06791c60aac1\n"
          ]
        },
        {
          "output_type": "stream",
          "name": "stdout",
          "text": [
            "[I 2025-05-01 10:14:06,257] Trial 29 finished with value: 0.04396092536018772 and parameters: {'lookback': 6, 'units': 116, 'dropout': 0.44109997770394105, 'batch_size': 32, 'epochs': 35}. Best is trial 10 with value: 0.02405124547015541.\n",
            "✅ Done: FTNT.O — Best Params: {'lookback': 1, 'units': 194, 'dropout': 0.2869447094663492, 'batch_size': 64, 'epochs': 29}\n",
            "\n",
            "🔍 Optimizing for GFS.O...\n"
          ]
        },
        {
          "output_type": "display_data",
          "data": {
            "text/plain": [
              "  0%|          | 0/30 [00:00<?, ?it/s]"
            ],
            "application/vnd.jupyter.widget-view+json": {
              "version_major": 2,
              "version_minor": 0,
              "model_id": "c868b81cc1564aa28d97e0426a5e7776"
            }
          },
          "metadata": {}
        },
        {
          "output_type": "stream",
          "name": "stdout",
          "text": [
            "\u001b[1m5/5\u001b[0m \u001b[32m━━━━━━━━━━━━━━━━━━━━\u001b[0m\u001b[37m\u001b[0m \u001b[1m1s\u001b[0m 59ms/step\n"
          ]
        },
        {
          "output_type": "stream",
          "name": "stderr",
          "text": [
            "Optimizing chunk 1:  55%|█████▍    | 6/11 [1:06:22<51:49, 621.84s/it]"
          ]
        },
        {
          "output_type": "stream",
          "name": "stdout",
          "text": [
            "[I 2025-05-01 10:14:11,122] Trial 0 finished with value: 0.1129350476009511 and parameters: {'lookback': 1, 'units': 197, 'dropout': 0.27237922063357667, 'batch_size': 64, 'epochs': 25}. Best is trial 0 with value: 0.1129350476009511.\n",
            "\u001b[1m5/5\u001b[0m \u001b[32m━━━━━━━━━━━━━━━━━━━━\u001b[0m\u001b[37m\u001b[0m \u001b[1m0s\u001b[0m 51ms/step\n"
          ]
        },
        {
          "output_type": "stream",
          "name": "stderr",
          "text": [
            "Optimizing chunk 1:  55%|█████▍    | 6/11 [1:06:27<51:49, 621.84s/it]"
          ]
        },
        {
          "output_type": "stream",
          "name": "stdout",
          "text": [
            "[I 2025-05-01 10:14:15,892] Trial 1 finished with value: 0.20097484389450523 and parameters: {'lookback': 1, 'units': 218, 'dropout': 0.38650317859051386, 'batch_size': 32, 'epochs': 22}. Best is trial 0 with value: 0.1129350476009511.\n",
            "\u001b[1m5/5\u001b[0m \u001b[32m━━━━━━━━━━━━━━━━━━━━\u001b[0m\u001b[37m\u001b[0m \u001b[1m0s\u001b[0m 67ms/step\n"
          ]
        },
        {
          "output_type": "stream",
          "name": "stderr",
          "text": [
            "Optimizing chunk 1:  55%|█████▍    | 6/11 [1:07:05<51:49, 621.84s/it]"
          ]
        },
        {
          "output_type": "stream",
          "name": "stdout",
          "text": [
            "[I 2025-05-01 10:14:54,113] Trial 2 finished with value: 0.043527686311451944 and parameters: {'lookback': 36, 'units': 183, 'dropout': 0.2881528989701108, 'batch_size': 32, 'epochs': 28}. Best is trial 2 with value: 0.043527686311451944.\n",
            "\u001b[1m5/5\u001b[0m \u001b[32m━━━━━━━━━━━━━━━━━━━━\u001b[0m\u001b[37m\u001b[0m \u001b[1m1s\u001b[0m 154ms/step\n"
          ]
        },
        {
          "output_type": "stream",
          "name": "stderr",
          "text": [
            "Optimizing chunk 1:  55%|█████▍    | 6/11 [1:08:30<51:49, 621.84s/it]"
          ]
        },
        {
          "output_type": "stream",
          "name": "stdout",
          "text": [
            "[I 2025-05-01 10:16:18,886] Trial 3 finished with value: 0.0439098857324272 and parameters: {'lookback': 51, 'units': 251, 'dropout': 0.34947763330537285, 'batch_size': 64, 'epochs': 28}. Best is trial 2 with value: 0.043527686311451944.\n",
            "\u001b[1m5/5\u001b[0m \u001b[32m━━━━━━━━━━━━━━━━━━━━\u001b[0m\u001b[37m\u001b[0m \u001b[1m1s\u001b[0m 81ms/step\n"
          ]
        },
        {
          "output_type": "stream",
          "name": "stderr",
          "text": [
            "Optimizing chunk 1:  55%|█████▍    | 6/11 [1:08:40<51:49, 621.84s/it]"
          ]
        },
        {
          "output_type": "stream",
          "name": "stdout",
          "text": [
            "[I 2025-05-01 10:16:29,368] Trial 4 finished with value: 0.06434832147280077 and parameters: {'lookback': 11, 'units': 142, 'dropout': 0.18615035621836384, 'batch_size': 64, 'epochs': 24}. Best is trial 2 with value: 0.043527686311451944.\n",
            "\u001b[1m5/5\u001b[0m \u001b[32m━━━━━━━━━━━━━━━━━━━━\u001b[0m\u001b[37m\u001b[0m \u001b[1m0s\u001b[0m 73ms/step\n"
          ]
        },
        {
          "output_type": "stream",
          "name": "stderr",
          "text": [
            "Optimizing chunk 1:  55%|█████▍    | 6/11 [1:09:00<51:49, 621.84s/it]"
          ]
        },
        {
          "output_type": "stream",
          "name": "stdout",
          "text": [
            "[I 2025-05-01 10:16:48,868] Trial 5 finished with value: 0.08227579729753706 and parameters: {'lookback': 31, 'units': 180, 'dropout': 0.2895861554714918, 'batch_size': 64, 'epochs': 23}. Best is trial 2 with value: 0.043527686311451944.\n",
            "\u001b[1m5/5\u001b[0m \u001b[32m━━━━━━━━━━━━━━━━━━━━\u001b[0m\u001b[37m\u001b[0m \u001b[1m1s\u001b[0m 80ms/step\n"
          ]
        },
        {
          "output_type": "stream",
          "name": "stderr",
          "text": [
            "Optimizing chunk 1:  55%|█████▍    | 6/11 [1:09:28<51:49, 621.84s/it]"
          ]
        },
        {
          "output_type": "stream",
          "name": "stdout",
          "text": [
            "[I 2025-05-01 10:17:16,584] Trial 6 finished with value: 0.07309319247759524 and parameters: {'lookback': 51, 'units': 179, 'dropout': 0.28002569939486366, 'batch_size': 32, 'epochs': 21}. Best is trial 2 with value: 0.043527686311451944.\n",
            "\u001b[1m5/5\u001b[0m \u001b[32m━━━━━━━━━━━━━━━━━━━━\u001b[0m\u001b[37m\u001b[0m \u001b[1m1s\u001b[0m 77ms/step\n"
          ]
        },
        {
          "output_type": "stream",
          "name": "stderr",
          "text": [
            "Optimizing chunk 1:  55%|█████▍    | 6/11 [1:09:33<51:49, 621.84s/it]"
          ]
        },
        {
          "output_type": "stream",
          "name": "stdout",
          "text": [
            "[I 2025-05-01 10:17:21,648] Trial 7 finished with value: 0.1127672492303332 and parameters: {'lookback': 1, 'units': 57, 'dropout': 0.17881371098960305, 'batch_size': 64, 'epochs': 34}. Best is trial 2 with value: 0.043527686311451944.\n",
            "\u001b[1m5/5\u001b[0m \u001b[32m━━━━━━━━━━━━━━━━━━━━\u001b[0m\u001b[37m\u001b[0m \u001b[1m0s\u001b[0m 67ms/step\n"
          ]
        },
        {
          "output_type": "stream",
          "name": "stderr",
          "text": [
            "Optimizing chunk 1:  55%|█████▍    | 6/11 [1:09:55<51:49, 621.84s/it]"
          ]
        },
        {
          "output_type": "stream",
          "name": "stdout",
          "text": [
            "[I 2025-05-01 10:17:44,412] Trial 8 finished with value: 0.06547413369772681 and parameters: {'lookback': 56, 'units': 99, 'dropout': 0.21608886363129798, 'batch_size': 32, 'epochs': 22}. Best is trial 2 with value: 0.043527686311451944.\n",
            "\u001b[1m5/5\u001b[0m \u001b[32m━━━━━━━━━━━━━━━━━━━━\u001b[0m\u001b[37m\u001b[0m \u001b[1m0s\u001b[0m 58ms/step\n"
          ]
        },
        {
          "output_type": "stream",
          "name": "stderr",
          "text": [
            "Optimizing chunk 1:  55%|█████▍    | 6/11 [1:10:05<51:49, 621.84s/it]"
          ]
        },
        {
          "output_type": "stream",
          "name": "stdout",
          "text": [
            "[I 2025-05-01 10:17:54,089] Trial 9 finished with value: 0.07621666190146754 and parameters: {'lookback': 16, 'units': 138, 'dropout': 0.19884891318357345, 'batch_size': 64, 'epochs': 35}. Best is trial 2 with value: 0.043527686311451944.\n",
            "\u001b[1m5/5\u001b[0m \u001b[32m━━━━━━━━━━━━━━━━━━━━\u001b[0m\u001b[37m\u001b[0m \u001b[1m0s\u001b[0m 57ms/step\n"
          ]
        },
        {
          "output_type": "stream",
          "name": "stderr",
          "text": [
            "Optimizing chunk 1:  55%|█████▍    | 6/11 [1:10:19<51:49, 621.84s/it]"
          ]
        },
        {
          "output_type": "stream",
          "name": "stdout",
          "text": [
            "[I 2025-05-01 10:18:08,287] Trial 10 finished with value: 0.05788133288073021 and parameters: {'lookback': 36, 'units': 33, 'dropout': 0.4872092373580481, 'batch_size': 32, 'epochs': 30}. Best is trial 2 with value: 0.043527686311451944.\n",
            "\u001b[1m5/5\u001b[0m \u001b[32m━━━━━━━━━━━━━━━━━━━━\u001b[0m\u001b[37m\u001b[0m \u001b[1m1s\u001b[0m 80ms/step\n"
          ]
        },
        {
          "output_type": "stream",
          "name": "stderr",
          "text": [
            "Optimizing chunk 1:  55%|█████▍    | 6/11 [1:10:55<51:49, 621.84s/it]"
          ]
        },
        {
          "output_type": "stream",
          "name": "stdout",
          "text": [
            "[I 2025-05-01 10:18:43,797] Trial 11 finished with value: 0.06067287738573264 and parameters: {'lookback': 41, 'units': 254, 'dropout': 0.3765365855024898, 'batch_size': 32, 'epochs': 29}. Best is trial 2 with value: 0.043527686311451944.\n",
            "\u001b[1m5/5\u001b[0m \u001b[32m━━━━━━━━━━━━━━━━━━━━\u001b[0m\u001b[37m\u001b[0m \u001b[1m1s\u001b[0m 88ms/step\n"
          ]
        },
        {
          "output_type": "stream",
          "name": "stderr",
          "text": [
            "Optimizing chunk 1:  55%|█████▍    | 6/11 [1:11:22<51:49, 621.84s/it]"
          ]
        },
        {
          "output_type": "stream",
          "name": "stdout",
          "text": [
            "[I 2025-05-01 10:19:11,049] Trial 12 finished with value: 0.07908336700060056 and parameters: {'lookback': 41, 'units': 255, 'dropout': 0.3715900909213209, 'batch_size': 64, 'epochs': 27}. Best is trial 2 with value: 0.043527686311451944.\n",
            "\u001b[1m5/5\u001b[0m \u001b[32m━━━━━━━━━━━━━━━━━━━━\u001b[0m\u001b[37m\u001b[0m \u001b[1m1s\u001b[0m 88ms/step\n"
          ]
        },
        {
          "output_type": "stream",
          "name": "stderr",
          "text": [
            "Optimizing chunk 1:  55%|█████▍    | 6/11 [1:12:00<51:49, 621.84s/it]"
          ]
        },
        {
          "output_type": "stream",
          "name": "stdout",
          "text": [
            "[I 2025-05-01 10:19:48,909] Trial 13 finished with value: 0.05689811809561983 and parameters: {'lookback': 46, 'units': 227, 'dropout': 0.43051441265129065, 'batch_size': 32, 'epochs': 31}. Best is trial 2 with value: 0.043527686311451944.\n",
            "\u001b[1m5/5\u001b[0m \u001b[32m━━━━━━━━━━━━━━━━━━━━\u001b[0m\u001b[37m\u001b[0m \u001b[1m0s\u001b[0m 56ms/step\n"
          ]
        },
        {
          "output_type": "stream",
          "name": "stderr",
          "text": [
            "Optimizing chunk 1:  55%|█████▍    | 6/11 [1:12:17<51:49, 621.84s/it]"
          ]
        },
        {
          "output_type": "stream",
          "name": "stdout",
          "text": [
            "[I 2025-05-01 10:20:06,457] Trial 14 finished with value: 0.07721492324273788 and parameters: {'lookback': 26, 'units': 113, 'dropout': 0.11488901634444498, 'batch_size': 64, 'epochs': 26}. Best is trial 2 with value: 0.043527686311451944.\n",
            "\u001b[1m5/5\u001b[0m \u001b[32m━━━━━━━━━━━━━━━━━━━━\u001b[0m\u001b[37m\u001b[0m \u001b[1m1s\u001b[0m 84ms/step\n"
          ]
        },
        {
          "output_type": "stream",
          "name": "stderr",
          "text": [
            "Optimizing chunk 1:  55%|█████▍    | 6/11 [1:13:13<51:49, 621.84s/it]"
          ]
        },
        {
          "output_type": "stream",
          "name": "stdout",
          "text": [
            "[I 2025-05-01 10:21:01,622] Trial 15 finished with value: 0.04960586318346522 and parameters: {'lookback': 56, 'units': 224, 'dropout': 0.3347134572101302, 'batch_size': 32, 'epochs': 32}. Best is trial 2 with value: 0.043527686311451944.\n",
            "\u001b[1m5/5\u001b[0m \u001b[32m━━━━━━━━━━━━━━━━━━━━\u001b[0m\u001b[37m\u001b[0m \u001b[1m0s\u001b[0m 60ms/step\n"
          ]
        },
        {
          "output_type": "stream",
          "name": "stderr",
          "text": [
            "Optimizing chunk 1:  55%|█████▍    | 6/11 [1:13:48<51:49, 621.84s/it]"
          ]
        },
        {
          "output_type": "stream",
          "name": "stdout",
          "text": [
            "[I 2025-05-01 10:21:36,890] Trial 16 finished with value: 0.04732742484886144 and parameters: {'lookback': 26, 'units': 174, 'dropout': 0.3227544771544503, 'batch_size': 32, 'epochs': 28}. Best is trial 2 with value: 0.043527686311451944.\n",
            "\u001b[1m5/5\u001b[0m \u001b[32m━━━━━━━━━━━━━━━━━━━━\u001b[0m\u001b[37m\u001b[0m \u001b[1m1s\u001b[0m 115ms/step\n"
          ]
        },
        {
          "output_type": "stream",
          "name": "stderr",
          "text": [
            "Optimizing chunk 1:  55%|█████▍    | 6/11 [1:14:10<51:49, 621.84s/it]"
          ]
        },
        {
          "output_type": "stream",
          "name": "stdout",
          "text": [
            "[I 2025-05-01 10:21:59,129] Trial 17 finished with value: 0.06394865298186 and parameters: {'lookback': 46, 'units': 209, 'dropout': 0.2473181872708659, 'batch_size': 64, 'epochs': 32}. Best is trial 2 with value: 0.043527686311451944.\n",
            "\u001b[1m5/5\u001b[0m \u001b[32m━━━━━━━━━━━━━━━━━━━━\u001b[0m\u001b[37m\u001b[0m \u001b[1m0s\u001b[0m 64ms/step\n"
          ]
        },
        {
          "output_type": "stream",
          "name": "stderr",
          "text": [
            "Optimizing chunk 1:  55%|█████▍    | 6/11 [1:14:30<51:49, 621.84s/it]"
          ]
        },
        {
          "output_type": "stream",
          "name": "stdout",
          "text": [
            "[I 2025-05-01 10:22:18,570] Trial 18 finished with value: 0.05698949132030961 and parameters: {'lookback': 36, 'units': 161, 'dropout': 0.4613764098404748, 'batch_size': 32, 'epochs': 28}. Best is trial 2 with value: 0.043527686311451944.\n",
            "\u001b[1m5/5\u001b[0m \u001b[32m━━━━━━━━━━━━━━━━━━━━\u001b[0m\u001b[37m\u001b[0m \u001b[1m0s\u001b[0m 69ms/step\n"
          ]
        },
        {
          "output_type": "stream",
          "name": "stderr",
          "text": [
            "Optimizing chunk 1:  55%|█████▍    | 6/11 [1:14:55<51:49, 621.84s/it]"
          ]
        },
        {
          "output_type": "stream",
          "name": "stdout",
          "text": [
            "[I 2025-05-01 10:22:44,319] Trial 19 finished with value: 0.06025229057198624 and parameters: {'lookback': 21, 'units': 239, 'dropout': 0.424604637989631, 'batch_size': 64, 'epochs': 26}. Best is trial 2 with value: 0.043527686311451944.\n",
            "\u001b[1m5/5\u001b[0m \u001b[32m━━━━━━━━━━━━━━━━━━━━\u001b[0m\u001b[37m\u001b[0m \u001b[1m0s\u001b[0m 62ms/step\n"
          ]
        },
        {
          "output_type": "stream",
          "name": "stderr",
          "text": [
            "Optimizing chunk 1:  55%|█████▍    | 6/11 [1:15:17<51:49, 621.84s/it]"
          ]
        },
        {
          "output_type": "stream",
          "name": "stdout",
          "text": [
            "[I 2025-05-01 10:23:06,083] Trial 20 finished with value: 0.07307011386798175 and parameters: {'lookback': 51, 'units': 109, 'dropout': 0.3325122391455587, 'batch_size': 64, 'epochs': 30}. Best is trial 2 with value: 0.043527686311451944.\n",
            "\u001b[1m5/5\u001b[0m \u001b[32m━━━━━━━━━━━━━━━━━━━━\u001b[0m\u001b[37m\u001b[0m \u001b[1m0s\u001b[0m 64ms/step\n"
          ]
        },
        {
          "output_type": "stream",
          "name": "stderr",
          "text": [
            "Optimizing chunk 1:  55%|█████▍    | 6/11 [1:15:45<51:49, 621.84s/it]"
          ]
        },
        {
          "output_type": "stream",
          "name": "stdout",
          "text": [
            "[I 2025-05-01 10:23:34,254] Trial 21 finished with value: 0.04665285927173448 and parameters: {'lookback': 26, 'units': 187, 'dropout': 0.31862436082069695, 'batch_size': 32, 'epochs': 28}. Best is trial 2 with value: 0.043527686311451944.\n",
            "\u001b[1m5/5\u001b[0m \u001b[32m━━━━━━━━━━━━━━━━━━━━\u001b[0m\u001b[37m\u001b[0m \u001b[1m0s\u001b[0m 64ms/step\n"
          ]
        },
        {
          "output_type": "stream",
          "name": "stderr",
          "text": [
            "Optimizing chunk 1:  55%|█████▍    | 6/11 [1:16:08<51:49, 621.84s/it]"
          ]
        },
        {
          "output_type": "stream",
          "name": "stdout",
          "text": [
            "[I 2025-05-01 10:23:56,920] Trial 22 finished with value: 0.05486924617480926 and parameters: {'lookback': 31, 'units': 193, 'dropout': 0.25107037350104455, 'batch_size': 32, 'epochs': 27}. Best is trial 2 with value: 0.043527686311451944.\n",
            "\u001b[1m5/5\u001b[0m \u001b[32m━━━━━━━━━━━━━━━━━━━━\u001b[0m\u001b[37m\u001b[0m \u001b[1m0s\u001b[0m 62ms/step\n"
          ]
        },
        {
          "output_type": "stream",
          "name": "stderr",
          "text": [
            "Optimizing chunk 1:  55%|█████▍    | 6/11 [1:16:34<51:49, 621.84s/it]"
          ]
        },
        {
          "output_type": "stream",
          "name": "stdout",
          "text": [
            "[I 2025-05-01 10:24:23,452] Trial 23 finished with value: 0.05311088943421953 and parameters: {'lookback': 21, 'units': 154, 'dropout': 0.3143879246285155, 'batch_size': 32, 'epochs': 29}. Best is trial 2 with value: 0.043527686311451944.\n",
            "\u001b[1m5/5\u001b[0m \u001b[32m━━━━━━━━━━━━━━━━━━━━\u001b[0m\u001b[37m\u001b[0m \u001b[1m0s\u001b[0m 70ms/step\n"
          ]
        },
        {
          "output_type": "stream",
          "name": "stderr",
          "text": [
            "Optimizing chunk 1:  55%|█████▍    | 6/11 [1:17:10<51:49, 621.84s/it]"
          ]
        },
        {
          "output_type": "stream",
          "name": "stdout",
          "text": [
            "[I 2025-05-01 10:24:58,888] Trial 24 finished with value: 0.043788700863893734 and parameters: {'lookback': 36, 'units': 193, 'dropout': 0.35187292404927917, 'batch_size': 32, 'epochs': 25}. Best is trial 2 with value: 0.043527686311451944.\n",
            "\u001b[1m5/5\u001b[0m \u001b[32m━━━━━━━━━━━━━━━━━━━━\u001b[0m\u001b[37m\u001b[0m \u001b[1m1s\u001b[0m 95ms/step\n"
          ]
        },
        {
          "output_type": "stream",
          "name": "stderr",
          "text": [
            "Optimizing chunk 1:  55%|█████▍    | 6/11 [1:17:43<51:49, 621.84s/it]"
          ]
        },
        {
          "output_type": "stream",
          "name": "stdout",
          "text": [
            "[I 2025-05-01 10:25:31,799] Trial 25 finished with value: 0.05020536883274167 and parameters: {'lookback': 36, 'units': 204, 'dropout': 0.3573372315303373, 'batch_size': 32, 'epochs': 25}. Best is trial 2 with value: 0.043527686311451944.\n",
            "\u001b[1m5/5\u001b[0m \u001b[32m━━━━━━━━━━━━━━━━━━━━\u001b[0m\u001b[37m\u001b[0m \u001b[1m0s\u001b[0m 69ms/step\n"
          ]
        },
        {
          "output_type": "stream",
          "name": "stderr",
          "text": [
            "Optimizing chunk 1:  55%|█████▍    | 6/11 [1:18:13<51:49, 621.84s/it]"
          ]
        },
        {
          "output_type": "stream",
          "name": "stdout",
          "text": [
            "[I 2025-05-01 10:26:02,140] Trial 26 finished with value: 0.05427042166855645 and parameters: {'lookback': 41, 'units': 123, 'dropout': 0.4166834052260758, 'batch_size': 32, 'epochs': 20}. Best is trial 2 with value: 0.043527686311451944.\n",
            "\u001b[1m5/5\u001b[0m \u001b[32m━━━━━━━━━━━━━━━━━━━━\u001b[0m\u001b[37m\u001b[0m \u001b[1m1s\u001b[0m 85ms/step\n"
          ]
        },
        {
          "output_type": "stream",
          "name": "stderr",
          "text": [
            "Optimizing chunk 1:  55%|█████▍    | 6/11 [1:18:54<51:49, 621.84s/it]"
          ]
        },
        {
          "output_type": "stream",
          "name": "stdout",
          "text": [
            "[I 2025-05-01 10:26:43,283] Trial 27 finished with value: 0.055734040022508445 and parameters: {'lookback': 46, 'units': 234, 'dropout': 0.4070186797272092, 'batch_size': 32, 'epochs': 24}. Best is trial 2 with value: 0.043527686311451944.\n",
            "\u001b[1m5/5\u001b[0m \u001b[32m━━━━━━━━━━━━━━━━━━━━\u001b[0m\u001b[37m\u001b[0m \u001b[1m0s\u001b[0m 59ms/step\n"
          ]
        },
        {
          "output_type": "stream",
          "name": "stderr",
          "text": [
            "Optimizing chunk 1:  55%|█████▍    | 6/11 [1:19:11<51:49, 621.84s/it]"
          ]
        },
        {
          "output_type": "stream",
          "name": "stdout",
          "text": [
            "[I 2025-05-01 10:27:00,315] Trial 28 finished with value: 0.08101782849243447 and parameters: {'lookback': 51, 'units': 88, 'dropout': 0.3525819537226835, 'batch_size': 64, 'epochs': 26}. Best is trial 2 with value: 0.043527686311451944.\n",
            "\u001b[1m5/5\u001b[0m \u001b[32m━━━━━━━━━━━━━━━━━━━━\u001b[0m\u001b[37m\u001b[0m \u001b[1m0s\u001b[0m 64ms/step\n"
          ]
        },
        {
          "output_type": "stream",
          "name": "stderr",
          "text": [
            "Optimizing chunk 1:  64%|██████▎   | 7/11 [1:19:29<45:10, 677.52s/it][I 2025-05-01 10:27:18,452] A new study created in memory with name: no-name-e6736b36-22a5-4af8-8351-cef01e938bb3\n"
          ]
        },
        {
          "output_type": "stream",
          "name": "stdout",
          "text": [
            "[I 2025-05-01 10:27:18,419] Trial 29 finished with value: 0.07204568206911076 and parameters: {'lookback': 36, 'units': 159, 'dropout': 0.25127923682474634, 'batch_size': 64, 'epochs': 25}. Best is trial 2 with value: 0.043527686311451944.\n",
            "✅ Done: GFS.O — Best Params: {'lookback': 36, 'units': 183, 'dropout': 0.2881528989701108, 'batch_size': 32, 'epochs': 28}\n",
            "\n",
            "🔍 Optimizing for GOOG.O...\n"
          ]
        },
        {
          "output_type": "display_data",
          "data": {
            "text/plain": [
              "  0%|          | 0/30 [00:00<?, ?it/s]"
            ],
            "application/vnd.jupyter.widget-view+json": {
              "version_major": 2,
              "version_minor": 0,
              "model_id": "3e2d18398d3147e19c15005a9927458e"
            }
          },
          "metadata": {}
        },
        {
          "output_type": "stream",
          "name": "stdout",
          "text": [
            "\u001b[1m6/6\u001b[0m \u001b[32m━━━━━━━━━━━━━━━━━━━━\u001b[0m\u001b[37m\u001b[0m \u001b[1m0s\u001b[0m 49ms/step\n"
          ]
        },
        {
          "output_type": "stream",
          "name": "stderr",
          "text": [
            "Optimizing chunk 1:  64%|██████▎   | 7/11 [1:19:40<45:10, 677.52s/it]"
          ]
        },
        {
          "output_type": "stream",
          "name": "stdout",
          "text": [
            "[I 2025-05-01 10:27:28,668] Trial 0 finished with value: 0.05167290037154983 and parameters: {'lookback': 51, 'units': 68, 'dropout': 0.19174068377909934, 'batch_size': 64, 'epochs': 26}. Best is trial 0 with value: 0.05167290037154983.\n",
            "\u001b[1m7/7\u001b[0m \u001b[32m━━━━━━━━━━━━━━━━━━━━\u001b[0m\u001b[37m\u001b[0m \u001b[1m0s\u001b[0m 37ms/step\n"
          ]
        },
        {
          "output_type": "stream",
          "name": "stderr",
          "text": [
            "Optimizing chunk 1:  64%|██████▎   | 7/11 [1:19:50<45:10, 677.52s/it]"
          ]
        },
        {
          "output_type": "stream",
          "name": "stdout",
          "text": [
            "[I 2025-05-01 10:27:38,585] Trial 1 finished with value: 0.04612119515997495 and parameters: {'lookback': 21, 'units': 56, 'dropout': 0.16161620512454256, 'batch_size': 64, 'epochs': 20}. Best is trial 1 with value: 0.04612119515997495.\n",
            "\u001b[1m7/7\u001b[0m \u001b[32m━━━━━━━━━━━━━━━━━━━━\u001b[0m\u001b[37m\u001b[0m \u001b[1m1s\u001b[0m 90ms/step\n"
          ]
        },
        {
          "output_type": "stream",
          "name": "stderr",
          "text": [
            "Optimizing chunk 1:  64%|██████▎   | 7/11 [1:20:26<45:10, 677.52s/it]"
          ]
        },
        {
          "output_type": "stream",
          "name": "stdout",
          "text": [
            "[I 2025-05-01 10:28:14,691] Trial 2 finished with value: 0.04266864831991982 and parameters: {'lookback': 41, 'units': 193, 'dropout': 0.4185731966100814, 'batch_size': 32, 'epochs': 33}. Best is trial 2 with value: 0.04266864831991982.\n",
            "\u001b[1m7/7\u001b[0m \u001b[32m━━━━━━━━━━━━━━━━━━━━\u001b[0m\u001b[37m\u001b[0m \u001b[1m0s\u001b[0m 35ms/step\n"
          ]
        },
        {
          "output_type": "stream",
          "name": "stderr",
          "text": [
            "Optimizing chunk 1:  64%|██████▎   | 7/11 [1:20:40<45:10, 677.52s/it]"
          ]
        },
        {
          "output_type": "stream",
          "name": "stdout",
          "text": [
            "[I 2025-05-01 10:28:29,417] Trial 3 finished with value: 0.035910135896214196 and parameters: {'lookback': 6, 'units': 110, 'dropout': 0.10843456573161975, 'batch_size': 32, 'epochs': 28}. Best is trial 3 with value: 0.035910135896214196.\n",
            "\u001b[1m6/6\u001b[0m \u001b[32m━━━━━━━━━━━━━━━━━━━━\u001b[0m\u001b[37m\u001b[0m \u001b[1m1s\u001b[0m 81ms/step\n"
          ]
        },
        {
          "output_type": "stream",
          "name": "stderr",
          "text": [
            "Optimizing chunk 1:  64%|██████▎   | 7/11 [1:22:29<45:10, 677.52s/it]"
          ]
        },
        {
          "output_type": "stream",
          "name": "stdout",
          "text": [
            "[I 2025-05-01 10:30:18,564] Trial 4 finished with value: 0.03878796079882191 and parameters: {'lookback': 56, 'units': 254, 'dropout': 0.258274043895962, 'batch_size': 64, 'epochs': 29}. Best is trial 3 with value: 0.035910135896214196.\n",
            "\u001b[1m6/6\u001b[0m \u001b[32m━━━━━━━━━━━━━━━━━━━━\u001b[0m\u001b[37m\u001b[0m \u001b[1m1s\u001b[0m 75ms/step\n"
          ]
        },
        {
          "output_type": "stream",
          "name": "stderr",
          "text": [
            "Optimizing chunk 1:  64%|██████▎   | 7/11 [1:24:07<45:10, 677.52s/it]"
          ]
        },
        {
          "output_type": "stream",
          "name": "stdout",
          "text": [
            "[I 2025-05-01 10:31:56,052] Trial 5 finished with value: 0.037263821335180414 and parameters: {'lookback': 56, 'units': 206, 'dropout': 0.4556524505038687, 'batch_size': 32, 'epochs': 31}. Best is trial 3 with value: 0.035910135896214196.\n",
            "\u001b[1m6/6\u001b[0m \u001b[32m━━━━━━━━━━━━━━━━━━━━\u001b[0m\u001b[37m\u001b[0m \u001b[1m0s\u001b[0m 27ms/step\n"
          ]
        },
        {
          "output_type": "stream",
          "name": "stderr",
          "text": [
            "Optimizing chunk 1:  64%|██████▎   | 7/11 [1:25:02<45:10, 677.52s/it]"
          ]
        },
        {
          "output_type": "stream",
          "name": "stdout",
          "text": [
            "[I 2025-05-01 10:32:50,779] Trial 6 finished with value: 0.03900098244368361 and parameters: {'lookback': 46, 'units': 172, 'dropout': 0.3826880892736072, 'batch_size': 32, 'epochs': 26}. Best is trial 3 with value: 0.035910135896214196.\n",
            "\u001b[1m6/6\u001b[0m \u001b[32m━━━━━━━━━━━━━━━━━━━━\u001b[0m\u001b[37m\u001b[0m \u001b[1m1s\u001b[0m 93ms/step\n"
          ]
        },
        {
          "output_type": "stream",
          "name": "stderr",
          "text": [
            "Optimizing chunk 1:  64%|██████▎   | 7/11 [1:26:12<45:10, 677.52s/it]"
          ]
        },
        {
          "output_type": "stream",
          "name": "stdout",
          "text": [
            "[I 2025-05-01 10:34:01,116] Trial 7 finished with value: 0.04006385184063044 and parameters: {'lookback': 51, 'units': 221, 'dropout': 0.35629300393325736, 'batch_size': 32, 'epochs': 20}. Best is trial 3 with value: 0.035910135896214196.\n",
            "\u001b[1m7/7\u001b[0m \u001b[32m━━━━━━━━━━━━━━━━━━━━\u001b[0m\u001b[37m\u001b[0m \u001b[1m1s\u001b[0m 53ms/step\n"
          ]
        },
        {
          "output_type": "stream",
          "name": "stderr",
          "text": [
            "Optimizing chunk 1:  64%|██████▎   | 7/11 [1:26:54<45:10, 677.52s/it]"
          ]
        },
        {
          "output_type": "stream",
          "name": "stdout",
          "text": [
            "[I 2025-05-01 10:34:43,112] Trial 8 finished with value: 0.03953373489035049 and parameters: {'lookback': 26, 'units': 210, 'dropout': 0.264219033066326, 'batch_size': 64, 'epochs': 28}. Best is trial 3 with value: 0.035910135896214196.\n",
            "\u001b[1m7/7\u001b[0m \u001b[32m━━━━━━━━━━━━━━━━━━━━\u001b[0m\u001b[37m\u001b[0m \u001b[1m0s\u001b[0m 38ms/step\n"
          ]
        },
        {
          "output_type": "stream",
          "name": "stderr",
          "text": [
            "Optimizing chunk 1:  64%|██████▎   | 7/11 [1:27:04<45:10, 677.52s/it]"
          ]
        },
        {
          "output_type": "stream",
          "name": "stdout",
          "text": [
            "[I 2025-05-01 10:34:52,832] Trial 9 finished with value: 0.02734229425210607 and parameters: {'lookback': 1, 'units': 244, 'dropout': 0.33955383613873347, 'batch_size': 32, 'epochs': 27}. Best is trial 9 with value: 0.02734229425210607.\n",
            "\u001b[1m7/7\u001b[0m \u001b[32m━━━━━━━━━━━━━━━━━━━━\u001b[0m\u001b[37m\u001b[0m \u001b[1m0s\u001b[0m 35ms/step\n"
          ]
        },
        {
          "output_type": "stream",
          "name": "stderr",
          "text": [
            "Optimizing chunk 1:  64%|██████▎   | 7/11 [1:27:14<45:10, 677.52s/it]"
          ]
        },
        {
          "output_type": "stream",
          "name": "stdout",
          "text": [
            "[I 2025-05-01 10:35:03,379] Trial 10 finished with value: 0.027342916377135016 and parameters: {'lookback': 1, 'units': 134, 'dropout': 0.3310735476923476, 'batch_size': 32, 'epochs': 23}. Best is trial 9 with value: 0.02734229425210607.\n",
            "\u001b[1m7/7\u001b[0m \u001b[32m━━━━━━━━━━━━━━━━━━━━\u001b[0m\u001b[37m\u001b[0m \u001b[1m0s\u001b[0m 36ms/step\n"
          ]
        },
        {
          "output_type": "stream",
          "name": "stderr",
          "text": [
            "Optimizing chunk 1:  64%|██████▎   | 7/11 [1:27:22<45:10, 677.52s/it]"
          ]
        },
        {
          "output_type": "stream",
          "name": "stdout",
          "text": [
            "[I 2025-05-01 10:35:11,483] Trial 11 finished with value: 0.027949129513854733 and parameters: {'lookback': 1, 'units': 132, 'dropout': 0.32540806663315547, 'batch_size': 32, 'epochs': 23}. Best is trial 9 with value: 0.02734229425210607.\n",
            "\u001b[1m7/7\u001b[0m \u001b[32m━━━━━━━━━━━━━━━━━━━━\u001b[0m\u001b[37m\u001b[0m \u001b[1m0s\u001b[0m 37ms/step\n"
          ]
        },
        {
          "output_type": "stream",
          "name": "stderr",
          "text": [
            "Optimizing chunk 1:  64%|██████▎   | 7/11 [1:27:35<45:10, 677.52s/it]"
          ]
        },
        {
          "output_type": "stream",
          "name": "stdout",
          "text": [
            "[I 2025-05-01 10:35:23,815] Trial 12 finished with value: 0.04706136758420285 and parameters: {'lookback': 11, 'units': 103, 'dropout': 0.4848149277346081, 'batch_size': 32, 'epochs': 23}. Best is trial 9 with value: 0.02734229425210607.\n",
            "\u001b[1m7/7\u001b[0m \u001b[32m━━━━━━━━━━━━━━━━━━━━\u001b[0m\u001b[37m\u001b[0m \u001b[1m0s\u001b[0m 41ms/step\n"
          ]
        },
        {
          "output_type": "stream",
          "name": "stderr",
          "text": [
            "Optimizing chunk 1:  64%|██████▎   | 7/11 [1:27:56<45:10, 677.52s/it]"
          ]
        },
        {
          "output_type": "stream",
          "name": "stdout",
          "text": [
            "[I 2025-05-01 10:35:44,583] Trial 13 finished with value: 0.04357982039962861 and parameters: {'lookback': 16, 'units': 152, 'dropout': 0.28492738697756176, 'batch_size': 32, 'epochs': 24}. Best is trial 9 with value: 0.02734229425210607.\n",
            "\u001b[1m7/7\u001b[0m \u001b[32m━━━━━━━━━━━━━━━━━━━━\u001b[0m\u001b[37m\u001b[0m \u001b[1m0s\u001b[0m 36ms/step\n"
          ]
        },
        {
          "output_type": "stream",
          "name": "stderr",
          "text": [
            "Optimizing chunk 1:  64%|██████▎   | 7/11 [1:28:05<45:10, 677.52s/it]"
          ]
        },
        {
          "output_type": "stream",
          "name": "stdout",
          "text": [
            "[I 2025-05-01 10:35:54,170] Trial 14 finished with value: 0.027288608083881435 and parameters: {'lookback': 1, 'units': 242, 'dropout': 0.3935328962818216, 'batch_size': 32, 'epochs': 25}. Best is trial 14 with value: 0.027288608083881435.\n",
            "\u001b[1m7/7\u001b[0m \u001b[32m━━━━━━━━━━━━━━━━━━━━\u001b[0m\u001b[37m\u001b[0m \u001b[1m1s\u001b[0m 90ms/step\n"
          ]
        },
        {
          "output_type": "stream",
          "name": "stderr",
          "text": [
            "Optimizing chunk 1:  64%|██████▎   | 7/11 [1:28:40<45:10, 677.52s/it]"
          ]
        },
        {
          "output_type": "stream",
          "name": "stdout",
          "text": [
            "[I 2025-05-01 10:36:28,677] Trial 15 finished with value: 0.043474964219326014 and parameters: {'lookback': 36, 'units': 250, 'dropout': 0.4116732714964026, 'batch_size': 32, 'epochs': 30}. Best is trial 14 with value: 0.027288608083881435.\n",
            "\u001b[1m7/7\u001b[0m \u001b[32m━━━━━━━━━━━━━━━━━━━━\u001b[0m\u001b[37m\u001b[0m \u001b[1m0s\u001b[0m 41ms/step\n"
          ]
        },
        {
          "output_type": "stream",
          "name": "stderr",
          "text": [
            "Optimizing chunk 1:  64%|██████▎   | 7/11 [1:29:00<45:10, 677.52s/it]"
          ]
        },
        {
          "output_type": "stream",
          "name": "stdout",
          "text": [
            "[I 2025-05-01 10:36:49,453] Trial 16 finished with value: 0.041392190232800455 and parameters: {'lookback': 11, 'units': 233, 'dropout': 0.4012296325389486, 'batch_size': 32, 'epochs': 35}. Best is trial 14 with value: 0.027288608083881435.\n",
            "\u001b[1m7/7\u001b[0m \u001b[32m━━━━━━━━━━━━━━━━━━━━\u001b[0m\u001b[37m\u001b[0m \u001b[1m1s\u001b[0m 52ms/step\n"
          ]
        },
        {
          "output_type": "stream",
          "name": "stderr",
          "text": [
            "Optimizing chunk 1:  64%|██████▎   | 7/11 [1:29:24<45:10, 677.52s/it]"
          ]
        },
        {
          "output_type": "stream",
          "name": "stdout",
          "text": [
            "[I 2025-05-01 10:37:13,304] Trial 17 finished with value: 0.05125147476375222 and parameters: {'lookback': 31, 'units': 188, 'dropout': 0.21375859549333925, 'batch_size': 32, 'epochs': 26}. Best is trial 14 with value: 0.027288608083881435.\n",
            "\u001b[1m7/7\u001b[0m \u001b[32m━━━━━━━━━━━━━━━━━━━━\u001b[0m\u001b[37m\u001b[0m \u001b[1m0s\u001b[0m 39ms/step\n"
          ]
        },
        {
          "output_type": "stream",
          "name": "stderr",
          "text": [
            "Optimizing chunk 1:  64%|██████▎   | 7/11 [1:29:46<45:10, 677.52s/it]"
          ]
        },
        {
          "output_type": "stream",
          "name": "stdout",
          "text": [
            "[I 2025-05-01 10:37:34,586] Trial 18 finished with value: 0.0454156783324961 and parameters: {'lookback': 11, 'units': 230, 'dropout': 0.4544088313791216, 'batch_size': 64, 'epochs': 25}. Best is trial 14 with value: 0.027288608083881435.\n",
            "\u001b[1m7/7\u001b[0m \u001b[32m━━━━━━━━━━━━━━━━━━━━\u001b[0m\u001b[37m\u001b[0m \u001b[1m0s\u001b[0m 33ms/step\n"
          ]
        },
        {
          "output_type": "stream",
          "name": "stderr",
          "text": [
            "Optimizing chunk 1:  64%|██████▎   | 7/11 [1:29:53<45:10, 677.52s/it]"
          ]
        },
        {
          "output_type": "stream",
          "name": "stdout",
          "text": [
            "[I 2025-05-01 10:37:42,563] Trial 19 finished with value: 0.02747127469519198 and parameters: {'lookback': 1, 'units': 163, 'dropout': 0.36493141423025666, 'batch_size': 32, 'epochs': 32}. Best is trial 14 with value: 0.027288608083881435.\n",
            "\u001b[1m7/7\u001b[0m \u001b[32m━━━━━━━━━━━━━━━━━━━━\u001b[0m\u001b[37m\u001b[0m \u001b[1m0s\u001b[0m 48ms/step\n"
          ]
        },
        {
          "output_type": "stream",
          "name": "stderr",
          "text": [
            "Optimizing chunk 1:  64%|██████▎   | 7/11 [1:30:37<45:10, 677.52s/it]"
          ]
        },
        {
          "output_type": "stream",
          "name": "stdout",
          "text": [
            "[I 2025-05-01 10:38:25,756] Trial 20 finished with value: 0.035759988315526965 and parameters: {'lookback': 21, 'units': 253, 'dropout': 0.32331264323104336, 'batch_size': 32, 'epochs': 21}. Best is trial 14 with value: 0.027288608083881435.\n",
            "\u001b[1m7/7\u001b[0m \u001b[32m━━━━━━━━━━━━━━━━━━━━\u001b[0m\u001b[37m\u001b[0m \u001b[1m0s\u001b[0m 43ms/step\n"
          ]
        },
        {
          "output_type": "stream",
          "name": "stderr",
          "text": [
            "Optimizing chunk 1:  64%|██████▎   | 7/11 [1:30:45<45:10, 677.52s/it]"
          ]
        },
        {
          "output_type": "stream",
          "name": "stdout",
          "text": [
            "[I 2025-05-01 10:38:33,727] Trial 21 finished with value: 0.027503861463635433 and parameters: {'lookback': 1, 'units': 129, 'dropout': 0.3289660404287063, 'batch_size': 32, 'epochs': 22}. Best is trial 14 with value: 0.027288608083881435.\n",
            "\u001b[1m7/7\u001b[0m \u001b[32m━━━━━━━━━━━━━━━━━━━━\u001b[0m\u001b[37m\u001b[0m \u001b[1m0s\u001b[0m 39ms/step\n"
          ]
        },
        {
          "output_type": "stream",
          "name": "stderr",
          "text": [
            "Optimizing chunk 1:  64%|██████▎   | 7/11 [1:30:53<45:10, 677.52s/it]"
          ]
        },
        {
          "output_type": "stream",
          "name": "stdout",
          "text": [
            "[I 2025-05-01 10:38:41,931] Trial 22 finished with value: 0.03775643308699688 and parameters: {'lookback': 6, 'units': 91, 'dropout': 0.3021305757176255, 'batch_size': 32, 'epochs': 24}. Best is trial 14 with value: 0.027288608083881435.\n",
            "\u001b[1m7/7\u001b[0m \u001b[32m━━━━━━━━━━━━━━━━━━━━\u001b[0m\u001b[37m\u001b[0m \u001b[1m0s\u001b[0m 36ms/step\n"
          ]
        },
        {
          "output_type": "stream",
          "name": "stderr",
          "text": [
            "Optimizing chunk 1:  64%|██████▎   | 7/11 [1:31:06<45:10, 677.52s/it]"
          ]
        },
        {
          "output_type": "stream",
          "name": "stdout",
          "text": [
            "[I 2025-05-01 10:38:55,145] Trial 23 finished with value: 0.038249729851302275 and parameters: {'lookback': 6, 'units': 188, 'dropout': 0.3500749251341191, 'batch_size': 32, 'epochs': 27}. Best is trial 14 with value: 0.027288608083881435.\n",
            "\u001b[1m7/7\u001b[0m \u001b[32m━━━━━━━━━━━━━━━━━━━━\u001b[0m\u001b[37m\u001b[0m \u001b[1m0s\u001b[0m 42ms/step\n"
          ]
        },
        {
          "output_type": "stream",
          "name": "stderr",
          "text": [
            "Optimizing chunk 1:  64%|██████▎   | 7/11 [1:31:28<45:10, 677.52s/it]"
          ]
        },
        {
          "output_type": "stream",
          "name": "stdout",
          "text": [
            "[I 2025-05-01 10:39:17,340] Trial 24 finished with value: 0.03846678745426209 and parameters: {'lookback': 16, 'units': 137, 'dropout': 0.2292905716506567, 'batch_size': 32, 'epochs': 24}. Best is trial 14 with value: 0.027288608083881435.\n",
            "\u001b[1m7/7\u001b[0m \u001b[32m━━━━━━━━━━━━━━━━━━━━\u001b[0m\u001b[37m\u001b[0m \u001b[1m1s\u001b[0m 54ms/step\n"
          ]
        },
        {
          "output_type": "stream",
          "name": "stderr",
          "text": [
            "Optimizing chunk 1:  64%|██████▎   | 7/11 [1:31:37<45:10, 677.52s/it]"
          ]
        },
        {
          "output_type": "stream",
          "name": "stdout",
          "text": [
            "[I 2025-05-01 10:39:25,813] Trial 25 finished with value: 0.027533048430156484 and parameters: {'lookback': 1, 'units': 169, 'dropout': 0.4329322442543547, 'batch_size': 32, 'epochs': 22}. Best is trial 14 with value: 0.027288608083881435.\n",
            "\u001b[1m7/7\u001b[0m \u001b[32m━━━━━━━━━━━━━━━━━━━━\u001b[0m\u001b[37m\u001b[0m \u001b[1m1s\u001b[0m 41ms/step\n"
          ]
        },
        {
          "output_type": "stream",
          "name": "stderr",
          "text": [
            "Optimizing chunk 1:  64%|██████▎   | 7/11 [1:31:49<45:10, 677.52s/it]"
          ]
        },
        {
          "output_type": "stream",
          "name": "stdout",
          "text": [
            "[I 2025-05-01 10:39:38,380] Trial 26 finished with value: 0.039611258927367346 and parameters: {'lookback': 6, 'units': 239, 'dropout': 0.37982434339407534, 'batch_size': 64, 'epochs': 27}. Best is trial 14 with value: 0.027288608083881435.\n",
            "\u001b[1m7/7\u001b[0m \u001b[32m━━━━━━━━━━━━━━━━━━━━\u001b[0m\u001b[37m\u001b[0m \u001b[1m1s\u001b[0m 54ms/step\n"
          ]
        },
        {
          "output_type": "stream",
          "name": "stderr",
          "text": [
            "Optimizing chunk 1:  64%|██████▎   | 7/11 [1:32:01<45:10, 677.52s/it]"
          ]
        },
        {
          "output_type": "stream",
          "name": "stdout",
          "text": [
            "[I 2025-05-01 10:39:50,457] Trial 27 finished with value: 0.04272524101653541 and parameters: {'lookback': 16, 'units': 80, 'dropout': 0.2939392741688568, 'batch_size': 32, 'epochs': 25}. Best is trial 14 with value: 0.027288608083881435.\n",
            "\u001b[1m7/7\u001b[0m \u001b[32m━━━━━━━━━━━━━━━━━━━━\u001b[0m\u001b[37m\u001b[0m \u001b[1m0s\u001b[0m 35ms/step\n"
          ]
        },
        {
          "output_type": "stream",
          "name": "stderr",
          "text": [
            "Optimizing chunk 1:  64%|██████▎   | 7/11 [1:32:08<45:10, 677.52s/it]"
          ]
        },
        {
          "output_type": "stream",
          "name": "stdout",
          "text": [
            "[I 2025-05-01 10:39:57,165] Trial 28 finished with value: 0.047938214523061046 and parameters: {'lookback': 11, 'units': 32, 'dropout': 0.3325349159208589, 'batch_size': 32, 'epochs': 29}. Best is trial 14 with value: 0.027288608083881435.\n",
            "\u001b[1m7/7\u001b[0m \u001b[32m━━━━━━━━━━━━━━━━━━━━\u001b[0m\u001b[37m\u001b[0m \u001b[1m0s\u001b[0m 34ms/step\n"
          ]
        },
        {
          "output_type": "stream",
          "name": "stderr",
          "text": [
            "Optimizing chunk 1:  73%|███████▎  | 8/11 [1:32:17<35:18, 706.21s/it][I 2025-05-01 10:40:06,086] A new study created in memory with name: no-name-469a3b4e-4a98-4c98-b090-6c9faedc9717\n"
          ]
        },
        {
          "output_type": "stream",
          "name": "stdout",
          "text": [
            "[I 2025-05-01 10:40:06,050] Trial 29 finished with value: 0.027876184256250696 and parameters: {'lookback': 1, 'units': 120, 'dropout': 0.3861865991242026, 'batch_size': 64, 'epochs': 26}. Best is trial 14 with value: 0.027288608083881435.\n",
            "✅ Done: GOOG.O — Best Params: {'lookback': 1, 'units': 242, 'dropout': 0.3935328962818216, 'batch_size': 32, 'epochs': 25}\n",
            "\n",
            "🔍 Optimizing for GOOGL.O...\n"
          ]
        },
        {
          "output_type": "display_data",
          "data": {
            "text/plain": [
              "  0%|          | 0/30 [00:00<?, ?it/s]"
            ],
            "application/vnd.jupyter.widget-view+json": {
              "version_major": 2,
              "version_minor": 0,
              "model_id": "976ce56e5c874f9d943184ce1d06f377"
            }
          },
          "metadata": {}
        },
        {
          "output_type": "stream",
          "name": "stdout",
          "text": [
            "\u001b[1m7/7\u001b[0m \u001b[32m━━━━━━━━━━━━━━━━━━━━\u001b[0m\u001b[37m\u001b[0m \u001b[1m0s\u001b[0m 35ms/step\n"
          ]
        },
        {
          "output_type": "stream",
          "name": "stderr",
          "text": [
            "Optimizing chunk 1:  73%|███████▎  | 8/11 [1:32:35<35:18, 706.21s/it]"
          ]
        },
        {
          "output_type": "stream",
          "name": "stdout",
          "text": [
            "[I 2025-05-01 10:40:24,176] Trial 0 finished with value: 0.03760998314347915 and parameters: {'lookback': 21, 'units': 48, 'dropout': 0.11008106961132956, 'batch_size': 32, 'epochs': 31}. Best is trial 0 with value: 0.03760998314347915.\n",
            "\u001b[1m7/7\u001b[0m \u001b[32m━━━━━━━━━━━━━━━━━━━━\u001b[0m\u001b[37m\u001b[0m \u001b[1m1s\u001b[0m 65ms/step\n"
          ]
        },
        {
          "output_type": "stream",
          "name": "stderr",
          "text": [
            "Optimizing chunk 1:  73%|███████▎  | 8/11 [1:32:51<35:18, 706.21s/it]"
          ]
        },
        {
          "output_type": "stream",
          "name": "stdout",
          "text": [
            "[I 2025-05-01 10:40:39,952] Trial 1 finished with value: 0.04719545794412784 and parameters: {'lookback': 41, 'units': 87, 'dropout': 0.495141195990366, 'batch_size': 32, 'epochs': 31}. Best is trial 0 with value: 0.03760998314347915.\n",
            "\u001b[1m7/7\u001b[0m \u001b[32m━━━━━━━━━━━━━━━━━━━━\u001b[0m\u001b[37m\u001b[0m \u001b[1m0s\u001b[0m 34ms/step\n"
          ]
        },
        {
          "output_type": "stream",
          "name": "stderr",
          "text": [
            "Optimizing chunk 1:  73%|███████▎  | 8/11 [1:32:58<35:18, 706.21s/it]"
          ]
        },
        {
          "output_type": "stream",
          "name": "stdout",
          "text": [
            "[I 2025-05-01 10:40:46,897] Trial 2 finished with value: 0.0688621533298904 and parameters: {'lookback': 21, 'units': 38, 'dropout': 0.4259648736463282, 'batch_size': 64, 'epochs': 28}. Best is trial 0 with value: 0.03760998314347915.\n",
            "\u001b[1m7/7\u001b[0m \u001b[32m━━━━━━━━━━━━━━━━━━━━\u001b[0m\u001b[37m\u001b[0m \u001b[1m0s\u001b[0m 35ms/step\n"
          ]
        },
        {
          "output_type": "stream",
          "name": "stderr",
          "text": [
            "Optimizing chunk 1:  73%|███████▎  | 8/11 [1:33:09<35:18, 706.21s/it]"
          ]
        },
        {
          "output_type": "stream",
          "name": "stdout",
          "text": [
            "[I 2025-05-01 10:40:58,120] Trial 3 finished with value: 0.049310330869073646 and parameters: {'lookback': 21, 'units': 85, 'dropout': 0.31766827864546787, 'batch_size': 64, 'epochs': 29}. Best is trial 0 with value: 0.03760998314347915.\n",
            "\u001b[1m6/6\u001b[0m \u001b[32m━━━━━━━━━━━━━━━━━━━━\u001b[0m\u001b[37m\u001b[0m \u001b[1m0s\u001b[0m 38ms/step\n"
          ]
        },
        {
          "output_type": "stream",
          "name": "stderr",
          "text": [
            "Optimizing chunk 1:  73%|███████▎  | 8/11 [1:34:10<35:18, 706.21s/it]"
          ]
        },
        {
          "output_type": "stream",
          "name": "stdout",
          "text": [
            "[I 2025-05-01 10:41:59,424] Trial 4 finished with value: 0.041170072251608986 and parameters: {'lookback': 46, 'units': 233, 'dropout': 0.3605422474551522, 'batch_size': 64, 'epochs': 21}. Best is trial 0 with value: 0.03760998314347915.\n",
            "\u001b[1m6/6\u001b[0m \u001b[32m━━━━━━━━━━━━━━━━━━━━\u001b[0m\u001b[37m\u001b[0m \u001b[1m0s\u001b[0m 40ms/step\n"
          ]
        },
        {
          "output_type": "stream",
          "name": "stderr",
          "text": [
            "Optimizing chunk 1:  73%|███████▎  | 8/11 [1:35:32<35:18, 706.21s/it]"
          ]
        },
        {
          "output_type": "stream",
          "name": "stdout",
          "text": [
            "[I 2025-05-01 10:43:20,723] Trial 5 finished with value: 0.03849679048073559 and parameters: {'lookback': 46, 'units': 233, 'dropout': 0.2577328865836233, 'batch_size': 64, 'epochs': 35}. Best is trial 0 with value: 0.03760998314347915.\n",
            "\u001b[1m7/7\u001b[0m \u001b[32m━━━━━━━━━━━━━━━━━━━━\u001b[0m\u001b[37m\u001b[0m \u001b[1m0s\u001b[0m 42ms/step\n"
          ]
        },
        {
          "output_type": "stream",
          "name": "stderr",
          "text": [
            "Optimizing chunk 1:  73%|███████▎  | 8/11 [1:35:52<35:18, 706.21s/it]"
          ]
        },
        {
          "output_type": "stream",
          "name": "stdout",
          "text": [
            "[I 2025-05-01 10:43:41,167] Trial 6 finished with value: 0.04151499115662423 and parameters: {'lookback': 41, 'units': 65, 'dropout': 0.2214150152203752, 'batch_size': 32, 'epochs': 34}. Best is trial 0 with value: 0.03760998314347915.\n",
            "\u001b[1m7/7\u001b[0m \u001b[32m━━━━━━━━━━━━━━━━━━━━\u001b[0m\u001b[37m\u001b[0m \u001b[1m0s\u001b[0m 40ms/step\n"
          ]
        },
        {
          "output_type": "stream",
          "name": "stderr",
          "text": [
            "Optimizing chunk 1:  73%|███████▎  | 8/11 [1:36:06<35:18, 706.21s/it]"
          ]
        },
        {
          "output_type": "stream",
          "name": "stdout",
          "text": [
            "[I 2025-05-01 10:43:55,222] Trial 7 finished with value: 0.04759202954040992 and parameters: {'lookback': 26, 'units': 83, 'dropout': 0.390680532753642, 'batch_size': 64, 'epochs': 30}. Best is trial 0 with value: 0.03760998314347915.\n",
            "\u001b[1m7/7\u001b[0m \u001b[32m━━━━━━━━━━━━━━━━━━━━\u001b[0m\u001b[37m\u001b[0m \u001b[1m1s\u001b[0m 67ms/step\n"
          ]
        },
        {
          "output_type": "stream",
          "name": "stderr",
          "text": [
            "Optimizing chunk 1:  73%|███████▎  | 8/11 [1:36:37<35:18, 706.21s/it]"
          ]
        },
        {
          "output_type": "stream",
          "name": "stdout",
          "text": [
            "[I 2025-05-01 10:44:26,328] Trial 8 finished with value: 0.039064989259573905 and parameters: {'lookback': 26, 'units': 147, 'dropout': 0.3738729776844034, 'batch_size': 32, 'epochs': 30}. Best is trial 0 with value: 0.03760998314347915.\n",
            "\u001b[1m7/7\u001b[0m \u001b[32m━━━━━━━━━━━━━━━━━━━━\u001b[0m\u001b[37m\u001b[0m \u001b[1m0s\u001b[0m 39ms/step\n"
          ]
        },
        {
          "output_type": "stream",
          "name": "stderr",
          "text": [
            "Optimizing chunk 1:  73%|███████▎  | 8/11 [1:36:53<35:18, 706.21s/it]"
          ]
        },
        {
          "output_type": "stream",
          "name": "stdout",
          "text": [
            "[I 2025-05-01 10:44:41,676] Trial 9 finished with value: 0.03924592545440678 and parameters: {'lookback': 6, 'units': 203, 'dropout': 0.15737773483076786, 'batch_size': 64, 'epochs': 31}. Best is trial 0 with value: 0.03760998314347915.\n",
            "\u001b[1m7/7\u001b[0m \u001b[32m━━━━━━━━━━━━━━━━━━━━\u001b[0m\u001b[37m\u001b[0m \u001b[1m0s\u001b[0m 34ms/step\n"
          ]
        },
        {
          "output_type": "stream",
          "name": "stderr",
          "text": [
            "Optimizing chunk 1:  73%|███████▎  | 8/11 [1:37:08<35:18, 706.21s/it]"
          ]
        },
        {
          "output_type": "stream",
          "name": "stdout",
          "text": [
            "[I 2025-05-01 10:44:57,453] Trial 10 finished with value: 0.03644137525126752 and parameters: {'lookback': 6, 'units': 140, 'dropout': 0.10668651618687235, 'batch_size': 32, 'epochs': 23}. Best is trial 10 with value: 0.03644137525126752.\n",
            "\u001b[1m7/7\u001b[0m \u001b[32m━━━━━━━━━━━━━━━━━━━━\u001b[0m\u001b[37m\u001b[0m \u001b[1m0s\u001b[0m 34ms/step\n"
          ]
        },
        {
          "output_type": "stream",
          "name": "stderr",
          "text": [
            "Optimizing chunk 1:  73%|███████▎  | 8/11 [1:37:17<35:18, 706.21s/it]"
          ]
        },
        {
          "output_type": "stream",
          "name": "stdout",
          "text": [
            "[I 2025-05-01 10:45:05,905] Trial 11 finished with value: 0.027896923603507158 and parameters: {'lookback': 1, 'units': 143, 'dropout': 0.10113295910917629, 'batch_size': 32, 'epochs': 23}. Best is trial 11 with value: 0.027896923603507158.\n",
            "\u001b[1m7/7\u001b[0m \u001b[32m━━━━━━━━━━━━━━━━━━━━\u001b[0m\u001b[37m\u001b[0m \u001b[1m0s\u001b[0m 34ms/step\n"
          ]
        },
        {
          "output_type": "stream",
          "name": "stderr",
          "text": [
            "Optimizing chunk 1:  73%|███████▎  | 8/11 [1:37:24<35:18, 706.21s/it]"
          ]
        },
        {
          "output_type": "stream",
          "name": "stdout",
          "text": [
            "[I 2025-05-01 10:45:12,800] Trial 12 finished with value: 0.02787120897296459 and parameters: {'lookback': 1, 'units': 142, 'dropout': 0.10123765843412169, 'batch_size': 32, 'epochs': 23}. Best is trial 12 with value: 0.02787120897296459.\n",
            "\u001b[1m7/7\u001b[0m \u001b[32m━━━━━━━━━━━━━━━━━━━━\u001b[0m\u001b[37m\u001b[0m \u001b[1m0s\u001b[0m 33ms/step\n"
          ]
        },
        {
          "output_type": "stream",
          "name": "stderr",
          "text": [
            "Optimizing chunk 1:  73%|███████▎  | 8/11 [1:37:32<35:18, 706.21s/it]"
          ]
        },
        {
          "output_type": "stream",
          "name": "stdout",
          "text": [
            "[I 2025-05-01 10:45:21,471] Trial 13 finished with value: 0.028253776430095825 and parameters: {'lookback': 1, 'units': 140, 'dropout': 0.18267596290256613, 'batch_size': 32, 'epochs': 25}. Best is trial 12 with value: 0.02787120897296459.\n",
            "\u001b[1m7/7\u001b[0m \u001b[32m━━━━━━━━━━━━━━━━━━━━\u001b[0m\u001b[37m\u001b[0m \u001b[1m0s\u001b[0m 38ms/step\n"
          ]
        },
        {
          "output_type": "stream",
          "name": "stderr",
          "text": [
            "Optimizing chunk 1:  73%|███████▎  | 8/11 [1:37:56<35:18, 706.21s/it]"
          ]
        },
        {
          "output_type": "stream",
          "name": "stdout",
          "text": [
            "[I 2025-05-01 10:45:45,501] Trial 14 finished with value: 0.03768987743625185 and parameters: {'lookback': 11, 'units': 177, 'dropout': 0.16469273104365378, 'batch_size': 32, 'epochs': 25}. Best is trial 12 with value: 0.02787120897296459.\n",
            "\u001b[1m7/7\u001b[0m \u001b[32m━━━━━━━━━━━━━━━━━━━━\u001b[0m\u001b[37m\u001b[0m \u001b[1m0s\u001b[0m 38ms/step\n"
          ]
        },
        {
          "output_type": "stream",
          "name": "stderr",
          "text": [
            "Optimizing chunk 1:  73%|███████▎  | 8/11 [1:38:07<35:18, 706.21s/it]"
          ]
        },
        {
          "output_type": "stream",
          "name": "stdout",
          "text": [
            "[I 2025-05-01 10:45:55,937] Trial 15 finished with value: 0.04323709184986895 and parameters: {'lookback': 11, 'units': 120, 'dropout': 0.2536248094151926, 'batch_size': 32, 'epochs': 20}. Best is trial 12 with value: 0.02787120897296459.\n",
            "\u001b[1m6/6\u001b[0m \u001b[32m━━━━━━━━━━━━━━━━━━━━\u001b[0m\u001b[37m\u001b[0m \u001b[1m1s\u001b[0m 113ms/step\n"
          ]
        },
        {
          "output_type": "stream",
          "name": "stderr",
          "text": [
            "Optimizing chunk 1:  73%|███████▎  | 8/11 [1:39:20<35:18, 706.21s/it]"
          ]
        },
        {
          "output_type": "stream",
          "name": "stdout",
          "text": [
            "[I 2025-05-01 10:47:08,915] Trial 16 finished with value: 0.0360419768661279 and parameters: {'lookback': 56, 'units': 180, 'dropout': 0.10000600633997483, 'batch_size': 32, 'epochs': 25}. Best is trial 12 with value: 0.02787120897296459.\n",
            "\u001b[1m7/7\u001b[0m \u001b[32m━━━━━━━━━━━━━━━━━━━━\u001b[0m\u001b[37m\u001b[0m \u001b[1m0s\u001b[0m 33ms/step\n"
          ]
        },
        {
          "output_type": "stream",
          "name": "stderr",
          "text": [
            "Optimizing chunk 1:  73%|███████▎  | 8/11 [1:39:29<35:18, 706.21s/it]"
          ]
        },
        {
          "output_type": "stream",
          "name": "stdout",
          "text": [
            "[I 2025-05-01 10:47:17,704] Trial 17 finished with value: 0.02804463623159628 and parameters: {'lookback': 1, 'units': 121, 'dropout': 0.18601759639274712, 'batch_size': 32, 'epochs': 22}. Best is trial 12 with value: 0.02787120897296459.\n",
            "\u001b[1m7/7\u001b[0m \u001b[32m━━━━━━━━━━━━━━━━━━━━\u001b[0m\u001b[37m\u001b[0m \u001b[1m0s\u001b[0m 42ms/step\n"
          ]
        },
        {
          "output_type": "stream",
          "name": "stderr",
          "text": [
            "Optimizing chunk 1:  73%|███████▎  | 8/11 [1:40:00<35:18, 706.21s/it]"
          ]
        },
        {
          "output_type": "stream",
          "name": "stdout",
          "text": [
            "[I 2025-05-01 10:47:49,410] Trial 18 finished with value: 0.038613119187748936 and parameters: {'lookback': 11, 'units': 173, 'dropout': 0.14183175314956856, 'batch_size': 32, 'epochs': 23}. Best is trial 12 with value: 0.02787120897296459.\n",
            "\u001b[1m7/7\u001b[0m \u001b[32m━━━━━━━━━━━━━━━━━━━━\u001b[0m\u001b[37m\u001b[0m \u001b[1m1s\u001b[0m 61ms/step\n"
          ]
        },
        {
          "output_type": "stream",
          "name": "stderr",
          "text": [
            "Optimizing chunk 1:  73%|███████▎  | 8/11 [1:40:11<35:18, 706.21s/it]"
          ]
        },
        {
          "output_type": "stream",
          "name": "stdout",
          "text": [
            "[I 2025-05-01 10:47:59,803] Trial 19 finished with value: 0.048028272691753644 and parameters: {'lookback': 16, 'units': 108, 'dropout': 0.2322638814660093, 'batch_size': 32, 'epochs': 26}. Best is trial 12 with value: 0.02787120897296459.\n",
            "\u001b[1m7/7\u001b[0m \u001b[32m━━━━━━━━━━━━━━━━━━━━\u001b[0m\u001b[37m\u001b[0m \u001b[1m0s\u001b[0m 38ms/step\n"
          ]
        },
        {
          "output_type": "stream",
          "name": "stderr",
          "text": [
            "Optimizing chunk 1:  73%|███████▎  | 8/11 [1:40:18<35:18, 706.21s/it]"
          ]
        },
        {
          "output_type": "stream",
          "name": "stdout",
          "text": [
            "[I 2025-05-01 10:48:07,262] Trial 20 finished with value: 0.027813100033972093 and parameters: {'lookback': 1, 'units': 197, 'dropout': 0.2970063577046509, 'batch_size': 32, 'epochs': 23}. Best is trial 20 with value: 0.027813100033972093.\n",
            "\u001b[1m7/7\u001b[0m \u001b[32m━━━━━━━━━━━━━━━━━━━━\u001b[0m\u001b[37m\u001b[0m \u001b[1m0s\u001b[0m 42ms/step\n"
          ]
        },
        {
          "output_type": "stream",
          "name": "stderr",
          "text": []
        },
        {
          "output_type": "stream",
          "name": "stdout",
          "text": [
            "[I 2025-05-01 10:48:16,390] Trial 21 finished with value: 0.02741969871631912 and parameters: {'lookback': 1, 'units': 201, 'dropout': 0.3103035857298209, 'batch_size': 32, 'epochs': 23}. Best is trial 21 with value: 0.02741969871631912."
          ]
        },
        {
          "output_type": "stream",
          "name": "stderr",
          "text": [
            "\rOptimizing chunk 1:  73%|███████▎  | 8/11 [1:40:27<35:18, 706.21s/it]"
          ]
        },
        {
          "output_type": "stream",
          "name": "stdout",
          "text": [
            "\n",
            "\u001b[1m7/7\u001b[0m \u001b[32m━━━━━━━━━━━━━━━━━━━━\u001b[0m\u001b[37m\u001b[0m \u001b[1m0s\u001b[0m 41ms/step\n"
          ]
        },
        {
          "output_type": "stream",
          "name": "stderr",
          "text": [
            "Optimizing chunk 1:  73%|███████▎  | 8/11 [1:40:42<35:18, 706.21s/it]"
          ]
        },
        {
          "output_type": "stream",
          "name": "stdout",
          "text": [
            "[I 2025-05-01 10:48:31,497] Trial 22 finished with value: 0.03946757783464941 and parameters: {'lookback': 6, 'units': 208, 'dropout': 0.30690193172872027, 'batch_size': 32, 'epochs': 20}. Best is trial 21 with value: 0.02741969871631912.\n",
            "\u001b[1m7/7\u001b[0m \u001b[32m━━━━━━━━━━━━━━━━━━━━\u001b[0m\u001b[37m\u001b[0m \u001b[1m0s\u001b[0m 37ms/step\n"
          ]
        },
        {
          "output_type": "stream",
          "name": "stderr",
          "text": [
            "Optimizing chunk 1:  73%|███████▎  | 8/11 [1:40:52<35:18, 706.21s/it]"
          ]
        },
        {
          "output_type": "stream",
          "name": "stdout",
          "text": [
            "[I 2025-05-01 10:48:41,556] Trial 23 finished with value: 0.027560709007261562 and parameters: {'lookback': 1, 'units': 255, 'dropout': 0.33297477989241125, 'batch_size': 32, 'epochs': 27}. Best is trial 21 with value: 0.02741969871631912.\n",
            "\u001b[1m7/7\u001b[0m \u001b[32m━━━━━━━━━━━━━━━━━━━━\u001b[0m\u001b[37m\u001b[0m \u001b[1m0s\u001b[0m 48ms/step\n"
          ]
        },
        {
          "output_type": "stream",
          "name": "stderr",
          "text": [
            "Optimizing chunk 1:  73%|███████▎  | 8/11 [1:41:29<35:18, 706.21s/it]"
          ]
        },
        {
          "output_type": "stream",
          "name": "stdout",
          "text": [
            "[I 2025-05-01 10:49:17,656] Trial 24 finished with value: 0.0383347043159649 and parameters: {'lookback': 16, 'units': 255, 'dropout': 0.3353463096613731, 'batch_size': 32, 'epochs': 26}. Best is trial 21 with value: 0.02741969871631912.\n",
            "\u001b[1m7/7\u001b[0m \u001b[32m━━━━━━━━━━━━━━━━━━━━\u001b[0m\u001b[37m\u001b[0m \u001b[1m0s\u001b[0m 40ms/step\n"
          ]
        },
        {
          "output_type": "stream",
          "name": "stderr",
          "text": [
            "Optimizing chunk 1:  73%|███████▎  | 8/11 [1:41:43<35:18, 706.21s/it]"
          ]
        },
        {
          "output_type": "stream",
          "name": "stdout",
          "text": [
            "[I 2025-05-01 10:49:32,129] Trial 25 finished with value: 0.03739274813635373 and parameters: {'lookback': 6, 'units': 205, 'dropout': 0.2797995098753778, 'batch_size': 32, 'epochs': 27}. Best is trial 21 with value: 0.02741969871631912.\n",
            "\u001b[1m7/7\u001b[0m \u001b[32m━━━━━━━━━━━━━━━━━━━━\u001b[0m\u001b[37m\u001b[0m \u001b[1m1s\u001b[0m 62ms/step\n"
          ]
        },
        {
          "output_type": "stream",
          "name": "stderr",
          "text": [
            "Optimizing chunk 1:  73%|███████▎  | 8/11 [1:42:42<35:18, 706.21s/it]"
          ]
        },
        {
          "output_type": "stream",
          "name": "stdout",
          "text": [
            "[I 2025-05-01 10:50:30,809] Trial 26 finished with value: 0.03964993807759058 and parameters: {'lookback': 31, 'units': 256, 'dropout': 0.41959985117188514, 'batch_size': 32, 'epochs': 24}. Best is trial 21 with value: 0.02741969871631912.\n",
            "\u001b[1m7/7\u001b[0m \u001b[32m━━━━━━━━━━━━━━━━━━━━\u001b[0m\u001b[37m\u001b[0m \u001b[1m0s\u001b[0m 41ms/step\n"
          ]
        },
        {
          "output_type": "stream",
          "name": "stderr",
          "text": [
            "Optimizing chunk 1:  73%|███████▎  | 8/11 [1:43:00<35:18, 706.21s/it]"
          ]
        },
        {
          "output_type": "stream",
          "name": "stdout",
          "text": [
            "[I 2025-05-01 10:50:49,421] Trial 27 finished with value: 0.04058536016372361 and parameters: {'lookback': 11, 'units': 227, 'dropout': 0.28072209094053513, 'batch_size': 32, 'epochs': 21}. Best is trial 21 with value: 0.02741969871631912.\n",
            "\u001b[1m7/7\u001b[0m \u001b[32m━━━━━━━━━━━━━━━━━━━━\u001b[0m\u001b[37m\u001b[0m \u001b[1m0s\u001b[0m 36ms/step\n"
          ]
        },
        {
          "output_type": "stream",
          "name": "stderr",
          "text": [
            "Optimizing chunk 1:  73%|███████▎  | 8/11 [1:43:09<35:18, 706.21s/it]"
          ]
        },
        {
          "output_type": "stream",
          "name": "stdout",
          "text": [
            "[I 2025-05-01 10:50:58,042] Trial 28 finished with value: 0.027955274910243647 and parameters: {'lookback': 1, 'units': 189, 'dropout': 0.329809914189681, 'batch_size': 32, 'epochs': 27}. Best is trial 21 with value: 0.02741969871631912.\n",
            "\u001b[1m7/7\u001b[0m \u001b[32m━━━━━━━━━━━━━━━━━━━━\u001b[0m\u001b[37m\u001b[0m \u001b[1m1s\u001b[0m 50ms/step\n"
          ]
        },
        {
          "output_type": "stream",
          "name": "stderr",
          "text": [
            "Optimizing chunk 1:  82%|████████▏ | 9/11 [1:43:43<23:19, 699.85s/it][I 2025-05-01 10:51:31,959] A new study created in memory with name: no-name-2e698717-e790-470b-88d8-796904917671\n"
          ]
        },
        {
          "output_type": "stream",
          "name": "stdout",
          "text": [
            "[I 2025-05-01 10:51:31,935] Trial 29 finished with value: 0.03900914494235456 and parameters: {'lookback': 16, 'units': 219, 'dropout': 0.3553220080813981, 'batch_size': 32, 'epochs': 22}. Best is trial 21 with value: 0.02741969871631912.\n",
            "✅ Done: GOOGL.O — Best Params: {'lookback': 1, 'units': 201, 'dropout': 0.3103035857298209, 'batch_size': 32, 'epochs': 23}\n",
            "\n",
            "🔍 Optimizing for INTC.O...\n"
          ]
        },
        {
          "output_type": "display_data",
          "data": {
            "text/plain": [
              "  0%|          | 0/30 [00:00<?, ?it/s]"
            ],
            "application/vnd.jupyter.widget-view+json": {
              "version_major": 2,
              "version_minor": 0,
              "model_id": "66cefe0ada1c411db7e33d6e5b3d3e29"
            }
          },
          "metadata": {}
        },
        {
          "output_type": "stream",
          "name": "stdout",
          "text": [
            "\u001b[1m7/7\u001b[0m \u001b[32m━━━━━━━━━━━━━━━━━━━━\u001b[0m\u001b[37m\u001b[0m \u001b[1m0s\u001b[0m 40ms/step\n"
          ]
        },
        {
          "output_type": "stream",
          "name": "stderr",
          "text": [
            "Optimizing chunk 1:  82%|████████▏ | 9/11 [1:43:52<23:19, 699.85s/it]"
          ]
        },
        {
          "output_type": "stream",
          "name": "stdout",
          "text": [
            "[I 2025-05-01 10:51:41,022] Trial 0 finished with value: 0.03849629071052229 and parameters: {'lookback': 21, 'units': 37, 'dropout': 0.2760541709228142, 'batch_size': 32, 'epochs': 28}. Best is trial 0 with value: 0.03849629071052229.\n",
            "\u001b[1m7/7\u001b[0m \u001b[32m━━━━━━━━━━━━━━━━━━━━\u001b[0m\u001b[37m\u001b[0m \u001b[1m0s\u001b[0m 44ms/step\n"
          ]
        },
        {
          "output_type": "stream",
          "name": "stderr",
          "text": [
            "Optimizing chunk 1:  82%|████████▏ | 9/11 [1:44:03<23:19, 699.85s/it]"
          ]
        },
        {
          "output_type": "stream",
          "name": "stdout",
          "text": [
            "[I 2025-05-01 10:51:52,532] Trial 1 finished with value: 0.044173822583737476 and parameters: {'lookback': 26, 'units': 125, 'dropout': 0.11724894605905295, 'batch_size': 64, 'epochs': 29}. Best is trial 0 with value: 0.03849629071052229.\n",
            "\u001b[1m7/7\u001b[0m \u001b[32m━━━━━━━━━━━━━━━━━━━━\u001b[0m\u001b[37m\u001b[0m \u001b[1m0s\u001b[0m 36ms/step\n"
          ]
        },
        {
          "output_type": "stream",
          "name": "stderr",
          "text": [
            "Optimizing chunk 1:  82%|████████▏ | 9/11 [1:44:13<23:19, 699.85s/it]"
          ]
        },
        {
          "output_type": "stream",
          "name": "stdout",
          "text": [
            "[I 2025-05-01 10:52:02,522] Trial 2 finished with value: 0.03246322973738527 and parameters: {'lookback': 6, 'units': 81, 'dropout': 0.3360129071214828, 'batch_size': 32, 'epochs': 33}. Best is trial 2 with value: 0.03246322973738527.\n",
            "\u001b[1m7/7\u001b[0m \u001b[32m━━━━━━━━━━━━━━━━━━━━\u001b[0m\u001b[37m\u001b[0m \u001b[1m1s\u001b[0m 84ms/step\n"
          ]
        },
        {
          "output_type": "stream",
          "name": "stderr",
          "text": [
            "Optimizing chunk 1:  82%|████████▏ | 9/11 [1:44:30<23:19, 699.85s/it]"
          ]
        },
        {
          "output_type": "stream",
          "name": "stdout",
          "text": [
            "[I 2025-05-01 10:52:19,546] Trial 3 finished with value: 0.04306200787752499 and parameters: {'lookback': 26, 'units': 254, 'dropout': 0.25719208954539996, 'batch_size': 32, 'epochs': 29}. Best is trial 2 with value: 0.03246322973738527.\n",
            "\u001b[1m6/6\u001b[0m \u001b[32m━━━━━━━━━━━━━━━━━━━━\u001b[0m\u001b[37m\u001b[0m \u001b[1m0s\u001b[0m 47ms/step\n"
          ]
        },
        {
          "output_type": "stream",
          "name": "stderr",
          "text": [
            "Optimizing chunk 1:  82%|████████▏ | 9/11 [1:45:02<23:19, 699.85s/it]"
          ]
        },
        {
          "output_type": "stream",
          "name": "stdout",
          "text": [
            "[I 2025-05-01 10:52:50,886] Trial 4 finished with value: 0.031148998917510027 and parameters: {'lookback': 51, 'units': 69, 'dropout': 0.14414083725768673, 'batch_size': 32, 'epochs': 34}. Best is trial 4 with value: 0.031148998917510027.\n",
            "\u001b[1m7/7\u001b[0m \u001b[32m━━━━━━━━━━━━━━━━━━━━\u001b[0m\u001b[37m\u001b[0m \u001b[1m1s\u001b[0m 49ms/step\n"
          ]
        },
        {
          "output_type": "stream",
          "name": "stderr",
          "text": [
            "Optimizing chunk 1:  82%|████████▏ | 9/11 [1:45:15<23:19, 699.85s/it]"
          ]
        },
        {
          "output_type": "stream",
          "name": "stdout",
          "text": [
            "[I 2025-05-01 10:53:04,198] Trial 5 finished with value: 0.04266411565945897 and parameters: {'lookback': 31, 'units': 204, 'dropout': 0.1281481321312702, 'batch_size': 64, 'epochs': 26}. Best is trial 4 with value: 0.031148998917510027.\n",
            "\u001b[1m7/7\u001b[0m \u001b[32m━━━━━━━━━━━━━━━━━━━━\u001b[0m\u001b[37m\u001b[0m \u001b[1m0s\u001b[0m 44ms/step\n"
          ]
        },
        {
          "output_type": "stream",
          "name": "stderr",
          "text": [
            "Optimizing chunk 1:  82%|████████▏ | 9/11 [1:45:24<23:19, 699.85s/it]"
          ]
        },
        {
          "output_type": "stream",
          "name": "stdout",
          "text": [
            "[I 2025-05-01 10:53:12,838] Trial 6 finished with value: 0.05016526826986544 and parameters: {'lookback': 41, 'units': 70, 'dropout': 0.33603079150374926, 'batch_size': 64, 'epochs': 27}. Best is trial 4 with value: 0.031148998917510027.\n",
            "\u001b[1m6/6\u001b[0m \u001b[32m━━━━━━━━━━━━━━━━━━━━\u001b[0m\u001b[37m\u001b[0m \u001b[1m0s\u001b[0m 26ms/step\n"
          ]
        },
        {
          "output_type": "stream",
          "name": "stderr",
          "text": [
            "Optimizing chunk 1:  82%|████████▏ | 9/11 [1:46:06<23:19, 699.85s/it]"
          ]
        },
        {
          "output_type": "stream",
          "name": "stdout",
          "text": [
            "[I 2025-05-01 10:53:55,135] Trial 7 finished with value: 0.035968933379805 and parameters: {'lookback': 46, 'units': 156, 'dropout': 0.11658424204179495, 'batch_size': 64, 'epochs': 28}. Best is trial 4 with value: 0.031148998917510027.\n",
            "\u001b[1m6/6\u001b[0m \u001b[32m━━━━━━━━━━━━━━━━━━━━\u001b[0m\u001b[37m\u001b[0m \u001b[1m0s\u001b[0m 34ms/step\n"
          ]
        },
        {
          "output_type": "stream",
          "name": "stderr",
          "text": [
            "Optimizing chunk 1:  82%|████████▏ | 9/11 [1:46:35<23:19, 699.85s/it]"
          ]
        },
        {
          "output_type": "stream",
          "name": "stdout",
          "text": [
            "[I 2025-05-01 10:54:24,497] Trial 8 finished with value: 0.04001489306356855 and parameters: {'lookback': 46, 'units': 203, 'dropout': 0.3086303918404425, 'batch_size': 32, 'epochs': 24}. Best is trial 4 with value: 0.031148998917510027.\n",
            "\u001b[1m7/7\u001b[0m \u001b[32m━━━━━━━━━━━━━━━━━━━━\u001b[0m\u001b[37m\u001b[0m \u001b[1m0s\u001b[0m 44ms/step\n"
          ]
        },
        {
          "output_type": "stream",
          "name": "stderr",
          "text": [
            "Optimizing chunk 1:  82%|████████▏ | 9/11 [1:46:45<23:19, 699.85s/it]"
          ]
        },
        {
          "output_type": "stream",
          "name": "stdout",
          "text": [
            "[I 2025-05-01 10:54:33,912] Trial 9 finished with value: 0.04295606576360768 and parameters: {'lookback': 26, 'units': 119, 'dropout': 0.26490818941096134, 'batch_size': 64, 'epochs': 30}. Best is trial 4 with value: 0.031148998917510027.\n",
            "\u001b[1m6/6\u001b[0m \u001b[32m━━━━━━━━━━━━━━━━━━━━\u001b[0m\u001b[37m\u001b[0m \u001b[1m0s\u001b[0m 44ms/step\n"
          ]
        },
        {
          "output_type": "stream",
          "name": "stderr",
          "text": [
            "Optimizing chunk 1:  82%|████████▏ | 9/11 [1:46:55<23:19, 699.85s/it]"
          ]
        },
        {
          "output_type": "stream",
          "name": "stdout",
          "text": [
            "[I 2025-05-01 10:54:43,640] Trial 10 finished with value: 0.046534124646399076 and parameters: {'lookback': 56, 'units': 39, 'dropout': 0.4767363556809068, 'batch_size': 32, 'epochs': 20}. Best is trial 4 with value: 0.031148998917510027.\n",
            "\u001b[1m7/7\u001b[0m \u001b[32m━━━━━━━━━━━━━━━━━━━━\u001b[0m\u001b[37m\u001b[0m \u001b[1m0s\u001b[0m 34ms/step\n"
          ]
        },
        {
          "output_type": "stream",
          "name": "stderr",
          "text": [
            "Optimizing chunk 1:  82%|████████▏ | 9/11 [1:47:04<23:19, 699.85s/it]"
          ]
        },
        {
          "output_type": "stream",
          "name": "stdout",
          "text": [
            "[I 2025-05-01 10:54:52,850] Trial 11 finished with value: 0.033451411400438204 and parameters: {'lookback': 6, 'units': 85, 'dropout': 0.3924752939858505, 'batch_size': 32, 'epochs': 35}. Best is trial 4 with value: 0.031148998917510027.\n",
            "\u001b[1m7/7\u001b[0m \u001b[32m━━━━━━━━━━━━━━━━━━━━\u001b[0m\u001b[37m\u001b[0m \u001b[1m0s\u001b[0m 36ms/step\n"
          ]
        },
        {
          "output_type": "stream",
          "name": "stderr",
          "text": [
            "Optimizing chunk 1:  82%|████████▏ | 9/11 [1:47:08<23:19, 699.85s/it]"
          ]
        },
        {
          "output_type": "stream",
          "name": "stdout",
          "text": [
            "[I 2025-05-01 10:54:57,029] Trial 12 finished with value: 0.16052241909084441 and parameters: {'lookback': 1, 'units': 79, 'dropout': 0.19720081408116363, 'batch_size': 32, 'epochs': 35}. Best is trial 4 with value: 0.031148998917510027.\n",
            "\u001b[1m7/7\u001b[0m \u001b[32m━━━━━━━━━━━━━━━━━━━━\u001b[0m\u001b[37m\u001b[0m \u001b[1m0s\u001b[0m 40ms/step\n"
          ]
        },
        {
          "output_type": "stream",
          "name": "stderr",
          "text": [
            "Optimizing chunk 1:  82%|████████▏ | 9/11 [1:47:23<23:19, 699.85s/it]"
          ]
        },
        {
          "output_type": "stream",
          "name": "stdout",
          "text": [
            "[I 2025-05-01 10:55:11,857] Trial 13 finished with value: 0.03307632540410983 and parameters: {'lookback': 11, 'units': 100, 'dropout': 0.3844109648151557, 'batch_size': 32, 'epochs': 32}. Best is trial 4 with value: 0.031148998917510027.\n",
            "\u001b[1m7/7\u001b[0m \u001b[32m━━━━━━━━━━━━━━━━━━━━\u001b[0m\u001b[37m\u001b[0m \u001b[1m0s\u001b[0m 45ms/step\n"
          ]
        },
        {
          "output_type": "stream",
          "name": "stderr",
          "text": [
            "Optimizing chunk 1:  82%|████████▏ | 9/11 [1:47:42<23:19, 699.85s/it]"
          ]
        },
        {
          "output_type": "stream",
          "name": "stdout",
          "text": [
            "[I 2025-05-01 10:55:30,995] Trial 14 finished with value: 0.03813038169236065 and parameters: {'lookback': 16, 'units': 159, 'dropout': 0.19312566038008033, 'batch_size': 32, 'epochs': 32}. Best is trial 4 with value: 0.031148998917510027.\n",
            "\u001b[1m6/6\u001b[0m \u001b[32m━━━━━━━━━━━━━━━━━━━━\u001b[0m\u001b[37m\u001b[0m \u001b[1m0s\u001b[0m 47ms/step\n"
          ]
        },
        {
          "output_type": "stream",
          "name": "stderr",
          "text": [
            "Optimizing chunk 1:  82%|████████▏ | 9/11 [1:47:57<23:19, 699.85s/it]"
          ]
        },
        {
          "output_type": "stream",
          "name": "stdout",
          "text": [
            "[I 2025-05-01 10:55:45,832] Trial 15 finished with value: 0.040505101837261644 and parameters: {'lookback': 56, 'units': 57, 'dropout': 0.2016863839162643, 'batch_size': 32, 'epochs': 33}. Best is trial 4 with value: 0.031148998917510027.\n",
            "\u001b[1m7/7\u001b[0m \u001b[32m━━━━━━━━━━━━━━━━━━━━\u001b[0m\u001b[37m\u001b[0m \u001b[1m0s\u001b[0m 42ms/step\n"
          ]
        },
        {
          "output_type": "stream",
          "name": "stderr",
          "text": [
            "Optimizing chunk 1:  82%|████████▏ | 9/11 [1:48:10<23:19, 699.85s/it]"
          ]
        },
        {
          "output_type": "stream",
          "name": "stdout",
          "text": [
            "[I 2025-05-01 10:55:58,570] Trial 16 finished with value: 0.04197142025272504 and parameters: {'lookback': 36, 'units': 110, 'dropout': 0.43457874229354265, 'batch_size': 32, 'epochs': 33}. Best is trial 4 with value: 0.031148998917510027.\n",
            "\u001b[1m7/7\u001b[0m \u001b[32m━━━━━━━━━━━━━━━━━━━━\u001b[0m\u001b[37m\u001b[0m \u001b[1m1s\u001b[0m 39ms/step\n"
          ]
        },
        {
          "output_type": "stream",
          "name": "stderr",
          "text": [
            "Optimizing chunk 1:  82%|████████▏ | 9/11 [1:48:19<23:19, 699.85s/it]"
          ]
        },
        {
          "output_type": "stream",
          "name": "stdout",
          "text": [
            "[I 2025-05-01 10:56:08,234] Trial 17 finished with value: 0.02251690365711007 and parameters: {'lookback': 1, 'units': 136, 'dropout': 0.3612741551098213, 'batch_size': 32, 'epochs': 31}. Best is trial 17 with value: 0.02251690365711007.\n",
            "\u001b[1m6/6\u001b[0m \u001b[32m━━━━━━━━━━━━━━━━━━━━\u001b[0m\u001b[37m\u001b[0m \u001b[1m1s\u001b[0m 112ms/step\n"
          ]
        },
        {
          "output_type": "stream",
          "name": "stderr",
          "text": [
            "Optimizing chunk 1:  82%|████████▏ | 9/11 [1:49:08<23:19, 699.85s/it]"
          ]
        },
        {
          "output_type": "stream",
          "name": "stdout",
          "text": [
            "[I 2025-05-01 10:56:56,989] Trial 18 finished with value: 0.0349017538848135 and parameters: {'lookback': 51, 'units': 184, 'dropout': 0.49893665646795754, 'batch_size': 32, 'epochs': 31}. Best is trial 17 with value: 0.02251690365711007.\n",
            "\u001b[1m7/7\u001b[0m \u001b[32m━━━━━━━━━━━━━━━━━━━━\u001b[0m\u001b[37m\u001b[0m \u001b[1m0s\u001b[0m 48ms/step\n"
          ]
        },
        {
          "output_type": "stream",
          "name": "stderr",
          "text": [
            "Optimizing chunk 1:  82%|████████▏ | 9/11 [1:49:26<23:19, 699.85s/it]"
          ]
        },
        {
          "output_type": "stream",
          "name": "stdout",
          "text": [
            "[I 2025-05-01 10:57:15,535] Trial 19 finished with value: 0.0378613410072943 and parameters: {'lookback': 36, 'units': 135, 'dropout': 0.38231796879591956, 'batch_size': 32, 'epochs': 25}. Best is trial 17 with value: 0.02251690365711007.\n",
            "\u001b[1m7/7\u001b[0m \u001b[32m━━━━━━━━━━━━━━━━━━━━\u001b[0m\u001b[37m\u001b[0m \u001b[1m0s\u001b[0m 34ms/step\n"
          ]
        },
        {
          "output_type": "stream",
          "name": "stderr",
          "text": [
            "Optimizing chunk 1:  82%|████████▏ | 9/11 [1:49:37<23:19, 699.85s/it]"
          ]
        },
        {
          "output_type": "stream",
          "name": "stdout",
          "text": [
            "[I 2025-05-01 10:57:26,306] Trial 20 finished with value: 0.022104321436687852 and parameters: {'lookback': 1, 'units': 245, 'dropout': 0.15156620908388974, 'batch_size': 32, 'epochs': 22}. Best is trial 20 with value: 0.022104321436687852.\n",
            "\u001b[1m7/7\u001b[0m \u001b[32m━━━━━━━━━━━━━━━━━━━━\u001b[0m\u001b[37m\u001b[0m \u001b[1m1s\u001b[0m 50ms/step\n"
          ]
        },
        {
          "output_type": "stream",
          "name": "stderr",
          "text": [
            "Optimizing chunk 1:  82%|████████▏ | 9/11 [1:49:45<23:19, 699.85s/it]"
          ]
        },
        {
          "output_type": "stream",
          "name": "stdout",
          "text": [
            "[I 2025-05-01 10:57:34,124] Trial 21 finished with value: 0.02120562718198174 and parameters: {'lookback': 1, 'units': 233, 'dropout': 0.15942996318978456, 'batch_size': 32, 'epochs': 22}. Best is trial 21 with value: 0.02120562718198174.\n",
            "\u001b[1m7/7\u001b[0m \u001b[32m━━━━━━━━━━━━━━━━━━━━\u001b[0m\u001b[37m\u001b[0m \u001b[1m0s\u001b[0m 35ms/step\n"
          ]
        },
        {
          "output_type": "stream",
          "name": "stderr",
          "text": [
            "Optimizing chunk 1:  82%|████████▏ | 9/11 [1:49:55<23:19, 699.85s/it]"
          ]
        },
        {
          "output_type": "stream",
          "name": "stdout",
          "text": [
            "[I 2025-05-01 10:57:43,662] Trial 22 finished with value: 0.021015587974790414 and parameters: {'lookback': 1, 'units': 252, 'dropout': 0.16003248194734765, 'batch_size': 32, 'epochs': 21}. Best is trial 22 with value: 0.021015587974790414.\n",
            "\u001b[1m7/7\u001b[0m \u001b[32m━━━━━━━━━━━━━━━━━━━━\u001b[0m\u001b[37m\u001b[0m \u001b[1m1s\u001b[0m 60ms/step\n"
          ]
        },
        {
          "output_type": "stream",
          "name": "stderr",
          "text": [
            "Optimizing chunk 1:  82%|████████▏ | 9/11 [1:50:10<23:19, 699.85s/it]"
          ]
        },
        {
          "output_type": "stream",
          "name": "stdout",
          "text": [
            "[I 2025-05-01 10:57:58,787] Trial 23 finished with value: 0.03650044436359685 and parameters: {'lookback': 11, 'units': 254, 'dropout': 0.16927654074330528, 'batch_size': 32, 'epochs': 21}. Best is trial 22 with value: 0.021015587974790414.\n",
            "\u001b[1m7/7\u001b[0m \u001b[32m━━━━━━━━━━━━━━━━━━━━\u001b[0m\u001b[37m\u001b[0m \u001b[1m0s\u001b[0m 36ms/step\n"
          ]
        },
        {
          "output_type": "stream",
          "name": "stderr",
          "text": [
            "Optimizing chunk 1:  82%|████████▏ | 9/11 [1:50:20<23:19, 699.85s/it]"
          ]
        },
        {
          "output_type": "stream",
          "name": "stdout",
          "text": [
            "[I 2025-05-01 10:58:08,653] Trial 24 finished with value: 0.021486094851048545 and parameters: {'lookback': 1, 'units': 232, 'dropout': 0.22118863728518268, 'batch_size': 32, 'epochs': 22}. Best is trial 22 with value: 0.021015587974790414.\n",
            "\u001b[1m7/7\u001b[0m \u001b[32m━━━━━━━━━━━━━━━━━━━━\u001b[0m\u001b[37m\u001b[0m \u001b[1m0s\u001b[0m 42ms/step\n"
          ]
        },
        {
          "output_type": "stream",
          "name": "stderr",
          "text": [
            "Optimizing chunk 1:  82%|████████▏ | 9/11 [1:50:44<23:19, 699.85s/it]"
          ]
        },
        {
          "output_type": "stream",
          "name": "stdout",
          "text": [
            "[I 2025-05-01 10:58:32,595] Trial 25 finished with value: 0.033525495949108024 and parameters: {'lookback': 11, 'units': 228, 'dropout': 0.23384325138598688, 'batch_size': 32, 'epochs': 23}. Best is trial 22 with value: 0.021015587974790414.\n",
            "\u001b[1m7/7\u001b[0m \u001b[32m━━━━━━━━━━━━━━━━━━━━\u001b[0m\u001b[37m\u001b[0m \u001b[1m0s\u001b[0m 36ms/step\n"
          ]
        },
        {
          "output_type": "stream",
          "name": "stderr",
          "text": [
            "Optimizing chunk 1:  82%|████████▏ | 9/11 [1:50:55<23:19, 699.85s/it]"
          ]
        },
        {
          "output_type": "stream",
          "name": "stdout",
          "text": [
            "[I 2025-05-01 10:58:43,702] Trial 26 finished with value: 0.0354113568480401 and parameters: {'lookback': 6, 'units': 225, 'dropout': 0.22539864950333793, 'batch_size': 64, 'epochs': 20}. Best is trial 22 with value: 0.021015587974790414.\n",
            "\u001b[1m7/7\u001b[0m \u001b[32m━━━━━━━━━━━━━━━━━━━━\u001b[0m\u001b[37m\u001b[0m \u001b[1m0s\u001b[0m 46ms/step\n"
          ]
        },
        {
          "output_type": "stream",
          "name": "stderr",
          "text": [
            "Optimizing chunk 1:  82%|████████▏ | 9/11 [1:51:20<23:19, 699.85s/it]"
          ]
        },
        {
          "output_type": "stream",
          "name": "stdout",
          "text": [
            "[I 2025-05-01 10:59:09,002] Trial 27 finished with value: 0.03458497833864987 and parameters: {'lookback': 16, 'units': 229, 'dropout': 0.16890214942399667, 'batch_size': 32, 'epochs': 22}. Best is trial 22 with value: 0.021015587974790414.\n",
            "\u001b[1m7/7\u001b[0m \u001b[32m━━━━━━━━━━━━━━━━━━━━\u001b[0m\u001b[37m\u001b[0m \u001b[1m0s\u001b[0m 35ms/step\n"
          ]
        },
        {
          "output_type": "stream",
          "name": "stderr",
          "text": [
            "Optimizing chunk 1:  82%|████████▏ | 9/11 [1:51:30<23:19, 699.85s/it]"
          ]
        },
        {
          "output_type": "stream",
          "name": "stdout",
          "text": [
            "[I 2025-05-01 10:59:19,382] Trial 28 finished with value: 0.021007179302431647 and parameters: {'lookback': 1, 'units': 189, 'dropout': 0.22575800676086075, 'batch_size': 32, 'epochs': 23}. Best is trial 28 with value: 0.021007179302431647.\n",
            "\u001b[1m7/7\u001b[0m \u001b[32m━━━━━━━━━━━━━━━━━━━━\u001b[0m\u001b[37m\u001b[0m \u001b[1m0s\u001b[0m 44ms/step\n"
          ]
        },
        {
          "output_type": "stream",
          "name": "stderr",
          "text": [
            "Optimizing chunk 1:  91%|█████████ | 10/11 [1:51:43<10:32, 632.03s/it][I 2025-05-01 10:59:32,117] A new study created in memory with name: no-name-129b1543-7a96-4191-af19-9e3ea3a42743\n"
          ]
        },
        {
          "output_type": "stream",
          "name": "stdout",
          "text": [
            "[I 2025-05-01 10:59:32,088] Trial 29 finished with value: 0.040999825468605006 and parameters: {'lookback': 16, 'units': 186, 'dropout': 0.28128039344581274, 'batch_size': 32, 'epochs': 24}. Best is trial 28 with value: 0.021007179302431647.\n",
            "✅ Done: INTC.O — Best Params: {'lookback': 1, 'units': 189, 'dropout': 0.22575800676086075, 'batch_size': 32, 'epochs': 23}\n",
            "\n",
            "🔍 Optimizing for INTU.O...\n"
          ]
        },
        {
          "output_type": "display_data",
          "data": {
            "text/plain": [
              "  0%|          | 0/30 [00:00<?, ?it/s]"
            ],
            "application/vnd.jupyter.widget-view+json": {
              "version_major": 2,
              "version_minor": 0,
              "model_id": "a17c11b1118d44778951297578665dd2"
            }
          },
          "metadata": {}
        },
        {
          "output_type": "stream",
          "name": "stdout",
          "text": [
            "\u001b[1m6/6\u001b[0m \u001b[32m━━━━━━━━━━━━━━━━━━━━\u001b[0m\u001b[37m\u001b[0m \u001b[1m0s\u001b[0m 45ms/step\n"
          ]
        },
        {
          "output_type": "stream",
          "name": "stderr",
          "text": [
            "Optimizing chunk 1:  91%|█████████ | 10/11 [1:52:20<10:32, 632.03s/it]"
          ]
        },
        {
          "output_type": "stream",
          "name": "stdout",
          "text": [
            "[I 2025-05-01 11:00:08,835] Trial 0 finished with value: 0.05353918545401082 and parameters: {'lookback': 56, 'units': 48, 'dropout': 0.32211983217101064, 'batch_size': 32, 'epochs': 33}. Best is trial 0 with value: 0.05353918545401082.\n",
            "\u001b[1m7/7\u001b[0m \u001b[32m━━━━━━━━━━━━━━━━━━━━\u001b[0m\u001b[37m\u001b[0m \u001b[1m0s\u001b[0m 39ms/step\n"
          ]
        },
        {
          "output_type": "stream",
          "name": "stderr",
          "text": [
            "Optimizing chunk 1:  91%|█████████ | 10/11 [1:52:46<10:32, 632.03s/it]"
          ]
        },
        {
          "output_type": "stream",
          "name": "stdout",
          "text": [
            "[I 2025-05-01 11:00:34,930] Trial 1 finished with value: 0.05453369701857725 and parameters: {'lookback': 21, 'units': 124, 'dropout': 0.22657246409672088, 'batch_size': 64, 'epochs': 35}. Best is trial 0 with value: 0.05353918545401082.\n",
            "\u001b[1m6/6\u001b[0m \u001b[32m━━━━━━━━━━━━━━━━━━━━\u001b[0m\u001b[37m\u001b[0m \u001b[1m0s\u001b[0m 11ms/step \n"
          ]
        },
        {
          "output_type": "stream",
          "name": "stderr",
          "text": [
            "Optimizing chunk 1:  91%|█████████ | 10/11 [1:53:06<10:32, 632.03s/it]"
          ]
        },
        {
          "output_type": "stream",
          "name": "stdout",
          "text": [
            "[I 2025-05-01 11:00:55,020] Trial 2 finished with value: 0.05871850202437463 and parameters: {'lookback': 46, 'units': 64, 'dropout': 0.3407119491510381, 'batch_size': 32, 'epochs': 30}. Best is trial 0 with value: 0.05353918545401082.\n",
            "\u001b[1m7/7\u001b[0m \u001b[32m━━━━━━━━━━━━━━━━━━━━\u001b[0m\u001b[37m\u001b[0m \u001b[1m1s\u001b[0m 60ms/step\n"
          ]
        },
        {
          "output_type": "stream",
          "name": "stderr",
          "text": [
            "Optimizing chunk 1:  91%|█████████ | 10/11 [1:53:29<10:32, 632.03s/it]"
          ]
        },
        {
          "output_type": "stream",
          "name": "stdout",
          "text": [
            "[I 2025-05-01 11:01:18,524] Trial 3 finished with value: 0.0495619398408852 and parameters: {'lookback': 11, 'units': 172, 'dropout': 0.24001721846477375, 'batch_size': 32, 'epochs': 27}. Best is trial 3 with value: 0.0495619398408852.\n",
            "\u001b[1m6/6\u001b[0m \u001b[32m━━━━━━━━━━━━━━━━━━━━\u001b[0m\u001b[37m\u001b[0m \u001b[1m1s\u001b[0m 64ms/step\n"
          ]
        },
        {
          "output_type": "stream",
          "name": "stderr",
          "text": [
            "Optimizing chunk 1:  91%|█████████ | 10/11 [1:54:10<10:32, 632.03s/it]"
          ]
        },
        {
          "output_type": "stream",
          "name": "stdout",
          "text": [
            "[I 2025-05-01 11:01:58,791] Trial 4 finished with value: 0.05789007834469057 and parameters: {'lookback': 51, 'units': 127, 'dropout': 0.420763358995329, 'batch_size': 64, 'epochs': 21}. Best is trial 3 with value: 0.0495619398408852.\n",
            "\u001b[1m6/6\u001b[0m \u001b[32m━━━━━━━━━━━━━━━━━━━━\u001b[0m\u001b[37m\u001b[0m \u001b[1m0s\u001b[0m 36ms/step\n"
          ]
        },
        {
          "output_type": "stream",
          "name": "stderr",
          "text": [
            "Optimizing chunk 1:  91%|█████████ | 10/11 [1:55:31<10:32, 632.03s/it]"
          ]
        },
        {
          "output_type": "stream",
          "name": "stdout",
          "text": [
            "[I 2025-05-01 11:03:19,909] Trial 5 finished with value: 0.05364000376664156 and parameters: {'lookback': 46, 'units': 209, 'dropout': 0.41235087312292984, 'batch_size': 64, 'epochs': 27}. Best is trial 3 with value: 0.0495619398408852.\n",
            "\u001b[1m7/7\u001b[0m \u001b[32m━━━━━━━━━━━━━━━━━━━━\u001b[0m\u001b[37m\u001b[0m \u001b[1m1s\u001b[0m 50ms/step\n"
          ]
        },
        {
          "output_type": "stream",
          "name": "stderr",
          "text": [
            "Optimizing chunk 1:  91%|█████████ | 10/11 [1:56:07<10:32, 632.03s/it]"
          ]
        },
        {
          "output_type": "stream",
          "name": "stdout",
          "text": [
            "[I 2025-05-01 11:03:56,306] Trial 6 finished with value: 0.048928461547105194 and parameters: {'lookback': 11, 'units': 230, 'dropout': 0.46645804323684337, 'batch_size': 32, 'epochs': 26}. Best is trial 6 with value: 0.048928461547105194.\n",
            "\u001b[1m7/7\u001b[0m \u001b[32m━━━━━━━━━━━━━━━━━━━━\u001b[0m\u001b[37m\u001b[0m \u001b[1m0s\u001b[0m 37ms/step\n"
          ]
        },
        {
          "output_type": "stream",
          "name": "stderr",
          "text": [
            "Optimizing chunk 1:  91%|█████████ | 10/11 [1:56:16<10:32, 632.03s/it]"
          ]
        },
        {
          "output_type": "stream",
          "name": "stdout",
          "text": [
            "[I 2025-05-01 11:04:05,308] Trial 7 finished with value: 0.03480644684398125 and parameters: {'lookback': 1, 'units': 163, 'dropout': 0.36077590406212356, 'batch_size': 64, 'epochs': 20}. Best is trial 7 with value: 0.03480644684398125.\n",
            "\u001b[1m7/7\u001b[0m \u001b[32m━━━━━━━━━━━━━━━━━━━━\u001b[0m\u001b[37m\u001b[0m \u001b[1m0s\u001b[0m 44ms/step\n"
          ]
        },
        {
          "output_type": "stream",
          "name": "stderr",
          "text": [
            "Optimizing chunk 1:  91%|█████████ | 10/11 [1:56:42<10:32, 632.03s/it]"
          ]
        },
        {
          "output_type": "stream",
          "name": "stdout",
          "text": [
            "[I 2025-05-01 11:04:31,294] Trial 8 finished with value: 0.04979045448330834 and parameters: {'lookback': 16, 'units': 151, 'dropout': 0.3245028848724052, 'batch_size': 32, 'epochs': 21}. Best is trial 7 with value: 0.03480644684398125.\n",
            "\u001b[1m7/7\u001b[0m \u001b[32m━━━━━━━━━━━━━━━━━━━━\u001b[0m\u001b[37m\u001b[0m \u001b[1m0s\u001b[0m 38ms/step\n"
          ]
        },
        {
          "output_type": "stream",
          "name": "stderr",
          "text": [
            "Optimizing chunk 1:  91%|█████████ | 10/11 [1:56:48<10:32, 632.03s/it]"
          ]
        },
        {
          "output_type": "stream",
          "name": "stdout",
          "text": [
            "[I 2025-05-01 11:04:37,176] Trial 9 finished with value: 0.06695974710216214 and parameters: {'lookback': 11, 'units': 57, 'dropout': 0.12203379498046583, 'batch_size': 64, 'epochs': 28}. Best is trial 7 with value: 0.03480644684398125.\n",
            "\u001b[1m7/7\u001b[0m \u001b[32m━━━━━━━━━━━━━━━━━━━━\u001b[0m\u001b[37m\u001b[0m \u001b[1m0s\u001b[0m 36ms/step\n"
          ]
        },
        {
          "output_type": "stream",
          "name": "stderr",
          "text": [
            "Optimizing chunk 1:  91%|█████████ | 10/11 [1:56:58<10:32, 632.03s/it]"
          ]
        },
        {
          "output_type": "stream",
          "name": "stdout",
          "text": [
            "[I 2025-05-01 11:04:47,029] Trial 10 finished with value: 0.03381952308796629 and parameters: {'lookback': 1, 'units': 254, 'dropout': 0.10547275773788117, 'batch_size': 64, 'epochs': 23}. Best is trial 10 with value: 0.03381952308796629.\n",
            "\u001b[1m7/7\u001b[0m \u001b[32m━━━━━━━━━━━━━━━━━━━━\u001b[0m\u001b[37m\u001b[0m \u001b[1m0s\u001b[0m 41ms/step\n"
          ]
        },
        {
          "output_type": "stream",
          "name": "stderr",
          "text": [
            "Optimizing chunk 1:  91%|█████████ | 10/11 [1:57:08<10:32, 632.03s/it]"
          ]
        },
        {
          "output_type": "stream",
          "name": "stdout",
          "text": [
            "[I 2025-05-01 11:04:57,151] Trial 11 finished with value: 0.03416753941983141 and parameters: {'lookback': 1, 'units': 255, 'dropout': 0.11271090203167096, 'batch_size': 64, 'epochs': 23}. Best is trial 10 with value: 0.03381952308796629.\n",
            "\u001b[1m7/7\u001b[0m \u001b[32m━━━━━━━━━━━━━━━━━━━━\u001b[0m\u001b[37m\u001b[0m \u001b[1m0s\u001b[0m 35ms/step\n"
          ]
        },
        {
          "output_type": "stream",
          "name": "stderr",
          "text": [
            "Optimizing chunk 1:  91%|█████████ | 10/11 [1:57:18<10:32, 632.03s/it]"
          ]
        },
        {
          "output_type": "stream",
          "name": "stdout",
          "text": [
            "[I 2025-05-01 11:05:07,250] Trial 12 finished with value: 0.0340322777084026 and parameters: {'lookback': 1, 'units': 252, 'dropout': 0.1007179683487385, 'batch_size': 64, 'epochs': 24}. Best is trial 10 with value: 0.03381952308796629.\n",
            "\u001b[1m7/7\u001b[0m \u001b[32m━━━━━━━━━━━━━━━━━━━━\u001b[0m\u001b[37m\u001b[0m \u001b[1m1s\u001b[0m 56ms/step\n"
          ]
        },
        {
          "output_type": "stream",
          "name": "stderr",
          "text": [
            "Optimizing chunk 1:  91%|█████████ | 10/11 [1:58:04<10:32, 632.03s/it]"
          ]
        },
        {
          "output_type": "stream",
          "name": "stdout",
          "text": [
            "[I 2025-05-01 11:05:53,210] Trial 13 finished with value: 0.05400594857090151 and parameters: {'lookback': 31, 'units': 203, 'dropout': 0.17225046158091123, 'batch_size': 64, 'epochs': 24}. Best is trial 10 with value: 0.03381952308796629.\n",
            "\u001b[1m7/7\u001b[0m \u001b[32m━━━━━━━━━━━━━━━━━━━━\u001b[0m\u001b[37m\u001b[0m \u001b[1m1s\u001b[0m 61ms/step\n"
          ]
        },
        {
          "output_type": "stream",
          "name": "stderr",
          "text": [
            "Optimizing chunk 1:  91%|█████████ | 10/11 [1:59:03<10:32, 632.03s/it]"
          ]
        },
        {
          "output_type": "stream",
          "name": "stdout",
          "text": [
            "[I 2025-05-01 11:06:51,645] Trial 14 finished with value: 0.04989545287615405 and parameters: {'lookback': 31, 'units': 256, 'dropout': 0.184955841253903, 'batch_size': 64, 'epochs': 24}. Best is trial 10 with value: 0.03381952308796629.\n",
            "\u001b[1m7/7\u001b[0m \u001b[32m━━━━━━━━━━━━━━━━━━━━\u001b[0m\u001b[37m\u001b[0m \u001b[1m0s\u001b[0m 39ms/step\n"
          ]
        },
        {
          "output_type": "stream",
          "name": "stderr",
          "text": [
            "Optimizing chunk 1:  91%|█████████ | 10/11 [1:59:13<10:32, 632.03s/it]"
          ]
        },
        {
          "output_type": "stream",
          "name": "stdout",
          "text": [
            "[I 2025-05-01 11:07:02,001] Trial 15 finished with value: 0.03384958511753268 and parameters: {'lookback': 1, 'units': 220, 'dropout': 0.10179296986648362, 'batch_size': 64, 'epochs': 23}. Best is trial 10 with value: 0.03381952308796629.\n",
            "\u001b[1m7/7\u001b[0m \u001b[32m━━━━━━━━━━━━━━━━━━━━\u001b[0m\u001b[37m\u001b[0m \u001b[1m0s\u001b[0m 50ms/step\n"
          ]
        },
        {
          "output_type": "stream",
          "name": "stderr",
          "text": [
            "Optimizing chunk 1:  91%|█████████ | 10/11 [1:59:33<10:32, 632.03s/it]"
          ]
        },
        {
          "output_type": "stream",
          "name": "stdout",
          "text": [
            "[I 2025-05-01 11:07:21,980] Trial 16 finished with value: 0.06077487003155777 and parameters: {'lookback': 21, 'units': 193, 'dropout': 0.2607274020101439, 'batch_size': 64, 'epochs': 22}. Best is trial 10 with value: 0.03381952308796629.\n",
            "\u001b[1m7/7\u001b[0m \u001b[32m━━━━━━━━━━━━━━━━━━━━\u001b[0m\u001b[37m\u001b[0m \u001b[1m0s\u001b[0m 44ms/step\n"
          ]
        },
        {
          "output_type": "stream",
          "name": "stderr",
          "text": [
            "Optimizing chunk 1:  91%|█████████ | 10/11 [1:59:53<10:32, 632.03s/it]"
          ]
        },
        {
          "output_type": "stream",
          "name": "stdout",
          "text": [
            "[I 2025-05-01 11:07:42,521] Trial 17 finished with value: 0.04958954188391556 and parameters: {'lookback': 6, 'units': 221, 'dropout': 0.16349190692005736, 'batch_size': 64, 'epochs': 30}. Best is trial 10 with value: 0.03381952308796629.\n",
            "\u001b[1m7/7\u001b[0m \u001b[32m━━━━━━━━━━━━━━━━━━━━\u001b[0m\u001b[37m\u001b[0m \u001b[1m0s\u001b[0m 42ms/step\n"
          ]
        },
        {
          "output_type": "stream",
          "name": "stderr",
          "text": [
            "Optimizing chunk 1:  91%|█████████ | 10/11 [2:00:13<10:32, 632.03s/it]"
          ]
        },
        {
          "output_type": "stream",
          "name": "stdout",
          "text": [
            "[I 2025-05-01 11:08:01,788] Trial 18 finished with value: 0.0559386155286886 and parameters: {'lookback': 26, 'units': 94, 'dropout': 0.14586734688012673, 'batch_size': 64, 'epochs': 25}. Best is trial 10 with value: 0.03381952308796629.\n",
            "\u001b[1m7/7\u001b[0m \u001b[32m━━━━━━━━━━━━━━━━━━━━\u001b[0m\u001b[37m\u001b[0m \u001b[1m1s\u001b[0m 57ms/step\n"
          ]
        },
        {
          "output_type": "stream",
          "name": "stderr",
          "text": [
            "Optimizing chunk 1:  91%|█████████ | 10/11 [2:01:02<10:32, 632.03s/it]"
          ]
        },
        {
          "output_type": "stream",
          "name": "stdout",
          "text": [
            "[I 2025-05-01 11:08:51,310] Trial 19 finished with value: 0.051710918732610245 and parameters: {'lookback': 36, 'units': 184, 'dropout': 0.20669489657960638, 'batch_size': 64, 'epochs': 29}. Best is trial 10 with value: 0.03381952308796629.\n",
            "\u001b[1m7/7\u001b[0m \u001b[32m━━━━━━━━━━━━━━━━━━━━\u001b[0m\u001b[37m\u001b[0m \u001b[1m0s\u001b[0m 40ms/step\n"
          ]
        },
        {
          "output_type": "stream",
          "name": "stderr",
          "text": [
            "Optimizing chunk 1:  91%|█████████ | 10/11 [2:01:16<10:32, 632.03s/it]"
          ]
        },
        {
          "output_type": "stream",
          "name": "stdout",
          "text": [
            "[I 2025-05-01 11:09:05,531] Trial 20 finished with value: 0.05123140028746939 and parameters: {'lookback': 6, 'units': 232, 'dropout': 0.2618177468507915, 'batch_size': 64, 'epochs': 20}. Best is trial 10 with value: 0.03381952308796629.\n",
            "\u001b[1m7/7\u001b[0m \u001b[32m━━━━━━━━━━━━━━━━━━━━\u001b[0m\u001b[37m\u001b[0m \u001b[1m1s\u001b[0m 54ms/step\n"
          ]
        },
        {
          "output_type": "stream",
          "name": "stderr",
          "text": [
            "Optimizing chunk 1:  91%|█████████ | 10/11 [2:01:25<10:32, 632.03s/it]"
          ]
        },
        {
          "output_type": "stream",
          "name": "stdout",
          "text": [
            "[I 2025-05-01 11:09:13,740] Trial 21 finished with value: 0.033886535743169986 and parameters: {'lookback': 1, 'units': 235, 'dropout': 0.10622192465325205, 'batch_size': 64, 'epochs': 23}. Best is trial 10 with value: 0.03381952308796629.\n",
            "\u001b[1m7/7\u001b[0m \u001b[32m━━━━━━━━━━━━━━━━━━━━\u001b[0m\u001b[37m\u001b[0m \u001b[1m0s\u001b[0m 39ms/step\n"
          ]
        },
        {
          "output_type": "stream",
          "name": "stderr",
          "text": [
            "Optimizing chunk 1:  91%|█████████ | 10/11 [2:01:40<10:32, 632.03s/it]"
          ]
        },
        {
          "output_type": "stream",
          "name": "stdout",
          "text": [
            "[I 2025-05-01 11:09:29,196] Trial 22 finished with value: 0.05257526947811966 and parameters: {'lookback': 6, 'units': 233, 'dropout': 0.14192514091565261, 'batch_size': 64, 'epochs': 22}. Best is trial 10 with value: 0.03381952308796629.\n",
            "\u001b[1m7/7\u001b[0m \u001b[32m━━━━━━━━━━━━━━━━━━━━\u001b[0m\u001b[37m\u001b[0m \u001b[1m1s\u001b[0m 50ms/step\n"
          ]
        },
        {
          "output_type": "stream",
          "name": "stderr",
          "text": [
            "Optimizing chunk 1:  91%|█████████ | 10/11 [2:01:48<10:32, 632.03s/it]"
          ]
        },
        {
          "output_type": "stream",
          "name": "stdout",
          "text": [
            "[I 2025-05-01 11:09:37,559] Trial 23 finished with value: 0.033904997744153245 and parameters: {'lookback': 1, 'units': 219, 'dropout': 0.10496066438068706, 'batch_size': 64, 'epochs': 23}. Best is trial 10 with value: 0.03381952308796629.\n",
            "\u001b[1m7/7\u001b[0m \u001b[32m━━━━━━━━━━━━━━━━━━━━\u001b[0m\u001b[37m\u001b[0m \u001b[1m0s\u001b[0m 46ms/step\n"
          ]
        },
        {
          "output_type": "stream",
          "name": "stderr",
          "text": [
            "Optimizing chunk 1:  91%|█████████ | 10/11 [2:02:20<10:32, 632.03s/it]"
          ]
        },
        {
          "output_type": "stream",
          "name": "stdout",
          "text": [
            "[I 2025-05-01 11:10:09,437] Trial 24 finished with value: 0.05243903846018992 and parameters: {'lookback': 16, 'units': 241, 'dropout': 0.1959515772540419, 'batch_size': 64, 'epochs': 25}. Best is trial 10 with value: 0.03381952308796629.\n",
            "\u001b[1m7/7\u001b[0m \u001b[32m━━━━━━━━━━━━━━━━━━━━\u001b[0m\u001b[37m\u001b[0m \u001b[1m0s\u001b[0m 39ms/step\n"
          ]
        },
        {
          "output_type": "stream",
          "name": "stderr",
          "text": [
            "Optimizing chunk 1:  91%|█████████ | 10/11 [2:02:31<10:32, 632.03s/it]"
          ]
        },
        {
          "output_type": "stream",
          "name": "stdout",
          "text": [
            "[I 2025-05-01 11:10:19,703] Trial 25 finished with value: 0.0572214504315608 and parameters: {'lookback': 6, 'units': 206, 'dropout': 0.13817775535093707, 'batch_size': 64, 'epochs': 26}. Best is trial 10 with value: 0.03381952308796629.\n",
            "\u001b[1m7/7\u001b[0m \u001b[32m━━━━━━━━━━━━━━━━━━━━\u001b[0m\u001b[37m\u001b[0m \u001b[1m0s\u001b[0m 42ms/step\n"
          ]
        },
        {
          "output_type": "stream",
          "name": "stderr",
          "text": [
            "Optimizing chunk 1:  91%|█████████ | 10/11 [2:02:59<10:32, 632.03s/it]"
          ]
        },
        {
          "output_type": "stream",
          "name": "stdout",
          "text": [
            "[I 2025-05-01 11:10:48,149] Trial 26 finished with value: 0.051296413716996926 and parameters: {'lookback': 16, 'units': 185, 'dropout': 0.15233744991953688, 'batch_size': 32, 'epochs': 22}. Best is trial 10 with value: 0.03381952308796629.\n",
            "\u001b[1m7/7\u001b[0m \u001b[32m━━━━━━━━━━━━━━━━━━━━\u001b[0m\u001b[37m\u001b[0m \u001b[1m0s\u001b[0m 36ms/step\n"
          ]
        },
        {
          "output_type": "stream",
          "name": "stderr",
          "text": [
            "Optimizing chunk 1:  91%|█████████ | 10/11 [2:03:09<10:32, 632.03s/it]"
          ]
        },
        {
          "output_type": "stream",
          "name": "stdout",
          "text": [
            "[I 2025-05-01 11:10:57,867] Trial 27 finished with value: 0.033938785877613356 and parameters: {'lookback': 1, 'units': 215, 'dropout': 0.2825104378788469, 'batch_size': 64, 'epochs': 25}. Best is trial 10 with value: 0.03381952308796629.\n",
            "\u001b[1m7/7\u001b[0m \u001b[32m━━━━━━━━━━━━━━━━━━━━\u001b[0m\u001b[37m\u001b[0m \u001b[1m1s\u001b[0m 63ms/step\n"
          ]
        },
        {
          "output_type": "stream",
          "name": "stderr",
          "text": [
            "Optimizing chunk 1:  91%|█████████ | 10/11 [2:03:29<10:32, 632.03s/it]"
          ]
        },
        {
          "output_type": "stream",
          "name": "stdout",
          "text": [
            "[I 2025-05-01 11:11:18,543] Trial 28 finished with value: 0.05489998203749729 and parameters: {'lookback': 11, 'units': 239, 'dropout': 0.20834446768606857, 'batch_size': 64, 'epochs': 23}. Best is trial 10 with value: 0.03381952308796629.\n",
            "\u001b[1m7/7\u001b[0m \u001b[32m━━━━━━━━━━━━━━━━━━━━\u001b[0m\u001b[37m\u001b[0m \u001b[1m0s\u001b[0m 36ms/step\n"
          ]
        },
        {
          "output_type": "stream",
          "name": "stderr",
          "text": [
            "Optimizing chunk 1: 100%|██████████| 11/11 [2:03:50<00:00, 675.54s/it]"
          ]
        },
        {
          "output_type": "stream",
          "name": "stdout",
          "text": [
            "[I 2025-05-01 11:11:39,444] Trial 29 finished with value: 0.04644304447607962 and parameters: {'lookback': 6, 'units': 191, 'dropout': 0.12791980468506509, 'batch_size': 32, 'epochs': 33}. Best is trial 10 with value: 0.03381952308796629.\n",
            "✅ Done: INTU.O — Best Params: {'lookback': 1, 'units': 254, 'dropout': 0.10547275773788117, 'batch_size': 64, 'epochs': 23}\n"
          ]
        },
        {
          "output_type": "stream",
          "name": "stderr",
          "text": [
            "\n"
          ]
        }
      ],
      "source": [
        "import pandas as pd\n",
        "import numpy as np\n",
        "import optuna\n",
        "import os\n",
        "import json\n",
        "import warnings\n",
        "from tqdm import tqdm\n",
        "from sklearn.preprocessing import MinMaxScaler\n",
        "from sklearn.metrics import mean_squared_error\n",
        "from tensorflow.keras.models import Sequential\n",
        "from tensorflow.keras.layers import LSTM, Dense, Dropout\n",
        "from tensorflow.keras.optimizers import Adam\n",
        "from tensorflow.keras.callbacks import EarlyStopping\n",
        "\n",
        "warnings.filterwarnings(\"ignore\")\n",
        "\n",
        "# === Load and prepare dataset ===\n",
        "df = pd.read_csv(\"cleaned_stock_data_without_arm.csv\")\n",
        "df['Date'] = pd.to_datetime(df['Date'])\n",
        "df = df.sort_values(['Company', 'Date'])\n",
        "\n",
        "# Fix commas to save as numeric\n",
        "df['Price Close'] = df['Price Close'].astype(str).str.replace(\",\", \".\", regex=False)\n",
        "df['Price Close'] = pd.to_numeric(df['Price Close'], errors='coerce')\n",
        "\n",
        "# === Lag the Fama-French factors by 1 day ===\n",
        "for col in ['Mkt-RF', 'SMB', 'HML', 'RMW', 'CMA']:\n",
        "    df[col] = df.groupby('Company')[col].shift(1)\n",
        "\n",
        "df = df.dropna(subset=['Price Close', 'Mkt-RF', 'SMB', 'HML', 'RMW', 'CMA'])\n",
        "\n",
        "# === Create output folders ===\n",
        "os.makedirs(\"optuna_results\", exist_ok=True)\n",
        "os.makedirs(\"optuna_models\", exist_ok=True)\n",
        "\n",
        "# === Sequence generator ===\n",
        "def create_sequences(features, target, lookback):\n",
        "    X, y = [], []\n",
        "    for i in range(lookback, len(features)):\n",
        "        X.append(features[i - lookback:i])\n",
        "        y.append(target[i])\n",
        "    return np.array(X), np.array(y)\n",
        "\n",
        "# === Optimization function ===\n",
        "def optimize_lstm(company_data, company_name):\n",
        "    def objective(trial):\n",
        "        lookback = trial.suggest_int('lookback', 1, 60, step=5)\n",
        "        units = trial.suggest_int('units', 32, 256)\n",
        "        dropout = trial.suggest_float('dropout', 0.1, 0.5)\n",
        "        batch_size = trial.suggest_categorical('batch_size', [32, 64])\n",
        "        epochs = trial.suggest_int('epochs', 20, 35)\n",
        "\n",
        "        features = company_data[['Mkt-RF', 'SMB', 'HML', 'RMW', 'CMA']].values\n",
        "        target = company_data['Price Close'].values.reshape(-1, 1)\n",
        "\n",
        "        f_scaler = MinMaxScaler()\n",
        "        t_scaler = MinMaxScaler()\n",
        "        features_scaled = f_scaler.fit_transform(features)\n",
        "        target_scaled = t_scaler.fit_transform(target)\n",
        "\n",
        "        full_data = np.hstack((features_scaled, target_scaled))\n",
        "        X, y = create_sequences(full_data, target_scaled, lookback)\n",
        "\n",
        "        split = int(len(X) * 0.8)\n",
        "        X_train, X_val = X[:split], X[split:]\n",
        "        y_train, y_val = y[:split], y[split:]\n",
        "\n",
        "        model = Sequential()\n",
        "        model.add(LSTM(units, input_shape=(X.shape[1], X.shape[2])))\n",
        "        model.add(Dropout(dropout))\n",
        "        model.add(Dense(1))\n",
        "        model.compile(optimizer=Adam(learning_rate=0.001), loss='mse')\n",
        "\n",
        "        es = EarlyStopping(patience=5, restore_best_weights=True, verbose=0)\n",
        "        model.fit(X_train, y_train, epochs=epochs, batch_size=batch_size,\n",
        "                  validation_data=(X_val, y_val), callbacks=[es], verbose=0)\n",
        "\n",
        "        y_pred = model.predict(X_val)\n",
        "        rmse = np.sqrt(mean_squared_error(y_val, y_pred))\n",
        "\n",
        "        trial.set_user_attr(\"Company\", company_name)\n",
        "        return rmse\n",
        "\n",
        "    study = optuna.create_study(direction=\"minimize\")\n",
        "    study.optimize(objective, n_trials=30, show_progress_bar=True)\n",
        "\n",
        "    trial_df = study.trials_dataframe()\n",
        "    trial_df['Company'] = company_name\n",
        "\n",
        "    return study.best_trial.params, trial_df\n",
        "\n",
        "# === Select chunk to run ===\n",
        "chunk_number = 1  # Set this manually: 0, 1, 2, or 3\n",
        "num_chunks = 4\n",
        "all_companies = sorted(df['Company'].unique())\n",
        "chunk_size = len(all_companies) // num_chunks\n",
        "chunks = [all_companies[i*chunk_size : (i+1)*chunk_size] for i in range(num_chunks - 1)]\n",
        "chunks.append(all_companies[(num_chunks - 1)*chunk_size:])\n",
        "companies_to_run = chunks[chunk_number]\n",
        "\n",
        "# === Store all results ===\n",
        "all_results = []\n",
        "all_trials_df = []\n",
        "\n",
        "# === Run optimization per company in this chunk ===\n",
        "for company in tqdm(companies_to_run, desc=f\"Optimizing chunk {chunk_number}\"):\n",
        "    company_data = df[df['Company'] == company].dropna()\n",
        "    if len(company_data) < 100:\n",
        "        continue\n",
        "\n",
        "    print(f\"\\n🔍 Optimizing for {company}...\")\n",
        "    best_params, trial_df = optimize_lstm(company_data, company)\n",
        "\n",
        "    result = {\"Company\": company}\n",
        "    result.update(best_params)\n",
        "    all_results.append(result)\n",
        "    all_trials_df.append(trial_df)\n",
        "\n",
        "    print(f\"✅ Done: {company} — Best Params: {best_params}\")\n",
        "\n",
        "# === Save outputs for this chunk ===\n",
        "pd.DataFrame(all_results).to_csv(f\"optuna_best_params_chunk{chunk_number}.csv\", index=False)\n",
        "pd.concat(all_trials_df, ignore_index=True).to_csv(f\"optuna_trials_chunk{chunk_number}.csv\", index=False)\n"
      ]
    }
  ]
}