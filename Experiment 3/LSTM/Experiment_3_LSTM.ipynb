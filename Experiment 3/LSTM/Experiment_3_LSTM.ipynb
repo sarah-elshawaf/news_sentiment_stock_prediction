{
  "nbformat": 4,
  "nbformat_minor": 0,
  "metadata": {
    "colab": {
      "provenance": []
    },
    "kernelspec": {
      "name": "python3",
      "display_name": "Python 3"
    },
    "language_info": {
      "name": "python"
    }
  },
  "cells": [
    {
      "cell_type": "code",
      "execution_count": null,
      "metadata": {
        "colab": {
          "base_uri": "https://localhost:8080/",
          "height": 1000
        },
        "id": "uQIXpSf2Rv0c",
        "outputId": "7ed533ef-6b4b-4ac7-fea5-e85ebf4c40da"
      },
      "outputs": [
        {
          "output_type": "stream",
          "name": "stderr",
          "text": [
            "\rLSTM Forecasting:   0%|          | 0/44 [00:00<?, ?it/s]/usr/local/lib/python3.11/dist-packages/keras/src/layers/rnn/rnn.py:200: UserWarning: Do not pass an `input_shape`/`input_dim` argument to a layer. When using Sequential models, prefer using an `Input(shape)` object as the first layer in the model instead.\n",
            "  super().__init__(**kwargs)\n"
          ]
        },
        {
          "output_type": "stream",
          "name": "stdout",
          "text": [
            "\u001b[1m7/7\u001b[0m \u001b[32m━━━━━━━━━━━━━━━━━━━━\u001b[0m\u001b[37m\u001b[0m \u001b[1m0s\u001b[0m 28ms/step\n"
          ]
        },
        {
          "output_type": "stream",
          "name": "stderr",
          "text": [
            "\rLSTM Forecasting:   2%|▏         | 1/44 [00:22<16:07, 22.50s/it]/usr/local/lib/python3.11/dist-packages/keras/src/layers/rnn/rnn.py:200: UserWarning: Do not pass an `input_shape`/`input_dim` argument to a layer. When using Sequential models, prefer using an `Input(shape)` object as the first layer in the model instead.\n",
            "  super().__init__(**kwargs)\n"
          ]
        },
        {
          "output_type": "stream",
          "name": "stdout",
          "text": [
            "\u001b[1m7/7\u001b[0m \u001b[32m━━━━━━━━━━━━━━━━━━━━\u001b[0m\u001b[37m\u001b[0m \u001b[1m0s\u001b[0m 28ms/step\n"
          ]
        },
        {
          "output_type": "stream",
          "name": "stderr",
          "text": [
            "\rLSTM Forecasting:   5%|▍         | 2/44 [00:39<13:28, 19.25s/it]/usr/local/lib/python3.11/dist-packages/keras/src/layers/rnn/rnn.py:200: UserWarning: Do not pass an `input_shape`/`input_dim` argument to a layer. When using Sequential models, prefer using an `Input(shape)` object as the first layer in the model instead.\n",
            "  super().__init__(**kwargs)\n",
            "WARNING:tensorflow:5 out of the last 15 calls to <function TensorFlowTrainer.make_predict_function.<locals>.one_step_on_data_distributed at 0x7db7ed63b2e0> triggered tf.function retracing. Tracing is expensive and the excessive number of tracings could be due to (1) creating @tf.function repeatedly in a loop, (2) passing tensors with different shapes, (3) passing Python objects instead of tensors. For (1), please define your @tf.function outside of the loop. For (2), @tf.function has reduce_retracing=True option that can avoid unnecessary retracing. For (3), please refer to https://www.tensorflow.org/guide/function#controlling_retracing and https://www.tensorflow.org/api_docs/python/tf/function for  more details.\n"
          ]
        },
        {
          "output_type": "stream",
          "name": "stdout",
          "text": [
            "\u001b[1m7/7\u001b[0m \u001b[32m━━━━━━━━━━━━━━━━━━━━\u001b[0m\u001b[37m\u001b[0m \u001b[1m0s\u001b[0m 29ms/step\n"
          ]
        },
        {
          "output_type": "stream",
          "name": "stderr",
          "text": [
            "\rLSTM Forecasting:   7%|▋         | 3/44 [00:54<11:52, 17.37s/it]/usr/local/lib/python3.11/dist-packages/keras/src/layers/rnn/rnn.py:200: UserWarning: Do not pass an `input_shape`/`input_dim` argument to a layer. When using Sequential models, prefer using an `Input(shape)` object as the first layer in the model instead.\n",
            "  super().__init__(**kwargs)\n",
            "WARNING:tensorflow:5 out of the last 15 calls to <function TensorFlowTrainer.make_predict_function.<locals>.one_step_on_data_distributed at 0x7db7f42cd440> triggered tf.function retracing. Tracing is expensive and the excessive number of tracings could be due to (1) creating @tf.function repeatedly in a loop, (2) passing tensors with different shapes, (3) passing Python objects instead of tensors. For (1), please define your @tf.function outside of the loop. For (2), @tf.function has reduce_retracing=True option that can avoid unnecessary retracing. For (3), please refer to https://www.tensorflow.org/guide/function#controlling_retracing and https://www.tensorflow.org/api_docs/python/tf/function for  more details.\n"
          ]
        },
        {
          "output_type": "stream",
          "name": "stdout",
          "text": [
            "\u001b[1m7/7\u001b[0m \u001b[32m━━━━━━━━━━━━━━━━━━━━\u001b[0m\u001b[37m\u001b[0m \u001b[1m0s\u001b[0m 30ms/step\n"
          ]
        },
        {
          "output_type": "stream",
          "name": "stderr",
          "text": [
            "\rLSTM Forecasting:   9%|▉         | 4/44 [01:06<10:08, 15.20s/it]/usr/local/lib/python3.11/dist-packages/keras/src/layers/rnn/rnn.py:200: UserWarning: Do not pass an `input_shape`/`input_dim` argument to a layer. When using Sequential models, prefer using an `Input(shape)` object as the first layer in the model instead.\n",
            "  super().__init__(**kwargs)\n"
          ]
        },
        {
          "output_type": "stream",
          "name": "stdout",
          "text": [
            "\u001b[1m7/7\u001b[0m \u001b[32m━━━━━━━━━━━━━━━━━━━━\u001b[0m\u001b[37m\u001b[0m \u001b[1m0s\u001b[0m 37ms/step\n"
          ]
        },
        {
          "output_type": "stream",
          "name": "stderr",
          "text": [
            "\rLSTM Forecasting:  11%|█▏        | 5/44 [02:00<19:00, 29.25s/it]/usr/local/lib/python3.11/dist-packages/keras/src/layers/rnn/rnn.py:200: UserWarning: Do not pass an `input_shape`/`input_dim` argument to a layer. When using Sequential models, prefer using an `Input(shape)` object as the first layer in the model instead.\n",
            "  super().__init__(**kwargs)\n"
          ]
        },
        {
          "output_type": "stream",
          "name": "stdout",
          "text": [
            "\u001b[1m7/7\u001b[0m \u001b[32m━━━━━━━━━━━━━━━━━━━━\u001b[0m\u001b[37m\u001b[0m \u001b[1m1s\u001b[0m 48ms/step\n"
          ]
        },
        {
          "output_type": "stream",
          "name": "stderr",
          "text": [
            "\rLSTM Forecasting:  14%|█▎        | 6/44 [02:19<16:12, 25.58s/it]/usr/local/lib/python3.11/dist-packages/keras/src/layers/rnn/rnn.py:200: UserWarning: Do not pass an `input_shape`/`input_dim` argument to a layer. When using Sequential models, prefer using an `Input(shape)` object as the first layer in the model instead.\n",
            "  super().__init__(**kwargs)\n"
          ]
        },
        {
          "output_type": "stream",
          "name": "stdout",
          "text": [
            "\u001b[1m7/7\u001b[0m \u001b[32m━━━━━━━━━━━━━━━━━━━━\u001b[0m\u001b[37m\u001b[0m \u001b[1m0s\u001b[0m 36ms/step\n"
          ]
        },
        {
          "output_type": "stream",
          "name": "stderr",
          "text": [
            "\rLSTM Forecasting:  16%|█▌        | 7/44 [02:59<18:43, 30.37s/it]/usr/local/lib/python3.11/dist-packages/keras/src/layers/rnn/rnn.py:200: UserWarning: Do not pass an `input_shape`/`input_dim` argument to a layer. When using Sequential models, prefer using an `Input(shape)` object as the first layer in the model instead.\n",
            "  super().__init__(**kwargs)\n"
          ]
        },
        {
          "output_type": "stream",
          "name": "stdout",
          "text": [
            "\u001b[1m7/7\u001b[0m \u001b[32m━━━━━━━━━━━━━━━━━━━━\u001b[0m\u001b[37m\u001b[0m \u001b[1m0s\u001b[0m 28ms/step\n"
          ]
        },
        {
          "output_type": "stream",
          "name": "stderr",
          "text": [
            "\rLSTM Forecasting:  18%|█▊        | 8/44 [03:11<14:39, 24.42s/it]/usr/local/lib/python3.11/dist-packages/keras/src/layers/rnn/rnn.py:200: UserWarning: Do not pass an `input_shape`/`input_dim` argument to a layer. When using Sequential models, prefer using an `Input(shape)` object as the first layer in the model instead.\n",
            "  super().__init__(**kwargs)\n"
          ]
        },
        {
          "output_type": "stream",
          "name": "stdout",
          "text": [
            "\u001b[1m7/7\u001b[0m \u001b[32m━━━━━━━━━━━━━━━━━━━━\u001b[0m\u001b[37m\u001b[0m \u001b[1m1s\u001b[0m 43ms/step\n"
          ]
        },
        {
          "output_type": "stream",
          "name": "stderr",
          "text": [
            "\rLSTM Forecasting:  20%|██        | 9/44 [03:31<13:32, 23.22s/it]/usr/local/lib/python3.11/dist-packages/keras/src/layers/rnn/rnn.py:200: UserWarning: Do not pass an `input_shape`/`input_dim` argument to a layer. When using Sequential models, prefer using an `Input(shape)` object as the first layer in the model instead.\n",
            "  super().__init__(**kwargs)\n"
          ]
        },
        {
          "output_type": "stream",
          "name": "stdout",
          "text": [
            "\u001b[1m7/7\u001b[0m \u001b[32m━━━━━━━━━━━━━━━━━━━━\u001b[0m\u001b[37m\u001b[0m \u001b[1m0s\u001b[0m 29ms/step\n"
          ]
        },
        {
          "output_type": "stream",
          "name": "stderr",
          "text": [
            "\rLSTM Forecasting:  23%|██▎       | 10/44 [03:48<12:01, 21.23s/it]/usr/local/lib/python3.11/dist-packages/keras/src/layers/rnn/rnn.py:200: UserWarning: Do not pass an `input_shape`/`input_dim` argument to a layer. When using Sequential models, prefer using an `Input(shape)` object as the first layer in the model instead.\n",
            "  super().__init__(**kwargs)\n"
          ]
        },
        {
          "output_type": "stream",
          "name": "stdout",
          "text": [
            "\u001b[1m7/7\u001b[0m \u001b[32m━━━━━━━━━━━━━━━━━━━━\u001b[0m\u001b[37m\u001b[0m \u001b[1m0s\u001b[0m 28ms/step\n"
          ]
        },
        {
          "output_type": "stream",
          "name": "stderr",
          "text": [
            "\rLSTM Forecasting:  25%|██▌       | 11/44 [04:04<10:45, 19.56s/it]/usr/local/lib/python3.11/dist-packages/keras/src/layers/rnn/rnn.py:200: UserWarning: Do not pass an `input_shape`/`input_dim` argument to a layer. When using Sequential models, prefer using an `Input(shape)` object as the first layer in the model instead.\n",
            "  super().__init__(**kwargs)\n"
          ]
        },
        {
          "output_type": "stream",
          "name": "stdout",
          "text": [
            "\u001b[1m7/7\u001b[0m \u001b[32m━━━━━━━━━━━━━━━━━━━━\u001b[0m\u001b[37m\u001b[0m \u001b[1m0s\u001b[0m 29ms/step\n"
          ]
        },
        {
          "output_type": "stream",
          "name": "stderr",
          "text": [
            "\rLSTM Forecasting:  27%|██▋       | 12/44 [04:18<09:35, 17.98s/it]/usr/local/lib/python3.11/dist-packages/keras/src/layers/rnn/rnn.py:200: UserWarning: Do not pass an `input_shape`/`input_dim` argument to a layer. When using Sequential models, prefer using an `Input(shape)` object as the first layer in the model instead.\n",
            "  super().__init__(**kwargs)\n"
          ]
        },
        {
          "output_type": "stream",
          "name": "stdout",
          "text": [
            "\u001b[1m7/7\u001b[0m \u001b[32m━━━━━━━━━━━━━━━━━━━━\u001b[0m\u001b[37m\u001b[0m \u001b[1m1s\u001b[0m 81ms/step\n"
          ]
        },
        {
          "output_type": "stream",
          "name": "stderr",
          "text": [
            "\rLSTM Forecasting:  30%|██▉       | 13/44 [04:40<09:56, 19.24s/it]/usr/local/lib/python3.11/dist-packages/keras/src/layers/rnn/rnn.py:200: UserWarning: Do not pass an `input_shape`/`input_dim` argument to a layer. When using Sequential models, prefer using an `Input(shape)` object as the first layer in the model instead.\n",
            "  super().__init__(**kwargs)\n"
          ]
        },
        {
          "output_type": "stream",
          "name": "stdout",
          "text": [
            "\u001b[1m7/7\u001b[0m \u001b[32m━━━━━━━━━━━━━━━━━━━━\u001b[0m\u001b[37m\u001b[0m \u001b[1m1s\u001b[0m 67ms/step\n"
          ]
        },
        {
          "output_type": "stream",
          "name": "stderr",
          "text": [
            "\rLSTM Forecasting:  32%|███▏      | 14/44 [05:04<10:18, 20.63s/it]/usr/local/lib/python3.11/dist-packages/keras/src/layers/rnn/rnn.py:200: UserWarning: Do not pass an `input_shape`/`input_dim` argument to a layer. When using Sequential models, prefer using an `Input(shape)` object as the first layer in the model instead.\n",
            "  super().__init__(**kwargs)\n"
          ]
        },
        {
          "output_type": "stream",
          "name": "stdout",
          "text": [
            "\u001b[1m7/7\u001b[0m \u001b[32m━━━━━━━━━━━━━━━━━━━━\u001b[0m\u001b[37m\u001b[0m \u001b[1m0s\u001b[0m 29ms/step\n"
          ]
        },
        {
          "output_type": "stream",
          "name": "stderr",
          "text": [
            "\rLSTM Forecasting:  34%|███▍      | 15/44 [05:21<09:26, 19.55s/it]/usr/local/lib/python3.11/dist-packages/keras/src/layers/rnn/rnn.py:200: UserWarning: Do not pass an `input_shape`/`input_dim` argument to a layer. When using Sequential models, prefer using an `Input(shape)` object as the first layer in the model instead.\n",
            "  super().__init__(**kwargs)\n"
          ]
        },
        {
          "output_type": "stream",
          "name": "stdout",
          "text": [
            "\u001b[1m7/7\u001b[0m \u001b[32m━━━━━━━━━━━━━━━━━━━━\u001b[0m\u001b[37m\u001b[0m \u001b[1m1s\u001b[0m 31ms/step\n"
          ]
        },
        {
          "output_type": "stream",
          "name": "stderr",
          "text": [
            "\rLSTM Forecasting:  36%|███▋      | 16/44 [05:43<09:29, 20.33s/it]/usr/local/lib/python3.11/dist-packages/keras/src/layers/rnn/rnn.py:200: UserWarning: Do not pass an `input_shape`/`input_dim` argument to a layer. When using Sequential models, prefer using an `Input(shape)` object as the first layer in the model instead.\n",
            "  super().__init__(**kwargs)\n"
          ]
        },
        {
          "output_type": "stream",
          "name": "stdout",
          "text": [
            "\u001b[1m7/7\u001b[0m \u001b[32m━━━━━━━━━━━━━━━━━━━━\u001b[0m\u001b[37m\u001b[0m \u001b[1m0s\u001b[0m 31ms/step\n"
          ]
        },
        {
          "output_type": "stream",
          "name": "stderr",
          "text": [
            "\rLSTM Forecasting:  39%|███▊      | 17/44 [05:59<08:31, 18.95s/it]/usr/local/lib/python3.11/dist-packages/keras/src/layers/rnn/rnn.py:200: UserWarning: Do not pass an `input_shape`/`input_dim` argument to a layer. When using Sequential models, prefer using an `Input(shape)` object as the first layer in the model instead.\n",
            "  super().__init__(**kwargs)\n"
          ]
        },
        {
          "output_type": "stream",
          "name": "stdout",
          "text": [
            "\u001b[1m7/7\u001b[0m \u001b[32m━━━━━━━━━━━━━━━━━━━━\u001b[0m\u001b[37m\u001b[0m \u001b[1m0s\u001b[0m 47ms/step\n"
          ]
        },
        {
          "output_type": "stream",
          "name": "stderr",
          "text": [
            "\rLSTM Forecasting:  41%|████      | 18/44 [07:13<15:25, 35.59s/it]/usr/local/lib/python3.11/dist-packages/keras/src/layers/rnn/rnn.py:200: UserWarning: Do not pass an `input_shape`/`input_dim` argument to a layer. When using Sequential models, prefer using an `Input(shape)` object as the first layer in the model instead.\n",
            "  super().__init__(**kwargs)\n"
          ]
        },
        {
          "output_type": "stream",
          "name": "stdout",
          "text": [
            "\u001b[1m7/7\u001b[0m \u001b[32m━━━━━━━━━━━━━━━━━━━━\u001b[0m\u001b[37m\u001b[0m \u001b[1m0s\u001b[0m 29ms/step\n"
          ]
        },
        {
          "output_type": "stream",
          "name": "stderr",
          "text": [
            "\rLSTM Forecasting:  43%|████▎     | 19/44 [07:36<13:14, 31.80s/it]/usr/local/lib/python3.11/dist-packages/keras/src/layers/rnn/rnn.py:200: UserWarning: Do not pass an `input_shape`/`input_dim` argument to a layer. When using Sequential models, prefer using an `Input(shape)` object as the first layer in the model instead.\n",
            "  super().__init__(**kwargs)\n"
          ]
        },
        {
          "output_type": "stream",
          "name": "stdout",
          "text": [
            "\u001b[1m7/7\u001b[0m \u001b[32m━━━━━━━━━━━━━━━━━━━━\u001b[0m\u001b[37m\u001b[0m \u001b[1m0s\u001b[0m 31ms/step\n"
          ]
        },
        {
          "output_type": "stream",
          "name": "stderr",
          "text": [
            "\rLSTM Forecasting:  45%|████▌     | 20/44 [07:52<10:48, 27.02s/it]/usr/local/lib/python3.11/dist-packages/keras/src/layers/rnn/rnn.py:200: UserWarning: Do not pass an `input_shape`/`input_dim` argument to a layer. When using Sequential models, prefer using an `Input(shape)` object as the first layer in the model instead.\n",
            "  super().__init__(**kwargs)\n"
          ]
        },
        {
          "output_type": "stream",
          "name": "stdout",
          "text": [
            "\u001b[1m7/7\u001b[0m \u001b[32m━━━━━━━━━━━━━━━━━━━━\u001b[0m\u001b[37m\u001b[0m \u001b[1m0s\u001b[0m 30ms/step\n"
          ]
        },
        {
          "output_type": "stream",
          "name": "stderr",
          "text": [
            "\rLSTM Forecasting:  48%|████▊     | 21/44 [08:12<09:31, 24.86s/it]/usr/local/lib/python3.11/dist-packages/keras/src/layers/rnn/rnn.py:200: UserWarning: Do not pass an `input_shape`/`input_dim` argument to a layer. When using Sequential models, prefer using an `Input(shape)` object as the first layer in the model instead.\n",
            "  super().__init__(**kwargs)\n"
          ]
        },
        {
          "output_type": "stream",
          "name": "stdout",
          "text": [
            "\u001b[1m7/7\u001b[0m \u001b[32m━━━━━━━━━━━━━━━━━━━━\u001b[0m\u001b[37m\u001b[0m \u001b[1m0s\u001b[0m 30ms/step\n"
          ]
        },
        {
          "output_type": "stream",
          "name": "stderr",
          "text": [
            "\rLSTM Forecasting:  50%|█████     | 22/44 [08:29<08:15, 22.52s/it]/usr/local/lib/python3.11/dist-packages/keras/src/layers/rnn/rnn.py:200: UserWarning: Do not pass an `input_shape`/`input_dim` argument to a layer. When using Sequential models, prefer using an `Input(shape)` object as the first layer in the model instead.\n",
            "  super().__init__(**kwargs)\n"
          ]
        },
        {
          "output_type": "stream",
          "name": "stdout",
          "text": [
            "\u001b[1m7/7\u001b[0m \u001b[32m━━━━━━━━━━━━━━━━━━━━\u001b[0m\u001b[37m\u001b[0m \u001b[1m0s\u001b[0m 43ms/step\n"
          ]
        },
        {
          "output_type": "stream",
          "name": "stderr",
          "text": [
            "\rLSTM Forecasting:  52%|█████▏    | 23/44 [08:44<07:04, 20.22s/it]/usr/local/lib/python3.11/dist-packages/keras/src/layers/rnn/rnn.py:200: UserWarning: Do not pass an `input_shape`/`input_dim` argument to a layer. When using Sequential models, prefer using an `Input(shape)` object as the first layer in the model instead.\n",
            "  super().__init__(**kwargs)\n"
          ]
        },
        {
          "output_type": "stream",
          "name": "stdout",
          "text": [
            "\u001b[1m7/7\u001b[0m \u001b[32m━━━━━━━━━━━━━━━━━━━━\u001b[0m\u001b[37m\u001b[0m \u001b[1m0s\u001b[0m 44ms/step\n"
          ]
        },
        {
          "output_type": "stream",
          "name": "stderr",
          "text": [
            "\rLSTM Forecasting:  55%|█████▍    | 24/44 [08:55<05:51, 17.55s/it]/usr/local/lib/python3.11/dist-packages/keras/src/layers/rnn/rnn.py:200: UserWarning: Do not pass an `input_shape`/`input_dim` argument to a layer. When using Sequential models, prefer using an `Input(shape)` object as the first layer in the model instead.\n",
            "  super().__init__(**kwargs)\n"
          ]
        },
        {
          "output_type": "stream",
          "name": "stdout",
          "text": [
            "\u001b[1m7/7\u001b[0m \u001b[32m━━━━━━━━━━━━━━━━━━━━\u001b[0m\u001b[37m\u001b[0m \u001b[1m0s\u001b[0m 31ms/step\n"
          ]
        },
        {
          "output_type": "stream",
          "name": "stderr",
          "text": [
            "\rLSTM Forecasting:  57%|█████▋    | 25/44 [09:16<05:51, 18.52s/it]/usr/local/lib/python3.11/dist-packages/keras/src/layers/rnn/rnn.py:200: UserWarning: Do not pass an `input_shape`/`input_dim` argument to a layer. When using Sequential models, prefer using an `Input(shape)` object as the first layer in the model instead.\n",
            "  super().__init__(**kwargs)\n"
          ]
        },
        {
          "output_type": "stream",
          "name": "stdout",
          "text": [
            "\u001b[1m7/7\u001b[0m \u001b[32m━━━━━━━━━━━━━━━━━━━━\u001b[0m\u001b[37m\u001b[0m \u001b[1m0s\u001b[0m 29ms/step\n"
          ]
        },
        {
          "output_type": "stream",
          "name": "stderr",
          "text": [
            "\rLSTM Forecasting:  59%|█████▉    | 26/44 [09:30<05:07, 17.07s/it]/usr/local/lib/python3.11/dist-packages/keras/src/layers/rnn/rnn.py:200: UserWarning: Do not pass an `input_shape`/`input_dim` argument to a layer. When using Sequential models, prefer using an `Input(shape)` object as the first layer in the model instead.\n",
            "  super().__init__(**kwargs)\n"
          ]
        },
        {
          "output_type": "stream",
          "name": "stdout",
          "text": [
            "\u001b[1m7/7\u001b[0m \u001b[32m━━━━━━━━━━━━━━━━━━━━\u001b[0m\u001b[37m\u001b[0m \u001b[1m0s\u001b[0m 30ms/step\n"
          ]
        },
        {
          "output_type": "stream",
          "name": "stderr",
          "text": [
            "\rLSTM Forecasting:  61%|██████▏   | 27/44 [09:47<04:53, 17.27s/it]/usr/local/lib/python3.11/dist-packages/keras/src/layers/rnn/rnn.py:200: UserWarning: Do not pass an `input_shape`/`input_dim` argument to a layer. When using Sequential models, prefer using an `Input(shape)` object as the first layer in the model instead.\n",
            "  super().__init__(**kwargs)\n"
          ]
        },
        {
          "output_type": "stream",
          "name": "stdout",
          "text": [
            "\u001b[1m7/7\u001b[0m \u001b[32m━━━━━━━━━━━━━━━━━━━━\u001b[0m\u001b[37m\u001b[0m \u001b[1m0s\u001b[0m 32ms/step\n"
          ]
        },
        {
          "output_type": "stream",
          "name": "stderr",
          "text": [
            "\rLSTM Forecasting:  64%|██████▎   | 28/44 [10:00<04:13, 15.82s/it]/usr/local/lib/python3.11/dist-packages/keras/src/layers/rnn/rnn.py:200: UserWarning: Do not pass an `input_shape`/`input_dim` argument to a layer. When using Sequential models, prefer using an `Input(shape)` object as the first layer in the model instead.\n",
            "  super().__init__(**kwargs)\n"
          ]
        },
        {
          "output_type": "stream",
          "name": "stdout",
          "text": [
            "\u001b[1m7/7\u001b[0m \u001b[32m━━━━━━━━━━━━━━━━━━━━\u001b[0m\u001b[37m\u001b[0m \u001b[1m0s\u001b[0m 31ms/step\n"
          ]
        },
        {
          "output_type": "stream",
          "name": "stderr",
          "text": [
            "\rLSTM Forecasting:  66%|██████▌   | 29/44 [10:16<04:00, 16.05s/it]/usr/local/lib/python3.11/dist-packages/keras/src/layers/rnn/rnn.py:200: UserWarning: Do not pass an `input_shape`/`input_dim` argument to a layer. When using Sequential models, prefer using an `Input(shape)` object as the first layer in the model instead.\n",
            "  super().__init__(**kwargs)\n"
          ]
        },
        {
          "output_type": "stream",
          "name": "stdout",
          "text": [
            "\u001b[1m7/7\u001b[0m \u001b[32m━━━━━━━━━━━━━━━━━━━━\u001b[0m\u001b[37m\u001b[0m \u001b[1m0s\u001b[0m 30ms/step\n"
          ]
        },
        {
          "output_type": "stream",
          "name": "stderr",
          "text": [
            "\rLSTM Forecasting:  68%|██████▊   | 30/44 [10:33<03:45, 16.11s/it]/usr/local/lib/python3.11/dist-packages/keras/src/layers/rnn/rnn.py:200: UserWarning: Do not pass an `input_shape`/`input_dim` argument to a layer. When using Sequential models, prefer using an `Input(shape)` object as the first layer in the model instead.\n",
            "  super().__init__(**kwargs)\n"
          ]
        },
        {
          "output_type": "stream",
          "name": "stdout",
          "text": [
            "\u001b[1m7/7\u001b[0m \u001b[32m━━━━━━━━━━━━━━━━━━━━\u001b[0m\u001b[37m\u001b[0m \u001b[1m0s\u001b[0m 29ms/step\n"
          ]
        },
        {
          "output_type": "stream",
          "name": "stderr",
          "text": [
            "\rLSTM Forecasting:  70%|███████   | 31/44 [10:55<03:55, 18.13s/it]/usr/local/lib/python3.11/dist-packages/keras/src/layers/rnn/rnn.py:200: UserWarning: Do not pass an `input_shape`/`input_dim` argument to a layer. When using Sequential models, prefer using an `Input(shape)` object as the first layer in the model instead.\n",
            "  super().__init__(**kwargs)\n"
          ]
        },
        {
          "output_type": "stream",
          "name": "stdout",
          "text": [
            "\u001b[1m7/7\u001b[0m \u001b[32m━━━━━━━━━━━━━━━━━━━━\u001b[0m\u001b[37m\u001b[0m \u001b[1m0s\u001b[0m 28ms/step\n"
          ]
        },
        {
          "output_type": "stream",
          "name": "stderr",
          "text": [
            "\rLSTM Forecasting:  73%|███████▎  | 32/44 [11:16<03:45, 18.79s/it]/usr/local/lib/python3.11/dist-packages/keras/src/layers/rnn/rnn.py:200: UserWarning: Do not pass an `input_shape`/`input_dim` argument to a layer. When using Sequential models, prefer using an `Input(shape)` object as the first layer in the model instead.\n",
            "  super().__init__(**kwargs)\n"
          ]
        },
        {
          "output_type": "stream",
          "name": "stdout",
          "text": [
            "\u001b[1m7/7\u001b[0m \u001b[32m━━━━━━━━━━━━━━━━━━━━\u001b[0m\u001b[37m\u001b[0m \u001b[1m1s\u001b[0m 34ms/step\n"
          ]
        },
        {
          "output_type": "stream",
          "name": "stderr",
          "text": [
            "\rLSTM Forecasting:  75%|███████▌  | 33/44 [11:40<03:44, 20.44s/it]/usr/local/lib/python3.11/dist-packages/keras/src/layers/rnn/rnn.py:200: UserWarning: Do not pass an `input_shape`/`input_dim` argument to a layer. When using Sequential models, prefer using an `Input(shape)` object as the first layer in the model instead.\n",
            "  super().__init__(**kwargs)\n"
          ]
        },
        {
          "output_type": "stream",
          "name": "stdout",
          "text": [
            "\u001b[1m7/7\u001b[0m \u001b[32m━━━━━━━━━━━━━━━━━━━━\u001b[0m\u001b[37m\u001b[0m \u001b[1m0s\u001b[0m 33ms/step\n"
          ]
        },
        {
          "output_type": "stream",
          "name": "stderr",
          "text": [
            "\rLSTM Forecasting:  77%|███████▋  | 34/44 [12:02<03:28, 20.82s/it]/usr/local/lib/python3.11/dist-packages/keras/src/layers/rnn/rnn.py:200: UserWarning: Do not pass an `input_shape`/`input_dim` argument to a layer. When using Sequential models, prefer using an `Input(shape)` object as the first layer in the model instead.\n",
            "  super().__init__(**kwargs)\n"
          ]
        },
        {
          "output_type": "stream",
          "name": "stdout",
          "text": [
            "\u001b[1m7/7\u001b[0m \u001b[32m━━━━━━━━━━━━━━━━━━━━\u001b[0m\u001b[37m\u001b[0m \u001b[1m0s\u001b[0m 31ms/step\n"
          ]
        },
        {
          "output_type": "stream",
          "name": "stderr",
          "text": [
            "\rLSTM Forecasting:  80%|███████▉  | 35/44 [12:19<02:57, 19.77s/it]/usr/local/lib/python3.11/dist-packages/keras/src/layers/rnn/rnn.py:200: UserWarning: Do not pass an `input_shape`/`input_dim` argument to a layer. When using Sequential models, prefer using an `Input(shape)` object as the first layer in the model instead.\n",
            "  super().__init__(**kwargs)\n"
          ]
        },
        {
          "output_type": "stream",
          "name": "stdout",
          "text": [
            "\u001b[1m7/7\u001b[0m \u001b[32m━━━━━━━━━━━━━━━━━━━━\u001b[0m\u001b[37m\u001b[0m \u001b[1m0s\u001b[0m 30ms/step\n"
          ]
        },
        {
          "output_type": "stream",
          "name": "stderr",
          "text": [
            "\rLSTM Forecasting:  82%|████████▏ | 36/44 [12:34<02:27, 18.44s/it]/usr/local/lib/python3.11/dist-packages/keras/src/layers/rnn/rnn.py:200: UserWarning: Do not pass an `input_shape`/`input_dim` argument to a layer. When using Sequential models, prefer using an `Input(shape)` object as the first layer in the model instead.\n",
            "  super().__init__(**kwargs)\n"
          ]
        },
        {
          "output_type": "stream",
          "name": "stdout",
          "text": [
            "\u001b[1m7/7\u001b[0m \u001b[32m━━━━━━━━━━━━━━━━━━━━\u001b[0m\u001b[37m\u001b[0m \u001b[1m0s\u001b[0m 33ms/step\n"
          ]
        },
        {
          "output_type": "stream",
          "name": "stderr",
          "text": [
            "\rLSTM Forecasting:  84%|████████▍ | 37/44 [12:56<02:15, 19.36s/it]/usr/local/lib/python3.11/dist-packages/keras/src/layers/rnn/rnn.py:200: UserWarning: Do not pass an `input_shape`/`input_dim` argument to a layer. When using Sequential models, prefer using an `Input(shape)` object as the first layer in the model instead.\n",
            "  super().__init__(**kwargs)\n"
          ]
        },
        {
          "output_type": "stream",
          "name": "stdout",
          "text": [
            "\u001b[1m7/7\u001b[0m \u001b[32m━━━━━━━━━━━━━━━━━━━━\u001b[0m\u001b[37m\u001b[0m \u001b[1m0s\u001b[0m 31ms/step\n"
          ]
        },
        {
          "output_type": "stream",
          "name": "stderr",
          "text": [
            "\rLSTM Forecasting:  86%|████████▋ | 38/44 [13:21<02:06, 21.16s/it]/usr/local/lib/python3.11/dist-packages/keras/src/layers/rnn/rnn.py:200: UserWarning: Do not pass an `input_shape`/`input_dim` argument to a layer. When using Sequential models, prefer using an `Input(shape)` object as the first layer in the model instead.\n",
            "  super().__init__(**kwargs)\n"
          ]
        },
        {
          "output_type": "stream",
          "name": "stdout",
          "text": [
            "\u001b[1m7/7\u001b[0m \u001b[32m━━━━━━━━━━━━━━━━━━━━\u001b[0m\u001b[37m\u001b[0m \u001b[1m0s\u001b[0m 31ms/step\n"
          ]
        },
        {
          "output_type": "stream",
          "name": "stderr",
          "text": [
            "\rLSTM Forecasting:  89%|████████▊ | 39/44 [13:40<01:41, 20.27s/it]/usr/local/lib/python3.11/dist-packages/keras/src/layers/rnn/rnn.py:200: UserWarning: Do not pass an `input_shape`/`input_dim` argument to a layer. When using Sequential models, prefer using an `Input(shape)` object as the first layer in the model instead.\n",
            "  super().__init__(**kwargs)\n"
          ]
        },
        {
          "output_type": "stream",
          "name": "stdout",
          "text": [
            "\u001b[1m7/7\u001b[0m \u001b[32m━━━━━━━━━━━━━━━━━━━━\u001b[0m\u001b[37m\u001b[0m \u001b[1m0s\u001b[0m 33ms/step\n"
          ]
        },
        {
          "output_type": "stream",
          "name": "stderr",
          "text": [
            "\rLSTM Forecasting:  91%|█████████ | 40/44 [14:02<01:23, 20.86s/it]/usr/local/lib/python3.11/dist-packages/keras/src/layers/rnn/rnn.py:200: UserWarning: Do not pass an `input_shape`/`input_dim` argument to a layer. When using Sequential models, prefer using an `Input(shape)` object as the first layer in the model instead.\n",
            "  super().__init__(**kwargs)\n"
          ]
        },
        {
          "output_type": "stream",
          "name": "stdout",
          "text": [
            "\u001b[1m7/7\u001b[0m \u001b[32m━━━━━━━━━━━━━━━━━━━━\u001b[0m\u001b[37m\u001b[0m \u001b[1m1s\u001b[0m 48ms/step\n"
          ]
        },
        {
          "output_type": "stream",
          "name": "stderr",
          "text": [
            "\rLSTM Forecasting:  93%|█████████▎| 41/44 [14:21<01:01, 20.37s/it]/usr/local/lib/python3.11/dist-packages/keras/src/layers/rnn/rnn.py:200: UserWarning: Do not pass an `input_shape`/`input_dim` argument to a layer. When using Sequential models, prefer using an `Input(shape)` object as the first layer in the model instead.\n",
            "  super().__init__(**kwargs)\n"
          ]
        },
        {
          "output_type": "stream",
          "name": "stdout",
          "text": [
            "\u001b[1m7/7\u001b[0m \u001b[32m━━━━━━━━━━━━━━━━━━━━\u001b[0m\u001b[37m\u001b[0m \u001b[1m1s\u001b[0m 45ms/step\n"
          ]
        },
        {
          "output_type": "stream",
          "name": "stderr",
          "text": [
            "<ipython-input-1-04109752bd80>:160: SettingWithCopyWarning: \n",
            "A value is trying to be set on a copy of a slice from a DataFrame.\n",
            "Try using .loc[row_indexer,col_indexer] = value instead\n",
            "\n",
            "See the caveats in the documentation: https://pandas.pydata.org/pandas-docs/stable/user_guide/indexing.html#returning-a-view-versus-a-copy\n",
            "  test_result['Company'] = company\n",
            "\rLSTM Forecasting:  95%|█████████▌| 42/44 [14:34<00:36, 18.19s/it]/usr/local/lib/python3.11/dist-packages/keras/src/layers/rnn/rnn.py:200: UserWarning: Do not pass an `input_shape`/`input_dim` argument to a layer. When using Sequential models, prefer using an `Input(shape)` object as the first layer in the model instead.\n",
            "  super().__init__(**kwargs)\n"
          ]
        },
        {
          "output_type": "stream",
          "name": "stdout",
          "text": [
            "\u001b[1m7/7\u001b[0m \u001b[32m━━━━━━━━━━━━━━━━━━━━\u001b[0m\u001b[37m\u001b[0m \u001b[1m1s\u001b[0m 44ms/step\n"
          ]
        },
        {
          "output_type": "stream",
          "name": "stderr",
          "text": [
            "\rLSTM Forecasting:  98%|█████████▊| 43/44 [14:48<00:16, 16.87s/it]/usr/local/lib/python3.11/dist-packages/keras/src/layers/rnn/rnn.py:200: UserWarning: Do not pass an `input_shape`/`input_dim` argument to a layer. When using Sequential models, prefer using an `Input(shape)` object as the first layer in the model instead.\n",
            "  super().__init__(**kwargs)\n"
          ]
        },
        {
          "output_type": "stream",
          "name": "stdout",
          "text": [
            "\u001b[1m7/7\u001b[0m \u001b[32m━━━━━━━━━━━━━━━━━━━━\u001b[0m\u001b[37m\u001b[0m \u001b[1m0s\u001b[0m 31ms/step\n"
          ]
        },
        {
          "output_type": "stream",
          "name": "stderr",
          "text": [
            "LSTM Forecasting: 100%|██████████| 44/44 [15:09<00:00, 20.66s/it]\n"
          ]
        },
        {
          "output_type": "display_data",
          "data": {
            "text/plain": [
              "<Figure size 1200x600 with 1 Axes>"
            ],
            "image/png": "[encoded data removed]"
          },
          "metadata": {}
        },
        {
          "output_type": "stream",
          "name": "stdout",
          "text": [
            "LSTM Index Level RMSE with Fine-Tuned FinBERT Sentiment: 262.59\n"
          ]
        }
      ],
      "source": [
        "import pandas as pd\n",
        "import numpy as np\n",
        "from sklearn.preprocessing import MinMaxScaler\n",
        "from sklearn.metrics import mean_squared_error\n",
        "from sklearn.model_selection import TimeSeriesSplit\n",
        "from tensorflow.keras.models import Sequential\n",
        "from tensorflow.keras.layers import LSTM, Dense, Dropout\n",
        "from tensorflow.keras.optimizers import Adam\n",
        "from tensorflow.keras.callbacks import EarlyStopping\n",
        "import matplotlib.pyplot as plt\n",
        "from tqdm import tqdm\n",
        "\n",
        "# === Load stock data ===\n",
        "df = pd.read_csv(\"cleaned_stock_data_without_arm.csv\")\n",
        "df['Date'] = pd.to_datetime(df['Date'])\n",
        "df = df.sort_values(['Company', 'Date'])\n",
        "df['Price Close'] = df['Price Close'].astype(str).str.replace(\",\", \".\", regex=False)\n",
        "df['Price Close'] = pd.to_numeric(df['Price Close'], errors='coerce')\n",
        "\n",
        "# === Load and merge sentiment from fine-tuned FinBERT ===\n",
        "sent_df = pd.read_csv(\"finetuned_finbert_sentiment.csv\")\n",
        "map_df = pd.read_excel(\"matched company names .xlsx\")\n",
        "sent_df['company'] = sent_df['company'].str.strip()\n",
        "map_df['company name'] = map_df['company name'].str.strip()\n",
        "map_df.columns = ['company', 'Company']\n",
        "sent_df['date'] = pd.to_datetime(sent_df['date'])\n",
        "\n",
        "mapped_sent = pd.merge(sent_df, map_df, on='company', how='inner')\n",
        "mapped_sent = mapped_sent[['Company', 'date', 'finetuned_sentiment_label']]\n",
        "mapped_sent['date'] = mapped_sent['date'].dt.normalize()\n",
        "\n",
        "avg_sentiment = mapped_sent.groupby(['Company', 'date'])['finetuned_sentiment_label'].mean().reset_index()\n",
        "avg_sentiment = avg_sentiment.rename(columns={'date': 'Date', 'finetuned_sentiment_label': 'Sentiment'})\n",
        "df = pd.merge(df, avg_sentiment, on=['Company', 'Date'], how='left')\n",
        "\n",
        "# === Conditional decay for sentiment ===\n",
        "def apply_conditional_decay(series, decay=0.9):\n",
        "    output, last_val = [], None\n",
        "    for val in series:\n",
        "        if pd.notna(val):\n",
        "            if val == 0:\n",
        "                last_val = None\n",
        "                output.append(np.nan)\n",
        "            else:\n",
        "                last_val = val\n",
        "                output.append(val)\n",
        "        else:\n",
        "            if last_val is not None:\n",
        "                last_val *= decay\n",
        "                output.append(last_val)\n",
        "            else:\n",
        "                output.append(np.nan)\n",
        "    return output\n",
        "\n",
        "df = df.sort_values(['Company', 'Date'])\n",
        "df['Sentiment'] = df.groupby('Company')['Sentiment'].transform(apply_conditional_decay)\n",
        "df['Sentiment'] = df['Sentiment'].fillna(0.0)  # Fill remaining NaNs with neutral sentiment\n",
        "df['Lagged_Sentiment'] = df.groupby('Company')['Sentiment'].shift(1)\n",
        "\n",
        "# === Feature engineering ===\n",
        "for col in ['Mkt-RF', 'SMB', 'HML', 'RMW', 'CMA']:\n",
        "    df[col] = df.groupby('Company')[col].shift(1)\n",
        "df['Lagged_Return'] = df.groupby('Company')['Return'].shift(1)\n",
        "df['Lagged_Volume'] = df.groupby('Company')['Volume'].shift(1)\n",
        "df = df.dropna(subset=['Price Close', 'Mkt-RF', 'SMB', 'HML', 'RMW', 'CMA', 'Lagged_Return', 'Lagged_Volume'])\n",
        "\n",
        "# Load best LSTM params and actual index\n",
        "lstm_params = pd.read_csv(\"best_trials_all.csv\")\n",
        "lstm_params = lstm_params[lstm_params['state'] == 'COMPLETE']\n",
        "actual_index = pd.read_csv(\"equal_weighted_index_without_arm.csv\")\n",
        "actual_index['Date'] = pd.to_datetime(actual_index['Date'])\n",
        "\n",
        "# Train/test split\n",
        "df['Date'] = pd.to_datetime(df['Date'])\n",
        "unique_dates = df['Date'].sort_values().unique()\n",
        "split_index = int(len(unique_dates) * 0.8)\n",
        "train_dates = unique_dates[:split_index]\n",
        "test_dates = unique_dates[split_index:]\n",
        "last_train_date = pd.to_datetime(train_dates[-1])\n",
        "start_value = actual_index.loc[actual_index['Date'] == last_train_date, 'Index_Level'].values[0] \\\n",
        "    if last_train_date in actual_index['Date'].values else actual_index[actual_index['Date'] < last_train_date]['Index_Level'].iloc[-1]\n",
        "\n",
        "# Sequence creation\n",
        "def create_sequences(features, target, lookback):\n",
        "    X, y = [], []\n",
        "    for i in range(lookback, len(features)):\n",
        "        X.append(features[i - lookback:i])\n",
        "        y.append(target[i])\n",
        "    return np.array(X), np.array(y)\n",
        "\n",
        "all_preds = []\n",
        "n_splits = 3\n",
        "\n",
        "# === Forecasting loop ===\n",
        "for company in tqdm(df['Company'].unique(), desc=\"LSTM Forecasting\"):\n",
        "    company_data = df[df['Company'] == company].copy()\n",
        "    params = lstm_params[lstm_params['Company'] == company]\n",
        "    if len(params) == 0 or len(company_data) < 100:\n",
        "        continue\n",
        "\n",
        "    lookback = int(params['params_lookback'].values[0])\n",
        "    units = int(params['params_units'].values[0])\n",
        "    dropout = float(params['params_dropout'].values[0])\n",
        "    batch_size = int(params['params_batch_size'].values[0])\n",
        "    epochs = int(params['params_epochs'].values[0])\n",
        "\n",
        "    company_data = company_data.dropna()\n",
        "    train = company_data[company_data['Date'].isin(train_dates)].copy()\n",
        "    test = company_data[company_data['Date'].isin(test_dates)].copy()\n",
        "    if len(train) < lookback or len(test) <= lookback:\n",
        "        continue\n",
        "\n",
        "    features = ['Mkt-RF', 'SMB', 'HML', 'RMW', 'CMA', 'Lagged_Return', 'Lagged_Volume', 'Lagged_Sentiment']\n",
        "    X_all = company_data[features].values\n",
        "    y_all = company_data['Price Close'].values.reshape(-1, 1)\n",
        "\n",
        "    f_scaler = MinMaxScaler()\n",
        "    t_scaler = MinMaxScaler()\n",
        "    X_scaled = f_scaler.fit_transform(X_all)\n",
        "    y_scaled = t_scaler.fit_transform(y_all)\n",
        "\n",
        "    full_data = np.hstack((X_scaled, y_scaled))\n",
        "    X_seq, y_seq = create_sequences(full_data, y_scaled, lookback)\n",
        "\n",
        "    valid_indices = company_data.index[lookback:]\n",
        "    seq_dates = company_data.loc[valid_indices, 'Date'].values\n",
        "    train_mask = np.isin(seq_dates, train_dates)\n",
        "    test_mask = np.isin(seq_dates, test_dates)\n",
        "    X_train_all = X_seq[train_mask]\n",
        "    y_train_all = y_seq[train_mask]\n",
        "    X_test = X_seq[test_mask]\n",
        "    y_test = y_seq[test_mask]\n",
        "    test_seq_dates = seq_dates[test_mask]\n",
        "    if len(X_train_all) < n_splits + 1 or len(X_test) == 0:\n",
        "        continue\n",
        "\n",
        "    tscv = TimeSeriesSplit(n_splits=n_splits)\n",
        "    for train_idx, val_idx in tscv.split(X_train_all):\n",
        "        X_t, X_v = X_train_all[train_idx], X_train_all[val_idx]\n",
        "        y_t, y_v = y_train_all[train_idx], y_train_all[val_idx]\n",
        "        model = Sequential()\n",
        "        model.add(LSTM(units, input_shape=(X_t.shape[1], X_t.shape[2])))\n",
        "        model.add(Dropout(dropout))\n",
        "        model.add(Dense(1))\n",
        "        model.compile(optimizer=Adam(learning_rate=0.001), loss='mse')\n",
        "        es = EarlyStopping(patience=5, restore_best_weights=True, verbose=0)\n",
        "        model.fit(X_t, y_t, validation_data=(X_v, y_v),\n",
        "                  epochs=epochs, batch_size=batch_size, callbacks=[es], verbose=0)\n",
        "\n",
        "    preds_scaled = model.predict(X_test)\n",
        "    preds = t_scaler.inverse_transform(preds_scaled)\n",
        "\n",
        "    test_result = test.copy()\n",
        "    test_result = test_result[test_result['Date'].isin(test_seq_dates)]\n",
        "    test_result = test_result.copy()\n",
        "    test_result['Predicted_Price'] = preds\n",
        "    test_result['Prev_Price'] = test_result['Price Close'].shift(1)\n",
        "    test_result['Predicted_Return'] = test_result['Predicted_Price'].pct_change()\n",
        "    test_result = test_result.dropna(subset=['Predicted_Return'])\n",
        "    test_result['Company'] = company\n",
        "    all_preds.append(test_result[['Date', 'Company', 'Predicted_Return']])\n",
        "\n",
        "combined = pd.concat(all_preds)\n",
        "index_returns = combined.groupby('Date')['Predicted_Return'].mean().reset_index()\n",
        "index_returns.rename(columns={'Predicted_Return': 'Index_Predicted_Return'}, inplace=True)\n",
        "index_returns['Predicted_Index_Level'] = (1 + index_returns['Index_Predicted_Return']).cumprod() * start_value\n",
        "\n",
        "final = pd.merge(actual_index[['Date', 'Index_Level']], index_returns, on='Date', how='inner')\n",
        "final.to_csv(\"lstm_with_finetuned_finbert_index.csv\", index=False)\n",
        "\n",
        "plt.figure(figsize=(12, 6))\n",
        "plt.plot(final['Date'], final['Index_Level'], label='Actual Index Price', color='blue')\n",
        "plt.plot(final['Date'], final['Predicted_Index_Level'], label='LSTM with Fine-Tuned FinBERT Sentiment', color='orange')\n",
        "plt.xlabel(\"Date\")\n",
        "plt.ylabel(\"Index Price\")\n",
        "plt.legend()\n",
        "plt.tight_layout()\n",
        "plt.savefig(\"lstm_with_finetuned_finbert_sentiment_forecast.png\", dpi=300)\n",
        "plt.show()\n",
        "\n",
        "rmse = np.sqrt(mean_squared_error(final['Index_Level'], final['Predicted_Index_Level']))\n",
        "print(f\"LSTM Index Level RMSE with Fine-Tuned FinBERT Sentiment: {rmse:.2f}\")\n"
      ]
    },
    {
      "cell_type": "code",
      "source": [
        "import pandas as pd\n",
        "import numpy as np\n",
        "from sklearn.preprocessing import MinMaxScaler\n",
        "from sklearn.metrics import mean_squared_error\n",
        "from sklearn.model_selection import TimeSeriesSplit\n",
        "from tensorflow.keras.models import Sequential\n",
        "from tensorflow.keras.layers import LSTM, Dense, Dropout\n",
        "from tensorflow.keras.optimizers import Adam\n",
        "from tensorflow.keras.callbacks import EarlyStopping\n",
        "import matplotlib.pyplot as plt\n",
        "from tqdm import tqdm\n",
        "\n",
        "# === Load stock data ===\n",
        "df = pd.read_csv(\"cleaned_stock_data_without_arm.csv\")\n",
        "df['Date'] = pd.to_datetime(df['Date'])\n",
        "df = df.sort_values(['Company', 'Date'])\n",
        "df['Price Close'] = df['Price Close'].astype(str).str.replace(\",\", \".\", regex=False)\n",
        "df['Price Close'] = pd.to_numeric(df['Price Close'], errors='coerce')\n",
        "\n",
        "# === Load and merge sentiment (Filtered for Technology) ===\n",
        "sent_df = pd.read_csv(\"finetuned_finbert_sentiment.csv\")\n",
        "map_df = pd.read_excel(\"matched company names .xlsx\")\n",
        "sent_df['company'] = sent_df['company'].str.strip()\n",
        "map_df['company name'] = map_df['company name'].str.strip()\n",
        "map_df.columns = ['company', 'Company']\n",
        "sent_df['date'] = pd.to_datetime(sent_df['date'])\n",
        "\n",
        "# Filter only Technology-labeled headlines\n",
        "sent_df = sent_df[sent_df['Predicted_Label'] == 'Technology']\n",
        "\n",
        "mapped_sent = pd.merge(sent_df, map_df, on='company', how='inner')\n",
        "mapped_sent = mapped_sent[['Company', 'date', 'finetuned_sentiment_label']]\n",
        "mapped_sent['date'] = mapped_sent['date'].dt.normalize()\n",
        "\n",
        "avg_sentiment = mapped_sent.groupby(['Company', 'date'])['finetuned_sentiment_label'].mean().reset_index()\n",
        "avg_sentiment = avg_sentiment.rename(columns={'date': 'Date', 'finetuned_sentiment_label': 'Sentiment'})\n",
        "df = pd.merge(df, avg_sentiment, on=['Company', 'Date'], how='left')\n",
        "\n",
        "# === Conditional decay for sentiment ===\n",
        "def apply_conditional_decay(series, decay=0.9):\n",
        "    output, last_val = [], None\n",
        "    for val in series:\n",
        "        if pd.notna(val):\n",
        "            if val == 0:\n",
        "                last_val = None\n",
        "                output.append(np.nan)\n",
        "            else:\n",
        "                last_val = val\n",
        "                output.append(val)\n",
        "        else:\n",
        "            if last_val is not None:\n",
        "                last_val *= decay\n",
        "                output.append(last_val)\n",
        "            else:\n",
        "                output.append(np.nan)\n",
        "    return output\n",
        "\n",
        "df = df.sort_values(['Company', 'Date'])\n",
        "df['Sentiment'] = df.groupby('Company')['Sentiment'].transform(apply_conditional_decay)\n",
        "df['Sentiment'] = df['Sentiment'].fillna(0.0)\n",
        "df['Lagged_Sentiment'] = df.groupby('Company')['Sentiment'].shift(1)\n",
        "\n",
        "# === Feature engineering ===\n",
        "for col in ['Mkt-RF', 'SMB', 'HML', 'RMW', 'CMA']:\n",
        "    df[col] = df.groupby('Company')[col].shift(1)\n",
        "df['Lagged_Return'] = df.groupby('Company')['Return'].shift(1)\n",
        "df['Lagged_Volume'] = df.groupby('Company')['Volume'].shift(1)\n",
        "df = df.dropna(subset=['Price Close', 'Mkt-RF', 'SMB', 'HML', 'RMW', 'CMA', 'Lagged_Return', 'Lagged_Volume'])\n",
        "\n",
        "# Load best LSTM params and actual index\n",
        "lstm_params = pd.read_csv(\"best_trials_all.csv\")\n",
        "lstm_params = lstm_params[lstm_params['state'] == 'COMPLETE']\n",
        "actual_index = pd.read_csv(\"equal_weighted_index_without_arm.csv\")\n",
        "actual_index['Date'] = pd.to_datetime(actual_index['Date'])\n",
        "\n",
        "# Train/test split\n",
        "df['Date'] = pd.to_datetime(df['Date'])\n",
        "unique_dates = df['Date'].sort_values().unique()\n",
        "split_index = int(len(unique_dates) * 0.8)\n",
        "train_dates = unique_dates[:split_index]\n",
        "test_dates = unique_dates[split_index:]\n",
        "last_train_date = pd.to_datetime(train_dates[-1])\n",
        "start_value = actual_index.loc[actual_index['Date'] == last_train_date, 'Index_Level'].values[0] \\\n",
        "    if last_train_date in actual_index['Date'].values else actual_index[actual_index['Date'] < last_train_date]['Index_Level'].iloc[-1]\n",
        "\n",
        "# Sequence creation\n",
        "def create_sequences(features, target, lookback):\n",
        "    X, y = [], []\n",
        "    for i in range(lookback, len(features)):\n",
        "        X.append(features[i - lookback:i])\n",
        "        y.append(target[i])\n",
        "    return np.array(X), np.array(y)\n",
        "\n",
        "all_preds = []\n",
        "n_splits = 3\n",
        "\n",
        "# === Forecasting loop ===\n",
        "for company in tqdm(df['Company'].unique(), desc=\"LSTM Forecasting\"):\n",
        "    company_data = df[df['Company'] == company].copy()\n",
        "    params = lstm_params[lstm_params['Company'] == company]\n",
        "    if len(params) == 0 or len(company_data) < 100:\n",
        "        continue\n",
        "\n",
        "    lookback = int(params['params_lookback'].values[0])\n",
        "    units = int(params['params_units'].values[0])\n",
        "    dropout = float(params['params_dropout'].values[0])\n",
        "    batch_size = int(params['params_batch_size'].values[0])\n",
        "    epochs = int(params['params_epochs'].values[0])\n",
        "\n",
        "    company_data = company_data.dropna()\n",
        "    train = company_data[company_data['Date'].isin(train_dates)].copy()\n",
        "    test = company_data[company_data['Date'].isin(test_dates)].copy()\n",
        "    if len(train) < lookback or len(test) <= lookback:\n",
        "        continue\n",
        "\n",
        "    features = ['Mkt-RF', 'SMB', 'HML', 'RMW', 'CMA', 'Lagged_Return', 'Lagged_Volume', 'Lagged_Sentiment']\n",
        "    X_all = company_data[features].values\n",
        "    y_all = company_data['Price Close'].values.reshape(-1, 1)\n",
        "\n",
        "    f_scaler = MinMaxScaler()\n",
        "    t_scaler = MinMaxScaler()\n",
        "    X_scaled = f_scaler.fit_transform(X_all)\n",
        "    y_scaled = t_scaler.fit_transform(y_all)\n",
        "\n",
        "    full_data = np.hstack((X_scaled, y_scaled))\n",
        "    X_seq, y_seq = create_sequences(full_data, y_scaled, lookback)\n",
        "\n",
        "    valid_indices = company_data.index[lookback:]\n",
        "    seq_dates = company_data.loc[valid_indices, 'Date'].values\n",
        "    train_mask = np.isin(seq_dates, train_dates)\n",
        "    test_mask = np.isin(seq_dates, test_dates)\n",
        "    X_train_all = X_seq[train_mask]\n",
        "    y_train_all = y_seq[train_mask]\n",
        "    X_test = X_seq[test_mask]\n",
        "    y_test = y_seq[test_mask]\n",
        "    test_seq_dates = seq_dates[test_mask]\n",
        "    if len(X_train_all) < n_splits + 1 or len(X_test) == 0:\n",
        "        continue\n",
        "\n",
        "    tscv = TimeSeriesSplit(n_splits=n_splits)\n",
        "    for train_idx, val_idx in tscv.split(X_train_all):\n",
        "        X_t, X_v = X_train_all[train_idx], X_train_all[val_idx]\n",
        "        y_t, y_v = y_train_all[train_idx], y_train_all[val_idx]\n",
        "        model = Sequential()\n",
        "        model.add(LSTM(units, input_shape=(X_t.shape[1], X_t.shape[2])))\n",
        "        model.add(Dropout(dropout))\n",
        "        model.add(Dense(1))\n",
        "        model.compile(optimizer=Adam(learning_rate=0.001), loss='mse')\n",
        "        es = EarlyStopping(patience=5, restore_best_weights=True, verbose=0)\n",
        "        model.fit(X_t, y_t, validation_data=(X_v, y_v),\n",
        "                  epochs=epochs, batch_size=batch_size, callbacks=[es], verbose=0)\n",
        "\n",
        "    preds_scaled = model.predict(X_test)\n",
        "    preds = t_scaler.inverse_transform(preds_scaled)\n",
        "\n",
        "    test_result = test.copy()\n",
        "    test_result = test_result[test_result['Date'].isin(test_seq_dates)]\n",
        "    test_result = test_result.copy()\n",
        "    test_result['Predicted_Price'] = preds\n",
        "    test_result['Prev_Price'] = test_result['Price Close'].shift(1)\n",
        "    test_result['Predicted_Return'] = test_result['Predicted_Price'].pct_change()\n",
        "    test_result = test_result.dropna(subset=['Predicted_Return'])\n",
        "    test_result['Company'] = company\n",
        "    all_preds.append(test_result[['Date', 'Company', 'Predicted_Return']])\n",
        "\n",
        "combined = pd.concat(all_preds)\n",
        "index_returns = combined.groupby('Date')['Predicted_Return'].mean().reset_index()\n",
        "index_returns.rename(columns={'Predicted_Return': 'Index_Predicted_Return'}, inplace=True)\n",
        "index_returns['Predicted_Index_Level'] = (1 + index_returns['Index_Predicted_Return']).cumprod() * start_value\n",
        "\n",
        "final = pd.merge(actual_index[['Date', 'Index_Level']], index_returns, on='Date', how='inner')\n",
        "final.to_csv(\"lstm_with_finetuned_tech_only_index.csv\", index=False)\n",
        "\n",
        "plt.figure(figsize=(12, 6))\n",
        "plt.plot(final['Date'], final['Index_Level'], label='Actual Index Price', color='blue')\n",
        "plt.plot(final['Date'], final['Predicted_Index_Level'], label='LSTM with Finetuned FinBERT Tech Sentiment', color='orange')\n",
        "plt.xlabel(\"Date\")\n",
        "plt.ylabel(\"Index Price\")\n",
        "plt.legend()\n",
        "plt.tight_layout()\n",
        "plt.savefig(\"lstm_with_finetuned_tech_sentiment_forecast.png\", dpi=300)\n",
        "plt.show()\n",
        "\n",
        "rmse = np.sqrt(mean_squared_error(final['Index_Level'], final['Predicted_Index_Level']))\n",
        "print(f\"LSTM Index Level RMSE with Finetuned FinBERT Tech Sentiment: {rmse:.2f}\")\n"
      ],
      "metadata": {
        "colab": {
          "base_uri": "https://localhost:8080/",
          "height": 1000
        },
        "id": "Rc3_SAR0UIUn",
        "outputId": "58e47e20-f5c3-4213-8b0f-6b1abd7a5a61"
      },
      "execution_count": null,
      "outputs": [
        {
          "output_type": "stream",
          "name": "stderr",
          "text": [
            "<ipython-input-2-d434dbcac0cc>:77: SettingWithCopyWarning: \n",
            "A value is trying to be set on a copy of a slice from a DataFrame.\n",
            "Try using .loc[row_indexer,col_indexer] = value instead\n",
            "\n",
            "See the caveats in the documentation: https://pandas.pydata.org/pandas-docs/stable/user_guide/indexing.html#returning-a-view-versus-a-copy\n",
            "  df['Date'] = pd.to_datetime(df['Date'])\n",
            "LSTM Forecasting:   0%|          | 0/44 [00:00<?, ?it/s]/usr/local/lib/python3.11/dist-packages/keras/src/layers/rnn/rnn.py:200: UserWarning: Do not pass an `input_shape`/`input_dim` argument to a layer. When using Sequential models, prefer using an `Input(shape)` object as the first layer in the model instead.\n",
            "  super().__init__(**kwargs)\n"
          ]
        },
        {
          "output_type": "stream",
          "name": "stdout",
          "text": [
            "\u001b[1m7/7\u001b[0m \u001b[32m━━━━━━━━━━━━━━━━━━━━\u001b[0m\u001b[37m\u001b[0m \u001b[1m0s\u001b[0m 29ms/step\n"
          ]
        },
        {
          "output_type": "stream",
          "name": "stderr",
          "text": [
            "\rLSTM Forecasting:   2%|▏         | 1/44 [00:24<17:47, 24.83s/it]/usr/local/lib/python3.11/dist-packages/keras/src/layers/rnn/rnn.py:200: UserWarning: Do not pass an `input_shape`/`input_dim` argument to a layer. When using Sequential models, prefer using an `Input(shape)` object as the first layer in the model instead.\n",
            "  super().__init__(**kwargs)\n"
          ]
        },
        {
          "output_type": "stream",
          "name": "stdout",
          "text": [
            "\u001b[1m7/7\u001b[0m \u001b[32m━━━━━━━━━━━━━━━━━━━━\u001b[0m\u001b[37m\u001b[0m \u001b[1m1s\u001b[0m 70ms/step\n"
          ]
        },
        {
          "output_type": "stream",
          "name": "stderr",
          "text": [
            "\rLSTM Forecasting:   5%|▍         | 2/44 [00:43<14:46, 21.11s/it]/usr/local/lib/python3.11/dist-packages/keras/src/layers/rnn/rnn.py:200: UserWarning: Do not pass an `input_shape`/`input_dim` argument to a layer. When using Sequential models, prefer using an `Input(shape)` object as the first layer in the model instead.\n",
            "  super().__init__(**kwargs)\n"
          ]
        },
        {
          "output_type": "stream",
          "name": "stdout",
          "text": [
            "\u001b[1m7/7\u001b[0m \u001b[32m━━━━━━━━━━━━━━━━━━━━\u001b[0m\u001b[37m\u001b[0m \u001b[1m0s\u001b[0m 29ms/step\n"
          ]
        },
        {
          "output_type": "stream",
          "name": "stderr",
          "text": [
            "\rLSTM Forecasting:   7%|▋         | 3/44 [01:00<13:02, 19.08s/it]/usr/local/lib/python3.11/dist-packages/keras/src/layers/rnn/rnn.py:200: UserWarning: Do not pass an `input_shape`/`input_dim` argument to a layer. When using Sequential models, prefer using an `Input(shape)` object as the first layer in the model instead.\n",
            "  super().__init__(**kwargs)\n"
          ]
        },
        {
          "output_type": "stream",
          "name": "stdout",
          "text": [
            "\u001b[1m7/7\u001b[0m \u001b[32m━━━━━━━━━━━━━━━━━━━━\u001b[0m\u001b[37m\u001b[0m \u001b[1m1s\u001b[0m 47ms/step\n"
          ]
        },
        {
          "output_type": "stream",
          "name": "stderr",
          "text": [
            "\rLSTM Forecasting:   9%|▉         | 4/44 [01:16<12:04, 18.12s/it]/usr/local/lib/python3.11/dist-packages/keras/src/layers/rnn/rnn.py:200: UserWarning: Do not pass an `input_shape`/`input_dim` argument to a layer. When using Sequential models, prefer using an `Input(shape)` object as the first layer in the model instead.\n",
            "  super().__init__(**kwargs)\n"
          ]
        },
        {
          "output_type": "stream",
          "name": "stdout",
          "text": [
            "\u001b[1m7/7\u001b[0m \u001b[32m━━━━━━━━━━━━━━━━━━━━\u001b[0m\u001b[37m\u001b[0m \u001b[1m0s\u001b[0m 42ms/step\n"
          ]
        },
        {
          "output_type": "stream",
          "name": "stderr",
          "text": [
            "\rLSTM Forecasting:  11%|█▏        | 5/44 [02:23<23:17, 35.84s/it]/usr/local/lib/python3.11/dist-packages/keras/src/layers/rnn/rnn.py:200: UserWarning: Do not pass an `input_shape`/`input_dim` argument to a layer. When using Sequential models, prefer using an `Input(shape)` object as the first layer in the model instead.\n",
            "  super().__init__(**kwargs)\n"
          ]
        },
        {
          "output_type": "stream",
          "name": "stdout",
          "text": [
            "\u001b[1m7/7\u001b[0m \u001b[32m━━━━━━━━━━━━━━━━━━━━\u001b[0m\u001b[37m\u001b[0m \u001b[1m1s\u001b[0m 43ms/step\n"
          ]
        },
        {
          "output_type": "stream",
          "name": "stderr",
          "text": [
            "<ipython-input-2-d434dbcac0cc>:163: SettingWithCopyWarning: \n",
            "A value is trying to be set on a copy of a slice from a DataFrame.\n",
            "Try using .loc[row_indexer,col_indexer] = value instead\n",
            "\n",
            "See the caveats in the documentation: https://pandas.pydata.org/pandas-docs/stable/user_guide/indexing.html#returning-a-view-versus-a-copy\n",
            "  test_result['Company'] = company\n",
            "\rLSTM Forecasting:  14%|█▎        | 6/44 [02:45<19:39, 31.03s/it]/usr/local/lib/python3.11/dist-packages/keras/src/layers/rnn/rnn.py:200: UserWarning: Do not pass an `input_shape`/`input_dim` argument to a layer. When using Sequential models, prefer using an `Input(shape)` object as the first layer in the model instead.\n",
            "  super().__init__(**kwargs)\n"
          ]
        },
        {
          "output_type": "stream",
          "name": "stdout",
          "text": [
            "\u001b[1m7/7\u001b[0m \u001b[32m━━━━━━━━━━━━━━━━━━━━\u001b[0m\u001b[37m\u001b[0m \u001b[1m0s\u001b[0m 39ms/step\n"
          ]
        },
        {
          "output_type": "stream",
          "name": "stderr",
          "text": [
            "\rLSTM Forecasting:  16%|█▌        | 7/44 [03:27<21:15, 34.47s/it]/usr/local/lib/python3.11/dist-packages/keras/src/layers/rnn/rnn.py:200: UserWarning: Do not pass an `input_shape`/`input_dim` argument to a layer. When using Sequential models, prefer using an `Input(shape)` object as the first layer in the model instead.\n",
            "  super().__init__(**kwargs)\n"
          ]
        },
        {
          "output_type": "stream",
          "name": "stdout",
          "text": [
            "\u001b[1m7/7\u001b[0m \u001b[32m━━━━━━━━━━━━━━━━━━━━\u001b[0m\u001b[37m\u001b[0m \u001b[1m0s\u001b[0m 30ms/step\n"
          ]
        },
        {
          "output_type": "stream",
          "name": "stderr",
          "text": [
            "\rLSTM Forecasting:  18%|█▊        | 8/44 [03:42<17:04, 28.46s/it]/usr/local/lib/python3.11/dist-packages/keras/src/layers/rnn/rnn.py:200: UserWarning: Do not pass an `input_shape`/`input_dim` argument to a layer. When using Sequential models, prefer using an `Input(shape)` object as the first layer in the model instead.\n",
            "  super().__init__(**kwargs)\n"
          ]
        },
        {
          "output_type": "stream",
          "name": "stdout",
          "text": [
            "\u001b[1m7/7\u001b[0m \u001b[32m━━━━━━━━━━━━━━━━━━━━\u001b[0m\u001b[37m\u001b[0m \u001b[1m0s\u001b[0m 30ms/step\n"
          ]
        },
        {
          "output_type": "stream",
          "name": "stderr",
          "text": [
            "\rLSTM Forecasting:  20%|██        | 9/44 [04:04<15:18, 26.23s/it]/usr/local/lib/python3.11/dist-packages/keras/src/layers/rnn/rnn.py:200: UserWarning: Do not pass an `input_shape`/`input_dim` argument to a layer. When using Sequential models, prefer using an `Input(shape)` object as the first layer in the model instead.\n",
            "  super().__init__(**kwargs)\n"
          ]
        },
        {
          "output_type": "stream",
          "name": "stdout",
          "text": [
            "\u001b[1m7/7\u001b[0m \u001b[32m━━━━━━━━━━━━━━━━━━━━\u001b[0m\u001b[37m\u001b[0m \u001b[1m0s\u001b[0m 30ms/step\n"
          ]
        },
        {
          "output_type": "stream",
          "name": "stderr",
          "text": [
            "\rLSTM Forecasting:  23%|██▎       | 10/44 [04:22<13:33, 23.93s/it]/usr/local/lib/python3.11/dist-packages/keras/src/layers/rnn/rnn.py:200: UserWarning: Do not pass an `input_shape`/`input_dim` argument to a layer. When using Sequential models, prefer using an `Input(shape)` object as the first layer in the model instead.\n",
            "  super().__init__(**kwargs)\n"
          ]
        },
        {
          "output_type": "stream",
          "name": "stdout",
          "text": [
            "\u001b[1m7/7\u001b[0m \u001b[32m━━━━━━━━━━━━━━━━━━━━\u001b[0m\u001b[37m\u001b[0m \u001b[1m0s\u001b[0m 33ms/step\n"
          ]
        },
        {
          "output_type": "stream",
          "name": "stderr",
          "text": [
            "\rLSTM Forecasting:  25%|██▌       | 11/44 [04:42<12:23, 22.54s/it]/usr/local/lib/python3.11/dist-packages/keras/src/layers/rnn/rnn.py:200: UserWarning: Do not pass an `input_shape`/`input_dim` argument to a layer. When using Sequential models, prefer using an `Input(shape)` object as the first layer in the model instead.\n",
            "  super().__init__(**kwargs)\n"
          ]
        },
        {
          "output_type": "stream",
          "name": "stdout",
          "text": [
            "\u001b[1m7/7\u001b[0m \u001b[32m━━━━━━━━━━━━━━━━━━━━\u001b[0m\u001b[37m\u001b[0m \u001b[1m0s\u001b[0m 29ms/step\n"
          ]
        },
        {
          "output_type": "stream",
          "name": "stderr",
          "text": [
            "\rLSTM Forecasting:  27%|██▋       | 12/44 [04:58<10:55, 20.49s/it]/usr/local/lib/python3.11/dist-packages/keras/src/layers/rnn/rnn.py:200: UserWarning: Do not pass an `input_shape`/`input_dim` argument to a layer. When using Sequential models, prefer using an `Input(shape)` object as the first layer in the model instead.\n",
            "  super().__init__(**kwargs)\n"
          ]
        },
        {
          "output_type": "stream",
          "name": "stdout",
          "text": [
            "\u001b[1m7/7\u001b[0m \u001b[32m━━━━━━━━━━━━━━━━━━━━\u001b[0m\u001b[37m\u001b[0m \u001b[1m0s\u001b[0m 30ms/step\n"
          ]
        },
        {
          "output_type": "stream",
          "name": "stderr",
          "text": [
            "\rLSTM Forecasting:  30%|██▉       | 13/44 [05:15<10:08, 19.64s/it]/usr/local/lib/python3.11/dist-packages/keras/src/layers/rnn/rnn.py:200: UserWarning: Do not pass an `input_shape`/`input_dim` argument to a layer. When using Sequential models, prefer using an `Input(shape)` object as the first layer in the model instead.\n",
            "  super().__init__(**kwargs)\n"
          ]
        },
        {
          "output_type": "stream",
          "name": "stdout",
          "text": [
            "\u001b[1m7/7\u001b[0m \u001b[32m━━━━━━━━━━━━━━━━━━━━\u001b[0m\u001b[37m\u001b[0m \u001b[1m0s\u001b[0m 30ms/step\n"
          ]
        },
        {
          "output_type": "stream",
          "name": "stderr",
          "text": [
            "\rLSTM Forecasting:  32%|███▏      | 14/44 [05:34<09:44, 19.48s/it]/usr/local/lib/python3.11/dist-packages/keras/src/layers/rnn/rnn.py:200: UserWarning: Do not pass an `input_shape`/`input_dim` argument to a layer. When using Sequential models, prefer using an `Input(shape)` object as the first layer in the model instead.\n",
            "  super().__init__(**kwargs)\n"
          ]
        },
        {
          "output_type": "stream",
          "name": "stdout",
          "text": [
            "\u001b[1m7/7\u001b[0m \u001b[32m━━━━━━━━━━━━━━━━━━━━\u001b[0m\u001b[37m\u001b[0m \u001b[1m0s\u001b[0m 33ms/step\n"
          ]
        },
        {
          "output_type": "stream",
          "name": "stderr",
          "text": [
            "\rLSTM Forecasting:  34%|███▍      | 15/44 [05:57<09:48, 20.30s/it]/usr/local/lib/python3.11/dist-packages/keras/src/layers/rnn/rnn.py:200: UserWarning: Do not pass an `input_shape`/`input_dim` argument to a layer. When using Sequential models, prefer using an `Input(shape)` object as the first layer in the model instead.\n",
            "  super().__init__(**kwargs)\n"
          ]
        },
        {
          "output_type": "stream",
          "name": "stdout",
          "text": [
            "\u001b[1m7/7\u001b[0m \u001b[32m━━━━━━━━━━━━━━━━━━━━\u001b[0m\u001b[37m\u001b[0m \u001b[1m0s\u001b[0m 34ms/step\n"
          ]
        },
        {
          "output_type": "stream",
          "name": "stderr",
          "text": [
            "\rLSTM Forecasting:  36%|███▋      | 16/44 [06:16<09:22, 20.11s/it]/usr/local/lib/python3.11/dist-packages/keras/src/layers/rnn/rnn.py:200: UserWarning: Do not pass an `input_shape`/`input_dim` argument to a layer. When using Sequential models, prefer using an `Input(shape)` object as the first layer in the model instead.\n",
            "  super().__init__(**kwargs)\n"
          ]
        },
        {
          "output_type": "stream",
          "name": "stdout",
          "text": [
            "\u001b[1m7/7\u001b[0m \u001b[32m━━━━━━━━━━━━━━━━━━━━\u001b[0m\u001b[37m\u001b[0m \u001b[1m0s\u001b[0m 31ms/step\n"
          ]
        },
        {
          "output_type": "stream",
          "name": "stderr",
          "text": [
            "\rLSTM Forecasting:  39%|███▊      | 17/44 [06:37<09:07, 20.28s/it]/usr/local/lib/python3.11/dist-packages/keras/src/layers/rnn/rnn.py:200: UserWarning: Do not pass an `input_shape`/`input_dim` argument to a layer. When using Sequential models, prefer using an `Input(shape)` object as the first layer in the model instead.\n",
            "  super().__init__(**kwargs)\n"
          ]
        },
        {
          "output_type": "stream",
          "name": "stdout",
          "text": [
            "\u001b[1m7/7\u001b[0m \u001b[32m━━━━━━━━━━━━━━━━━━━━\u001b[0m\u001b[37m\u001b[0m \u001b[1m0s\u001b[0m 48ms/step\n"
          ]
        },
        {
          "output_type": "stream",
          "name": "stderr",
          "text": [
            "\rLSTM Forecasting:  41%|████      | 18/44 [07:53<16:05, 37.15s/it]/usr/local/lib/python3.11/dist-packages/keras/src/layers/rnn/rnn.py:200: UserWarning: Do not pass an `input_shape`/`input_dim` argument to a layer. When using Sequential models, prefer using an `Input(shape)` object as the first layer in the model instead.\n",
            "  super().__init__(**kwargs)\n"
          ]
        },
        {
          "output_type": "stream",
          "name": "stdout",
          "text": [
            "\u001b[1m7/7\u001b[0m \u001b[32m━━━━━━━━━━━━━━━━━━━━\u001b[0m\u001b[37m\u001b[0m \u001b[1m0s\u001b[0m 31ms/step\n"
          ]
        },
        {
          "output_type": "stream",
          "name": "stderr",
          "text": [
            "\rLSTM Forecasting:  43%|████▎     | 19/44 [08:12<13:09, 31.59s/it]/usr/local/lib/python3.11/dist-packages/keras/src/layers/rnn/rnn.py:200: UserWarning: Do not pass an `input_shape`/`input_dim` argument to a layer. When using Sequential models, prefer using an `Input(shape)` object as the first layer in the model instead.\n",
            "  super().__init__(**kwargs)\n"
          ]
        },
        {
          "output_type": "stream",
          "name": "stdout",
          "text": [
            "\u001b[1m7/7\u001b[0m \u001b[32m━━━━━━━━━━━━━━━━━━━━\u001b[0m\u001b[37m\u001b[0m \u001b[1m0s\u001b[0m 44ms/step\n"
          ]
        },
        {
          "output_type": "stream",
          "name": "stderr",
          "text": [
            "\rLSTM Forecasting:  45%|████▌     | 20/44 [08:32<11:16, 28.20s/it]/usr/local/lib/python3.11/dist-packages/keras/src/layers/rnn/rnn.py:200: UserWarning: Do not pass an `input_shape`/`input_dim` argument to a layer. When using Sequential models, prefer using an `Input(shape)` object as the first layer in the model instead.\n",
            "  super().__init__(**kwargs)\n"
          ]
        },
        {
          "output_type": "stream",
          "name": "stdout",
          "text": [
            "\u001b[1m7/7\u001b[0m \u001b[32m━━━━━━━━━━━━━━━━━━━━\u001b[0m\u001b[37m\u001b[0m \u001b[1m0s\u001b[0m 32ms/step\n"
          ]
        },
        {
          "output_type": "stream",
          "name": "stderr",
          "text": [
            "\rLSTM Forecasting:  48%|████▊     | 21/44 [08:50<09:34, 24.96s/it]/usr/local/lib/python3.11/dist-packages/keras/src/layers/rnn/rnn.py:200: UserWarning: Do not pass an `input_shape`/`input_dim` argument to a layer. When using Sequential models, prefer using an `Input(shape)` object as the first layer in the model instead.\n",
            "  super().__init__(**kwargs)\n"
          ]
        },
        {
          "output_type": "stream",
          "name": "stdout",
          "text": [
            "\u001b[1m7/7\u001b[0m \u001b[32m━━━━━━━━━━━━━━━━━━━━\u001b[0m\u001b[37m\u001b[0m \u001b[1m0s\u001b[0m 30ms/step\n"
          ]
        },
        {
          "output_type": "stream",
          "name": "stderr",
          "text": [
            "\rLSTM Forecasting:  50%|█████     | 22/44 [09:06<08:13, 22.42s/it]/usr/local/lib/python3.11/dist-packages/keras/src/layers/rnn/rnn.py:200: UserWarning: Do not pass an `input_shape`/`input_dim` argument to a layer. When using Sequential models, prefer using an `Input(shape)` object as the first layer in the model instead.\n",
            "  super().__init__(**kwargs)\n"
          ]
        },
        {
          "output_type": "stream",
          "name": "stdout",
          "text": [
            "\u001b[1m7/7\u001b[0m \u001b[32m━━━━━━━━━━━━━━━━━━━━\u001b[0m\u001b[37m\u001b[0m \u001b[1m0s\u001b[0m 32ms/step\n"
          ]
        },
        {
          "output_type": "stream",
          "name": "stderr",
          "text": [
            "\rLSTM Forecasting:  52%|█████▏    | 23/44 [09:17<06:39, 19.02s/it]/usr/local/lib/python3.11/dist-packages/keras/src/layers/rnn/rnn.py:200: UserWarning: Do not pass an `input_shape`/`input_dim` argument to a layer. When using Sequential models, prefer using an `Input(shape)` object as the first layer in the model instead.\n",
            "  super().__init__(**kwargs)\n"
          ]
        },
        {
          "output_type": "stream",
          "name": "stdout",
          "text": [
            "\u001b[1m7/7\u001b[0m \u001b[32m━━━━━━━━━━━━━━━━━━━━\u001b[0m\u001b[37m\u001b[0m \u001b[1m0s\u001b[0m 29ms/step\n"
          ]
        },
        {
          "output_type": "stream",
          "name": "stderr",
          "text": [
            "\rLSTM Forecasting:  55%|█████▍    | 24/44 [09:28<05:33, 16.66s/it]/usr/local/lib/python3.11/dist-packages/keras/src/layers/rnn/rnn.py:200: UserWarning: Do not pass an `input_shape`/`input_dim` argument to a layer. When using Sequential models, prefer using an `Input(shape)` object as the first layer in the model instead.\n",
            "  super().__init__(**kwargs)\n"
          ]
        },
        {
          "output_type": "stream",
          "name": "stdout",
          "text": [
            "\u001b[1m7/7\u001b[0m \u001b[32m━━━━━━━━━━━━━━━━━━━━\u001b[0m\u001b[37m\u001b[0m \u001b[1m0s\u001b[0m 30ms/step\n"
          ]
        },
        {
          "output_type": "stream",
          "name": "stderr",
          "text": [
            "\rLSTM Forecasting:  57%|█████▋    | 25/44 [09:51<05:48, 18.35s/it]/usr/local/lib/python3.11/dist-packages/keras/src/layers/rnn/rnn.py:200: UserWarning: Do not pass an `input_shape`/`input_dim` argument to a layer. When using Sequential models, prefer using an `Input(shape)` object as the first layer in the model instead.\n",
            "  super().__init__(**kwargs)\n"
          ]
        },
        {
          "output_type": "stream",
          "name": "stdout",
          "text": [
            "\u001b[1m7/7\u001b[0m \u001b[32m━━━━━━━━━━━━━━━━━━━━\u001b[0m\u001b[37m\u001b[0m \u001b[1m0s\u001b[0m 30ms/step\n"
          ]
        },
        {
          "output_type": "stream",
          "name": "stderr",
          "text": [
            "\rLSTM Forecasting:  59%|█████▉    | 26/44 [10:05<05:09, 17.19s/it]/usr/local/lib/python3.11/dist-packages/keras/src/layers/rnn/rnn.py:200: UserWarning: Do not pass an `input_shape`/`input_dim` argument to a layer. When using Sequential models, prefer using an `Input(shape)` object as the first layer in the model instead.\n",
            "  super().__init__(**kwargs)\n"
          ]
        },
        {
          "output_type": "stream",
          "name": "stdout",
          "text": [
            "\u001b[1m7/7\u001b[0m \u001b[32m━━━━━━━━━━━━━━━━━━━━\u001b[0m\u001b[37m\u001b[0m \u001b[1m0s\u001b[0m 33ms/step\n"
          ]
        },
        {
          "output_type": "stream",
          "name": "stderr",
          "text": [
            "\rLSTM Forecasting:  61%|██████▏   | 27/44 [10:26<05:12, 18.39s/it]/usr/local/lib/python3.11/dist-packages/keras/src/layers/rnn/rnn.py:200: UserWarning: Do not pass an `input_shape`/`input_dim` argument to a layer. When using Sequential models, prefer using an `Input(shape)` object as the first layer in the model instead.\n",
            "  super().__init__(**kwargs)\n"
          ]
        },
        {
          "output_type": "stream",
          "name": "stdout",
          "text": [
            "\u001b[1m7/7\u001b[0m \u001b[32m━━━━━━━━━━━━━━━━━━━━\u001b[0m\u001b[37m\u001b[0m \u001b[1m0s\u001b[0m 31ms/step\n"
          ]
        },
        {
          "output_type": "stream",
          "name": "stderr",
          "text": [
            "\rLSTM Forecasting:  64%|██████▎   | 28/44 [10:40<04:29, 16.81s/it]/usr/local/lib/python3.11/dist-packages/keras/src/layers/rnn/rnn.py:200: UserWarning: Do not pass an `input_shape`/`input_dim` argument to a layer. When using Sequential models, prefer using an `Input(shape)` object as the first layer in the model instead.\n",
            "  super().__init__(**kwargs)\n"
          ]
        },
        {
          "output_type": "stream",
          "name": "stdout",
          "text": [
            "\u001b[1m7/7\u001b[0m \u001b[32m━━━━━━━━━━━━━━━━━━━━\u001b[0m\u001b[37m\u001b[0m \u001b[1m0s\u001b[0m 30ms/step\n"
          ]
        },
        {
          "output_type": "stream",
          "name": "stderr",
          "text": [
            "\rLSTM Forecasting:  66%|██████▌   | 29/44 [10:58<04:18, 17.26s/it]/usr/local/lib/python3.11/dist-packages/keras/src/layers/rnn/rnn.py:200: UserWarning: Do not pass an `input_shape`/`input_dim` argument to a layer. When using Sequential models, prefer using an `Input(shape)` object as the first layer in the model instead.\n",
            "  super().__init__(**kwargs)\n"
          ]
        },
        {
          "output_type": "stream",
          "name": "stdout",
          "text": [
            "\u001b[1m7/7\u001b[0m \u001b[32m━━━━━━━━━━━━━━━━━━━━\u001b[0m\u001b[37m\u001b[0m \u001b[1m0s\u001b[0m 30ms/step\n"
          ]
        },
        {
          "output_type": "stream",
          "name": "stderr",
          "text": [
            "\rLSTM Forecasting:  68%|██████▊   | 30/44 [11:19<04:16, 18.35s/it]/usr/local/lib/python3.11/dist-packages/keras/src/layers/rnn/rnn.py:200: UserWarning: Do not pass an `input_shape`/`input_dim` argument to a layer. When using Sequential models, prefer using an `Input(shape)` object as the first layer in the model instead.\n",
            "  super().__init__(**kwargs)\n"
          ]
        },
        {
          "output_type": "stream",
          "name": "stdout",
          "text": [
            "\u001b[1m7/7\u001b[0m \u001b[32m━━━━━━━━━━━━━━━━━━━━\u001b[0m\u001b[37m\u001b[0m \u001b[1m0s\u001b[0m 33ms/step\n"
          ]
        },
        {
          "output_type": "stream",
          "name": "stderr",
          "text": [
            "\rLSTM Forecasting:  70%|███████   | 31/44 [11:39<04:06, 18.95s/it]/usr/local/lib/python3.11/dist-packages/keras/src/layers/rnn/rnn.py:200: UserWarning: Do not pass an `input_shape`/`input_dim` argument to a layer. When using Sequential models, prefer using an `Input(shape)` object as the first layer in the model instead.\n",
            "  super().__init__(**kwargs)\n"
          ]
        },
        {
          "output_type": "stream",
          "name": "stdout",
          "text": [
            "\u001b[1m7/7\u001b[0m \u001b[32m━━━━━━━━━━━━━━━━━━━━\u001b[0m\u001b[37m\u001b[0m \u001b[1m0s\u001b[0m 32ms/step\n"
          ]
        },
        {
          "output_type": "stream",
          "name": "stderr",
          "text": [
            "\rLSTM Forecasting:  73%|███████▎  | 32/44 [12:00<03:52, 19.41s/it]/usr/local/lib/python3.11/dist-packages/keras/src/layers/rnn/rnn.py:200: UserWarning: Do not pass an `input_shape`/`input_dim` argument to a layer. When using Sequential models, prefer using an `Input(shape)` object as the first layer in the model instead.\n",
            "  super().__init__(**kwargs)\n"
          ]
        },
        {
          "output_type": "stream",
          "name": "stdout",
          "text": [
            "\u001b[1m7/7\u001b[0m \u001b[32m━━━━━━━━━━━━━━━━━━━━\u001b[0m\u001b[37m\u001b[0m \u001b[1m0s\u001b[0m 31ms/step\n"
          ]
        },
        {
          "output_type": "stream",
          "name": "stderr",
          "text": [
            "\rLSTM Forecasting:  75%|███████▌  | 33/44 [12:19<03:32, 19.31s/it]/usr/local/lib/python3.11/dist-packages/keras/src/layers/rnn/rnn.py:200: UserWarning: Do not pass an `input_shape`/`input_dim` argument to a layer. When using Sequential models, prefer using an `Input(shape)` object as the first layer in the model instead.\n",
            "  super().__init__(**kwargs)\n"
          ]
        },
        {
          "output_type": "stream",
          "name": "stdout",
          "text": [
            "\u001b[1m7/7\u001b[0m \u001b[32m━━━━━━━━━━━━━━━━━━━━\u001b[0m\u001b[37m\u001b[0m \u001b[1m0s\u001b[0m 31ms/step\n"
          ]
        },
        {
          "output_type": "stream",
          "name": "stderr",
          "text": [
            "\rLSTM Forecasting:  77%|███████▋  | 34/44 [12:38<03:13, 19.33s/it]/usr/local/lib/python3.11/dist-packages/keras/src/layers/rnn/rnn.py:200: UserWarning: Do not pass an `input_shape`/`input_dim` argument to a layer. When using Sequential models, prefer using an `Input(shape)` object as the first layer in the model instead.\n",
            "  super().__init__(**kwargs)\n"
          ]
        },
        {
          "output_type": "stream",
          "name": "stdout",
          "text": [
            "\u001b[1m7/7\u001b[0m \u001b[32m━━━━━━━━━━━━━━━━━━━━\u001b[0m\u001b[37m\u001b[0m \u001b[1m0s\u001b[0m 31ms/step\n"
          ]
        },
        {
          "output_type": "stream",
          "name": "stderr",
          "text": [
            "\rLSTM Forecasting:  80%|███████▉  | 35/44 [12:59<02:59, 19.95s/it]/usr/local/lib/python3.11/dist-packages/keras/src/layers/rnn/rnn.py:200: UserWarning: Do not pass an `input_shape`/`input_dim` argument to a layer. When using Sequential models, prefer using an `Input(shape)` object as the first layer in the model instead.\n",
            "  super().__init__(**kwargs)\n"
          ]
        },
        {
          "output_type": "stream",
          "name": "stdout",
          "text": [
            "\u001b[1m7/7\u001b[0m \u001b[32m━━━━━━━━━━━━━━━━━━━━\u001b[0m\u001b[37m\u001b[0m \u001b[1m0s\u001b[0m 32ms/step\n"
          ]
        },
        {
          "output_type": "stream",
          "name": "stderr",
          "text": [
            "\rLSTM Forecasting:  82%|████████▏ | 36/44 [13:16<02:30, 18.80s/it]/usr/local/lib/python3.11/dist-packages/keras/src/layers/rnn/rnn.py:200: UserWarning: Do not pass an `input_shape`/`input_dim` argument to a layer. When using Sequential models, prefer using an `Input(shape)` object as the first layer in the model instead.\n",
            "  super().__init__(**kwargs)\n"
          ]
        },
        {
          "output_type": "stream",
          "name": "stdout",
          "text": [
            "\u001b[1m7/7\u001b[0m \u001b[32m━━━━━━━━━━━━━━━━━━━━\u001b[0m\u001b[37m\u001b[0m \u001b[1m0s\u001b[0m 34ms/step\n"
          ]
        },
        {
          "output_type": "stream",
          "name": "stderr",
          "text": [
            "\rLSTM Forecasting:  84%|████████▍ | 37/44 [13:39<02:22, 20.31s/it]/usr/local/lib/python3.11/dist-packages/keras/src/layers/rnn/rnn.py:200: UserWarning: Do not pass an `input_shape`/`input_dim` argument to a layer. When using Sequential models, prefer using an `Input(shape)` object as the first layer in the model instead.\n",
            "  super().__init__(**kwargs)\n"
          ]
        },
        {
          "output_type": "stream",
          "name": "stdout",
          "text": [
            "\u001b[1m7/7\u001b[0m \u001b[32m━━━━━━━━━━━━━━━━━━━━\u001b[0m\u001b[37m\u001b[0m \u001b[1m0s\u001b[0m 31ms/step\n"
          ]
        },
        {
          "output_type": "stream",
          "name": "stderr",
          "text": [
            "\rLSTM Forecasting:  86%|████████▋ | 38/44 [14:03<02:07, 21.24s/it]/usr/local/lib/python3.11/dist-packages/keras/src/layers/rnn/rnn.py:200: UserWarning: Do not pass an `input_shape`/`input_dim` argument to a layer. When using Sequential models, prefer using an `Input(shape)` object as the first layer in the model instead.\n",
            "  super().__init__(**kwargs)\n"
          ]
        },
        {
          "output_type": "stream",
          "name": "stdout",
          "text": [
            "\u001b[1m7/7\u001b[0m \u001b[32m━━━━━━━━━━━━━━━━━━━━\u001b[0m\u001b[37m\u001b[0m \u001b[1m0s\u001b[0m 32ms/step\n"
          ]
        },
        {
          "output_type": "stream",
          "name": "stderr",
          "text": [
            "\rLSTM Forecasting:  89%|████████▊ | 39/44 [14:22<01:43, 20.74s/it]/usr/local/lib/python3.11/dist-packages/keras/src/layers/rnn/rnn.py:200: UserWarning: Do not pass an `input_shape`/`input_dim` argument to a layer. When using Sequential models, prefer using an `Input(shape)` object as the first layer in the model instead.\n",
            "  super().__init__(**kwargs)\n"
          ]
        },
        {
          "output_type": "stream",
          "name": "stdout",
          "text": [
            "\u001b[1m7/7\u001b[0m \u001b[32m━━━━━━━━━━━━━━━━━━━━\u001b[0m\u001b[37m\u001b[0m \u001b[1m0s\u001b[0m 32ms/step\n"
          ]
        },
        {
          "output_type": "stream",
          "name": "stderr",
          "text": [
            "\rLSTM Forecasting:  91%|█████████ | 40/44 [14:36<01:14, 18.51s/it]/usr/local/lib/python3.11/dist-packages/keras/src/layers/rnn/rnn.py:200: UserWarning: Do not pass an `input_shape`/`input_dim` argument to a layer. When using Sequential models, prefer using an `Input(shape)` object as the first layer in the model instead.\n",
            "  super().__init__(**kwargs)\n"
          ]
        },
        {
          "output_type": "stream",
          "name": "stdout",
          "text": [
            "\u001b[1m7/7\u001b[0m \u001b[32m━━━━━━━━━━━━━━━━━━━━\u001b[0m\u001b[37m\u001b[0m \u001b[1m0s\u001b[0m 33ms/step\n"
          ]
        },
        {
          "output_type": "stream",
          "name": "stderr",
          "text": [
            "\rLSTM Forecasting:  93%|█████████▎| 41/44 [14:59<01:00, 20.06s/it]/usr/local/lib/python3.11/dist-packages/keras/src/layers/rnn/rnn.py:200: UserWarning: Do not pass an `input_shape`/`input_dim` argument to a layer. When using Sequential models, prefer using an `Input(shape)` object as the first layer in the model instead.\n",
            "  super().__init__(**kwargs)\n"
          ]
        },
        {
          "output_type": "stream",
          "name": "stdout",
          "text": [
            "\u001b[1m7/7\u001b[0m \u001b[32m━━━━━━━━━━━━━━━━━━━━\u001b[0m\u001b[37m\u001b[0m \u001b[1m0s\u001b[0m 32ms/step\n"
          ]
        },
        {
          "output_type": "stream",
          "name": "stderr",
          "text": [
            "\rLSTM Forecasting:  95%|█████████▌| 42/44 [15:13<00:36, 18.15s/it]/usr/local/lib/python3.11/dist-packages/keras/src/layers/rnn/rnn.py:200: UserWarning: Do not pass an `input_shape`/`input_dim` argument to a layer. When using Sequential models, prefer using an `Input(shape)` object as the first layer in the model instead.\n",
            "  super().__init__(**kwargs)\n"
          ]
        },
        {
          "output_type": "stream",
          "name": "stdout",
          "text": [
            "\u001b[1m7/7\u001b[0m \u001b[32m━━━━━━━━━━━━━━━━━━━━\u001b[0m\u001b[37m\u001b[0m \u001b[1m0s\u001b[0m 32ms/step\n"
          ]
        },
        {
          "output_type": "stream",
          "name": "stderr",
          "text": [
            "\rLSTM Forecasting:  98%|█████████▊| 43/44 [15:29<00:17, 17.52s/it]/usr/local/lib/python3.11/dist-packages/keras/src/layers/rnn/rnn.py:200: UserWarning: Do not pass an `input_shape`/`input_dim` argument to a layer. When using Sequential models, prefer using an `Input(shape)` object as the first layer in the model instead.\n",
            "  super().__init__(**kwargs)\n"
          ]
        },
        {
          "output_type": "stream",
          "name": "stdout",
          "text": [
            "\u001b[1m7/7\u001b[0m \u001b[32m━━━━━━━━━━━━━━━━━━━━\u001b[0m\u001b[37m\u001b[0m \u001b[1m0s\u001b[0m 31ms/step\n"
          ]
        },
        {
          "output_type": "stream",
          "name": "stderr",
          "text": [
            "LSTM Forecasting: 100%|██████████| 44/44 [15:55<00:00, 21.71s/it]\n"
          ]
        },
        {
          "output_type": "display_data",
          "data": {
            "text/plain": [
              "<Figure size 1200x600 with 1 Axes>"
            ],
            "image/png": "[encoded data removed]"
          },
          "metadata": {}
        },
        {
          "output_type": "stream",
          "name": "stdout",
          "text": [
            "LSTM Index Level RMSE with Finetuned FinBERT Tech Sentiment: 241.75\n"
          ]
        }
      ]
    },
    {
      "cell_type": "code",
      "source": [
        "import pandas as pd\n",
        "import numpy as np\n",
        "from sklearn.preprocessing import MinMaxScaler\n",
        "from sklearn.metrics import mean_squared_error\n",
        "from sklearn.model_selection import TimeSeriesSplit\n",
        "from tensorflow.keras.models import Sequential\n",
        "from tensorflow.keras.layers import LSTM, Dense, Dropout\n",
        "from tensorflow.keras.optimizers import Adam\n",
        "from tensorflow.keras.callbacks import EarlyStopping\n",
        "import matplotlib.pyplot as plt\n",
        "from tqdm import tqdm\n",
        "\n",
        "# === Load stock data ===\n",
        "df = pd.read_csv(\"cleaned_stock_data_without_arm.csv\")\n",
        "df['Date'] = pd.to_datetime(df['Date'])\n",
        "df = df.sort_values(['Company', 'Date'])\n",
        "df['Price Close'] = df['Price Close'].astype(str).str.replace(\",\", \".\", regex=False)\n",
        "df['Price Close'] = pd.to_numeric(df['Price Close'], errors='coerce')\n",
        "\n",
        "# === Load and merge sentiment (Filtered for Technology) ===\n",
        "sent_df = pd.read_csv(\"finetuned_finbert_sentiment.csv\")\n",
        "map_df = pd.read_excel(\"matched company names .xlsx\")\n",
        "sent_df['company'] = sent_df['company'].str.strip()\n",
        "map_df['company name'] = map_df['company name'].str.strip()\n",
        "map_df.columns = ['company', 'Company']\n",
        "sent_df['date'] = pd.to_datetime(sent_df['date'])\n",
        "\n",
        "# Filter only Technology-labeled headlines\n",
        "sent_df = sent_df[sent_df['Predicted_Label'] == 'Non-Technology']\n",
        "\n",
        "mapped_sent = pd.merge(sent_df, map_df, on='company', how='inner')\n",
        "mapped_sent = mapped_sent[['Company', 'date', 'finetuned_sentiment_label']]\n",
        "mapped_sent['date'] = mapped_sent['date'].dt.normalize()\n",
        "\n",
        "avg_sentiment = mapped_sent.groupby(['Company', 'date'])['finetuned_sentiment_label'].mean().reset_index()\n",
        "avg_sentiment = avg_sentiment.rename(columns={'date': 'Date', 'finetuned_sentiment_label': 'Sentiment'})\n",
        "df = pd.merge(df, avg_sentiment, on=['Company', 'Date'], how='left')\n",
        "\n",
        "# === Conditional decay for sentiment ===\n",
        "def apply_conditional_decay(series, decay=0.9):\n",
        "    output, last_val = [], None\n",
        "    for val in series:\n",
        "        if pd.notna(val):\n",
        "            if val == 0:\n",
        "                last_val = None\n",
        "                output.append(np.nan)\n",
        "            else:\n",
        "                last_val = val\n",
        "                output.append(val)\n",
        "        else:\n",
        "            if last_val is not None:\n",
        "                last_val *= decay\n",
        "                output.append(last_val)\n",
        "            else:\n",
        "                output.append(np.nan)\n",
        "    return output\n",
        "\n",
        "df = df.sort_values(['Company', 'Date'])\n",
        "df['Sentiment'] = df.groupby('Company')['Sentiment'].transform(apply_conditional_decay)\n",
        "df['Sentiment'] = df['Sentiment'].fillna(0.0)\n",
        "df['Lagged_Sentiment'] = df.groupby('Company')['Sentiment'].shift(1)\n",
        "\n",
        "# === Feature engineering ===\n",
        "for col in ['Mkt-RF', 'SMB', 'HML', 'RMW', 'CMA']:\n",
        "    df[col] = df.groupby('Company')[col].shift(1)\n",
        "df['Lagged_Return'] = df.groupby('Company')['Return'].shift(1)\n",
        "df['Lagged_Volume'] = df.groupby('Company')['Volume'].shift(1)\n",
        "df = df.dropna(subset=['Price Close', 'Mkt-RF', 'SMB', 'HML', 'RMW', 'CMA', 'Lagged_Return', 'Lagged_Volume'])\n",
        "\n",
        "# Load best LSTM params and actual index\n",
        "lstm_params = pd.read_csv(\"best_trials_all.csv\")\n",
        "lstm_params = lstm_params[lstm_params['state'] == 'COMPLETE']\n",
        "actual_index = pd.read_csv(\"equal_weighted_index_without_arm.csv\")\n",
        "actual_index['Date'] = pd.to_datetime(actual_index['Date'])\n",
        "\n",
        "# Train/test split\n",
        "df['Date'] = pd.to_datetime(df['Date'])\n",
        "unique_dates = df['Date'].sort_values().unique()\n",
        "split_index = int(len(unique_dates) * 0.8)\n",
        "train_dates = unique_dates[:split_index]\n",
        "test_dates = unique_dates[split_index:]\n",
        "last_train_date = pd.to_datetime(train_dates[-1])\n",
        "start_value = actual_index.loc[actual_index['Date'] == last_train_date, 'Index_Level'].values[0] \\\n",
        "    if last_train_date in actual_index['Date'].values else actual_index[actual_index['Date'] < last_train_date]['Index_Level'].iloc[-1]\n",
        "\n",
        "# Sequence creation\n",
        "def create_sequences(features, target, lookback):\n",
        "    X, y = [], []\n",
        "    for i in range(lookback, len(features)):\n",
        "        X.append(features[i - lookback:i])\n",
        "        y.append(target[i])\n",
        "    return np.array(X), np.array(y)\n",
        "\n",
        "all_preds = []\n",
        "n_splits = 3\n",
        "\n",
        "# === Forecasting loop ===\n",
        "for company in tqdm(df['Company'].unique(), desc=\"LSTM Forecasting\"):\n",
        "    company_data = df[df['Company'] == company].copy()\n",
        "    params = lstm_params[lstm_params['Company'] == company]\n",
        "    if len(params) == 0 or len(company_data) < 100:\n",
        "        continue\n",
        "\n",
        "    lookback = int(params['params_lookback'].values[0])\n",
        "    units = int(params['params_units'].values[0])\n",
        "    dropout = float(params['params_dropout'].values[0])\n",
        "    batch_size = int(params['params_batch_size'].values[0])\n",
        "    epochs = int(params['params_epochs'].values[0])\n",
        "\n",
        "    company_data = company_data.dropna()\n",
        "    train = company_data[company_data['Date'].isin(train_dates)].copy()\n",
        "    test = company_data[company_data['Date'].isin(test_dates)].copy()\n",
        "    if len(train) < lookback or len(test) <= lookback:\n",
        "        continue\n",
        "\n",
        "    features = ['Mkt-RF', 'SMB', 'HML', 'RMW', 'CMA', 'Lagged_Return', 'Lagged_Volume', 'Lagged_Sentiment']\n",
        "    X_all = company_data[features].values\n",
        "    y_all = company_data['Price Close'].values.reshape(-1, 1)\n",
        "\n",
        "    f_scaler = MinMaxScaler()\n",
        "    t_scaler = MinMaxScaler()\n",
        "    X_scaled = f_scaler.fit_transform(X_all)\n",
        "    y_scaled = t_scaler.fit_transform(y_all)\n",
        "\n",
        "    full_data = np.hstack((X_scaled, y_scaled))\n",
        "    X_seq, y_seq = create_sequences(full_data, y_scaled, lookback)\n",
        "\n",
        "    valid_indices = company_data.index[lookback:]\n",
        "    seq_dates = company_data.loc[valid_indices, 'Date'].values\n",
        "    train_mask = np.isin(seq_dates, train_dates)\n",
        "    test_mask = np.isin(seq_dates, test_dates)\n",
        "    X_train_all = X_seq[train_mask]\n",
        "    y_train_all = y_seq[train_mask]\n",
        "    X_test = X_seq[test_mask]\n",
        "    y_test = y_seq[test_mask]\n",
        "    test_seq_dates = seq_dates[test_mask]\n",
        "    if len(X_train_all) < n_splits + 1 or len(X_test) == 0:\n",
        "        continue\n",
        "\n",
        "    tscv = TimeSeriesSplit(n_splits=n_splits)\n",
        "    for train_idx, val_idx in tscv.split(X_train_all):\n",
        "        X_t, X_v = X_train_all[train_idx], X_train_all[val_idx]\n",
        "        y_t, y_v = y_train_all[train_idx], y_train_all[val_idx]\n",
        "        model = Sequential()\n",
        "        model.add(LSTM(units, input_shape=(X_t.shape[1], X_t.shape[2])))\n",
        "        model.add(Dropout(dropout))\n",
        "        model.add(Dense(1))\n",
        "        model.compile(optimizer=Adam(learning_rate=0.001), loss='mse')\n",
        "        es = EarlyStopping(patience=5, restore_best_weights=True, verbose=0)\n",
        "        model.fit(X_t, y_t, validation_data=(X_v, y_v),\n",
        "                  epochs=epochs, batch_size=batch_size, callbacks=[es], verbose=0)\n",
        "\n",
        "    preds_scaled = model.predict(X_test)\n",
        "    preds = t_scaler.inverse_transform(preds_scaled)\n",
        "\n",
        "    test_result = test.copy()\n",
        "    test_result = test_result[test_result['Date'].isin(test_seq_dates)]\n",
        "    test_result = test_result.copy()\n",
        "    test_result['Predicted_Price'] = preds\n",
        "    test_result['Prev_Price'] = test_result['Price Close'].shift(1)\n",
        "    test_result['Predicted_Return'] = test_result['Predicted_Price'].pct_change()\n",
        "    test_result = test_result.dropna(subset=['Predicted_Return'])\n",
        "    test_result['Company'] = company\n",
        "    all_preds.append(test_result[['Date', 'Company', 'Predicted_Return']])\n",
        "\n",
        "combined = pd.concat(all_preds)\n",
        "index_returns = combined.groupby('Date')['Predicted_Return'].mean().reset_index()\n",
        "index_returns.rename(columns={'Predicted_Return': 'Index_Predicted_Return'}, inplace=True)\n",
        "index_returns['Predicted_Index_Level'] = (1 + index_returns['Index_Predicted_Return']).cumprod() * start_value\n",
        "\n",
        "final = pd.merge(actual_index[['Date', 'Index_Level']], index_returns, on='Date', how='inner')\n",
        "final.to_csv(\"lstm_with_finetuned_non-tech_only_index.csv\", index=False)\n",
        "\n",
        "plt.figure(figsize=(12, 6))\n",
        "plt.plot(final['Date'], final['Index_Level'], label='Actual Index Price', color='blue')\n",
        "plt.plot(final['Date'], final['Predicted_Index_Level'], label='LSTM with Finetuned FinBERT Tech Sentiment', color='orange')\n",
        "plt.xlabel(\"Date\")\n",
        "plt.ylabel(\"Index Price\")\n",
        "plt.legend()\n",
        "plt.tight_layout()\n",
        "plt.savefig(\"lstm_with_finetuned_non-tech_sentiment_forecast.png\", dpi=300)\n",
        "plt.show()\n",
        "\n",
        "rmse = np.sqrt(mean_squared_error(final['Index_Level'], final['Predicted_Index_Level']))\n",
        "print(f\"LSTM Index Level RMSE with Finetuned FinBERT Non-Tech Sentiment: {rmse:.2f}\")\n"
      ],
      "metadata": {
        "colab": {
          "base_uri": "https://localhost:8080/",
          "height": 1000
        },
        "id": "jT6F8HYYUKKZ",
        "outputId": "d442396d-b998-4ad5-c271-801604aa0d77"
      },
      "execution_count": null,
      "outputs": [
        {
          "output_type": "stream",
          "name": "stderr",
          "text": [
            "\rLSTM Forecasting:   0%|          | 0/44 [00:00<?, ?it/s]/usr/local/lib/python3.11/dist-packages/keras/src/layers/rnn/rnn.py:200: UserWarning: Do not pass an `input_shape`/`input_dim` argument to a layer. When using Sequential models, prefer using an `Input(shape)` object as the first layer in the model instead.\n",
            "  super().__init__(**kwargs)\n"
          ]
        },
        {
          "output_type": "stream",
          "name": "stdout",
          "text": [
            "\u001b[1m7/7\u001b[0m \u001b[32m━━━━━━━━━━━━━━━━━━━━\u001b[0m\u001b[37m\u001b[0m \u001b[1m0s\u001b[0m 32ms/step\n"
          ]
        },
        {
          "output_type": "stream",
          "name": "stderr",
          "text": [
            "\rLSTM Forecasting:   2%|▏         | 1/44 [00:28<20:18, 28.35s/it]/usr/local/lib/python3.11/dist-packages/keras/src/layers/rnn/rnn.py:200: UserWarning: Do not pass an `input_shape`/`input_dim` argument to a layer. When using Sequential models, prefer using an `Input(shape)` object as the first layer in the model instead.\n",
            "  super().__init__(**kwargs)\n"
          ]
        },
        {
          "output_type": "stream",
          "name": "stdout",
          "text": [
            "\u001b[1m7/7\u001b[0m \u001b[32m━━━━━━━━━━━━━━━━━━━━\u001b[0m\u001b[37m\u001b[0m \u001b[1m0s\u001b[0m 31ms/step\n"
          ]
        },
        {
          "output_type": "stream",
          "name": "stderr",
          "text": [
            "\rLSTM Forecasting:   5%|▍         | 2/44 [00:45<15:07, 21.61s/it]/usr/local/lib/python3.11/dist-packages/keras/src/layers/rnn/rnn.py:200: UserWarning: Do not pass an `input_shape`/`input_dim` argument to a layer. When using Sequential models, prefer using an `Input(shape)` object as the first layer in the model instead.\n",
            "  super().__init__(**kwargs)\n"
          ]
        },
        {
          "output_type": "stream",
          "name": "stdout",
          "text": [
            "\u001b[1m7/7\u001b[0m \u001b[32m━━━━━━━━━━━━━━━━━━━━\u001b[0m\u001b[37m\u001b[0m \u001b[1m1s\u001b[0m 45ms/step\n"
          ]
        },
        {
          "output_type": "stream",
          "name": "stderr",
          "text": [
            "\rLSTM Forecasting:   7%|▋         | 3/44 [01:03<13:39, 19.99s/it]/usr/local/lib/python3.11/dist-packages/keras/src/layers/rnn/rnn.py:200: UserWarning: Do not pass an `input_shape`/`input_dim` argument to a layer. When using Sequential models, prefer using an `Input(shape)` object as the first layer in the model instead.\n",
            "  super().__init__(**kwargs)\n"
          ]
        },
        {
          "output_type": "stream",
          "name": "stdout",
          "text": [
            "\u001b[1m7/7\u001b[0m \u001b[32m━━━━━━━━━━━━━━━━━━━━\u001b[0m\u001b[37m\u001b[0m \u001b[1m0s\u001b[0m 31ms/step\n"
          ]
        },
        {
          "output_type": "stream",
          "name": "stderr",
          "text": [
            "\rLSTM Forecasting:   9%|▉         | 4/44 [01:18<12:11, 18.29s/it]/usr/local/lib/python3.11/dist-packages/keras/src/layers/rnn/rnn.py:200: UserWarning: Do not pass an `input_shape`/`input_dim` argument to a layer. When using Sequential models, prefer using an `Input(shape)` object as the first layer in the model instead.\n",
            "  super().__init__(**kwargs)\n"
          ]
        },
        {
          "output_type": "stream",
          "name": "stdout",
          "text": [
            "\u001b[1m7/7\u001b[0m \u001b[32m━━━━━━━━━━━━━━━━━━━━\u001b[0m\u001b[37m\u001b[0m \u001b[1m0s\u001b[0m 41ms/step\n"
          ]
        },
        {
          "output_type": "stream",
          "name": "stderr",
          "text": [
            "\rLSTM Forecasting:  11%|█▏        | 5/44 [02:14<20:38, 31.75s/it]/usr/local/lib/python3.11/dist-packages/keras/src/layers/rnn/rnn.py:200: UserWarning: Do not pass an `input_shape`/`input_dim` argument to a layer. When using Sequential models, prefer using an `Input(shape)` object as the first layer in the model instead.\n",
            "  super().__init__(**kwargs)\n"
          ]
        },
        {
          "output_type": "stream",
          "name": "stdout",
          "text": [
            "\u001b[1m7/7\u001b[0m \u001b[32m━━━━━━━━━━━━━━━━━━━━\u001b[0m\u001b[37m\u001b[0m \u001b[1m0s\u001b[0m 31ms/step\n"
          ]
        },
        {
          "output_type": "stream",
          "name": "stderr",
          "text": [
            "\rLSTM Forecasting:  14%|█▎        | 6/44 [02:36<18:02, 28.49s/it]/usr/local/lib/python3.11/dist-packages/keras/src/layers/rnn/rnn.py:200: UserWarning: Do not pass an `input_shape`/`input_dim` argument to a layer. When using Sequential models, prefer using an `Input(shape)` object as the first layer in the model instead.\n",
            "  super().__init__(**kwargs)\n"
          ]
        },
        {
          "output_type": "stream",
          "name": "stdout",
          "text": [
            "\u001b[1m7/7\u001b[0m \u001b[32m━━━━━━━━━━━━━━━━━━━━\u001b[0m\u001b[37m\u001b[0m \u001b[1m0s\u001b[0m 37ms/step\n"
          ]
        },
        {
          "output_type": "stream",
          "name": "stderr",
          "text": [
            "\rLSTM Forecasting:  16%|█▌        | 7/44 [03:22<21:05, 34.19s/it]/usr/local/lib/python3.11/dist-packages/keras/src/layers/rnn/rnn.py:200: UserWarning: Do not pass an `input_shape`/`input_dim` argument to a layer. When using Sequential models, prefer using an `Input(shape)` object as the first layer in the model instead.\n",
            "  super().__init__(**kwargs)\n"
          ]
        },
        {
          "output_type": "stream",
          "name": "stdout",
          "text": [
            "\u001b[1m7/7\u001b[0m \u001b[32m━━━━━━━━━━━━━━━━━━━━\u001b[0m\u001b[37m\u001b[0m \u001b[1m0s\u001b[0m 33ms/step\n"
          ]
        },
        {
          "output_type": "stream",
          "name": "stderr",
          "text": [
            "\rLSTM Forecasting:  18%|█▊        | 8/44 [03:37<16:43, 27.87s/it]/usr/local/lib/python3.11/dist-packages/keras/src/layers/rnn/rnn.py:200: UserWarning: Do not pass an `input_shape`/`input_dim` argument to a layer. When using Sequential models, prefer using an `Input(shape)` object as the first layer in the model instead.\n",
            "  super().__init__(**kwargs)\n"
          ]
        },
        {
          "output_type": "stream",
          "name": "stdout",
          "text": [
            "\u001b[1m7/7\u001b[0m \u001b[32m━━━━━━━━━━━━━━━━━━━━\u001b[0m\u001b[37m\u001b[0m \u001b[1m1s\u001b[0m 47ms/step\n"
          ]
        },
        {
          "output_type": "stream",
          "name": "stderr",
          "text": [
            "\rLSTM Forecasting:  20%|██        | 9/44 [03:56<14:48, 25.38s/it]/usr/local/lib/python3.11/dist-packages/keras/src/layers/rnn/rnn.py:200: UserWarning: Do not pass an `input_shape`/`input_dim` argument to a layer. When using Sequential models, prefer using an `Input(shape)` object as the first layer in the model instead.\n",
            "  super().__init__(**kwargs)\n"
          ]
        },
        {
          "output_type": "stream",
          "name": "stdout",
          "text": [
            "\u001b[1m7/7\u001b[0m \u001b[32m━━━━━━━━━━━━━━━━━━━━\u001b[0m\u001b[37m\u001b[0m \u001b[1m0s\u001b[0m 35ms/step\n"
          ]
        },
        {
          "output_type": "stream",
          "name": "stderr",
          "text": [
            "\rLSTM Forecasting:  23%|██▎       | 10/44 [04:13<12:52, 22.72s/it]/usr/local/lib/python3.11/dist-packages/keras/src/layers/rnn/rnn.py:200: UserWarning: Do not pass an `input_shape`/`input_dim` argument to a layer. When using Sequential models, prefer using an `Input(shape)` object as the first layer in the model instead.\n",
            "  super().__init__(**kwargs)\n"
          ]
        },
        {
          "output_type": "stream",
          "name": "stdout",
          "text": [
            "\u001b[1m7/7\u001b[0m \u001b[32m━━━━━━━━━━━━━━━━━━━━\u001b[0m\u001b[37m\u001b[0m \u001b[1m0s\u001b[0m 30ms/step\n"
          ]
        },
        {
          "output_type": "stream",
          "name": "stderr",
          "text": [
            "\rLSTM Forecasting:  25%|██▌       | 11/44 [04:29<11:21, 20.65s/it]/usr/local/lib/python3.11/dist-packages/keras/src/layers/rnn/rnn.py:200: UserWarning: Do not pass an `input_shape`/`input_dim` argument to a layer. When using Sequential models, prefer using an `Input(shape)` object as the first layer in the model instead.\n",
            "  super().__init__(**kwargs)\n"
          ]
        },
        {
          "output_type": "stream",
          "name": "stdout",
          "text": [
            "\u001b[1m7/7\u001b[0m \u001b[32m━━━━━━━━━━━━━━━━━━━━\u001b[0m\u001b[37m\u001b[0m \u001b[1m0s\u001b[0m 30ms/step\n"
          ]
        },
        {
          "output_type": "stream",
          "name": "stderr",
          "text": [
            "\rLSTM Forecasting:  27%|██▋       | 12/44 [04:45<10:17, 19.30s/it]/usr/local/lib/python3.11/dist-packages/keras/src/layers/rnn/rnn.py:200: UserWarning: Do not pass an `input_shape`/`input_dim` argument to a layer. When using Sequential models, prefer using an `Input(shape)` object as the first layer in the model instead.\n",
            "  super().__init__(**kwargs)\n"
          ]
        },
        {
          "output_type": "stream",
          "name": "stdout",
          "text": [
            "\u001b[1m7/7\u001b[0m \u001b[32m━━━━━━━━━━━━━━━━━━━━\u001b[0m\u001b[37m\u001b[0m \u001b[1m0s\u001b[0m 36ms/step\n"
          ]
        },
        {
          "output_type": "stream",
          "name": "stderr",
          "text": [
            "\rLSTM Forecasting:  30%|██▉       | 13/44 [05:09<10:36, 20.53s/it]/usr/local/lib/python3.11/dist-packages/keras/src/layers/rnn/rnn.py:200: UserWarning: Do not pass an `input_shape`/`input_dim` argument to a layer. When using Sequential models, prefer using an `Input(shape)` object as the first layer in the model instead.\n",
            "  super().__init__(**kwargs)\n"
          ]
        },
        {
          "output_type": "stream",
          "name": "stdout",
          "text": [
            "\u001b[1m7/7\u001b[0m \u001b[32m━━━━━━━━━━━━━━━━━━━━\u001b[0m\u001b[37m\u001b[0m \u001b[1m0s\u001b[0m 32ms/step\n"
          ]
        },
        {
          "output_type": "stream",
          "name": "stderr",
          "text": [
            "\rLSTM Forecasting:  32%|███▏      | 14/44 [05:31<10:30, 21.01s/it]/usr/local/lib/python3.11/dist-packages/keras/src/layers/rnn/rnn.py:200: UserWarning: Do not pass an `input_shape`/`input_dim` argument to a layer. When using Sequential models, prefer using an `Input(shape)` object as the first layer in the model instead.\n",
            "  super().__init__(**kwargs)\n"
          ]
        },
        {
          "output_type": "stream",
          "name": "stdout",
          "text": [
            "\u001b[1m7/7\u001b[0m \u001b[32m━━━━━━━━━━━━━━━━━━━━\u001b[0m\u001b[37m\u001b[0m \u001b[1m0s\u001b[0m 31ms/step\n"
          ]
        },
        {
          "output_type": "stream",
          "name": "stderr",
          "text": [
            "\rLSTM Forecasting:  34%|███▍      | 15/44 [05:51<10:00, 20.71s/it]/usr/local/lib/python3.11/dist-packages/keras/src/layers/rnn/rnn.py:200: UserWarning: Do not pass an `input_shape`/`input_dim` argument to a layer. When using Sequential models, prefer using an `Input(shape)` object as the first layer in the model instead.\n",
            "  super().__init__(**kwargs)\n"
          ]
        },
        {
          "output_type": "stream",
          "name": "stdout",
          "text": [
            "\u001b[1m7/7\u001b[0m \u001b[32m━━━━━━━━━━━━━━━━━━━━\u001b[0m\u001b[37m\u001b[0m \u001b[1m0s\u001b[0m 32ms/step\n"
          ]
        },
        {
          "output_type": "stream",
          "name": "stderr",
          "text": [
            "\rLSTM Forecasting:  36%|███▋      | 16/44 [06:10<09:26, 20.22s/it]/usr/local/lib/python3.11/dist-packages/keras/src/layers/rnn/rnn.py:200: UserWarning: Do not pass an `input_shape`/`input_dim` argument to a layer. When using Sequential models, prefer using an `Input(shape)` object as the first layer in the model instead.\n",
            "  super().__init__(**kwargs)\n"
          ]
        },
        {
          "output_type": "stream",
          "name": "stdout",
          "text": [
            "\u001b[1m7/7\u001b[0m \u001b[32m━━━━━━━━━━━━━━━━━━━━\u001b[0m\u001b[37m\u001b[0m \u001b[1m0s\u001b[0m 32ms/step\n"
          ]
        },
        {
          "output_type": "stream",
          "name": "stderr",
          "text": [
            "\rLSTM Forecasting:  39%|███▊      | 17/44 [06:29<08:58, 19.94s/it]/usr/local/lib/python3.11/dist-packages/keras/src/layers/rnn/rnn.py:200: UserWarning: Do not pass an `input_shape`/`input_dim` argument to a layer. When using Sequential models, prefer using an `Input(shape)` object as the first layer in the model instead.\n",
            "  super().__init__(**kwargs)\n"
          ]
        },
        {
          "output_type": "stream",
          "name": "stdout",
          "text": [
            "\u001b[1m7/7\u001b[0m \u001b[32m━━━━━━━━━━━━━━━━━━━━\u001b[0m\u001b[37m\u001b[0m \u001b[1m0s\u001b[0m 49ms/step\n"
          ]
        },
        {
          "output_type": "stream",
          "name": "stderr",
          "text": [
            "\rLSTM Forecasting:  41%|████      | 18/44 [07:38<14:57, 34.52s/it]/usr/local/lib/python3.11/dist-packages/keras/src/layers/rnn/rnn.py:200: UserWarning: Do not pass an `input_shape`/`input_dim` argument to a layer. When using Sequential models, prefer using an `Input(shape)` object as the first layer in the model instead.\n",
            "  super().__init__(**kwargs)\n"
          ]
        },
        {
          "output_type": "stream",
          "name": "stdout",
          "text": [
            "\u001b[1m7/7\u001b[0m \u001b[32m━━━━━━━━━━━━━━━━━━━━\u001b[0m\u001b[37m\u001b[0m \u001b[1m0s\u001b[0m 30ms/step\n"
          ]
        },
        {
          "output_type": "stream",
          "name": "stderr",
          "text": [
            "\rLSTM Forecasting:  43%|████▎     | 19/44 [08:00<12:54, 30.97s/it]/usr/local/lib/python3.11/dist-packages/keras/src/layers/rnn/rnn.py:200: UserWarning: Do not pass an `input_shape`/`input_dim` argument to a layer. When using Sequential models, prefer using an `Input(shape)` object as the first layer in the model instead.\n",
            "  super().__init__(**kwargs)\n"
          ]
        },
        {
          "output_type": "stream",
          "name": "stdout",
          "text": [
            "\u001b[1m7/7\u001b[0m \u001b[32m━━━━━━━━━━━━━━━━━━━━\u001b[0m\u001b[37m\u001b[0m \u001b[1m0s\u001b[0m 30ms/step\n"
          ]
        },
        {
          "output_type": "stream",
          "name": "stderr",
          "text": [
            "\rLSTM Forecasting:  45%|████▌     | 20/44 [08:20<11:04, 27.68s/it]/usr/local/lib/python3.11/dist-packages/keras/src/layers/rnn/rnn.py:200: UserWarning: Do not pass an `input_shape`/`input_dim` argument to a layer. When using Sequential models, prefer using an `Input(shape)` object as the first layer in the model instead.\n",
            "  super().__init__(**kwargs)\n"
          ]
        },
        {
          "output_type": "stream",
          "name": "stdout",
          "text": [
            "\u001b[1m7/7\u001b[0m \u001b[32m━━━━━━━━━━━━━━━━━━━━\u001b[0m\u001b[37m\u001b[0m \u001b[1m0s\u001b[0m 31ms/step\n"
          ]
        },
        {
          "output_type": "stream",
          "name": "stderr",
          "text": [
            "\rLSTM Forecasting:  48%|████▊     | 21/44 [08:33<08:53, 23.21s/it]/usr/local/lib/python3.11/dist-packages/keras/src/layers/rnn/rnn.py:200: UserWarning: Do not pass an `input_shape`/`input_dim` argument to a layer. When using Sequential models, prefer using an `Input(shape)` object as the first layer in the model instead.\n",
            "  super().__init__(**kwargs)\n"
          ]
        },
        {
          "output_type": "stream",
          "name": "stdout",
          "text": [
            "\u001b[1m7/7\u001b[0m \u001b[32m━━━━━━━━━━━━━━━━━━━━\u001b[0m\u001b[37m\u001b[0m \u001b[1m0s\u001b[0m 32ms/step\n"
          ]
        },
        {
          "output_type": "stream",
          "name": "stderr",
          "text": [
            "\rLSTM Forecasting:  50%|█████     | 22/44 [08:51<07:56, 21.67s/it]/usr/local/lib/python3.11/dist-packages/keras/src/layers/rnn/rnn.py:200: UserWarning: Do not pass an `input_shape`/`input_dim` argument to a layer. When using Sequential models, prefer using an `Input(shape)` object as the first layer in the model instead.\n",
            "  super().__init__(**kwargs)\n"
          ]
        },
        {
          "output_type": "stream",
          "name": "stdout",
          "text": [
            "\u001b[1m7/7\u001b[0m \u001b[32m━━━━━━━━━━━━━━━━━━━━\u001b[0m\u001b[37m\u001b[0m \u001b[1m0s\u001b[0m 32ms/step\n"
          ]
        },
        {
          "output_type": "stream",
          "name": "stderr",
          "text": [
            "\rLSTM Forecasting:  52%|█████▏    | 23/44 [09:11<07:23, 21.10s/it]/usr/local/lib/python3.11/dist-packages/keras/src/layers/rnn/rnn.py:200: UserWarning: Do not pass an `input_shape`/`input_dim` argument to a layer. When using Sequential models, prefer using an `Input(shape)` object as the first layer in the model instead.\n",
            "  super().__init__(**kwargs)\n"
          ]
        },
        {
          "output_type": "stream",
          "name": "stdout",
          "text": [
            "\u001b[1m7/7\u001b[0m \u001b[32m━━━━━━━━━━━━━━━━━━━━\u001b[0m\u001b[37m\u001b[0m \u001b[1m0s\u001b[0m 32ms/step\n"
          ]
        },
        {
          "output_type": "stream",
          "name": "stderr",
          "text": [
            "\rLSTM Forecasting:  55%|█████▍    | 24/44 [09:23<06:05, 18.29s/it]/usr/local/lib/python3.11/dist-packages/keras/src/layers/rnn/rnn.py:200: UserWarning: Do not pass an `input_shape`/`input_dim` argument to a layer. When using Sequential models, prefer using an `Input(shape)` object as the first layer in the model instead.\n",
            "  super().__init__(**kwargs)\n"
          ]
        },
        {
          "output_type": "stream",
          "name": "stdout",
          "text": [
            "\u001b[1m7/7\u001b[0m \u001b[32m━━━━━━━━━━━━━━━━━━━━\u001b[0m\u001b[37m\u001b[0m \u001b[1m0s\u001b[0m 36ms/step\n"
          ]
        },
        {
          "output_type": "stream",
          "name": "stderr",
          "text": [
            "\rLSTM Forecasting:  57%|█████▋    | 25/44 [09:44<06:02, 19.07s/it]/usr/local/lib/python3.11/dist-packages/keras/src/layers/rnn/rnn.py:200: UserWarning: Do not pass an `input_shape`/`input_dim` argument to a layer. When using Sequential models, prefer using an `Input(shape)` object as the first layer in the model instead.\n",
            "  super().__init__(**kwargs)\n"
          ]
        },
        {
          "output_type": "stream",
          "name": "stdout",
          "text": [
            "\u001b[1m7/7\u001b[0m \u001b[32m━━━━━━━━━━━━━━━━━━━━\u001b[0m\u001b[37m\u001b[0m \u001b[1m0s\u001b[0m 30ms/step\n"
          ]
        },
        {
          "output_type": "stream",
          "name": "stderr",
          "text": [
            "\rLSTM Forecasting:  59%|█████▉    | 26/44 [10:01<05:35, 18.62s/it]/usr/local/lib/python3.11/dist-packages/keras/src/layers/rnn/rnn.py:200: UserWarning: Do not pass an `input_shape`/`input_dim` argument to a layer. When using Sequential models, prefer using an `Input(shape)` object as the first layer in the model instead.\n",
            "  super().__init__(**kwargs)\n"
          ]
        },
        {
          "output_type": "stream",
          "name": "stdout",
          "text": [
            "\u001b[1m7/7\u001b[0m \u001b[32m━━━━━━━━━━━━━━━━━━━━\u001b[0m\u001b[37m\u001b[0m \u001b[1m0s\u001b[0m 33ms/step\n"
          ]
        },
        {
          "output_type": "stream",
          "name": "stderr",
          "text": [
            "\rLSTM Forecasting:  61%|██████▏   | 27/44 [10:16<04:58, 17.55s/it]/usr/local/lib/python3.11/dist-packages/keras/src/layers/rnn/rnn.py:200: UserWarning: Do not pass an `input_shape`/`input_dim` argument to a layer. When using Sequential models, prefer using an `Input(shape)` object as the first layer in the model instead.\n",
            "  super().__init__(**kwargs)\n"
          ]
        },
        {
          "output_type": "stream",
          "name": "stdout",
          "text": [
            "\u001b[1m7/7\u001b[0m \u001b[32m━━━━━━━━━━━━━━━━━━━━\u001b[0m\u001b[37m\u001b[0m \u001b[1m0s\u001b[0m 30ms/step\n"
          ]
        },
        {
          "output_type": "stream",
          "name": "stderr",
          "text": [
            "\rLSTM Forecasting:  64%|██████▎   | 28/44 [10:28<04:13, 15.82s/it]/usr/local/lib/python3.11/dist-packages/keras/src/layers/rnn/rnn.py:200: UserWarning: Do not pass an `input_shape`/`input_dim` argument to a layer. When using Sequential models, prefer using an `Input(shape)` object as the first layer in the model instead.\n",
            "  super().__init__(**kwargs)\n"
          ]
        },
        {
          "output_type": "stream",
          "name": "stdout",
          "text": [
            "\u001b[1m7/7\u001b[0m \u001b[32m━━━━━━━━━━━━━━━━━━━━\u001b[0m\u001b[37m\u001b[0m \u001b[1m0s\u001b[0m 29ms/step\n"
          ]
        },
        {
          "output_type": "stream",
          "name": "stderr",
          "text": [
            "\rLSTM Forecasting:  66%|██████▌   | 29/44 [10:42<03:48, 15.20s/it]/usr/local/lib/python3.11/dist-packages/keras/src/layers/rnn/rnn.py:200: UserWarning: Do not pass an `input_shape`/`input_dim` argument to a layer. When using Sequential models, prefer using an `Input(shape)` object as the first layer in the model instead.\n",
            "  super().__init__(**kwargs)\n"
          ]
        },
        {
          "output_type": "stream",
          "name": "stdout",
          "text": [
            "\u001b[1m7/7\u001b[0m \u001b[32m━━━━━━━━━━━━━━━━━━━━\u001b[0m\u001b[37m\u001b[0m \u001b[1m0s\u001b[0m 30ms/step\n"
          ]
        },
        {
          "output_type": "stream",
          "name": "stderr",
          "text": [
            "\rLSTM Forecasting:  68%|██████▊   | 30/44 [11:04<04:02, 17.31s/it]/usr/local/lib/python3.11/dist-packages/keras/src/layers/rnn/rnn.py:200: UserWarning: Do not pass an `input_shape`/`input_dim` argument to a layer. When using Sequential models, prefer using an `Input(shape)` object as the first layer in the model instead.\n",
            "  super().__init__(**kwargs)\n"
          ]
        },
        {
          "output_type": "stream",
          "name": "stdout",
          "text": [
            "\u001b[1m7/7\u001b[0m \u001b[32m━━━━━━━━━━━━━━━━━━━━\u001b[0m\u001b[37m\u001b[0m \u001b[1m0s\u001b[0m 30ms/step\n"
          ]
        },
        {
          "output_type": "stream",
          "name": "stderr",
          "text": [
            "\rLSTM Forecasting:  70%|███████   | 31/44 [11:22<03:48, 17.58s/it]/usr/local/lib/python3.11/dist-packages/keras/src/layers/rnn/rnn.py:200: UserWarning: Do not pass an `input_shape`/`input_dim` argument to a layer. When using Sequential models, prefer using an `Input(shape)` object as the first layer in the model instead.\n",
            "  super().__init__(**kwargs)\n"
          ]
        },
        {
          "output_type": "stream",
          "name": "stdout",
          "text": [
            "\u001b[1m7/7\u001b[0m \u001b[32m━━━━━━━━━━━━━━━━━━━━\u001b[0m\u001b[37m\u001b[0m \u001b[1m0s\u001b[0m 30ms/step\n"
          ]
        },
        {
          "output_type": "stream",
          "name": "stderr",
          "text": [
            "\rLSTM Forecasting:  73%|███████▎  | 32/44 [11:44<03:44, 18.72s/it]/usr/local/lib/python3.11/dist-packages/keras/src/layers/rnn/rnn.py:200: UserWarning: Do not pass an `input_shape`/`input_dim` argument to a layer. When using Sequential models, prefer using an `Input(shape)` object as the first layer in the model instead.\n",
            "  super().__init__(**kwargs)\n"
          ]
        },
        {
          "output_type": "stream",
          "name": "stdout",
          "text": [
            "\u001b[1m7/7\u001b[0m \u001b[32m━━━━━━━━━━━━━━━━━━━━\u001b[0m\u001b[37m\u001b[0m \u001b[1m0s\u001b[0m 34ms/step\n"
          ]
        },
        {
          "output_type": "stream",
          "name": "stderr",
          "text": [
            "\rLSTM Forecasting:  75%|███████▌  | 33/44 [12:16<04:11, 22.89s/it]/usr/local/lib/python3.11/dist-packages/keras/src/layers/rnn/rnn.py:200: UserWarning: Do not pass an `input_shape`/`input_dim` argument to a layer. When using Sequential models, prefer using an `Input(shape)` object as the first layer in the model instead.\n",
            "  super().__init__(**kwargs)\n"
          ]
        },
        {
          "output_type": "stream",
          "name": "stdout",
          "text": [
            "\u001b[1m7/7\u001b[0m \u001b[32m━━━━━━━━━━━━━━━━━━━━\u001b[0m\u001b[37m\u001b[0m \u001b[1m0s\u001b[0m 32ms/step\n"
          ]
        },
        {
          "output_type": "stream",
          "name": "stderr",
          "text": [
            "\rLSTM Forecasting:  77%|███████▋  | 34/44 [12:38<03:44, 22.50s/it]/usr/local/lib/python3.11/dist-packages/keras/src/layers/rnn/rnn.py:200: UserWarning: Do not pass an `input_shape`/`input_dim` argument to a layer. When using Sequential models, prefer using an `Input(shape)` object as the first layer in the model instead.\n",
            "  super().__init__(**kwargs)\n"
          ]
        },
        {
          "output_type": "stream",
          "name": "stdout",
          "text": [
            "\u001b[1m7/7\u001b[0m \u001b[32m━━━━━━━━━━━━━━━━━━━━\u001b[0m\u001b[37m\u001b[0m \u001b[1m0s\u001b[0m 32ms/step\n"
          ]
        },
        {
          "output_type": "stream",
          "name": "stderr",
          "text": [
            "\rLSTM Forecasting:  80%|███████▉  | 35/44 [12:59<03:19, 22.20s/it]/usr/local/lib/python3.11/dist-packages/keras/src/layers/rnn/rnn.py:200: UserWarning: Do not pass an `input_shape`/`input_dim` argument to a layer. When using Sequential models, prefer using an `Input(shape)` object as the first layer in the model instead.\n",
            "  super().__init__(**kwargs)\n"
          ]
        },
        {
          "output_type": "stream",
          "name": "stdout",
          "text": [
            "\u001b[1m7/7\u001b[0m \u001b[32m━━━━━━━━━━━━━━━━━━━━\u001b[0m\u001b[37m\u001b[0m \u001b[1m1s\u001b[0m 49ms/step\n"
          ]
        },
        {
          "output_type": "stream",
          "name": "stderr",
          "text": [
            "\rLSTM Forecasting:  82%|████████▏ | 36/44 [13:18<02:48, 21.05s/it]/usr/local/lib/python3.11/dist-packages/keras/src/layers/rnn/rnn.py:200: UserWarning: Do not pass an `input_shape`/`input_dim` argument to a layer. When using Sequential models, prefer using an `Input(shape)` object as the first layer in the model instead.\n",
            "  super().__init__(**kwargs)\n"
          ]
        },
        {
          "output_type": "stream",
          "name": "stdout",
          "text": [
            "\u001b[1m7/7\u001b[0m \u001b[32m━━━━━━━━━━━━━━━━━━━━\u001b[0m\u001b[37m\u001b[0m \u001b[1m1s\u001b[0m 50ms/step\n"
          ]
        },
        {
          "output_type": "stream",
          "name": "stderr",
          "text": [
            "\rLSTM Forecasting:  84%|████████▍ | 37/44 [13:42<02:33, 21.98s/it]/usr/local/lib/python3.11/dist-packages/keras/src/layers/rnn/rnn.py:200: UserWarning: Do not pass an `input_shape`/`input_dim` argument to a layer. When using Sequential models, prefer using an `Input(shape)` object as the first layer in the model instead.\n",
            "  super().__init__(**kwargs)\n"
          ]
        },
        {
          "output_type": "stream",
          "name": "stdout",
          "text": [
            "\u001b[1m7/7\u001b[0m \u001b[32m━━━━━━━━━━━━━━━━━━━━\u001b[0m\u001b[37m\u001b[0m \u001b[1m0s\u001b[0m 34ms/step\n"
          ]
        },
        {
          "output_type": "stream",
          "name": "stderr",
          "text": [
            "\rLSTM Forecasting:  86%|████████▋ | 38/44 [14:00<02:05, 20.94s/it]/usr/local/lib/python3.11/dist-packages/keras/src/layers/rnn/rnn.py:200: UserWarning: Do not pass an `input_shape`/`input_dim` argument to a layer. When using Sequential models, prefer using an `Input(shape)` object as the first layer in the model instead.\n",
            "  super().__init__(**kwargs)\n"
          ]
        },
        {
          "output_type": "stream",
          "name": "stdout",
          "text": [
            "\u001b[1m7/7\u001b[0m \u001b[32m━━━━━━━━━━━━━━━━━━━━\u001b[0m\u001b[37m\u001b[0m \u001b[1m0s\u001b[0m 34ms/step\n"
          ]
        },
        {
          "output_type": "stream",
          "name": "stderr",
          "text": [
            "\rLSTM Forecasting:  89%|████████▊ | 39/44 [14:16<01:36, 19.37s/it]/usr/local/lib/python3.11/dist-packages/keras/src/layers/rnn/rnn.py:200: UserWarning: Do not pass an `input_shape`/`input_dim` argument to a layer. When using Sequential models, prefer using an `Input(shape)` object as the first layer in the model instead.\n",
            "  super().__init__(**kwargs)\n"
          ]
        },
        {
          "output_type": "stream",
          "name": "stdout",
          "text": [
            "\u001b[1m7/7\u001b[0m \u001b[32m━━━━━━━━━━━━━━━━━━━━\u001b[0m\u001b[37m\u001b[0m \u001b[1m1s\u001b[0m 43ms/step\n"
          ]
        },
        {
          "output_type": "stream",
          "name": "stderr",
          "text": [
            "\rLSTM Forecasting:  91%|█████████ | 40/44 [14:29<01:09, 17.35s/it]/usr/local/lib/python3.11/dist-packages/keras/src/layers/rnn/rnn.py:200: UserWarning: Do not pass an `input_shape`/`input_dim` argument to a layer. When using Sequential models, prefer using an `Input(shape)` object as the first layer in the model instead.\n",
            "  super().__init__(**kwargs)\n"
          ]
        },
        {
          "output_type": "stream",
          "name": "stdout",
          "text": [
            "\u001b[1m7/7\u001b[0m \u001b[32m━━━━━━━━━━━━━━━━━━━━\u001b[0m\u001b[37m\u001b[0m \u001b[1m0s\u001b[0m 30ms/step\n"
          ]
        },
        {
          "output_type": "stream",
          "name": "stderr",
          "text": [
            "\rLSTM Forecasting:  93%|█████████▎| 41/44 [14:48<00:53, 17.83s/it]/usr/local/lib/python3.11/dist-packages/keras/src/layers/rnn/rnn.py:200: UserWarning: Do not pass an `input_shape`/`input_dim` argument to a layer. When using Sequential models, prefer using an `Input(shape)` object as the first layer in the model instead.\n",
            "  super().__init__(**kwargs)\n"
          ]
        },
        {
          "output_type": "stream",
          "name": "stdout",
          "text": [
            "\u001b[1m7/7\u001b[0m \u001b[32m━━━━━━━━━━━━━━━━━━━━\u001b[0m\u001b[37m\u001b[0m \u001b[1m0s\u001b[0m 32ms/step\n"
          ]
        },
        {
          "output_type": "stream",
          "name": "stderr",
          "text": [
            "\rLSTM Forecasting:  95%|█████████▌| 42/44 [15:00<00:32, 16.13s/it]/usr/local/lib/python3.11/dist-packages/keras/src/layers/rnn/rnn.py:200: UserWarning: Do not pass an `input_shape`/`input_dim` argument to a layer. When using Sequential models, prefer using an `Input(shape)` object as the first layer in the model instead.\n",
            "  super().__init__(**kwargs)\n"
          ]
        },
        {
          "output_type": "stream",
          "name": "stdout",
          "text": [
            "\u001b[1m7/7\u001b[0m \u001b[32m━━━━━━━━━━━━━━━━━━━━\u001b[0m\u001b[37m\u001b[0m \u001b[1m0s\u001b[0m 32ms/step\n"
          ]
        },
        {
          "output_type": "stream",
          "name": "stderr",
          "text": [
            "\rLSTM Forecasting:  98%|█████████▊| 43/44 [15:16<00:16, 16.01s/it]/usr/local/lib/python3.11/dist-packages/keras/src/layers/rnn/rnn.py:200: UserWarning: Do not pass an `input_shape`/`input_dim` argument to a layer. When using Sequential models, prefer using an `Input(shape)` object as the first layer in the model instead.\n",
            "  super().__init__(**kwargs)\n"
          ]
        },
        {
          "output_type": "stream",
          "name": "stdout",
          "text": [
            "\u001b[1m7/7\u001b[0m \u001b[32m━━━━━━━━━━━━━━━━━━━━\u001b[0m\u001b[37m\u001b[0m \u001b[1m0s\u001b[0m 32ms/step\n"
          ]
        },
        {
          "output_type": "stream",
          "name": "stderr",
          "text": [
            "LSTM Forecasting: 100%|██████████| 44/44 [15:38<00:00, 21.34s/it]\n"
          ]
        },
        {
          "output_type": "display_data",
          "data": {
            "text/plain": [
              "<Figure size 1200x600 with 1 Axes>"
            ],
            "image/png": "[encoded data removed]"
          },
          "metadata": {}
        },
        {
          "output_type": "stream",
          "name": "stdout",
          "text": [
            "LSTM Index Level RMSE with Finetuned FinBERT Non-Tech Sentiment: 268.45\n"
          ]
        }
      ]
    }
  ]
}